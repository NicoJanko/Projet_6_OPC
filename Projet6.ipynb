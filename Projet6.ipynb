{
 "cells": [
  {
   "cell_type": "code",
   "execution_count": 1,
   "id": "c4dc6bec-7409-4255-902d-718806555ffa",
   "metadata": {
    "tags": []
   },
   "outputs": [],
   "source": [
    "import pandas as pd\n",
    "pd.options.mode.chained_assignment = None  # default='warn'\n",
    "import numpy as np\n",
    "import matplotlib.pyplot as plt\n",
    "import missingno as msno\n",
    "import seaborn as sns\n",
    "import os"
   ]
  },
  {
   "cell_type": "code",
   "execution_count": 2,
   "id": "b3634dbe-0c4d-4110-bea7-1bf2305474e5",
   "metadata": {
    "tags": []
   },
   "outputs": [],
   "source": [
    "try:\n",
    "    path = 'E:\\\\Data_Science\\\\OpenClassRoom\\\\Projet 6\\\\Flipkart'\n",
    "    df=pd.read_csv(path + '\\\\flipkart_com-ecommerce_sample_1050.csv')\n",
    "except FileNotFoundError:\n",
    "    path = 'C:\\\\Users\\\\Nico Janko\\\\Documents\\\\Data_Science\\\\OpenClassRoom\\\\Projet 6\\\\Flipkart'\n",
    "    df = pd.read_csv(path + '\\\\flipkart_com-ecommerce_sample_1050.csv')"
   ]
  },
  {
   "cell_type": "code",
   "execution_count": 3,
   "id": "aa488210-0213-4819-b847-5d7f00314b47",
   "metadata": {
    "tags": []
   },
   "outputs": [
    {
     "name": "stdout",
     "output_type": "stream",
     "text": [
      "<class 'pandas.core.frame.DataFrame'>\n",
      "RangeIndex: 1050 entries, 0 to 1049\n",
      "Data columns (total 15 columns):\n",
      " #   Column                   Non-Null Count  Dtype  \n",
      "---  ------                   --------------  -----  \n",
      " 0   uniq_id                  1050 non-null   object \n",
      " 1   crawl_timestamp          1050 non-null   object \n",
      " 2   product_url              1050 non-null   object \n",
      " 3   product_name             1050 non-null   object \n",
      " 4   product_category_tree    1050 non-null   object \n",
      " 5   pid                      1050 non-null   object \n",
      " 6   retail_price             1049 non-null   float64\n",
      " 7   discounted_price         1049 non-null   float64\n",
      " 8   image                    1050 non-null   object \n",
      " 9   is_FK_Advantage_product  1050 non-null   bool   \n",
      " 10  description              1050 non-null   object \n",
      " 11  product_rating           1050 non-null   object \n",
      " 12  overall_rating           1050 non-null   object \n",
      " 13  brand                    712 non-null    object \n",
      " 14  product_specifications   1049 non-null   object \n",
      "dtypes: bool(1), float64(2), object(12)\n",
      "memory usage: 116.0+ KB\n"
     ]
    }
   ],
   "source": [
    "df.info()"
   ]
  },
  {
   "cell_type": "markdown",
   "id": "9ede0db3-7731-4e1b-b45e-fe8b3d533623",
   "metadata": {},
   "source": [
    "# EDA"
   ]
  },
  {
   "cell_type": "code",
   "execution_count": 4,
   "id": "447d7784-7b62-4f21-8a15-e82a4019a858",
   "metadata": {
    "tags": []
   },
   "outputs": [
    {
     "data": {
      "text/plain": [
       "0       Key Features of Elegance Polyester Multicolor ...\n",
       "1       Specifications of Sathiyas Cotton Bath Towel (...\n",
       "2       Key Features of Eurospa Cotton Terry Face Towe...\n",
       "3       Key Features of SANTOSH ROYAL FASHION Cotton P...\n",
       "4       Key Features of Jaipur Print Cotton Floral Kin...\n",
       "                              ...                        \n",
       "1045    Oren Empower Extra Large Self Adhesive Sticker...\n",
       "1046    Wallmantra Large Vinyl Sticker Sticker (Pack o...\n",
       "1047    Buy Uberlyfe Extra Large Pigmented Polyvinyl F...\n",
       "1048    Buy Wallmantra Medium Vinyl Sticker Sticker fo...\n",
       "1049    Buy Uberlyfe Large Vinyl Sticker for Rs.595 on...\n",
       "Name: description, Length: 1050, dtype: object"
      ]
     },
     "execution_count": 4,
     "metadata": {},
     "output_type": "execute_result"
    }
   ],
   "source": [
    "df['description']"
   ]
  },
  {
   "cell_type": "code",
   "execution_count": 5,
   "id": "166e0e25-a1b2-4f89-ab8d-e6b7dc65386b",
   "metadata": {
    "tags": []
   },
   "outputs": [
    {
     "name": "stdout",
     "output_type": "stream",
     "text": [
      "7\n",
      "63\n"
     ]
    }
   ],
   "source": [
    "df['product_category_0'] = df['product_category_tree'].apply(lambda x: x.split('>>')[0])\n",
    "print(df['product_category_0'].unique().shape[0])\n",
    "df['product_category_1'] = df['product_category_tree'].apply(lambda x: x.split('>>')[1])\n",
    "print(df['product_category_1'].unique().shape[0])"
   ]
  },
  {
   "cell_type": "code",
   "execution_count": 6,
   "id": "ffa11e08-a2ed-42ee-83b3-e65dc2358e92",
   "metadata": {
    "tags": []
   },
   "outputs": [
    {
     "name": "stdout",
     "output_type": "stream",
     "text": [
      "7 37\n"
     ]
    }
   ],
   "source": [
    "# select rows from categories with only 1 members\n",
    "idx = list(df.groupby('product_category_1').filter(lambda x: len(x) < 4).index)\n",
    "df = df.drop(index = idx)\n",
    "label_0_unique = df['product_category_0'].unique().shape[0]\n",
    "label_1_unique = df['product_category_1'].unique().shape[0]\n",
    "print(label_0_unique, label_1_unique)"
   ]
  },
  {
   "cell_type": "code",
   "execution_count": 7,
   "id": "70a5fe45-102c-466d-a7ef-9ee832a417f3",
   "metadata": {
    "tags": []
   },
   "outputs": [
    {
     "data": {
      "text/plain": [
       " Wrist Watches                   149\n",
       " Laptop Accessories               87\n",
       " Infant Wear                      84\n",
       " Coffee Mugs                      74\n",
       " Showpieces                       71\n",
       " Bed Linen                        65\n",
       " Fragrances                       65\n",
       " Network Components               49\n",
       " Cookware                         27\n",
       " Table Decor & Handicrafts        27\n",
       " Combos and Kits                  24\n",
       " Wall Decor & Clocks              22\n",
       " Bath Linen                       21\n",
       " Curtains & Accessories           19\n",
       " Makeup                           18\n",
       " Body and Skin Care               15\n",
       " Baby & Kids Gifts                15\n",
       " Baby Bedding                     15\n",
       " Kitchen & Dining Linen           14\n",
       " Baby Bath & Skin                 14\n",
       " Decorative Lighting & Lamps      14\n",
       " Kitchen Tools                    14\n",
       " Cushions, Pillows & Covers       13\n",
       " Containers & Bottles             13\n",
       " Hair Care                         9\n",
       " Bar & Glassware                   8\n",
       " Feeding & Nursing                 8\n",
       " Health Care                       7\n",
       " Lighting                          7\n",
       " Diapering & Potty Training        7\n",
       " Bath and Spa                      7\n",
       " Floor Coverings                   6\n",
       " Showpiece                         5\n",
       " Flowers, Plants & Vases           5\n",
       " Computer Peripherals              4\n",
       " Living                            4\n",
       " Baby Grooming                     4\n",
       "Name: product_category_1, dtype: int64"
      ]
     },
     "execution_count": 7,
     "metadata": {},
     "output_type": "execute_result"
    }
   ],
   "source": [
    "df['product_category_1'].value_counts()"
   ]
  },
  {
   "cell_type": "code",
   "execution_count": 8,
   "id": "004da212-46d2-4905-b62e-f6eede5ee828",
   "metadata": {
    "tags": []
   },
   "outputs": [],
   "source": [
    "from sklearn.preprocessing import LabelEncoder\n",
    "le = LabelEncoder()\n",
    "df['labels_0'] = le.fit_transform(df['product_category_0'])\n",
    "df['labels_1'] = le.fit_transform(df['product_category_1'])"
   ]
  },
  {
   "cell_type": "code",
   "execution_count": 9,
   "id": "262befd2-9286-4721-b59a-479e44e02fbd",
   "metadata": {
    "tags": []
   },
   "outputs": [
    {
     "name": "stdout",
     "output_type": "stream",
     "text": [
      "<class 'pandas.core.frame.DataFrame'>\n",
      "Int64Index: 1010 entries, 0 to 1049\n",
      "Data columns (total 19 columns):\n",
      " #   Column                   Non-Null Count  Dtype  \n",
      "---  ------                   --------------  -----  \n",
      " 0   uniq_id                  1010 non-null   object \n",
      " 1   crawl_timestamp          1010 non-null   object \n",
      " 2   product_url              1010 non-null   object \n",
      " 3   product_name             1010 non-null   object \n",
      " 4   product_category_tree    1010 non-null   object \n",
      " 5   pid                      1010 non-null   object \n",
      " 6   retail_price             1009 non-null   float64\n",
      " 7   discounted_price         1009 non-null   float64\n",
      " 8   image                    1010 non-null   object \n",
      " 9   is_FK_Advantage_product  1010 non-null   bool   \n",
      " 10  description              1010 non-null   object \n",
      " 11  product_rating           1010 non-null   object \n",
      " 12  overall_rating           1010 non-null   object \n",
      " 13  brand                    674 non-null    object \n",
      " 14  product_specifications   1009 non-null   object \n",
      " 15  product_category_0       1010 non-null   object \n",
      " 16  product_category_1       1010 non-null   object \n",
      " 17  labels_0                 1010 non-null   int32  \n",
      " 18  labels_1                 1010 non-null   int32  \n",
      "dtypes: bool(1), float64(2), int32(2), object(14)\n",
      "memory usage: 143.0+ KB\n"
     ]
    }
   ],
   "source": [
    "df.info()"
   ]
  },
  {
   "cell_type": "markdown",
   "id": "bcfd049b-6db3-47b7-b1fd-219e00b91130",
   "metadata": {
    "execution": {
     "iopub.execute_input": "2022-12-13T09:24:53.081513Z",
     "iopub.status.busy": "2022-12-13T09:24:53.081513Z",
     "iopub.status.idle": "2022-12-13T09:24:53.102513Z",
     "shell.execute_reply": "2022-12-13T09:24:53.102513Z",
     "shell.execute_reply.started": "2022-12-13T09:24:53.081513Z"
    },
    "tags": []
   },
   "source": [
    "# Text"
   ]
  },
  {
   "cell_type": "code",
   "execution_count": 83,
   "id": "a8a6f729-e3ab-4028-aaa9-87b82f790788",
   "metadata": {
    "tags": []
   },
   "outputs": [],
   "source": [
    "txt_df = df.iloc[:, [0, 10, 17, 18]]"
   ]
  },
  {
   "cell_type": "code",
   "execution_count": 84,
   "id": "6df0d65c-23c2-42a2-a29c-4eb8a58f0691",
   "metadata": {
    "tags": []
   },
   "outputs": [
    {
     "data": {
      "text/plain": [
       "<AxesSubplot:>"
      ]
     },
     "execution_count": 84,
     "metadata": {},
     "output_type": "execute_result"
    },
    {
     "data": {
      "image/png": "[encoded data removed]",
      "text/plain": [
       "<Figure size 1800x720 with 2 Axes>"
      ]
     },
     "metadata": {
      "needs_background": "light"
     },
     "output_type": "display_data"
    }
   ],
   "source": [
    "msno.matrix(txt_df)"
   ]
  },
  {
   "cell_type": "code",
   "execution_count": 85,
   "id": "53d5b16b-81d8-43cd-a8b9-8005623c5649",
   "metadata": {
    "tags": []
   },
   "outputs": [
    {
     "data": {
      "image/png": "[encoded data removed]",
      "text/plain": [
       "<Figure size 720x720 with 1 Axes>"
      ]
     },
     "metadata": {
      "needs_background": "light"
     },
     "output_type": "display_data"
    }
   ],
   "source": [
    "txt_df['lenght'] = txt_df['description'].apply(lambda x: len(x))\n",
    "txt_df['lenght'].describe()\n",
    "fig, ax = plt.subplots(figsize=(10, 10))\n",
    "sns.boxplot(data = txt_df['lenght'],\n",
    "            ax=ax\n",
    "           )\n",
    "ax.text(0.75,\n",
    "        0.8,\n",
    "        str(txt_df['lenght'].describe()),\n",
    "        transform=ax.transAxes\n",
    "        )\n",
    "plt.show()"
   ]
  },
  {
   "cell_type": "code",
   "execution_count": 86,
   "id": "b9d2d8aa-7546-4fa8-b51c-866a38976846",
   "metadata": {
    "tags": []
   },
   "outputs": [
    {
     "name": "stdout",
     "output_type": "stream",
     "text": [
      "84 8.316831683168317\n"
     ]
    },
    {
     "data": {
      "text/plain": [
       "'Key Features of Sunlast 16 inch Laptop Backpack Laptop Backpack with solar panel Comfortable back panel with air-flow design Adjustable sternum strap Large outer elasticated mesh side pocket and a top carry handle Padded and Adjustable shoulder straps Charge your mobile by solar power Mobile power backup option Long life Easy to use,Sunlast 16 inch Laptop Backpack (Yellow) Price: Rs. 2,348 The Sunlast New Laptop Backpack with Solar Panel ensures complete safety to your laptop with its high-quality built and wide range of built-in features. With the inside of this bag featuring a protective padding, you can be rest assured that the laptop inside it will be well cushioned from any accidental damage caused when you bump into any surface. As it is made of nylon, this laptop backpack can withstand abrasions and is long lasting. This Sunlast Backpack comes with a unique solar panel which allows you to charge your mobile phone anywhere anytime. This Sunlast Laptop backpack with solar panel is a great innovation in the field of mobile charging and other similar applications. This solar panel has USB output pins suitable for mobile phones. This is a great solar charger bag available at the best price. The best feature of this bag is its portability and durability. This solar charger is suitable for all smart phones and charging time depends on battery mAh. With this beautiful product, you can charge your phone in an eco-friendly way with no cost to you or the environment. Along with being durable, nylon also ensures that this backpack can survive rugged outdoor use, thus you can confidently wear this bag while you are out camping. This backpack is also water-resistant and keeps your laptop safe in wet and damp conditions. The Sunlast laptop backpack is perfect for your laptop. This backpack features top loading and can accommodate a large size laptop easily. It is a lightweight and comfortable laptop carry bag and comes with padded straps that distribute the weight evenly on your shoulders without stressing your back and shoulders. You can adjust the cushioned straps for a snug-fit. This Sunlast backpack is water resistant and protects your laptop and other accessories from water. It is made to suit all the styles and can be used by both college-goers and office-goers. It offers enough space for you to carry your essentials along with your laptop and its accessories. It features a zippered compartment that is big enough to hold your laptop. It also features one front pocket with an office organiser. You can use it to store the charger, mouse, pen drive, notepad, pen and other essentials. It features two mesh side pockets, where you can keep your water bottle or any other item for quick access. It is spacious enough to store your belongings on a one-day business trip as well. Buy this Sunlast backpack and carry your laptop and other accessories safely and in style.,Specifications of Sunlast 16 inch Laptop Backpack (Yellow) General Brand Sunlast Trolley No Expandable No Type Laptop Backpack Model Name L003 Yellow solar mobile charger Material Nylon Compatible Laptop Size 16 inch Style Code L003 Yellow Closure Type Zip Color Code Yellow Color Yellow Dimensions Exterior Width 350 mm Weight 820 g Exterior Height 450 mm In the Box Laptop Backpack With Solar Panel Body Features Hip Strap No Secret Security Compartment Yes Waterproof Yes Rain Cover No Shoulder Strap Adjustable Number of Compartments 4'"
      ]
     },
     "execution_count": 86,
     "metadata": {},
     "output_type": "execute_result"
    }
   ],
   "source": [
    "out = []\n",
    "q1 = txt_df['lenght'].quantile(0.25)\n",
    "q3 = txt_df['lenght'].quantile(0.75)\n",
    "interq = q3-q1\n",
    "out = txt_df.loc[(txt_df['lenght'] < (q1-1.5*interq)) | (txt_df['lenght'] > (q3+1.5*interq))]\n",
    "print(out.shape[0], out.shape[0]/txt_df.shape[0]*100)\n",
    "out.sort_values(by='lenght', ascending = False).iloc[1, 1]"
   ]
  },
  {
   "cell_type": "code",
   "execution_count": 87,
   "id": "8da11c3f-6747-4e06-8b90-353672c85870",
   "metadata": {
    "tags": []
   },
   "outputs": [
    {
     "data": {
      "text/plain": [
       "<spacy_language_detection.spacy_language_detector.LanguageDetector at 0x2242f79bee0>"
      ]
     },
     "execution_count": 87,
     "metadata": {},
     "output_type": "execute_result"
    }
   ],
   "source": [
    "# check if all the sentences are english\n",
    "from spacy_language_detection import LanguageDetector\n",
    "from spacy.language import Language\n",
    "import spacy\n",
    "\n",
    "def get_lang_detector(nlp, name):\n",
    "    return LanguageDetector(seed=38)\n",
    "nlp = spacy.load(\"en_core_web_sm\")\n",
    "Language.factory(\"language_detector\", func=get_lang_detector)\n",
    "nlp.add_pipe('language_detector', last=True)"
   ]
  },
  {
   "cell_type": "code",
   "execution_count": 88,
   "id": "a01169b3-293f-4e3e-8a84-8bee1d0f19e6",
   "metadata": {
    "tags": []
   },
   "outputs": [
    {
     "data": {
      "text/plain": [
       "array(['en', 'it'], dtype=object)"
      ]
     },
     "execution_count": 88,
     "metadata": {},
     "output_type": "execute_result"
    }
   ],
   "source": [
    "def lang_detect(x):\n",
    "    results = nlp(x)._.language\n",
    "    return results['language']\n",
    "\n",
    "txt_df['lang'] = txt_df['description'].apply(lambda x: lang_detect(x))\n",
    "txt_df['lang'].unique()"
   ]
  },
  {
   "cell_type": "code",
   "execution_count": 89,
   "id": "9dd3727f-6a84-4055-936d-46f31eccb284",
   "metadata": {
    "tags": []
   },
   "outputs": [],
   "source": [
    "idx = txt_df.loc[txt_df['lang'] == 'it'].index\n",
    "txt_df = txt_df.drop(index = idx)"
   ]
  },
  {
   "cell_type": "markdown",
   "id": "472dfe5c-5a76-4ff3-81eb-8337156bc045",
   "metadata": {},
   "source": [
    "## Preprocessing"
   ]
  },
  {
   "cell_type": "code",
   "execution_count": 90,
   "id": "71b629e0-8929-406f-94f8-331c60def133",
   "metadata": {
    "tags": []
   },
   "outputs": [
    {
     "name": "stderr",
     "output_type": "stream",
     "text": [
      "[nltk_data] Downloading package stopwords to C:\\Users\\Nico\n",
      "[nltk_data]     Janko\\AppData\\Roaming\\nltk_data...\n",
      "[nltk_data]   Package stopwords is already up-to-date!\n",
      "[nltk_data] Downloading package punkt to C:\\Users\\Nico\n",
      "[nltk_data]     Janko\\AppData\\Roaming\\nltk_data...\n",
      "[nltk_data]   Package punkt is already up-to-date!\n",
      "[nltk_data] Downloading package words to C:\\Users\\Nico\n",
      "[nltk_data]     Janko\\AppData\\Roaming\\nltk_data...\n",
      "[nltk_data]   Package words is already up-to-date!\n",
      "[nltk_data] Downloading package wordnet to C:\\Users\\Nico\n",
      "[nltk_data]     Janko\\AppData\\Roaming\\nltk_data...\n",
      "[nltk_data]   Package wordnet is already up-to-date!\n",
      "[nltk_data] Downloading package omw-1.4 to C:\\Users\\Nico\n",
      "[nltk_data]     Janko\\AppData\\Roaming\\nltk_data...\n",
      "[nltk_data]   Package omw-1.4 is already up-to-date!\n"
     ]
    },
    {
     "data": {
      "text/plain": [
       "True"
      ]
     },
     "execution_count": 90,
     "metadata": {},
     "output_type": "execute_result"
    }
   ],
   "source": [
    "import nltk \n",
    "import string\n",
    "nltk.download('stopwords')\n",
    "nltk.download('punkt')\n",
    "nltk.download('words')\n",
    "nltk.download('wordnet')\n",
    "nltk.download('omw-1.4')"
   ]
  },
  {
   "cell_type": "code",
   "execution_count": 95,
   "id": "e90483c0-ff29-49ed-9209-edb7dac1c051",
   "metadata": {
    "tags": []
   },
   "outputs": [],
   "source": [
    "words = set(nltk.corpus.words.words())\n",
    "stopwords = nltk.corpus.stopwords.words('english')\n",
    "lemmatizer = nltk.stem.WordNetLemmatizer()\n",
    "cust_word = ['buy',\n",
    "             'online',\n",
    "             'flipkat.com',\n",
    "             'discount',\n",
    "             'free',\n",
    "             'shipping',\n",
    "             'delivery',\n",
    "             'shipping',\n",
    "             'cash',\n",
    "             'product',\n",
    "             'replacement',\n",
    "             'guarantee',\n",
    "             'sale',\n",
    "             'genuine',\n",
    "             'content'\n",
    "             ]\n",
    "\n",
    "def prepro(x):\n",
    "    prepro_list = []\n",
    "    for sentence in x:\n",
    "        sent_wo_punc = \"\".join([i.lower() for i in sentence if i not in string.punctuation])\n",
    "        sent_wo_num = ''.join([i for i in sent_wo_punc if not i.isdigit()])\n",
    "        sent_token = nltk.tokenize.word_tokenize(sent_wo_num)\n",
    "        sent_token_wo_punc = [i for i in sent_token if i not in string.punctuation]\n",
    "        token_wo_stop = [i for i in sent_token_wo_punc if i not in stopwords]\n",
    "        token_wo_cust = [i for i in token_wo_stop if i not in cust_word]\n",
    "        lem = (lemmatizer.lemmatize(i) for i in token_wo_cust if i not in string.punctuation)\n",
    "        clean = ' '.join(i for i in lem if len(str(i)) > 2)\n",
    "        prepro_list.append(clean)\n",
    "    return prepro_list"
   ]
  },
  {
   "cell_type": "code",
   "execution_count": 96,
   "id": "522ff401-5b7b-453d-8d87-c3035d08d46c",
   "metadata": {
    "tags": []
   },
   "outputs": [],
   "source": [
    "sentence = txt_df['description'].sample()"
   ]
  },
  {
   "cell_type": "code",
   "execution_count": 97,
   "id": "4abe0ef3-80ec-4e6d-a316-70d9f1bb37d9",
   "metadata": {
    "tags": []
   },
   "outputs": [
    {
     "data": {
      "text/plain": [
       "'lal haveli wooden table decor mother baby elephant painted showpiece wooden black price gorgeous elephant fabulous home decor accessory indeed come golden black made metal give appeal splendor accessory replicate gift friend well gorgeous piece art give interior ethnic indian look gorgeous elephant fabulous home decor accessory indeed come golden black made metal give appeal splendor accessory replicate gift friend well gorgeous piece art give interior ethnic indian look'"
      ]
     },
     "execution_count": 97,
     "metadata": {},
     "output_type": "execute_result"
    }
   ],
   "source": [
    "\n",
    "sentence = txt_df['description'].sample()\n",
    "sent_wo_punc = \"\".join([i.lower() for i in sentence if i not in string.punctuation])\n",
    "sent_wo_num = ''.join([i for i in sent_wo_punc if not i.isdigit()])\n",
    "sent_token = nltk.tokenize.word_tokenize(sent_wo_num)\n",
    "sent_token_wo_punc = [i for i in sent_token if i not in string.punctuation]\n",
    "token_wo_stop = [i for i in sent_token_wo_punc if i not in stopwords]\n",
    "token_wo_cust = [i for i in token_wo_stop if i not in cust_word]\n",
    "lem = (lemmatizer.lemmatize(i) for i in token_wo_cust if i not in string.punctuation)\n",
    "clean = ' '.join(i for i in lem if len(str(i)) > 2)\n",
    "clean"
   ]
  },
  {
   "cell_type": "code",
   "execution_count": 98,
   "id": "96ed4571-c558-443c-90c1-ebfad9f87991",
   "metadata": {
    "tags": []
   },
   "outputs": [
    {
     "data": {
      "image/png": "[encoded data removed]",
      "text/plain": [
       "<Figure size 720x720 with 1 Axes>"
      ]
     },
     "metadata": {
      "needs_background": "light"
     },
     "output_type": "display_data"
    }
   ],
   "source": [
    "txt_df['description_clean'] = prepro(txt_df['description'])\n",
    "txt_df['lenght_clean'] = txt_df['description_clean'].apply(lambda x: len(x))\n",
    "fig, ax = plt.subplots(figsize=(10, 10))\n",
    "sns.boxplot(data = txt_df['lenght_clean'],\n",
    "            ax=ax\n",
    "           )\n",
    "ax.text(0.75,\n",
    "        0.8,\n",
    "        str(txt_df['lenght_clean'].describe()),\n",
    "        transform=ax.transAxes\n",
    "        )\n",
    "plt.show()"
   ]
  },
  {
   "cell_type": "code",
   "execution_count": 99,
   "id": "ccb713fa-90cc-4248-9e87-5043f67deb9f",
   "metadata": {
    "tags": []
   },
   "outputs": [],
   "source": [
    "idx = txt_df.sample().index\n",
    "txt_df = txt_df.drop(index = idx)"
   ]
  },
  {
   "cell_type": "markdown",
   "id": "be433df6-86a4-4d3b-9eb8-14f04fe58f64",
   "metadata": {},
   "source": [
    "## Bag of Words"
   ]
  },
  {
   "cell_type": "code",
   "execution_count": 100,
   "id": "e9ec5649-cd87-45f7-85eb-a869db06a30a",
   "metadata": {
    "tags": []
   },
   "outputs": [],
   "source": [
    "from sklearn.feature_extraction.text import CountVectorizer\n",
    "vectorizer = CountVectorizer(stop_words='english')\n",
    "bag_of_words = vectorizer.fit_transform(txt_df['description_clean'].tolist())"
   ]
  },
  {
   "cell_type": "code",
   "execution_count": 101,
   "id": "581af3ad-f271-4a82-8b7a-dae73f6b3e11",
   "metadata": {
    "tags": []
   },
   "outputs": [
    {
     "name": "stdout",
     "output_type": "stream",
     "text": [
      "The ari scores are 0.04617091372371191 for categorie 0 and 0.25825839618353824 for categorie 1.\n"
     ]
    }
   ],
   "source": [
    "from sklearn import cluster, metrics\n",
    "clus = cluster.KMeans(n_clusters = label_0_unique, random_state = 38)\n",
    "clus1 = cluster.KMeans(n_clusters = label_1_unique, random_state = 38)\n",
    "def ari_score(inputs):\n",
    "    clus.fit(inputs)\n",
    "    clus1.fit(inputs)\n",
    "    ari = metrics.adjusted_rand_score(np.array(txt_df['labels_0']),\n",
    "                                                 np.array(clus.labels_)\n",
    "                                                 )\n",
    "    ari1 = metrics.adjusted_rand_score(np.array(txt_df['labels_1']),\n",
    "                                                 np.array(clus1.labels_)\n",
    "                                                 )\n",
    "    print('The ari scores are {} for categorie 0 and {} for categorie 1.'.format(ari, ari1))\n",
    "ari_score(bag_of_words)"
   ]
  },
  {
   "cell_type": "markdown",
   "id": "67ad03c9-07e5-4f50-b252-7f4b18b6f36e",
   "metadata": {},
   "source": [
    "## Tf-Idf"
   ]
  },
  {
   "cell_type": "code",
   "execution_count": 102,
   "id": "ef9eb59e-0176-4c95-9ed9-975fe7a97b21",
   "metadata": {
    "tags": []
   },
   "outputs": [
    {
     "name": "stdout",
     "output_type": "stream",
     "text": [
      "The ari scores are 0.2550106842445894 for categorie 0 and 0.3382114507410535 for categorie 1.\n"
     ]
    }
   ],
   "source": [
    "from sklearn.feature_extraction.text import TfidfVectorizer\n",
    "tf_idf_vect = TfidfVectorizer(stop_words='english')\n",
    "tf_idf_matrix = tf_idf_vect.fit_transform(txt_df['description_clean'].tolist())\n",
    "clus.fit(tf_idf_matrix)\n",
    "clus1.fit(tf_idf_matrix)\n",
    "ari = metrics.adjusted_rand_score(np.array(txt_df['labels_0']),\n",
    "                                                 np.array(clus.labels_)\n",
    "                                                 )\n",
    "ari1 = metrics.adjusted_rand_score(np.array(txt_df['labels_1']),\n",
    "                                                 np.array(clus1.labels_)\n",
    "                                                 )\n",
    "print('The ari scores are {} for categorie 0 and {} for categorie 1.'.format(ari, ari1))"
   ]
  },
  {
   "cell_type": "markdown",
   "id": "62c6b539-fb4a-4138-bbab-e0391dcb6bc1",
   "metadata": {},
   "source": [
    "### n-gram"
   ]
  },
  {
   "cell_type": "code",
   "execution_count": 103,
   "id": "6d617700-b7ce-4b97-aad2-009835154669",
   "metadata": {
    "tags": []
   },
   "outputs": [
    {
     "name": "stdout",
     "output_type": "stream",
     "text": [
      "The ari scores for the 1-gram are 0.04617091372371191 for categorie 0 and 0.25825839618353824 for categorie 1.\n",
      "The ari scores for the 2-gram are 0.14703798250663794 for categorie 0 and 0.14189145118059301 for categorie 1.\n",
      "The ari scores for the 3-gram are 0.0009121017993824693 for categorie 0 and 0.1870207776484839 for categorie 1.\n",
      "The ari scores for the 4-gram are 0.004206217077951457 for categorie 0 and 0.008822462821450341 for categorie 1.\n",
      "The ari scores for the 5-gram are 0.003559046367936329 for categorie 0 and 0.010028389517804697 for categorie 1.\n"
     ]
    }
   ],
   "source": [
    "# Bag of words\n",
    "for i in range(1, 6):\n",
    "    vectorizer = CountVectorizer(stop_words='english', ngram_range=(i, i))\n",
    "    bag_of_words = vectorizer.fit_transform(txt_df['description_clean'].tolist())\n",
    "    clus.fit(bag_of_words)\n",
    "    clus1.fit(bag_of_words)\n",
    "    ari = metrics.adjusted_rand_score(np.array(txt_df['labels_0']),\n",
    "                                                 np.array(clus.labels_)\n",
    "                                                 )\n",
    "    ari1 = metrics.adjusted_rand_score(np.array(txt_df['labels_1']),\n",
    "                                                 np.array(clus1.labels_)\n",
    "                                                 )\n",
    "    print('The ari scores for the {}-gram are {} for categorie 0 and {} for categorie 1.'.format(i, ari, ari1))\n"
   ]
  },
  {
   "cell_type": "code",
   "execution_count": 104,
   "id": "25538b04-4d83-409f-a43b-09ade77aeb39",
   "metadata": {
    "tags": []
   },
   "outputs": [
    {
     "name": "stdout",
     "output_type": "stream",
     "text": [
      "The ari scores for the 1-gram are 0.2550106842445894 for categorie 0 and 0.3382114507410535 for categorie 1.\n",
      "The ari scores for the 2-gram are 0.1623059867151518 for categorie 0 and 0.26391700068540147 for categorie 1.\n",
      "The ari scores for the 3-gram are 0.1625472074082066 for categorie 0 and 0.19307958714707 for categorie 1.\n",
      "The ari scores for the 4-gram are 0.07889302731014662 for categorie 0 and 0.11282516690230354 for categorie 1.\n",
      "The ari scores for the 5-gram are 0.06375700380807554 for categorie 0 and 0.05736784436834239 for categorie 1.\n"
     ]
    }
   ],
   "source": [
    "# tf-idf\n",
    "for i in range(1,6):\n",
    "    tf_idf_vect = TfidfVectorizer(stop_words='english', ngram_range=(i, i))\n",
    "    tf_idf_matrix = tf_idf_vect.fit_transform(txt_df['description_clean'].tolist())\n",
    "    clus.fit(tf_idf_matrix)\n",
    "    clus1.fit(tf_idf_matrix)\n",
    "    ari = metrics.adjusted_rand_score(np.array(txt_df['labels_0']),\n",
    "                                                 np.array(clus.labels_)\n",
    "                                                 )\n",
    "    ari1 = metrics.adjusted_rand_score(np.array(txt_df['labels_1']),\n",
    "                                                 np.array(clus1.labels_)\n",
    "                                                 )\n",
    "    print('The ari scores for the {}-gram are {} for categorie 0 and {} for categorie 1.'.format(i, ari, ari1))"
   ]
  },
  {
   "cell_type": "code",
   "execution_count": 105,
   "id": "e49e6985-2acd-41df-aeb5-38bc26033755",
   "metadata": {
    "tags": []
   },
   "outputs": [
    {
     "name": "stdout",
     "output_type": "stream",
     "text": [
      "<class 'pandas.core.frame.DataFrame'>\n",
      "Int64Index: 1008 entries, 0 to 1049\n",
      "Data columns (total 8 columns):\n",
      " #   Column             Non-Null Count  Dtype \n",
      "---  ------             --------------  ----- \n",
      " 0   uniq_id            1008 non-null   object\n",
      " 1   description        1008 non-null   object\n",
      " 2   labels_0           1008 non-null   int32 \n",
      " 3   labels_1           1008 non-null   int32 \n",
      " 4   lenght             1008 non-null   int64 \n",
      " 5   lang               1008 non-null   object\n",
      " 6   description_clean  1008 non-null   object\n",
      " 7   lenght_clean       1008 non-null   int64 \n",
      "dtypes: int32(2), int64(2), object(4)\n",
      "memory usage: 63.0+ KB\n"
     ]
    }
   ],
   "source": [
    "txt_df.info()"
   ]
  },
  {
   "cell_type": "markdown",
   "id": "712380a0-994c-4294-9300-66a907440b41",
   "metadata": {},
   "source": [
    "## Word2Vec"
   ]
  },
  {
   "cell_type": "code",
   "execution_count": 106,
   "id": "69699740-2937-4b13-945f-480a884e8aeb",
   "metadata": {
    "tags": []
   },
   "outputs": [],
   "source": [
    "txt_df['description_token'] = txt_df['description_clean'].apply(lambda x: nltk.tokenize.word_tokenize(x))"
   ]
  },
  {
   "cell_type": "code",
   "execution_count": 107,
   "id": "c980f75a-8986-4bb5-868b-53f3cf60e66b",
   "metadata": {
    "tags": []
   },
   "outputs": [
    {
     "data": {
      "text/plain": [
       "(1111968, 1545460)"
      ]
     },
     "execution_count": 107,
     "metadata": {},
     "output_type": "execute_result"
    }
   ],
   "source": [
    "from gensim.models import Word2Vec\n",
    "model = Word2Vec(vector_size = 300)\n",
    "model.build_vocab(txt_df['description_token'].tolist())\n",
    "model.train(txt_df['description_token'].tolist(), total_examples=model.corpus_count, epochs=35)"
   ]
  },
  {
   "cell_type": "code",
   "execution_count": 108,
   "id": "b33f5f61-32a6-46d5-ac5b-f97622ead604",
   "metadata": {
    "tags": []
   },
   "outputs": [
    {
     "data": {
      "text/plain": [
       "1008"
      ]
     },
     "execution_count": 108,
     "metadata": {},
     "output_type": "execute_result"
    }
   ],
   "source": [
    "model.corpus_count"
   ]
  },
  {
   "cell_type": "code",
   "execution_count": 109,
   "id": "70179125-d4b8-4b35-922b-939ab3b6028c",
   "metadata": {
    "tags": []
   },
   "outputs": [],
   "source": [
    "vector = model.wv"
   ]
  },
  {
   "cell_type": "code",
   "execution_count": 110,
   "id": "b1f9af17-2021-4dbd-b17b-4aaf720ee438",
   "metadata": {
    "tags": []
   },
   "outputs": [
    {
     "data": {
      "text/plain": [
       "[('vibrantly', 0.790971577167511),\n",
       " ('pencil', 0.7888445854187012),\n",
       " ('lip', 0.7682384252548218),\n",
       " ('conditioner', 0.7650925517082214),\n",
       " ('oudh', 0.7416867017745972),\n",
       " ('bathing', 0.7392807602882385),\n",
       " ('smooth', 0.7340987324714661),\n",
       " ('arabic', 0.73250412940979),\n",
       " ('liner', 0.7233914136886597),\n",
       " ('deep', 0.7093926668167114)]"
      ]
     },
     "execution_count": 110,
     "metadata": {},
     "output_type": "execute_result"
    }
   ],
   "source": [
    "vector.most_similar(\"natural\")"
   ]
  },
  {
   "cell_type": "code",
   "execution_count": 111,
   "id": "73dff19e-748c-485c-adfa-01f82c0425a7",
   "metadata": {
    "tags": []
   },
   "outputs": [
    {
     "data": {
      "text/plain": [
       "[('keyboard', 0.9369423985481262),\n",
       " ('vacuum', 0.929826021194458),\n",
       " ('connect', 0.9287986159324646),\n",
       " ('cleaner', 0.906160831451416),\n",
       " ('desktop', 0.8902320265769958),\n",
       " ('device', 0.888642430305481),\n",
       " ('air', 0.8679739832878113),\n",
       " ('hdmi', 0.8605186343193054),\n",
       " ('port', 0.855383574962616),\n",
       " ('cleaning', 0.8481711745262146)]"
      ]
     },
     "execution_count": 111,
     "metadata": {},
     "output_type": "execute_result"
    }
   ],
   "source": [
    "vector.most_similar('computer')"
   ]
  },
  {
   "cell_type": "code",
   "execution_count": 112,
   "id": "f0e15b3b-1d5f-47cf-ac69-2097754eabf3",
   "metadata": {
    "tags": []
   },
   "outputs": [],
   "source": [
    "def get_mean(vectors, document):\n",
    "    # check if each token is in the vocab (min =5)\n",
    "    doc = [i for i in document if i in vectors.index_to_key]\n",
    "    mean = np.mean(vectors[doc], axis = 0)\n",
    "    return mean"
   ]
  },
  {
   "cell_type": "code",
   "execution_count": 113,
   "id": "2b367baa-2b98-4cb6-9fe5-f3a24e865d31",
   "metadata": {
    "tags": []
   },
   "outputs": [],
   "source": [
    "txt_df['embeded_doc'] = txt_df['description_token'].apply(lambda x: get_mean(vector, x))"
   ]
  },
  {
   "cell_type": "code",
   "execution_count": 114,
   "id": "d7a4bacd-ab8a-4657-822e-f78735f7c0f8",
   "metadata": {
    "tags": []
   },
   "outputs": [
    {
     "name": "stdout",
     "output_type": "stream",
     "text": [
      "The ari scores are 0.381467878222514 for categorie 0 and 0.4914867671740316 for categorie 1.\n"
     ]
    }
   ],
   "source": [
    "embeded_doc = pd.DataFrame(txt_df['embeded_doc'].tolist())\n",
    "clus.fit(embeded_doc)\n",
    "clus1.fit(embeded_doc)\n",
    "ari = metrics.adjusted_rand_score(np.array(txt_df['labels_0']),\n",
    "                                                 np.array(clus.labels_)\n",
    "                                                 )\n",
    "ari1 = metrics.adjusted_rand_score(np.array(txt_df['labels_1']),\n",
    "                                                 np.array(clus1.labels_)\n",
    "                                                 )\n",
    "print('The ari scores are {} for categorie 0 and {} for categorie 1.'.format(ari, ari1))"
   ]
  },
  {
   "cell_type": "code",
   "execution_count": 115,
   "id": "3ac24100-cb97-4cdd-90d3-822ebe4917ef",
   "metadata": {
    "tags": []
   },
   "outputs": [
    {
     "data": {
      "image/png": "[encoded data removed]",
      "text/plain": [
       "<Figure size 432x288 with 1 Axes>"
      ]
     },
     "metadata": {
      "needs_background": "light"
     },
     "output_type": "display_data"
    }
   ],
   "source": [
    "ari_l = []\n",
    "ari_l1 = []\n",
    "for i in np.arange(5,105,5):\n",
    "    model.train(txt_df['description_token'].tolist(), total_examples=model.corpus_count, epochs=i)\n",
    "    vector = model.wv\n",
    "    temp = txt_df['description_token'].apply(lambda x: get_mean(vector, x))\n",
    "    temp = pd.DataFrame(temp.tolist())\n",
    "    clus.fit(temp)\n",
    "    clus1.fit(temp)\n",
    "    ari_l.append(metrics.adjusted_rand_score(np.array(txt_df['labels_0']),\n",
    "                                                 np.array(clus.labels_)\n",
    "                                                 ))\n",
    "    ari_l1.append(metrics.adjusted_rand_score(np.array(txt_df['labels_1']),\n",
    "                                                 np.array(clus1.labels_)\n",
    "                                                 ))\n",
    "plt.plot(np.arange(5,105,5),ari_l)\n",
    "plt.plot(np.arange(5,105,5),ari_l1)\n",
    "plt.show()    "
   ]
  },
  {
   "cell_type": "markdown",
   "id": "9ac56681-d586-4a75-83ed-48e3d2e07183",
   "metadata": {},
   "source": [
    "### n-gram"
   ]
  },
  {
   "cell_type": "code",
   "execution_count": 116,
   "id": "079fb087-b1a8-413a-9e3f-d1000790c0e0",
   "metadata": {
    "tags": []
   },
   "outputs": [],
   "source": [
    "from gensim.models import phrases"
   ]
  },
  {
   "cell_type": "code",
   "execution_count": 117,
   "id": "6a263c0e-02db-4929-98a5-cd3f141704e8",
   "metadata": {
    "tags": []
   },
   "outputs": [
    {
     "data": {
      "text/plain": [
       "(155313, 220780)"
      ]
     },
     "execution_count": 117,
     "metadata": {},
     "output_type": "execute_result"
    }
   ],
   "source": [
    "bigrams = phrases.Phrases(txt_df['description_token'], threshold=10.0)\n",
    "model2 = Word2Vec(bigrams[txt_df['description_token']], vector_size = 300)\n",
    "model2.train(txt_df['description_token'], total_examples=model2.corpus_count, epochs=model2.epochs)"
   ]
  },
  {
   "cell_type": "code",
   "execution_count": 118,
   "id": "18b7ad40-af35-40a0-ade7-0f8cdb19b036",
   "metadata": {
    "tags": []
   },
   "outputs": [
    {
     "data": {
      "text/plain": [
       "[('flexible', 0.9990072846412659),\n",
       " ('check', 0.9989362955093384),\n",
       " ('panel', 0.9987263679504395),\n",
       " ('pro', 0.9986913204193115),\n",
       " ('image', 0.9985826015472412),\n",
       " ('pavilion', 0.9984871745109558),\n",
       " ('mobile', 0.9984779953956604),\n",
       " ('connect', 0.998339056968689),\n",
       " ('sunlast', 0.9983254671096802),\n",
       " ('rega', 0.9982787370681763)]"
      ]
     },
     "execution_count": 118,
     "metadata": {},
     "output_type": "execute_result"
    }
   ],
   "source": [
    "vector2 = model2.wv\n",
    "vector2.most_similar('computer')"
   ]
  },
  {
   "cell_type": "code",
   "execution_count": 119,
   "id": "5bdda3b8-e892-4198-be9b-544f79bb9ab5",
   "metadata": {
    "tags": []
   },
   "outputs": [
    {
     "name": "stdout",
     "output_type": "stream",
     "text": [
      "The ari scores are 0.2529850904428912 for categorie 0 and 0.2697750547517189 for categorie 1.\n"
     ]
    }
   ],
   "source": [
    "temp = txt_df['description_token'].apply(lambda x: get_mean(vector2, x))\n",
    "temp = pd.DataFrame(temp.tolist())\n",
    "clus.fit(temp)\n",
    "clus1.fit(temp)\n",
    "ari = metrics.adjusted_rand_score(np.array(txt_df['labels_0']),\n",
    "                                                 np.array(clus.labels_)\n",
    "                                                 )\n",
    "ari1 = metrics.adjusted_rand_score(np.array(txt_df['labels_1']),\n",
    "                                                 np.array(clus1.labels_)\n",
    "                                                 )\n",
    "print('The ari scores are {} for categorie 0 and {} for categorie 1.'.format(ari, ari1))"
   ]
  },
  {
   "cell_type": "code",
   "execution_count": 120,
   "id": "c7b6390a-4958-4634-b477-28a30d0f9e69",
   "metadata": {
    "tags": []
   },
   "outputs": [
    {
     "data": {
      "text/plain": [
       "0.7657992565055762"
      ]
     },
     "execution_count": 120,
     "metadata": {},
     "output_type": "execute_result"
    }
   ],
   "source": [
    "# test with a classifier \n",
    "import xgboost as xgb\n",
    "from sklearn.model_selection import train_test_split, GridSearchCV\n",
    "\n",
    "xgb_class = xgb.XGBClassifier()\n",
    "class_df = pd.DataFrame({'mean_wv': txt_df['description_token'].apply(lambda x: get_mean(vector2, x))})\n",
    "class_df = pd.DataFrame(class_df['mean_wv'].tolist())\n",
    "xtrain, xtest, ytrain, ytest = train_test_split(class_df, txt_df['labels_0'], test_size = 0.8, stratify = txt_df['labels_0'])\n",
    "\n",
    "xgb_class.fit(xtrain, ytrain)\n",
    "xgb_class.score(xtest, ytest)"
   ]
  },
  {
   "cell_type": "code",
   "execution_count": 121,
   "id": "66372aa5-a21f-4eef-adb0-8ce07c999f4e",
   "metadata": {
    "tags": []
   },
   "outputs": [
    {
     "data": {
      "image/png": "[encoded data removed]",
      "text/plain": [
       "<Figure size 432x288 with 1 Axes>"
      ]
     },
     "metadata": {
      "needs_background": "light"
     },
     "output_type": "display_data"
    }
   ],
   "source": [
    "ari_l = []\n",
    "ari_l1 = []\n",
    "for i in np.arange(5,125,5):\n",
    "    model2.train(txt_df['description_token'].tolist(), total_examples=model2.corpus_count, epochs=i)\n",
    "    vector2 = model2.wv\n",
    "    temp = txt_df['description_token'].apply(lambda x: get_mean(vector2, x))\n",
    "    temp = pd.DataFrame(temp.tolist())\n",
    "    clus.fit(temp)\n",
    "    clus1.fit(temp)\n",
    "    ari_l.append(metrics.adjusted_rand_score(np.array(txt_df['labels_0']),\n",
    "                                                 np.array(clus.labels_)\n",
    "                                                 ))\n",
    "    ari_l1.append(metrics.adjusted_rand_score(np.array(txt_df['labels_1']),\n",
    "                                                 np.array(clus1.labels_)\n",
    "                                                 ))\n",
    "plt.plot(np.arange(5,125,5),ari_l)\n",
    "plt.plot(np.arange(5,125,5),ari_l1)\n",
    "plt.show()   "
   ]
  },
  {
   "cell_type": "code",
   "execution_count": 122,
   "id": "516cf86b-aa0f-41da-a30f-8e47fecfdbfc",
   "metadata": {
    "tags": []
   },
   "outputs": [
    {
     "data": {
      "image/png": "[encoded data removed]",
      "text/plain": [
       "<Figure size 432x288 with 1 Axes>"
      ]
     },
     "metadata": {
      "needs_background": "light"
     },
     "output_type": "display_data"
    }
   ],
   "source": [
    "# test with skipgram instead of cbow\n",
    "model3 = Word2Vec(vector_size = 300,sg =1)\n",
    "model3.build_vocab(txt_df['description_token'].tolist())\n",
    "ari_l = []\n",
    "ari_l1 = []\n",
    "for i in np.arange(5,55,5):\n",
    "    model3.train(txt_df['description_token'].tolist(), total_examples=model2.corpus_count, epochs=i)\n",
    "    vector3 = model2.wv\n",
    "    temp = txt_df['description_token'].apply(lambda x: get_mean(vector3, x))\n",
    "    temp = pd.DataFrame(temp.tolist())\n",
    "    clus.fit(temp)\n",
    "    clus1.fit(temp)\n",
    "    ari_l.append(metrics.adjusted_rand_score(np.array(txt_df['labels_0']),\n",
    "                                                 np.array(clus.labels_)\n",
    "                                                 ))\n",
    "    ari_l1.append(metrics.adjusted_rand_score(np.array(txt_df['labels_1']),\n",
    "                                                 np.array(clus1.labels_)\n",
    "                                                 ))\n",
    "plt.plot(np.arange(5,55,5),ari_l)\n",
    "plt.plot(np.arange(5,55,5),ari_l1)\n",
    "plt.show()"
   ]
  },
  {
   "cell_type": "code",
   "execution_count": 123,
   "id": "a37c421b-a2a4-459a-b53d-152ee3f6d7d5",
   "metadata": {
    "tags": []
   },
   "outputs": [],
   "source": [
    "from gensim.models.doc2vec import Doc2Vec, TaggedDocument"
   ]
  },
  {
   "cell_type": "code",
   "execution_count": 124,
   "id": "9bfa74d9-497e-4937-b285-5eb0ccc8eb4d",
   "metadata": {
    "tags": []
   },
   "outputs": [
    {
     "data": {
      "image/png": "[encoded data removed]",
      "text/plain": [
       "<Figure size 432x288 with 1 Axes>"
      ]
     },
     "metadata": {
      "needs_background": "light"
     },
     "output_type": "display_data"
    }
   ],
   "source": [
    "\n",
    "tagged_txt = [TaggedDocument(d, [i]) for i, d in enumerate(txt_df['description_token'].tolist())]\n",
    "ari_l = []\n",
    "ari_l1 = []\n",
    "for i in np.arange(5,105,5):\n",
    "    model4 = Doc2Vec(tagged_txt, epochs = i, vector_size = 300)\n",
    "    temp = txt_df['description_token'].apply(lambda x: model4.infer_vector(x))\n",
    "    temp = pd.DataFrame(temp.tolist())\n",
    "    clus.fit(temp)\n",
    "    clus1.fit(temp)\n",
    "    ari_l.append(metrics.adjusted_rand_score(np.array(txt_df['labels_0']),\n",
    "                                                 np.array(clus.labels_)\n",
    "                                                 ))\n",
    "    ari_l1.append(metrics.adjusted_rand_score(np.array(txt_df['labels_1']),\n",
    "                                                 np.array(clus1.labels_)\n",
    "                                                 ))\n",
    "plt.plot(np.arange(5,105,5),ari_l)\n",
    "plt.plot(np.arange(5,105,5),ari_l1)\n",
    "plt.show()   "
   ]
  },
  {
   "cell_type": "markdown",
   "id": "4fbc0afa-d606-49a2-974a-1f98fc46d8fa",
   "metadata": {},
   "source": [
    "## BERT"
   ]
  },
  {
   "cell_type": "code",
   "execution_count": 125,
   "id": "37bb1f64-2fd2-48b0-a142-1d3062464c50",
   "metadata": {
    "tags": []
   },
   "outputs": [],
   "source": [
    "import tensorflow as tf\n",
    "import tensorflow_hub as hub\n",
    "import tensorflow_text as text"
   ]
  },
  {
   "cell_type": "code",
   "execution_count": 126,
   "id": "23be3670-70ca-4d37-95e7-88d1863177db",
   "metadata": {
    "tags": []
   },
   "outputs": [
    {
     "name": "stdout",
     "output_type": "stream",
     "text": [
      "WARNING:tensorflow:Please fix your imports. Module tensorflow.python.training.tracking.data_structures has been moved to tensorflow.python.trackable.data_structures. The old module will be deleted in version 2.11.\n"
     ]
    }
   ],
   "source": [
    "bert_preprocess = hub.KerasLayer(\"https://tfhub.dev/tensorflow/bert_en_uncased_preprocess/3\")\n",
    "bert_encoder = hub.KerasLayer(\"https://tfhub.dev/tensorflow/bert_en_uncased_L-12_H-768_A-12/4\")"
   ]
  },
  {
   "cell_type": "code",
   "execution_count": 127,
   "id": "8034056c-e93e-4197-8862-2f1bad39c678",
   "metadata": {
    "tags": []
   },
   "outputs": [],
   "source": [
    "text_input = tf.keras.layers.Input(shape=(), dtype=tf.string, name='text')\n",
    "preprocessed_text = bert_preprocess(text_input)\n",
    "outputs = bert_encoder(preprocessed_text)"
   ]
  },
  {
   "cell_type": "code",
   "execution_count": 128,
   "id": "decf457e-5d1e-4f47-85a0-3056bc6fc47e",
   "metadata": {
    "tags": []
   },
   "outputs": [
    {
     "name": "stderr",
     "output_type": "stream",
     "text": [
      "C:\\Users\\Nico Janko\\Documents\\Data_Science\\Anaconda\\lib\\site-packages\\transformers\\generation_tf_utils.py:24: FutureWarning: Importing `TFGenerationMixin` from `src/transformers/generation_tf_utils.py` is deprecated and will be removed in Transformers v5. Import as `from transformers import TFGenerationMixin` instead.\n",
      "  warnings.warn(\n"
     ]
    }
   ],
   "source": [
    "from tensorflow.keras.preprocessing.text import Tokenizer\n",
    "from tensorflow.keras.preprocessing.sequence import pad_sequences\n",
    "from tensorflow.keras import metrics as kmetrics\n",
    "from tensorflow.keras.layers import *\n",
    "from tensorflow.keras.models import Model\n",
    "import transformers \n",
    "from transformers import *"
   ]
  },
  {
   "cell_type": "code",
   "execution_count": 129,
   "id": "818118fa-3266-4f3d-953a-24650e74834b",
   "metadata": {
    "tags": []
   },
   "outputs": [],
   "source": [
    "# Hugging Face\n",
    "def bert_inp_fct(sentences, bert_tokenizer, max_length) :\n",
    "    input_ids=[]\n",
    "    token_type_ids = []\n",
    "    attention_mask=[]\n",
    "    bert_inp_tot = []\n",
    "\n",
    "    for sent in sentences:\n",
    "        bert_inp = bert_tokenizer.encode_plus(sent,\n",
    "                                              add_special_tokens = True,\n",
    "                                              max_length = max_length,\n",
    "                                              padding='max_length',\n",
    "                                              return_attention_mask = True, \n",
    "                                              return_token_type_ids=True,\n",
    "                                              truncation=True,\n",
    "                                              return_tensors=\"tf\")\n",
    "    \n",
    "        input_ids.append(bert_inp['input_ids'][0])\n",
    "        token_type_ids.append(bert_inp['token_type_ids'][0])\n",
    "        attention_mask.append(bert_inp['attention_mask'][0])\n",
    "        bert_inp_tot.append((bert_inp['input_ids'][0], \n",
    "                             bert_inp['token_type_ids'][0], \n",
    "                             bert_inp['attention_mask'][0]))\n",
    "\n",
    "    input_ids = np.asarray(input_ids)\n",
    "    token_type_ids = np.asarray(token_type_ids)\n",
    "    attention_mask = np.array(attention_mask)\n",
    "    \n",
    "    return input_ids, token_type_ids, attention_mask, bert_inp_tot\n",
    "    \n",
    "\n",
    "# Fonction de création des features\n",
    "def feature_BERT_fct(model, model_type, sentences, max_length, b_size, mode='HF') :\n",
    "    batch_size = b_size\n",
    "    batch_size_pred = b_size\n",
    "    bert_tokenizer = AutoTokenizer.from_pretrained(model_type)\n",
    "\n",
    "    for step in range(len(sentences)//batch_size) :\n",
    "        idx = step*batch_size\n",
    "        input_ids, token_type_ids, attention_mask, bert_inp_tot = bert_inp_fct(sentences[idx:idx+batch_size], \n",
    "                                                                      bert_tokenizer, max_length)\n",
    "        \n",
    "        if mode=='HF' :    # Bert HuggingFace\n",
    "            outputs = model.predict([input_ids, attention_mask, token_type_ids], batch_size=batch_size_pred)\n",
    "            last_hidden_states = outputs.last_hidden_state\n",
    "\n",
    "        if mode=='TFhub' : # Bert Tensorflow Hub\n",
    "            text_preprocessed = {\"input_word_ids\" : input_ids, \n",
    "                                 \"input_mask\" : attention_mask, \n",
    "                                 \"input_type_ids\" : token_type_ids}\n",
    "            outputs = model(text_preprocessed)\n",
    "            last_hidden_states = outputs['sequence_output']\n",
    "        if mode=='Fine_Tune':\n",
    "            outputs = model.predict([input_ids, attention_mask, token_type_ids], batch_size=batch_size_pred)\n",
    "            last_hidden_states = outputs.hidden_states[-1]\n",
    "             \n",
    "        if step ==0 :\n",
    "            last_hidden_states_tot = last_hidden_states\n",
    "            last_hidden_states_tot_0 = last_hidden_states\n",
    "        else :\n",
    "            last_hidden_states_tot = np.concatenate((last_hidden_states_tot,last_hidden_states))\n",
    "    \n",
    "    features_bert = np.array(last_hidden_states_tot).mean(axis=1)\n",
    "    \n",
    "     \n",
    "    return features_bert, last_hidden_states_tot"
   ]
  },
  {
   "cell_type": "code",
   "execution_count": 130,
   "id": "2d924b11-86bd-4de4-aac5-352c2460fc50",
   "metadata": {
    "tags": []
   },
   "outputs": [
    {
     "data": {
      "text/plain": [
       "1008"
      ]
     },
     "execution_count": 130,
     "metadata": {},
     "output_type": "execute_result"
    }
   ],
   "source": [
    "len(txt_df['description_clean'].tolist())"
   ]
  },
  {
   "cell_type": "code",
   "execution_count": 131,
   "id": "cd159d80-aa3e-41e6-9728-450844e28b60",
   "metadata": {
    "tags": []
   },
   "outputs": [
    {
     "name": "stderr",
     "output_type": "stream",
     "text": [
      "loading configuration file config.json from cache at C:\\Users\\Nico Janko/.cache\\huggingface\\hub\\models--bert-base-uncased\\snapshots\\0a6aa9128b6194f4f3c4db429b6cb4891cdb421b\\config.json\n",
      "Model config BertConfig {\n",
      "  \"_name_or_path\": \"bert-base-uncased\",\n",
      "  \"architectures\": [\n",
      "    \"BertForMaskedLM\"\n",
      "  ],\n",
      "  \"attention_probs_dropout_prob\": 0.1,\n",
      "  \"classifier_dropout\": null,\n",
      "  \"gradient_checkpointing\": false,\n",
      "  \"hidden_act\": \"gelu\",\n",
      "  \"hidden_dropout_prob\": 0.1,\n",
      "  \"hidden_size\": 768,\n",
      "  \"initializer_range\": 0.02,\n",
      "  \"intermediate_size\": 3072,\n",
      "  \"layer_norm_eps\": 1e-12,\n",
      "  \"max_position_embeddings\": 512,\n",
      "  \"model_type\": \"bert\",\n",
      "  \"num_attention_heads\": 12,\n",
      "  \"num_hidden_layers\": 12,\n",
      "  \"pad_token_id\": 0,\n",
      "  \"position_embedding_type\": \"absolute\",\n",
      "  \"transformers_version\": \"4.25.1\",\n",
      "  \"type_vocab_size\": 2,\n",
      "  \"use_cache\": true,\n",
      "  \"vocab_size\": 30522\n",
      "}\n",
      "\n",
      "loading weights file tf_model.h5 from cache at C:\\Users\\Nico Janko/.cache\\huggingface\\hub\\models--bert-base-uncased\\snapshots\\0a6aa9128b6194f4f3c4db429b6cb4891cdb421b\\tf_model.h5\n",
      "Some layers from the model checkpoint at bert-base-uncased were not used when initializing TFBertModel: ['mlm___cls', 'nsp___cls']\n",
      "- This IS expected if you are initializing TFBertModel from the checkpoint of a model trained on another task or with another architecture (e.g. initializing a BertForSequenceClassification model from a BertForPreTraining model).\n",
      "- This IS NOT expected if you are initializing TFBertModel from the checkpoint of a model that you expect to be exactly identical (initializing a BertForSequenceClassification model from a BertForSequenceClassification model).\n",
      "All the layers of TFBertModel were initialized from the model checkpoint at bert-base-uncased.\n",
      "If your task is similar to the task the model of the checkpoint was trained on, you can already use TFBertModel for predictions without further training.\n"
     ]
    }
   ],
   "source": [
    "max_length = 68\n",
    "batch_size = 8\n",
    "model_type = 'bert-base-uncased'\n",
    "model = TFAutoModel.from_pretrained(model_type)\n",
    "sentences = txt_df['description_clean'].tolist()"
   ]
  },
  {
   "cell_type": "code",
   "execution_count": 132,
   "id": "ee09e677-a687-41fb-af1c-2f47ded8e6c6",
   "metadata": {
    "tags": []
   },
   "outputs": [
    {
     "name": "stderr",
     "output_type": "stream",
     "text": [
      "loading configuration file config.json from cache at C:\\Users\\Nico Janko/.cache\\huggingface\\hub\\models--bert-base-uncased\\snapshots\\0a6aa9128b6194f4f3c4db429b6cb4891cdb421b\\config.json\n",
      "Model config BertConfig {\n",
      "  \"_name_or_path\": \"bert-base-uncased\",\n",
      "  \"architectures\": [\n",
      "    \"BertForMaskedLM\"\n",
      "  ],\n",
      "  \"attention_probs_dropout_prob\": 0.1,\n",
      "  \"classifier_dropout\": null,\n",
      "  \"gradient_checkpointing\": false,\n",
      "  \"hidden_act\": \"gelu\",\n",
      "  \"hidden_dropout_prob\": 0.1,\n",
      "  \"hidden_size\": 768,\n",
      "  \"initializer_range\": 0.02,\n",
      "  \"intermediate_size\": 3072,\n",
      "  \"layer_norm_eps\": 1e-12,\n",
      "  \"max_position_embeddings\": 512,\n",
      "  \"model_type\": \"bert\",\n",
      "  \"num_attention_heads\": 12,\n",
      "  \"num_hidden_layers\": 12,\n",
      "  \"pad_token_id\": 0,\n",
      "  \"position_embedding_type\": \"absolute\",\n",
      "  \"transformers_version\": \"4.25.1\",\n",
      "  \"type_vocab_size\": 2,\n",
      "  \"use_cache\": true,\n",
      "  \"vocab_size\": 30522\n",
      "}\n",
      "\n",
      "loading file vocab.txt from cache at C:\\Users\\Nico Janko/.cache\\huggingface\\hub\\models--bert-base-uncased\\snapshots\\0a6aa9128b6194f4f3c4db429b6cb4891cdb421b\\vocab.txt\n",
      "loading file tokenizer.json from cache at C:\\Users\\Nico Janko/.cache\\huggingface\\hub\\models--bert-base-uncased\\snapshots\\0a6aa9128b6194f4f3c4db429b6cb4891cdb421b\\tokenizer.json\n",
      "loading file added_tokens.json from cache at None\n",
      "loading file special_tokens_map.json from cache at None\n",
      "loading file tokenizer_config.json from cache at C:\\Users\\Nico Janko/.cache\\huggingface\\hub\\models--bert-base-uncased\\snapshots\\0a6aa9128b6194f4f3c4db429b6cb4891cdb421b\\tokenizer_config.json\n",
      "loading configuration file config.json from cache at C:\\Users\\Nico Janko/.cache\\huggingface\\hub\\models--bert-base-uncased\\snapshots\\0a6aa9128b6194f4f3c4db429b6cb4891cdb421b\\config.json\n",
      "Model config BertConfig {\n",
      "  \"_name_or_path\": \"bert-base-uncased\",\n",
      "  \"architectures\": [\n",
      "    \"BertForMaskedLM\"\n",
      "  ],\n",
      "  \"attention_probs_dropout_prob\": 0.1,\n",
      "  \"classifier_dropout\": null,\n",
      "  \"gradient_checkpointing\": false,\n",
      "  \"hidden_act\": \"gelu\",\n",
      "  \"hidden_dropout_prob\": 0.1,\n",
      "  \"hidden_size\": 768,\n",
      "  \"initializer_range\": 0.02,\n",
      "  \"intermediate_size\": 3072,\n",
      "  \"layer_norm_eps\": 1e-12,\n",
      "  \"max_position_embeddings\": 512,\n",
      "  \"model_type\": \"bert\",\n",
      "  \"num_attention_heads\": 12,\n",
      "  \"num_hidden_layers\": 12,\n",
      "  \"pad_token_id\": 0,\n",
      "  \"position_embedding_type\": \"absolute\",\n",
      "  \"transformers_version\": \"4.25.1\",\n",
      "  \"type_vocab_size\": 2,\n",
      "  \"use_cache\": true,\n",
      "  \"vocab_size\": 30522\n",
      "}\n",
      "\n"
     ]
    },
    {
     "name": "stdout",
     "output_type": "stream",
     "text": [
      "1/1 [==============================] - 11s 11s/step\n",
      "1/1 [==============================] - 1s 1s/step\n",
      "1/1 [==============================] - 1s 1s/step\n",
      "1/1 [==============================] - 1s 1s/step\n",
      "1/1 [==============================] - 1s 1s/step\n",
      "1/1 [==============================] - 1s 1s/step\n",
      "1/1 [==============================] - 1s 1s/step\n",
      "1/1 [==============================] - 1s 1s/step\n",
      "1/1 [==============================] - 1s 1s/step\n",
      "1/1 [==============================] - 1s 1s/step\n",
      "1/1 [==============================] - 1s 1s/step\n",
      "1/1 [==============================] - 1s 1s/step\n",
      "1/1 [==============================] - 1s 1s/step\n",
      "1/1 [==============================] - 1s 1s/step\n",
      "1/1 [==============================] - 1s 1s/step\n",
      "1/1 [==============================] - 1s 1s/step\n",
      "1/1 [==============================] - 1s 1s/step\n",
      "1/1 [==============================] - 1s 1s/step\n",
      "1/1 [==============================] - 1s 1s/step\n",
      "1/1 [==============================] - 1s 1s/step\n",
      "1/1 [==============================] - 1s 1s/step\n",
      "1/1 [==============================] - 1s 1s/step\n",
      "1/1 [==============================] - 1s 1s/step\n",
      "1/1 [==============================] - 1s 1s/step\n",
      "1/1 [==============================] - 1s 1s/step\n",
      "1/1 [==============================] - 1s 1s/step\n",
      "1/1 [==============================] - 1s 1s/step\n",
      "1/1 [==============================] - 1s 1s/step\n",
      "1/1 [==============================] - 1s 1s/step\n",
      "1/1 [==============================] - 1s 1s/step\n",
      "1/1 [==============================] - 1s 1s/step\n",
      "1/1 [==============================] - 1s 1s/step\n",
      "1/1 [==============================] - 1s 1s/step\n",
      "1/1 [==============================] - 1s 1s/step\n",
      "1/1 [==============================] - 1s 1s/step\n",
      "1/1 [==============================] - 1s 1s/step\n",
      "1/1 [==============================] - 1s 1s/step\n",
      "1/1 [==============================] - 1s 1s/step\n",
      "1/1 [==============================] - 1s 1s/step\n",
      "1/1 [==============================] - 1s 1s/step\n",
      "1/1 [==============================] - 1s 1s/step\n",
      "1/1 [==============================] - 1s 1s/step\n",
      "1/1 [==============================] - 1s 1s/step\n",
      "1/1 [==============================] - 1s 1s/step\n",
      "1/1 [==============================] - 1s 1s/step\n",
      "1/1 [==============================] - 1s 1s/step\n",
      "1/1 [==============================] - 1s 1s/step\n",
      "1/1 [==============================] - 1s 1s/step\n",
      "1/1 [==============================] - 1s 1s/step\n",
      "1/1 [==============================] - 1s 1s/step\n",
      "1/1 [==============================] - 1s 1s/step\n",
      "1/1 [==============================] - 1s 1s/step\n",
      "1/1 [==============================] - 1s 1s/step\n",
      "1/1 [==============================] - 1s 1s/step\n",
      "1/1 [==============================] - 1s 1s/step\n",
      "1/1 [==============================] - 1s 1s/step\n",
      "1/1 [==============================] - 1s 1s/step\n",
      "1/1 [==============================] - 1s 1s/step\n",
      "1/1 [==============================] - 1s 1s/step\n",
      "1/1 [==============================] - 1s 1s/step\n",
      "1/1 [==============================] - 1s 1s/step\n",
      "1/1 [==============================] - 1s 1s/step\n",
      "1/1 [==============================] - 1s 1s/step\n",
      "1/1 [==============================] - 1s 1s/step\n",
      "1/1 [==============================] - 1s 1s/step\n",
      "1/1 [==============================] - 1s 1s/step\n",
      "1/1 [==============================] - 1s 1s/step\n",
      "1/1 [==============================] - 1s 1s/step\n",
      "1/1 [==============================] - 1s 1s/step\n",
      "1/1 [==============================] - 1s 1s/step\n",
      "1/1 [==============================] - 1s 1s/step\n",
      "1/1 [==============================] - 2s 2s/step\n",
      "1/1 [==============================] - 1s 1s/step\n",
      "1/1 [==============================] - 2s 2s/step\n",
      "1/1 [==============================] - 1s 1s/step\n",
      "1/1 [==============================] - 2s 2s/step\n",
      "1/1 [==============================] - 1s 1s/step\n",
      "1/1 [==============================] - 2s 2s/step\n",
      "1/1 [==============================] - 2s 2s/step\n",
      "1/1 [==============================] - 1s 1s/step\n",
      "1/1 [==============================] - 1s 1s/step\n",
      "1/1 [==============================] - 1s 1s/step\n",
      "1/1 [==============================] - 1s 1s/step\n",
      "1/1 [==============================] - 1s 1s/step\n",
      "1/1 [==============================] - 1s 1s/step\n",
      "1/1 [==============================] - 1s 1s/step\n",
      "1/1 [==============================] - 1s 1s/step\n",
      "1/1 [==============================] - 1s 1s/step\n",
      "1/1 [==============================] - 1s 1s/step\n",
      "1/1 [==============================] - 1s 1s/step\n",
      "1/1 [==============================] - 1s 1s/step\n",
      "1/1 [==============================] - 1s 1s/step\n",
      "1/1 [==============================] - 1s 1s/step\n",
      "1/1 [==============================] - 1s 1s/step\n",
      "1/1 [==============================] - 1s 1s/step\n",
      "1/1 [==============================] - 1s 1s/step\n",
      "1/1 [==============================] - 1s 1s/step\n",
      "1/1 [==============================] - 1s 1s/step\n",
      "1/1 [==============================] - 1s 1s/step\n",
      "1/1 [==============================] - 1s 1s/step\n",
      "1/1 [==============================] - 1s 1s/step\n",
      "1/1 [==============================] - 1s 1s/step\n",
      "1/1 [==============================] - 1s 1s/step\n",
      "1/1 [==============================] - 1s 1s/step\n",
      "1/1 [==============================] - 1s 1s/step\n",
      "1/1 [==============================] - 1s 1s/step\n",
      "1/1 [==============================] - 1s 1s/step\n",
      "1/1 [==============================] - 1s 1s/step\n",
      "1/1 [==============================] - 1s 1s/step\n",
      "1/1 [==============================] - 1s 1s/step\n",
      "1/1 [==============================] - 1s 1s/step\n",
      "1/1 [==============================] - 1s 1s/step\n",
      "1/1 [==============================] - 1s 1s/step\n",
      "1/1 [==============================] - 1s 1s/step\n",
      "1/1 [==============================] - 1s 1s/step\n",
      "1/1 [==============================] - 1s 1s/step\n",
      "1/1 [==============================] - 1s 1s/step\n",
      "1/1 [==============================] - 1s 1s/step\n",
      "1/1 [==============================] - 1s 1s/step\n",
      "1/1 [==============================] - 1s 1s/step\n",
      "1/1 [==============================] - 1s 1s/step\n",
      "1/1 [==============================] - 1s 1s/step\n",
      "1/1 [==============================] - 1s 1s/step\n",
      "1/1 [==============================] - 1s 1s/step\n",
      "1/1 [==============================] - 1s 1s/step\n",
      "1/1 [==============================] - 1s 1s/step\n"
     ]
    }
   ],
   "source": [
    "# Création des features\n",
    "\n",
    "features_bert, last_hidden_states_tot = feature_BERT_fct(model, model_type, sentences, \n",
    "                                                         max_length, batch_size, mode='HF')"
   ]
  },
  {
   "cell_type": "code",
   "execution_count": 133,
   "id": "97ab6b51-0114-4514-80b3-ee253fa6331a",
   "metadata": {
    "tags": []
   },
   "outputs": [
    {
     "data": {
      "text/plain": [
       "(1008, 768)"
      ]
     },
     "execution_count": 133,
     "metadata": {},
     "output_type": "execute_result"
    }
   ],
   "source": [
    "features_bert.shape"
   ]
  },
  {
   "cell_type": "code",
   "execution_count": 134,
   "id": "8306e55e-c6bc-41a5-93c6-1dcccd03ecd8",
   "metadata": {
    "tags": []
   },
   "outputs": [
    {
     "name": "stdout",
     "output_type": "stream",
     "text": [
      "The ari scores are 0.34135876905803764 for categorie 0 and 0.3475569703870677 for categorie 1.\n"
     ]
    }
   ],
   "source": [
    "clus.fit(features_bert)\n",
    "clus1.fit(features_bert)\n",
    "ari = metrics.adjusted_rand_score(np.array(txt_df['labels_0']),\n",
    "                                                 np.array(clus.labels_)\n",
    "                                                 )\n",
    "ari1 = metrics.adjusted_rand_score(np.array(txt_df['labels_1']),\n",
    "                                                 np.array(clus1.labels_)\n",
    "                                                 )\n",
    "print('The ari scores are {} for categorie 0 and {} for categorie 1.'.format(ari, ari1))"
   ]
  },
  {
   "cell_type": "code",
   "execution_count": 135,
   "id": "07633a77-6bf9-4c4c-b558-da44e8dd4fcf",
   "metadata": {
    "tags": []
   },
   "outputs": [],
   "source": [
    "model_url = 'https://tfhub.dev/tensorflow/bert_en_uncased_L-12_H-768_A-12/4'\n",
    "bert_layer = hub.KerasLayer(model_url, trainable=True)"
   ]
  },
  {
   "cell_type": "code",
   "execution_count": 136,
   "id": "e7f7f1bd-1e91-44fc-9106-9d23cb90a304",
   "metadata": {
    "tags": []
   },
   "outputs": [
    {
     "name": "stderr",
     "output_type": "stream",
     "text": [
      "loading configuration file config.json from cache at C:\\Users\\Nico Janko/.cache\\huggingface\\hub\\models--bert-base-uncased\\snapshots\\0a6aa9128b6194f4f3c4db429b6cb4891cdb421b\\config.json\n",
      "Model config BertConfig {\n",
      "  \"_name_or_path\": \"bert-base-uncased\",\n",
      "  \"architectures\": [\n",
      "    \"BertForMaskedLM\"\n",
      "  ],\n",
      "  \"attention_probs_dropout_prob\": 0.1,\n",
      "  \"classifier_dropout\": null,\n",
      "  \"gradient_checkpointing\": false,\n",
      "  \"hidden_act\": \"gelu\",\n",
      "  \"hidden_dropout_prob\": 0.1,\n",
      "  \"hidden_size\": 768,\n",
      "  \"initializer_range\": 0.02,\n",
      "  \"intermediate_size\": 3072,\n",
      "  \"layer_norm_eps\": 1e-12,\n",
      "  \"max_position_embeddings\": 512,\n",
      "  \"model_type\": \"bert\",\n",
      "  \"num_attention_heads\": 12,\n",
      "  \"num_hidden_layers\": 12,\n",
      "  \"pad_token_id\": 0,\n",
      "  \"position_embedding_type\": \"absolute\",\n",
      "  \"transformers_version\": \"4.25.1\",\n",
      "  \"type_vocab_size\": 2,\n",
      "  \"use_cache\": true,\n",
      "  \"vocab_size\": 30522\n",
      "}\n",
      "\n",
      "loading file vocab.txt from cache at C:\\Users\\Nico Janko/.cache\\huggingface\\hub\\models--bert-base-uncased\\snapshots\\0a6aa9128b6194f4f3c4db429b6cb4891cdb421b\\vocab.txt\n",
      "loading file tokenizer.json from cache at C:\\Users\\Nico Janko/.cache\\huggingface\\hub\\models--bert-base-uncased\\snapshots\\0a6aa9128b6194f4f3c4db429b6cb4891cdb421b\\tokenizer.json\n",
      "loading file added_tokens.json from cache at None\n",
      "loading file special_tokens_map.json from cache at None\n",
      "loading file tokenizer_config.json from cache at C:\\Users\\Nico Janko/.cache\\huggingface\\hub\\models--bert-base-uncased\\snapshots\\0a6aa9128b6194f4f3c4db429b6cb4891cdb421b\\tokenizer_config.json\n",
      "loading configuration file config.json from cache at C:\\Users\\Nico Janko/.cache\\huggingface\\hub\\models--bert-base-uncased\\snapshots\\0a6aa9128b6194f4f3c4db429b6cb4891cdb421b\\config.json\n",
      "Model config BertConfig {\n",
      "  \"_name_or_path\": \"bert-base-uncased\",\n",
      "  \"architectures\": [\n",
      "    \"BertForMaskedLM\"\n",
      "  ],\n",
      "  \"attention_probs_dropout_prob\": 0.1,\n",
      "  \"classifier_dropout\": null,\n",
      "  \"gradient_checkpointing\": false,\n",
      "  \"hidden_act\": \"gelu\",\n",
      "  \"hidden_dropout_prob\": 0.1,\n",
      "  \"hidden_size\": 768,\n",
      "  \"initializer_range\": 0.02,\n",
      "  \"intermediate_size\": 3072,\n",
      "  \"layer_norm_eps\": 1e-12,\n",
      "  \"max_position_embeddings\": 512,\n",
      "  \"model_type\": \"bert\",\n",
      "  \"num_attention_heads\": 12,\n",
      "  \"num_hidden_layers\": 12,\n",
      "  \"pad_token_id\": 0,\n",
      "  \"position_embedding_type\": \"absolute\",\n",
      "  \"transformers_version\": \"4.25.1\",\n",
      "  \"type_vocab_size\": 2,\n",
      "  \"use_cache\": true,\n",
      "  \"vocab_size\": 30522\n",
      "}\n",
      "\n"
     ]
    }
   ],
   "source": [
    "max_length = 64\n",
    "batch_size = 8\n",
    "model_type = 'bert-base-uncased'\n",
    "model = bert_layer\n",
    "\n",
    "features_bert, last_hidden_states_tot = feature_BERT_fct(model, model_type, sentences, \n",
    "                                                         max_length, batch_size, mode='TFhub')"
   ]
  },
  {
   "cell_type": "code",
   "execution_count": 137,
   "id": "aadecdd7-9d8d-4354-8f66-3a0be33ebc92",
   "metadata": {
    "tags": []
   },
   "outputs": [
    {
     "name": "stdout",
     "output_type": "stream",
     "text": [
      "The ari scores are 0.3347526014910246 for categorie 0 and 0.39882242182204825 for categorie 1.\n"
     ]
    }
   ],
   "source": [
    "clus.fit(features_bert)\n",
    "clus1.fit(features_bert)\n",
    "ari = metrics.adjusted_rand_score(np.array(txt_df['labels_0']),\n",
    "                                                 np.array(clus.labels_)\n",
    "                                                 )\n",
    "ari1 = metrics.adjusted_rand_score(np.array(txt_df['labels_1']),\n",
    "                                                 np.array(clus1.labels_)\n",
    "                                                 )\n",
    "print('The ari scores are {} for categorie 0 and {} for categorie 1.'.format(ari, ari1))"
   ]
  },
  {
   "cell_type": "markdown",
   "id": "01ee7ef3-9ef9-401b-a5d2-8b5248882254",
   "metadata": {},
   "source": [
    "### Fine-Tune"
   ]
  },
  {
   "cell_type": "code",
   "execution_count": 138,
   "id": "44fd3527-bfe9-4c41-b333-24ff1bede369",
   "metadata": {
    "tags": []
   },
   "outputs": [
    {
     "name": "stderr",
     "output_type": "stream",
     "text": [
      "loading configuration file config.json from cache at C:\\Users\\Nico Janko/.cache\\huggingface\\hub\\models--bert-base-uncased\\snapshots\\0a6aa9128b6194f4f3c4db429b6cb4891cdb421b\\config.json\n",
      "Model config BertConfig {\n",
      "  \"_name_or_path\": \"bert-base-uncased\",\n",
      "  \"architectures\": [\n",
      "    \"BertForMaskedLM\"\n",
      "  ],\n",
      "  \"attention_probs_dropout_prob\": 0.1,\n",
      "  \"classifier_dropout\": null,\n",
      "  \"gradient_checkpointing\": false,\n",
      "  \"hidden_act\": \"gelu\",\n",
      "  \"hidden_dropout_prob\": 0.1,\n",
      "  \"hidden_size\": 768,\n",
      "  \"initializer_range\": 0.02,\n",
      "  \"intermediate_size\": 3072,\n",
      "  \"layer_norm_eps\": 1e-12,\n",
      "  \"max_position_embeddings\": 512,\n",
      "  \"model_type\": \"bert\",\n",
      "  \"num_attention_heads\": 12,\n",
      "  \"num_hidden_layers\": 12,\n",
      "  \"pad_token_id\": 0,\n",
      "  \"position_embedding_type\": \"absolute\",\n",
      "  \"transformers_version\": \"4.25.1\",\n",
      "  \"type_vocab_size\": 2,\n",
      "  \"use_cache\": true,\n",
      "  \"vocab_size\": 30522\n",
      "}\n",
      "\n",
      "loading file vocab.txt from cache at C:\\Users\\Nico Janko/.cache\\huggingface\\hub\\models--bert-base-uncased\\snapshots\\0a6aa9128b6194f4f3c4db429b6cb4891cdb421b\\vocab.txt\n",
      "loading file tokenizer.json from cache at C:\\Users\\Nico Janko/.cache\\huggingface\\hub\\models--bert-base-uncased\\snapshots\\0a6aa9128b6194f4f3c4db429b6cb4891cdb421b\\tokenizer.json\n",
      "loading file added_tokens.json from cache at None\n",
      "loading file special_tokens_map.json from cache at None\n",
      "loading file tokenizer_config.json from cache at C:\\Users\\Nico Janko/.cache\\huggingface\\hub\\models--bert-base-uncased\\snapshots\\0a6aa9128b6194f4f3c4db429b6cb4891cdb421b\\tokenizer_config.json\n",
      "loading configuration file config.json from cache at C:\\Users\\Nico Janko/.cache\\huggingface\\hub\\models--bert-base-uncased\\snapshots\\0a6aa9128b6194f4f3c4db429b6cb4891cdb421b\\config.json\n",
      "Model config BertConfig {\n",
      "  \"_name_or_path\": \"bert-base-uncased\",\n",
      "  \"architectures\": [\n",
      "    \"BertForMaskedLM\"\n",
      "  ],\n",
      "  \"attention_probs_dropout_prob\": 0.1,\n",
      "  \"classifier_dropout\": null,\n",
      "  \"gradient_checkpointing\": false,\n",
      "  \"hidden_act\": \"gelu\",\n",
      "  \"hidden_dropout_prob\": 0.1,\n",
      "  \"hidden_size\": 768,\n",
      "  \"initializer_range\": 0.02,\n",
      "  \"intermediate_size\": 3072,\n",
      "  \"layer_norm_eps\": 1e-12,\n",
      "  \"max_position_embeddings\": 512,\n",
      "  \"model_type\": \"bert\",\n",
      "  \"num_attention_heads\": 12,\n",
      "  \"num_hidden_layers\": 12,\n",
      "  \"pad_token_id\": 0,\n",
      "  \"position_embedding_type\": \"absolute\",\n",
      "  \"transformers_version\": \"4.25.1\",\n",
      "  \"type_vocab_size\": 2,\n",
      "  \"use_cache\": true,\n",
      "  \"vocab_size\": 30522\n",
      "}\n",
      "\n"
     ]
    }
   ],
   "source": [
    "# let's try to fine-tune this\n",
    "from tensorflow.keras.optimizers import Adam\n",
    "#tokenize\n",
    "bert_tokenizer = AutoTokenizer.from_pretrained('bert-base-uncased')\n",
    "max_length = 34\n",
    "doc_token = bert_tokenizer(sentences,max_length=max_length, padding = 'max_length', truncation = True, return_tensors=\"tf\", return_attention_mask = False, return_token_type_ids=False)"
   ]
  },
  {
   "cell_type": "code",
   "execution_count": 139,
   "id": "303299c7-fa2b-433b-a496-c1d6d1285ddf",
   "metadata": {
    "tags": []
   },
   "outputs": [],
   "source": [
    "temp = pd.DataFrame(sentences)\n",
    "def tokenize_dataset(data):\n",
    "    # Keys of the returned dictionary will be added to the dataset as columns\n",
    "    return bert_tokenizer(data[0])\n",
    "\n",
    "\n",
    "temp = temp.apply(tokenize_dataset)"
   ]
  },
  {
   "cell_type": "code",
   "execution_count": 140,
   "id": "9fcb1b8e-71b1-405e-982f-9f3f7d75baa1",
   "metadata": {
    "tags": []
   },
   "outputs": [
    {
     "name": "stderr",
     "output_type": "stream",
     "text": [
      "loading configuration file config.json from cache at C:\\Users\\Nico Janko/.cache\\huggingface\\hub\\models--bert-base-uncased\\snapshots\\0a6aa9128b6194f4f3c4db429b6cb4891cdb421b\\config.json\n",
      "Model config BertConfig {\n",
      "  \"_name_or_path\": \"bert-base-uncased\",\n",
      "  \"architectures\": [\n",
      "    \"BertForMaskedLM\"\n",
      "  ],\n",
      "  \"attention_probs_dropout_prob\": 0.1,\n",
      "  \"classifier_dropout\": null,\n",
      "  \"gradient_checkpointing\": false,\n",
      "  \"hidden_act\": \"gelu\",\n",
      "  \"hidden_dropout_prob\": 0.1,\n",
      "  \"hidden_size\": 768,\n",
      "  \"id2label\": {\n",
      "    \"0\": \"LABEL_0\",\n",
      "    \"1\": \"LABEL_1\",\n",
      "    \"2\": \"LABEL_2\",\n",
      "    \"3\": \"LABEL_3\",\n",
      "    \"4\": \"LABEL_4\",\n",
      "    \"5\": \"LABEL_5\",\n",
      "    \"6\": \"LABEL_6\",\n",
      "    \"7\": \"LABEL_7\",\n",
      "    \"8\": \"LABEL_8\",\n",
      "    \"9\": \"LABEL_9\",\n",
      "    \"10\": \"LABEL_10\",\n",
      "    \"11\": \"LABEL_11\",\n",
      "    \"12\": \"LABEL_12\",\n",
      "    \"13\": \"LABEL_13\",\n",
      "    \"14\": \"LABEL_14\",\n",
      "    \"15\": \"LABEL_15\",\n",
      "    \"16\": \"LABEL_16\",\n",
      "    \"17\": \"LABEL_17\",\n",
      "    \"18\": \"LABEL_18\",\n",
      "    \"19\": \"LABEL_19\",\n",
      "    \"20\": \"LABEL_20\",\n",
      "    \"21\": \"LABEL_21\",\n",
      "    \"22\": \"LABEL_22\",\n",
      "    \"23\": \"LABEL_23\",\n",
      "    \"24\": \"LABEL_24\",\n",
      "    \"25\": \"LABEL_25\",\n",
      "    \"26\": \"LABEL_26\",\n",
      "    \"27\": \"LABEL_27\",\n",
      "    \"28\": \"LABEL_28\",\n",
      "    \"29\": \"LABEL_29\",\n",
      "    \"30\": \"LABEL_30\",\n",
      "    \"31\": \"LABEL_31\",\n",
      "    \"32\": \"LABEL_32\",\n",
      "    \"33\": \"LABEL_33\",\n",
      "    \"34\": \"LABEL_34\",\n",
      "    \"35\": \"LABEL_35\",\n",
      "    \"36\": \"LABEL_36\",\n",
      "    \"37\": \"LABEL_37\",\n",
      "    \"38\": \"LABEL_38\",\n",
      "    \"39\": \"LABEL_39\",\n",
      "    \"40\": \"LABEL_40\",\n",
      "    \"41\": \"LABEL_41\",\n",
      "    \"42\": \"LABEL_42\",\n",
      "    \"43\": \"LABEL_43\",\n",
      "    \"44\": \"LABEL_44\",\n",
      "    \"45\": \"LABEL_45\",\n",
      "    \"46\": \"LABEL_46\"\n",
      "  },\n",
      "  \"initializer_range\": 0.02,\n",
      "  \"intermediate_size\": 3072,\n",
      "  \"label2id\": {\n",
      "    \"LABEL_0\": 0,\n",
      "    \"LABEL_1\": 1,\n",
      "    \"LABEL_10\": 10,\n",
      "    \"LABEL_11\": 11,\n",
      "    \"LABEL_12\": 12,\n",
      "    \"LABEL_13\": 13,\n",
      "    \"LABEL_14\": 14,\n",
      "    \"LABEL_15\": 15,\n",
      "    \"LABEL_16\": 16,\n",
      "    \"LABEL_17\": 17,\n",
      "    \"LABEL_18\": 18,\n",
      "    \"LABEL_19\": 19,\n",
      "    \"LABEL_2\": 2,\n",
      "    \"LABEL_20\": 20,\n",
      "    \"LABEL_21\": 21,\n",
      "    \"LABEL_22\": 22,\n",
      "    \"LABEL_23\": 23,\n",
      "    \"LABEL_24\": 24,\n",
      "    \"LABEL_25\": 25,\n",
      "    \"LABEL_26\": 26,\n",
      "    \"LABEL_27\": 27,\n",
      "    \"LABEL_28\": 28,\n",
      "    \"LABEL_29\": 29,\n",
      "    \"LABEL_3\": 3,\n",
      "    \"LABEL_30\": 30,\n",
      "    \"LABEL_31\": 31,\n",
      "    \"LABEL_32\": 32,\n",
      "    \"LABEL_33\": 33,\n",
      "    \"LABEL_34\": 34,\n",
      "    \"LABEL_35\": 35,\n",
      "    \"LABEL_36\": 36,\n",
      "    \"LABEL_37\": 37,\n",
      "    \"LABEL_38\": 38,\n",
      "    \"LABEL_39\": 39,\n",
      "    \"LABEL_4\": 4,\n",
      "    \"LABEL_40\": 40,\n",
      "    \"LABEL_41\": 41,\n",
      "    \"LABEL_42\": 42,\n",
      "    \"LABEL_43\": 43,\n",
      "    \"LABEL_44\": 44,\n",
      "    \"LABEL_45\": 45,\n",
      "    \"LABEL_46\": 46,\n",
      "    \"LABEL_5\": 5,\n",
      "    \"LABEL_6\": 6,\n",
      "    \"LABEL_7\": 7,\n",
      "    \"LABEL_8\": 8,\n",
      "    \"LABEL_9\": 9\n",
      "  },\n",
      "  \"layer_norm_eps\": 1e-12,\n",
      "  \"max_position_embeddings\": 512,\n",
      "  \"model_type\": \"bert\",\n",
      "  \"num_attention_heads\": 12,\n",
      "  \"num_hidden_layers\": 12,\n",
      "  \"output_hidden_states\": true,\n",
      "  \"pad_token_id\": 0,\n",
      "  \"position_embedding_type\": \"absolute\",\n",
      "  \"transformers_version\": \"4.25.1\",\n",
      "  \"type_vocab_size\": 2,\n",
      "  \"use_cache\": true,\n",
      "  \"vocab_size\": 30522\n",
      "}\n",
      "\n",
      "loading weights file tf_model.h5 from cache at C:\\Users\\Nico Janko/.cache\\huggingface\\hub\\models--bert-base-uncased\\snapshots\\0a6aa9128b6194f4f3c4db429b6cb4891cdb421b\\tf_model.h5\n",
      "All model checkpoint layers were used when initializing TFBertForSequenceClassification.\n",
      "\n",
      "Some layers of TFBertForSequenceClassification were not initialized from the model checkpoint at bert-base-uncased and are newly initialized: ['classifier']\n",
      "You should probably TRAIN this model on a down-stream task to be able to use it for predictions and inference.\n",
      "No loss specified in compile() - the model's internal loss computation will be used as the loss. Don't panic - this is a common way to train TensorFlow models in Transformers! To disable this behaviour please pass a loss argument, or explicitly pass `loss=None` if you do not want your model to compute a loss.\n"
     ]
    }
   ],
   "source": [
    "model_ft = TFAutoModelForSequenceClassification.from_pretrained(\"bert-base-uncased\", num_labels=47,output_hidden_states=True)\n",
    "model_ft.compile(optimizer=Adam(3e-5))\n"
   ]
  },
  {
   "cell_type": "code",
   "execution_count": 141,
   "id": "f6e8c1e3-bfb6-4808-957f-ef473c9fb05e",
   "metadata": {
    "tags": []
   },
   "outputs": [
    {
     "name": "stdout",
     "output_type": "stream",
     "text": [
      "32/32 [==============================] - 261s 7s/step - loss: 3.4250\n"
     ]
    },
    {
     "data": {
      "text/plain": [
       "<keras.callbacks.History at 0x22830c58fa0>"
      ]
     },
     "execution_count": 141,
     "metadata": {},
     "output_type": "execute_result"
    }
   ],
   "source": [
    "labels = np.array(txt_df['labels_1'])\n",
    "\n",
    "model_ft.fit(doc_token['input_ids'], labels)"
   ]
  },
  {
   "cell_type": "code",
   "execution_count": 142,
   "id": "40aea810-67b7-413b-bb4e-04a65ba1dd62",
   "metadata": {
    "tags": []
   },
   "outputs": [
    {
     "data": {
      "text/plain": [
       "'key feature elegance polyester multicolor abstract eyelet door curtain floral curtainelegance polyester multicolor abstract eyelet door curtain height pack price curtain enhances look interiorsthis curtain made high quality polyester fabricit feature eyelet style stitch metal ringit make room environment romantic lovingthis curtain ant wrinkle anti shrinkage elegant apparancegive home bright modernistic appeal design surreal attention sure steal heart contemporary eyelet valance curtain slide smoothly draw apart first thing morning welcome bright sun ray want wish good morning whole world draw close evening create special moment joyous beauty given soothing print bring home elegant curtain softly filter light room get right amount sunlightspecifications elegance polyester multicolor abstract eyelet door curtain height pack general brand elegance designed door type eyelet model name abstract polyester door curtain set model duster color multicolor dimension length box number content sale package pack sale package curtain body design material polyester'"
      ]
     },
     "execution_count": 142,
     "metadata": {},
     "output_type": "execute_result"
    }
   ],
   "source": [
    "sentences[0]"
   ]
  },
  {
   "cell_type": "code",
   "execution_count": 144,
   "id": "7edc8c7d-e837-4547-b000-53b0501bb717",
   "metadata": {
    "tags": []
   },
   "outputs": [
    {
     "name": "stderr",
     "output_type": "stream",
     "text": [
      "loading configuration file config.json from cache at C:\\Users\\Nico Janko/.cache\\huggingface\\hub\\models--bert-base-uncased\\snapshots\\0a6aa9128b6194f4f3c4db429b6cb4891cdb421b\\config.json\n",
      "Model config BertConfig {\n",
      "  \"_name_or_path\": \"bert-base-uncased\",\n",
      "  \"architectures\": [\n",
      "    \"BertForMaskedLM\"\n",
      "  ],\n",
      "  \"attention_probs_dropout_prob\": 0.1,\n",
      "  \"classifier_dropout\": null,\n",
      "  \"gradient_checkpointing\": false,\n",
      "  \"hidden_act\": \"gelu\",\n",
      "  \"hidden_dropout_prob\": 0.1,\n",
      "  \"hidden_size\": 768,\n",
      "  \"initializer_range\": 0.02,\n",
      "  \"intermediate_size\": 3072,\n",
      "  \"layer_norm_eps\": 1e-12,\n",
      "  \"max_position_embeddings\": 512,\n",
      "  \"model_type\": \"bert\",\n",
      "  \"num_attention_heads\": 12,\n",
      "  \"num_hidden_layers\": 12,\n",
      "  \"pad_token_id\": 0,\n",
      "  \"position_embedding_type\": \"absolute\",\n",
      "  \"transformers_version\": \"4.25.1\",\n",
      "  \"type_vocab_size\": 2,\n",
      "  \"use_cache\": true,\n",
      "  \"vocab_size\": 30522\n",
      "}\n",
      "\n",
      "loading file vocab.txt from cache at C:\\Users\\Nico Janko/.cache\\huggingface\\hub\\models--bert-base-uncased\\snapshots\\0a6aa9128b6194f4f3c4db429b6cb4891cdb421b\\vocab.txt\n",
      "loading file tokenizer.json from cache at C:\\Users\\Nico Janko/.cache\\huggingface\\hub\\models--bert-base-uncased\\snapshots\\0a6aa9128b6194f4f3c4db429b6cb4891cdb421b\\tokenizer.json\n",
      "loading file added_tokens.json from cache at None\n",
      "loading file special_tokens_map.json from cache at None\n",
      "loading file tokenizer_config.json from cache at C:\\Users\\Nico Janko/.cache\\huggingface\\hub\\models--bert-base-uncased\\snapshots\\0a6aa9128b6194f4f3c4db429b6cb4891cdb421b\\tokenizer_config.json\n",
      "loading configuration file config.json from cache at C:\\Users\\Nico Janko/.cache\\huggingface\\hub\\models--bert-base-uncased\\snapshots\\0a6aa9128b6194f4f3c4db429b6cb4891cdb421b\\config.json\n",
      "Model config BertConfig {\n",
      "  \"_name_or_path\": \"bert-base-uncased\",\n",
      "  \"architectures\": [\n",
      "    \"BertForMaskedLM\"\n",
      "  ],\n",
      "  \"attention_probs_dropout_prob\": 0.1,\n",
      "  \"classifier_dropout\": null,\n",
      "  \"gradient_checkpointing\": false,\n",
      "  \"hidden_act\": \"gelu\",\n",
      "  \"hidden_dropout_prob\": 0.1,\n",
      "  \"hidden_size\": 768,\n",
      "  \"initializer_range\": 0.02,\n",
      "  \"intermediate_size\": 3072,\n",
      "  \"layer_norm_eps\": 1e-12,\n",
      "  \"max_position_embeddings\": 512,\n",
      "  \"model_type\": \"bert\",\n",
      "  \"num_attention_heads\": 12,\n",
      "  \"num_hidden_layers\": 12,\n",
      "  \"pad_token_id\": 0,\n",
      "  \"position_embedding_type\": \"absolute\",\n",
      "  \"transformers_version\": \"4.25.1\",\n",
      "  \"type_vocab_size\": 2,\n",
      "  \"use_cache\": true,\n",
      "  \"vocab_size\": 30522\n",
      "}\n",
      "\n"
     ]
    },
    {
     "name": "stdout",
     "output_type": "stream",
     "text": [
      "134/134 [==============================] - 84s 626ms/step\n"
     ]
    },
    {
     "ename": "ResourceExhaustedError",
     "evalue": "{{function_node __wrapped__ConcatV2_N_134_device_/job:localhost/replica:0/task:0/device:CPU:0}} OOM when allocating tensor with shape[1066,34,768] and type float on /job:localhost/replica:0/task:0/device:CPU:0 by allocator cpu [Op:ConcatV2] name: concat",
     "output_type": "error",
     "traceback": [
      "\u001b[1;31m---------------------------------------------------------------------------\u001b[0m",
      "\u001b[1;31mResourceExhaustedError\u001b[0m                    Traceback (most recent call last)",
      "Input \u001b[1;32mIn [144]\u001b[0m, in \u001b[0;36m<cell line: 7>\u001b[1;34m()\u001b[0m\n\u001b[0;32m      2\u001b[0m max_length \u001b[38;5;241m=\u001b[39m \u001b[38;5;241m34\u001b[39m\n\u001b[0;32m      4\u001b[0m input_ids, token_type_ids, attention_mask, bert_inp_tot \u001b[38;5;241m=\u001b[39m bert_inp_fct(sentences[\u001b[38;5;241m0\u001b[39m], \n\u001b[0;32m      5\u001b[0m                                                                       bert_tokenizer, max_length)\n\u001b[1;32m----> 7\u001b[0m outputs \u001b[38;5;241m=\u001b[39m \u001b[43mmodel_ft\u001b[49m\u001b[38;5;241;43m.\u001b[39;49m\u001b[43mpredict\u001b[49m\u001b[43m(\u001b[49m\u001b[43m[\u001b[49m\u001b[43minput_ids\u001b[49m\u001b[43m,\u001b[49m\u001b[43m \u001b[49m\u001b[43mattention_mask\u001b[49m\u001b[43m,\u001b[49m\u001b[43m \u001b[49m\u001b[43mtoken_type_ids\u001b[49m\u001b[43m]\u001b[49m\u001b[43m,\u001b[49m\u001b[43m \u001b[49m\u001b[43mbatch_size\u001b[49m\u001b[38;5;241;43m=\u001b[39;49m\u001b[38;5;241;43m8\u001b[39;49m\u001b[43m)\u001b[49m\n",
      "File \u001b[1;32m~\\Documents\\Data_Science\\Anaconda\\lib\\site-packages\\keras\\utils\\traceback_utils.py:70\u001b[0m, in \u001b[0;36mfilter_traceback.<locals>.error_handler\u001b[1;34m(*args, **kwargs)\u001b[0m\n\u001b[0;32m     67\u001b[0m     filtered_tb \u001b[38;5;241m=\u001b[39m _process_traceback_frames(e\u001b[38;5;241m.\u001b[39m__traceback__)\n\u001b[0;32m     68\u001b[0m     \u001b[38;5;66;03m# To get the full stack trace, call:\u001b[39;00m\n\u001b[0;32m     69\u001b[0m     \u001b[38;5;66;03m# `tf.debugging.disable_traceback_filtering()`\u001b[39;00m\n\u001b[1;32m---> 70\u001b[0m     \u001b[38;5;28;01mraise\u001b[39;00m e\u001b[38;5;241m.\u001b[39mwith_traceback(filtered_tb) \u001b[38;5;28;01mfrom\u001b[39;00m \u001b[38;5;28mNone\u001b[39m\n\u001b[0;32m     71\u001b[0m \u001b[38;5;28;01mfinally\u001b[39;00m:\n\u001b[0;32m     72\u001b[0m     \u001b[38;5;28;01mdel\u001b[39;00m filtered_tb\n",
      "File \u001b[1;32m~\\AppData\\Roaming\\Python\\Python39\\site-packages\\tensorflow\\python\\framework\\ops.py:7209\u001b[0m, in \u001b[0;36mraise_from_not_ok_status\u001b[1;34m(e, name)\u001b[0m\n\u001b[0;32m   7207\u001b[0m \u001b[38;5;28;01mdef\u001b[39;00m \u001b[38;5;21mraise_from_not_ok_status\u001b[39m(e, name):\n\u001b[0;32m   7208\u001b[0m   e\u001b[38;5;241m.\u001b[39mmessage \u001b[38;5;241m+\u001b[39m\u001b[38;5;241m=\u001b[39m (\u001b[38;5;124m\"\u001b[39m\u001b[38;5;124m name: \u001b[39m\u001b[38;5;124m\"\u001b[39m \u001b[38;5;241m+\u001b[39m name \u001b[38;5;28;01mif\u001b[39;00m name \u001b[38;5;129;01mis\u001b[39;00m \u001b[38;5;129;01mnot\u001b[39;00m \u001b[38;5;28;01mNone\u001b[39;00m \u001b[38;5;28;01melse\u001b[39;00m \u001b[38;5;124m\"\u001b[39m\u001b[38;5;124m\"\u001b[39m)\n\u001b[1;32m-> 7209\u001b[0m   \u001b[38;5;28;01mraise\u001b[39;00m core\u001b[38;5;241m.\u001b[39m_status_to_exception(e) \u001b[38;5;28;01mfrom\u001b[39;00m \u001b[38;5;28mNone\u001b[39m\n",
      "\u001b[1;31mResourceExhaustedError\u001b[0m: {{function_node __wrapped__ConcatV2_N_134_device_/job:localhost/replica:0/task:0/device:CPU:0}} OOM when allocating tensor with shape[1066,34,768] and type float on /job:localhost/replica:0/task:0/device:CPU:0 by allocator cpu [Op:ConcatV2] name: concat"
     ]
    }
   ],
   "source": [
    "bert_tokenizer = AutoTokenizer.from_pretrained(\"bert-base-uncased\")\n",
    "max_length = 34\n",
    "\n",
    "input_ids, token_type_ids, attention_mask, bert_inp_tot = bert_inp_fct(sentences[0], \n",
    "                                                                      bert_tokenizer, max_length)\n",
    "\n",
    "outputs = model_ft.predict([input_ids, attention_mask, token_type_ids], batch_size=8)\n"
   ]
  },
  {
   "cell_type": "code",
   "execution_count": null,
   "id": "ad5f5099-b82e-4d15-81db-ae67644c40c6",
   "metadata": {
    "tags": []
   },
   "outputs": [],
   "source": [
    "outputs.hidden_states[-1][-1].shape"
   ]
  },
  {
   "cell_type": "code",
   "execution_count": null,
   "id": "df6f69bc-8eb7-4378-9f26-f5421dcbc5fe",
   "metadata": {
    "tags": []
   },
   "outputs": [],
   "source": [
    "len(sentences[0])"
   ]
  },
  {
   "cell_type": "code",
   "execution_count": null,
   "id": "8a61203b-07c4-4ab3-8621-6887ab8015c4",
   "metadata": {
    "tags": []
   },
   "outputs": [],
   "source": [
    "max_length = 64\n",
    "batch_size = 8\n",
    "model_type = 'bert-base-uncased'\n",
    "model = model_ft\n",
    "\n",
    "features_bert, last_hidden_states_tot = feature_BERT_fct(model, model_type, sentences, \n",
    "                                                         max_length, batch_size, mode='Fine_Tune')"
   ]
  },
  {
   "cell_type": "code",
   "execution_count": null,
   "id": "1ce9b8df-2365-498d-a2e3-b54e285f33bc",
   "metadata": {
    "tags": []
   },
   "outputs": [],
   "source": [
    "clus.fit(features_bert)\n",
    "clus1.fit(features_bert)\n",
    "ari = metrics.adjusted_rand_score(np.array(txt_df['labels_0']),\n",
    "                                                 np.array(clus.labels_)\n",
    "                                                 )\n",
    "ari1 = metrics.adjusted_rand_score(np.array(txt_df['labels_1']),\n",
    "                                                 np.array(clus1.labels_)\n",
    "                                                 )\n",
    "print('The ari scores are {} for categorie 0 and {} for categorie 1.'.format(ari, ari1))"
   ]
  },
  {
   "cell_type": "markdown",
   "id": "81659a3e-c8e6-47d3-985a-9100a8f210d9",
   "metadata": {},
   "source": [
    "## USE"
   ]
  },
  {
   "cell_type": "code",
   "execution_count": 145,
   "id": "954b673f-d202-4642-ad0a-fe4b4519d5f5",
   "metadata": {
    "tags": []
   },
   "outputs": [
    {
     "ename": "ResourceExhaustedError",
     "evalue": "{{function_node __wrapped__RestoreV2_dtypes_181_device_/job:localhost/replica:0/task:0/device:CPU:0}} OOM when allocating tensor with shape[26667,320] and type float on /job:localhost/replica:0/task:0/device:CPU:0 by allocator cpu [Op:RestoreV2]",
     "output_type": "error",
     "traceback": [
      "\u001b[1;31m---------------------------------------------------------------------------\u001b[0m",
      "\u001b[1;31mResourceExhaustedError\u001b[0m                    Traceback (most recent call last)",
      "Input \u001b[1;32mIn [145]\u001b[0m, in \u001b[0;36m<cell line: 1>\u001b[1;34m()\u001b[0m\n\u001b[1;32m----> 1\u001b[0m embed \u001b[38;5;241m=\u001b[39m \u001b[43mhub\u001b[49m\u001b[38;5;241;43m.\u001b[39;49m\u001b[43mload\u001b[49m\u001b[43m(\u001b[49m\u001b[38;5;124;43m\"\u001b[39;49m\u001b[38;5;124;43mhttps://tfhub.dev/google/universal-sentence-encoder/4\u001b[39;49m\u001b[38;5;124;43m\"\u001b[39;49m\u001b[43m)\u001b[49m\n",
      "File \u001b[1;32m~\\Documents\\Data_Science\\Anaconda\\lib\\site-packages\\tensorflow_hub\\module_v2.py:106\u001b[0m, in \u001b[0;36mload\u001b[1;34m(handle, tags, options)\u001b[0m\n\u001b[0;32m    103\u001b[0m   obj \u001b[38;5;241m=\u001b[39m tf\u001b[38;5;241m.\u001b[39mcompat\u001b[38;5;241m.\u001b[39mv1\u001b[38;5;241m.\u001b[39msaved_model\u001b[38;5;241m.\u001b[39mload_v2(\n\u001b[0;32m    104\u001b[0m       module_path, tags\u001b[38;5;241m=\u001b[39mtags, options\u001b[38;5;241m=\u001b[39moptions)\n\u001b[0;32m    105\u001b[0m \u001b[38;5;28;01melse\u001b[39;00m:\n\u001b[1;32m--> 106\u001b[0m   obj \u001b[38;5;241m=\u001b[39m \u001b[43mtf\u001b[49m\u001b[38;5;241;43m.\u001b[39;49m\u001b[43mcompat\u001b[49m\u001b[38;5;241;43m.\u001b[39;49m\u001b[43mv1\u001b[49m\u001b[38;5;241;43m.\u001b[39;49m\u001b[43msaved_model\u001b[49m\u001b[38;5;241;43m.\u001b[39;49m\u001b[43mload_v2\u001b[49m\u001b[43m(\u001b[49m\u001b[43mmodule_path\u001b[49m\u001b[43m,\u001b[49m\u001b[43m \u001b[49m\u001b[43mtags\u001b[49m\u001b[38;5;241;43m=\u001b[39;49m\u001b[43mtags\u001b[49m\u001b[43m)\u001b[49m\n\u001b[0;32m    107\u001b[0m obj\u001b[38;5;241m.\u001b[39m_is_hub_module_v1 \u001b[38;5;241m=\u001b[39m is_hub_module_v1  \u001b[38;5;66;03m# pylint: disable=protected-access\u001b[39;00m\n\u001b[0;32m    108\u001b[0m \u001b[38;5;28;01mreturn\u001b[39;00m obj\n",
      "File \u001b[1;32m~\\AppData\\Roaming\\Python\\Python39\\site-packages\\tensorflow\\python\\saved_model\\load.py:800\u001b[0m, in \u001b[0;36mload\u001b[1;34m(export_dir, tags, options)\u001b[0m\n\u001b[0;32m    798\u001b[0m \u001b[38;5;28;01mif\u001b[39;00m \u001b[38;5;28misinstance\u001b[39m(export_dir, os\u001b[38;5;241m.\u001b[39mPathLike):\n\u001b[0;32m    799\u001b[0m   export_dir \u001b[38;5;241m=\u001b[39m os\u001b[38;5;241m.\u001b[39mfspath(export_dir)\n\u001b[1;32m--> 800\u001b[0m result \u001b[38;5;241m=\u001b[39m \u001b[43mload_partial\u001b[49m\u001b[43m(\u001b[49m\u001b[43mexport_dir\u001b[49m\u001b[43m,\u001b[49m\u001b[43m \u001b[49m\u001b[38;5;28;43;01mNone\u001b[39;49;00m\u001b[43m,\u001b[49m\u001b[43m \u001b[49m\u001b[43mtags\u001b[49m\u001b[43m,\u001b[49m\u001b[43m \u001b[49m\u001b[43moptions\u001b[49m\u001b[43m)\u001b[49m[\u001b[38;5;124m\"\u001b[39m\u001b[38;5;124mroot\u001b[39m\u001b[38;5;124m\"\u001b[39m]\n\u001b[0;32m    801\u001b[0m \u001b[38;5;28;01mreturn\u001b[39;00m result\n",
      "File \u001b[1;32m~\\AppData\\Roaming\\Python\\Python39\\site-packages\\tensorflow\\python\\saved_model\\load.py:930\u001b[0m, in \u001b[0;36mload_partial\u001b[1;34m(export_dir, filters, tags, options)\u001b[0m\n\u001b[0;32m    928\u001b[0m \u001b[38;5;28;01mwith\u001b[39;00m ops\u001b[38;5;241m.\u001b[39minit_scope():\n\u001b[0;32m    929\u001b[0m   \u001b[38;5;28;01mtry\u001b[39;00m:\n\u001b[1;32m--> 930\u001b[0m     loader \u001b[38;5;241m=\u001b[39m \u001b[43mLoader\u001b[49m\u001b[43m(\u001b[49m\u001b[43mobject_graph_proto\u001b[49m\u001b[43m,\u001b[49m\u001b[43m \u001b[49m\u001b[43msaved_model_proto\u001b[49m\u001b[43m,\u001b[49m\u001b[43m \u001b[49m\u001b[43mexport_dir\u001b[49m\u001b[43m,\u001b[49m\n\u001b[0;32m    931\u001b[0m \u001b[43m                    \u001b[49m\u001b[43mckpt_options\u001b[49m\u001b[43m,\u001b[49m\u001b[43m \u001b[49m\u001b[43moptions\u001b[49m\u001b[43m,\u001b[49m\u001b[43m \u001b[49m\u001b[43mfilters\u001b[49m\u001b[43m)\u001b[49m\n\u001b[0;32m    932\u001b[0m   \u001b[38;5;28;01mexcept\u001b[39;00m errors\u001b[38;5;241m.\u001b[39mNotFoundError \u001b[38;5;28;01mas\u001b[39;00m err:\n\u001b[0;32m    933\u001b[0m     \u001b[38;5;28;01mraise\u001b[39;00m \u001b[38;5;167;01mFileNotFoundError\u001b[39;00m(\n\u001b[0;32m    934\u001b[0m         \u001b[38;5;28mstr\u001b[39m(err) \u001b[38;5;241m+\u001b[39m \u001b[38;5;124m\"\u001b[39m\u001b[38;5;130;01m\\n\u001b[39;00m\u001b[38;5;124m You may be trying to load on a different device \u001b[39m\u001b[38;5;124m\"\u001b[39m\n\u001b[0;32m    935\u001b[0m         \u001b[38;5;124m\"\u001b[39m\u001b[38;5;124mfrom the computational device. Consider setting the \u001b[39m\u001b[38;5;124m\"\u001b[39m\n\u001b[0;32m    936\u001b[0m         \u001b[38;5;124m\"\u001b[39m\u001b[38;5;124m`experimental_io_device` option in `tf.saved_model.LoadOptions` \u001b[39m\u001b[38;5;124m\"\u001b[39m\n\u001b[0;32m    937\u001b[0m         \u001b[38;5;124m\"\u001b[39m\u001b[38;5;124mto the io_device such as \u001b[39m\u001b[38;5;124m'\u001b[39m\u001b[38;5;124m/job:localhost\u001b[39m\u001b[38;5;124m'\u001b[39m\u001b[38;5;124m.\u001b[39m\u001b[38;5;124m\"\u001b[39m)\n",
      "File \u001b[1;32m~\\AppData\\Roaming\\Python\\Python39\\site-packages\\tensorflow\\python\\saved_model\\load.py:192\u001b[0m, in \u001b[0;36mLoader.__init__\u001b[1;34m(self, object_graph_proto, saved_model_proto, export_dir, ckpt_options, save_options, filters)\u001b[0m\n\u001b[0;32m    189\u001b[0m \u001b[38;5;28mself\u001b[39m\u001b[38;5;241m.\u001b[39m_load_all()\n\u001b[0;32m    191\u001b[0m \u001b[38;5;28;01mif\u001b[39;00m \u001b[38;5;129;01mnot\u001b[39;00m save_options\u001b[38;5;241m.\u001b[39mexperimental_skip_checkpoint:\n\u001b[1;32m--> 192\u001b[0m   \u001b[38;5;28;43mself\u001b[39;49m\u001b[38;5;241;43m.\u001b[39;49m\u001b[43m_restore_checkpoint\u001b[49m\u001b[43m(\u001b[49m\u001b[43m)\u001b[49m\n\u001b[0;32m    193\u001b[0m \u001b[38;5;28;01mfor\u001b[39;00m node \u001b[38;5;129;01min\u001b[39;00m \u001b[38;5;28mself\u001b[39m\u001b[38;5;241m.\u001b[39m_nodes:\n\u001b[0;32m    194\u001b[0m   \u001b[38;5;28;01mif\u001b[39;00m \u001b[38;5;28misinstance\u001b[39m(node, resource\u001b[38;5;241m.\u001b[39mCapturableResource):\n",
      "File \u001b[1;32m~\\AppData\\Roaming\\Python\\Python39\\site-packages\\tensorflow\\python\\saved_model\\load.py:510\u001b[0m, in \u001b[0;36mLoader._restore_checkpoint\u001b[1;34m(self)\u001b[0m\n\u001b[0;32m    508\u001b[0m   load_status\u001b[38;5;241m.\u001b[39massert_nontrivial_match()\n\u001b[0;32m    509\u001b[0m \u001b[38;5;28;01melse\u001b[39;00m:\n\u001b[1;32m--> 510\u001b[0m   load_status \u001b[38;5;241m=\u001b[39m \u001b[43msaver\u001b[49m\u001b[38;5;241;43m.\u001b[39;49m\u001b[43mrestore\u001b[49m\u001b[43m(\u001b[49m\u001b[43mvariables_path\u001b[49m\u001b[43m,\u001b[49m\u001b[43m \u001b[49m\u001b[38;5;28;43mself\u001b[39;49m\u001b[38;5;241;43m.\u001b[39;49m\u001b[43m_checkpoint_options\u001b[49m\u001b[43m)\u001b[49m\n\u001b[0;32m    511\u001b[0m   load_status\u001b[38;5;241m.\u001b[39massert_existing_objects_matched()\n\u001b[0;32m    512\u001b[0m ckpt \u001b[38;5;241m=\u001b[39m load_status\u001b[38;5;241m.\u001b[39m_checkpoint\n",
      "File \u001b[1;32m~\\AppData\\Roaming\\Python\\Python39\\site-packages\\tensorflow\\python\\checkpoint\\checkpoint.py:1494\u001b[0m, in \u001b[0;36mTrackableSaver.restore\u001b[1;34m(self, save_path, options)\u001b[0m\n\u001b[0;32m   1484\u001b[0m object_graph_proto\u001b[38;5;241m.\u001b[39mParseFromString(object_graph_string)\n\u001b[0;32m   1485\u001b[0m checkpoint \u001b[38;5;241m=\u001b[39m _CheckpointRestoreCoordinator(\n\u001b[0;32m   1486\u001b[0m     object_graph_proto\u001b[38;5;241m=\u001b[39mobject_graph_proto,\n\u001b[0;32m   1487\u001b[0m     save_path\u001b[38;5;241m=\u001b[39msave_path,\n\u001b[1;32m   (...)\u001b[0m\n\u001b[0;32m   1492\u001b[0m     options\u001b[38;5;241m=\u001b[39moptions,\n\u001b[0;32m   1493\u001b[0m     saveables_cache\u001b[38;5;241m=\u001b[39m\u001b[38;5;28mself\u001b[39m\u001b[38;5;241m.\u001b[39m_saveables_cache)\n\u001b[1;32m-> 1494\u001b[0m \u001b[43mrestore_lib\u001b[49m\u001b[38;5;241;43m.\u001b[39;49m\u001b[43mCheckpointPosition\u001b[49m\u001b[43m(\u001b[49m\n\u001b[0;32m   1495\u001b[0m \u001b[43m    \u001b[49m\u001b[43mcheckpoint\u001b[49m\u001b[38;5;241;43m=\u001b[39;49m\u001b[43mcheckpoint\u001b[49m\u001b[43m,\u001b[49m\u001b[43m \u001b[49m\u001b[43mproto_id\u001b[49m\u001b[38;5;241;43m=\u001b[39;49m\u001b[38;5;241;43m0\u001b[39;49m\u001b[43m)\u001b[49m\u001b[38;5;241;43m.\u001b[39;49m\u001b[43mrestore\u001b[49m\u001b[43m(\u001b[49m\u001b[38;5;28;43mself\u001b[39;49m\u001b[38;5;241;43m.\u001b[39;49m\u001b[43m_graph_view\u001b[49m\u001b[38;5;241;43m.\u001b[39;49m\u001b[43mroot\u001b[49m\u001b[43m)\u001b[49m\n\u001b[0;32m   1497\u001b[0m \u001b[38;5;66;03m# Attached dependencies are not attached to the root, so should be restored\u001b[39;00m\n\u001b[0;32m   1498\u001b[0m \u001b[38;5;66;03m# separately.\u001b[39;00m\n\u001b[0;32m   1499\u001b[0m \u001b[38;5;28;01mif\u001b[39;00m \u001b[38;5;28mself\u001b[39m\u001b[38;5;241m.\u001b[39m_graph_view\u001b[38;5;241m.\u001b[39mattached_dependencies:\n",
      "File \u001b[1;32m~\\AppData\\Roaming\\Python\\Python39\\site-packages\\tensorflow\\python\\checkpoint\\restore.py:55\u001b[0m, in \u001b[0;36mCheckpointPosition.restore\u001b[1;34m(self, trackable)\u001b[0m\n\u001b[0;32m     51\u001b[0m \u001b[38;5;28;01mwith\u001b[39;00m ops\u001b[38;5;241m.\u001b[39minit_scope():\n\u001b[0;32m     52\u001b[0m   \u001b[38;5;28;01mif\u001b[39;00m \u001b[38;5;28mself\u001b[39m\u001b[38;5;241m.\u001b[39mbind_object(trackable):\n\u001b[0;32m     53\u001b[0m     \u001b[38;5;66;03m# This object's correspondence with a checkpointed object is new, so\u001b[39;00m\n\u001b[0;32m     54\u001b[0m     \u001b[38;5;66;03m# process deferred restorations for it and its dependencies.\u001b[39;00m\n\u001b[1;32m---> 55\u001b[0m     restore_ops \u001b[38;5;241m=\u001b[39m \u001b[38;5;28;43mself\u001b[39;49m\u001b[38;5;241;43m.\u001b[39;49m\u001b[43m_restore_descendants\u001b[49m\u001b[43m(\u001b[49m\u001b[43m)\u001b[49m\n\u001b[0;32m     56\u001b[0m     \u001b[38;5;28;01mif\u001b[39;00m restore_ops:\n\u001b[0;32m     57\u001b[0m       \u001b[38;5;28mself\u001b[39m\u001b[38;5;241m.\u001b[39m_checkpoint\u001b[38;5;241m.\u001b[39mnew_restore_ops(restore_ops)\n",
      "File \u001b[1;32m~\\AppData\\Roaming\\Python\\Python39\\site-packages\\tensorflow\\python\\checkpoint\\restore.py:458\u001b[0m, in \u001b[0;36mCheckpointPosition._restore_descendants\u001b[1;34m(self)\u001b[0m\n\u001b[0;32m    454\u001b[0m   _queue_children_for_restoration(current_position, visit_queue)\n\u001b[0;32m    455\u001b[0m   _queue_slot_variables(current_position, visit_queue)\n\u001b[0;32m    457\u001b[0m restore_ops\u001b[38;5;241m.\u001b[39mextend(\n\u001b[1;32m--> 458\u001b[0m     \u001b[43mcurrent_position\u001b[49m\u001b[38;5;241;43m.\u001b[39;49m\u001b[43mcheckpoint\u001b[49m\u001b[38;5;241;43m.\u001b[39;49m\u001b[43mrestore_saveables\u001b[49m\u001b[43m(\u001b[49m\u001b[43mtensor_saveables\u001b[49m\u001b[43m,\u001b[49m\n\u001b[0;32m    459\u001b[0m \u001b[43m                                                  \u001b[49m\u001b[43mpython_positions\u001b[49m\u001b[43m,\u001b[49m\n\u001b[0;32m    460\u001b[0m \u001b[43m                                                  \u001b[49m\u001b[43mregistered_savers\u001b[49m\u001b[43m)\u001b[49m)\n\u001b[0;32m    461\u001b[0m \u001b[38;5;28;01mreturn\u001b[39;00m restore_ops\n",
      "File \u001b[1;32m~\\AppData\\Roaming\\Python\\Python39\\site-packages\\tensorflow\\python\\checkpoint\\checkpoint.py:352\u001b[0m, in \u001b[0;36m_CheckpointRestoreCoordinator.restore_saveables\u001b[1;34m(self, tensor_saveables, python_positions, registered_savers)\u001b[0m\n\u001b[0;32m    349\u001b[0m \u001b[38;5;28;01mif\u001b[39;00m tensor_saveables \u001b[38;5;129;01mor\u001b[39;00m registered_savers:\n\u001b[0;32m    350\u001b[0m   flat_saveables \u001b[38;5;241m=\u001b[39m saveable_object_util\u001b[38;5;241m.\u001b[39mvalidate_and_slice_inputs(\n\u001b[0;32m    351\u001b[0m       tensor_saveables)\n\u001b[1;32m--> 352\u001b[0m   new_restore_ops \u001b[38;5;241m=\u001b[39m \u001b[43mfunctional_saver\u001b[49m\u001b[38;5;241;43m.\u001b[39;49m\u001b[43mMultiDeviceSaver\u001b[49m\u001b[43m(\u001b[49m\n\u001b[0;32m    353\u001b[0m \u001b[43m      \u001b[49m\u001b[43mflat_saveables\u001b[49m\u001b[43m,\u001b[49m\n\u001b[0;32m    354\u001b[0m \u001b[43m      \u001b[49m\u001b[43mregistered_savers\u001b[49m\u001b[43m)\u001b[49m\u001b[38;5;241;43m.\u001b[39;49m\u001b[43mrestore\u001b[49m\u001b[43m(\u001b[49m\u001b[38;5;28;43mself\u001b[39;49m\u001b[38;5;241;43m.\u001b[39;49m\u001b[43msave_path_tensor\u001b[49m\u001b[43m,\u001b[49m\u001b[43m \u001b[49m\u001b[38;5;28;43mself\u001b[39;49m\u001b[38;5;241;43m.\u001b[39;49m\u001b[43moptions\u001b[49m\u001b[43m)\u001b[49m\n\u001b[0;32m    355\u001b[0m   \u001b[38;5;28;01mif\u001b[39;00m \u001b[38;5;129;01mnot\u001b[39;00m context\u001b[38;5;241m.\u001b[39mexecuting_eagerly():\n\u001b[0;32m    356\u001b[0m     \u001b[38;5;28;01mfor\u001b[39;00m name, restore_op \u001b[38;5;129;01min\u001b[39;00m \u001b[38;5;28msorted\u001b[39m(new_restore_ops\u001b[38;5;241m.\u001b[39mitems()):\n",
      "File \u001b[1;32m~\\AppData\\Roaming\\Python\\Python39\\site-packages\\tensorflow\\python\\checkpoint\\functional_saver.py:403\u001b[0m, in \u001b[0;36mMultiDeviceSaver.restore\u001b[1;34m(self, file_prefix, options)\u001b[0m\n\u001b[0;32m    401\u001b[0m   restore_ops \u001b[38;5;241m=\u001b[39m tf_function_restore()\n\u001b[0;32m    402\u001b[0m \u001b[38;5;28;01melse\u001b[39;00m:\n\u001b[1;32m--> 403\u001b[0m   restore_ops \u001b[38;5;241m=\u001b[39m \u001b[43mrestore_fn\u001b[49m\u001b[43m(\u001b[49m\u001b[43m)\u001b[49m\n\u001b[0;32m    405\u001b[0m \u001b[38;5;28;01mreturn\u001b[39;00m restore_ops\n",
      "File \u001b[1;32m~\\AppData\\Roaming\\Python\\Python39\\site-packages\\tensorflow\\python\\checkpoint\\functional_saver.py:385\u001b[0m, in \u001b[0;36mMultiDeviceSaver.restore.<locals>.restore_fn\u001b[1;34m()\u001b[0m\n\u001b[0;32m    383\u001b[0m \u001b[38;5;28;01mfor\u001b[39;00m device, saver \u001b[38;5;129;01min\u001b[39;00m \u001b[38;5;28msorted\u001b[39m(\u001b[38;5;28mself\u001b[39m\u001b[38;5;241m.\u001b[39m_single_device_savers\u001b[38;5;241m.\u001b[39mitems()):\n\u001b[0;32m    384\u001b[0m   \u001b[38;5;28;01mwith\u001b[39;00m ops\u001b[38;5;241m.\u001b[39mdevice(device):\n\u001b[1;32m--> 385\u001b[0m     restore_ops\u001b[38;5;241m.\u001b[39mupdate(\u001b[43msaver\u001b[49m\u001b[38;5;241;43m.\u001b[39;49m\u001b[43mrestore\u001b[49m\u001b[43m(\u001b[49m\u001b[43mfile_prefix\u001b[49m\u001b[43m,\u001b[49m\u001b[43m \u001b[49m\u001b[43moptions\u001b[49m\u001b[43m)\u001b[49m)\n\u001b[0;32m    386\u001b[0m \u001b[38;5;66;03m# Run registered restore methods after the default restore ops.\u001b[39;00m\n\u001b[0;32m    387\u001b[0m \u001b[38;5;28;01mfor\u001b[39;00m _, (_, restore_fn) \u001b[38;5;129;01min\u001b[39;00m \u001b[38;5;28mself\u001b[39m\u001b[38;5;241m.\u001b[39m_registered_savers\u001b[38;5;241m.\u001b[39mitems():\n",
      "File \u001b[1;32m~\\AppData\\Roaming\\Python\\Python39\\site-packages\\tensorflow\\python\\checkpoint\\functional_saver.py:104\u001b[0m, in \u001b[0;36m_SingleDeviceSaver.restore\u001b[1;34m(self, file_prefix, options)\u001b[0m\n\u001b[0;32m    102\u001b[0m restore_device \u001b[38;5;241m=\u001b[39m options\u001b[38;5;241m.\u001b[39mexperimental_io_device \u001b[38;5;129;01mor\u001b[39;00m \u001b[38;5;124m\"\u001b[39m\u001b[38;5;124mcpu:0\u001b[39m\u001b[38;5;124m\"\u001b[39m\n\u001b[0;32m    103\u001b[0m \u001b[38;5;28;01mwith\u001b[39;00m ops\u001b[38;5;241m.\u001b[39mdevice(restore_device):\n\u001b[1;32m--> 104\u001b[0m   restored_tensors \u001b[38;5;241m=\u001b[39m \u001b[43mio_ops\u001b[49m\u001b[38;5;241;43m.\u001b[39;49m\u001b[43mrestore_v2\u001b[49m\u001b[43m(\u001b[49m\n\u001b[0;32m    105\u001b[0m \u001b[43m      \u001b[49m\u001b[43mfile_prefix\u001b[49m\u001b[43m,\u001b[49m\u001b[43m \u001b[49m\u001b[43mtensor_names\u001b[49m\u001b[43m,\u001b[49m\u001b[43m \u001b[49m\u001b[43mtensor_slices\u001b[49m\u001b[43m,\u001b[49m\u001b[43m \u001b[49m\u001b[43mtensor_dtypes\u001b[49m\u001b[43m)\u001b[49m\n\u001b[0;32m    106\u001b[0m structured_restored_tensors \u001b[38;5;241m=\u001b[39m nest\u001b[38;5;241m.\u001b[39mpack_sequence_as(\n\u001b[0;32m    107\u001b[0m     tensor_structure, restored_tensors)\n\u001b[0;32m    108\u001b[0m restore_ops \u001b[38;5;241m=\u001b[39m {}\n",
      "File \u001b[1;32m~\\AppData\\Roaming\\Python\\Python39\\site-packages\\tensorflow\\python\\ops\\gen_io_ops.py:1505\u001b[0m, in \u001b[0;36mrestore_v2\u001b[1;34m(prefix, tensor_names, shape_and_slices, dtypes, name)\u001b[0m\n\u001b[0;32m   1503\u001b[0m   \u001b[38;5;28;01mpass\u001b[39;00m\n\u001b[0;32m   1504\u001b[0m \u001b[38;5;28;01mtry\u001b[39;00m:\n\u001b[1;32m-> 1505\u001b[0m   \u001b[38;5;28;01mreturn\u001b[39;00m \u001b[43mrestore_v2_eager_fallback\u001b[49m\u001b[43m(\u001b[49m\n\u001b[0;32m   1506\u001b[0m \u001b[43m      \u001b[49m\u001b[43mprefix\u001b[49m\u001b[43m,\u001b[49m\u001b[43m \u001b[49m\u001b[43mtensor_names\u001b[49m\u001b[43m,\u001b[49m\u001b[43m \u001b[49m\u001b[43mshape_and_slices\u001b[49m\u001b[43m,\u001b[49m\u001b[43m \u001b[49m\u001b[43mdtypes\u001b[49m\u001b[38;5;241;43m=\u001b[39;49m\u001b[43mdtypes\u001b[49m\u001b[43m,\u001b[49m\u001b[43m \u001b[49m\u001b[43mname\u001b[49m\u001b[38;5;241;43m=\u001b[39;49m\u001b[43mname\u001b[49m\u001b[43m,\u001b[49m\n\u001b[0;32m   1507\u001b[0m \u001b[43m      \u001b[49m\u001b[43mctx\u001b[49m\u001b[38;5;241;43m=\u001b[39;49m\u001b[43m_ctx\u001b[49m\u001b[43m)\u001b[49m\n\u001b[0;32m   1508\u001b[0m \u001b[38;5;28;01mexcept\u001b[39;00m _core\u001b[38;5;241m.\u001b[39m_SymbolicException:\n\u001b[0;32m   1509\u001b[0m   \u001b[38;5;28;01mpass\u001b[39;00m  \u001b[38;5;66;03m# Add nodes to the TensorFlow graph.\u001b[39;00m\n",
      "File \u001b[1;32m~\\AppData\\Roaming\\Python\\Python39\\site-packages\\tensorflow\\python\\ops\\gen_io_ops.py:1544\u001b[0m, in \u001b[0;36mrestore_v2_eager_fallback\u001b[1;34m(prefix, tensor_names, shape_and_slices, dtypes, name, ctx)\u001b[0m\n\u001b[0;32m   1542\u001b[0m _inputs_flat \u001b[38;5;241m=\u001b[39m [prefix, tensor_names, shape_and_slices]\n\u001b[0;32m   1543\u001b[0m _attrs \u001b[38;5;241m=\u001b[39m (\u001b[38;5;124m\"\u001b[39m\u001b[38;5;124mdtypes\u001b[39m\u001b[38;5;124m\"\u001b[39m, dtypes)\n\u001b[1;32m-> 1544\u001b[0m _result \u001b[38;5;241m=\u001b[39m \u001b[43m_execute\u001b[49m\u001b[38;5;241;43m.\u001b[39;49m\u001b[43mexecute\u001b[49m\u001b[43m(\u001b[49m\u001b[38;5;124;43mb\u001b[39;49m\u001b[38;5;124;43m\"\u001b[39;49m\u001b[38;5;124;43mRestoreV2\u001b[39;49m\u001b[38;5;124;43m\"\u001b[39;49m\u001b[43m,\u001b[49m\u001b[43m \u001b[49m\u001b[38;5;28;43mlen\u001b[39;49m\u001b[43m(\u001b[49m\u001b[43mdtypes\u001b[49m\u001b[43m)\u001b[49m\u001b[43m,\u001b[49m\u001b[43m \u001b[49m\u001b[43minputs\u001b[49m\u001b[38;5;241;43m=\u001b[39;49m\u001b[43m_inputs_flat\u001b[49m\u001b[43m,\u001b[49m\n\u001b[0;32m   1545\u001b[0m \u001b[43m                           \u001b[49m\u001b[43mattrs\u001b[49m\u001b[38;5;241;43m=\u001b[39;49m\u001b[43m_attrs\u001b[49m\u001b[43m,\u001b[49m\u001b[43m \u001b[49m\u001b[43mctx\u001b[49m\u001b[38;5;241;43m=\u001b[39;49m\u001b[43mctx\u001b[49m\u001b[43m,\u001b[49m\u001b[43m \u001b[49m\u001b[43mname\u001b[49m\u001b[38;5;241;43m=\u001b[39;49m\u001b[43mname\u001b[49m\u001b[43m)\u001b[49m\n\u001b[0;32m   1546\u001b[0m \u001b[38;5;28;01mif\u001b[39;00m _execute\u001b[38;5;241m.\u001b[39mmust_record_gradient():\n\u001b[0;32m   1547\u001b[0m   _execute\u001b[38;5;241m.\u001b[39mrecord_gradient(\n\u001b[0;32m   1548\u001b[0m       \u001b[38;5;124m\"\u001b[39m\u001b[38;5;124mRestoreV2\u001b[39m\u001b[38;5;124m\"\u001b[39m, _inputs_flat, _attrs, _result)\n",
      "File \u001b[1;32m~\\AppData\\Roaming\\Python\\Python39\\site-packages\\tensorflow\\python\\eager\\execute.py:54\u001b[0m, in \u001b[0;36mquick_execute\u001b[1;34m(op_name, num_outputs, inputs, attrs, ctx, name)\u001b[0m\n\u001b[0;32m     52\u001b[0m \u001b[38;5;28;01mtry\u001b[39;00m:\n\u001b[0;32m     53\u001b[0m   ctx\u001b[38;5;241m.\u001b[39mensure_initialized()\n\u001b[1;32m---> 54\u001b[0m   tensors \u001b[38;5;241m=\u001b[39m \u001b[43mpywrap_tfe\u001b[49m\u001b[38;5;241;43m.\u001b[39;49m\u001b[43mTFE_Py_Execute\u001b[49m\u001b[43m(\u001b[49m\u001b[43mctx\u001b[49m\u001b[38;5;241;43m.\u001b[39;49m\u001b[43m_handle\u001b[49m\u001b[43m,\u001b[49m\u001b[43m \u001b[49m\u001b[43mdevice_name\u001b[49m\u001b[43m,\u001b[49m\u001b[43m \u001b[49m\u001b[43mop_name\u001b[49m\u001b[43m,\u001b[49m\n\u001b[0;32m     55\u001b[0m \u001b[43m                                      \u001b[49m\u001b[43minputs\u001b[49m\u001b[43m,\u001b[49m\u001b[43m \u001b[49m\u001b[43mattrs\u001b[49m\u001b[43m,\u001b[49m\u001b[43m \u001b[49m\u001b[43mnum_outputs\u001b[49m\u001b[43m)\u001b[49m\n\u001b[0;32m     56\u001b[0m \u001b[38;5;28;01mexcept\u001b[39;00m core\u001b[38;5;241m.\u001b[39m_NotOkStatusException \u001b[38;5;28;01mas\u001b[39;00m e:\n\u001b[0;32m     57\u001b[0m   \u001b[38;5;28;01mif\u001b[39;00m name \u001b[38;5;129;01mis\u001b[39;00m \u001b[38;5;129;01mnot\u001b[39;00m \u001b[38;5;28;01mNone\u001b[39;00m:\n",
      "\u001b[1;31mResourceExhaustedError\u001b[0m: {{function_node __wrapped__RestoreV2_dtypes_181_device_/job:localhost/replica:0/task:0/device:CPU:0}} OOM when allocating tensor with shape[26667,320] and type float on /job:localhost/replica:0/task:0/device:CPU:0 by allocator cpu [Op:RestoreV2]"
     ]
    }
   ],
   "source": [
    "embed = hub.load(\"https://tfhub.dev/google/universal-sentence-encoder/4\")"
   ]
  },
  {
   "cell_type": "code",
   "execution_count": 71,
   "id": "161c15ca-75c1-4af5-8d9c-e132e0c742c8",
   "metadata": {
    "tags": []
   },
   "outputs": [],
   "source": [
    "def feature_USE_fct(sentences, b_size) :\n",
    "    batch_size = b_size\n",
    "\n",
    "    for step in range(len(sentences)//batch_size) :\n",
    "        idx = step*batch_size\n",
    "        feat = embed(sentences[idx:idx+batch_size])\n",
    "\n",
    "        if step ==0 :\n",
    "            features = feat\n",
    "        else :\n",
    "            features = np.concatenate((features,feat))\n",
    "\n",
    "    return features"
   ]
  },
  {
   "cell_type": "code",
   "execution_count": 72,
   "id": "86fcda42-0daf-4112-8a20-76097b4a040a",
   "metadata": {
    "tags": []
   },
   "outputs": [],
   "source": [
    "batch_size = 8\n",
    "features_USE = feature_USE_fct(sentences, batch_size)"
   ]
  },
  {
   "cell_type": "code",
   "execution_count": 73,
   "id": "e5488931-dc07-4142-8d22-684b52f396a0",
   "metadata": {
    "tags": []
   },
   "outputs": [
    {
     "name": "stdout",
     "output_type": "stream",
     "text": [
      "The ari scores are 0.3323283045229392 for categorie 0 and 0.3956824659798824 for categorie 1.\n"
     ]
    }
   ],
   "source": [
    "clus.fit(features_USE)\n",
    "clus1.fit(features_USE)\n",
    "ari = metrics.adjusted_rand_score(np.array(txt_df['labels_0']),\n",
    "                                                 np.array(clus.labels_)\n",
    "                                                 )\n",
    "ari1 = metrics.adjusted_rand_score(np.array(txt_df['labels_1']),\n",
    "                                                 np.array(clus1.labels_)\n",
    "                                                 )\n",
    "print('The ari scores are {} for categorie 0 and {} for categorie 1.'.format(ari, ari1))"
   ]
  },
  {
   "cell_type": "markdown",
   "id": "fce8cf77-ce92-4cc1-b37f-5623a8c5c0ca",
   "metadata": {},
   "source": [
    "## LDA"
   ]
  },
  {
   "cell_type": "code",
   "execution_count": 74,
   "id": "55a531f6-35b8-43fa-aa51-993551e0dcf2",
   "metadata": {
    "tags": []
   },
   "outputs": [
    {
     "data": {
      "text/plain": [
       "LatentDirichletAllocation(learning_offset=50.0, max_iter=5, n_components=7,\n",
       "                          random_state=0)"
      ]
     },
     "execution_count": 74,
     "metadata": {},
     "output_type": "execute_result"
    }
   ],
   "source": [
    "from sklearn.decomposition import LatentDirichletAllocation\n",
    "n_topics = label_1_unique\n",
    "\n",
    "# Créer le modèle LDA\n",
    "lda = LatentDirichletAllocation(\n",
    "        n_components=n_topics, \n",
    "        max_iter=5,  \n",
    "        learning_offset=50.,\n",
    "        random_state=0)\n",
    "\n",
    "# Fitter sur les données\n",
    "lda.fit(bag_of_words)"
   ]
  },
  {
   "cell_type": "code",
   "execution_count": 75,
   "id": "c84a5745-db9c-4908-98e2-b02cb8ce7830",
   "metadata": {
    "tags": []
   },
   "outputs": [
    {
     "data": {
      "text/plain": [
       "array(['aaa battery battery life hour',\n",
       "       'aapno rajasthan lovely jewellery vanity',\n",
       "       'aapno rajasthan marvel marble gold', ...,\n",
       "       'zyxel data card flipkartcom genuine',\n",
       "       'zyxel pla flipkartcom genuine product',\n",
       "       'zyxel vmgba vdsl wireless vdsl'], dtype=object)"
      ]
     },
     "execution_count": 75,
     "metadata": {},
     "output_type": "execute_result"
    }
   ],
   "source": [
    "vectorizer.get_feature_names_out()"
   ]
  },
  {
   "cell_type": "code",
   "execution_count": 76,
   "id": "d6eae2cf-2aba-4e56-8371-ad06fdef6176",
   "metadata": {
    "tags": []
   },
   "outputs": [
    {
     "name": "stdout",
     "output_type": "stream",
     "text": [
      "Topic 0:\n",
      "day replacement guarantee free shipping replacement guarantee free shipping cash guarantee free shipping cash delivery product day replacement guarantee free genuine product day replacement guarantee\n",
      "Topic 1:\n",
      "share mug like make great wide selection cute catchy design like make great gift mug gifting know break mug bring know break mug bring laugh\n",
      "Topic 2:\n",
      "number content sale package pack box number content sale package sale package pack sale package content sale package pack sale type mug mug capacity material\n",
      "Topic 3:\n",
      "laptop skin mouse pad combo skin mouse pad combo set genuine product day replacement guarantee number content sale package pack product day replacement guarantee free\n",
      "Topic 4:\n",
      "cash delivery genuine product day delivery genuine product day replacement free shipping cash delivery genuine shipping cash delivery genuine product price free shipping cash delivery\n",
      "Topic 5:\n",
      "flipkartcom genuine product free shipping product free shipping cash delivery genuine product free shipping cash multicolor flipkartcom genuine product free towel flipkartcom genuine product free\n",
      "Topic 6:\n",
      "creation rockmantra mug feature porcelain crafting ensuring design stay permanent perfect pick gift loved toodishwasher come making perfect pick gift design stay permanent year come\n"
     ]
    }
   ],
   "source": [
    "def display_topics(model, feature_names, no_top_words):\n",
    "    for topic_idx, topic in enumerate(model.components_):\n",
    "        print(\"Topic {}:\".format(topic_idx))\n",
    "        print(\" \".join([feature_names[i] for i in topic.argsort()[:-no_top_words - 1:-1]]))\n",
    "\n",
    "no_top_words = 5\n",
    "display_topics(lda, vectorizer.get_feature_names_out(), no_top_words)\n"
   ]
  },
  {
   "cell_type": "markdown",
   "id": "1b81f06a-583f-420b-81e3-f81e67852089",
   "metadata": {},
   "source": [
    "# Image"
   ]
  },
  {
   "cell_type": "code",
   "execution_count": 10,
   "id": "96d37139-86cc-40ed-9344-510eb1c42b33",
   "metadata": {
    "tags": []
   },
   "outputs": [],
   "source": [
    "from PIL import ImageOps\n",
    "from PIL import Image\n",
    "from PIL import ImageFilter"
   ]
  },
  {
   "cell_type": "code",
   "execution_count": 11,
   "id": "99573aed-3eb1-45d9-938a-a4999836fa3c",
   "metadata": {
    "tags": []
   },
   "outputs": [
    {
     "name": "stdout",
     "output_type": "stream",
     "text": [
      "<class 'pandas.core.frame.DataFrame'>\n",
      "RangeIndex: 1010 entries, 0 to 1009\n",
      "Data columns (total 4 columns):\n",
      " #   Column    Non-Null Count  Dtype \n",
      "---  ------    --------------  ----- \n",
      " 0   uniq_id   1010 non-null   object\n",
      " 1   image     1010 non-null   object\n",
      " 2   labels_0  1010 non-null   int32 \n",
      " 3   labels_1  1010 non-null   int32 \n",
      "dtypes: int32(2), object(2)\n",
      "memory usage: 23.8+ KB\n"
     ]
    }
   ],
   "source": [
    "img_df = df.iloc[:, [0, 8, 17, 18]].reset_index(drop=True)\n",
    "img_df.info()"
   ]
  },
  {
   "cell_type": "code",
   "execution_count": 12,
   "id": "731648c7-2cc7-4df1-924d-e1a20bce9663",
   "metadata": {
    "tags": []
   },
   "outputs": [
    {
     "data": {
      "text/html": [
       "<div>\n",
       "<style scoped>\n",
       "    .dataframe tbody tr th:only-of-type {\n",
       "        vertical-align: middle;\n",
       "    }\n",
       "\n",
       "    .dataframe tbody tr th {\n",
       "        vertical-align: top;\n",
       "    }\n",
       "\n",
       "    .dataframe thead th {\n",
       "        text-align: right;\n",
       "    }\n",
       "</style>\n",
       "<table border=\"1\" class=\"dataframe\">\n",
       "  <thead>\n",
       "    <tr style=\"text-align: right;\">\n",
       "      <th></th>\n",
       "      <th>uniq_id</th>\n",
       "      <th>image</th>\n",
       "      <th>labels_0</th>\n",
       "      <th>labels_1</th>\n",
       "    </tr>\n",
       "  </thead>\n",
       "  <tbody>\n",
       "    <tr>\n",
       "      <th>0</th>\n",
       "      <td>55b85ea15a1536d46b7190ad6fff8ce7</td>\n",
       "      <td>55b85ea15a1536d46b7190ad6fff8ce7.jpg</td>\n",
       "      <td>4</td>\n",
       "      <td>14</td>\n",
       "    </tr>\n",
       "    <tr>\n",
       "      <th>1</th>\n",
       "      <td>7b72c92c2f6c40268628ec5f14c6d590</td>\n",
       "      <td>7b72c92c2f6c40268628ec5f14c6d590.jpg</td>\n",
       "      <td>0</td>\n",
       "      <td>1</td>\n",
       "    </tr>\n",
       "    <tr>\n",
       "      <th>2</th>\n",
       "      <td>64d5d4a258243731dc7bbb1eef49ad74</td>\n",
       "      <td>64d5d4a258243731dc7bbb1eef49ad74.jpg</td>\n",
       "      <td>0</td>\n",
       "      <td>1</td>\n",
       "    </tr>\n",
       "    <tr>\n",
       "      <th>3</th>\n",
       "      <td>d4684dcdc759dd9cdf41504698d737d8</td>\n",
       "      <td>d4684dcdc759dd9cdf41504698d737d8.jpg</td>\n",
       "      <td>4</td>\n",
       "      <td>7</td>\n",
       "    </tr>\n",
       "    <tr>\n",
       "      <th>4</th>\n",
       "      <td>6325b6870c54cd47be6ebfbffa620ec7</td>\n",
       "      <td>6325b6870c54cd47be6ebfbffa620ec7.jpg</td>\n",
       "      <td>4</td>\n",
       "      <td>7</td>\n",
       "    </tr>\n",
       "  </tbody>\n",
       "</table>\n",
       "</div>"
      ],
      "text/plain": [
       "                            uniq_id                                 image  \\\n",
       "0  55b85ea15a1536d46b7190ad6fff8ce7  55b85ea15a1536d46b7190ad6fff8ce7.jpg   \n",
       "1  7b72c92c2f6c40268628ec5f14c6d590  7b72c92c2f6c40268628ec5f14c6d590.jpg   \n",
       "2  64d5d4a258243731dc7bbb1eef49ad74  64d5d4a258243731dc7bbb1eef49ad74.jpg   \n",
       "3  d4684dcdc759dd9cdf41504698d737d8  d4684dcdc759dd9cdf41504698d737d8.jpg   \n",
       "4  6325b6870c54cd47be6ebfbffa620ec7  6325b6870c54cd47be6ebfbffa620ec7.jpg   \n",
       "\n",
       "   labels_0  labels_1  \n",
       "0         4        14  \n",
       "1         0         1  \n",
       "2         0         1  \n",
       "3         4         7  \n",
       "4         4         7  "
      ]
     },
     "execution_count": 12,
     "metadata": {},
     "output_type": "execute_result"
    }
   ],
   "source": [
    "img_df.head()"
   ]
  },
  {
   "cell_type": "code",
   "execution_count": 26,
   "id": "c65dcd07-ca0a-4507-93a2-bdd020acf72b",
   "metadata": {
    "tags": []
   },
   "outputs": [
    {
     "name": "stderr",
     "output_type": "stream",
     "text": [
      "C:\\Users\\Nico Janko\\Documents\\Data_Science\\Anaconda\\lib\\site-packages\\PIL\\Image.py:3074: DecompressionBombWarning: Image size (93680328 pixels) exceeds limit of 89478485 pixels, could be decompression bomb DOS attack.\n",
      "  warnings.warn(\n"
     ]
    }
   ],
   "source": [
    "img_lib = {'image':[],\n",
    "        'img_array' : [],\n",
    "        'img_mode' : [],\n",
    "        'img_size' : [],\n",
    "        'img_width' : [],\n",
    "        'img_height' : []}\n",
    "Image.open(path+img_df.iloc[1,0])\n",
    "\n",
    "for i in img_df['image']:\n",
    "    img = Image.open(path+i)\n",
    "    img_lib['image'].append(i)\n",
    "    img_lib['img_array'].append(np.array(img))\n",
    "    img_lib['img_mode'].append(img.mode)\n",
    "    img_lib['img_width'].append(img.size[0])\n",
    "    img_lib['img_height'].append(img.size[1])\n",
    "    img_lib['img_size'].append(img.size)\n",
    "img_lib = pd.DataFrame(img_lib)\n",
    "\n",
    "    "
   ]
  },
  {
   "cell_type": "code",
   "execution_count": 34,
   "id": "02e42a5f-54ad-4fc5-95de-39c25aefa301",
   "metadata": {},
   "outputs": [
    {
     "name": "stdout",
     "output_type": "stream",
     "text": [
      "<class 'pandas.core.frame.DataFrame'>\n",
      "RangeIndex: 1010 entries, 0 to 1009\n",
      "Data columns (total 6 columns):\n",
      " #   Column      Non-Null Count  Dtype \n",
      "---  ------      --------------  ----- \n",
      " 0   image       1010 non-null   object\n",
      " 1   img_array   1010 non-null   object\n",
      " 2   img_mode    1010 non-null   object\n",
      " 3   img_size    1010 non-null   object\n",
      " 4   img_width   1010 non-null   int64 \n",
      " 5   img_height  1010 non-null   int64 \n",
      "dtypes: int64(2), object(4)\n",
      "memory usage: 47.5+ KB\n"
     ]
    }
   ],
   "source": [
    "img_lib.info()"
   ]
  },
  {
   "cell_type": "code",
   "execution_count": 35,
   "id": "b2df1ae3-3042-4bac-831a-7c9597235870",
   "metadata": {},
   "outputs": [
    {
     "data": {
      "text/html": [
       "<div>\n",
       "<style scoped>\n",
       "    .dataframe tbody tr th:only-of-type {\n",
       "        vertical-align: middle;\n",
       "    }\n",
       "\n",
       "    .dataframe tbody tr th {\n",
       "        vertical-align: top;\n",
       "    }\n",
       "\n",
       "    .dataframe thead th {\n",
       "        text-align: right;\n",
       "    }\n",
       "</style>\n",
       "<table border=\"1\" class=\"dataframe\">\n",
       "  <thead>\n",
       "    <tr style=\"text-align: right;\">\n",
       "      <th></th>\n",
       "      <th>image</th>\n",
       "      <th>img_array</th>\n",
       "      <th>img_mode</th>\n",
       "      <th>img_size</th>\n",
       "      <th>img_width</th>\n",
       "      <th>img_height</th>\n",
       "    </tr>\n",
       "  </thead>\n",
       "  <tbody>\n",
       "    <tr>\n",
       "      <th>0</th>\n",
       "      <td>55b85ea15a1536d46b7190ad6fff8ce7.jpg</td>\n",
       "      <td>[[[192, 184, 173], [192, 184, 173], [193, 185,...</td>\n",
       "      <td>RGB</td>\n",
       "      <td>(3600, 3600)</td>\n",
       "      <td>3600</td>\n",
       "      <td>3600</td>\n",
       "    </tr>\n",
       "  </tbody>\n",
       "</table>\n",
       "</div>"
      ],
      "text/plain": [
       "                                  image  \\\n",
       "0  55b85ea15a1536d46b7190ad6fff8ce7.jpg   \n",
       "\n",
       "                                           img_array img_mode      img_size  \\\n",
       "0  [[[192, 184, 173], [192, 184, 173], [193, 185,...      RGB  (3600, 3600)   \n",
       "\n",
       "   img_width  img_height  \n",
       "0       3600        3600  "
      ]
     },
     "execution_count": 35,
     "metadata": {},
     "output_type": "execute_result"
    }
   ],
   "source": [
    "img_lib.head(1)"
   ]
  },
  {
   "cell_type": "code",
   "execution_count": 30,
   "id": "dee8a82c-ad6f-4ae2-966b-21fb6559cfe0",
   "metadata": {},
   "outputs": [
    {
     "name": "stdout",
     "output_type": "stream",
     "text": [
      "<class 'pandas.core.frame.DataFrame'>\n",
      "RangeIndex: 1010 entries, 0 to 1009\n",
      "Data columns (total 6 columns):\n",
      " #   Column      Non-Null Count  Dtype \n",
      "---  ------      --------------  ----- \n",
      " 0   image       1010 non-null   object\n",
      " 1   img_array   1010 non-null   object\n",
      " 2   img_mode    1010 non-null   object\n",
      " 3   img_size    1010 non-null   object\n",
      " 4   img_width   1010 non-null   int64 \n",
      " 5   img_height  1010 non-null   int64 \n",
      "dtypes: int64(2), object(4)\n",
      "memory usage: 47.5+ KB\n"
     ]
    }
   ],
   "source": [
    "img_lib2.info()"
   ]
  },
  {
   "cell_type": "code",
   "execution_count": 28,
   "id": "dc3e34aa-3e46-446f-a925-75561cd144d2",
   "metadata": {},
   "outputs": [
    {
     "data": {
      "text/html": [
       "<div>\n",
       "<style scoped>\n",
       "    .dataframe tbody tr th:only-of-type {\n",
       "        vertical-align: middle;\n",
       "    }\n",
       "\n",
       "    .dataframe tbody tr th {\n",
       "        vertical-align: top;\n",
       "    }\n",
       "\n",
       "    .dataframe thead th {\n",
       "        text-align: right;\n",
       "    }\n",
       "</style>\n",
       "<table border=\"1\" class=\"dataframe\">\n",
       "  <thead>\n",
       "    <tr style=\"text-align: right;\">\n",
       "      <th></th>\n",
       "      <th>image</th>\n",
       "      <th>img_array</th>\n",
       "      <th>img_mode</th>\n",
       "      <th>img_size</th>\n",
       "      <th>img_width</th>\n",
       "      <th>img_height</th>\n",
       "    </tr>\n",
       "  </thead>\n",
       "  <tbody>\n",
       "    <tr>\n",
       "      <th>0</th>\n",
       "      <td>55b85ea15a1536d46b7190ad6fff8ce7.jpg</td>\n",
       "      <td>[[[192 184 173]\\n  [192 184 173]\\n  [193 185 1...</td>\n",
       "      <td>RGB</td>\n",
       "      <td>(3600, 3600)</td>\n",
       "      <td>3600</td>\n",
       "      <td>3600</td>\n",
       "    </tr>\n",
       "  </tbody>\n",
       "</table>\n",
       "</div>"
      ],
      "text/plain": [
       "                                  image  \\\n",
       "0  55b85ea15a1536d46b7190ad6fff8ce7.jpg   \n",
       "\n",
       "                                           img_array img_mode      img_size  \\\n",
       "0  [[[192 184 173]\\n  [192 184 173]\\n  [193 185 1...      RGB  (3600, 3600)   \n",
       "\n",
       "   img_width  img_height  \n",
       "0       3600        3600  "
      ]
     },
     "execution_count": 28,
     "metadata": {},
     "output_type": "execute_result"
    }
   ],
   "source": [
    "img_lib2 = pd.read_csv('img_lib.csv', delimiter=';')\n",
    "img_lib2.head(1)"
   ]
  },
  {
   "cell_type": "code",
   "execution_count": 37,
   "id": "08b57c44-e23a-42e6-80dc-d329c7bc001f",
   "metadata": {
    "tags": []
   },
   "outputs": [],
   "source": [
    "img_df = img_df.join(img_lib, rsuffix = 'image')"
   ]
  },
  {
   "cell_type": "code",
   "execution_count": 38,
   "id": "1ec5b3c9-2fd7-43e5-ba49-dc4b79c7b53a",
   "metadata": {
    "tags": []
   },
   "outputs": [
    {
     "name": "stdout",
     "output_type": "stream",
     "text": [
      "<class 'pandas.core.frame.DataFrame'>\n",
      "RangeIndex: 1010 entries, 0 to 1009\n",
      "Data columns (total 10 columns):\n",
      " #   Column      Non-Null Count  Dtype \n",
      "---  ------      --------------  ----- \n",
      " 0   uniq_id     1010 non-null   object\n",
      " 1   image       1010 non-null   object\n",
      " 2   labels_0    1010 non-null   int32 \n",
      " 3   labels_1    1010 non-null   int32 \n",
      " 4   imageimage  1010 non-null   object\n",
      " 5   img_array   1010 non-null   object\n",
      " 6   img_mode    1010 non-null   object\n",
      " 7   img_size    1010 non-null   object\n",
      " 8   img_width   1010 non-null   int64 \n",
      " 9   img_height  1010 non-null   int64 \n",
      "dtypes: int32(2), int64(2), object(6)\n",
      "memory usage: 71.1+ KB\n"
     ]
    }
   ],
   "source": [
    "img_df.info()"
   ]
  },
  {
   "cell_type": "code",
   "execution_count": 39,
   "id": "8f69f73a-478e-4c39-ae9b-3709670b092b",
   "metadata": {
    "tags": []
   },
   "outputs": [
    {
     "data": {
      "text/html": [
       "<div>\n",
       "<style scoped>\n",
       "    .dataframe tbody tr th:only-of-type {\n",
       "        vertical-align: middle;\n",
       "    }\n",
       "\n",
       "    .dataframe tbody tr th {\n",
       "        vertical-align: top;\n",
       "    }\n",
       "\n",
       "    .dataframe thead th {\n",
       "        text-align: right;\n",
       "    }\n",
       "</style>\n",
       "<table border=\"1\" class=\"dataframe\">\n",
       "  <thead>\n",
       "    <tr style=\"text-align: right;\">\n",
       "      <th></th>\n",
       "      <th>uniq_id</th>\n",
       "      <th>image</th>\n",
       "      <th>labels_0</th>\n",
       "      <th>labels_1</th>\n",
       "      <th>imageimage</th>\n",
       "      <th>img_array</th>\n",
       "      <th>img_mode</th>\n",
       "      <th>img_size</th>\n",
       "      <th>img_width</th>\n",
       "      <th>img_height</th>\n",
       "    </tr>\n",
       "  </thead>\n",
       "  <tbody>\n",
       "    <tr>\n",
       "      <th>493</th>\n",
       "      <td>4e57e21d903b752a6b5aa496a43f1590</td>\n",
       "      <td>4e57e21d903b752a6b5aa496a43f1590.jpg</td>\n",
       "      <td>2</td>\n",
       "      <td>27</td>\n",
       "      <td>4e57e21d903b752a6b5aa496a43f1590.jpg</td>\n",
       "      <td>[[[254, 255, 255], [254, 255, 255], [255, 255,...</td>\n",
       "      <td>RGB</td>\n",
       "      <td>(400, 186)</td>\n",
       "      <td>400</td>\n",
       "      <td>186</td>\n",
       "    </tr>\n",
       "  </tbody>\n",
       "</table>\n",
       "</div>"
      ],
      "text/plain": [
       "                              uniq_id                                 image  \\\n",
       "493  4e57e21d903b752a6b5aa496a43f1590  4e57e21d903b752a6b5aa496a43f1590.jpg   \n",
       "\n",
       "     labels_0  labels_1                            imageimage  \\\n",
       "493         2        27  4e57e21d903b752a6b5aa496a43f1590.jpg   \n",
       "\n",
       "                                             img_array img_mode    img_size  \\\n",
       "493  [[[254, 255, 255], [254, 255, 255], [255, 255,...      RGB  (400, 186)   \n",
       "\n",
       "     img_width  img_height  \n",
       "493        400         186  "
      ]
     },
     "execution_count": 39,
     "metadata": {},
     "output_type": "execute_result"
    }
   ],
   "source": [
    "img_df.sample(1)"
   ]
  },
  {
   "cell_type": "code",
   "execution_count": 40,
   "id": "07f28ee9-b8fc-47ec-8576-d31d0e0fe8cc",
   "metadata": {
    "tags": []
   },
   "outputs": [
    {
     "name": "stdout",
     "output_type": "stream",
     "text": [
      "['RGB']\n",
      "853\n"
     ]
    }
   ],
   "source": [
    "print(img_df['img_mode'].unique())\n",
    "print(len(img_df['img_size'].unique()))"
   ]
  },
  {
   "cell_type": "code",
   "execution_count": 41,
   "id": "d65929ef-7970-47bb-bcbe-bb73ae7f034a",
   "metadata": {
    "tags": []
   },
   "outputs": [
    {
     "data": {
      "text/plain": [
       "<AxesSubplot:>"
      ]
     },
     "execution_count": 41,
     "metadata": {},
     "output_type": "execute_result"
    },
    {
     "data": {
      "image/png": "[encoded data removed]",
      "text/plain": [
       "<Figure size 1800x720 with 2 Axes>"
      ]
     },
     "metadata": {
      "needs_background": "light"
     },
     "output_type": "display_data"
    }
   ],
   "source": [
    "msno.matrix(img_df)"
   ]
  },
  {
   "cell_type": "code",
   "execution_count": 42,
   "id": "e777471a-badd-46dc-9252-72fd77d951d3",
   "metadata": {
    "tags": []
   },
   "outputs": [],
   "source": [
    "# need to resize the images"
   ]
  },
  {
   "cell_type": "code",
   "execution_count": 43,
   "id": "3ae70443-520a-4315-8c38-afa0ebb99ee2",
   "metadata": {
    "tags": []
   },
   "outputs": [],
   "source": [
    "def img_prepro(x, size = (200,200)):\n",
    "    img = Image.fromarray(x)\n",
    "    img = img.resize(size)\n",
    "    img = ImageOps.autocontrast(img)\n",
    "    img = ImageOps.equalize(img)\n",
    "    img = img.filter(ImageFilter.MedianFilter(3))\n",
    "    x = np.array(img)\n",
    "    return x\n",
    "\n",
    "img_df['new_array'] = img_df['img_array'].apply(lambda x: img_prepro(x))\n"
   ]
  },
  {
   "cell_type": "code",
   "execution_count": 44,
   "id": "54ef3aa9-2544-47f7-a28d-817c936f4f1a",
   "metadata": {
    "tags": []
   },
   "outputs": [],
   "source": [
    "def convert(x, mode = 'L'):\n",
    "    img = Image.fromarray(x)\n",
    "    img = img.convert(mode=mode)\n",
    "    x = np.array(img)\n",
    "    return x\n",
    "\n",
    "img_df['L_array'] = img_df['new_array'].apply(lambda x: convert(x))"
   ]
  },
  {
   "cell_type": "code",
   "execution_count": 45,
   "id": "26482e6f-f2d4-4827-bf9c-d3c2a6387ad8",
   "metadata": {
    "tags": []
   },
   "outputs": [
    {
     "name": "stdout",
     "output_type": "stream",
     "text": [
      "<class 'pandas.core.frame.DataFrame'>\n",
      "RangeIndex: 1010 entries, 0 to 1009\n",
      "Data columns (total 12 columns):\n",
      " #   Column      Non-Null Count  Dtype \n",
      "---  ------      --------------  ----- \n",
      " 0   uniq_id     1010 non-null   object\n",
      " 1   image       1010 non-null   object\n",
      " 2   labels_0    1010 non-null   int32 \n",
      " 3   labels_1    1010 non-null   int32 \n",
      " 4   imageimage  1010 non-null   object\n",
      " 5   img_array   1010 non-null   object\n",
      " 6   img_mode    1010 non-null   object\n",
      " 7   img_size    1010 non-null   object\n",
      " 8   img_width   1010 non-null   int64 \n",
      " 9   img_height  1010 non-null   int64 \n",
      " 10  new_array   1010 non-null   object\n",
      " 11  L_array     1010 non-null   object\n",
      "dtypes: int32(2), int64(2), object(8)\n",
      "memory usage: 86.9+ KB\n"
     ]
    }
   ],
   "source": [
    "img_df.info()"
   ]
  },
  {
   "cell_type": "code",
   "execution_count": 46,
   "id": "1de5099e-e86e-42bb-be87-f2a6d1be19b2",
   "metadata": {
    "tags": []
   },
   "outputs": [],
   "source": [
    "img_df['L_norm'] = img_df['L_array'].apply(lambda x: x/255)"
   ]
  },
  {
   "cell_type": "code",
   "execution_count": 47,
   "id": "1be50c7a-7790-42f1-a532-8cf004ac6738",
   "metadata": {
    "tags": []
   },
   "outputs": [],
   "source": [
    "img_df['L_flatten'] = img_df['L_norm'].apply(lambda x: x.flatten())"
   ]
  },
  {
   "cell_type": "code",
   "execution_count": 48,
   "id": "e04255a8-6394-493c-82c3-d43d578a69a0",
   "metadata": {
    "tags": []
   },
   "outputs": [
    {
     "data": {
      "text/plain": [
       "37"
      ]
     },
     "execution_count": 48,
     "metadata": {},
     "output_type": "execute_result"
    }
   ],
   "source": [
    "label_1_unique"
   ]
  },
  {
   "cell_type": "code",
   "execution_count": 49,
   "id": "10194dd2-49a2-4256-9445-4414aa7dd024",
   "metadata": {
    "tags": []
   },
   "outputs": [],
   "source": [
    "from sklearn import cluster, metrics\n",
    "clus = cluster.KMeans(n_clusters = label_0_unique, random_state = 38)\n",
    "clus1 = cluster.KMeans(n_clusters = label_1_unique, random_state = 38)\n",
    "def ari_score(inputs):\n",
    "    clus.fit(inputs)\n",
    "    clus1.fit(inputs)\n",
    "    ari = metrics.adjusted_rand_score(np.array(img_df['labels_0']),\n",
    "                                                 np.array(clus.labels_)\n",
    "                                                 )\n",
    "    ari1 = metrics.adjusted_rand_score(np.array(img_df['labels_1']),\n",
    "                                                 np.array(clus1.labels_)\n",
    "                                                 )\n",
    "    print('The ari scores are {} for categorie 0 and {} for categorie 1.'.format(ari, ari1))\n",
    " "
   ]
  },
  {
   "cell_type": "code",
   "execution_count": 50,
   "id": "d23fdba7-5869-4901-8ee6-e2349d007979",
   "metadata": {
    "tags": []
   },
   "outputs": [
    {
     "data": {
      "image/png": "[encoded data removed]",
      "text/plain": [
       "<PIL.Image.Image image mode=L size=200x200>"
      ]
     },
     "execution_count": 50,
     "metadata": {},
     "output_type": "execute_result"
    }
   ],
   "source": [
    "Image.fromarray(img_df.iloc[38, -3])"
   ]
  },
  {
   "cell_type": "code",
   "execution_count": 51,
   "id": "4884bd90-5d36-4479-bfc7-c2e22fe249d9",
   "metadata": {
    "tags": []
   },
   "outputs": [
    {
     "name": "stdout",
     "output_type": "stream",
     "text": [
      "The ari scores are 0.12350032956345872 for categorie 0 and 0.12767916608204916 for categorie 1.\n"
     ]
    }
   ],
   "source": [
    "ari_score(img_df['L_flatten'].tolist())"
   ]
  },
  {
   "cell_type": "markdown",
   "id": "50e4bb0c-b267-42c2-99c0-93d80586b466",
   "metadata": {},
   "source": [
    "## SIFT"
   ]
  },
  {
   "cell_type": "code",
   "execution_count": 52,
   "id": "a6898ea2-068c-4d70-a8c2-87c3e1129b69",
   "metadata": {
    "tags": []
   },
   "outputs": [],
   "source": [
    "import cv2 as cv"
   ]
  },
  {
   "cell_type": "code",
   "execution_count": 75,
   "id": "bcf6a7b9-81c1-459c-886a-f035196ad7e6",
   "metadata": {
    "tags": []
   },
   "outputs": [
    {
     "data": {
      "image/png": "[encoded data removed]",
      "text/plain": [
       "<Figure size 432x288 with 1 Axes>"
      ]
     },
     "metadata": {
      "needs_background": "light"
     },
     "output_type": "display_data"
    },
    {
     "name": "stdout",
     "output_type": "stream",
     "text": [
      "(64, 128)\n"
     ]
    }
   ],
   "source": [
    "rand = np.random.randint(1010)\n",
    "sift = cv.SIFT_create(500)\n",
    "test = img_df.iloc[rand, -3]\n",
    "kp, des = sift.detectAndCompute(test, None)\n",
    "testkp = cv.drawKeypoints(test, kp, test)\n",
    "plt.imshow(testkp)\n",
    "plt.show()\n",
    "print(des.shape)"
   ]
  },
  {
   "cell_type": "code",
   "execution_count": 77,
   "id": "b5025268-31ff-42f7-b70d-f5f1128117fa",
   "metadata": {
    "tags": []
   },
   "outputs": [],
   "source": [
    "# create descriptors for each image\n",
    "def des_img(x, max_feat = 500, detect = 'sift'):\n",
    "    if detect == 'sift':\n",
    "        algo = cv.SIFT_create(max_feat)\n",
    "    elif detect == 'orb':\n",
    "        algo = cv.ORB_create(max_feat, edgeThreshold = 10, patchSize = 10)\n",
    "    kp, des = algo.detectAndCompute(x, None)\n",
    "    return des\n",
    "\n",
    "sift_df = pd.DataFrame()\n",
    "sift_df['des'] = img_df['L_array'].apply(lambda x: des_img(x))\n"
   ]
  },
  {
   "cell_type": "code",
   "execution_count": 33,
   "id": "d2453eb8-1e23-498a-940b-f77598a11291",
   "metadata": {
    "execution": {
     "iopub.execute_input": "2022-12-28T11:01:14.600239Z",
     "iopub.status.busy": "2022-12-28T11:01:14.600239Z",
     "iopub.status.idle": "2022-12-28T11:01:14.671238Z",
     "shell.execute_reply": "2022-12-28T11:01:14.671238Z",
     "shell.execute_reply.started": "2022-12-28T11:01:14.600239Z"
    }
   },
   "outputs": [
    {
     "name": "stdout",
     "output_type": "stream",
     "text": [
      "(301987, 128)\n"
     ]
    }
   ],
   "source": [
    "#list of descriptors by img\n",
    "sift_img = np.array(sift_df['des'].tolist(), dtype=object)\n",
    "\n",
    "#array of all descriptors\n",
    "sift_img_all = np.concatenate(sift_img, axis=0)\n",
    "print(sift_img_all.shape)"
   ]
  },
  {
   "cell_type": "code",
   "execution_count": 74,
   "id": "3df2ccc1-34df-4303-a15a-35c51ae7c743",
   "metadata": {},
   "outputs": [],
   "source": [
    "orb_img[315]"
   ]
  },
  {
   "cell_type": "code",
   "execution_count": 64,
   "id": "7da670a7-bc93-4459-ac97-e950917233f3",
   "metadata": {
    "execution": {
     "iopub.execute_input": "2022-12-28T17:26:27.508072Z",
     "iopub.status.busy": "2022-12-28T17:26:27.508072Z",
     "iopub.status.idle": "2022-12-28T19:30:17.430368Z",
     "shell.execute_reply": "2022-12-28T19:30:17.430368Z",
     "shell.execute_reply.started": "2022-12-28T17:26:27.508072Z"
    },
    "tags": []
   },
   "outputs": [
    {
     "name": "stdout",
     "output_type": "stream",
     "text": [
      "3000\n"
     ]
    }
   ],
   "source": [
    "# clusters the descriptors\n",
    "from joblib import dump, load\n",
    "k = 3000\n",
    "print(k)\n",
    "\n",
    "try:\n",
    "    clus_des = load('clus_des.joblib')\n",
    "except FileNotFoundError:\n",
    "    clus_des = cluster.KMeans(n_clusters=k, random_state = 38)\n",
    "    clus_des.fit(sift_img_all)\n",
    "    dump(clus_des, 'clus_des.joblib')"
   ]
  },
  {
   "cell_type": "code",
   "execution_count": 81,
   "id": "1844954e-f583-40db-ab0a-0c1afcacbbb2",
   "metadata": {
    "tags": []
   },
   "outputs": [],
   "source": [
    "# build histogrammes for each images\n",
    "def hist(x, model):\n",
    "    res = model.predict(x)\n",
    "    hist = np.zeros(len(model.cluster_centers_))\n",
    "    nb_des=len(x)\n",
    "    if nb_des==0 : print(\"Error no descriptors  : \", x.index)\n",
    "    for i in res:\n",
    "        hist[i] += 1.0/nb_des\n",
    "    return hist\n",
    "\n"
   ]
  },
  {
   "cell_type": "code",
   "execution_count": null,
   "id": "a9e2317c-7066-4ec0-b87e-65860b770a37",
   "metadata": {},
   "outputs": [],
   "source": [
    "sift_df['hist'] = sift_df['des'].apply(lambda x: hist(x, model=clus_des))"
   ]
  },
  {
   "cell_type": "code",
   "execution_count": 66,
   "id": "6d4648e2-4bdb-4f3e-83b8-8104269d15f1",
   "metadata": {
    "execution": {
     "iopub.execute_input": "2022-12-28T19:31:04.660343Z",
     "iopub.status.busy": "2022-12-28T19:31:04.660343Z",
     "iopub.status.idle": "2022-12-28T19:31:06.293344Z",
     "shell.execute_reply": "2022-12-28T19:31:06.293344Z",
     "shell.execute_reply.started": "2022-12-28T19:31:04.660343Z"
    },
    "tags": []
   },
   "outputs": [
    {
     "name": "stdout",
     "output_type": "stream",
     "text": [
      "The ari scores are 0.02331483690986917 for categorie 0 and 0.015471992254636444 for categorie 1.\n"
     ]
    }
   ],
   "source": [
    "ari_score(sift_df['hist'].tolist())"
   ]
  },
  {
   "cell_type": "code",
   "execution_count": 67,
   "id": "2adb9a3b-4cdf-400a-a6f7-c4dbcb6cf424",
   "metadata": {
    "execution": {
     "iopub.execute_input": "2022-12-28T19:31:06.295343Z",
     "iopub.status.busy": "2022-12-28T19:31:06.294344Z",
     "iopub.status.idle": "2022-12-28T19:31:06.309343Z",
     "shell.execute_reply": "2022-12-28T19:31:06.309343Z",
     "shell.execute_reply.started": "2022-12-28T19:31:06.295343Z"
    },
    "tags": []
   },
   "outputs": [
    {
     "data": {
      "text/plain": [
       "array([0., 0., 0., ..., 0., 0., 0.])"
      ]
     },
     "execution_count": 67,
     "metadata": {},
     "output_type": "execute_result"
    }
   ],
   "source": [
    "sift_df.iloc[85, -1]"
   ]
  },
  {
   "cell_type": "code",
   "execution_count": 68,
   "id": "28f877bd-e280-4b9a-8a70-9dcb3b47f088",
   "metadata": {
    "execution": {
     "iopub.execute_input": "2022-12-29T07:33:33.322388Z",
     "iopub.status.busy": "2022-12-29T07:33:33.322388Z",
     "iopub.status.idle": "2022-12-29T07:33:33.378389Z",
     "shell.execute_reply": "2022-12-29T07:33:33.378389Z",
     "shell.execute_reply.started": "2022-12-29T07:33:33.322388Z"
    }
   },
   "outputs": [
    {
     "name": "stdout",
     "output_type": "stream",
     "text": [
      "<class 'pandas.core.frame.DataFrame'>\n",
      "RangeIndex: 1010 entries, 0 to 1009\n",
      "Data columns (total 14 columns):\n",
      " #   Column      Non-Null Count  Dtype \n",
      "---  ------      --------------  ----- \n",
      " 0   uniq_id     1010 non-null   object\n",
      " 1   image       1010 non-null   object\n",
      " 2   labels_0    1010 non-null   int32 \n",
      " 3   labels_1    1010 non-null   int32 \n",
      " 4   imageimage  1010 non-null   object\n",
      " 5   img_array   1010 non-null   object\n",
      " 6   img_mode    1010 non-null   object\n",
      " 7   img_size    1010 non-null   object\n",
      " 8   img_width   1010 non-null   int64 \n",
      " 9   img_height  1010 non-null   int64 \n",
      " 10  new_array   1010 non-null   object\n",
      " 11  L_array     1010 non-null   object\n",
      " 12  L_norm      1010 non-null   object\n",
      " 13  L_flatten   1010 non-null   object\n",
      "dtypes: int32(2), int64(2), object(10)\n",
      "memory usage: 102.7+ KB\n"
     ]
    }
   ],
   "source": [
    "img_df.info()"
   ]
  },
  {
   "cell_type": "code",
   "execution_count": 72,
   "id": "b5bc1d61-8baf-497d-84d4-b74a074490ed",
   "metadata": {
    "execution": {
     "iopub.execute_input": "2022-12-29T07:34:14.236529Z",
     "iopub.status.busy": "2022-12-29T07:34:14.235509Z",
     "iopub.status.idle": "2022-12-29T07:34:14.240517Z",
     "shell.execute_reply": "2022-12-29T07:34:14.240517Z",
     "shell.execute_reply.started": "2022-12-29T07:34:14.236529Z"
    },
    "tags": []
   },
   "outputs": [],
   "source": [
    "sift_df = sift_df.join(img_df.iloc[:,2:4])"
   ]
  },
  {
   "cell_type": "code",
   "execution_count": 73,
   "id": "ebab04c9-d3d7-4a55-acaa-9d0dfc2b80ec",
   "metadata": {
    "execution": {
     "iopub.execute_input": "2022-12-29T07:34:16.722035Z",
     "iopub.status.busy": "2022-12-29T07:34:16.721036Z",
     "iopub.status.idle": "2022-12-29T07:34:16.731060Z",
     "shell.execute_reply": "2022-12-29T07:34:16.731060Z",
     "shell.execute_reply.started": "2022-12-29T07:34:16.722035Z"
    },
    "tags": []
   },
   "outputs": [
    {
     "name": "stdout",
     "output_type": "stream",
     "text": [
      "<class 'pandas.core.frame.DataFrame'>\n",
      "RangeIndex: 1010 entries, 0 to 1009\n",
      "Data columns (total 4 columns):\n",
      " #   Column    Non-Null Count  Dtype \n",
      "---  ------    --------------  ----- \n",
      " 0   des       1010 non-null   object\n",
      " 1   hist      1010 non-null   object\n",
      " 2   labels_0  1010 non-null   int32 \n",
      " 3   labels_1  1010 non-null   int32 \n",
      "dtypes: int32(2), object(2)\n",
      "memory usage: 23.8+ KB\n"
     ]
    }
   ],
   "source": [
    "sift_df.info()"
   ]
  },
  {
   "cell_type": "code",
   "execution_count": 82,
   "id": "c5d6fa74-1c95-464c-8b48-e45c29fe2bcc",
   "metadata": {
    "execution": {
     "iopub.execute_input": "2022-12-29T07:41:58.980283Z",
     "iopub.status.busy": "2022-12-29T07:41:58.980283Z",
     "iopub.status.idle": "2022-12-29T07:42:28.439257Z",
     "shell.execute_reply": "2022-12-29T07:42:28.439257Z",
     "shell.execute_reply.started": "2022-12-29T07:41:58.980283Z"
    },
    "tags": []
   },
   "outputs": [
    {
     "data": {
      "text/plain": [
       "0.3032178217821782"
      ]
     },
     "execution_count": 82,
     "metadata": {},
     "output_type": "execute_result"
    }
   ],
   "source": [
    "# test with a classifier \n",
    "import xgboost as xgb\n",
    "from sklearn.model_selection import train_test_split, GridSearchCV\n",
    "\n",
    "xgb_class = xgb.XGBClassifier(n_estimators = 2000)\n",
    "temp = pd.DataFrame(sift_df['hist'].tolist())\n",
    "xtrain, xtest, ytrain0, ytest0 = train_test_split(temp, sift_df['labels_0'], test_size = 0.8, stratify = sift_df['labels_0'], random_state=38)\n",
    "\n",
    "xgb_class.fit(xtrain, ytrain0)\n",
    "xgb_class.score(xtest, ytest0)"
   ]
  },
  {
   "cell_type": "code",
   "execution_count": 83,
   "id": "1fc86e8c-2e25-456c-bc95-a8e75de7cfe0",
   "metadata": {
    "execution": {
     "iopub.execute_input": "2022-12-29T07:42:28.440258Z",
     "iopub.status.busy": "2022-12-29T07:42:28.440258Z",
     "iopub.status.idle": "2022-12-29T07:42:56.051257Z",
     "shell.execute_reply": "2022-12-29T07:42:56.051257Z",
     "shell.execute_reply.started": "2022-12-29T07:42:28.440258Z"
    },
    "tags": []
   },
   "outputs": [
    {
     "data": {
      "text/plain": [
       "0.14232673267326731"
      ]
     },
     "execution_count": 83,
     "metadata": {},
     "output_type": "execute_result"
    }
   ],
   "source": [
    "xtrain, xtest, ytrain1, ytest1 = train_test_split(temp, sift_df['labels_1'], test_size = 0.8, stratify = sift_df['labels_1'], random_state=38)\n",
    "\n",
    "xgb_class.fit(xtrain, ytrain0)\n",
    "xgb_class.score(xtest, ytest0)"
   ]
  },
  {
   "cell_type": "markdown",
   "id": "bac96dfb-a99f-4021-8d5b-11387081a407",
   "metadata": {},
   "source": [
    "### ORB"
   ]
  },
  {
   "cell_type": "code",
   "execution_count": 78,
   "id": "d79236fc-16c9-4938-8be0-0ef46d93e5f2",
   "metadata": {},
   "outputs": [
    {
     "data": {
      "image/png": "[encoded data removed]",
      "text/plain": [
       "<Figure size 432x288 with 1 Axes>"
      ]
     },
     "metadata": {
      "needs_background": "light"
     },
     "output_type": "display_data"
    },
    {
     "name": "stdout",
     "output_type": "stream",
     "text": [
      "(54, 32)\n"
     ]
    }
   ],
   "source": [
    "orb = cv.ORB_create(500,edgeThreshold = 10, patchSize = 10)\n",
    "test = img_df.iloc[315, -3]\n",
    "kp, des = orb.detectAndCompute(test, None)\n",
    "testkp = cv.drawKeypoints(test, kp, test)\n",
    "plt.imshow(testkp)\n",
    "plt.show()\n",
    "print(des.shape)"
   ]
  },
  {
   "cell_type": "code",
   "execution_count": 82,
   "id": "bc5199b8-4bad-4e70-ba6f-7e14d01c0096",
   "metadata": {},
   "outputs": [
    {
     "name": "stdout",
     "output_type": "stream",
     "text": [
      "(477110, 32)\n",
      "691\n",
      "The ari scores are 0.020634473911105768 for categorie 0 and 0.026909705689056995 for categorie 1.\n"
     ]
    }
   ],
   "source": [
    "orb_df = pd.DataFrame()\n",
    "orb_df['des'] = img_df['L_array'].apply(lambda x: des_img(x, detect='orb'))\n",
    "orb_img = np.array(orb_df['des'].tolist(), dtype=object)\n",
    "orb_img_all = np.concatenate(orb_img, axis=0)\n",
    "print(orb_img_all.shape)\n",
    "k = int(round(np.sqrt(len(orb_img_all)),0))\n",
    "print(k)\n",
    "try:\n",
    "    clus_orb = load('clus_orb.joblib')\n",
    "except FileNotFoundError:\n",
    "    clus_orb = cluster.KMeans(n_clusters=k, random_state = 38)\n",
    "    clus_orb.fit(orb_img_all)\n",
    "    dump(clus_orb, 'clus_orb.joblib')\n",
    "    \n",
    "orb_df['hist'] = orb_df['des'].apply(lambda x: hist(x, model=clus_orb))\n",
    "\n",
    "ari_score(orb_df['hist'].tolist())"
   ]
  },
  {
   "cell_type": "markdown",
   "id": "4a205eb8-f824-4248-8a92-2aa02e15cc5e",
   "metadata": {},
   "source": [
    "## VGG16"
   ]
  },
  {
   "cell_type": "code",
   "execution_count": 84,
   "id": "2d11063e-1dc4-4a14-b49d-9176ef97e205",
   "metadata": {
    "execution": {
     "iopub.execute_input": "2022-12-29T08:19:11.029097Z",
     "iopub.status.busy": "2022-12-29T08:19:11.029097Z",
     "iopub.status.idle": "2022-12-29T08:20:04.044413Z",
     "shell.execute_reply": "2022-12-29T08:20:04.042478Z",
     "shell.execute_reply.started": "2022-12-29T08:19:11.029097Z"
    }
   },
   "outputs": [],
   "source": [
    "# preparation of data for the vgg16\n",
    "# need images of 224*224 in rgb\n",
    "\n",
    "img_df['vgg_array'] = img_df['img_array'].apply(lambda x: img_prepro(x, size = (224,224)))"
   ]
  },
  {
   "cell_type": "code",
   "execution_count": 94,
   "id": "594e6675-56ad-4cd0-aac2-9c8ffa820aed",
   "metadata": {
    "execution": {
     "iopub.execute_input": "2022-12-29T08:40:58.625172Z",
     "iopub.status.busy": "2022-12-29T08:40:58.624174Z",
     "iopub.status.idle": "2022-12-29T08:40:58.637199Z",
     "shell.execute_reply": "2022-12-29T08:40:58.637199Z",
     "shell.execute_reply.started": "2022-12-29T08:40:58.625172Z"
    },
    "tags": []
   },
   "outputs": [
    {
     "name": "stdout",
     "output_type": "stream",
     "text": [
      "Num GPUs Available:  1\n"
     ]
    }
   ],
   "source": [
    "import tensorflow as tf\n",
    "print(\"Num GPUs Available: \", len(tf.config.list_physical_devices('CPU')))"
   ]
  },
  {
   "cell_type": "code",
   "execution_count": 93,
   "id": "1440e4c1-6436-4c48-9187-d6a76629fb51",
   "metadata": {
    "execution": {
     "iopub.execute_input": "2022-12-29T08:40:28.769369Z",
     "iopub.status.busy": "2022-12-29T08:40:28.769369Z",
     "iopub.status.idle": "2022-12-29T08:40:28.787392Z",
     "shell.execute_reply": "2022-12-29T08:40:28.787392Z",
     "shell.execute_reply.started": "2022-12-29T08:40:28.769369Z"
    }
   },
   "outputs": [
    {
     "data": {
      "text/plain": [
       "[]"
      ]
     },
     "execution_count": 93,
     "metadata": {},
     "output_type": "execute_result"
    }
   ],
   "source": []
  },
  {
   "cell_type": "code",
   "execution_count": 91,
   "id": "dc622471-59b4-468b-8768-9bcee2a5c881",
   "metadata": {
    "execution": {
     "iopub.execute_input": "2022-12-29T08:30:58.024712Z",
     "iopub.status.busy": "2022-12-29T08:30:58.024712Z",
     "iopub.status.idle": "2022-12-29T08:31:00.489408Z",
     "shell.execute_reply": "2022-12-29T08:31:00.488405Z",
     "shell.execute_reply.started": "2022-12-29T08:30:58.024712Z"
    },
    "tags": []
   },
   "outputs": [
    {
     "ename": "ResourceExhaustedError",
     "evalue": "{{function_node __wrapped__StatelessRandomUniformV2_device_/job:localhost/replica:0/task:0/device:CPU:0}} OOM when allocating tensor with shape[802816,4096] and type float on /job:localhost/replica:0/task:0/device:CPU:0 by allocator cpu [Op:StatelessRandomUniformV2]",
     "output_type": "error",
     "traceback": [
      "\u001b[1;31m---------------------------------------------------------------------------\u001b[0m",
      "\u001b[1;31mResourceExhaustedError\u001b[0m                    Traceback (most recent call last)",
      "Input \u001b[1;32mIn [91]\u001b[0m, in \u001b[0;36m<cell line: 12>\u001b[1;34m()\u001b[0m\n\u001b[0;32m      9\u001b[0m VGG16\u001b[38;5;241m.\u001b[39madd(MaxPooling2D(pool_size\u001b[38;5;241m=\u001b[39m(\u001b[38;5;241m2\u001b[39m,\u001b[38;5;241m2\u001b[39m), strides\u001b[38;5;241m=\u001b[39m(\u001b[38;5;241m2\u001b[39m,\u001b[38;5;241m2\u001b[39m)))\n\u001b[0;32m     11\u001b[0m VGG16\u001b[38;5;241m.\u001b[39madd(Flatten())\n\u001b[1;32m---> 12\u001b[0m \u001b[43mVGG16\u001b[49m\u001b[38;5;241;43m.\u001b[39;49m\u001b[43madd\u001b[49m\u001b[43m(\u001b[49m\u001b[43mDense\u001b[49m\u001b[43m(\u001b[49m\u001b[38;5;241;43m4096\u001b[39;49m\u001b[43m,\u001b[49m\u001b[43m \u001b[49m\u001b[43mactivation\u001b[49m\u001b[38;5;241;43m=\u001b[39;49m\u001b[38;5;124;43m'\u001b[39;49m\u001b[38;5;124;43mrelu\u001b[39;49m\u001b[38;5;124;43m'\u001b[39;49m\u001b[43m)\u001b[49m\u001b[43m)\u001b[49m\n\u001b[0;32m     13\u001b[0m VGG16\u001b[38;5;241m.\u001b[39madd(Dense(\u001b[38;5;241m4096\u001b[39m, activation\u001b[38;5;241m=\u001b[39m\u001b[38;5;124m'\u001b[39m\u001b[38;5;124mrelu\u001b[39m\u001b[38;5;124m'\u001b[39m))\n\u001b[0;32m     14\u001b[0m VGG16\u001b[38;5;241m.\u001b[39madd(Dense(label_1_unique, activation\u001b[38;5;241m=\u001b[39m\u001b[38;5;124m'\u001b[39m\u001b[38;5;124msoftmax\u001b[39m\u001b[38;5;124m'\u001b[39m))\n",
      "File \u001b[1;32m~\\AppData\\Roaming\\Python\\Python39\\site-packages\\tensorflow\\python\\trackable\\base.py:205\u001b[0m, in \u001b[0;36mno_automatic_dependency_tracking.<locals>._method_wrapper\u001b[1;34m(self, *args, **kwargs)\u001b[0m\n\u001b[0;32m    203\u001b[0m \u001b[38;5;28mself\u001b[39m\u001b[38;5;241m.\u001b[39m_self_setattr_tracking \u001b[38;5;241m=\u001b[39m \u001b[38;5;28;01mFalse\u001b[39;00m  \u001b[38;5;66;03m# pylint: disable=protected-access\u001b[39;00m\n\u001b[0;32m    204\u001b[0m \u001b[38;5;28;01mtry\u001b[39;00m:\n\u001b[1;32m--> 205\u001b[0m   result \u001b[38;5;241m=\u001b[39m method(\u001b[38;5;28mself\u001b[39m, \u001b[38;5;241m*\u001b[39margs, \u001b[38;5;241m*\u001b[39m\u001b[38;5;241m*\u001b[39mkwargs)\n\u001b[0;32m    206\u001b[0m \u001b[38;5;28;01mfinally\u001b[39;00m:\n\u001b[0;32m    207\u001b[0m   \u001b[38;5;28mself\u001b[39m\u001b[38;5;241m.\u001b[39m_self_setattr_tracking \u001b[38;5;241m=\u001b[39m previous_value  \u001b[38;5;66;03m# pylint: disable=protected-access\u001b[39;00m\n",
      "File \u001b[1;32m~\\AppData\\Roaming\\Python\\Python39\\site-packages\\keras\\utils\\traceback_utils.py:70\u001b[0m, in \u001b[0;36mfilter_traceback.<locals>.error_handler\u001b[1;34m(*args, **kwargs)\u001b[0m\n\u001b[0;32m     67\u001b[0m     filtered_tb \u001b[38;5;241m=\u001b[39m _process_traceback_frames(e\u001b[38;5;241m.\u001b[39m__traceback__)\n\u001b[0;32m     68\u001b[0m     \u001b[38;5;66;03m# To get the full stack trace, call:\u001b[39;00m\n\u001b[0;32m     69\u001b[0m     \u001b[38;5;66;03m# `tf.debugging.disable_traceback_filtering()`\u001b[39;00m\n\u001b[1;32m---> 70\u001b[0m     \u001b[38;5;28;01mraise\u001b[39;00m e\u001b[38;5;241m.\u001b[39mwith_traceback(filtered_tb) \u001b[38;5;28;01mfrom\u001b[39;00m \u001b[38;5;28mNone\u001b[39m\n\u001b[0;32m     71\u001b[0m \u001b[38;5;28;01mfinally\u001b[39;00m:\n\u001b[0;32m     72\u001b[0m     \u001b[38;5;28;01mdel\u001b[39;00m filtered_tb\n",
      "File \u001b[1;32m~\\AppData\\Roaming\\Python\\Python39\\site-packages\\keras\\backend.py:2100\u001b[0m, in \u001b[0;36mRandomGenerator.random_uniform\u001b[1;34m(self, shape, minval, maxval, dtype, nonce)\u001b[0m\n\u001b[0;32m   2098\u001b[0m     \u001b[38;5;28;01mif\u001b[39;00m nonce:\n\u001b[0;32m   2099\u001b[0m         seed \u001b[38;5;241m=\u001b[39m tf\u001b[38;5;241m.\u001b[39mrandom\u001b[38;5;241m.\u001b[39mexperimental\u001b[38;5;241m.\u001b[39mstateless_fold_in(seed, nonce)\n\u001b[1;32m-> 2100\u001b[0m     \u001b[38;5;28;01mreturn\u001b[39;00m \u001b[43mtf\u001b[49m\u001b[38;5;241;43m.\u001b[39;49m\u001b[43mrandom\u001b[49m\u001b[38;5;241;43m.\u001b[39;49m\u001b[43mstateless_uniform\u001b[49m\u001b[43m(\u001b[49m\n\u001b[0;32m   2101\u001b[0m \u001b[43m        \u001b[49m\u001b[43mshape\u001b[49m\u001b[38;5;241;43m=\u001b[39;49m\u001b[43mshape\u001b[49m\u001b[43m,\u001b[49m\n\u001b[0;32m   2102\u001b[0m \u001b[43m        \u001b[49m\u001b[43mminval\u001b[49m\u001b[38;5;241;43m=\u001b[39;49m\u001b[43mminval\u001b[49m\u001b[43m,\u001b[49m\n\u001b[0;32m   2103\u001b[0m \u001b[43m        \u001b[49m\u001b[43mmaxval\u001b[49m\u001b[38;5;241;43m=\u001b[39;49m\u001b[43mmaxval\u001b[49m\u001b[43m,\u001b[49m\n\u001b[0;32m   2104\u001b[0m \u001b[43m        \u001b[49m\u001b[43mdtype\u001b[49m\u001b[38;5;241;43m=\u001b[39;49m\u001b[43mdtype\u001b[49m\u001b[43m,\u001b[49m\n\u001b[0;32m   2105\u001b[0m \u001b[43m        \u001b[49m\u001b[43mseed\u001b[49m\u001b[38;5;241;43m=\u001b[39;49m\u001b[43mseed\u001b[49m\u001b[43m,\u001b[49m\n\u001b[0;32m   2106\u001b[0m \u001b[43m    \u001b[49m\u001b[43m)\u001b[49m\n\u001b[0;32m   2107\u001b[0m \u001b[38;5;28;01mreturn\u001b[39;00m tf\u001b[38;5;241m.\u001b[39mrandom\u001b[38;5;241m.\u001b[39muniform(\n\u001b[0;32m   2108\u001b[0m     shape\u001b[38;5;241m=\u001b[39mshape,\n\u001b[0;32m   2109\u001b[0m     minval\u001b[38;5;241m=\u001b[39mminval,\n\u001b[1;32m   (...)\u001b[0m\n\u001b[0;32m   2112\u001b[0m     seed\u001b[38;5;241m=\u001b[39m\u001b[38;5;28mself\u001b[39m\u001b[38;5;241m.\u001b[39mmake_legacy_seed(),\n\u001b[0;32m   2113\u001b[0m )\n",
      "\u001b[1;31mResourceExhaustedError\u001b[0m: {{function_node __wrapped__StatelessRandomUniformV2_device_/job:localhost/replica:0/task:0/device:CPU:0}} OOM when allocating tensor with shape[802816,4096] and type float on /job:localhost/replica:0/task:0/device:CPU:0 by allocator cpu [Op:StatelessRandomUniformV2]"
     ]
    }
   ],
   "source": [
    "#build the architecture\n",
    "from keras.models import Sequential\n",
    "from keras.layers import Conv2D, MaxPooling2D, Flatten, Dense\n",
    "\n",
    "VGG16 = Sequential()\n",
    "\n",
    "VGG16.add(Conv2D(64, (3, 3), input_shape=(224, 224, 3), padding='same', activation='relu'))\n",
    "VGG16.add(Conv2D(64, (3, 3), padding='same', activation='relu'))\n",
    "VGG16.add(MaxPooling2D(pool_size=(2,2), strides=(2,2)))\n",
    "\n",
    "VGG16.add(Flatten())\n",
    "VGG16.add(Dense(4096, activation='relu'))\n",
    "VGG16.add(Dense(4096, activation='relu'))\n",
    "VGG16.add(Dense(label_1_unique, activation='softmax'))\n",
    "          \n",
    "VGG16.compile(optimizer = 'Adam', loss = keras.losses.categorical_crossentropy, metrics = ['accuracy'])\n",
    "VGG16.summary()"
   ]
  },
  {
   "cell_type": "code",
   "execution_count": 86,
   "id": "f8be04c0-a001-4344-a34b-c6763d7c10d9",
   "metadata": {
    "execution": {
     "iopub.execute_input": "2022-12-29T08:24:18.353559Z",
     "iopub.status.busy": "2022-12-29T08:24:18.353559Z",
     "iopub.status.idle": "2022-12-29T08:24:18.364559Z",
     "shell.execute_reply": "2022-12-29T08:24:18.364559Z",
     "shell.execute_reply.started": "2022-12-29T08:24:18.353559Z"
    },
    "tags": []
   },
   "outputs": [
    {
     "data": {
      "text/plain": [
       "37"
      ]
     },
     "execution_count": 86,
     "metadata": {},
     "output_type": "execute_result"
    }
   ],
   "source": []
  },
  {
   "cell_type": "code",
   "execution_count": null,
   "id": "94dd11e0-3261-471d-a47f-f40a53f5dd36",
   "metadata": {},
   "outputs": [],
   "source": []
  }
 ],
 "metadata": {
  "kernelspec": {
   "display_name": "Python 3 (ipykernel)",
   "language": "python",
   "name": "python3"
  },
  "language_info": {
   "codemirror_mode": {
    "name": "ipython",
    "version": 3
   },
   "file_extension": ".py",
   "mimetype": "text/x-python",
   "name": "python",
   "nbconvert_exporter": "python",
   "pygments_lexer": "ipython3",
   "version": "3.9.12"
  }
 },
 "nbformat": 4,
 "nbformat_minor": 5
}
