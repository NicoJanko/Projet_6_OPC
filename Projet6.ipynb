{
 "cells": [
  {
   "cell_type": "code",
   "execution_count": 1,
   "id": "c4dc6bec-7409-4255-902d-718806555ffa",
   "metadata": {
    "execution": {
     "iopub.execute_input": "2022-12-22T14:16:01.898373Z",
     "iopub.status.busy": "2022-12-22T14:16:01.898373Z",
     "iopub.status.idle": "2022-12-22T14:16:03.327298Z",
     "shell.execute_reply": "2022-12-22T14:16:03.325363Z",
     "shell.execute_reply.started": "2022-12-22T14:16:01.898373Z"
    },
    "tags": []
   },
   "outputs": [],
   "source": [
    "import pandas as pd\n",
    "pd.options.mode.chained_assignment = None  # default='warn'\n",
    "import numpy as np\n",
    "import matplotlib.pyplot as plt\n",
    "import missingno as msno\n",
    "import seaborn as sns\n",
    "import os"
   ]
  },
  {
   "cell_type": "code",
   "execution_count": 2,
   "id": "b3634dbe-0c4d-4110-bea7-1bf2305474e5",
   "metadata": {
    "execution": {
     "iopub.execute_input": "2022-12-22T14:16:03.329296Z",
     "iopub.status.busy": "2022-12-22T14:16:03.328295Z",
     "iopub.status.idle": "2022-12-22T14:16:07.881411Z",
     "shell.execute_reply": "2022-12-22T14:16:07.880410Z",
     "shell.execute_reply.started": "2022-12-22T14:16:03.329296Z"
    },
    "tags": []
   },
   "outputs": [
    {
     "name": "stdin",
     "output_type": "stream",
     "text": [
      "Laptop ? [y/n] n\n"
     ]
    }
   ],
   "source": [
    "x = input('Laptop ? [y/n]')\n",
    "if x == 'n':\n",
    "    path = 'E:\\\\Data_Science\\\\OpenClassRoom\\\\Projet 6\\\\Flipkart'\n",
    "    df=pd.read_csv(path + '\\\\flipkart_com-ecommerce_sample_1050.csv')\n",
    "else:\n",
    "    path = 'C:\\\\Users\\\\Nico Janko\\\\Documents\\\\Data_Science\\\\OpenClassRoom\\\\Projet 6\\\\Flipkart'\n",
    "    df = pd.read_csv(path + '\\\\flipkart_com-ecommerce_sample_1050.csv')"
   ]
  },
  {
   "cell_type": "code",
   "execution_count": 3,
   "id": "aa488210-0213-4819-b847-5d7f00314b47",
   "metadata": {
    "execution": {
     "iopub.execute_input": "2022-12-22T14:16:07.883412Z",
     "iopub.status.busy": "2022-12-22T14:16:07.882412Z",
     "iopub.status.idle": "2022-12-22T14:16:07.896411Z",
     "shell.execute_reply": "2022-12-22T14:16:07.896411Z",
     "shell.execute_reply.started": "2022-12-22T14:16:07.883412Z"
    },
    "tags": []
   },
   "outputs": [
    {
     "name": "stdout",
     "output_type": "stream",
     "text": [
      "<class 'pandas.core.frame.DataFrame'>\n",
      "RangeIndex: 1050 entries, 0 to 1049\n",
      "Data columns (total 15 columns):\n",
      " #   Column                   Non-Null Count  Dtype  \n",
      "---  ------                   --------------  -----  \n",
      " 0   uniq_id                  1050 non-null   object \n",
      " 1   crawl_timestamp          1050 non-null   object \n",
      " 2   product_url              1050 non-null   object \n",
      " 3   product_name             1050 non-null   object \n",
      " 4   product_category_tree    1050 non-null   object \n",
      " 5   pid                      1050 non-null   object \n",
      " 6   retail_price             1049 non-null   float64\n",
      " 7   discounted_price         1049 non-null   float64\n",
      " 8   image                    1050 non-null   object \n",
      " 9   is_FK_Advantage_product  1050 non-null   bool   \n",
      " 10  description              1050 non-null   object \n",
      " 11  product_rating           1050 non-null   object \n",
      " 12  overall_rating           1050 non-null   object \n",
      " 13  brand                    712 non-null    object \n",
      " 14  product_specifications   1049 non-null   object \n",
      "dtypes: bool(1), float64(2), object(12)\n",
      "memory usage: 116.0+ KB\n"
     ]
    }
   ],
   "source": [
    "df.info()"
   ]
  },
  {
   "cell_type": "code",
   "execution_count": 4,
   "id": "447d7784-7b62-4f21-8a15-e82a4019a858",
   "metadata": {
    "execution": {
     "iopub.execute_input": "2022-12-22T14:16:07.897411Z",
     "iopub.status.busy": "2022-12-22T14:16:07.897411Z",
     "iopub.status.idle": "2022-12-22T14:16:07.911410Z",
     "shell.execute_reply": "2022-12-22T14:16:07.911410Z",
     "shell.execute_reply.started": "2022-12-22T14:16:07.897411Z"
    },
    "tags": []
   },
   "outputs": [
    {
     "data": {
      "text/plain": [
       "0       Key Features of Elegance Polyester Multicolor ...\n",
       "1       Specifications of Sathiyas Cotton Bath Towel (...\n",
       "2       Key Features of Eurospa Cotton Terry Face Towe...\n",
       "3       Key Features of SANTOSH ROYAL FASHION Cotton P...\n",
       "4       Key Features of Jaipur Print Cotton Floral Kin...\n",
       "                              ...                        \n",
       "1045    Oren Empower Extra Large Self Adhesive Sticker...\n",
       "1046    Wallmantra Large Vinyl Sticker Sticker (Pack o...\n",
       "1047    Buy Uberlyfe Extra Large Pigmented Polyvinyl F...\n",
       "1048    Buy Wallmantra Medium Vinyl Sticker Sticker fo...\n",
       "1049    Buy Uberlyfe Large Vinyl Sticker for Rs.595 on...\n",
       "Name: description, Length: 1050, dtype: object"
      ]
     },
     "execution_count": 4,
     "metadata": {},
     "output_type": "execute_result"
    }
   ],
   "source": [
    "df['description']"
   ]
  },
  {
   "cell_type": "code",
   "execution_count": 5,
   "id": "166e0e25-a1b2-4f89-ab8d-e6b7dc65386b",
   "metadata": {
    "execution": {
     "iopub.execute_input": "2022-12-22T14:16:07.912412Z",
     "iopub.status.busy": "2022-12-22T14:16:07.912412Z",
     "iopub.status.idle": "2022-12-22T14:16:07.926410Z",
     "shell.execute_reply": "2022-12-22T14:16:07.926410Z",
     "shell.execute_reply.started": "2022-12-22T14:16:07.912412Z"
    },
    "tags": []
   },
   "outputs": [
    {
     "name": "stdout",
     "output_type": "stream",
     "text": [
      "7\n",
      "63\n"
     ]
    }
   ],
   "source": [
    "df['product_category_0'] = df['product_category_tree'].apply(lambda x: x.split('>>')[0])\n",
    "print(df['product_category_0'].unique().shape[0])\n",
    "df['product_category_1'] = df['product_category_tree'].apply(lambda x: x.split('>>')[1])\n",
    "print(df['product_category_1'].unique().shape[0])"
   ]
  },
  {
   "cell_type": "code",
   "execution_count": 6,
   "id": "ffa11e08-a2ed-42ee-83b3-e65dc2358e92",
   "metadata": {
    "execution": {
     "iopub.execute_input": "2022-12-22T14:16:07.927412Z",
     "iopub.status.busy": "2022-12-22T14:16:07.927412Z",
     "iopub.status.idle": "2022-12-22T14:16:07.941411Z",
     "shell.execute_reply": "2022-12-22T14:16:07.941411Z",
     "shell.execute_reply.started": "2022-12-22T14:16:07.927412Z"
    },
    "tags": []
   },
   "outputs": [
    {
     "name": "stdout",
     "output_type": "stream",
     "text": [
      "37\n"
     ]
    }
   ],
   "source": [
    "# select rows from categories with only 1 members\n",
    "idx = list(df.groupby('product_category_1').filter(lambda x: len(x) < 4).index)\n",
    "df = df.drop(index = idx)\n",
    "print(df['product_category_1'].unique().shape[0])"
   ]
  },
  {
   "cell_type": "code",
   "execution_count": 7,
   "id": "70a5fe45-102c-466d-a7ef-9ee832a417f3",
   "metadata": {
    "execution": {
     "iopub.execute_input": "2022-12-22T14:16:07.942411Z",
     "iopub.status.busy": "2022-12-22T14:16:07.942411Z",
     "iopub.status.idle": "2022-12-22T14:16:07.956438Z",
     "shell.execute_reply": "2022-12-22T14:16:07.956438Z",
     "shell.execute_reply.started": "2022-12-22T14:16:07.942411Z"
    },
    "tags": []
   },
   "outputs": [
    {
     "data": {
      "text/plain": [
       " Wrist Watches                   149\n",
       " Laptop Accessories               87\n",
       " Infant Wear                      84\n",
       " Coffee Mugs                      74\n",
       " Showpieces                       71\n",
       " Bed Linen                        65\n",
       " Fragrances                       65\n",
       " Network Components               49\n",
       " Cookware                         27\n",
       " Table Decor & Handicrafts        27\n",
       " Combos and Kits                  24\n",
       " Wall Decor & Clocks              22\n",
       " Bath Linen                       21\n",
       " Curtains & Accessories           19\n",
       " Makeup                           18\n",
       " Body and Skin Care               15\n",
       " Baby & Kids Gifts                15\n",
       " Baby Bedding                     15\n",
       " Kitchen & Dining Linen           14\n",
       " Baby Bath & Skin                 14\n",
       " Decorative Lighting & Lamps      14\n",
       " Kitchen Tools                    14\n",
       " Cushions, Pillows & Covers       13\n",
       " Containers & Bottles             13\n",
       " Hair Care                         9\n",
       " Bar & Glassware                   8\n",
       " Feeding & Nursing                 8\n",
       " Health Care                       7\n",
       " Lighting                          7\n",
       " Diapering & Potty Training        7\n",
       " Bath and Spa                      7\n",
       " Floor Coverings                   6\n",
       " Showpiece                         5\n",
       " Flowers, Plants & Vases           5\n",
       " Computer Peripherals              4\n",
       " Living                            4\n",
       " Baby Grooming                     4\n",
       "Name: product_category_1, dtype: int64"
      ]
     },
     "execution_count": 7,
     "metadata": {},
     "output_type": "execute_result"
    }
   ],
   "source": [
    "df['product_category_1'].value_counts()"
   ]
  },
  {
   "cell_type": "markdown",
   "id": "bcfd049b-6db3-47b7-b1fd-219e00b91130",
   "metadata": {
    "execution": {
     "iopub.execute_input": "2022-12-13T09:24:53.081513Z",
     "iopub.status.busy": "2022-12-13T09:24:53.081513Z",
     "iopub.status.idle": "2022-12-13T09:24:53.102513Z",
     "shell.execute_reply": "2022-12-13T09:24:53.102513Z",
     "shell.execute_reply.started": "2022-12-13T09:24:53.081513Z"
    },
    "tags": []
   },
   "source": [
    "# Text"
   ]
  },
  {
   "cell_type": "code",
   "execution_count": 8,
   "id": "a8a6f729-e3ab-4028-aaa9-87b82f790788",
   "metadata": {
    "execution": {
     "iopub.execute_input": "2022-12-22T14:16:07.957441Z",
     "iopub.status.busy": "2022-12-22T14:16:07.957441Z",
     "iopub.status.idle": "2022-12-22T14:16:07.972438Z",
     "shell.execute_reply": "2022-12-22T14:16:07.972438Z",
     "shell.execute_reply.started": "2022-12-22T14:16:07.957441Z"
    },
    "tags": []
   },
   "outputs": [],
   "source": [
    "txt_df = df.iloc[:, [0, 10, 15, 16]]"
   ]
  },
  {
   "cell_type": "code",
   "execution_count": 9,
   "id": "6df0d65c-23c2-42a2-a29c-4eb8a58f0691",
   "metadata": {
    "execution": {
     "iopub.execute_input": "2022-12-22T14:16:07.973412Z",
     "iopub.status.busy": "2022-12-22T14:16:07.973412Z",
     "iopub.status.idle": "2022-12-22T14:16:08.196412Z",
     "shell.execute_reply": "2022-12-22T14:16:08.196412Z",
     "shell.execute_reply.started": "2022-12-22T14:16:07.973412Z"
    },
    "tags": []
   },
   "outputs": [
    {
     "data": {
      "text/plain": [
       "<AxesSubplot:>"
      ]
     },
     "execution_count": 9,
     "metadata": {},
     "output_type": "execute_result"
    },
    {
     "data": {
      "image/png": "[encoded data removed]",
      "text/plain": [
       "<Figure size 1800x720 with 2 Axes>"
      ]
     },
     "metadata": {
      "needs_background": "light"
     },
     "output_type": "display_data"
    }
   ],
   "source": [
    "msno.matrix(txt_df)"
   ]
  },
  {
   "cell_type": "code",
   "execution_count": 10,
   "id": "53d5b16b-81d8-43cd-a8b9-8005623c5649",
   "metadata": {
    "execution": {
     "iopub.execute_input": "2022-12-22T14:16:08.197412Z",
     "iopub.status.busy": "2022-12-22T14:16:08.197412Z",
     "iopub.status.idle": "2022-12-22T14:16:08.320437Z",
     "shell.execute_reply": "2022-12-22T14:16:08.320437Z",
     "shell.execute_reply.started": "2022-12-22T14:16:08.197412Z"
    },
    "tags": []
   },
   "outputs": [
    {
     "data": {
      "image/png": "[encoded data removed]",
      "text/plain": [
       "<Figure size 720x720 with 1 Axes>"
      ]
     },
     "metadata": {
      "needs_background": "light"
     },
     "output_type": "display_data"
    }
   ],
   "source": [
    "txt_df['lenght'] = txt_df['description'].apply(lambda x: len(x))\n",
    "txt_df['lenght'].describe()\n",
    "fig, ax = plt.subplots(figsize=(10, 10))\n",
    "sns.boxplot(data = txt_df['lenght'],\n",
    "            ax=ax\n",
    "           )\n",
    "ax.text(0.75,\n",
    "        0.8,\n",
    "        str(txt_df['lenght'].describe()),\n",
    "        transform=ax.transAxes\n",
    "        )\n",
    "plt.show()"
   ]
  },
  {
   "cell_type": "code",
   "execution_count": 11,
   "id": "b9d2d8aa-7546-4fa8-b51c-866a38976846",
   "metadata": {
    "execution": {
     "iopub.execute_input": "2022-12-22T14:16:08.321411Z",
     "iopub.status.busy": "2022-12-22T14:16:08.321411Z",
     "iopub.status.idle": "2022-12-22T14:16:08.336444Z",
     "shell.execute_reply": "2022-12-22T14:16:08.336444Z",
     "shell.execute_reply.started": "2022-12-22T14:16:08.321411Z"
    },
    "tags": []
   },
   "outputs": [
    {
     "name": "stdout",
     "output_type": "stream",
     "text": [
      "84 8.316831683168317\n"
     ]
    },
    {
     "data": {
      "text/plain": [
       "'Key Features of Sunlast 16 inch Laptop Backpack Laptop Backpack with solar panel Comfortable back panel with air-flow design Adjustable sternum strap Large outer elasticated mesh side pocket and a top carry handle Padded and Adjustable shoulder straps Charge your mobile by solar power Mobile power backup option Long life Easy to use,Sunlast 16 inch Laptop Backpack (Yellow) Price: Rs. 2,348 The Sunlast New Laptop Backpack with Solar Panel ensures complete safety to your laptop with its high-quality built and wide range of built-in features. With the inside of this bag featuring a protective padding, you can be rest assured that the laptop inside it will be well cushioned from any accidental damage caused when you bump into any surface. As it is made of nylon, this laptop backpack can withstand abrasions and is long lasting. This Sunlast Backpack comes with a unique solar panel which allows you to charge your mobile phone anywhere anytime. This Sunlast Laptop backpack with solar panel is a great innovation in the field of mobile charging and other similar applications. This solar panel has USB output pins suitable for mobile phones. This is a great solar charger bag available at the best price. The best feature of this bag is its portability and durability. This solar charger is suitable for all smart phones and charging time depends on battery mAh. With this beautiful product, you can charge your phone in an eco-friendly way with no cost to you or the environment. Along with being durable, nylon also ensures that this backpack can survive rugged outdoor use, thus you can confidently wear this bag while you are out camping. This backpack is also water-resistant and keeps your laptop safe in wet and damp conditions. The Sunlast laptop backpack is perfect for your laptop. This backpack features top loading and can accommodate a large size laptop easily. It is a lightweight and comfortable laptop carry bag and comes with padded straps that distribute the weight evenly on your shoulders without stressing your back and shoulders. You can adjust the cushioned straps for a snug-fit. This Sunlast backpack is water resistant and protects your laptop and other accessories from water. It is made to suit all the styles and can be used by both college-goers and office-goers. It offers enough space for you to carry your essentials along with your laptop and its accessories. It features a zippered compartment that is big enough to hold your laptop. It also features one front pocket with an office organiser. You can use it to store the charger, mouse, pen drive, notepad, pen and other essentials. It features two mesh side pockets, where you can keep your water bottle or any other item for quick access. It is spacious enough to store your belongings on a one-day business trip as well. Buy this Sunlast backpack and carry your laptop and other accessories safely and in style.,Specifications of Sunlast 16 inch Laptop Backpack (Yellow) General Brand Sunlast Trolley No Expandable No Type Laptop Backpack Model Name L003 Yellow solar mobile charger Material Nylon Compatible Laptop Size 16 inch Style Code L003 Yellow Closure Type Zip Color Code Yellow Color Yellow Dimensions Exterior Width 350 mm Weight 820 g Exterior Height 450 mm In the Box Laptop Backpack With Solar Panel Body Features Hip Strap No Secret Security Compartment Yes Waterproof Yes Rain Cover No Shoulder Strap Adjustable Number of Compartments 4'"
      ]
     },
     "execution_count": 11,
     "metadata": {},
     "output_type": "execute_result"
    }
   ],
   "source": [
    "out = []\n",
    "q1 = txt_df['lenght'].quantile(0.25)\n",
    "q3 = txt_df['lenght'].quantile(0.75)\n",
    "interq = q3-q1\n",
    "out = txt_df.loc[(txt_df['lenght'] < (q1-1.5*interq)) | (txt_df['lenght'] > (q3+1.5*interq))]\n",
    "print(out.shape[0], out.shape[0]/txt_df.shape[0]*100)\n",
    "out.sort_values(by='lenght', ascending = False).iloc[1, 1]"
   ]
  },
  {
   "cell_type": "code",
   "execution_count": 12,
   "id": "8da11c3f-6747-4e06-8b90-353672c85870",
   "metadata": {
    "execution": {
     "iopub.execute_input": "2022-12-22T14:16:08.340413Z",
     "iopub.status.busy": "2022-12-22T14:16:08.340413Z",
     "iopub.status.idle": "2022-12-22T14:16:12.405388Z",
     "shell.execute_reply": "2022-12-22T14:16:12.405388Z",
     "shell.execute_reply.started": "2022-12-22T14:16:08.340413Z"
    },
    "tags": []
   },
   "outputs": [
    {
     "data": {
      "text/plain": [
       "<spacy_language_detection.spacy_language_detector.LanguageDetector at 0x16d32530370>"
      ]
     },
     "execution_count": 12,
     "metadata": {},
     "output_type": "execute_result"
    }
   ],
   "source": [
    "# check if all the sentences are english\n",
    "from spacy_language_detection import LanguageDetector\n",
    "from spacy.language import Language\n",
    "import spacy\n",
    "\n",
    "def get_lang_detector(nlp, name):\n",
    "    return LanguageDetector(seed=38)\n",
    "nlp = spacy.load(\"en_core_web_sm\")\n",
    "Language.factory(\"language_detector\", func=get_lang_detector)\n",
    "nlp.add_pipe('language_detector', last=True)"
   ]
  },
  {
   "cell_type": "code",
   "execution_count": 13,
   "id": "a01169b3-293f-4e3e-8a84-8bee1d0f19e6",
   "metadata": {
    "execution": {
     "iopub.execute_input": "2022-12-22T14:16:12.406365Z",
     "iopub.status.busy": "2022-12-22T14:16:12.406365Z",
     "iopub.status.idle": "2022-12-22T14:16:29.406366Z",
     "shell.execute_reply": "2022-12-22T14:16:29.406366Z",
     "shell.execute_reply.started": "2022-12-22T14:16:12.406365Z"
    },
    "tags": []
   },
   "outputs": [
    {
     "data": {
      "text/plain": [
       "array(['en', 'it'], dtype=object)"
      ]
     },
     "execution_count": 13,
     "metadata": {},
     "output_type": "execute_result"
    }
   ],
   "source": [
    "def lang_detect(x):\n",
    "    results = nlp(x)._.language\n",
    "    return results['language']\n",
    "\n",
    "txt_df['lang'] = txt_df['description'].apply(lambda x: lang_detect(x))\n",
    "txt_df['lang'].unique()"
   ]
  },
  {
   "cell_type": "code",
   "execution_count": 14,
   "id": "9dd3727f-6a84-4055-936d-46f31eccb284",
   "metadata": {
    "execution": {
     "iopub.execute_input": "2022-12-22T14:16:29.407371Z",
     "iopub.status.busy": "2022-12-22T14:16:29.407371Z",
     "iopub.status.idle": "2022-12-22T14:16:29.422364Z",
     "shell.execute_reply": "2022-12-22T14:16:29.422364Z",
     "shell.execute_reply.started": "2022-12-22T14:16:29.407371Z"
    },
    "tags": []
   },
   "outputs": [],
   "source": [
    "idx = txt_df.loc[txt_df['lang'] == 'it'].index\n",
    "txt_df = txt_df.drop(index = idx)"
   ]
  },
  {
   "cell_type": "markdown",
   "id": "472dfe5c-5a76-4ff3-81eb-8337156bc045",
   "metadata": {},
   "source": [
    "## Preprocessing"
   ]
  },
  {
   "cell_type": "code",
   "execution_count": 15,
   "id": "71b629e0-8929-406f-94f8-331c60def133",
   "metadata": {
    "execution": {
     "iopub.execute_input": "2022-12-22T14:16:29.423365Z",
     "iopub.status.busy": "2022-12-22T14:16:29.423365Z",
     "iopub.status.idle": "2022-12-22T14:16:29.910412Z",
     "shell.execute_reply": "2022-12-22T14:16:29.910412Z",
     "shell.execute_reply.started": "2022-12-22T14:16:29.423365Z"
    },
    "tags": []
   },
   "outputs": [
    {
     "name": "stderr",
     "output_type": "stream",
     "text": [
      "[nltk_data] Downloading package stopwords to\n",
      "[nltk_data]     C:\\Users\\Nico\\AppData\\Roaming\\nltk_data...\n",
      "[nltk_data]   Package stopwords is already up-to-date!\n",
      "[nltk_data] Downloading package punkt to\n",
      "[nltk_data]     C:\\Users\\Nico\\AppData\\Roaming\\nltk_data...\n",
      "[nltk_data]   Package punkt is already up-to-date!\n",
      "[nltk_data] Downloading package words to\n",
      "[nltk_data]     C:\\Users\\Nico\\AppData\\Roaming\\nltk_data...\n",
      "[nltk_data]   Package words is already up-to-date!\n",
      "[nltk_data] Downloading package wordnet to\n",
      "[nltk_data]     C:\\Users\\Nico\\AppData\\Roaming\\nltk_data...\n",
      "[nltk_data]   Package wordnet is already up-to-date!\n",
      "[nltk_data] Downloading package omw-1.4 to\n",
      "[nltk_data]     C:\\Users\\Nico\\AppData\\Roaming\\nltk_data...\n",
      "[nltk_data]   Package omw-1.4 is already up-to-date!\n"
     ]
    },
    {
     "data": {
      "text/plain": [
       "True"
      ]
     },
     "execution_count": 15,
     "metadata": {},
     "output_type": "execute_result"
    }
   ],
   "source": [
    "import nltk \n",
    "import string\n",
    "nltk.download('stopwords')\n",
    "nltk.download('punkt')\n",
    "nltk.download('words')\n",
    "nltk.download('wordnet')\n",
    "nltk.download('omw-1.4')"
   ]
  },
  {
   "cell_type": "code",
   "execution_count": 16,
   "id": "e90483c0-ff29-49ed-9209-edb7dac1c051",
   "metadata": {
    "execution": {
     "iopub.execute_input": "2022-12-22T14:16:29.911412Z",
     "iopub.status.busy": "2022-12-22T14:16:29.911412Z",
     "iopub.status.idle": "2022-12-22T14:16:30.006446Z",
     "shell.execute_reply": "2022-12-22T14:16:30.006446Z",
     "shell.execute_reply.started": "2022-12-22T14:16:29.911412Z"
    },
    "tags": []
   },
   "outputs": [],
   "source": [
    "words = set(nltk.corpus.words.words())\n",
    "stopwords = nltk.corpus.stopwords.words('english')\n",
    "lemmatizer = nltk.stem.WordNetLemmatizer()\n",
    "\n",
    "def prepro(x):\n",
    "    prepro_list = []\n",
    "    for sentence in x:\n",
    "        sent_wo_punc = \"\".join([i.lower() for i in sentence if i not in string.punctuation])\n",
    "        sent_wo_num = ''.join([i for i in sent_wo_punc if not i.isdigit()])\n",
    "        sent_token = nltk.tokenize.word_tokenize(sent_wo_num)\n",
    "        sent_token_wo_punc = [i for i in sent_token if i not in string.punctuation]\n",
    "        token_wo_stop = [i for i in sent_token_wo_punc if i not in stopwords]\n",
    "        lem = (lemmatizer.lemmatize(i) for i in token_wo_stop if i not in string.punctuation)\n",
    "        clean = ' '.join(i for i in lem if len(str(i)) > 2)\n",
    "        prepro_list.append(clean)\n",
    "    return prepro_list"
   ]
  },
  {
   "cell_type": "code",
   "execution_count": 17,
   "id": "522ff401-5b7b-453d-8d87-c3035d08d46c",
   "metadata": {
    "execution": {
     "iopub.execute_input": "2022-12-22T14:16:30.007389Z",
     "iopub.status.busy": "2022-12-22T14:16:30.007389Z",
     "iopub.status.idle": "2022-12-22T14:16:30.022388Z",
     "shell.execute_reply": "2022-12-22T14:16:30.022388Z",
     "shell.execute_reply.started": "2022-12-22T14:16:30.007389Z"
    },
    "tags": []
   },
   "outputs": [],
   "source": [
    "sentence = txt_df['description'].sample()"
   ]
  },
  {
   "cell_type": "code",
   "execution_count": 18,
   "id": "4abe0ef3-80ec-4e6d-a316-70d9f1bb37d9",
   "metadata": {
    "execution": {
     "iopub.execute_input": "2022-12-22T14:16:30.023390Z",
     "iopub.status.busy": "2022-12-22T14:16:30.023390Z",
     "iopub.status.idle": "2022-12-22T14:16:31.266418Z",
     "shell.execute_reply": "2022-12-22T14:16:31.266418Z",
     "shell.execute_reply.started": "2022-12-22T14:16:30.023390Z"
    },
    "tags": []
   },
   "outputs": [
    {
     "data": {
      "text/plain": [
       "'buy lal haveli rajasthani wooden crafted unique chowkidar statue wooden darwam showpiece online lal haveli rajasthani wooden crafted unique chowkidar statue wooden darwam showpiece best price free shipping cash delivery genuine product day replacement guarantee'"
      ]
     },
     "execution_count": 18,
     "metadata": {},
     "output_type": "execute_result"
    }
   ],
   "source": [
    "sentence = txt_df['description'].sample()\n",
    "sent_wo_punc = \"\".join([i.lower() for i in sentence if i not in string.punctuation])\n",
    "sent_wo_num = ''.join([i for i in sent_wo_punc if not i.isdigit()])\n",
    "sent_token = nltk.tokenize.word_tokenize(sent_wo_num)\n",
    "sent_token_wo_punc = [i for i in sent_token if i not in string.punctuation]\n",
    "token_wo_stop = [i for i in sent_token_wo_punc if i not in stopwords]\n",
    "lem = (lemmatizer.lemmatize(i) for i in token_wo_stop if i not in string.punctuation)\n",
    "clean = ' '.join(i for i in lem if len(str(i)) > 2)\n",
    "clean"
   ]
  },
  {
   "cell_type": "code",
   "execution_count": 19,
   "id": "96ed4571-c558-443c-90c1-ebfad9f87991",
   "metadata": {
    "execution": {
     "iopub.execute_input": "2022-12-22T14:16:31.268388Z",
     "iopub.status.busy": "2022-12-22T14:16:31.267421Z",
     "iopub.status.idle": "2022-12-22T14:16:31.989736Z",
     "shell.execute_reply": "2022-12-22T14:16:31.989736Z",
     "shell.execute_reply.started": "2022-12-22T14:16:31.268388Z"
    },
    "tags": []
   },
   "outputs": [
    {
     "data": {
      "image/png": "[encoded data removed]",
      "text/plain": [
       "<Figure size 720x720 with 1 Axes>"
      ]
     },
     "metadata": {
      "needs_background": "light"
     },
     "output_type": "display_data"
    }
   ],
   "source": [
    "txt_df['description_clean'] = prepro(txt_df['description'])\n",
    "txt_df['lenght_clean'] = txt_df['description_clean'].apply(lambda x: len(x))\n",
    "fig, ax = plt.subplots(figsize=(10, 10))\n",
    "sns.boxplot(data = txt_df['lenght_clean'],\n",
    "            ax=ax\n",
    "           )\n",
    "ax.text(0.75,\n",
    "        0.8,\n",
    "        str(txt_df['lenght_clean'].describe()),\n",
    "        transform=ax.transAxes\n",
    "        )\n",
    "plt.show()"
   ]
  },
  {
   "cell_type": "code",
   "execution_count": 21,
   "id": "ccb713fa-90cc-4248-9e87-5043f67deb9f",
   "metadata": {
    "execution": {
     "iopub.execute_input": "2022-12-22T14:17:35.140011Z",
     "iopub.status.busy": "2022-12-22T14:17:35.139039Z",
     "iopub.status.idle": "2022-12-22T14:17:35.149009Z",
     "shell.execute_reply": "2022-12-22T14:17:35.149009Z",
     "shell.execute_reply.started": "2022-12-22T14:17:35.139039Z"
    },
    "tags": []
   },
   "outputs": [],
   "source": [
    "idx = txt_df.sample().index\n",
    "txt_df = txt_df.drop(index = idx)"
   ]
  },
  {
   "cell_type": "code",
   "execution_count": 22,
   "id": "004da212-46d2-4905-b62e-f6eede5ee828",
   "metadata": {
    "execution": {
     "iopub.execute_input": "2022-12-22T14:17:40.867783Z",
     "iopub.status.busy": "2022-12-22T14:17:40.866813Z",
     "iopub.status.idle": "2022-12-22T14:17:40.882782Z",
     "shell.execute_reply": "2022-12-22T14:17:40.881781Z",
     "shell.execute_reply.started": "2022-12-22T14:17:40.866813Z"
    },
    "tags": []
   },
   "outputs": [],
   "source": [
    "from sklearn.preprocessing import LabelEncoder\n",
    "le = LabelEncoder()\n",
    "txt_df['labels_0'] = le.fit_transform(txt_df['product_category_0'])\n",
    "txt_df['labels_1'] = le.fit_transform(txt_df['product_category_1'])"
   ]
  },
  {
   "cell_type": "markdown",
   "id": "be433df6-86a4-4d3b-9eb8-14f04fe58f64",
   "metadata": {},
   "source": [
    "## Bag of Words"
   ]
  },
  {
   "cell_type": "code",
   "execution_count": 23,
   "id": "e9ec5649-cd87-45f7-85eb-a869db06a30a",
   "metadata": {
    "execution": {
     "iopub.execute_input": "2022-12-22T14:17:41.265479Z",
     "iopub.status.busy": "2022-12-22T14:17:41.265479Z",
     "iopub.status.idle": "2022-12-22T14:17:41.317447Z",
     "shell.execute_reply": "2022-12-22T14:17:41.317447Z",
     "shell.execute_reply.started": "2022-12-22T14:17:41.265479Z"
    },
    "tags": []
   },
   "outputs": [],
   "source": [
    "from sklearn.feature_extraction.text import CountVectorizer\n",
    "vectorizer = CountVectorizer(stop_words='english')\n",
    "bag_of_words = vectorizer.fit_transform(txt_df['description_clean'].tolist())"
   ]
  },
  {
   "cell_type": "code",
   "execution_count": 24,
   "id": "581af3ad-f271-4a82-8b7a-dae73f6b3e11",
   "metadata": {
    "execution": {
     "iopub.execute_input": "2022-12-22T14:17:41.507081Z",
     "iopub.status.busy": "2022-12-22T14:17:41.507081Z",
     "iopub.status.idle": "2022-12-22T14:17:43.198078Z",
     "shell.execute_reply": "2022-12-22T14:17:43.198078Z",
     "shell.execute_reply.started": "2022-12-22T14:17:41.507081Z"
    },
    "tags": []
   },
   "outputs": [
    {
     "name": "stdout",
     "output_type": "stream",
     "text": [
      "The ari scores are 0.038707922427780865 for categorie 0 and 0.1921529872369165 for categorie 1.\n"
     ]
    }
   ],
   "source": [
    "from sklearn import cluster, metrics\n",
    "clus = cluster.KMeans(n_clusters = txt_df['product_category_0'].unique().shape[0], random_state = 38)\n",
    "clus1 = cluster.KMeans(n_clusters = txt_df['product_category_1'].unique().shape[0], random_state = 38)\n",
    "clus.fit(bag_of_words)\n",
    "clus1.fit(bag_of_words)\n",
    "ari = metrics.adjusted_rand_score(np.array(txt_df['labels_0']),\n",
    "                                                 np.array(clus.labels_)\n",
    "                                                 )\n",
    "ari1 = metrics.adjusted_rand_score(np.array(txt_df['labels_1']),\n",
    "                                                 np.array(clus1.labels_)\n",
    "                                                 )\n",
    "print('The ari scores are {} for categorie 0 and {} for categorie 1.'.format(ari, ari1))"
   ]
  },
  {
   "cell_type": "markdown",
   "id": "67ad03c9-07e5-4f50-b252-7f4b18b6f36e",
   "metadata": {},
   "source": [
    "## Tf-Idf"
   ]
  },
  {
   "cell_type": "code",
   "execution_count": 25,
   "id": "ef9eb59e-0176-4c95-9ed9-975fe7a97b21",
   "metadata": {
    "execution": {
     "iopub.execute_input": "2022-12-22T14:17:43.199080Z",
     "iopub.status.busy": "2022-12-22T14:17:43.199080Z",
     "iopub.status.idle": "2022-12-22T14:17:46.821079Z",
     "shell.execute_reply": "2022-12-22T14:17:46.821079Z",
     "shell.execute_reply.started": "2022-12-22T14:17:43.199080Z"
    },
    "tags": []
   },
   "outputs": [
    {
     "name": "stdout",
     "output_type": "stream",
     "text": [
      "The ari scores are 0.28292942879316785 for categorie 0 and 0.405491881548357 for categorie 1.\n"
     ]
    }
   ],
   "source": [
    "from sklearn.feature_extraction.text import TfidfVectorizer\n",
    "tf_idf_vect = TfidfVectorizer(stop_words='english')\n",
    "tf_idf_matrix = tf_idf_vect.fit_transform(txt_df['description_clean'].tolist())\n",
    "clus.fit(tf_idf_matrix)\n",
    "clus1.fit(tf_idf_matrix)\n",
    "ari = metrics.adjusted_rand_score(np.array(txt_df['labels_0']),\n",
    "                                                 np.array(clus.labels_)\n",
    "                                                 )\n",
    "ari1 = metrics.adjusted_rand_score(np.array(txt_df['labels_1']),\n",
    "                                                 np.array(clus1.labels_)\n",
    "                                                 )\n",
    "print('The ari scores are {} for categorie 0 and {} for categorie 1.'.format(ari, ari1))"
   ]
  },
  {
   "cell_type": "markdown",
   "id": "62c6b539-fb4a-4138-bbab-e0391dcb6bc1",
   "metadata": {},
   "source": [
    "### n-gram"
   ]
  },
  {
   "cell_type": "code",
   "execution_count": 26,
   "id": "6d617700-b7ce-4b97-aad2-009835154669",
   "metadata": {
    "execution": {
     "iopub.execute_input": "2022-12-22T14:17:46.822080Z",
     "iopub.status.busy": "2022-12-22T14:17:46.822080Z",
     "iopub.status.idle": "2022-12-22T14:17:56.325078Z",
     "shell.execute_reply": "2022-12-22T14:17:56.325078Z",
     "shell.execute_reply.started": "2022-12-22T14:17:46.822080Z"
    },
    "tags": []
   },
   "outputs": [
    {
     "name": "stdout",
     "output_type": "stream",
     "text": [
      "The ari scores for the 1-gram are 0.038707922427780865 for categorie 0 and 0.1921529872369165 for categorie 1.\n",
      "The ari scores for the 2-gram are 0.11252862542132695 for categorie 0 and 0.1721714244190968 for categorie 1.\n",
      "The ari scores for the 3-gram are 0.08936997724137975 for categorie 0 and 0.1881678267351953 for categorie 1.\n",
      "The ari scores for the 4-gram are 0.17087590711133016 for categorie 0 and 0.1883617600528319 for categorie 1.\n",
      "The ari scores for the 5-gram are 0.15710584506743994 for categorie 0 and 0.14943766223385832 for categorie 1.\n"
     ]
    }
   ],
   "source": [
    "# Bag of words\n",
    "for i in range(1, 6):\n",
    "    vectorizer = CountVectorizer(stop_words='english', ngram_range=(i, i))\n",
    "    bag_of_words = vectorizer.fit_transform(txt_df['description_clean'].tolist())\n",
    "    clus.fit(bag_of_words)\n",
    "    clus1.fit(bag_of_words)\n",
    "    ari = metrics.adjusted_rand_score(np.array(txt_df['labels_0']),\n",
    "                                                 np.array(clus.labels_)\n",
    "                                                 )\n",
    "    ari1 = metrics.adjusted_rand_score(np.array(txt_df['labels_1']),\n",
    "                                                 np.array(clus1.labels_)\n",
    "                                                 )\n",
    "    print('The ari scores for the {}-gram are {} for categorie 0 and {} for categorie 1.'.format(i, ari, ari1))\n"
   ]
  },
  {
   "cell_type": "code",
   "execution_count": 27,
   "id": "25538b04-4d83-409f-a43b-09ade77aeb39",
   "metadata": {
    "execution": {
     "iopub.execute_input": "2022-12-22T14:17:56.327079Z",
     "iopub.status.busy": "2022-12-22T14:17:56.326079Z",
     "iopub.status.idle": "2022-12-22T14:18:15.291078Z",
     "shell.execute_reply": "2022-12-22T14:18:15.291078Z",
     "shell.execute_reply.started": "2022-12-22T14:17:56.327079Z"
    },
    "tags": []
   },
   "outputs": [
    {
     "name": "stdout",
     "output_type": "stream",
     "text": [
      "The ari scores for the 1-gram are 0.28292942879316785 for categorie 0 and 0.405491881548357 for categorie 1.\n",
      "The ari scores for the 2-gram are 0.2530357864170918 for categorie 0 and 0.29092268276851924 for categorie 1.\n",
      "The ari scores for the 3-gram are 0.2526359666412971 for categorie 0 and 0.22025286714073355 for categorie 1.\n",
      "The ari scores for the 4-gram are 0.1603218114165004 for categorie 0 and 0.23984023225072817 for categorie 1.\n",
      "The ari scores for the 5-gram are 0.18724553878686553 for categorie 0 and 0.15220391834049826 for categorie 1.\n"
     ]
    }
   ],
   "source": [
    "# tf-idf\n",
    "for i in range(1,6):\n",
    "    tf_idf_vect = TfidfVectorizer(stop_words='english', ngram_range=(i, i))\n",
    "    tf_idf_matrix = tf_idf_vect.fit_transform(txt_df['description_clean'].tolist())\n",
    "    clus.fit(tf_idf_matrix)\n",
    "    clus1.fit(tf_idf_matrix)\n",
    "    ari = metrics.adjusted_rand_score(np.array(txt_df['labels_0']),\n",
    "                                                 np.array(clus.labels_)\n",
    "                                                 )\n",
    "    ari1 = metrics.adjusted_rand_score(np.array(txt_df['labels_1']),\n",
    "                                                 np.array(clus1.labels_)\n",
    "                                                 )\n",
    "    print('The ari scores for the {}-gram are {} for categorie 0 and {} for categorie 1.'.format(i, ari, ari1))"
   ]
  },
  {
   "cell_type": "code",
   "execution_count": 28,
   "id": "e49e6985-2acd-41df-aeb5-38bc26033755",
   "metadata": {
    "execution": {
     "iopub.execute_input": "2022-12-22T14:18:15.292079Z",
     "iopub.status.busy": "2022-12-22T14:18:15.292079Z",
     "iopub.status.idle": "2022-12-22T14:18:15.306078Z",
     "shell.execute_reply": "2022-12-22T14:18:15.306078Z",
     "shell.execute_reply.started": "2022-12-22T14:18:15.292079Z"
    },
    "tags": []
   },
   "outputs": [
    {
     "name": "stdout",
     "output_type": "stream",
     "text": [
      "<class 'pandas.core.frame.DataFrame'>\n",
      "Int64Index: 1008 entries, 0 to 1049\n",
      "Data columns (total 10 columns):\n",
      " #   Column              Non-Null Count  Dtype \n",
      "---  ------              --------------  ----- \n",
      " 0   uniq_id             1008 non-null   object\n",
      " 1   description         1008 non-null   object\n",
      " 2   product_category_0  1008 non-null   object\n",
      " 3   product_category_1  1008 non-null   object\n",
      " 4   lenght              1008 non-null   int64 \n",
      " 5   lang                1008 non-null   object\n",
      " 6   description_clean   1008 non-null   object\n",
      " 7   lenght_clean        1008 non-null   int64 \n",
      " 8   labels_0            1008 non-null   int32 \n",
      " 9   labels_1            1008 non-null   int32 \n",
      "dtypes: int32(2), int64(2), object(6)\n",
      "memory usage: 78.8+ KB\n"
     ]
    }
   ],
   "source": [
    "txt_df.info()"
   ]
  },
  {
   "cell_type": "markdown",
   "id": "712380a0-994c-4294-9300-66a907440b41",
   "metadata": {},
   "source": [
    "## Word2Vec"
   ]
  },
  {
   "cell_type": "code",
   "execution_count": 29,
   "id": "69699740-2937-4b13-945f-480a884e8aeb",
   "metadata": {
    "execution": {
     "iopub.execute_input": "2022-12-22T14:18:15.307081Z",
     "iopub.status.busy": "2022-12-22T14:18:15.307081Z",
     "iopub.status.idle": "2022-12-22T14:18:15.510087Z",
     "shell.execute_reply": "2022-12-22T14:18:15.509077Z",
     "shell.execute_reply.started": "2022-12-22T14:18:15.307081Z"
    },
    "tags": []
   },
   "outputs": [],
   "source": [
    "txt_df['description_token'] = txt_df['description_clean'].apply(lambda x: nltk.tokenize.word_tokenize(x))"
   ]
  },
  {
   "cell_type": "code",
   "execution_count": 30,
   "id": "c980f75a-8986-4bb5-868b-53f3cf60e66b",
   "metadata": {
    "execution": {
     "iopub.execute_input": "2022-12-22T14:18:15.511080Z",
     "iopub.status.busy": "2022-12-22T14:18:15.510087Z",
     "iopub.status.idle": "2022-12-22T14:18:16.796019Z",
     "shell.execute_reply": "2022-12-22T14:18:16.796019Z",
     "shell.execute_reply.started": "2022-12-22T14:18:15.511080Z"
    },
    "tags": []
   },
   "outputs": [
    {
     "data": {
      "text/plain": [
       "(1199841, 1719900)"
      ]
     },
     "execution_count": 30,
     "metadata": {},
     "output_type": "execute_result"
    }
   ],
   "source": [
    "from gensim.models import Word2Vec\n",
    "model = Word2Vec(vector_size = 300)\n",
    "model.build_vocab(txt_df['description_token'].tolist())\n",
    "model.train(txt_df['description_token'].tolist(), total_examples=model.corpus_count, epochs=35)"
   ]
  },
  {
   "cell_type": "code",
   "execution_count": 31,
   "id": "b33f5f61-32a6-46d5-ac5b-f97622ead604",
   "metadata": {
    "execution": {
     "iopub.execute_input": "2022-12-22T14:18:16.797015Z",
     "iopub.status.busy": "2022-12-22T14:18:16.797015Z",
     "iopub.status.idle": "2022-12-22T14:18:16.810989Z",
     "shell.execute_reply": "2022-12-22T14:18:16.810989Z",
     "shell.execute_reply.started": "2022-12-22T14:18:16.797015Z"
    },
    "tags": []
   },
   "outputs": [
    {
     "data": {
      "text/plain": [
       "1008"
      ]
     },
     "execution_count": 31,
     "metadata": {},
     "output_type": "execute_result"
    }
   ],
   "source": [
    "model.corpus_count"
   ]
  },
  {
   "cell_type": "code",
   "execution_count": 32,
   "id": "70179125-d4b8-4b35-922b-939ab3b6028c",
   "metadata": {
    "execution": {
     "iopub.execute_input": "2022-12-22T14:18:16.812990Z",
     "iopub.status.busy": "2022-12-22T14:18:16.812015Z",
     "iopub.status.idle": "2022-12-22T14:18:16.827013Z",
     "shell.execute_reply": "2022-12-22T14:18:16.827013Z",
     "shell.execute_reply.started": "2022-12-22T14:18:16.812990Z"
    },
    "tags": []
   },
   "outputs": [],
   "source": [
    "vector = model.wv"
   ]
  },
  {
   "cell_type": "code",
   "execution_count": 33,
   "id": "b1f9af17-2021-4dbd-b17b-4aaf720ee438",
   "metadata": {
    "execution": {
     "iopub.execute_input": "2022-12-22T14:18:16.829988Z",
     "iopub.status.busy": "2022-12-22T14:18:16.829988Z",
     "iopub.status.idle": "2022-12-22T14:18:16.842986Z",
     "shell.execute_reply": "2022-12-22T14:18:16.842986Z",
     "shell.execute_reply.started": "2022-12-22T14:18:16.829988Z"
    },
    "tags": []
   },
   "outputs": [
    {
     "data": {
      "text/plain": [
       "[('vibrantly', 0.7792213559150696),\n",
       " ('conditioner', 0.7347131371498108),\n",
       " ('oudh', 0.7250983715057373),\n",
       " ('smooth', 0.7247493863105774),\n",
       " ('deep', 0.7199403047561646),\n",
       " ('lip', 0.7197373509407043),\n",
       " ('arabic', 0.7077121734619141),\n",
       " ('styling', 0.7054387331008911),\n",
       " ('pencil', 0.7052897810935974),\n",
       " ('bathing', 0.6957002282142639)]"
      ]
     },
     "execution_count": 33,
     "metadata": {},
     "output_type": "execute_result"
    }
   ],
   "source": [
    "vector.most_similar(\"natural\")"
   ]
  },
  {
   "cell_type": "code",
   "execution_count": 34,
   "id": "73dff19e-748c-485c-adfa-01f82c0425a7",
   "metadata": {
    "execution": {
     "iopub.execute_input": "2022-12-22T14:18:16.843988Z",
     "iopub.status.busy": "2022-12-22T14:18:16.843988Z",
     "iopub.status.idle": "2022-12-22T14:18:16.858988Z",
     "shell.execute_reply": "2022-12-22T14:18:16.858988Z",
     "shell.execute_reply.started": "2022-12-22T14:18:16.843988Z"
    },
    "tags": []
   },
   "outputs": [
    {
     "data": {
      "text/plain": [
       "[('keyboard', 0.9390594959259033),\n",
       " ('vacuum', 0.91941899061203),\n",
       " ('connect', 0.9157864451408386),\n",
       " ('cleaner', 0.9085255265235901),\n",
       " ('desktop', 0.8910144567489624),\n",
       " ('air', 0.8909555077552795),\n",
       " ('device', 0.8802198767662048),\n",
       " ('attachment', 0.8456305861473083),\n",
       " ('port', 0.8359788656234741),\n",
       " ('cleaning', 0.8350987434387207)]"
      ]
     },
     "execution_count": 34,
     "metadata": {},
     "output_type": "execute_result"
    }
   ],
   "source": [
    "vector.most_similar('computer')"
   ]
  },
  {
   "cell_type": "code",
   "execution_count": 35,
   "id": "f0e15b3b-1d5f-47cf-ac69-2097754eabf3",
   "metadata": {
    "execution": {
     "iopub.execute_input": "2022-12-22T14:18:16.859988Z",
     "iopub.status.busy": "2022-12-22T14:18:16.859988Z",
     "iopub.status.idle": "2022-12-22T14:18:16.874988Z",
     "shell.execute_reply": "2022-12-22T14:18:16.874988Z",
     "shell.execute_reply.started": "2022-12-22T14:18:16.859988Z"
    },
    "tags": []
   },
   "outputs": [],
   "source": [
    "def get_mean(vectors, document):\n",
    "    # check if each token is in the vocab (min =5)\n",
    "    doc = [i for i in document if i in vectors.index_to_key]\n",
    "    mean = np.mean(vectors[doc], axis = 0)\n",
    "    return mean"
   ]
  },
  {
   "cell_type": "code",
   "execution_count": 36,
   "id": "2b367baa-2b98-4cb6-9fe5-f3a24e865d31",
   "metadata": {
    "execution": {
     "iopub.execute_input": "2022-12-22T14:18:16.875991Z",
     "iopub.status.busy": "2022-12-22T14:18:16.875991Z",
     "iopub.status.idle": "2022-12-22T14:18:17.234029Z",
     "shell.execute_reply": "2022-12-22T14:18:17.232999Z",
     "shell.execute_reply.started": "2022-12-22T14:18:16.875991Z"
    },
    "tags": []
   },
   "outputs": [],
   "source": [
    "txt_df['embeded_doc'] = txt_df['description_token'].apply(lambda x: get_mean(vector, x))"
   ]
  },
  {
   "cell_type": "code",
   "execution_count": 37,
   "id": "d7a4bacd-ab8a-4657-822e-f78735f7c0f8",
   "metadata": {
    "execution": {
     "iopub.execute_input": "2022-12-22T14:18:17.236026Z",
     "iopub.status.busy": "2022-12-22T14:18:17.236026Z",
     "iopub.status.idle": "2022-12-22T14:18:18.048987Z",
     "shell.execute_reply": "2022-12-22T14:18:18.048987Z",
     "shell.execute_reply.started": "2022-12-22T14:18:17.236026Z"
    },
    "tags": []
   },
   "outputs": [
    {
     "name": "stdout",
     "output_type": "stream",
     "text": [
      "The ari scores are 0.2542156532395425 for categorie 0 and 0.4813849543289147 for categorie 1.\n"
     ]
    }
   ],
   "source": [
    "embeded_doc = pd.DataFrame(txt_df['embeded_doc'].tolist())\n",
    "clus.fit(embeded_doc)\n",
    "clus1.fit(embeded_doc)\n",
    "ari = metrics.adjusted_rand_score(np.array(txt_df['labels_0']),\n",
    "                                                 np.array(clus.labels_)\n",
    "                                                 )\n",
    "ari1 = metrics.adjusted_rand_score(np.array(txt_df['labels_1']),\n",
    "                                                 np.array(clus1.labels_)\n",
    "                                                 )\n",
    "print('The ari scores are {} for categorie 0 and {} for categorie 1.'.format(ari, ari1))"
   ]
  },
  {
   "cell_type": "code",
   "execution_count": 38,
   "id": "3ac24100-cb97-4cdd-90d3-822ebe4917ef",
   "metadata": {
    "execution": {
     "iopub.execute_input": "2022-12-22T14:18:18.049988Z",
     "iopub.status.busy": "2022-12-22T14:18:18.049988Z",
     "iopub.status.idle": "2022-12-22T14:19:10.147625Z",
     "shell.execute_reply": "2022-12-22T14:19:10.147625Z",
     "shell.execute_reply.started": "2022-12-22T14:18:18.049988Z"
    },
    "tags": []
   },
   "outputs": [
    {
     "data": {
      "image/png": "[encoded data removed]",
      "text/plain": [
       "<Figure size 432x288 with 1 Axes>"
      ]
     },
     "metadata": {
      "needs_background": "light"
     },
     "output_type": "display_data"
    }
   ],
   "source": [
    "ari_l = []\n",
    "ari_l1 = []\n",
    "for i in np.arange(5,105,5):\n",
    "    model.train(txt_df['description_token'].tolist(), total_examples=model.corpus_count, epochs=i)\n",
    "    vector = model.wv\n",
    "    temp = txt_df['description_token'].apply(lambda x: get_mean(vector, x))\n",
    "    temp = pd.DataFrame(temp.tolist())\n",
    "    clus.fit(temp)\n",
    "    clus1.fit(temp)\n",
    "    ari_l.append(metrics.adjusted_rand_score(np.array(txt_df['labels_0']),\n",
    "                                                 np.array(clus.labels_)\n",
    "                                                 ))\n",
    "    ari_l1.append(metrics.adjusted_rand_score(np.array(txt_df['labels_1']),\n",
    "                                                 np.array(clus1.labels_)\n",
    "                                                 ))\n",
    "plt.plot(np.arange(5,105,5),ari_l)\n",
    "plt.plot(np.arange(5,105,5),ari_l1)\n",
    "plt.show()    "
   ]
  },
  {
   "cell_type": "markdown",
   "id": "9ac56681-d586-4a75-83ed-48e3d2e07183",
   "metadata": {},
   "source": [
    "### n-gram"
   ]
  },
  {
   "cell_type": "code",
   "execution_count": 39,
   "id": "079fb087-b1a8-413a-9e3f-d1000790c0e0",
   "metadata": {
    "execution": {
     "iopub.execute_input": "2022-12-22T14:19:10.148626Z",
     "iopub.status.busy": "2022-12-22T14:19:10.148626Z",
     "iopub.status.idle": "2022-12-22T14:19:10.162625Z",
     "shell.execute_reply": "2022-12-22T14:19:10.162625Z",
     "shell.execute_reply.started": "2022-12-22T14:19:10.148626Z"
    },
    "tags": []
   },
   "outputs": [],
   "source": [
    "from gensim.models import phrases"
   ]
  },
  {
   "cell_type": "code",
   "execution_count": 40,
   "id": "6a263c0e-02db-4929-98a5-cd3f141704e8",
   "metadata": {
    "execution": {
     "iopub.execute_input": "2022-12-22T14:19:10.163627Z",
     "iopub.status.busy": "2022-12-22T14:19:10.163627Z",
     "iopub.status.idle": "2022-12-22T14:19:10.872608Z",
     "shell.execute_reply": "2022-12-22T14:19:10.872608Z",
     "shell.execute_reply.started": "2022-12-22T14:19:10.163627Z"
    },
    "tags": []
   },
   "outputs": [
    {
     "data": {
      "text/plain": [
       "(169153, 245700)"
      ]
     },
     "execution_count": 40,
     "metadata": {},
     "output_type": "execute_result"
    }
   ],
   "source": [
    "bigrams = phrases.Phrases(txt_df['description_token'], threshold=10.0)\n",
    "model2 = Word2Vec(bigrams[txt_df['description_token']], vector_size = 300)\n",
    "model2.train(txt_df['description_token'], total_examples=model2.corpus_count, epochs=model2.epochs)"
   ]
  },
  {
   "cell_type": "code",
   "execution_count": 41,
   "id": "18b7ad40-af35-40a0-ade7-0f8cdb19b036",
   "metadata": {
    "execution": {
     "iopub.execute_input": "2022-12-22T14:19:10.873522Z",
     "iopub.status.busy": "2022-12-22T14:19:10.873522Z",
     "iopub.status.idle": "2022-12-22T14:19:10.888524Z",
     "shell.execute_reply": "2022-12-22T14:19:10.888524Z",
     "shell.execute_reply.started": "2022-12-22T14:19:10.873522Z"
    },
    "tags": []
   },
   "outputs": [
    {
     "data": {
      "text/plain": [
       "[('right', 0.9989351630210876),\n",
       " ('apple', 0.9985853433609009),\n",
       " ('pro', 0.9980522394180298),\n",
       " ('clublaptop', 0.9978201389312744),\n",
       " ('connect', 0.9975151419639587),\n",
       " ('rega', 0.9973629713058472),\n",
       " ('dvtx', 0.9972447156906128),\n",
       " ('apply', 0.9971692562103271),\n",
       " ('device', 0.9969062209129333),\n",
       " ('cable', 0.9967887997627258)]"
      ]
     },
     "execution_count": 41,
     "metadata": {},
     "output_type": "execute_result"
    }
   ],
   "source": [
    "vector2 = model2.wv\n",
    "vector2.most_similar('computer')"
   ]
  },
  {
   "cell_type": "code",
   "execution_count": 42,
   "id": "5bdda3b8-e892-4198-be9b-544f79bb9ab5",
   "metadata": {
    "execution": {
     "iopub.execute_input": "2022-12-22T14:19:10.889524Z",
     "iopub.status.busy": "2022-12-22T14:19:10.889524Z",
     "iopub.status.idle": "2022-12-22T14:19:12.160595Z",
     "shell.execute_reply": "2022-12-22T14:19:12.160595Z",
     "shell.execute_reply.started": "2022-12-22T14:19:10.889524Z"
    },
    "tags": []
   },
   "outputs": [
    {
     "name": "stdout",
     "output_type": "stream",
     "text": [
      "The ari scores are 0.25633260961355103 for categorie 0 and 0.254728158080264 for categorie 1.\n"
     ]
    }
   ],
   "source": [
    "temp = txt_df['description_token'].apply(lambda x: get_mean(vector2, x))\n",
    "temp = pd.DataFrame(temp.tolist())\n",
    "clus.fit(temp)\n",
    "clus1.fit(temp)\n",
    "ari = metrics.adjusted_rand_score(np.array(txt_df['labels_0']),\n",
    "                                                 np.array(clus.labels_)\n",
    "                                                 )\n",
    "ari1 = metrics.adjusted_rand_score(np.array(txt_df['labels_1']),\n",
    "                                                 np.array(clus1.labels_)\n",
    "                                                 )\n",
    "print('The ari scores are {} for categorie 0 and {} for categorie 1.'.format(ari, ari1))"
   ]
  },
  {
   "cell_type": "code",
   "execution_count": 43,
   "id": "c7b6390a-4958-4634-b477-28a30d0f9e69",
   "metadata": {
    "execution": {
     "iopub.execute_input": "2022-12-22T14:19:12.161596Z",
     "iopub.status.busy": "2022-12-22T14:19:12.161596Z",
     "iopub.status.idle": "2022-12-22T14:19:13.173635Z",
     "shell.execute_reply": "2022-12-22T14:19:13.173635Z",
     "shell.execute_reply.started": "2022-12-22T14:19:12.161596Z"
    },
    "tags": []
   },
   "outputs": [
    {
     "data": {
      "text/plain": [
       "0.7385377942998761"
      ]
     },
     "execution_count": 43,
     "metadata": {},
     "output_type": "execute_result"
    }
   ],
   "source": [
    "# test with a classifier \n",
    "import xgboost as xgb\n",
    "from sklearn.model_selection import train_test_split, GridSearchCV\n",
    "\n",
    "xgb_class = xgb.XGBClassifier()\n",
    "class_df = pd.DataFrame({'mean_wv': txt_df['description_token'].apply(lambda x: get_mean(vector2, x))})\n",
    "class_df = pd.DataFrame(class_df['mean_wv'].tolist())\n",
    "xtrain, xtest, ytrain, ytest = train_test_split(class_df, txt_df['labels_0'], test_size = 0.8, stratify = txt_df['labels_0'])\n",
    "\n",
    "xgb_class.fit(xtrain, ytrain)\n",
    "xgb_class.score(xtest, ytest)"
   ]
  },
  {
   "cell_type": "code",
   "execution_count": null,
   "id": "a4b7621c-bfd3-4b60-b7d8-afe36231c7d9",
   "metadata": {},
   "outputs": [],
   "source": []
  },
  {
   "cell_type": "code",
   "execution_count": 44,
   "id": "66372aa5-a21f-4eef-adb0-8ce07c999f4e",
   "metadata": {
    "execution": {
     "iopub.execute_input": "2022-12-22T14:19:13.174638Z",
     "iopub.status.busy": "2022-12-22T14:19:13.174638Z",
     "iopub.status.idle": "2022-12-22T14:20:24.806969Z",
     "shell.execute_reply": "2022-12-22T14:20:24.806969Z",
     "shell.execute_reply.started": "2022-12-22T14:19:13.174638Z"
    },
    "tags": []
   },
   "outputs": [
    {
     "data": {
      "image/png": "[encoded data removed]",
      "text/plain": [
       "<Figure size 432x288 with 1 Axes>"
      ]
     },
     "metadata": {
      "needs_background": "light"
     },
     "output_type": "display_data"
    }
   ],
   "source": [
    "ari_l = []\n",
    "ari_l1 = []\n",
    "for i in np.arange(5,125,5):\n",
    "    model2.train(txt_df['description_token'].tolist(), total_examples=model2.corpus_count, epochs=i)\n",
    "    vector2 = model2.wv\n",
    "    temp = txt_df['description_token'].apply(lambda x: get_mean(vector2, x))\n",
    "    temp = pd.DataFrame(temp.tolist())\n",
    "    clus.fit(temp)\n",
    "    clus1.fit(temp)\n",
    "    ari_l.append(metrics.adjusted_rand_score(np.array(txt_df['labels_0']),\n",
    "                                                 np.array(clus.labels_)\n",
    "                                                 ))\n",
    "    ari_l1.append(metrics.adjusted_rand_score(np.array(txt_df['labels_1']),\n",
    "                                                 np.array(clus1.labels_)\n",
    "                                                 ))\n",
    "plt.plot(np.arange(5,125,5),ari_l)\n",
    "plt.plot(np.arange(5,125,5),ari_l1)\n",
    "plt.show()   "
   ]
  },
  {
   "cell_type": "code",
   "execution_count": 45,
   "id": "516cf86b-aa0f-41da-a30f-8e47fecfdbfc",
   "metadata": {
    "execution": {
     "iopub.execute_input": "2022-12-22T14:20:24.807971Z",
     "iopub.status.busy": "2022-12-22T14:20:24.807971Z",
     "iopub.status.idle": "2022-12-22T14:22:20.145202Z",
     "shell.execute_reply": "2022-12-22T14:22:20.145202Z",
     "shell.execute_reply.started": "2022-12-22T14:20:24.807971Z"
    },
    "tags": []
   },
   "outputs": [
    {
     "data": {
      "image/png": "[encoded data removed]",
      "text/plain": [
       "<Figure size 432x288 with 1 Axes>"
      ]
     },
     "metadata": {
      "needs_background": "light"
     },
     "output_type": "display_data"
    }
   ],
   "source": [
    "# test with skipgram instead of cbow\n",
    "model3 = Word2Vec(vector_size = 300,sg =1)\n",
    "model3.build_vocab(txt_df['description_token'].tolist())\n",
    "ari_l = []\n",
    "ari_l1 = []\n",
    "for i in np.arange(5,105,5):\n",
    "    model3.train(txt_df['description_token'].tolist(), total_examples=model2.corpus_count, epochs=i)\n",
    "    vector3 = model2.wv\n",
    "    temp = txt_df['description_token'].apply(lambda x: get_mean(vector3, x))\n",
    "    temp = pd.DataFrame(temp.tolist())\n",
    "    clus.fit(temp)\n",
    "    clus1.fit(temp)\n",
    "    ari_l.append(metrics.adjusted_rand_score(np.array(txt_df['labels_0']),\n",
    "                                                 np.array(clus.labels_)\n",
    "                                                 ))\n",
    "    ari_l1.append(metrics.adjusted_rand_score(np.array(txt_df['labels_1']),\n",
    "                                                 np.array(clus1.labels_)\n",
    "                                                 ))\n",
    "plt.plot(np.arange(5,105,5),ari_l)\n",
    "plt.plot(np.arange(5,105,5),ari_l1)\n",
    "plt.show()"
   ]
  },
  {
   "cell_type": "code",
   "execution_count": 46,
   "id": "a37c421b-a2a4-459a-b53d-152ee3f6d7d5",
   "metadata": {
    "execution": {
     "iopub.execute_input": "2022-12-22T14:22:20.146204Z",
     "iopub.status.busy": "2022-12-22T14:22:20.146204Z",
     "iopub.status.idle": "2022-12-22T14:22:20.160202Z",
     "shell.execute_reply": "2022-12-22T14:22:20.160202Z",
     "shell.execute_reply.started": "2022-12-22T14:22:20.146204Z"
    },
    "tags": []
   },
   "outputs": [],
   "source": [
    "from gensim.models.doc2vec import Doc2Vec, TaggedDocument"
   ]
  },
  {
   "cell_type": "code",
   "execution_count": 47,
   "id": "9bfa74d9-497e-4937-b285-5eb0ccc8eb4d",
   "metadata": {
    "execution": {
     "iopub.execute_input": "2022-12-22T14:22:20.161204Z",
     "iopub.status.busy": "2022-12-22T14:22:20.161204Z",
     "iopub.status.idle": "2022-12-22T14:25:01.981551Z",
     "shell.execute_reply": "2022-12-22T14:25:01.981551Z",
     "shell.execute_reply.started": "2022-12-22T14:22:20.161204Z"
    },
    "tags": []
   },
   "outputs": [
    {
     "data": {
      "image/png": "[encoded data removed]",
      "text/plain": [
       "<Figure size 432x288 with 1 Axes>"
      ]
     },
     "metadata": {
      "needs_background": "light"
     },
     "output_type": "display_data"
    }
   ],
   "source": [
    "\n",
    "tagged_txt = [TaggedDocument(d, [i]) for i, d in enumerate(txt_df['description_token'].tolist())]\n",
    "ari_l = []\n",
    "ari_l1 = []\n",
    "for i in np.arange(5,105,5):\n",
    "    model4 = Doc2Vec(tagged_txt, epochs = i, vector_size = 300)\n",
    "    temp = txt_df['description_token'].apply(lambda x: model4.infer_vector(x))\n",
    "    temp = pd.DataFrame(temp.tolist())\n",
    "    clus.fit(temp)\n",
    "    clus1.fit(temp)\n",
    "    ari_l.append(metrics.adjusted_rand_score(np.array(txt_df['labels_0']),\n",
    "                                                 np.array(clus.labels_)\n",
    "                                                 ))\n",
    "    ari_l1.append(metrics.adjusted_rand_score(np.array(txt_df['labels_1']),\n",
    "                                                 np.array(clus1.labels_)\n",
    "                                                 ))\n",
    "plt.plot(np.arange(5,105,5),ari_l)\n",
    "plt.plot(np.arange(5,105,5),ari_l1)\n",
    "plt.show()   "
   ]
  },
  {
   "cell_type": "markdown",
   "id": "4fbc0afa-d606-49a2-974a-1f98fc46d8fa",
   "metadata": {},
   "source": [
    "## BERT"
   ]
  },
  {
   "cell_type": "code",
   "execution_count": 48,
   "id": "37bb1f64-2fd2-48b0-a142-1d3062464c50",
   "metadata": {
    "execution": {
     "iopub.execute_input": "2022-12-22T14:25:01.982552Z",
     "iopub.status.busy": "2022-12-22T14:25:01.982552Z",
     "iopub.status.idle": "2022-12-22T14:25:02.139574Z",
     "shell.execute_reply": "2022-12-22T14:25:02.139574Z",
     "shell.execute_reply.started": "2022-12-22T14:25:01.982552Z"
    },
    "tags": []
   },
   "outputs": [],
   "source": [
    "import tensorflow as tf\n",
    "import tensorflow_hub as hub\n",
    "import tensorflow_text as text"
   ]
  },
  {
   "cell_type": "code",
   "execution_count": 49,
   "id": "23be3670-70ca-4d37-95e7-88d1863177db",
   "metadata": {
    "execution": {
     "iopub.execute_input": "2022-12-22T14:25:02.140552Z",
     "iopub.status.busy": "2022-12-22T14:25:02.140552Z",
     "iopub.status.idle": "2022-12-22T14:25:39.855394Z",
     "shell.execute_reply": "2022-12-22T14:25:39.854629Z",
     "shell.execute_reply.started": "2022-12-22T14:25:02.140552Z"
    },
    "tags": []
   },
   "outputs": [
    {
     "name": "stdout",
     "output_type": "stream",
     "text": [
      "WARNING:tensorflow:Please fix your imports. Module tensorflow.python.training.tracking.data_structures has been moved to tensorflow.python.trackable.data_structures. The old module will be deleted in version 2.11.\n"
     ]
    }
   ],
   "source": [
    "bert_preprocess = hub.KerasLayer(\"https://tfhub.dev/tensorflow/bert_en_uncased_preprocess/3\")\n",
    "bert_encoder = hub.KerasLayer(\"https://tfhub.dev/tensorflow/bert_en_uncased_L-12_H-768_A-12/4\")"
   ]
  },
  {
   "cell_type": "code",
   "execution_count": 50,
   "id": "8034056c-e93e-4197-8862-2f1bad39c678",
   "metadata": {
    "execution": {
     "iopub.execute_input": "2022-12-22T14:25:39.856403Z",
     "iopub.status.busy": "2022-12-22T14:25:39.855394Z",
     "iopub.status.idle": "2022-12-22T14:25:40.496664Z",
     "shell.execute_reply": "2022-12-22T14:25:40.496664Z",
     "shell.execute_reply.started": "2022-12-22T14:25:39.856403Z"
    },
    "tags": []
   },
   "outputs": [],
   "source": [
    "text_input = tf.keras.layers.Input(shape=(), dtype=tf.string, name='text')\n",
    "preprocessed_text = bert_preprocess(text_input)\n",
    "outputs = bert_encoder(preprocessed_text)"
   ]
  },
  {
   "cell_type": "code",
   "execution_count": 51,
   "id": "decf457e-5d1e-4f47-85a0-3056bc6fc47e",
   "metadata": {
    "execution": {
     "iopub.execute_input": "2022-12-22T14:25:40.499669Z",
     "iopub.status.busy": "2022-12-22T14:25:40.499669Z",
     "iopub.status.idle": "2022-12-22T14:25:42.326027Z",
     "shell.execute_reply": "2022-12-22T14:25:42.326027Z",
     "shell.execute_reply.started": "2022-12-22T14:25:40.499669Z"
    },
    "tags": []
   },
   "outputs": [
    {
     "name": "stderr",
     "output_type": "stream",
     "text": [
      "C:\\Users\\Nico\\AppData\\Roaming\\Python\\Python39\\site-packages\\transformers\\generation_tf_utils.py:24: FutureWarning: Importing `TFGenerationMixin` from `src/transformers/generation_tf_utils.py` is deprecated and will be removed in Transformers v5. Import as `from transformers import TFGenerationMixin` instead.\n",
      "  warnings.warn(\n"
     ]
    }
   ],
   "source": [
    "from tensorflow.keras.preprocessing.text import Tokenizer\n",
    "from tensorflow.keras.preprocessing.sequence import pad_sequences\n",
    "from tensorflow.keras import metrics as kmetrics\n",
    "from tensorflow.keras.layers import *\n",
    "from tensorflow.keras.models import Model\n",
    "import transformers \n",
    "from transformers import *"
   ]
  },
  {
   "cell_type": "code",
   "execution_count": 52,
   "id": "818118fa-3266-4f3d-953a-24650e74834b",
   "metadata": {
    "execution": {
     "iopub.execute_input": "2022-12-22T14:25:42.326944Z",
     "iopub.status.busy": "2022-12-22T14:25:42.326944Z",
     "iopub.status.idle": "2022-12-22T14:25:42.341946Z",
     "shell.execute_reply": "2022-12-22T14:25:42.341946Z",
     "shell.execute_reply.started": "2022-12-22T14:25:42.326944Z"
    },
    "tags": []
   },
   "outputs": [],
   "source": [
    "# Hugging Face\n",
    "def bert_inp_fct(sentences, bert_tokenizer, max_length) :\n",
    "    input_ids=[]\n",
    "    token_type_ids = []\n",
    "    attention_mask=[]\n",
    "    bert_inp_tot = []\n",
    "\n",
    "    for sent in sentences:\n",
    "        bert_inp = bert_tokenizer.encode_plus(sent,\n",
    "                                              add_special_tokens = True,\n",
    "                                              max_length = max_length,\n",
    "                                              padding='max_length',\n",
    "                                              return_attention_mask = True, \n",
    "                                              return_token_type_ids=True,\n",
    "                                              truncation=True,\n",
    "                                              return_tensors=\"tf\")\n",
    "    \n",
    "        input_ids.append(bert_inp['input_ids'][0])\n",
    "        token_type_ids.append(bert_inp['token_type_ids'][0])\n",
    "        attention_mask.append(bert_inp['attention_mask'][0])\n",
    "        bert_inp_tot.append((bert_inp['input_ids'][0], \n",
    "                             bert_inp['token_type_ids'][0], \n",
    "                             bert_inp['attention_mask'][0]))\n",
    "\n",
    "    input_ids = np.asarray(input_ids)\n",
    "    token_type_ids = np.asarray(token_type_ids)\n",
    "    attention_mask = np.array(attention_mask)\n",
    "    \n",
    "    return input_ids, token_type_ids, attention_mask, bert_inp_tot\n",
    "    \n",
    "\n",
    "# Fonction de création des features\n",
    "def feature_BERT_fct(model, model_type, sentences, max_length, b_size, mode='HF') :\n",
    "    batch_size = b_size\n",
    "    batch_size_pred = b_size\n",
    "    bert_tokenizer = AutoTokenizer.from_pretrained(model_type)\n",
    "\n",
    "    for step in range(len(sentences)//batch_size) :\n",
    "        idx = step*batch_size\n",
    "        input_ids, token_type_ids, attention_mask, bert_inp_tot = bert_inp_fct(sentences[idx:idx+batch_size], \n",
    "                                                                      bert_tokenizer, max_length)\n",
    "        \n",
    "        if mode=='HF' :    # Bert HuggingFace\n",
    "            outputs = model.predict([input_ids, attention_mask, token_type_ids], batch_size=batch_size_pred)\n",
    "            last_hidden_states = outputs.last_hidden_state\n",
    "\n",
    "        if mode=='TFhub' : # Bert Tensorflow Hub\n",
    "            text_preprocessed = {\"input_word_ids\" : input_ids, \n",
    "                                 \"input_mask\" : attention_mask, \n",
    "                                 \"input_type_ids\" : token_type_ids}\n",
    "            outputs = model(text_preprocessed)\n",
    "            last_hidden_states = outputs['sequence_output']\n",
    "        if mode=='Fine_Tune':\n",
    "            outputs = model.predict([input_ids, attention_mask, token_type_ids], batch_size=batch_size_pred)\n",
    "            last_hidden_states = outputs.hidden_states[-1]\n",
    "             \n",
    "        if step ==0 :\n",
    "            last_hidden_states_tot = last_hidden_states\n",
    "            last_hidden_states_tot_0 = last_hidden_states\n",
    "        else :\n",
    "            last_hidden_states_tot = np.concatenate((last_hidden_states_tot,last_hidden_states))\n",
    "    \n",
    "    features_bert = np.array(last_hidden_states_tot).mean(axis=1)\n",
    "    \n",
    "     \n",
    "    return features_bert, last_hidden_states_tot"
   ]
  },
  {
   "cell_type": "code",
   "execution_count": 53,
   "id": "2d924b11-86bd-4de4-aac5-352c2460fc50",
   "metadata": {
    "execution": {
     "iopub.execute_input": "2022-12-22T14:25:42.342970Z",
     "iopub.status.busy": "2022-12-22T14:25:42.342970Z",
     "iopub.status.idle": "2022-12-22T14:25:42.356972Z",
     "shell.execute_reply": "2022-12-22T14:25:42.356972Z",
     "shell.execute_reply.started": "2022-12-22T14:25:42.342970Z"
    },
    "tags": []
   },
   "outputs": [
    {
     "data": {
      "text/plain": [
       "1008"
      ]
     },
     "execution_count": 53,
     "metadata": {},
     "output_type": "execute_result"
    }
   ],
   "source": [
    "len(txt_df['description_clean'].tolist())"
   ]
  },
  {
   "cell_type": "code",
   "execution_count": 54,
   "id": "cd159d80-aa3e-41e6-9728-450844e28b60",
   "metadata": {
    "execution": {
     "iopub.execute_input": "2022-12-22T14:25:42.357945Z",
     "iopub.status.busy": "2022-12-22T14:25:42.357945Z",
     "iopub.status.idle": "2022-12-22T14:25:44.937685Z",
     "shell.execute_reply": "2022-12-22T14:25:44.937685Z",
     "shell.execute_reply.started": "2022-12-22T14:25:42.357945Z"
    },
    "tags": []
   },
   "outputs": [
    {
     "name": "stderr",
     "output_type": "stream",
     "text": [
      "loading configuration file config.json from cache at C:\\Users\\Nico/.cache\\huggingface\\hub\\models--bert-base-uncased\\snapshots\\0a6aa9128b6194f4f3c4db429b6cb4891cdb421b\\config.json\n",
      "Model config BertConfig {\n",
      "  \"_name_or_path\": \"bert-base-uncased\",\n",
      "  \"architectures\": [\n",
      "    \"BertForMaskedLM\"\n",
      "  ],\n",
      "  \"attention_probs_dropout_prob\": 0.1,\n",
      "  \"classifier_dropout\": null,\n",
      "  \"gradient_checkpointing\": false,\n",
      "  \"hidden_act\": \"gelu\",\n",
      "  \"hidden_dropout_prob\": 0.1,\n",
      "  \"hidden_size\": 768,\n",
      "  \"initializer_range\": 0.02,\n",
      "  \"intermediate_size\": 3072,\n",
      "  \"layer_norm_eps\": 1e-12,\n",
      "  \"max_position_embeddings\": 512,\n",
      "  \"model_type\": \"bert\",\n",
      "  \"num_attention_heads\": 12,\n",
      "  \"num_hidden_layers\": 12,\n",
      "  \"pad_token_id\": 0,\n",
      "  \"position_embedding_type\": \"absolute\",\n",
      "  \"transformers_version\": \"4.25.1\",\n",
      "  \"type_vocab_size\": 2,\n",
      "  \"use_cache\": true,\n",
      "  \"vocab_size\": 30522\n",
      "}\n",
      "\n",
      "loading weights file tf_model.h5 from cache at C:\\Users\\Nico/.cache\\huggingface\\hub\\models--bert-base-uncased\\snapshots\\0a6aa9128b6194f4f3c4db429b6cb4891cdb421b\\tf_model.h5\n",
      "Some layers from the model checkpoint at bert-base-uncased were not used when initializing TFBertModel: ['mlm___cls', 'nsp___cls']\n",
      "- This IS expected if you are initializing TFBertModel from the checkpoint of a model trained on another task or with another architecture (e.g. initializing a BertForSequenceClassification model from a BertForPreTraining model).\n",
      "- This IS NOT expected if you are initializing TFBertModel from the checkpoint of a model that you expect to be exactly identical (initializing a BertForSequenceClassification model from a BertForSequenceClassification model).\n",
      "All the layers of TFBertModel were initialized from the model checkpoint at bert-base-uncased.\n",
      "If your task is similar to the task the model of the checkpoint was trained on, you can already use TFBertModel for predictions without further training.\n"
     ]
    }
   ],
   "source": [
    "max_length = 68\n",
    "batch_size = 8\n",
    "model_type = 'bert-base-uncased'\n",
    "model = TFAutoModel.from_pretrained(model_type)\n",
    "sentences = txt_df['description_clean'].tolist()"
   ]
  },
  {
   "cell_type": "code",
   "execution_count": 55,
   "id": "ee09e677-a687-41fb-af1c-2f47ded8e6c6",
   "metadata": {
    "execution": {
     "iopub.execute_input": "2022-12-22T14:25:44.938689Z",
     "iopub.status.busy": "2022-12-22T14:25:44.938689Z",
     "iopub.status.idle": "2022-12-22T14:26:56.019803Z",
     "shell.execute_reply": "2022-12-22T14:26:56.019803Z",
     "shell.execute_reply.started": "2022-12-22T14:25:44.938689Z"
    },
    "tags": []
   },
   "outputs": [
    {
     "name": "stderr",
     "output_type": "stream",
     "text": [
      "loading configuration file config.json from cache at C:\\Users\\Nico/.cache\\huggingface\\hub\\models--bert-base-uncased\\snapshots\\0a6aa9128b6194f4f3c4db429b6cb4891cdb421b\\config.json\n",
      "Model config BertConfig {\n",
      "  \"_name_or_path\": \"bert-base-uncased\",\n",
      "  \"architectures\": [\n",
      "    \"BertForMaskedLM\"\n",
      "  ],\n",
      "  \"attention_probs_dropout_prob\": 0.1,\n",
      "  \"classifier_dropout\": null,\n",
      "  \"gradient_checkpointing\": false,\n",
      "  \"hidden_act\": \"gelu\",\n",
      "  \"hidden_dropout_prob\": 0.1,\n",
      "  \"hidden_size\": 768,\n",
      "  \"initializer_range\": 0.02,\n",
      "  \"intermediate_size\": 3072,\n",
      "  \"layer_norm_eps\": 1e-12,\n",
      "  \"max_position_embeddings\": 512,\n",
      "  \"model_type\": \"bert\",\n",
      "  \"num_attention_heads\": 12,\n",
      "  \"num_hidden_layers\": 12,\n",
      "  \"pad_token_id\": 0,\n",
      "  \"position_embedding_type\": \"absolute\",\n",
      "  \"transformers_version\": \"4.25.1\",\n",
      "  \"type_vocab_size\": 2,\n",
      "  \"use_cache\": true,\n",
      "  \"vocab_size\": 30522\n",
      "}\n",
      "\n",
      "loading file vocab.txt from cache at C:\\Users\\Nico/.cache\\huggingface\\hub\\models--bert-base-uncased\\snapshots\\0a6aa9128b6194f4f3c4db429b6cb4891cdb421b\\vocab.txt\n",
      "loading file tokenizer.json from cache at C:\\Users\\Nico/.cache\\huggingface\\hub\\models--bert-base-uncased\\snapshots\\0a6aa9128b6194f4f3c4db429b6cb4891cdb421b\\tokenizer.json\n",
      "loading file added_tokens.json from cache at None\n",
      "loading file special_tokens_map.json from cache at None\n",
      "loading file tokenizer_config.json from cache at C:\\Users\\Nico/.cache\\huggingface\\hub\\models--bert-base-uncased\\snapshots\\0a6aa9128b6194f4f3c4db429b6cb4891cdb421b\\tokenizer_config.json\n",
      "loading configuration file config.json from cache at C:\\Users\\Nico/.cache\\huggingface\\hub\\models--bert-base-uncased\\snapshots\\0a6aa9128b6194f4f3c4db429b6cb4891cdb421b\\config.json\n",
      "Model config BertConfig {\n",
      "  \"_name_or_path\": \"bert-base-uncased\",\n",
      "  \"architectures\": [\n",
      "    \"BertForMaskedLM\"\n",
      "  ],\n",
      "  \"attention_probs_dropout_prob\": 0.1,\n",
      "  \"classifier_dropout\": null,\n",
      "  \"gradient_checkpointing\": false,\n",
      "  \"hidden_act\": \"gelu\",\n",
      "  \"hidden_dropout_prob\": 0.1,\n",
      "  \"hidden_size\": 768,\n",
      "  \"initializer_range\": 0.02,\n",
      "  \"intermediate_size\": 3072,\n",
      "  \"layer_norm_eps\": 1e-12,\n",
      "  \"max_position_embeddings\": 512,\n",
      "  \"model_type\": \"bert\",\n",
      "  \"num_attention_heads\": 12,\n",
      "  \"num_hidden_layers\": 12,\n",
      "  \"pad_token_id\": 0,\n",
      "  \"position_embedding_type\": \"absolute\",\n",
      "  \"transformers_version\": \"4.25.1\",\n",
      "  \"type_vocab_size\": 2,\n",
      "  \"use_cache\": true,\n",
      "  \"vocab_size\": 30522\n",
      "}\n",
      "\n"
     ]
    },
    {
     "name": "stdout",
     "output_type": "stream",
     "text": [
      "1/1 [==============================] - 5s 5s/step\n",
      "1/1 [==============================] - 0s 441ms/step\n",
      "1/1 [==============================] - 0s 431ms/step\n",
      "1/1 [==============================] - 0s 439ms/step\n",
      "1/1 [==============================] - 0s 431ms/step\n",
      "1/1 [==============================] - 0s 435ms/step\n",
      "1/1 [==============================] - 0s 430ms/step\n",
      "1/1 [==============================] - 0s 437ms/step\n",
      "1/1 [==============================] - 0s 436ms/step\n",
      "1/1 [==============================] - 0s 432ms/step\n",
      "1/1 [==============================] - 0s 447ms/step\n",
      "1/1 [==============================] - 0s 434ms/step\n",
      "1/1 [==============================] - 0s 435ms/step\n",
      "1/1 [==============================] - 0s 431ms/step\n",
      "1/1 [==============================] - 0s 450ms/step\n",
      "1/1 [==============================] - 0s 433ms/step\n",
      "1/1 [==============================] - 0s 441ms/step\n",
      "1/1 [==============================] - 0s 436ms/step\n",
      "1/1 [==============================] - 0s 438ms/step\n",
      "1/1 [==============================] - 0s 435ms/step\n",
      "1/1 [==============================] - 0s 438ms/step\n",
      "1/1 [==============================] - 0s 428ms/step\n",
      "1/1 [==============================] - 0s 435ms/step\n",
      "1/1 [==============================] - 0s 440ms/step\n",
      "1/1 [==============================] - 0s 434ms/step\n",
      "1/1 [==============================] - 0s 433ms/step\n",
      "1/1 [==============================] - 0s 470ms/step\n",
      "1/1 [==============================] - 0s 455ms/step\n",
      "1/1 [==============================] - 0s 466ms/step\n",
      "1/1 [==============================] - 0s 473ms/step\n",
      "1/1 [==============================] - 0s 449ms/step\n",
      "1/1 [==============================] - 0s 439ms/step\n",
      "1/1 [==============================] - 0s 429ms/step\n",
      "1/1 [==============================] - 0s 447ms/step\n",
      "1/1 [==============================] - 0s 425ms/step\n",
      "1/1 [==============================] - 0s 454ms/step\n",
      "1/1 [==============================] - 0s 427ms/step\n",
      "1/1 [==============================] - 0s 444ms/step\n",
      "1/1 [==============================] - 0s 432ms/step\n",
      "1/1 [==============================] - 0s 454ms/step\n",
      "1/1 [==============================] - 0s 427ms/step\n",
      "1/1 [==============================] - 0s 447ms/step\n",
      "1/1 [==============================] - 0s 426ms/step\n",
      "1/1 [==============================] - 0s 448ms/step\n",
      "1/1 [==============================] - 0s 446ms/step\n",
      "1/1 [==============================] - 0s 461ms/step\n",
      "1/1 [==============================] - 0s 430ms/step\n",
      "1/1 [==============================] - 0s 452ms/step\n",
      "1/1 [==============================] - 0s 432ms/step\n",
      "1/1 [==============================] - 0s 452ms/step\n",
      "1/1 [==============================] - 0s 428ms/step\n",
      "1/1 [==============================] - 0s 456ms/step\n",
      "1/1 [==============================] - 0s 489ms/step\n",
      "1/1 [==============================] - 1s 513ms/step\n",
      "1/1 [==============================] - 0s 490ms/step\n",
      "1/1 [==============================] - 0s 444ms/step\n",
      "1/1 [==============================] - 1s 539ms/step\n",
      "1/1 [==============================] - 1s 512ms/step\n",
      "1/1 [==============================] - 0s 492ms/step\n",
      "1/1 [==============================] - 0s 487ms/step\n",
      "1/1 [==============================] - 0s 480ms/step\n",
      "1/1 [==============================] - 0s 448ms/step\n",
      "1/1 [==============================] - 0s 422ms/step\n",
      "1/1 [==============================] - 0s 453ms/step\n",
      "1/1 [==============================] - 0s 426ms/step\n",
      "1/1 [==============================] - 0s 459ms/step\n",
      "1/1 [==============================] - 0s 427ms/step\n",
      "1/1 [==============================] - 0s 447ms/step\n",
      "1/1 [==============================] - 0s 429ms/step\n",
      "1/1 [==============================] - 0s 438ms/step\n",
      "1/1 [==============================] - 0s 415ms/step\n",
      "1/1 [==============================] - 0s 424ms/step\n",
      "1/1 [==============================] - 0s 420ms/step\n",
      "1/1 [==============================] - 0s 417ms/step\n",
      "1/1 [==============================] - 0s 420ms/step\n",
      "1/1 [==============================] - 0s 424ms/step\n",
      "1/1 [==============================] - 0s 428ms/step\n",
      "1/1 [==============================] - 0s 406ms/step\n",
      "1/1 [==============================] - 0s 431ms/step\n",
      "1/1 [==============================] - 0s 412ms/step\n",
      "1/1 [==============================] - 0s 431ms/step\n",
      "1/1 [==============================] - 0s 408ms/step\n",
      "1/1 [==============================] - 0s 427ms/step\n",
      "1/1 [==============================] - 0s 408ms/step\n",
      "1/1 [==============================] - 0s 428ms/step\n",
      "1/1 [==============================] - 0s 420ms/step\n",
      "1/1 [==============================] - 0s 449ms/step\n",
      "1/1 [==============================] - 0s 427ms/step\n",
      "1/1 [==============================] - 0s 450ms/step\n",
      "1/1 [==============================] - 0s 446ms/step\n",
      "1/1 [==============================] - 0s 455ms/step\n",
      "1/1 [==============================] - 0s 410ms/step\n",
      "1/1 [==============================] - 0s 439ms/step\n",
      "1/1 [==============================] - 0s 411ms/step\n",
      "1/1 [==============================] - 0s 428ms/step\n",
      "1/1 [==============================] - 0s 425ms/step\n",
      "1/1 [==============================] - 0s 409ms/step\n",
      "1/1 [==============================] - 0s 423ms/step\n",
      "1/1 [==============================] - 0s 415ms/step\n",
      "1/1 [==============================] - 0s 436ms/step\n",
      "1/1 [==============================] - 0s 412ms/step\n",
      "1/1 [==============================] - 0s 436ms/step\n",
      "1/1 [==============================] - 0s 424ms/step\n",
      "1/1 [==============================] - 0s 441ms/step\n",
      "1/1 [==============================] - 0s 427ms/step\n",
      "1/1 [==============================] - 0s 432ms/step\n",
      "1/1 [==============================] - 0s 424ms/step\n",
      "1/1 [==============================] - 0s 428ms/step\n",
      "1/1 [==============================] - 0s 426ms/step\n",
      "1/1 [==============================] - 0s 410ms/step\n",
      "1/1 [==============================] - 0s 420ms/step\n",
      "1/1 [==============================] - 0s 414ms/step\n",
      "1/1 [==============================] - 0s 426ms/step\n",
      "1/1 [==============================] - 0s 415ms/step\n",
      "1/1 [==============================] - 0s 428ms/step\n",
      "1/1 [==============================] - 0s 413ms/step\n",
      "1/1 [==============================] - 0s 449ms/step\n",
      "1/1 [==============================] - 0s 429ms/step\n",
      "1/1 [==============================] - 0s 450ms/step\n",
      "1/1 [==============================] - 0s 449ms/step\n",
      "1/1 [==============================] - 0s 430ms/step\n",
      "1/1 [==============================] - 0s 418ms/step\n",
      "1/1 [==============================] - 0s 417ms/step\n",
      "1/1 [==============================] - 0s 425ms/step\n",
      "1/1 [==============================] - 0s 421ms/step\n",
      "1/1 [==============================] - 0s 429ms/step\n"
     ]
    }
   ],
   "source": [
    "# Création des features\n",
    "\n",
    "features_bert, last_hidden_states_tot = feature_BERT_fct(model, model_type, sentences, \n",
    "                                                         max_length, batch_size, mode='HF')"
   ]
  },
  {
   "cell_type": "code",
   "execution_count": 56,
   "id": "97ab6b51-0114-4514-80b3-ee253fa6331a",
   "metadata": {
    "execution": {
     "iopub.execute_input": "2022-12-22T14:26:56.020799Z",
     "iopub.status.busy": "2022-12-22T14:26:56.020799Z",
     "iopub.status.idle": "2022-12-22T14:26:56.035799Z",
     "shell.execute_reply": "2022-12-22T14:26:56.035799Z",
     "shell.execute_reply.started": "2022-12-22T14:26:56.020799Z"
    },
    "tags": []
   },
   "outputs": [
    {
     "data": {
      "text/plain": [
       "(1008, 768)"
      ]
     },
     "execution_count": 56,
     "metadata": {},
     "output_type": "execute_result"
    }
   ],
   "source": [
    "features_bert.shape"
   ]
  },
  {
   "cell_type": "code",
   "execution_count": 57,
   "id": "8306e55e-c6bc-41a5-93c6-1dcccd03ecd8",
   "metadata": {
    "execution": {
     "iopub.execute_input": "2022-12-22T14:26:56.037802Z",
     "iopub.status.busy": "2022-12-22T14:26:56.036801Z",
     "iopub.status.idle": "2022-12-22T14:26:57.685798Z",
     "shell.execute_reply": "2022-12-22T14:26:57.685798Z",
     "shell.execute_reply.started": "2022-12-22T14:26:56.037802Z"
    },
    "tags": []
   },
   "outputs": [
    {
     "name": "stdout",
     "output_type": "stream",
     "text": [
      "The ari scores are 0.29270270938581117 for categorie 0 and 0.34074605776475575 for categorie 1.\n"
     ]
    }
   ],
   "source": [
    "clus.fit(features_bert)\n",
    "clus1.fit(features_bert)\n",
    "ari = metrics.adjusted_rand_score(np.array(txt_df['labels_0']),\n",
    "                                                 np.array(clus.labels_)\n",
    "                                                 )\n",
    "ari1 = metrics.adjusted_rand_score(np.array(txt_df['labels_1']),\n",
    "                                                 np.array(clus1.labels_)\n",
    "                                                 )\n",
    "print('The ari scores are {} for categorie 0 and {} for categorie 1.'.format(ari, ari1))"
   ]
  },
  {
   "cell_type": "code",
   "execution_count": 58,
   "id": "07633a77-6bf9-4c4c-b558-da44e8dd4fcf",
   "metadata": {
    "execution": {
     "iopub.execute_input": "2022-12-22T14:26:57.686799Z",
     "iopub.status.busy": "2022-12-22T14:26:57.686799Z",
     "iopub.status.idle": "2022-12-22T14:27:27.446893Z",
     "shell.execute_reply": "2022-12-22T14:27:27.446893Z",
     "shell.execute_reply.started": "2022-12-22T14:26:57.686799Z"
    },
    "tags": []
   },
   "outputs": [],
   "source": [
    "model_url = 'https://tfhub.dev/tensorflow/bert_en_uncased_L-12_H-768_A-12/4'\n",
    "bert_layer = hub.KerasLayer(model_url, trainable=True)"
   ]
  },
  {
   "cell_type": "code",
   "execution_count": 59,
   "id": "e7f7f1bd-1e91-44fc-9106-9d23cb90a304",
   "metadata": {
    "execution": {
     "iopub.execute_input": "2022-12-22T14:27:27.447799Z",
     "iopub.status.busy": "2022-12-22T14:27:27.447799Z",
     "iopub.status.idle": "2022-12-22T14:28:26.865029Z",
     "shell.execute_reply": "2022-12-22T14:28:26.865029Z",
     "shell.execute_reply.started": "2022-12-22T14:27:27.447799Z"
    },
    "tags": []
   },
   "outputs": [
    {
     "name": "stderr",
     "output_type": "stream",
     "text": [
      "loading configuration file config.json from cache at C:\\Users\\Nico/.cache\\huggingface\\hub\\models--bert-base-uncased\\snapshots\\0a6aa9128b6194f4f3c4db429b6cb4891cdb421b\\config.json\n",
      "Model config BertConfig {\n",
      "  \"_name_or_path\": \"bert-base-uncased\",\n",
      "  \"architectures\": [\n",
      "    \"BertForMaskedLM\"\n",
      "  ],\n",
      "  \"attention_probs_dropout_prob\": 0.1,\n",
      "  \"classifier_dropout\": null,\n",
      "  \"gradient_checkpointing\": false,\n",
      "  \"hidden_act\": \"gelu\",\n",
      "  \"hidden_dropout_prob\": 0.1,\n",
      "  \"hidden_size\": 768,\n",
      "  \"initializer_range\": 0.02,\n",
      "  \"intermediate_size\": 3072,\n",
      "  \"layer_norm_eps\": 1e-12,\n",
      "  \"max_position_embeddings\": 512,\n",
      "  \"model_type\": \"bert\",\n",
      "  \"num_attention_heads\": 12,\n",
      "  \"num_hidden_layers\": 12,\n",
      "  \"pad_token_id\": 0,\n",
      "  \"position_embedding_type\": \"absolute\",\n",
      "  \"transformers_version\": \"4.25.1\",\n",
      "  \"type_vocab_size\": 2,\n",
      "  \"use_cache\": true,\n",
      "  \"vocab_size\": 30522\n",
      "}\n",
      "\n",
      "loading file vocab.txt from cache at C:\\Users\\Nico/.cache\\huggingface\\hub\\models--bert-base-uncased\\snapshots\\0a6aa9128b6194f4f3c4db429b6cb4891cdb421b\\vocab.txt\n",
      "loading file tokenizer.json from cache at C:\\Users\\Nico/.cache\\huggingface\\hub\\models--bert-base-uncased\\snapshots\\0a6aa9128b6194f4f3c4db429b6cb4891cdb421b\\tokenizer.json\n",
      "loading file added_tokens.json from cache at None\n",
      "loading file special_tokens_map.json from cache at None\n",
      "loading file tokenizer_config.json from cache at C:\\Users\\Nico/.cache\\huggingface\\hub\\models--bert-base-uncased\\snapshots\\0a6aa9128b6194f4f3c4db429b6cb4891cdb421b\\tokenizer_config.json\n",
      "loading configuration file config.json from cache at C:\\Users\\Nico/.cache\\huggingface\\hub\\models--bert-base-uncased\\snapshots\\0a6aa9128b6194f4f3c4db429b6cb4891cdb421b\\config.json\n",
      "Model config BertConfig {\n",
      "  \"_name_or_path\": \"bert-base-uncased\",\n",
      "  \"architectures\": [\n",
      "    \"BertForMaskedLM\"\n",
      "  ],\n",
      "  \"attention_probs_dropout_prob\": 0.1,\n",
      "  \"classifier_dropout\": null,\n",
      "  \"gradient_checkpointing\": false,\n",
      "  \"hidden_act\": \"gelu\",\n",
      "  \"hidden_dropout_prob\": 0.1,\n",
      "  \"hidden_size\": 768,\n",
      "  \"initializer_range\": 0.02,\n",
      "  \"intermediate_size\": 3072,\n",
      "  \"layer_norm_eps\": 1e-12,\n",
      "  \"max_position_embeddings\": 512,\n",
      "  \"model_type\": \"bert\",\n",
      "  \"num_attention_heads\": 12,\n",
      "  \"num_hidden_layers\": 12,\n",
      "  \"pad_token_id\": 0,\n",
      "  \"position_embedding_type\": \"absolute\",\n",
      "  \"transformers_version\": \"4.25.1\",\n",
      "  \"type_vocab_size\": 2,\n",
      "  \"use_cache\": true,\n",
      "  \"vocab_size\": 30522\n",
      "}\n",
      "\n"
     ]
    }
   ],
   "source": [
    "max_length = 64\n",
    "batch_size = 8\n",
    "model_type = 'bert-base-uncased'\n",
    "model = bert_layer\n",
    "\n",
    "features_bert, last_hidden_states_tot = feature_BERT_fct(model, model_type, sentences, \n",
    "                                                         max_length, batch_size, mode='TFhub')"
   ]
  },
  {
   "cell_type": "code",
   "execution_count": 60,
   "id": "aadecdd7-9d8d-4354-8f66-3a0be33ebc92",
   "metadata": {
    "execution": {
     "iopub.execute_input": "2022-12-22T14:28:26.866005Z",
     "iopub.status.busy": "2022-12-22T14:28:26.866005Z",
     "iopub.status.idle": "2022-12-22T14:28:28.544003Z",
     "shell.execute_reply": "2022-12-22T14:28:28.544003Z",
     "shell.execute_reply.started": "2022-12-22T14:28:26.866005Z"
    },
    "tags": []
   },
   "outputs": [
    {
     "name": "stdout",
     "output_type": "stream",
     "text": [
      "The ari scores are 0.2884129236073602 for categorie 0 and 0.3291137961982065 for categorie 1.\n"
     ]
    }
   ],
   "source": [
    "clus.fit(features_bert)\n",
    "clus1.fit(features_bert)\n",
    "ari = metrics.adjusted_rand_score(np.array(txt_df['labels_0']),\n",
    "                                                 np.array(clus.labels_)\n",
    "                                                 )\n",
    "ari1 = metrics.adjusted_rand_score(np.array(txt_df['labels_1']),\n",
    "                                                 np.array(clus1.labels_)\n",
    "                                                 )\n",
    "print('The ari scores are {} for categorie 0 and {} for categorie 1.'.format(ari, ari1))"
   ]
  },
  {
   "cell_type": "markdown",
   "id": "01ee7ef3-9ef9-401b-a5d2-8b5248882254",
   "metadata": {},
   "source": [
    "### Fine-Tune"
   ]
  },
  {
   "cell_type": "code",
   "execution_count": 61,
   "id": "44fd3527-bfe9-4c41-b333-24ff1bede369",
   "metadata": {
    "execution": {
     "iopub.execute_input": "2022-12-22T14:28:28.545005Z",
     "iopub.status.busy": "2022-12-22T14:28:28.545005Z",
     "iopub.status.idle": "2022-12-22T14:28:29.114292Z",
     "shell.execute_reply": "2022-12-22T14:28:29.113315Z",
     "shell.execute_reply.started": "2022-12-22T14:28:28.545005Z"
    },
    "tags": []
   },
   "outputs": [
    {
     "name": "stderr",
     "output_type": "stream",
     "text": [
      "loading configuration file config.json from cache at C:\\Users\\Nico/.cache\\huggingface\\hub\\models--bert-base-uncased\\snapshots\\0a6aa9128b6194f4f3c4db429b6cb4891cdb421b\\config.json\n",
      "Model config BertConfig {\n",
      "  \"_name_or_path\": \"bert-base-uncased\",\n",
      "  \"architectures\": [\n",
      "    \"BertForMaskedLM\"\n",
      "  ],\n",
      "  \"attention_probs_dropout_prob\": 0.1,\n",
      "  \"classifier_dropout\": null,\n",
      "  \"gradient_checkpointing\": false,\n",
      "  \"hidden_act\": \"gelu\",\n",
      "  \"hidden_dropout_prob\": 0.1,\n",
      "  \"hidden_size\": 768,\n",
      "  \"initializer_range\": 0.02,\n",
      "  \"intermediate_size\": 3072,\n",
      "  \"layer_norm_eps\": 1e-12,\n",
      "  \"max_position_embeddings\": 512,\n",
      "  \"model_type\": \"bert\",\n",
      "  \"num_attention_heads\": 12,\n",
      "  \"num_hidden_layers\": 12,\n",
      "  \"pad_token_id\": 0,\n",
      "  \"position_embedding_type\": \"absolute\",\n",
      "  \"transformers_version\": \"4.25.1\",\n",
      "  \"type_vocab_size\": 2,\n",
      "  \"use_cache\": true,\n",
      "  \"vocab_size\": 30522\n",
      "}\n",
      "\n",
      "loading file vocab.txt from cache at C:\\Users\\Nico/.cache\\huggingface\\hub\\models--bert-base-uncased\\snapshots\\0a6aa9128b6194f4f3c4db429b6cb4891cdb421b\\vocab.txt\n",
      "loading file tokenizer.json from cache at C:\\Users\\Nico/.cache\\huggingface\\hub\\models--bert-base-uncased\\snapshots\\0a6aa9128b6194f4f3c4db429b6cb4891cdb421b\\tokenizer.json\n",
      "loading file added_tokens.json from cache at None\n",
      "loading file special_tokens_map.json from cache at None\n",
      "loading file tokenizer_config.json from cache at C:\\Users\\Nico/.cache\\huggingface\\hub\\models--bert-base-uncased\\snapshots\\0a6aa9128b6194f4f3c4db429b6cb4891cdb421b\\tokenizer_config.json\n",
      "loading configuration file config.json from cache at C:\\Users\\Nico/.cache\\huggingface\\hub\\models--bert-base-uncased\\snapshots\\0a6aa9128b6194f4f3c4db429b6cb4891cdb421b\\config.json\n",
      "Model config BertConfig {\n",
      "  \"_name_or_path\": \"bert-base-uncased\",\n",
      "  \"architectures\": [\n",
      "    \"BertForMaskedLM\"\n",
      "  ],\n",
      "  \"attention_probs_dropout_prob\": 0.1,\n",
      "  \"classifier_dropout\": null,\n",
      "  \"gradient_checkpointing\": false,\n",
      "  \"hidden_act\": \"gelu\",\n",
      "  \"hidden_dropout_prob\": 0.1,\n",
      "  \"hidden_size\": 768,\n",
      "  \"initializer_range\": 0.02,\n",
      "  \"intermediate_size\": 3072,\n",
      "  \"layer_norm_eps\": 1e-12,\n",
      "  \"max_position_embeddings\": 512,\n",
      "  \"model_type\": \"bert\",\n",
      "  \"num_attention_heads\": 12,\n",
      "  \"num_hidden_layers\": 12,\n",
      "  \"pad_token_id\": 0,\n",
      "  \"position_embedding_type\": \"absolute\",\n",
      "  \"transformers_version\": \"4.25.1\",\n",
      "  \"type_vocab_size\": 2,\n",
      "  \"use_cache\": true,\n",
      "  \"vocab_size\": 30522\n",
      "}\n",
      "\n"
     ]
    }
   ],
   "source": [
    "# let's try to fine-tune this\n",
    "from tensorflow.keras.optimizers import Adam\n",
    "#tokenize\n",
    "bert_tokenizer = AutoTokenizer.from_pretrained('bert-base-uncased')\n",
    "max_length = 34\n",
    "doc_token = bert_tokenizer(sentences,max_length=max_length, padding = 'max_length', truncation = True, return_tensors=\"tf\", return_attention_mask = False, return_token_type_ids=False)"
   ]
  },
  {
   "cell_type": "code",
   "execution_count": 62,
   "id": "303299c7-fa2b-433b-a496-c1d6d1285ddf",
   "metadata": {
    "execution": {
     "iopub.execute_input": "2022-12-22T14:28:29.118258Z",
     "iopub.status.busy": "2022-12-22T14:28:29.117295Z",
     "iopub.status.idle": "2022-12-22T14:28:29.145260Z",
     "shell.execute_reply": "2022-12-22T14:28:29.144261Z",
     "shell.execute_reply.started": "2022-12-22T14:28:29.118258Z"
    },
    "tags": []
   },
   "outputs": [],
   "source": [
    "temp = pd.DataFrame(sentences)\n",
    "def tokenize_dataset(data):\n",
    "    # Keys of the returned dictionary will be added to the dataset as columns\n",
    "    return bert_tokenizer(data[0])\n",
    "\n",
    "\n",
    "temp = temp.apply(tokenize_dataset)"
   ]
  },
  {
   "cell_type": "code",
   "execution_count": 63,
   "id": "9fcb1b8e-71b1-405e-982f-9f3f7d75baa1",
   "metadata": {
    "execution": {
     "iopub.execute_input": "2022-12-22T14:28:29.148262Z",
     "iopub.status.busy": "2022-12-22T14:28:29.147258Z",
     "iopub.status.idle": "2022-12-22T14:28:31.635666Z",
     "shell.execute_reply": "2022-12-22T14:28:31.635666Z",
     "shell.execute_reply.started": "2022-12-22T14:28:29.148262Z"
    },
    "tags": []
   },
   "outputs": [
    {
     "name": "stderr",
     "output_type": "stream",
     "text": [
      "loading configuration file config.json from cache at C:\\Users\\Nico/.cache\\huggingface\\hub\\models--bert-base-uncased\\snapshots\\0a6aa9128b6194f4f3c4db429b6cb4891cdb421b\\config.json\n",
      "Model config BertConfig {\n",
      "  \"_name_or_path\": \"bert-base-uncased\",\n",
      "  \"architectures\": [\n",
      "    \"BertForMaskedLM\"\n",
      "  ],\n",
      "  \"attention_probs_dropout_prob\": 0.1,\n",
      "  \"classifier_dropout\": null,\n",
      "  \"gradient_checkpointing\": false,\n",
      "  \"hidden_act\": \"gelu\",\n",
      "  \"hidden_dropout_prob\": 0.1,\n",
      "  \"hidden_size\": 768,\n",
      "  \"id2label\": {\n",
      "    \"0\": \"LABEL_0\",\n",
      "    \"1\": \"LABEL_1\",\n",
      "    \"2\": \"LABEL_2\",\n",
      "    \"3\": \"LABEL_3\",\n",
      "    \"4\": \"LABEL_4\",\n",
      "    \"5\": \"LABEL_5\",\n",
      "    \"6\": \"LABEL_6\",\n",
      "    \"7\": \"LABEL_7\",\n",
      "    \"8\": \"LABEL_8\",\n",
      "    \"9\": \"LABEL_9\",\n",
      "    \"10\": \"LABEL_10\",\n",
      "    \"11\": \"LABEL_11\",\n",
      "    \"12\": \"LABEL_12\",\n",
      "    \"13\": \"LABEL_13\",\n",
      "    \"14\": \"LABEL_14\",\n",
      "    \"15\": \"LABEL_15\",\n",
      "    \"16\": \"LABEL_16\",\n",
      "    \"17\": \"LABEL_17\",\n",
      "    \"18\": \"LABEL_18\",\n",
      "    \"19\": \"LABEL_19\",\n",
      "    \"20\": \"LABEL_20\",\n",
      "    \"21\": \"LABEL_21\",\n",
      "    \"22\": \"LABEL_22\",\n",
      "    \"23\": \"LABEL_23\",\n",
      "    \"24\": \"LABEL_24\",\n",
      "    \"25\": \"LABEL_25\",\n",
      "    \"26\": \"LABEL_26\",\n",
      "    \"27\": \"LABEL_27\",\n",
      "    \"28\": \"LABEL_28\",\n",
      "    \"29\": \"LABEL_29\",\n",
      "    \"30\": \"LABEL_30\",\n",
      "    \"31\": \"LABEL_31\",\n",
      "    \"32\": \"LABEL_32\",\n",
      "    \"33\": \"LABEL_33\",\n",
      "    \"34\": \"LABEL_34\",\n",
      "    \"35\": \"LABEL_35\",\n",
      "    \"36\": \"LABEL_36\",\n",
      "    \"37\": \"LABEL_37\",\n",
      "    \"38\": \"LABEL_38\",\n",
      "    \"39\": \"LABEL_39\",\n",
      "    \"40\": \"LABEL_40\",\n",
      "    \"41\": \"LABEL_41\",\n",
      "    \"42\": \"LABEL_42\",\n",
      "    \"43\": \"LABEL_43\",\n",
      "    \"44\": \"LABEL_44\",\n",
      "    \"45\": \"LABEL_45\",\n",
      "    \"46\": \"LABEL_46\"\n",
      "  },\n",
      "  \"initializer_range\": 0.02,\n",
      "  \"intermediate_size\": 3072,\n",
      "  \"label2id\": {\n",
      "    \"LABEL_0\": 0,\n",
      "    \"LABEL_1\": 1,\n",
      "    \"LABEL_10\": 10,\n",
      "    \"LABEL_11\": 11,\n",
      "    \"LABEL_12\": 12,\n",
      "    \"LABEL_13\": 13,\n",
      "    \"LABEL_14\": 14,\n",
      "    \"LABEL_15\": 15,\n",
      "    \"LABEL_16\": 16,\n",
      "    \"LABEL_17\": 17,\n",
      "    \"LABEL_18\": 18,\n",
      "    \"LABEL_19\": 19,\n",
      "    \"LABEL_2\": 2,\n",
      "    \"LABEL_20\": 20,\n",
      "    \"LABEL_21\": 21,\n",
      "    \"LABEL_22\": 22,\n",
      "    \"LABEL_23\": 23,\n",
      "    \"LABEL_24\": 24,\n",
      "    \"LABEL_25\": 25,\n",
      "    \"LABEL_26\": 26,\n",
      "    \"LABEL_27\": 27,\n",
      "    \"LABEL_28\": 28,\n",
      "    \"LABEL_29\": 29,\n",
      "    \"LABEL_3\": 3,\n",
      "    \"LABEL_30\": 30,\n",
      "    \"LABEL_31\": 31,\n",
      "    \"LABEL_32\": 32,\n",
      "    \"LABEL_33\": 33,\n",
      "    \"LABEL_34\": 34,\n",
      "    \"LABEL_35\": 35,\n",
      "    \"LABEL_36\": 36,\n",
      "    \"LABEL_37\": 37,\n",
      "    \"LABEL_38\": 38,\n",
      "    \"LABEL_39\": 39,\n",
      "    \"LABEL_4\": 4,\n",
      "    \"LABEL_40\": 40,\n",
      "    \"LABEL_41\": 41,\n",
      "    \"LABEL_42\": 42,\n",
      "    \"LABEL_43\": 43,\n",
      "    \"LABEL_44\": 44,\n",
      "    \"LABEL_45\": 45,\n",
      "    \"LABEL_46\": 46,\n",
      "    \"LABEL_5\": 5,\n",
      "    \"LABEL_6\": 6,\n",
      "    \"LABEL_7\": 7,\n",
      "    \"LABEL_8\": 8,\n",
      "    \"LABEL_9\": 9\n",
      "  },\n",
      "  \"layer_norm_eps\": 1e-12,\n",
      "  \"max_position_embeddings\": 512,\n",
      "  \"model_type\": \"bert\",\n",
      "  \"num_attention_heads\": 12,\n",
      "  \"num_hidden_layers\": 12,\n",
      "  \"output_hidden_states\": true,\n",
      "  \"pad_token_id\": 0,\n",
      "  \"position_embedding_type\": \"absolute\",\n",
      "  \"transformers_version\": \"4.25.1\",\n",
      "  \"type_vocab_size\": 2,\n",
      "  \"use_cache\": true,\n",
      "  \"vocab_size\": 30522\n",
      "}\n",
      "\n",
      "loading weights file tf_model.h5 from cache at C:\\Users\\Nico/.cache\\huggingface\\hub\\models--bert-base-uncased\\snapshots\\0a6aa9128b6194f4f3c4db429b6cb4891cdb421b\\tf_model.h5\n",
      "All model checkpoint layers were used when initializing TFBertForSequenceClassification.\n",
      "\n",
      "Some layers of TFBertForSequenceClassification were not initialized from the model checkpoint at bert-base-uncased and are newly initialized: ['classifier']\n",
      "You should probably TRAIN this model on a down-stream task to be able to use it for predictions and inference.\n",
      "No loss specified in compile() - the model's internal loss computation will be used as the loss. Don't panic - this is a common way to train TensorFlow models in Transformers! To disable this behaviour please pass a loss argument, or explicitly pass `loss=None` if you do not want your model to compute a loss.\n"
     ]
    }
   ],
   "source": [
    "model_ft = TFAutoModelForSequenceClassification.from_pretrained(\"bert-base-uncased\", num_labels=47,output_hidden_states=True)\n",
    "model_ft.compile(optimizer=Adam(3e-5))\n"
   ]
  },
  {
   "cell_type": "code",
   "execution_count": 64,
   "id": "f6e8c1e3-bfb6-4808-957f-ef473c9fb05e",
   "metadata": {
    "execution": {
     "iopub.execute_input": "2022-12-22T14:28:31.636640Z",
     "iopub.status.busy": "2022-12-22T14:28:31.636640Z",
     "iopub.status.idle": "2022-12-22T14:30:13.190798Z",
     "shell.execute_reply": "2022-12-22T14:30:13.190798Z",
     "shell.execute_reply.started": "2022-12-22T14:28:31.636640Z"
    },
    "tags": []
   },
   "outputs": [
    {
     "name": "stdout",
     "output_type": "stream",
     "text": [
      "32/32 [==============================] - 101s 3s/step - loss: 3.3070\n"
     ]
    },
    {
     "data": {
      "text/plain": [
       "<keras.callbacks.History at 0x16dd633ae20>"
      ]
     },
     "execution_count": 64,
     "metadata": {},
     "output_type": "execute_result"
    }
   ],
   "source": [
    "labels = np.array(txt_df['labels_1'])\n",
    "\n",
    "model_ft.fit(doc_token['input_ids'], labels)"
   ]
  },
  {
   "cell_type": "code",
   "execution_count": 65,
   "id": "40aea810-67b7-413b-bb4e-04a65ba1dd62",
   "metadata": {
    "execution": {
     "iopub.execute_input": "2022-12-22T14:30:13.191801Z",
     "iopub.status.busy": "2022-12-22T14:30:13.191801Z",
     "iopub.status.idle": "2022-12-22T14:30:13.206798Z",
     "shell.execute_reply": "2022-12-22T14:30:13.206798Z",
     "shell.execute_reply.started": "2022-12-22T14:30:13.191801Z"
    },
    "tags": []
   },
   "outputs": [
    {
     "data": {
      "text/plain": [
       "'key feature elegance polyester multicolor abstract eyelet door curtain floral curtainelegance polyester multicolor abstract eyelet door curtain height pack price curtain enhances look interiorsthis curtain made high quality polyester fabricit feature eyelet style stitch metal ringit make room environment romantic lovingthis curtain ant wrinkle anti shrinkage elegant apparancegive home bright modernistic appeal design surreal attention sure steal heart contemporary eyelet valance curtain slide smoothly draw apart first thing morning welcome bright sun ray want wish good morning whole world draw close evening create special moment joyous beauty given soothing print bring home elegant curtain softly filter light room get right amount sunlightspecifications elegance polyester multicolor abstract eyelet door curtain height pack general brand elegance designed door type eyelet model name abstract polyester door curtain set model duster color multicolor dimension length box number content sale package pack sale package curtain body design material polyester'"
      ]
     },
     "execution_count": 65,
     "metadata": {},
     "output_type": "execute_result"
    }
   ],
   "source": [
    "sentences[0]"
   ]
  },
  {
   "cell_type": "code",
   "execution_count": 66,
   "id": "7edc8c7d-e837-4547-b000-53b0501bb717",
   "metadata": {
    "execution": {
     "iopub.execute_input": "2022-12-22T14:30:13.208800Z",
     "iopub.status.busy": "2022-12-22T14:30:13.207799Z",
     "iopub.status.idle": "2022-12-22T14:30:48.562425Z",
     "shell.execute_reply": "2022-12-22T14:30:48.562425Z",
     "shell.execute_reply.started": "2022-12-22T14:30:13.208800Z"
    },
    "tags": []
   },
   "outputs": [
    {
     "name": "stderr",
     "output_type": "stream",
     "text": [
      "loading configuration file config.json from cache at C:\\Users\\Nico/.cache\\huggingface\\hub\\models--bert-base-uncased\\snapshots\\0a6aa9128b6194f4f3c4db429b6cb4891cdb421b\\config.json\n",
      "Model config BertConfig {\n",
      "  \"_name_or_path\": \"bert-base-uncased\",\n",
      "  \"architectures\": [\n",
      "    \"BertForMaskedLM\"\n",
      "  ],\n",
      "  \"attention_probs_dropout_prob\": 0.1,\n",
      "  \"classifier_dropout\": null,\n",
      "  \"gradient_checkpointing\": false,\n",
      "  \"hidden_act\": \"gelu\",\n",
      "  \"hidden_dropout_prob\": 0.1,\n",
      "  \"hidden_size\": 768,\n",
      "  \"initializer_range\": 0.02,\n",
      "  \"intermediate_size\": 3072,\n",
      "  \"layer_norm_eps\": 1e-12,\n",
      "  \"max_position_embeddings\": 512,\n",
      "  \"model_type\": \"bert\",\n",
      "  \"num_attention_heads\": 12,\n",
      "  \"num_hidden_layers\": 12,\n",
      "  \"pad_token_id\": 0,\n",
      "  \"position_embedding_type\": \"absolute\",\n",
      "  \"transformers_version\": \"4.25.1\",\n",
      "  \"type_vocab_size\": 2,\n",
      "  \"use_cache\": true,\n",
      "  \"vocab_size\": 30522\n",
      "}\n",
      "\n",
      "loading file vocab.txt from cache at C:\\Users\\Nico/.cache\\huggingface\\hub\\models--bert-base-uncased\\snapshots\\0a6aa9128b6194f4f3c4db429b6cb4891cdb421b\\vocab.txt\n",
      "loading file tokenizer.json from cache at C:\\Users\\Nico/.cache\\huggingface\\hub\\models--bert-base-uncased\\snapshots\\0a6aa9128b6194f4f3c4db429b6cb4891cdb421b\\tokenizer.json\n",
      "loading file added_tokens.json from cache at None\n",
      "loading file special_tokens_map.json from cache at None\n",
      "loading file tokenizer_config.json from cache at C:\\Users\\Nico/.cache\\huggingface\\hub\\models--bert-base-uncased\\snapshots\\0a6aa9128b6194f4f3c4db429b6cb4891cdb421b\\tokenizer_config.json\n",
      "loading configuration file config.json from cache at C:\\Users\\Nico/.cache\\huggingface\\hub\\models--bert-base-uncased\\snapshots\\0a6aa9128b6194f4f3c4db429b6cb4891cdb421b\\config.json\n",
      "Model config BertConfig {\n",
      "  \"_name_or_path\": \"bert-base-uncased\",\n",
      "  \"architectures\": [\n",
      "    \"BertForMaskedLM\"\n",
      "  ],\n",
      "  \"attention_probs_dropout_prob\": 0.1,\n",
      "  \"classifier_dropout\": null,\n",
      "  \"gradient_checkpointing\": false,\n",
      "  \"hidden_act\": \"gelu\",\n",
      "  \"hidden_dropout_prob\": 0.1,\n",
      "  \"hidden_size\": 768,\n",
      "  \"initializer_range\": 0.02,\n",
      "  \"intermediate_size\": 3072,\n",
      "  \"layer_norm_eps\": 1e-12,\n",
      "  \"max_position_embeddings\": 512,\n",
      "  \"model_type\": \"bert\",\n",
      "  \"num_attention_heads\": 12,\n",
      "  \"num_hidden_layers\": 12,\n",
      "  \"pad_token_id\": 0,\n",
      "  \"position_embedding_type\": \"absolute\",\n",
      "  \"transformers_version\": \"4.25.1\",\n",
      "  \"type_vocab_size\": 2,\n",
      "  \"use_cache\": true,\n",
      "  \"vocab_size\": 30522\n",
      "}\n",
      "\n"
     ]
    },
    {
     "name": "stdout",
     "output_type": "stream",
     "text": [
      "134/134 [==============================] - 32s 215ms/step\n"
     ]
    }
   ],
   "source": [
    "bert_tokenizer = AutoTokenizer.from_pretrained(\"bert-base-uncased\")\n",
    "max_length = 34\n",
    "\n",
    "input_ids, token_type_ids, attention_mask, bert_inp_tot = bert_inp_fct(sentences[0], \n",
    "                                                                      bert_tokenizer, max_length)\n",
    "\n",
    "outputs = model_ft.predict([input_ids, attention_mask, token_type_ids], batch_size=8)\n"
   ]
  },
  {
   "cell_type": "code",
   "execution_count": 67,
   "id": "ad5f5099-b82e-4d15-81db-ae67644c40c6",
   "metadata": {
    "execution": {
     "iopub.execute_input": "2022-12-22T14:30:48.563393Z",
     "iopub.status.busy": "2022-12-22T14:30:48.563393Z",
     "iopub.status.idle": "2022-12-22T14:30:48.579394Z",
     "shell.execute_reply": "2022-12-22T14:30:48.578395Z",
     "shell.execute_reply.started": "2022-12-22T14:30:48.563393Z"
    },
    "tags": []
   },
   "outputs": [
    {
     "data": {
      "text/plain": [
       "(34, 768)"
      ]
     },
     "execution_count": 67,
     "metadata": {},
     "output_type": "execute_result"
    }
   ],
   "source": [
    "outputs.hidden_states[-1][-1].shape"
   ]
  },
  {
   "cell_type": "code",
   "execution_count": 68,
   "id": "df6f69bc-8eb7-4378-9f26-f5421dcbc5fe",
   "metadata": {
    "execution": {
     "iopub.execute_input": "2022-12-22T14:30:48.580395Z",
     "iopub.status.busy": "2022-12-22T14:30:48.580395Z",
     "iopub.status.idle": "2022-12-22T14:30:48.703395Z",
     "shell.execute_reply": "2022-12-22T14:30:48.702393Z",
     "shell.execute_reply.started": "2022-12-22T14:30:48.580395Z"
    },
    "tags": []
   },
   "outputs": [
    {
     "data": {
      "text/plain": [
       "1066"
      ]
     },
     "execution_count": 68,
     "metadata": {},
     "output_type": "execute_result"
    }
   ],
   "source": [
    "len(sentences[0])"
   ]
  },
  {
   "cell_type": "code",
   "execution_count": 69,
   "id": "8a61203b-07c4-4ab3-8621-6887ab8015c4",
   "metadata": {
    "execution": {
     "iopub.execute_input": "2022-12-22T14:30:48.703395Z",
     "iopub.status.busy": "2022-12-22T14:30:48.703395Z",
     "iopub.status.idle": "2022-12-22T14:31:53.465283Z",
     "shell.execute_reply": "2022-12-22T14:31:53.465283Z",
     "shell.execute_reply.started": "2022-12-22T14:30:48.703395Z"
    },
    "tags": []
   },
   "outputs": [
    {
     "name": "stderr",
     "output_type": "stream",
     "text": [
      "loading configuration file config.json from cache at C:\\Users\\Nico/.cache\\huggingface\\hub\\models--bert-base-uncased\\snapshots\\0a6aa9128b6194f4f3c4db429b6cb4891cdb421b\\config.json\n",
      "Model config BertConfig {\n",
      "  \"_name_or_path\": \"bert-base-uncased\",\n",
      "  \"architectures\": [\n",
      "    \"BertForMaskedLM\"\n",
      "  ],\n",
      "  \"attention_probs_dropout_prob\": 0.1,\n",
      "  \"classifier_dropout\": null,\n",
      "  \"gradient_checkpointing\": false,\n",
      "  \"hidden_act\": \"gelu\",\n",
      "  \"hidden_dropout_prob\": 0.1,\n",
      "  \"hidden_size\": 768,\n",
      "  \"initializer_range\": 0.02,\n",
      "  \"intermediate_size\": 3072,\n",
      "  \"layer_norm_eps\": 1e-12,\n",
      "  \"max_position_embeddings\": 512,\n",
      "  \"model_type\": \"bert\",\n",
      "  \"num_attention_heads\": 12,\n",
      "  \"num_hidden_layers\": 12,\n",
      "  \"pad_token_id\": 0,\n",
      "  \"position_embedding_type\": \"absolute\",\n",
      "  \"transformers_version\": \"4.25.1\",\n",
      "  \"type_vocab_size\": 2,\n",
      "  \"use_cache\": true,\n",
      "  \"vocab_size\": 30522\n",
      "}\n",
      "\n",
      "loading file vocab.txt from cache at C:\\Users\\Nico/.cache\\huggingface\\hub\\models--bert-base-uncased\\snapshots\\0a6aa9128b6194f4f3c4db429b6cb4891cdb421b\\vocab.txt\n",
      "loading file tokenizer.json from cache at C:\\Users\\Nico/.cache\\huggingface\\hub\\models--bert-base-uncased\\snapshots\\0a6aa9128b6194f4f3c4db429b6cb4891cdb421b\\tokenizer.json\n",
      "loading file added_tokens.json from cache at None\n",
      "loading file special_tokens_map.json from cache at None\n",
      "loading file tokenizer_config.json from cache at C:\\Users\\Nico/.cache\\huggingface\\hub\\models--bert-base-uncased\\snapshots\\0a6aa9128b6194f4f3c4db429b6cb4891cdb421b\\tokenizer_config.json\n",
      "loading configuration file config.json from cache at C:\\Users\\Nico/.cache\\huggingface\\hub\\models--bert-base-uncased\\snapshots\\0a6aa9128b6194f4f3c4db429b6cb4891cdb421b\\config.json\n",
      "Model config BertConfig {\n",
      "  \"_name_or_path\": \"bert-base-uncased\",\n",
      "  \"architectures\": [\n",
      "    \"BertForMaskedLM\"\n",
      "  ],\n",
      "  \"attention_probs_dropout_prob\": 0.1,\n",
      "  \"classifier_dropout\": null,\n",
      "  \"gradient_checkpointing\": false,\n",
      "  \"hidden_act\": \"gelu\",\n",
      "  \"hidden_dropout_prob\": 0.1,\n",
      "  \"hidden_size\": 768,\n",
      "  \"initializer_range\": 0.02,\n",
      "  \"intermediate_size\": 3072,\n",
      "  \"layer_norm_eps\": 1e-12,\n",
      "  \"max_position_embeddings\": 512,\n",
      "  \"model_type\": \"bert\",\n",
      "  \"num_attention_heads\": 12,\n",
      "  \"num_hidden_layers\": 12,\n",
      "  \"pad_token_id\": 0,\n",
      "  \"position_embedding_type\": \"absolute\",\n",
      "  \"transformers_version\": \"4.25.1\",\n",
      "  \"type_vocab_size\": 2,\n",
      "  \"use_cache\": true,\n",
      "  \"vocab_size\": 30522\n",
      "}\n",
      "\n"
     ]
    },
    {
     "name": "stdout",
     "output_type": "stream",
     "text": [
      "1/1 [==============================] - 5s 5s/step\n",
      "1/1 [==============================] - 0s 389ms/step\n",
      "1/1 [==============================] - 0s 398ms/step\n",
      "1/1 [==============================] - 0s 388ms/step\n",
      "1/1 [==============================] - 0s 392ms/step\n",
      "1/1 [==============================] - 0s 388ms/step\n",
      "1/1 [==============================] - 0s 388ms/step\n",
      "1/1 [==============================] - 0s 389ms/step\n",
      "1/1 [==============================] - 0s 391ms/step\n",
      "1/1 [==============================] - 0s 385ms/step\n",
      "1/1 [==============================] - 0s 390ms/step\n",
      "1/1 [==============================] - 0s 389ms/step\n",
      "1/1 [==============================] - 0s 388ms/step\n",
      "1/1 [==============================] - 0s 387ms/step\n",
      "1/1 [==============================] - 0s 396ms/step\n",
      "1/1 [==============================] - 0s 390ms/step\n",
      "1/1 [==============================] - 0s 395ms/step\n",
      "1/1 [==============================] - 0s 394ms/step\n",
      "1/1 [==============================] - 0s 394ms/step\n",
      "1/1 [==============================] - 0s 395ms/step\n",
      "1/1 [==============================] - 0s 388ms/step\n",
      "1/1 [==============================] - 0s 387ms/step\n",
      "1/1 [==============================] - 0s 383ms/step\n",
      "1/1 [==============================] - 0s 385ms/step\n",
      "1/1 [==============================] - 0s 391ms/step\n",
      "1/1 [==============================] - 0s 385ms/step\n",
      "1/1 [==============================] - 0s 385ms/step\n",
      "1/1 [==============================] - 0s 389ms/step\n",
      "1/1 [==============================] - 0s 391ms/step\n",
      "1/1 [==============================] - 0s 417ms/step\n",
      "1/1 [==============================] - 0s 405ms/step\n",
      "1/1 [==============================] - 0s 414ms/step\n",
      "1/1 [==============================] - 0s 424ms/step\n",
      "1/1 [==============================] - 0s 402ms/step\n",
      "1/1 [==============================] - 0s 386ms/step\n",
      "1/1 [==============================] - 0s 383ms/step\n",
      "1/1 [==============================] - 0s 384ms/step\n",
      "1/1 [==============================] - 0s 394ms/step\n",
      "1/1 [==============================] - 0s 384ms/step\n",
      "1/1 [==============================] - 0s 393ms/step\n",
      "1/1 [==============================] - 0s 390ms/step\n",
      "1/1 [==============================] - 0s 383ms/step\n",
      "1/1 [==============================] - 0s 384ms/step\n",
      "1/1 [==============================] - 0s 385ms/step\n",
      "1/1 [==============================] - 0s 384ms/step\n",
      "1/1 [==============================] - 0s 393ms/step\n",
      "1/1 [==============================] - 0s 386ms/step\n",
      "1/1 [==============================] - 0s 385ms/step\n",
      "1/1 [==============================] - 0s 395ms/step\n",
      "1/1 [==============================] - 0s 385ms/step\n",
      "1/1 [==============================] - 0s 386ms/step\n",
      "1/1 [==============================] - 0s 381ms/step\n",
      "1/1 [==============================] - 0s 383ms/step\n",
      "1/1 [==============================] - 0s 378ms/step\n",
      "1/1 [==============================] - 0s 382ms/step\n",
      "1/1 [==============================] - 0s 388ms/step\n",
      "1/1 [==============================] - 0s 387ms/step\n",
      "1/1 [==============================] - 0s 381ms/step\n",
      "1/1 [==============================] - 0s 398ms/step\n",
      "1/1 [==============================] - 0s 381ms/step\n",
      "1/1 [==============================] - 0s 381ms/step\n",
      "1/1 [==============================] - 0s 378ms/step\n",
      "1/1 [==============================] - 0s 381ms/step\n",
      "1/1 [==============================] - 0s 406ms/step\n",
      "1/1 [==============================] - 0s 404ms/step\n",
      "1/1 [==============================] - 0s 404ms/step\n",
      "1/1 [==============================] - 0s 425ms/step\n",
      "1/1 [==============================] - 0s 400ms/step\n",
      "1/1 [==============================] - 0s 380ms/step\n",
      "1/1 [==============================] - 0s 378ms/step\n",
      "1/1 [==============================] - 0s 383ms/step\n",
      "1/1 [==============================] - 0s 379ms/step\n",
      "1/1 [==============================] - 0s 383ms/step\n",
      "1/1 [==============================] - 0s 391ms/step\n",
      "1/1 [==============================] - 0s 384ms/step\n",
      "1/1 [==============================] - 0s 408ms/step\n",
      "1/1 [==============================] - 0s 385ms/step\n",
      "1/1 [==============================] - 0s 391ms/step\n",
      "1/1 [==============================] - 0s 382ms/step\n",
      "1/1 [==============================] - 0s 382ms/step\n",
      "1/1 [==============================] - 0s 379ms/step\n",
      "1/1 [==============================] - 0s 379ms/step\n",
      "1/1 [==============================] - 0s 380ms/step\n",
      "1/1 [==============================] - 0s 383ms/step\n",
      "1/1 [==============================] - 0s 380ms/step\n",
      "1/1 [==============================] - 0s 382ms/step\n",
      "1/1 [==============================] - 0s 379ms/step\n",
      "1/1 [==============================] - 0s 382ms/step\n",
      "1/1 [==============================] - 0s 394ms/step\n",
      "1/1 [==============================] - 0s 382ms/step\n",
      "1/1 [==============================] - 0s 380ms/step\n",
      "1/1 [==============================] - 0s 391ms/step\n",
      "1/1 [==============================] - 0s 381ms/step\n",
      "1/1 [==============================] - 0s 381ms/step\n",
      "1/1 [==============================] - 0s 380ms/step\n",
      "1/1 [==============================] - 0s 379ms/step\n",
      "1/1 [==============================] - 0s 413ms/step\n",
      "1/1 [==============================] - 0s 397ms/step\n",
      "1/1 [==============================] - 0s 401ms/step\n",
      "1/1 [==============================] - 0s 423ms/step\n",
      "1/1 [==============================] - 0s 402ms/step\n",
      "1/1 [==============================] - 0s 380ms/step\n",
      "1/1 [==============================] - 0s 384ms/step\n",
      "1/1 [==============================] - 0s 382ms/step\n",
      "1/1 [==============================] - 0s 395ms/step\n",
      "1/1 [==============================] - 0s 381ms/step\n",
      "1/1 [==============================] - 0s 380ms/step\n",
      "1/1 [==============================] - 0s 377ms/step\n",
      "1/1 [==============================] - 0s 391ms/step\n",
      "1/1 [==============================] - 0s 379ms/step\n",
      "1/1 [==============================] - 0s 382ms/step\n",
      "1/1 [==============================] - 0s 376ms/step\n",
      "1/1 [==============================] - 0s 379ms/step\n",
      "1/1 [==============================] - 0s 378ms/step\n",
      "1/1 [==============================] - 0s 383ms/step\n",
      "1/1 [==============================] - 0s 395ms/step\n",
      "1/1 [==============================] - 0s 380ms/step\n",
      "1/1 [==============================] - 0s 378ms/step\n",
      "1/1 [==============================] - 0s 379ms/step\n",
      "1/1 [==============================] - 0s 378ms/step\n",
      "1/1 [==============================] - 0s 377ms/step\n",
      "1/1 [==============================] - 0s 376ms/step\n",
      "1/1 [==============================] - 0s 386ms/step\n",
      "1/1 [==============================] - 0s 377ms/step\n",
      "1/1 [==============================] - 0s 376ms/step\n",
      "1/1 [==============================] - 0s 378ms/step\n"
     ]
    }
   ],
   "source": [
    "max_length = 64\n",
    "batch_size = 8\n",
    "model_type = 'bert-base-uncased'\n",
    "model = model_ft\n",
    "\n",
    "features_bert, last_hidden_states_tot = feature_BERT_fct(model, model_type, sentences, \n",
    "                                                         max_length, batch_size, mode='Fine_Tune')"
   ]
  },
  {
   "cell_type": "code",
   "execution_count": 70,
   "id": "1ce9b8df-2365-498d-a2e3-b54e285f33bc",
   "metadata": {
    "execution": {
     "iopub.execute_input": "2022-12-22T14:31:53.467258Z",
     "iopub.status.busy": "2022-12-22T14:31:53.466258Z",
     "iopub.status.idle": "2022-12-22T14:31:55.023258Z",
     "shell.execute_reply": "2022-12-22T14:31:55.023258Z",
     "shell.execute_reply.started": "2022-12-22T14:31:53.467258Z"
    },
    "tags": []
   },
   "outputs": [
    {
     "name": "stdout",
     "output_type": "stream",
     "text": [
      "The ari scores are 0.46044217520039105 for categorie 0 and 0.5988782178042618 for categorie 1.\n"
     ]
    }
   ],
   "source": [
    "clus.fit(features_bert)\n",
    "clus1.fit(features_bert)\n",
    "ari = metrics.adjusted_rand_score(np.array(txt_df['labels_0']),\n",
    "                                                 np.array(clus.labels_)\n",
    "                                                 )\n",
    "ari1 = metrics.adjusted_rand_score(np.array(txt_df['labels_1']),\n",
    "                                                 np.array(clus1.labels_)\n",
    "                                                 )\n",
    "print('The ari scores are {} for categorie 0 and {} for categorie 1.'.format(ari, ari1))"
   ]
  },
  {
   "cell_type": "markdown",
   "id": "81659a3e-c8e6-47d3-985a-9100a8f210d9",
   "metadata": {},
   "source": [
    "## USE"
   ]
  },
  {
   "cell_type": "code",
   "execution_count": 71,
   "id": "954b673f-d202-4642-ad0a-fe4b4519d5f5",
   "metadata": {
    "execution": {
     "iopub.execute_input": "2022-12-22T14:31:55.024259Z",
     "iopub.status.busy": "2022-12-22T14:31:55.024259Z",
     "iopub.status.idle": "2022-12-22T14:32:04.493902Z",
     "shell.execute_reply": "2022-12-22T14:32:04.493902Z",
     "shell.execute_reply.started": "2022-12-22T14:31:55.024259Z"
    },
    "tags": []
   },
   "outputs": [],
   "source": [
    "embed = hub.load(\"https://tfhub.dev/google/universal-sentence-encoder/4\")"
   ]
  },
  {
   "cell_type": "code",
   "execution_count": 72,
   "id": "161c15ca-75c1-4af5-8d9c-e132e0c742c8",
   "metadata": {
    "execution": {
     "iopub.execute_input": "2022-12-22T14:32:04.494902Z",
     "iopub.status.busy": "2022-12-22T14:32:04.494902Z",
     "iopub.status.idle": "2022-12-22T14:32:04.509904Z",
     "shell.execute_reply": "2022-12-22T14:32:04.509904Z",
     "shell.execute_reply.started": "2022-12-22T14:32:04.494902Z"
    },
    "tags": []
   },
   "outputs": [],
   "source": [
    "def feature_USE_fct(sentences, b_size) :\n",
    "    batch_size = b_size\n",
    "\n",
    "    for step in range(len(sentences)//batch_size) :\n",
    "        idx = step*batch_size\n",
    "        feat = embed(sentences[idx:idx+batch_size])\n",
    "\n",
    "        if step ==0 :\n",
    "            features = feat\n",
    "        else :\n",
    "            features = np.concatenate((features,feat))\n",
    "\n",
    "    return features"
   ]
  },
  {
   "cell_type": "code",
   "execution_count": 73,
   "id": "86fcda42-0daf-4112-8a20-76097b4a040a",
   "metadata": {
    "execution": {
     "iopub.execute_input": "2022-12-22T14:32:04.511906Z",
     "iopub.status.busy": "2022-12-22T14:32:04.511906Z",
     "iopub.status.idle": "2022-12-22T14:32:05.383075Z",
     "shell.execute_reply": "2022-12-22T14:32:05.382138Z",
     "shell.execute_reply.started": "2022-12-22T14:32:04.511906Z"
    },
    "tags": []
   },
   "outputs": [],
   "source": [
    "batch_size = 8\n",
    "features_USE = feature_USE_fct(sentences, batch_size)"
   ]
  },
  {
   "cell_type": "code",
   "execution_count": 74,
   "id": "e5488931-dc07-4142-8d22-684b52f396a0",
   "metadata": {
    "execution": {
     "iopub.execute_input": "2022-12-22T14:32:05.387077Z",
     "iopub.status.busy": "2022-12-22T14:32:05.387077Z",
     "iopub.status.idle": "2022-12-22T14:32:06.586069Z",
     "shell.execute_reply": "2022-12-22T14:32:06.586069Z",
     "shell.execute_reply.started": "2022-12-22T14:32:05.387077Z"
    },
    "tags": []
   },
   "outputs": [
    {
     "name": "stdout",
     "output_type": "stream",
     "text": [
      "The ari scores are 0.33182821731934137 for categorie 0 and 0.39327634676792383 for categorie 1.\n"
     ]
    }
   ],
   "source": [
    "clus.fit(features_USE)\n",
    "clus1.fit(features_USE)\n",
    "ari = metrics.adjusted_rand_score(np.array(txt_df['labels_0']),\n",
    "                                                 np.array(clus.labels_)\n",
    "                                                 )\n",
    "ari1 = metrics.adjusted_rand_score(np.array(txt_df['labels_1']),\n",
    "                                                 np.array(clus1.labels_)\n",
    "                                                 )\n",
    "print('The ari scores are {} for categorie 0 and {} for categorie 1.'.format(ari, ari1))"
   ]
  },
  {
   "cell_type": "markdown",
   "id": "fce8cf77-ce92-4cc1-b37f-5623a8c5c0ca",
   "metadata": {},
   "source": [
    "## LDA"
   ]
  },
  {
   "cell_type": "code",
   "execution_count": 75,
   "id": "55a531f6-35b8-43fa-aa51-993551e0dcf2",
   "metadata": {
    "execution": {
     "iopub.execute_input": "2022-12-22T14:32:06.587068Z",
     "iopub.status.busy": "2022-12-22T14:32:06.587068Z",
     "iopub.status.idle": "2022-12-22T14:32:07.767607Z",
     "shell.execute_reply": "2022-12-22T14:32:07.767607Z",
     "shell.execute_reply.started": "2022-12-22T14:32:06.587068Z"
    },
    "tags": []
   },
   "outputs": [
    {
     "data": {
      "text/plain": [
       "LatentDirichletAllocation(learning_offset=50.0, max_iter=5, n_components=7,\n",
       "                          random_state=0)"
      ]
     },
     "execution_count": 75,
     "metadata": {},
     "output_type": "execute_result"
    }
   ],
   "source": [
    "from sklearn.decomposition import LatentDirichletAllocation\n",
    "n_topics = 7\n",
    "\n",
    "# Créer le modèle LDA\n",
    "lda = LatentDirichletAllocation(\n",
    "        n_components=n_topics, \n",
    "        max_iter=5,  \n",
    "        learning_offset=50.,\n",
    "        random_state=0)\n",
    "\n",
    "# Fitter sur les données\n",
    "lda.fit(bag_of_words)"
   ]
  },
  {
   "cell_type": "code",
   "execution_count": 76,
   "id": "c84a5745-db9c-4908-98e2-b02cb8ce7830",
   "metadata": {
    "execution": {
     "iopub.execute_input": "2022-12-22T14:32:07.769650Z",
     "iopub.status.busy": "2022-12-22T14:32:07.768607Z",
     "iopub.status.idle": "2022-12-22T14:32:07.799690Z",
     "shell.execute_reply": "2022-12-22T14:32:07.799690Z",
     "shell.execute_reply.started": "2022-12-22T14:32:07.769650Z"
    },
    "tags": []
   },
   "outputs": [
    {
     "data": {
      "text/plain": [
       "array(['aaa battery battery life hour',\n",
       "       'aapno rajasthan lovely jewellery vanity',\n",
       "       'aapno rajasthan marvel marble gold', ...,\n",
       "       'zyxel data card flipkartcom genuine',\n",
       "       'zyxel pla flipkartcom genuine product',\n",
       "       'zyxel vmgba vdsl wireless vdsl'], dtype=object)"
      ]
     },
     "execution_count": 76,
     "metadata": {},
     "output_type": "execute_result"
    }
   ],
   "source": [
    "vectorizer.get_feature_names_out()"
   ]
  },
  {
   "cell_type": "code",
   "execution_count": 77,
   "id": "d6eae2cf-2aba-4e56-8371-ad06fdef6176",
   "metadata": {
    "execution": {
     "iopub.execute_input": "2022-12-22T14:32:07.800609Z",
     "iopub.status.busy": "2022-12-22T14:32:07.800609Z",
     "iopub.status.idle": "2022-12-22T14:32:07.831692Z",
     "shell.execute_reply": "2022-12-22T14:32:07.831692Z",
     "shell.execute_reply.started": "2022-12-22T14:32:07.800609Z"
    },
    "tags": []
   },
   "outputs": [
    {
     "name": "stdout",
     "output_type": "stream",
     "text": [
      "Topic 0:\n",
      "coffee mug freedom broadcast special mean youre sure quote say bring smile dont forget share broadcast special message holiday cheer cute catchy design mean youre\n",
      "Topic 1:\n",
      "number content sale package pack genuine product free shipping cash flipkartcom genuine product free shipping product free shipping cash delivery box number content sale package\n",
      "Topic 2:\n",
      "product free shipping cash delivery flipkartcom genuine product free shipping genuine product free shipping cash multicolor flipkartcom genuine product free number content sale package pack\n",
      "Topic 3:\n",
      "genuine product day replacement guarantee product day replacement guarantee free day replacement guarantee free shipping replacement guarantee free shipping cash guarantee free shipping cash delivery\n",
      "Topic 4:\n",
      "year come making perfect pick crafting ensuring design stay permanent perfect pick gift loved toodishwasher toodishwasher microwave safe product specification mug feature porcelain crafting ensuring\n",
      "Topic 5:\n",
      "number content sale package pack box number content sale package cotton kitchen linen set pack general type mug mug capacity mug general type mug mug\n",
      "Topic 6:\n",
      "best price free shipping cash price free shipping cash delivery cash delivery genuine product day delivery genuine product day replacement shipping cash delivery genuine product\n"
     ]
    }
   ],
   "source": [
    "def display_topics(model, feature_names, no_top_words):\n",
    "    for topic_idx, topic in enumerate(model.components_):\n",
    "        print(\"Topic {}:\".format(topic_idx))\n",
    "        print(\" \".join([feature_names[i] for i in topic.argsort()[:-no_top_words - 1:-1]]))\n",
    "\n",
    "no_top_words = 5\n",
    "display_topics(lda, vectorizer.get_feature_names_out(), no_top_words)\n"
   ]
  },
  {
   "cell_type": "code",
   "execution_count": null,
   "id": "270ade74-192e-480f-930b-0429b1220df2",
   "metadata": {},
   "outputs": [],
   "source": []
  }
 ],
 "metadata": {
  "kernelspec": {
   "display_name": "Python 3 (ipykernel)",
   "language": "python",
   "name": "python3"
  },
  "language_info": {
   "codemirror_mode": {
    "name": "ipython",
    "version": 3
   },
   "file_extension": ".py",
   "mimetype": "text/x-python",
   "name": "python",
   "nbconvert_exporter": "python",
   "pygments_lexer": "ipython3",
   "version": "3.9.12"
  }
 },
 "nbformat": 4,
 "nbformat_minor": 5
}
