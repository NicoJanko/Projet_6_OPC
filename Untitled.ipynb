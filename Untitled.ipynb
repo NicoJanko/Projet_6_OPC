{
 "cells": [
  {
   "cell_type": "code",
   "execution_count": 1,
   "id": "df7c2c1c-3d28-4b1a-8b9a-9121244da9b2",
   "metadata": {
    "execution": {
     "iopub.execute_input": "2022-12-20T09:09:31.168699Z",
     "iopub.status.busy": "2022-12-20T09:09:31.168699Z",
     "iopub.status.idle": "2022-12-20T09:09:34.804347Z",
     "shell.execute_reply": "2022-12-20T09:09:34.804347Z",
     "shell.execute_reply.started": "2022-12-20T09:09:31.168699Z"
    }
   },
   "outputs": [],
   "source": [
    "import pandas as pd\n",
    "import numpy as np\n",
    "from sklearn.ensemble import GradientBoostingRegressor"
   ]
  },
  {
   "cell_type": "code",
   "execution_count": 11,
   "id": "df5ce138-3ca6-4b3e-8548-cfc54389374e",
   "metadata": {
    "execution": {
     "iopub.execute_input": "2022-12-20T09:14:43.627705Z",
     "iopub.status.busy": "2022-12-20T09:14:43.627705Z",
     "iopub.status.idle": "2022-12-20T09:14:43.673392Z",
     "shell.execute_reply": "2022-12-20T09:14:43.673392Z",
     "shell.execute_reply.started": "2022-12-20T09:14:43.627705Z"
    },
    "tags": []
   },
   "outputs": [
    {
     "data": {
      "text/plain": [
       "GradientBoostingRegressor()"
      ]
     },
     "execution_count": 11,
     "metadata": {},
     "output_type": "execute_result"
    }
   ],
   "source": [
    "gb = GradientBoostingRegressor()\n",
    "a = np.arange(0,100)\n",
    "b = np.arange(100,200)\n",
    "y = a*(3*b)\n",
    "test = pd.DataFrame({'a':a,'b':b,'y':y})\n",
    "\n",
    "gb.fit(test.iloc[:,0:1], test['y'])"
   ]
  },
  {
   "cell_type": "code",
   "execution_count": 12,
   "id": "e03e44ee-2f93-4f3d-a395-e63c09bef1b5",
   "metadata": {
    "execution": {
     "iopub.execute_input": "2022-12-20T09:15:03.548790Z",
     "iopub.status.busy": "2022-12-20T09:15:03.548790Z",
     "iopub.status.idle": "2022-12-20T09:15:03.561791Z",
     "shell.execute_reply": "2022-12-20T09:15:03.561791Z",
     "shell.execute_reply.started": "2022-12-20T09:15:03.548790Z"
    },
    "tags": []
   },
   "outputs": [
    {
     "data": {
      "text/plain": [
       "array([1.])"
      ]
     },
     "execution_count": 12,
     "metadata": {},
     "output_type": "execute_result"
    }
   ],
   "source": [
    "gb.feature_importances_"
   ]
  },
  {
   "cell_type": "code",
   "execution_count": 13,
   "id": "ffd26bf5-2f87-478b-97ea-d44a68a53fa5",
   "metadata": {
    "execution": {
     "iopub.execute_input": "2022-12-20T09:15:15.295401Z",
     "iopub.status.busy": "2022-12-20T09:15:15.295401Z",
     "iopub.status.idle": "2022-12-20T09:15:15.300401Z",
     "shell.execute_reply": "2022-12-20T09:15:15.300401Z",
     "shell.execute_reply.started": "2022-12-20T09:15:15.295401Z"
    }
   },
   "outputs": [
    {
     "data": {
      "text/plain": [
       "array(['a'], dtype=object)"
      ]
     },
     "execution_count": 13,
     "metadata": {},
     "output_type": "execute_result"
    }
   ],
   "source": [
    "gb.feature_names_in_"
   ]
  },
  {
   "cell_type": "code",
   "execution_count": null,
   "id": "fc99f4c8-aa7d-4d0d-9205-26ba28f701f2",
   "metadata": {},
   "outputs": [],
   "source": []
  }
 ],
 "metadata": {
  "kernelspec": {
   "display_name": "Python 3 (ipykernel)",
   "language": "python",
   "name": "python3"
  },
  "language_info": {
   "codemirror_mode": {
    "name": "ipython",
    "version": 3
   },
   "file_extension": ".py",
   "mimetype": "text/x-python",
   "name": "python",
   "nbconvert_exporter": "python",
   "pygments_lexer": "ipython3",
   "version": "3.9.12"
  }
 },
 "nbformat": 4,
 "nbformat_minor": 5
}
