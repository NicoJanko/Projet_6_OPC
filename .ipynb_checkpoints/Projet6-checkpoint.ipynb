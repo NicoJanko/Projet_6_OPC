{
 "cells": [
  {
   "cell_type": "code",
   "execution_count": 1,
   "id": "c4dc6bec-7409-4255-902d-718806555ffa",
   "metadata": {
    "execution": {
     "iopub.execute_input": "2022-12-20T15:38:24.839276Z",
     "iopub.status.busy": "2022-12-20T15:38:24.839276Z",
     "iopub.status.idle": "2022-12-20T15:38:26.246559Z",
     "shell.execute_reply": "2022-12-20T15:38:26.246559Z",
     "shell.execute_reply.started": "2022-12-20T15:38:24.839276Z"
    },
    "tags": []
   },
   "outputs": [],
   "source": [
    "import pandas as pd\n",
    "pd.options.mode.chained_assignment = None  # default='warn'\n",
    "import numpy as np\n",
    "import matplotlib.pyplot as plt\n",
    "import missingno as msno\n",
    "import seaborn as sns\n",
    "import os"
   ]
  },
  {
   "cell_type": "code",
   "execution_count": 2,
   "id": "b3634dbe-0c4d-4110-bea7-1bf2305474e5",
   "metadata": {
    "execution": {
     "iopub.execute_input": "2022-12-20T15:38:26.248595Z",
     "iopub.status.busy": "2022-12-20T15:38:26.247564Z",
     "iopub.status.idle": "2022-12-20T15:38:28.652693Z",
     "shell.execute_reply": "2022-12-20T15:38:28.652693Z",
     "shell.execute_reply.started": "2022-12-20T15:38:26.248595Z"
    },
    "tags": []
   },
   "outputs": [
    {
     "name": "stdin",
     "output_type": "stream",
     "text": [
      "Laptop ? [y/n] n\n"
     ]
    }
   ],
   "source": [
    "x = input('Laptop ? [y/n]')\n",
    "if x == 'n':\n",
    "    path = 'E:\\\\Data_Science\\\\OpenClassRoom\\\\Projet 6\\\\Flipkart'\n",
    "    df=pd.read_csv(path + '\\\\flipkart_com-ecommerce_sample_1050.csv')\n",
    "else:\n",
    "    path = 'C:\\\\Users\\\\Nico Janko\\\\Documents\\\\Data_Science\\\\OpenClassRoom\\\\Projet 6\\\\Flipkart'\n",
    "    df = pd.read_csv(path + '\\\\flipkart_com-ecommerce_sample_1050.csv')"
   ]
  },
  {
   "cell_type": "code",
   "execution_count": 3,
   "id": "aa488210-0213-4819-b847-5d7f00314b47",
   "metadata": {
    "execution": {
     "iopub.execute_input": "2022-12-20T15:38:28.654698Z",
     "iopub.status.busy": "2022-12-20T15:38:28.654698Z",
     "iopub.status.idle": "2022-12-20T15:38:28.668694Z",
     "shell.execute_reply": "2022-12-20T15:38:28.668694Z",
     "shell.execute_reply.started": "2022-12-20T15:38:28.654698Z"
    },
    "tags": []
   },
   "outputs": [
    {
     "name": "stdout",
     "output_type": "stream",
     "text": [
      "<class 'pandas.core.frame.DataFrame'>\n",
      "RangeIndex: 1050 entries, 0 to 1049\n",
      "Data columns (total 15 columns):\n",
      " #   Column                   Non-Null Count  Dtype  \n",
      "---  ------                   --------------  -----  \n",
      " 0   uniq_id                  1050 non-null   object \n",
      " 1   crawl_timestamp          1050 non-null   object \n",
      " 2   product_url              1050 non-null   object \n",
      " 3   product_name             1050 non-null   object \n",
      " 4   product_category_tree    1050 non-null   object \n",
      " 5   pid                      1050 non-null   object \n",
      " 6   retail_price             1049 non-null   float64\n",
      " 7   discounted_price         1049 non-null   float64\n",
      " 8   image                    1050 non-null   object \n",
      " 9   is_FK_Advantage_product  1050 non-null   bool   \n",
      " 10  description              1050 non-null   object \n",
      " 11  product_rating           1050 non-null   object \n",
      " 12  overall_rating           1050 non-null   object \n",
      " 13  brand                    712 non-null    object \n",
      " 14  product_specifications   1049 non-null   object \n",
      "dtypes: bool(1), float64(2), object(12)\n",
      "memory usage: 116.0+ KB\n"
     ]
    }
   ],
   "source": [
    "df.info()"
   ]
  },
  {
   "cell_type": "code",
   "execution_count": 4,
   "id": "447d7784-7b62-4f21-8a15-e82a4019a858",
   "metadata": {
    "execution": {
     "iopub.execute_input": "2022-12-20T15:38:28.669696Z",
     "iopub.status.busy": "2022-12-20T15:38:28.669696Z",
     "iopub.status.idle": "2022-12-20T15:38:28.684663Z",
     "shell.execute_reply": "2022-12-20T15:38:28.684663Z",
     "shell.execute_reply.started": "2022-12-20T15:38:28.669696Z"
    },
    "tags": []
   },
   "outputs": [
    {
     "data": {
      "text/plain": [
       "0       Key Features of Elegance Polyester Multicolor ...\n",
       "1       Specifications of Sathiyas Cotton Bath Towel (...\n",
       "2       Key Features of Eurospa Cotton Terry Face Towe...\n",
       "3       Key Features of SANTOSH ROYAL FASHION Cotton P...\n",
       "4       Key Features of Jaipur Print Cotton Floral Kin...\n",
       "                              ...                        \n",
       "1045    Oren Empower Extra Large Self Adhesive Sticker...\n",
       "1046    Wallmantra Large Vinyl Sticker Sticker (Pack o...\n",
       "1047    Buy Uberlyfe Extra Large Pigmented Polyvinyl F...\n",
       "1048    Buy Wallmantra Medium Vinyl Sticker Sticker fo...\n",
       "1049    Buy Uberlyfe Large Vinyl Sticker for Rs.595 on...\n",
       "Name: description, Length: 1050, dtype: object"
      ]
     },
     "execution_count": 4,
     "metadata": {},
     "output_type": "execute_result"
    }
   ],
   "source": [
    "df['description']"
   ]
  },
  {
   "cell_type": "code",
   "execution_count": 5,
   "id": "166e0e25-a1b2-4f89-ab8d-e6b7dc65386b",
   "metadata": {
    "execution": {
     "iopub.execute_input": "2022-12-20T15:38:28.685689Z",
     "iopub.status.busy": "2022-12-20T15:38:28.685689Z",
     "iopub.status.idle": "2022-12-20T15:38:28.700663Z",
     "shell.execute_reply": "2022-12-20T15:38:28.700663Z",
     "shell.execute_reply.started": "2022-12-20T15:38:28.685689Z"
    },
    "tags": []
   },
   "outputs": [
    {
     "name": "stdout",
     "output_type": "stream",
     "text": [
      "7\n",
      "63\n"
     ]
    }
   ],
   "source": [
    "df['product_category_0'] = df['product_category_tree'].apply(lambda x: x.split('>>')[0])\n",
    "print(df['product_category_0'].unique().shape[0])\n",
    "df['product_category_1'] = df['product_category_tree'].apply(lambda x: x.split('>>')[1])\n",
    "print(df['product_category_1'].unique().shape[0])"
   ]
  },
  {
   "cell_type": "code",
   "execution_count": 6,
   "id": "ffa11e08-a2ed-42ee-83b3-e65dc2358e92",
   "metadata": {
    "execution": {
     "iopub.execute_input": "2022-12-20T15:38:28.701665Z",
     "iopub.status.busy": "2022-12-20T15:38:28.701665Z",
     "iopub.status.idle": "2022-12-20T15:38:28.716693Z",
     "shell.execute_reply": "2022-12-20T15:38:28.716693Z",
     "shell.execute_reply.started": "2022-12-20T15:38:28.701665Z"
    },
    "tags": []
   },
   "outputs": [
    {
     "name": "stdout",
     "output_type": "stream",
     "text": [
      "47\n"
     ]
    }
   ],
   "source": [
    "# select rows from categories with only 1 members\n",
    "idx = list(df.groupby('product_category_1').filter(lambda x: len(x) == 1).index)\n",
    "df = df.drop(index = idx)\n",
    "print(df['product_category_1'].unique().shape[0])"
   ]
  },
  {
   "cell_type": "code",
   "execution_count": 7,
   "id": "70a5fe45-102c-466d-a7ef-9ee832a417f3",
   "metadata": {
    "execution": {
     "iopub.execute_input": "2022-12-20T15:38:28.717699Z",
     "iopub.status.busy": "2022-12-20T15:38:28.717699Z",
     "iopub.status.idle": "2022-12-20T15:38:28.732687Z",
     "shell.execute_reply": "2022-12-20T15:38:28.732687Z",
     "shell.execute_reply.started": "2022-12-20T15:38:28.717699Z"
    },
    "tags": []
   },
   "outputs": [
    {
     "data": {
      "text/plain": [
       " Wrist Watches                   149\n",
       " Laptop Accessories               87\n",
       " Infant Wear                      84\n",
       " Coffee Mugs                      74\n",
       " Showpieces                       71\n",
       " Bed Linen                        65\n",
       " Fragrances                       65\n",
       " Network Components               49\n",
       " Table Decor & Handicrafts        27\n",
       " Cookware                         27\n",
       " Combos and Kits                  24\n",
       " Wall Decor & Clocks              22\n",
       " Bath Linen                       21\n",
       " Curtains & Accessories           19\n",
       " Makeup                           18\n",
       " Baby Bedding                     15\n",
       " Baby & Kids Gifts                15\n",
       " Body and Skin Care               15\n",
       " Kitchen & Dining Linen           14\n",
       " Baby Bath & Skin                 14\n",
       " Decorative Lighting & Lamps      14\n",
       " Kitchen Tools                    14\n",
       " Containers & Bottles             13\n",
       " Cushions, Pillows & Covers       13\n",
       " Hair Care                         9\n",
       " Feeding & Nursing                 8\n",
       " Bar & Glassware                   8\n",
       " Health Care                       7\n",
       " Diapering & Potty Training        7\n",
       " Lighting                          7\n",
       " Bath and Spa                      7\n",
       " Floor Coverings                   6\n",
       " Showpiece                         5\n",
       " Flowers, Plants & Vases           5\n",
       " Computer Peripherals              4\n",
       " Living                            4\n",
       " Baby Grooming                     4\n",
       " Tablet Accessories                3\n",
       " Tableware & Cutlery               3\n",
       " Living Room Furnishing            3\n",
       " Religion & Devotion               3\n",
       " Storage                           2\n",
       " Furniture & Furnishings           2\n",
       " Laptops                           2\n",
       " Computer Components               2\n",
       " Eye Care                          2\n",
       " Living\"]                          2\n",
       "Name: product_category_1, dtype: int64"
      ]
     },
     "execution_count": 7,
     "metadata": {},
     "output_type": "execute_result"
    }
   ],
   "source": [
    "df['product_category_1'].value_counts()"
   ]
  },
  {
   "cell_type": "markdown",
   "id": "bcfd049b-6db3-47b7-b1fd-219e00b91130",
   "metadata": {
    "execution": {
     "iopub.execute_input": "2022-12-13T09:24:53.081513Z",
     "iopub.status.busy": "2022-12-13T09:24:53.081513Z",
     "iopub.status.idle": "2022-12-13T09:24:53.102513Z",
     "shell.execute_reply": "2022-12-13T09:24:53.102513Z",
     "shell.execute_reply.started": "2022-12-13T09:24:53.081513Z"
    },
    "tags": []
   },
   "source": [
    "# Text"
   ]
  },
  {
   "cell_type": "code",
   "execution_count": 8,
   "id": "a8a6f729-e3ab-4028-aaa9-87b82f790788",
   "metadata": {
    "execution": {
     "iopub.execute_input": "2022-12-20T15:38:28.733665Z",
     "iopub.status.busy": "2022-12-20T15:38:28.733665Z",
     "iopub.status.idle": "2022-12-20T15:38:28.748689Z",
     "shell.execute_reply": "2022-12-20T15:38:28.748689Z",
     "shell.execute_reply.started": "2022-12-20T15:38:28.733665Z"
    },
    "tags": []
   },
   "outputs": [],
   "source": [
    "txt_df = df.iloc[:, [0, 10, 15, 16]]"
   ]
  },
  {
   "cell_type": "code",
   "execution_count": 9,
   "id": "6df0d65c-23c2-42a2-a29c-4eb8a58f0691",
   "metadata": {
    "execution": {
     "iopub.execute_input": "2022-12-20T15:38:28.749676Z",
     "iopub.status.busy": "2022-12-20T15:38:28.749676Z",
     "iopub.status.idle": "2022-12-20T15:38:28.969662Z",
     "shell.execute_reply": "2022-12-20T15:38:28.969662Z",
     "shell.execute_reply.started": "2022-12-20T15:38:28.749676Z"
    },
    "tags": []
   },
   "outputs": [
    {
     "data": {
      "text/plain": [
       "<AxesSubplot:>"
      ]
     },
     "execution_count": 9,
     "metadata": {},
     "output_type": "execute_result"
    },
    {
     "data": {
      "image/png": "[encoded data removed]",
      "text/plain": [
       "<Figure size 1800x720 with 2 Axes>"
      ]
     },
     "metadata": {
      "needs_background": "light"
     },
     "output_type": "display_data"
    }
   ],
   "source": [
    "msno.matrix(txt_df)"
   ]
  },
  {
   "cell_type": "code",
   "execution_count": 10,
   "id": "53d5b16b-81d8-43cd-a8b9-8005623c5649",
   "metadata": {
    "execution": {
     "iopub.execute_input": "2022-12-20T15:38:28.970663Z",
     "iopub.status.busy": "2022-12-20T15:38:28.970663Z",
     "iopub.status.idle": "2022-12-20T15:38:29.092248Z",
     "shell.execute_reply": "2022-12-20T15:38:29.091663Z",
     "shell.execute_reply.started": "2022-12-20T15:38:28.970663Z"
    },
    "tags": []
   },
   "outputs": [
    {
     "data": {
      "image/png": "[encoded data removed]",
      "text/plain": [
       "<Figure size 720x720 with 1 Axes>"
      ]
     },
     "metadata": {
      "needs_background": "light"
     },
     "output_type": "display_data"
    }
   ],
   "source": [
    "txt_df['lenght'] = txt_df['description'].apply(lambda x: len(x))\n",
    "txt_df['lenght'].describe()\n",
    "fig, ax = plt.subplots(figsize=(10, 10))\n",
    "sns.boxplot(data = txt_df['lenght'],\n",
    "            ax=ax\n",
    "           )\n",
    "ax.text(0.75,\n",
    "        0.8,\n",
    "        str(txt_df['lenght'].describe()),\n",
    "        transform=ax.transAxes\n",
    "        )\n",
    "plt.show()"
   ]
  },
  {
   "cell_type": "code",
   "execution_count": 11,
   "id": "b9d2d8aa-7546-4fa8-b51c-866a38976846",
   "metadata": {
    "execution": {
     "iopub.execute_input": "2022-12-20T15:38:29.092248Z",
     "iopub.status.busy": "2022-12-20T15:38:29.092248Z",
     "iopub.status.idle": "2022-12-20T15:38:29.107285Z",
     "shell.execute_reply": "2022-12-20T15:38:29.107285Z",
     "shell.execute_reply.started": "2022-12-20T15:38:29.092248Z"
    },
    "tags": []
   },
   "outputs": [
    {
     "name": "stdout",
     "output_type": "stream",
     "text": [
      "84 8.123791102514506\n"
     ]
    },
    {
     "data": {
      "text/plain": [
       "'Key Features of Sunlast 16 inch Laptop Backpack Laptop Backpack with solar panel Comfortable back panel with air-flow design Adjustable sternum strap Large outer elasticated mesh side pocket and a top carry handle Padded and Adjustable shoulder straps Charge your mobile by solar power Mobile power backup option Long life Easy to use,Sunlast 16 inch Laptop Backpack (Yellow) Price: Rs. 2,348 The Sunlast New Laptop Backpack with Solar Panel ensures complete safety to your laptop with its high-quality built and wide range of built-in features. With the inside of this bag featuring a protective padding, you can be rest assured that the laptop inside it will be well cushioned from any accidental damage caused when you bump into any surface. As it is made of nylon, this laptop backpack can withstand abrasions and is long lasting. This Sunlast Backpack comes with a unique solar panel which allows you to charge your mobile phone anywhere anytime. This Sunlast Laptop backpack with solar panel is a great innovation in the field of mobile charging and other similar applications. This solar panel has USB output pins suitable for mobile phones. This is a great solar charger bag available at the best price. The best feature of this bag is its portability and durability. This solar charger is suitable for all smart phones and charging time depends on battery mAh. With this beautiful product, you can charge your phone in an eco-friendly way with no cost to you or the environment. Along with being durable, nylon also ensures that this backpack can survive rugged outdoor use, thus you can confidently wear this bag while you are out camping. This backpack is also water-resistant and keeps your laptop safe in wet and damp conditions. The Sunlast laptop backpack is perfect for your laptop. This backpack features top loading and can accommodate a large size laptop easily. It is a lightweight and comfortable laptop carry bag and comes with padded straps that distribute the weight evenly on your shoulders without stressing your back and shoulders. You can adjust the cushioned straps for a snug-fit. This Sunlast backpack is water resistant and protects your laptop and other accessories from water. It is made to suit all the styles and can be used by both college-goers and office-goers. It offers enough space for you to carry your essentials along with your laptop and its accessories. It features a zippered compartment that is big enough to hold your laptop. It also features one front pocket with an office organiser. You can use it to store the charger, mouse, pen drive, notepad, pen and other essentials. It features two mesh side pockets, where you can keep your water bottle or any other item for quick access. It is spacious enough to store your belongings on a one-day business trip as well. Buy this Sunlast backpack and carry your laptop and other accessories safely and in style.,Specifications of Sunlast 16 inch Laptop Backpack (Yellow) General Brand Sunlast Trolley No Expandable No Type Laptop Backpack Model Name L003 Yellow solar mobile charger Material Nylon Compatible Laptop Size 16 inch Style Code L003 Yellow Closure Type Zip Color Code Yellow Color Yellow Dimensions Exterior Width 350 mm Weight 820 g Exterior Height 450 mm In the Box Laptop Backpack With Solar Panel Body Features Hip Strap No Secret Security Compartment Yes Waterproof Yes Rain Cover No Shoulder Strap Adjustable Number of Compartments 4'"
      ]
     },
     "execution_count": 11,
     "metadata": {},
     "output_type": "execute_result"
    }
   ],
   "source": [
    "out = []\n",
    "q1 = txt_df['lenght'].quantile(0.25)\n",
    "q3 = txt_df['lenght'].quantile(0.75)\n",
    "interq = q3-q1\n",
    "out = txt_df.loc[(txt_df['lenght'] < (q1-1.5*interq)) | (txt_df['lenght'] > (q3+1.5*interq))]\n",
    "print(out.shape[0], out.shape[0]/txt_df.shape[0]*100)\n",
    "out.sort_values(by='lenght', ascending = False).iloc[1, 1]"
   ]
  },
  {
   "cell_type": "markdown",
   "id": "472dfe5c-5a76-4ff3-81eb-8337156bc045",
   "metadata": {},
   "source": [
    "## Preprocessing"
   ]
  },
  {
   "cell_type": "code",
   "execution_count": 12,
   "id": "71b629e0-8929-406f-94f8-331c60def133",
   "metadata": {
    "execution": {
     "iopub.execute_input": "2022-12-20T15:38:29.110259Z",
     "iopub.status.busy": "2022-12-20T15:38:29.110259Z",
     "iopub.status.idle": "2022-12-20T15:38:29.664503Z",
     "shell.execute_reply": "2022-12-20T15:38:29.664503Z",
     "shell.execute_reply.started": "2022-12-20T15:38:29.110259Z"
    },
    "tags": []
   },
   "outputs": [
    {
     "name": "stderr",
     "output_type": "stream",
     "text": [
      "[nltk_data] Downloading package stopwords to\n",
      "[nltk_data]     C:\\Users\\Nico\\AppData\\Roaming\\nltk_data...\n",
      "[nltk_data]   Package stopwords is already up-to-date!\n",
      "[nltk_data] Downloading package punkt to\n",
      "[nltk_data]     C:\\Users\\Nico\\AppData\\Roaming\\nltk_data...\n",
      "[nltk_data]   Package punkt is already up-to-date!\n",
      "[nltk_data] Downloading package words to\n",
      "[nltk_data]     C:\\Users\\Nico\\AppData\\Roaming\\nltk_data...\n",
      "[nltk_data]   Package words is already up-to-date!\n",
      "[nltk_data] Downloading package wordnet to\n",
      "[nltk_data]     C:\\Users\\Nico\\AppData\\Roaming\\nltk_data...\n",
      "[nltk_data]   Package wordnet is already up-to-date!\n",
      "[nltk_data] Downloading package omw-1.4 to\n",
      "[nltk_data]     C:\\Users\\Nico\\AppData\\Roaming\\nltk_data...\n",
      "[nltk_data]   Package omw-1.4 is already up-to-date!\n"
     ]
    },
    {
     "data": {
      "text/plain": [
       "True"
      ]
     },
     "execution_count": 12,
     "metadata": {},
     "output_type": "execute_result"
    }
   ],
   "source": [
    "import nltk \n",
    "import string\n",
    "nltk.download('stopwords')\n",
    "nltk.download('punkt')\n",
    "nltk.download('words')\n",
    "nltk.download('wordnet')\n",
    "nltk.download('omw-1.4')"
   ]
  },
  {
   "cell_type": "code",
   "execution_count": 13,
   "id": "e90483c0-ff29-49ed-9209-edb7dac1c051",
   "metadata": {
    "execution": {
     "iopub.execute_input": "2022-12-20T15:38:29.665503Z",
     "iopub.status.busy": "2022-12-20T15:38:29.665503Z",
     "iopub.status.idle": "2022-12-20T15:38:29.773586Z",
     "shell.execute_reply": "2022-12-20T15:38:29.773586Z",
     "shell.execute_reply.started": "2022-12-20T15:38:29.665503Z"
    },
    "tags": []
   },
   "outputs": [],
   "source": [
    "words = set(nltk.corpus.words.words())\n",
    "stopwords = nltk.corpus.stopwords.words('english')\n",
    "lemmatizer = nltk.stem.WordNetLemmatizer()\n",
    "\n",
    "def prepro(x):\n",
    "    prepro_list = []\n",
    "    for sentence in x:\n",
    "        sent_wo_punc = \"\".join([i.lower() for i in sentence if i not in string.punctuation])\n",
    "        sent_wo_num = ''.join([i for i in sent_wo_punc if not i.isdigit()])\n",
    "        sent_token = nltk.tokenize.word_tokenize(sent_wo_num)\n",
    "        sent_token_wo_punc = [i for i in sent_token if i not in string.punctuation]\n",
    "        token_wo_stop = [i for i in sent_token_wo_punc if i not in stopwords]\n",
    "        lem = (lemmatizer.lemmatize(i) for i in token_wo_stop if i not in string.punctuation)\n",
    "        clean = ' '.join(i for i in lem if len(str(i)) > 2)\n",
    "        prepro_list.append(clean)\n",
    "    return prepro_list"
   ]
  },
  {
   "cell_type": "code",
   "execution_count": 14,
   "id": "522ff401-5b7b-453d-8d87-c3035d08d46c",
   "metadata": {
    "execution": {
     "iopub.execute_input": "2022-12-20T15:38:29.774546Z",
     "iopub.status.busy": "2022-12-20T15:38:29.774546Z",
     "iopub.status.idle": "2022-12-20T15:38:29.788537Z",
     "shell.execute_reply": "2022-12-20T15:38:29.788537Z",
     "shell.execute_reply.started": "2022-12-20T15:38:29.774546Z"
    },
    "tags": []
   },
   "outputs": [],
   "source": [
    "sentence = txt_df['description'].sample()"
   ]
  },
  {
   "cell_type": "code",
   "execution_count": 15,
   "id": "4abe0ef3-80ec-4e6d-a316-70d9f1bb37d9",
   "metadata": {
    "execution": {
     "iopub.execute_input": "2022-12-20T15:38:29.789504Z",
     "iopub.status.busy": "2022-12-20T15:38:29.789504Z",
     "iopub.status.idle": "2022-12-20T15:38:31.007584Z",
     "shell.execute_reply": "2022-12-20T15:38:31.007584Z",
     "shell.execute_reply.started": "2022-12-20T15:38:29.789504Z"
    },
    "tags": []
   },
   "outputs": [
    {
     "data": {
      "text/plain": [
       "'buy babybucket cotton bath towel flipkart.com genuine product free shipping cash delivery'"
      ]
     },
     "execution_count": 15,
     "metadata": {},
     "output_type": "execute_result"
    }
   ],
   "source": [
    "sentence = txt_df['description'].sample()\n",
    "sent_wo_punc = \"\".join([i.lower() for i in sentence if i not in string.punctuation])\n",
    "sent_wo_num = ''.join([i for i in sent_wo_punc if not i.isdigit()])\n",
    "sent_token = nltk.tokenize.word_tokenize(sent_wo_num)\n",
    "sent_token_wo_punc = [i for i in sent_token if i not in string.punctuation]\n",
    "token_wo_stop = [i for i in sent_token_wo_punc if i not in stopwords]\n",
    "lem = (lemmatizer.lemmatize(i) for i in token_wo_stop if i not in string.punctuation)\n",
    "clean = ' '.join(i for i in lem if len(str(i)) > 2)\n",
    "clean"
   ]
  },
  {
   "cell_type": "code",
   "execution_count": 16,
   "id": "96ed4571-c558-443c-90c1-ebfad9f87991",
   "metadata": {
    "execution": {
     "iopub.execute_input": "2022-12-20T15:38:31.008527Z",
     "iopub.status.busy": "2022-12-20T15:38:31.008527Z",
     "iopub.status.idle": "2022-12-20T15:38:31.783535Z",
     "shell.execute_reply": "2022-12-20T15:38:31.783535Z",
     "shell.execute_reply.started": "2022-12-20T15:38:31.008527Z"
    },
    "tags": []
   },
   "outputs": [
    {
     "data": {
      "image/png": "[encoded data removed]",
      "text/plain": [
       "<Figure size 720x720 with 1 Axes>"
      ]
     },
     "metadata": {
      "needs_background": "light"
     },
     "output_type": "display_data"
    }
   ],
   "source": [
    "txt_df['description_clean'] = prepro(txt_df['description'])\n",
    "txt_df['lenght_clean'] = txt_df['description_clean'].apply(lambda x: len(x))\n",
    "fig, ax = plt.subplots(figsize=(10, 10))\n",
    "sns.boxplot(data = txt_df['lenght_clean'],\n",
    "            ax=ax\n",
    "           )\n",
    "ax.text(0.75,\n",
    "        0.8,\n",
    "        str(txt_df['lenght_clean'].describe()),\n",
    "        transform=ax.transAxes\n",
    "        )\n",
    "plt.show()"
   ]
  },
  {
   "cell_type": "code",
   "execution_count": 17,
   "id": "004da212-46d2-4905-b62e-f6eede5ee828",
   "metadata": {
    "execution": {
     "iopub.execute_input": "2022-12-20T15:38:31.784534Z",
     "iopub.status.busy": "2022-12-20T15:38:31.784534Z",
     "iopub.status.idle": "2022-12-20T15:38:31.798530Z",
     "shell.execute_reply": "2022-12-20T15:38:31.798530Z",
     "shell.execute_reply.started": "2022-12-20T15:38:31.784534Z"
    },
    "tags": []
   },
   "outputs": [],
   "source": [
    "from sklearn.preprocessing import LabelEncoder\n",
    "le = LabelEncoder()\n",
    "txt_df['labels_0'] = le.fit_transform(txt_df['product_category_0'])\n",
    "txt_df['labels_1'] = le.fit_transform(txt_df['product_category_1'])"
   ]
  },
  {
   "cell_type": "markdown",
   "id": "be433df6-86a4-4d3b-9eb8-14f04fe58f64",
   "metadata": {},
   "source": [
    "## Bag of Words"
   ]
  },
  {
   "cell_type": "code",
   "execution_count": 18,
   "id": "e9ec5649-cd87-45f7-85eb-a869db06a30a",
   "metadata": {
    "execution": {
     "iopub.execute_input": "2022-12-20T15:38:31.800504Z",
     "iopub.status.busy": "2022-12-20T15:38:31.800504Z",
     "iopub.status.idle": "2022-12-20T15:38:31.861504Z",
     "shell.execute_reply": "2022-12-20T15:38:31.860566Z",
     "shell.execute_reply.started": "2022-12-20T15:38:31.800504Z"
    },
    "tags": []
   },
   "outputs": [],
   "source": [
    "from sklearn.feature_extraction.text import CountVectorizer\n",
    "vectorizer = CountVectorizer(stop_words='english')\n",
    "bag_of_words = vectorizer.fit_transform(txt_df['description_clean'].tolist())"
   ]
  },
  {
   "cell_type": "code",
   "execution_count": 19,
   "id": "581af3ad-f271-4a82-8b7a-dae73f6b3e11",
   "metadata": {
    "execution": {
     "iopub.execute_input": "2022-12-20T15:38:31.861504Z",
     "iopub.status.busy": "2022-12-20T15:38:31.861504Z",
     "iopub.status.idle": "2022-12-20T15:38:34.461008Z",
     "shell.execute_reply": "2022-12-20T15:38:34.461008Z",
     "shell.execute_reply.started": "2022-12-20T15:38:31.861504Z"
    },
    "tags": []
   },
   "outputs": [
    {
     "name": "stdout",
     "output_type": "stream",
     "text": [
      "The ari scores are 0.0407787440994862 for categorie 0 and 0.21166366841990866 for categorie 1.\n"
     ]
    }
   ],
   "source": [
    "from sklearn import cluster, metrics\n",
    "clus = cluster.KMeans(n_clusters = 7, random_state = 38)\n",
    "clus1 = cluster.KMeans(n_clusters = 63, random_state = 38)\n",
    "clus.fit(bag_of_words)\n",
    "clus1.fit(bag_of_words)\n",
    "ari = metrics.adjusted_rand_score(np.array(txt_df['labels_0']),\n",
    "                                                 np.array(clus.labels_)\n",
    "                                                 )\n",
    "ari1 = metrics.adjusted_rand_score(np.array(txt_df['labels_1']),\n",
    "                                                 np.array(clus1.labels_)\n",
    "                                                 )\n",
    "print('The ari scores are {} for categorie 0 and {} for categorie 1.'.format(ari, ari1))"
   ]
  },
  {
   "cell_type": "markdown",
   "id": "67ad03c9-07e5-4f50-b252-7f4b18b6f36e",
   "metadata": {},
   "source": [
    "## Tf-Idf"
   ]
  },
  {
   "cell_type": "code",
   "execution_count": 20,
   "id": "ef9eb59e-0176-4c95-9ed9-975fe7a97b21",
   "metadata": {
    "execution": {
     "iopub.execute_input": "2022-12-20T15:38:34.462008Z",
     "iopub.status.busy": "2022-12-20T15:38:34.462008Z",
     "iopub.status.idle": "2022-12-20T15:38:39.911009Z",
     "shell.execute_reply": "2022-12-20T15:38:39.911009Z",
     "shell.execute_reply.started": "2022-12-20T15:38:34.462008Z"
    },
    "tags": []
   },
   "outputs": [
    {
     "name": "stdout",
     "output_type": "stream",
     "text": [
      "The ari scores are 0.312179413532306 for categorie 0 and 0.28185708488304756 for categorie 1.\n"
     ]
    }
   ],
   "source": [
    "from sklearn.feature_extraction.text import TfidfVectorizer\n",
    "tf_idf_vect = TfidfVectorizer(stop_words='english')\n",
    "tf_idf_matrix = tf_idf_vect.fit_transform(txt_df['description_clean'].tolist())\n",
    "clus.fit(tf_idf_matrix)\n",
    "clus1.fit(tf_idf_matrix)\n",
    "ari = metrics.adjusted_rand_score(np.array(txt_df['labels_0']),\n",
    "                                                 np.array(clus.labels_)\n",
    "                                                 )\n",
    "ari1 = metrics.adjusted_rand_score(np.array(txt_df['labels_1']),\n",
    "                                                 np.array(clus1.labels_)\n",
    "                                                 )\n",
    "print('The ari scores are {} for categorie 0 and {} for categorie 1.'.format(ari, ari1))"
   ]
  },
  {
   "cell_type": "markdown",
   "id": "62c6b539-fb4a-4138-bbab-e0391dcb6bc1",
   "metadata": {},
   "source": [
    "### n-gram"
   ]
  },
  {
   "cell_type": "code",
   "execution_count": 21,
   "id": "6d617700-b7ce-4b97-aad2-009835154669",
   "metadata": {
    "execution": {
     "iopub.execute_input": "2022-12-20T15:38:39.912010Z",
     "iopub.status.busy": "2022-12-20T15:38:39.912010Z",
     "iopub.status.idle": "2022-12-20T15:38:54.276008Z",
     "shell.execute_reply": "2022-12-20T15:38:54.276008Z",
     "shell.execute_reply.started": "2022-12-20T15:38:39.912010Z"
    },
    "tags": []
   },
   "outputs": [
    {
     "name": "stdout",
     "output_type": "stream",
     "text": [
      "The ari scores for the 1-gram are 0.0407787440994862 for categorie 0 and 0.21166366841990866 for categorie 1.\n",
      "The ari scores for the 2-gram are 0.004236585166335003 for categorie 0 and 0.22545437555477937 for categorie 1.\n",
      "The ari scores for the 3-gram are 0.003447564063272674 for categorie 0 and 0.10922246002231754 for categorie 1.\n",
      "The ari scores for the 4-gram are 0.004236585166335003 for categorie 0 and 0.1731699971988863 for categorie 1.\n",
      "The ari scores for the 5-gram are 0.03566930940846275 for categorie 0 and 0.15483899500233628 for categorie 1.\n"
     ]
    }
   ],
   "source": [
    "# Bag of words\n",
    "for i in range(1, 6):\n",
    "    vectorizer = CountVectorizer(stop_words='english', ngram_range=(i, i))\n",
    "    bag_of_words = vectorizer.fit_transform(txt_df['description_clean'].tolist())\n",
    "    clus.fit(bag_of_words)\n",
    "    clus1.fit(bag_of_words)\n",
    "    ari = metrics.adjusted_rand_score(np.array(txt_df['labels_0']),\n",
    "                                                 np.array(clus.labels_)\n",
    "                                                 )\n",
    "    ari1 = metrics.adjusted_rand_score(np.array(txt_df['labels_1']),\n",
    "                                                 np.array(clus1.labels_)\n",
    "                                                 )\n",
    "    print('The ari scores for the {}-gram are {} for categorie 0 and {} for categorie 1.'.format(i, ari, ari1))\n"
   ]
  },
  {
   "cell_type": "code",
   "execution_count": 22,
   "id": "25538b04-4d83-409f-a43b-09ade77aeb39",
   "metadata": {
    "execution": {
     "iopub.execute_input": "2022-12-20T15:38:54.277008Z",
     "iopub.status.busy": "2022-12-20T15:38:54.277008Z",
     "iopub.status.idle": "2022-12-20T15:39:22.675009Z",
     "shell.execute_reply": "2022-12-20T15:39:22.675009Z",
     "shell.execute_reply.started": "2022-12-20T15:38:54.277008Z"
    },
    "tags": []
   },
   "outputs": [
    {
     "name": "stdout",
     "output_type": "stream",
     "text": [
      "The ari scores for the 1-gram are 0.312179413532306 for categorie 0 and 0.28185708488304756 for categorie 1.\n",
      "The ari scores for the 2-gram are 0.23176858838682138 for categorie 0 and 0.28928405798197937 for categorie 1.\n",
      "The ari scores for the 3-gram are 0.16157691210525224 for categorie 0 and 0.21514300729356242 for categorie 1.\n",
      "The ari scores for the 4-gram are 0.14088142718290703 for categorie 0 and 0.17040343477582995 for categorie 1.\n",
      "The ari scores for the 5-gram are 0.1479085918408498 for categorie 0 and 0.22353982395015623 for categorie 1.\n"
     ]
    }
   ],
   "source": [
    "# tf-idf\n",
    "for i in range(1,6):\n",
    "    tf_idf_vect = TfidfVectorizer(stop_words='english', ngram_range=(i, i))\n",
    "    tf_idf_matrix = tf_idf_vect.fit_transform(txt_df['description_clean'].tolist())\n",
    "    clus.fit(tf_idf_matrix)\n",
    "    clus1.fit(tf_idf_matrix)\n",
    "    ari = metrics.adjusted_rand_score(np.array(txt_df['labels_0']),\n",
    "                                                 np.array(clus.labels_)\n",
    "                                                 )\n",
    "    ari1 = metrics.adjusted_rand_score(np.array(txt_df['labels_1']),\n",
    "                                                 np.array(clus1.labels_)\n",
    "                                                 )\n",
    "    print('The ari scores for the {}-gram are {} for categorie 0 and {} for categorie 1.'.format(i, ari, ari1))"
   ]
  },
  {
   "cell_type": "code",
   "execution_count": 23,
   "id": "e49e6985-2acd-41df-aeb5-38bc26033755",
   "metadata": {
    "execution": {
     "iopub.execute_input": "2022-12-20T15:39:22.676008Z",
     "iopub.status.busy": "2022-12-20T15:39:22.676008Z",
     "iopub.status.idle": "2022-12-20T15:39:22.690008Z",
     "shell.execute_reply": "2022-12-20T15:39:22.690008Z",
     "shell.execute_reply.started": "2022-12-20T15:39:22.676008Z"
    },
    "tags": []
   },
   "outputs": [
    {
     "name": "stdout",
     "output_type": "stream",
     "text": [
      "<class 'pandas.core.frame.DataFrame'>\n",
      "Int64Index: 1034 entries, 0 to 1049\n",
      "Data columns (total 9 columns):\n",
      " #   Column              Non-Null Count  Dtype \n",
      "---  ------              --------------  ----- \n",
      " 0   uniq_id             1034 non-null   object\n",
      " 1   description         1034 non-null   object\n",
      " 2   product_category_0  1034 non-null   object\n",
      " 3   product_category_1  1034 non-null   object\n",
      " 4   lenght              1034 non-null   int64 \n",
      " 5   description_clean   1034 non-null   object\n",
      " 6   lenght_clean        1034 non-null   int64 \n",
      " 7   labels_0            1034 non-null   int32 \n",
      " 8   labels_1            1034 non-null   int32 \n",
      "dtypes: int32(2), int64(2), object(5)\n",
      "memory usage: 105.0+ KB\n"
     ]
    }
   ],
   "source": [
    "txt_df.info()"
   ]
  },
  {
   "cell_type": "markdown",
   "id": "712380a0-994c-4294-9300-66a907440b41",
   "metadata": {},
   "source": [
    "## Word2Vec"
   ]
  },
  {
   "cell_type": "code",
   "execution_count": 24,
   "id": "69699740-2937-4b13-945f-480a884e8aeb",
   "metadata": {
    "execution": {
     "iopub.execute_input": "2022-12-20T15:39:22.691008Z",
     "iopub.status.busy": "2022-12-20T15:39:22.691008Z",
     "iopub.status.idle": "2022-12-20T15:39:22.895009Z",
     "shell.execute_reply": "2022-12-20T15:39:22.895009Z",
     "shell.execute_reply.started": "2022-12-20T15:39:22.691008Z"
    },
    "tags": []
   },
   "outputs": [],
   "source": [
    "txt_df['description_token'] = txt_df['description_clean'].apply(lambda x: nltk.tokenize.word_tokenize(x))"
   ]
  },
  {
   "cell_type": "code",
   "execution_count": 25,
   "id": "c980f75a-8986-4bb5-868b-53f3cf60e66b",
   "metadata": {
    "execution": {
     "iopub.execute_input": "2022-12-20T15:39:22.896008Z",
     "iopub.status.busy": "2022-12-20T15:39:22.896008Z",
     "iopub.status.idle": "2022-12-20T15:39:24.358644Z",
     "shell.execute_reply": "2022-12-20T15:39:24.358644Z",
     "shell.execute_reply.started": "2022-12-20T15:39:22.896008Z"
    },
    "tags": []
   },
   "outputs": [
    {
     "data": {
      "text/plain": [
       "(1250685, 1785945)"
      ]
     },
     "execution_count": 25,
     "metadata": {},
     "output_type": "execute_result"
    }
   ],
   "source": [
    "from gensim.models import Word2Vec\n",
    "model = Word2Vec(vector_size = 300)\n",
    "model.build_vocab(txt_df['description_token'].tolist())\n",
    "model.train(txt_df['description_token'].tolist(), total_examples=model.corpus_count, epochs=35)"
   ]
  },
  {
   "cell_type": "code",
   "execution_count": 26,
   "id": "b33f5f61-32a6-46d5-ac5b-f97622ead604",
   "metadata": {
    "execution": {
     "iopub.execute_input": "2022-12-20T15:39:24.360615Z",
     "iopub.status.busy": "2022-12-20T15:39:24.359615Z",
     "iopub.status.idle": "2022-12-20T15:39:24.374634Z",
     "shell.execute_reply": "2022-12-20T15:39:24.374634Z",
     "shell.execute_reply.started": "2022-12-20T15:39:24.360615Z"
    },
    "tags": []
   },
   "outputs": [
    {
     "data": {
      "text/plain": [
       "1034"
      ]
     },
     "execution_count": 26,
     "metadata": {},
     "output_type": "execute_result"
    }
   ],
   "source": [
    "model.corpus_count"
   ]
  },
  {
   "cell_type": "code",
   "execution_count": 27,
   "id": "70179125-d4b8-4b35-922b-939ab3b6028c",
   "metadata": {
    "execution": {
     "iopub.execute_input": "2022-12-20T15:39:24.375616Z",
     "iopub.status.busy": "2022-12-20T15:39:24.375616Z",
     "iopub.status.idle": "2022-12-20T15:39:24.390634Z",
     "shell.execute_reply": "2022-12-20T15:39:24.390634Z",
     "shell.execute_reply.started": "2022-12-20T15:39:24.375616Z"
    },
    "tags": []
   },
   "outputs": [],
   "source": [
    "vector = model.wv"
   ]
  },
  {
   "cell_type": "code",
   "execution_count": 28,
   "id": "b1f9af17-2021-4dbd-b17b-4aaf720ee438",
   "metadata": {
    "execution": {
     "iopub.execute_input": "2022-12-20T15:39:24.391615Z",
     "iopub.status.busy": "2022-12-20T15:39:24.391615Z",
     "iopub.status.idle": "2022-12-20T15:39:24.406614Z",
     "shell.execute_reply": "2022-12-20T15:39:24.406614Z",
     "shell.execute_reply.started": "2022-12-20T15:39:24.391615Z"
    },
    "tags": []
   },
   "outputs": [
    {
     "data": {
      "text/plain": [
       "[('vibrantly', 0.8087284564971924),\n",
       " ('oudh', 0.7568148374557495),\n",
       " ('smooth', 0.7373384833335876),\n",
       " ('pencil', 0.7355238795280457),\n",
       " ('bathing', 0.7342649698257446),\n",
       " ('arabic', 0.7330609560012817),\n",
       " ('bar', 0.7151823043823242),\n",
       " ('infused', 0.7129676938056946),\n",
       " ('lip', 0.7114304900169373),\n",
       " ('conditioner', 0.7079388499259949)]"
      ]
     },
     "execution_count": 28,
     "metadata": {},
     "output_type": "execute_result"
    }
   ],
   "source": [
    "vector.most_similar(\"natural\")"
   ]
  },
  {
   "cell_type": "code",
   "execution_count": 29,
   "id": "73dff19e-748c-485c-adfa-01f82c0425a7",
   "metadata": {
    "execution": {
     "iopub.execute_input": "2022-12-20T15:39:24.407615Z",
     "iopub.status.busy": "2022-12-20T15:39:24.407615Z",
     "iopub.status.idle": "2022-12-20T15:39:24.422612Z",
     "shell.execute_reply": "2022-12-20T15:39:24.422612Z",
     "shell.execute_reply.started": "2022-12-20T15:39:24.407615Z"
    },
    "tags": []
   },
   "outputs": [
    {
     "data": {
      "text/plain": [
       "[('vacuum', 0.9325560927391052),\n",
       " ('connect', 0.8842046856880188),\n",
       " ('cleaner', 0.8720195889472961),\n",
       " ('cleaning', 0.8545780777931213),\n",
       " ('desktop', 0.8407987952232361),\n",
       " ('air', 0.8302437663078308),\n",
       " ('keyboard', 0.829899787902832),\n",
       " ('device', 0.8165401220321655),\n",
       " ('requirement', 0.8111148476600647),\n",
       " ('attachment', 0.8065398931503296)]"
      ]
     },
     "execution_count": 29,
     "metadata": {},
     "output_type": "execute_result"
    }
   ],
   "source": [
    "vector.most_similar('computer')"
   ]
  },
  {
   "cell_type": "code",
   "execution_count": 30,
   "id": "f0e15b3b-1d5f-47cf-ac69-2097754eabf3",
   "metadata": {
    "execution": {
     "iopub.execute_input": "2022-12-20T15:39:24.423613Z",
     "iopub.status.busy": "2022-12-20T15:39:24.423613Z",
     "iopub.status.idle": "2022-12-20T15:39:24.438614Z",
     "shell.execute_reply": "2022-12-20T15:39:24.438614Z",
     "shell.execute_reply.started": "2022-12-20T15:39:24.423613Z"
    },
    "tags": []
   },
   "outputs": [],
   "source": [
    "def get_mean(vectors, document):\n",
    "    # check if each token is in the vocab (min =5)\n",
    "    doc = [i for i in document if i in vectors.index_to_key]\n",
    "    mean = np.mean(vectors[doc], axis = 0)\n",
    "    return mean"
   ]
  },
  {
   "cell_type": "code",
   "execution_count": 31,
   "id": "2b367baa-2b98-4cb6-9fe5-f3a24e865d31",
   "metadata": {
    "execution": {
     "iopub.execute_input": "2022-12-20T15:39:24.439613Z",
     "iopub.status.busy": "2022-12-20T15:39:24.439613Z",
     "iopub.status.idle": "2022-12-20T15:39:24.816757Z",
     "shell.execute_reply": "2022-12-20T15:39:24.816757Z",
     "shell.execute_reply.started": "2022-12-20T15:39:24.439613Z"
    },
    "tags": []
   },
   "outputs": [],
   "source": [
    "txt_df['embeded_doc'] = txt_df['description_token'].apply(lambda x: get_mean(vector, x))"
   ]
  },
  {
   "cell_type": "code",
   "execution_count": 32,
   "id": "d7a4bacd-ab8a-4657-822e-f78735f7c0f8",
   "metadata": {
    "execution": {
     "iopub.execute_input": "2022-12-20T15:39:24.817767Z",
     "iopub.status.busy": "2022-12-20T15:39:24.817767Z",
     "iopub.status.idle": "2022-12-20T15:39:25.974727Z",
     "shell.execute_reply": "2022-12-20T15:39:25.974727Z",
     "shell.execute_reply.started": "2022-12-20T15:39:24.817767Z"
    },
    "tags": []
   },
   "outputs": [
    {
     "name": "stdout",
     "output_type": "stream",
     "text": [
      "The ari scores are 0.24165191923185494 for categorie 0 and 0.3724708460789228 for categorie 1.\n"
     ]
    }
   ],
   "source": [
    "embeded_doc = pd.DataFrame(txt_df['embeded_doc'].tolist())\n",
    "clus.fit(embeded_doc)\n",
    "clus1.fit(embeded_doc)\n",
    "ari = metrics.adjusted_rand_score(np.array(txt_df['labels_0']),\n",
    "                                                 np.array(clus.labels_)\n",
    "                                                 )\n",
    "ari1 = metrics.adjusted_rand_score(np.array(txt_df['labels_1']),\n",
    "                                                 np.array(clus1.labels_)\n",
    "                                                 )\n",
    "print('The ari scores are {} for categorie 0 and {} for categorie 1.'.format(ari, ari1))"
   ]
  },
  {
   "cell_type": "code",
   "execution_count": 33,
   "id": "3ac24100-cb97-4cdd-90d3-822ebe4917ef",
   "metadata": {
    "execution": {
     "iopub.execute_input": "2022-12-20T15:39:25.975727Z",
     "iopub.status.busy": "2022-12-20T15:39:25.975727Z",
     "iopub.status.idle": "2022-12-20T15:40:23.205789Z",
     "shell.execute_reply": "2022-12-20T15:40:23.205789Z",
     "shell.execute_reply.started": "2022-12-20T15:39:25.975727Z"
    },
    "tags": []
   },
   "outputs": [
    {
     "data": {
      "image/png": "[encoded data removed]",
      "text/plain": [
       "<Figure size 432x288 with 1 Axes>"
      ]
     },
     "metadata": {
      "needs_background": "light"
     },
     "output_type": "display_data"
    }
   ],
   "source": [
    "ari_l = []\n",
    "ari_l1 = []\n",
    "for i in np.arange(5,105,5):\n",
    "    model.train(txt_df['description_token'].tolist(), total_examples=model.corpus_count, epochs=i)\n",
    "    vector = model.wv\n",
    "    temp = txt_df['description_token'].apply(lambda x: get_mean(vector, x))\n",
    "    temp = pd.DataFrame(temp.tolist())\n",
    "    clus.fit(temp)\n",
    "    clus1.fit(temp)\n",
    "    ari_l.append(metrics.adjusted_rand_score(np.array(txt_df['labels_0']),\n",
    "                                                 np.array(clus.labels_)\n",
    "                                                 ))\n",
    "    ari_l1.append(metrics.adjusted_rand_score(np.array(txt_df['labels_1']),\n",
    "                                                 np.array(clus1.labels_)\n",
    "                                                 ))\n",
    "plt.plot(np.arange(5,105,5),ari_l)\n",
    "plt.plot(np.arange(5,105,5),ari_l1)\n",
    "plt.show()    "
   ]
  },
  {
   "cell_type": "markdown",
   "id": "9ac56681-d586-4a75-83ed-48e3d2e07183",
   "metadata": {},
   "source": [
    "### n-gram"
   ]
  },
  {
   "cell_type": "code",
   "execution_count": 34,
   "id": "079fb087-b1a8-413a-9e3f-d1000790c0e0",
   "metadata": {
    "execution": {
     "iopub.execute_input": "2022-12-20T15:40:23.206790Z",
     "iopub.status.busy": "2022-12-20T15:40:23.206790Z",
     "iopub.status.idle": "2022-12-20T15:40:23.221789Z",
     "shell.execute_reply": "2022-12-20T15:40:23.221789Z",
     "shell.execute_reply.started": "2022-12-20T15:40:23.206790Z"
    },
    "tags": []
   },
   "outputs": [],
   "source": [
    "from gensim.models import phrases"
   ]
  },
  {
   "cell_type": "code",
   "execution_count": 35,
   "id": "6a263c0e-02db-4929-98a5-cd3f141704e8",
   "metadata": {
    "execution": {
     "iopub.execute_input": "2022-12-20T15:40:23.222788Z",
     "iopub.status.busy": "2022-12-20T15:40:23.222788Z",
     "iopub.status.idle": "2022-12-20T15:40:23.990789Z",
     "shell.execute_reply": "2022-12-20T15:40:23.990789Z",
     "shell.execute_reply.started": "2022-12-20T15:40:23.222788Z"
    },
    "tags": []
   },
   "outputs": [
    {
     "data": {
      "text/plain": [
       "(176721, 255135)"
      ]
     },
     "execution_count": 35,
     "metadata": {},
     "output_type": "execute_result"
    }
   ],
   "source": [
    "bigrams = phrases.Phrases(txt_df['description_token'], threshold=10.0)\n",
    "model2 = Word2Vec(bigrams[txt_df['description_token']], vector_size = 300)\n",
    "model2.train(txt_df['description_token'], total_examples=model2.corpus_count, epochs=model2.epochs)"
   ]
  },
  {
   "cell_type": "code",
   "execution_count": 36,
   "id": "18b7ad40-af35-40a0-ade7-0f8cdb19b036",
   "metadata": {
    "execution": {
     "iopub.execute_input": "2022-12-20T15:40:23.991789Z",
     "iopub.status.busy": "2022-12-20T15:40:23.991789Z",
     "iopub.status.idle": "2022-12-20T15:40:24.006788Z",
     "shell.execute_reply": "2022-12-20T15:40:24.006788Z",
     "shell.execute_reply.started": "2022-12-20T15:40:23.991789Z"
    },
    "tags": []
   },
   "outputs": [
    {
     "data": {
      "text/plain": [
       "[('vgncrgl', 0.9980047941207886),\n",
       " ('pro', 0.9979106783866882),\n",
       " ('adaptor', 0.9978249073028564),\n",
       " ('order', 0.997695803642273),\n",
       " ('based', 0.9975482225418091),\n",
       " ('dvtx', 0.9971250295639038),\n",
       " ('vgncrer', 0.9967223405838013),\n",
       " ('right', 0.9964888691902161),\n",
       " ('check', 0.9964286088943481),\n",
       " ('vacuum', 0.9963525533676147)]"
      ]
     },
     "execution_count": 36,
     "metadata": {},
     "output_type": "execute_result"
    }
   ],
   "source": [
    "vector2 = model2.wv\n",
    "vector2.most_similar('computer')"
   ]
  },
  {
   "cell_type": "code",
   "execution_count": 37,
   "id": "5bdda3b8-e892-4198-be9b-544f79bb9ab5",
   "metadata": {
    "execution": {
     "iopub.execute_input": "2022-12-20T15:40:24.007790Z",
     "iopub.status.busy": "2022-12-20T15:40:24.007790Z",
     "iopub.status.idle": "2022-12-20T15:40:25.708787Z",
     "shell.execute_reply": "2022-12-20T15:40:25.708787Z",
     "shell.execute_reply.started": "2022-12-20T15:40:24.007790Z"
    },
    "tags": []
   },
   "outputs": [
    {
     "name": "stdout",
     "output_type": "stream",
     "text": [
      "The ari scores are 0.24402648622001497 for categorie 0 and 0.1826995132921319 for categorie 1.\n"
     ]
    }
   ],
   "source": [
    "temp = txt_df['description_token'].apply(lambda x: get_mean(vector2, x))\n",
    "temp = pd.DataFrame(temp.tolist())\n",
    "clus.fit(temp)\n",
    "clus1.fit(temp)\n",
    "ari = metrics.adjusted_rand_score(np.array(txt_df['labels_0']),\n",
    "                                                 np.array(clus.labels_)\n",
    "                                                 )\n",
    "ari1 = metrics.adjusted_rand_score(np.array(txt_df['labels_1']),\n",
    "                                                 np.array(clus1.labels_)\n",
    "                                                 )\n",
    "print('The ari scores are {} for categorie 0 and {} for categorie 1.'.format(ari, ari1))"
   ]
  },
  {
   "cell_type": "code",
   "execution_count": 39,
   "id": "c7b6390a-4958-4634-b477-28a30d0f9e69",
   "metadata": {
    "execution": {
     "iopub.execute_input": "2022-12-20T15:56:29.247514Z",
     "iopub.status.busy": "2022-12-20T15:56:29.247514Z",
     "iopub.status.idle": "2022-12-20T15:56:30.298512Z",
     "shell.execute_reply": "2022-12-20T15:56:30.298512Z",
     "shell.execute_reply.started": "2022-12-20T15:56:29.247514Z"
    },
    "tags": []
   },
   "outputs": [
    {
     "data": {
      "text/plain": [
       "0.7765700483091788"
      ]
     },
     "execution_count": 39,
     "metadata": {},
     "output_type": "execute_result"
    }
   ],
   "source": [
    "# test with a classifier \n",
    "import xgboost as xgb\n",
    "from sklearn.model_selection import train_test_split, GridSearchCV\n",
    "\n",
    "xgb_class = xgb.XGBClassifier()\n",
    "class_df = pd.DataFrame({'mean_wv': txt_df['description_token'].apply(lambda x: get_mean(vector2, x))})\n",
    "class_df = pd.DataFrame(class_df['mean_wv'].tolist())\n",
    "xtrain, xtest, ytrain, ytest = train_test_split(class_df, txt_df['labels_0'], test_size = 0.8, stratify = txt_df['labels_0'])\n",
    "\n",
    "xgb_class.fit(xtrain, ytrain)\n",
    "xgb_class.score(xtest, ytest)"
   ]
  },
  {
   "cell_type": "code",
   "execution_count": null,
   "id": "a4b7621c-bfd3-4b60-b7d8-afe36231c7d9",
   "metadata": {},
   "outputs": [],
   "source": []
  },
  {
   "cell_type": "code",
   "execution_count": 40,
   "id": "66372aa5-a21f-4eef-adb0-8ce07c999f4e",
   "metadata": {
    "execution": {
     "iopub.execute_input": "2022-12-20T15:56:32.014658Z",
     "iopub.status.busy": "2022-12-20T15:56:32.013666Z",
     "iopub.status.idle": "2022-12-20T15:57:33.180045Z",
     "shell.execute_reply": "2022-12-20T15:57:33.180045Z",
     "shell.execute_reply.started": "2022-12-20T15:56:32.013666Z"
    },
    "tags": []
   },
   "outputs": [
    {
     "data": {
      "image/png": "[encoded data removed]",
      "text/plain": [
       "<Figure size 432x288 with 1 Axes>"
      ]
     },
     "metadata": {
      "needs_background": "light"
     },
     "output_type": "display_data"
    }
   ],
   "source": [
    "ari_l = []\n",
    "ari_l1 = []\n",
    "for i in np.arange(5,105,5):\n",
    "    model2.train(txt_df['description_token'].tolist(), total_examples=model2.corpus_count, epochs=i)\n",
    "    vector2 = model2.wv\n",
    "    temp = txt_df['description_token'].apply(lambda x: get_mean(vector2, x))\n",
    "    temp = pd.DataFrame(temp.tolist())\n",
    "    clus.fit(temp)\n",
    "    clus1.fit(temp)\n",
    "    ari_l.append(metrics.adjusted_rand_score(np.array(txt_df['labels_0']),\n",
    "                                                 np.array(clus.labels_)\n",
    "                                                 ))\n",
    "    ari_l1.append(metrics.adjusted_rand_score(np.array(txt_df['labels_1']),\n",
    "                                                 np.array(clus1.labels_)\n",
    "                                                 ))\n",
    "plt.plot(np.arange(5,105,5),ari_l)\n",
    "plt.plot(np.arange(5,105,5),ari_l1)\n",
    "plt.show()   "
   ]
  },
  {
   "cell_type": "code",
   "execution_count": 41,
   "id": "516cf86b-aa0f-41da-a30f-8e47fecfdbfc",
   "metadata": {
    "execution": {
     "iopub.execute_input": "2022-12-20T15:59:47.414212Z",
     "iopub.status.busy": "2022-12-20T15:59:47.414212Z",
     "iopub.status.idle": "2022-12-20T16:01:49.523837Z",
     "shell.execute_reply": "2022-12-20T16:01:49.523837Z",
     "shell.execute_reply.started": "2022-12-20T15:59:47.414212Z"
    },
    "tags": []
   },
   "outputs": [
    {
     "data": {
      "image/png": "[encoded data removed]",
      "text/plain": [
       "<Figure size 432x288 with 1 Axes>"
      ]
     },
     "metadata": {
      "needs_background": "light"
     },
     "output_type": "display_data"
    }
   ],
   "source": [
    "# test with skipgram instead of cbow\n",
    "model3 = Word2Vec(vector_size = 300,sg =1)\n",
    "model3.build_vocab(txt_df['description_token'].tolist())\n",
    "ari_l = []\n",
    "ari_l1 = []\n",
    "for i in np.arange(5,105,5):\n",
    "    model3.train(txt_df['description_token'].tolist(), total_examples=model2.corpus_count, epochs=i)\n",
    "    vector3 = model2.wv\n",
    "    temp = txt_df['description_token'].apply(lambda x: get_mean(vector3, x))\n",
    "    temp = pd.DataFrame(temp.tolist())\n",
    "    clus.fit(temp)\n",
    "    clus1.fit(temp)\n",
    "    ari_l.append(metrics.adjusted_rand_score(np.array(txt_df['labels_0']),\n",
    "                                                 np.array(clus.labels_)\n",
    "                                                 ))\n",
    "    ari_l1.append(metrics.adjusted_rand_score(np.array(txt_df['labels_1']),\n",
    "                                                 np.array(clus1.labels_)\n",
    "                                                 ))\n",
    "plt.plot(np.arange(5,105,5),ari_l)\n",
    "plt.plot(np.arange(5,105,5),ari_l1)\n",
    "plt.show()"
   ]
  },
  {
   "cell_type": "code",
   "execution_count": 42,
   "id": "a37c421b-a2a4-459a-b53d-152ee3f6d7d5",
   "metadata": {
    "execution": {
     "iopub.execute_input": "2022-12-20T16:01:49.524839Z",
     "iopub.status.busy": "2022-12-20T16:01:49.524839Z",
     "iopub.status.idle": "2022-12-20T16:01:49.538839Z",
     "shell.execute_reply": "2022-12-20T16:01:49.538839Z",
     "shell.execute_reply.started": "2022-12-20T16:01:49.524839Z"
    },
    "tags": []
   },
   "outputs": [],
   "source": [
    "from gensim.models.doc2vec import Doc2Vec, TaggedDocument"
   ]
  },
  {
   "cell_type": "code",
   "execution_count": 43,
   "id": "9bfa74d9-497e-4937-b285-5eb0ccc8eb4d",
   "metadata": {
    "execution": {
     "iopub.execute_input": "2022-12-20T16:01:49.539840Z",
     "iopub.status.busy": "2022-12-20T16:01:49.539840Z",
     "iopub.status.idle": "2022-12-20T16:04:36.789839Z",
     "shell.execute_reply": "2022-12-20T16:04:36.789839Z",
     "shell.execute_reply.started": "2022-12-20T16:01:49.539840Z"
    },
    "tags": []
   },
   "outputs": [
    {
     "data": {
      "image/png": "[encoded data removed]",
      "text/plain": [
       "<Figure size 432x288 with 1 Axes>"
      ]
     },
     "metadata": {
      "needs_background": "light"
     },
     "output_type": "display_data"
    }
   ],
   "source": [
    "\n",
    "tagged_txt = [TaggedDocument(d, [i]) for i, d in enumerate(txt_df['description_token'].tolist())]\n",
    "ari_l = []\n",
    "ari_l1 = []\n",
    "for i in np.arange(5,105,5):\n",
    "    model4 = Doc2Vec(tagged_txt, epochs = i, vector_size = 300)\n",
    "    temp = txt_df['description_token'].apply(lambda x: model4.infer_vector(x))\n",
    "    temp = pd.DataFrame(temp.tolist())\n",
    "    clus.fit(temp)\n",
    "    clus1.fit(temp)\n",
    "    ari_l.append(metrics.adjusted_rand_score(np.array(txt_df['labels_0']),\n",
    "                                                 np.array(clus.labels_)\n",
    "                                                 ))\n",
    "    ari_l1.append(metrics.adjusted_rand_score(np.array(txt_df['labels_1']),\n",
    "                                                 np.array(clus1.labels_)\n",
    "                                                 ))\n",
    "plt.plot(np.arange(5,105,5),ari_l)\n",
    "plt.plot(np.arange(5,105,5),ari_l1)\n",
    "plt.show()   "
   ]
  },
  {
   "cell_type": "markdown",
   "id": "4fbc0afa-d606-49a2-974a-1f98fc46d8fa",
   "metadata": {},
   "source": [
    "## BERT"
   ]
  },
  {
   "cell_type": "code",
   "execution_count": 44,
   "id": "37bb1f64-2fd2-48b0-a142-1d3062464c50",
   "metadata": {
    "execution": {
     "iopub.execute_input": "2022-12-20T16:04:36.791840Z",
     "iopub.status.busy": "2022-12-20T16:04:36.790840Z",
     "iopub.status.idle": "2022-12-20T16:04:50.521069Z",
     "shell.execute_reply": "2022-12-20T16:04:50.521069Z",
     "shell.execute_reply.started": "2022-12-20T16:04:36.791840Z"
    },
    "tags": []
   },
   "outputs": [],
   "source": [
    "import tensorflow as tf\n",
    "import tensorflow_hub as hub\n",
    "import tensorflow_text as text"
   ]
  },
  {
   "cell_type": "code",
   "execution_count": 45,
   "id": "23be3670-70ca-4d37-95e7-88d1863177db",
   "metadata": {
    "execution": {
     "iopub.execute_input": "2022-12-20T16:04:50.521979Z",
     "iopub.status.busy": "2022-12-20T16:04:50.521979Z",
     "iopub.status.idle": "2022-12-20T16:05:27.957493Z",
     "shell.execute_reply": "2022-12-20T16:05:27.957493Z",
     "shell.execute_reply.started": "2022-12-20T16:04:50.521979Z"
    },
    "tags": []
   },
   "outputs": [
    {
     "name": "stdout",
     "output_type": "stream",
     "text": [
      "WARNING:tensorflow:Please fix your imports. Module tensorflow.python.training.tracking.data_structures has been moved to tensorflow.python.trackable.data_structures. The old module will be deleted in version 2.11.\n"
     ]
    }
   ],
   "source": [
    "bert_preprocess = hub.KerasLayer(\"https://tfhub.dev/tensorflow/bert_en_uncased_preprocess/3\")\n",
    "bert_encoder = hub.KerasLayer(\"https://tfhub.dev/tensorflow/bert_en_uncased_L-12_H-768_A-12/4\")"
   ]
  },
  {
   "cell_type": "code",
   "execution_count": 46,
   "id": "8034056c-e93e-4197-8862-2f1bad39c678",
   "metadata": {
    "execution": {
     "iopub.execute_input": "2022-12-20T16:05:27.959493Z",
     "iopub.status.busy": "2022-12-20T16:05:27.958494Z",
     "iopub.status.idle": "2022-12-20T16:05:28.619493Z",
     "shell.execute_reply": "2022-12-20T16:05:28.619493Z",
     "shell.execute_reply.started": "2022-12-20T16:05:27.959493Z"
    },
    "tags": []
   },
   "outputs": [],
   "source": [
    "text_input = tf.keras.layers.Input(shape=(), dtype=tf.string, name='text')\n",
    "preprocessed_text = bert_preprocess(text_input)\n",
    "outputs = bert_encoder(preprocessed_text)"
   ]
  },
  {
   "cell_type": "code",
   "execution_count": 47,
   "id": "decf457e-5d1e-4f47-85a0-3056bc6fc47e",
   "metadata": {
    "execution": {
     "iopub.execute_input": "2022-12-20T16:05:28.620494Z",
     "iopub.status.busy": "2022-12-20T16:05:28.620494Z",
     "iopub.status.idle": "2022-12-20T16:05:35.966361Z",
     "shell.execute_reply": "2022-12-20T16:05:35.966361Z",
     "shell.execute_reply.started": "2022-12-20T16:05:28.620494Z"
    },
    "tags": []
   },
   "outputs": [
    {
     "name": "stderr",
     "output_type": "stream",
     "text": [
      "C:\\Users\\Nico\\AppData\\Roaming\\Python\\Python39\\site-packages\\transformers\\generation_tf_utils.py:24: FutureWarning: Importing `TFGenerationMixin` from `src/transformers/generation_tf_utils.py` is deprecated and will be removed in Transformers v5. Import as `from transformers import TFGenerationMixin` instead.\n",
      "  warnings.warn(\n"
     ]
    }
   ],
   "source": [
    "from tensorflow.keras.preprocessing.text import Tokenizer\n",
    "from tensorflow.keras.preprocessing.sequence import pad_sequences\n",
    "from tensorflow.keras import metrics as kmetrics\n",
    "from tensorflow.keras.layers import *\n",
    "from tensorflow.keras.models import Model\n",
    "import transformers \n",
    "from transformers import *"
   ]
  },
  {
   "cell_type": "code",
   "execution_count": 48,
   "id": "818118fa-3266-4f3d-953a-24650e74834b",
   "metadata": {
    "execution": {
     "iopub.execute_input": "2022-12-20T16:05:35.967289Z",
     "iopub.status.busy": "2022-12-20T16:05:35.967289Z",
     "iopub.status.idle": "2022-12-20T16:05:35.982277Z",
     "shell.execute_reply": "2022-12-20T16:05:35.982277Z",
     "shell.execute_reply.started": "2022-12-20T16:05:35.967289Z"
    },
    "tags": []
   },
   "outputs": [],
   "source": [
    "# Hugging Face\n",
    "def bert_inp_fct(sentences, bert_tokenizer, max_length) :\n",
    "    input_ids=[]\n",
    "    token_type_ids = []\n",
    "    attention_mask=[]\n",
    "    bert_inp_tot = []\n",
    "\n",
    "    for sent in sentences:\n",
    "        bert_inp = bert_tokenizer.encode_plus(sent,\n",
    "                                              add_special_tokens = True,\n",
    "                                              max_length = max_length,\n",
    "                                              padding='max_length',\n",
    "                                              return_attention_mask = True, \n",
    "                                              return_token_type_ids=True,\n",
    "                                              truncation=True,\n",
    "                                              return_tensors=\"tf\")\n",
    "    \n",
    "        input_ids.append(bert_inp['input_ids'][0])\n",
    "        token_type_ids.append(bert_inp['token_type_ids'][0])\n",
    "        attention_mask.append(bert_inp['attention_mask'][0])\n",
    "        bert_inp_tot.append((bert_inp['input_ids'][0], \n",
    "                             bert_inp['token_type_ids'][0], \n",
    "                             bert_inp['attention_mask'][0]))\n",
    "\n",
    "    input_ids = np.asarray(input_ids)\n",
    "    token_type_ids = np.asarray(token_type_ids)\n",
    "    attention_mask = np.array(attention_mask)\n",
    "    \n",
    "    return input_ids, token_type_ids, attention_mask, bert_inp_tot\n",
    "    \n",
    "\n",
    "# Fonction de création des features\n",
    "def feature_BERT_fct(model, model_type, sentences, max_length, b_size, mode='HF') :\n",
    "    batch_size = b_size\n",
    "    batch_size_pred = b_size\n",
    "    bert_tokenizer = AutoTokenizer.from_pretrained(model_type)\n",
    "\n",
    "    for step in range(len(sentences)//batch_size) :\n",
    "        idx = step*batch_size\n",
    "        input_ids, token_type_ids, attention_mask, bert_inp_tot = bert_inp_fct(sentences[idx:idx+batch_size], \n",
    "                                                                      bert_tokenizer, max_length)\n",
    "        \n",
    "        if mode=='HF' :    # Bert HuggingFace\n",
    "            outputs = model.predict([input_ids, attention_mask, token_type_ids], batch_size=batch_size_pred)\n",
    "            last_hidden_states = outputs.last_hidden_state\n",
    "\n",
    "        if mode=='TFhub' : # Bert Tensorflow Hub\n",
    "            text_preprocessed = {\"input_word_ids\" : input_ids, \n",
    "                                 \"input_mask\" : attention_mask, \n",
    "                                 \"input_type_ids\" : token_type_ids}\n",
    "            outputs = model(text_preprocessed)\n",
    "            last_hidden_states = outputs['sequence_output']\n",
    "             \n",
    "        if step ==0 :\n",
    "            last_hidden_states_tot = last_hidden_states\n",
    "            last_hidden_states_tot_0 = last_hidden_states\n",
    "        else :\n",
    "            last_hidden_states_tot = np.concatenate((last_hidden_states_tot,last_hidden_states))\n",
    "    \n",
    "    features_bert = np.array(last_hidden_states_tot).mean(axis=1)\n",
    "    \n",
    "     \n",
    "    return features_bert, last_hidden_states_tot"
   ]
  },
  {
   "cell_type": "code",
   "execution_count": 49,
   "id": "cd159d80-aa3e-41e6-9728-450844e28b60",
   "metadata": {
    "execution": {
     "iopub.execute_input": "2022-12-20T16:05:35.984276Z",
     "iopub.status.busy": "2022-12-20T16:05:35.984276Z",
     "iopub.status.idle": "2022-12-20T16:05:39.923571Z",
     "shell.execute_reply": "2022-12-20T16:05:39.923571Z",
     "shell.execute_reply.started": "2022-12-20T16:05:35.984276Z"
    },
    "tags": []
   },
   "outputs": [
    {
     "name": "stderr",
     "output_type": "stream",
     "text": [
      "loading configuration file config.json from cache at C:\\Users\\Nico/.cache\\huggingface\\hub\\models--bert-base-uncased\\snapshots\\0a6aa9128b6194f4f3c4db429b6cb4891cdb421b\\config.json\n",
      "Model config BertConfig {\n",
      "  \"_name_or_path\": \"bert-base-uncased\",\n",
      "  \"architectures\": [\n",
      "    \"BertForMaskedLM\"\n",
      "  ],\n",
      "  \"attention_probs_dropout_prob\": 0.1,\n",
      "  \"classifier_dropout\": null,\n",
      "  \"gradient_checkpointing\": false,\n",
      "  \"hidden_act\": \"gelu\",\n",
      "  \"hidden_dropout_prob\": 0.1,\n",
      "  \"hidden_size\": 768,\n",
      "  \"initializer_range\": 0.02,\n",
      "  \"intermediate_size\": 3072,\n",
      "  \"layer_norm_eps\": 1e-12,\n",
      "  \"max_position_embeddings\": 512,\n",
      "  \"model_type\": \"bert\",\n",
      "  \"num_attention_heads\": 12,\n",
      "  \"num_hidden_layers\": 12,\n",
      "  \"pad_token_id\": 0,\n",
      "  \"position_embedding_type\": \"absolute\",\n",
      "  \"transformers_version\": \"4.25.1\",\n",
      "  \"type_vocab_size\": 2,\n",
      "  \"use_cache\": true,\n",
      "  \"vocab_size\": 30522\n",
      "}\n",
      "\n",
      "loading weights file tf_model.h5 from cache at C:\\Users\\Nico/.cache\\huggingface\\hub\\models--bert-base-uncased\\snapshots\\0a6aa9128b6194f4f3c4db429b6cb4891cdb421b\\tf_model.h5\n",
      "Some layers from the model checkpoint at bert-base-uncased were not used when initializing TFBertModel: ['nsp___cls', 'mlm___cls']\n",
      "- This IS expected if you are initializing TFBertModel from the checkpoint of a model trained on another task or with another architecture (e.g. initializing a BertForSequenceClassification model from a BertForPreTraining model).\n",
      "- This IS NOT expected if you are initializing TFBertModel from the checkpoint of a model that you expect to be exactly identical (initializing a BertForSequenceClassification model from a BertForSequenceClassification model).\n",
      "All the layers of TFBertModel were initialized from the model checkpoint at bert-base-uncased.\n",
      "If your task is similar to the task the model of the checkpoint was trained on, you can already use TFBertModel for predictions without further training.\n"
     ]
    }
   ],
   "source": [
    "max_length = 64\n",
    "batch_size = 10\n",
    "model_type = 'bert-base-uncased'\n",
    "model = TFAutoModel.from_pretrained(model_type)\n",
    "sentences = txt_df['description_clean'].tolist()"
   ]
  },
  {
   "cell_type": "code",
   "execution_count": 50,
   "id": "ee09e677-a687-41fb-af1c-2f47ded8e6c6",
   "metadata": {
    "execution": {
     "iopub.execute_input": "2022-12-20T16:05:39.925571Z",
     "iopub.status.busy": "2022-12-20T16:05:39.925571Z",
     "iopub.status.idle": "2022-12-20T16:06:45.380039Z",
     "shell.execute_reply": "2022-12-20T16:06:45.380039Z",
     "shell.execute_reply.started": "2022-12-20T16:05:39.925571Z"
    },
    "tags": []
   },
   "outputs": [
    {
     "name": "stderr",
     "output_type": "stream",
     "text": [
      "loading configuration file config.json from cache at C:\\Users\\Nico/.cache\\huggingface\\hub\\models--bert-base-uncased\\snapshots\\0a6aa9128b6194f4f3c4db429b6cb4891cdb421b\\config.json\n",
      "Model config BertConfig {\n",
      "  \"_name_or_path\": \"bert-base-uncased\",\n",
      "  \"architectures\": [\n",
      "    \"BertForMaskedLM\"\n",
      "  ],\n",
      "  \"attention_probs_dropout_prob\": 0.1,\n",
      "  \"classifier_dropout\": null,\n",
      "  \"gradient_checkpointing\": false,\n",
      "  \"hidden_act\": \"gelu\",\n",
      "  \"hidden_dropout_prob\": 0.1,\n",
      "  \"hidden_size\": 768,\n",
      "  \"initializer_range\": 0.02,\n",
      "  \"intermediate_size\": 3072,\n",
      "  \"layer_norm_eps\": 1e-12,\n",
      "  \"max_position_embeddings\": 512,\n",
      "  \"model_type\": \"bert\",\n",
      "  \"num_attention_heads\": 12,\n",
      "  \"num_hidden_layers\": 12,\n",
      "  \"pad_token_id\": 0,\n",
      "  \"position_embedding_type\": \"absolute\",\n",
      "  \"transformers_version\": \"4.25.1\",\n",
      "  \"type_vocab_size\": 2,\n",
      "  \"use_cache\": true,\n",
      "  \"vocab_size\": 30522\n",
      "}\n",
      "\n",
      "loading file vocab.txt from cache at C:\\Users\\Nico/.cache\\huggingface\\hub\\models--bert-base-uncased\\snapshots\\0a6aa9128b6194f4f3c4db429b6cb4891cdb421b\\vocab.txt\n",
      "loading file tokenizer.json from cache at C:\\Users\\Nico/.cache\\huggingface\\hub\\models--bert-base-uncased\\snapshots\\0a6aa9128b6194f4f3c4db429b6cb4891cdb421b\\tokenizer.json\n",
      "loading file added_tokens.json from cache at None\n",
      "loading file special_tokens_map.json from cache at None\n",
      "loading file tokenizer_config.json from cache at C:\\Users\\Nico/.cache\\huggingface\\hub\\models--bert-base-uncased\\snapshots\\0a6aa9128b6194f4f3c4db429b6cb4891cdb421b\\tokenizer_config.json\n",
      "loading configuration file config.json from cache at C:\\Users\\Nico/.cache\\huggingface\\hub\\models--bert-base-uncased\\snapshots\\0a6aa9128b6194f4f3c4db429b6cb4891cdb421b\\config.json\n",
      "Model config BertConfig {\n",
      "  \"_name_or_path\": \"bert-base-uncased\",\n",
      "  \"architectures\": [\n",
      "    \"BertForMaskedLM\"\n",
      "  ],\n",
      "  \"attention_probs_dropout_prob\": 0.1,\n",
      "  \"classifier_dropout\": null,\n",
      "  \"gradient_checkpointing\": false,\n",
      "  \"hidden_act\": \"gelu\",\n",
      "  \"hidden_dropout_prob\": 0.1,\n",
      "  \"hidden_size\": 768,\n",
      "  \"initializer_range\": 0.02,\n",
      "  \"intermediate_size\": 3072,\n",
      "  \"layer_norm_eps\": 1e-12,\n",
      "  \"max_position_embeddings\": 512,\n",
      "  \"model_type\": \"bert\",\n",
      "  \"num_attention_heads\": 12,\n",
      "  \"num_hidden_layers\": 12,\n",
      "  \"pad_token_id\": 0,\n",
      "  \"position_embedding_type\": \"absolute\",\n",
      "  \"transformers_version\": \"4.25.1\",\n",
      "  \"type_vocab_size\": 2,\n",
      "  \"use_cache\": true,\n",
      "  \"vocab_size\": 30522\n",
      "}\n",
      "\n"
     ]
    },
    {
     "name": "stdout",
     "output_type": "stream",
     "text": [
      "1/1 [==============================] - 5s 5s/step\n",
      "1/1 [==============================] - 0s 474ms/step\n",
      "1/1 [==============================] - 1s 525ms/step\n",
      "1/1 [==============================] - 1s 562ms/step\n",
      "1/1 [==============================] - 1s 542ms/step\n",
      "1/1 [==============================] - 1s 519ms/step\n",
      "1/1 [==============================] - 0s 488ms/step\n",
      "1/1 [==============================] - 1s 505ms/step\n",
      "1/1 [==============================] - 0s 493ms/step\n",
      "1/1 [==============================] - 0s 495ms/step\n",
      "1/1 [==============================] - 0s 497ms/step\n",
      "1/1 [==============================] - 0s 482ms/step\n",
      "1/1 [==============================] - 1s 504ms/step\n",
      "1/1 [==============================] - 0s 473ms/step\n",
      "1/1 [==============================] - 1s 500ms/step\n",
      "1/1 [==============================] - 0s 473ms/step\n",
      "1/1 [==============================] - 0s 494ms/step\n",
      "1/1 [==============================] - 0s 497ms/step\n",
      "1/1 [==============================] - 1s 513ms/step\n",
      "1/1 [==============================] - 0s 491ms/step\n",
      "1/1 [==============================] - 0s 476ms/step\n",
      "1/1 [==============================] - 0s 489ms/step\n",
      "1/1 [==============================] - 0s 478ms/step\n",
      "1/1 [==============================] - 0s 493ms/step\n",
      "1/1 [==============================] - 0s 473ms/step\n",
      "1/1 [==============================] - 1s 507ms/step\n",
      "1/1 [==============================] - 1s 528ms/step\n",
      "1/1 [==============================] - 0s 499ms/step\n",
      "1/1 [==============================] - 1s 543ms/step\n",
      "1/1 [==============================] - 0s 492ms/step\n",
      "1/1 [==============================] - 0s 492ms/step\n",
      "1/1 [==============================] - 0s 481ms/step\n",
      "1/1 [==============================] - 0s 494ms/step\n",
      "1/1 [==============================] - 0s 489ms/step\n",
      "1/1 [==============================] - 0s 483ms/step\n",
      "1/1 [==============================] - 1s 510ms/step\n",
      "1/1 [==============================] - 0s 485ms/step\n",
      "1/1 [==============================] - 0s 494ms/step\n",
      "1/1 [==============================] - 0s 493ms/step\n",
      "1/1 [==============================] - 0s 492ms/step\n",
      "1/1 [==============================] - 0s 495ms/step\n",
      "1/1 [==============================] - 0s 474ms/step\n",
      "1/1 [==============================] - 0s 488ms/step\n",
      "1/1 [==============================] - 0s 477ms/step\n",
      "1/1 [==============================] - 0s 496ms/step\n",
      "1/1 [==============================] - 0s 482ms/step\n",
      "1/1 [==============================] - 0s 498ms/step\n",
      "1/1 [==============================] - 0s 495ms/step\n",
      "1/1 [==============================] - 0s 477ms/step\n",
      "1/1 [==============================] - 1s 501ms/step\n",
      "1/1 [==============================] - 0s 476ms/step\n",
      "1/1 [==============================] - 0s 494ms/step\n",
      "1/1 [==============================] - 0s 486ms/step\n",
      "1/1 [==============================] - 1s 520ms/step\n",
      "1/1 [==============================] - 1s 516ms/step\n",
      "1/1 [==============================] - 1s 501ms/step\n",
      "1/1 [==============================] - 1s 540ms/step\n",
      "1/1 [==============================] - 0s 494ms/step\n",
      "1/1 [==============================] - 0s 479ms/step\n",
      "1/1 [==============================] - 0s 488ms/step\n",
      "1/1 [==============================] - 0s 469ms/step\n",
      "1/1 [==============================] - 0s 490ms/step\n",
      "1/1 [==============================] - 0s 479ms/step\n",
      "1/1 [==============================] - 1s 506ms/step\n",
      "1/1 [==============================] - 0s 480ms/step\n",
      "1/1 [==============================] - 0s 474ms/step\n",
      "1/1 [==============================] - 0s 488ms/step\n",
      "1/1 [==============================] - 0s 478ms/step\n",
      "1/1 [==============================] - 0s 496ms/step\n",
      "1/1 [==============================] - 0s 496ms/step\n",
      "1/1 [==============================] - 0s 490ms/step\n",
      "1/1 [==============================] - 0s 483ms/step\n",
      "1/1 [==============================] - 0s 480ms/step\n",
      "1/1 [==============================] - 0s 495ms/step\n",
      "1/1 [==============================] - 0s 480ms/step\n",
      "1/1 [==============================] - 0s 489ms/step\n",
      "1/1 [==============================] - 0s 487ms/step\n",
      "1/1 [==============================] - 0s 476ms/step\n",
      "1/1 [==============================] - 1s 507ms/step\n",
      "1/1 [==============================] - 0s 480ms/step\n",
      "1/1 [==============================] - 1s 509ms/step\n",
      "1/1 [==============================] - 1s 506ms/step\n",
      "1/1 [==============================] - 1s 508ms/step\n",
      "1/1 [==============================] - 1s 527ms/step\n",
      "1/1 [==============================] - 0s 493ms/step\n",
      "1/1 [==============================] - 0s 488ms/step\n",
      "1/1 [==============================] - 0s 490ms/step\n",
      "1/1 [==============================] - 0s 490ms/step\n",
      "1/1 [==============================] - 0s 494ms/step\n",
      "1/1 [==============================] - 0s 497ms/step\n",
      "1/1 [==============================] - 0s 482ms/step\n",
      "1/1 [==============================] - 0s 491ms/step\n",
      "1/1 [==============================] - 0s 490ms/step\n",
      "1/1 [==============================] - 0s 487ms/step\n",
      "1/1 [==============================] - 0s 482ms/step\n",
      "1/1 [==============================] - 0s 486ms/step\n",
      "1/1 [==============================] - 0s 484ms/step\n",
      "1/1 [==============================] - 0s 479ms/step\n",
      "1/1 [==============================] - 0s 488ms/step\n",
      "1/1 [==============================] - 0s 482ms/step\n",
      "1/1 [==============================] - 0s 489ms/step\n",
      "1/1 [==============================] - 0s 490ms/step\n",
      "1/1 [==============================] - 0s 486ms/step\n"
     ]
    }
   ],
   "source": [
    "# Création des features\n",
    "\n",
    "features_bert, last_hidden_states_tot = feature_BERT_fct(model, model_type, sentences, \n",
    "                                                         max_length, batch_size, mode='HF')"
   ]
  },
  {
   "cell_type": "code",
   "execution_count": 51,
   "id": "8306e55e-c6bc-41a5-93c6-1dcccd03ecd8",
   "metadata": {
    "execution": {
     "iopub.execute_input": "2022-12-20T16:06:45.381040Z",
     "iopub.status.busy": "2022-12-20T16:06:45.381040Z",
     "iopub.status.idle": "2022-12-20T16:06:48.068041Z",
     "shell.execute_reply": "2022-12-20T16:06:48.067039Z",
     "shell.execute_reply.started": "2022-12-20T16:06:45.381040Z"
    },
    "tags": []
   },
   "outputs": [
    {
     "ename": "ValueError",
     "evalue": "Found input variables with inconsistent numbers of samples: [1034, 1030]",
     "output_type": "error",
     "traceback": [
      "\u001b[1;31m---------------------------------------------------------------------------\u001b[0m",
      "\u001b[1;31mValueError\u001b[0m                                Traceback (most recent call last)",
      "Input \u001b[1;32mIn [51]\u001b[0m, in \u001b[0;36m<cell line: 3>\u001b[1;34m()\u001b[0m\n\u001b[0;32m      1\u001b[0m clus\u001b[38;5;241m.\u001b[39mfit(features_bert)\n\u001b[0;32m      2\u001b[0m clus1\u001b[38;5;241m.\u001b[39mfit(features_bert)\n\u001b[1;32m----> 3\u001b[0m ari \u001b[38;5;241m=\u001b[39m \u001b[43mmetrics\u001b[49m\u001b[38;5;241;43m.\u001b[39;49m\u001b[43madjusted_rand_score\u001b[49m\u001b[43m(\u001b[49m\u001b[43mnp\u001b[49m\u001b[38;5;241;43m.\u001b[39;49m\u001b[43marray\u001b[49m\u001b[43m(\u001b[49m\u001b[43mtxt_df\u001b[49m\u001b[43m[\u001b[49m\u001b[38;5;124;43m'\u001b[39;49m\u001b[38;5;124;43mlabels_0\u001b[39;49m\u001b[38;5;124;43m'\u001b[39;49m\u001b[43m]\u001b[49m\u001b[43m)\u001b[49m\u001b[43m,\u001b[49m\n\u001b[0;32m      4\u001b[0m \u001b[43m                                                 \u001b[49m\u001b[43mnp\u001b[49m\u001b[38;5;241;43m.\u001b[39;49m\u001b[43marray\u001b[49m\u001b[43m(\u001b[49m\u001b[43mclus\u001b[49m\u001b[38;5;241;43m.\u001b[39;49m\u001b[43mlabels_\u001b[49m\u001b[43m)\u001b[49m\n\u001b[0;32m      5\u001b[0m \u001b[43m                                                 \u001b[49m\u001b[43m)\u001b[49m\n\u001b[0;32m      6\u001b[0m ari1 \u001b[38;5;241m=\u001b[39m metrics\u001b[38;5;241m.\u001b[39madjusted_rand_score(np\u001b[38;5;241m.\u001b[39marray(txt_df[\u001b[38;5;124m'\u001b[39m\u001b[38;5;124mlabels_1\u001b[39m\u001b[38;5;124m'\u001b[39m]),\n\u001b[0;32m      7\u001b[0m                                                  np\u001b[38;5;241m.\u001b[39marray(clus1\u001b[38;5;241m.\u001b[39mlabels_)\n\u001b[0;32m      8\u001b[0m                                                  )\n\u001b[0;32m      9\u001b[0m \u001b[38;5;28mprint\u001b[39m(\u001b[38;5;124m'\u001b[39m\u001b[38;5;124mThe ari scores are \u001b[39m\u001b[38;5;132;01m{}\u001b[39;00m\u001b[38;5;124m for categorie 0 and \u001b[39m\u001b[38;5;132;01m{}\u001b[39;00m\u001b[38;5;124m for categorie 1.\u001b[39m\u001b[38;5;124m'\u001b[39m\u001b[38;5;241m.\u001b[39mformat(ari, ari1))\n",
      "File \u001b[1;32mE:\\Data_Science\\Anaconda\\lib\\site-packages\\sklearn\\metrics\\cluster\\_supervised.py:391\u001b[0m, in \u001b[0;36madjusted_rand_score\u001b[1;34m(labels_true, labels_pred)\u001b[0m\n\u001b[0;32m    310\u001b[0m \u001b[38;5;28;01mdef\u001b[39;00m \u001b[38;5;21madjusted_rand_score\u001b[39m(labels_true, labels_pred):\n\u001b[0;32m    311\u001b[0m     \u001b[38;5;124;03m\"\"\"Rand index adjusted for chance.\u001b[39;00m\n\u001b[0;32m    312\u001b[0m \n\u001b[0;32m    313\u001b[0m \u001b[38;5;124;03m    The Rand Index computes a similarity measure between two clusterings\u001b[39;00m\n\u001b[1;32m   (...)\u001b[0m\n\u001b[0;32m    389\u001b[0m \u001b[38;5;124;03m    adjusted_mutual_info_score : Adjusted Mutual Information.\u001b[39;00m\n\u001b[0;32m    390\u001b[0m \u001b[38;5;124;03m    \"\"\"\u001b[39;00m\n\u001b[1;32m--> 391\u001b[0m     (tn, fp), (fn, tp) \u001b[38;5;241m=\u001b[39m \u001b[43mpair_confusion_matrix\u001b[49m\u001b[43m(\u001b[49m\u001b[43mlabels_true\u001b[49m\u001b[43m,\u001b[49m\u001b[43m \u001b[49m\u001b[43mlabels_pred\u001b[49m\u001b[43m)\u001b[49m\n\u001b[0;32m    392\u001b[0m     \u001b[38;5;66;03m# convert to Python integer types, to avoid overflow or underflow\u001b[39;00m\n\u001b[0;32m    393\u001b[0m     tn, fp, fn, tp \u001b[38;5;241m=\u001b[39m \u001b[38;5;28mint\u001b[39m(tn), \u001b[38;5;28mint\u001b[39m(fp), \u001b[38;5;28mint\u001b[39m(fn), \u001b[38;5;28mint\u001b[39m(tp)\n",
      "File \u001b[1;32mE:\\Data_Science\\Anaconda\\lib\\site-packages\\sklearn\\metrics\\cluster\\_supervised.py:222\u001b[0m, in \u001b[0;36mpair_confusion_matrix\u001b[1;34m(labels_true, labels_pred)\u001b[0m\n\u001b[0;32m    162\u001b[0m \u001b[38;5;28;01mdef\u001b[39;00m \u001b[38;5;21mpair_confusion_matrix\u001b[39m(labels_true, labels_pred):\n\u001b[0;32m    163\u001b[0m     \u001b[38;5;124;03m\"\"\"Pair confusion matrix arising from two clusterings.\u001b[39;00m\n\u001b[0;32m    164\u001b[0m \n\u001b[0;32m    165\u001b[0m \u001b[38;5;124;03m    The pair confusion matrix :math:`C` computes a 2 by 2 similarity matrix\u001b[39;00m\n\u001b[1;32m   (...)\u001b[0m\n\u001b[0;32m    220\u001b[0m \u001b[38;5;124;03m      https://link.springer.com/article/10.1007%2FBF01908075\u001b[39;00m\n\u001b[0;32m    221\u001b[0m \u001b[38;5;124;03m    \"\"\"\u001b[39;00m\n\u001b[1;32m--> 222\u001b[0m     labels_true, labels_pred \u001b[38;5;241m=\u001b[39m \u001b[43mcheck_clusterings\u001b[49m\u001b[43m(\u001b[49m\u001b[43mlabels_true\u001b[49m\u001b[43m,\u001b[49m\u001b[43m \u001b[49m\u001b[43mlabels_pred\u001b[49m\u001b[43m)\u001b[49m\n\u001b[0;32m    223\u001b[0m     n_samples \u001b[38;5;241m=\u001b[39m np\u001b[38;5;241m.\u001b[39mint64(labels_true\u001b[38;5;241m.\u001b[39mshape[\u001b[38;5;241m0\u001b[39m])\n\u001b[0;32m    225\u001b[0m     \u001b[38;5;66;03m# Computation using the contingency data\u001b[39;00m\n",
      "File \u001b[1;32mE:\\Data_Science\\Anaconda\\lib\\site-packages\\sklearn\\metrics\\cluster\\_supervised.py:72\u001b[0m, in \u001b[0;36mcheck_clusterings\u001b[1;34m(labels_true, labels_pred)\u001b[0m\n\u001b[0;32m     70\u001b[0m \u001b[38;5;28;01mif\u001b[39;00m labels_pred\u001b[38;5;241m.\u001b[39mndim \u001b[38;5;241m!=\u001b[39m \u001b[38;5;241m1\u001b[39m:\n\u001b[0;32m     71\u001b[0m     \u001b[38;5;28;01mraise\u001b[39;00m \u001b[38;5;167;01mValueError\u001b[39;00m(\u001b[38;5;124m\"\u001b[39m\u001b[38;5;124mlabels_pred must be 1D: shape is \u001b[39m\u001b[38;5;132;01m%r\u001b[39;00m\u001b[38;5;124m\"\u001b[39m \u001b[38;5;241m%\u001b[39m (labels_pred\u001b[38;5;241m.\u001b[39mshape,))\n\u001b[1;32m---> 72\u001b[0m \u001b[43mcheck_consistent_length\u001b[49m\u001b[43m(\u001b[49m\u001b[43mlabels_true\u001b[49m\u001b[43m,\u001b[49m\u001b[43m \u001b[49m\u001b[43mlabels_pred\u001b[49m\u001b[43m)\u001b[49m\n\u001b[0;32m     74\u001b[0m \u001b[38;5;28;01mreturn\u001b[39;00m labels_true, labels_pred\n",
      "File \u001b[1;32mE:\\Data_Science\\Anaconda\\lib\\site-packages\\sklearn\\utils\\validation.py:332\u001b[0m, in \u001b[0;36mcheck_consistent_length\u001b[1;34m(*arrays)\u001b[0m\n\u001b[0;32m    330\u001b[0m uniques \u001b[38;5;241m=\u001b[39m np\u001b[38;5;241m.\u001b[39munique(lengths)\n\u001b[0;32m    331\u001b[0m \u001b[38;5;28;01mif\u001b[39;00m \u001b[38;5;28mlen\u001b[39m(uniques) \u001b[38;5;241m>\u001b[39m \u001b[38;5;241m1\u001b[39m:\n\u001b[1;32m--> 332\u001b[0m     \u001b[38;5;28;01mraise\u001b[39;00m \u001b[38;5;167;01mValueError\u001b[39;00m(\n\u001b[0;32m    333\u001b[0m         \u001b[38;5;124m\"\u001b[39m\u001b[38;5;124mFound input variables with inconsistent numbers of samples: \u001b[39m\u001b[38;5;132;01m%r\u001b[39;00m\u001b[38;5;124m\"\u001b[39m\n\u001b[0;32m    334\u001b[0m         \u001b[38;5;241m%\u001b[39m [\u001b[38;5;28mint\u001b[39m(l) \u001b[38;5;28;01mfor\u001b[39;00m l \u001b[38;5;129;01min\u001b[39;00m lengths]\n\u001b[0;32m    335\u001b[0m     )\n",
      "\u001b[1;31mValueError\u001b[0m: Found input variables with inconsistent numbers of samples: [1034, 1030]"
     ]
    }
   ],
   "source": [
    "clus.fit(features_bert)\n",
    "clus1.fit(features_bert)\n",
    "ari = metrics.adjusted_rand_score(np.array(txt_df['labels_0']),\n",
    "                                                 np.array(clus.labels_)\n",
    "                                                 )\n",
    "ari1 = metrics.adjusted_rand_score(np.array(txt_df['labels_1']),\n",
    "                                                 np.array(clus1.labels_)\n",
    "                                                 )\n",
    "print('The ari scores are {} for categorie 0 and {} for categorie 1.'.format(ari, ari1))"
   ]
  },
  {
   "cell_type": "code",
   "execution_count": 52,
   "id": "07633a77-6bf9-4c4c-b558-da44e8dd4fcf",
   "metadata": {
    "execution": {
     "iopub.execute_input": "2022-12-20T16:34:23.743318Z",
     "iopub.status.busy": "2022-12-20T16:34:23.742311Z",
     "iopub.status.idle": "2022-12-20T16:34:53.537639Z",
     "shell.execute_reply": "2022-12-20T16:34:53.537639Z",
     "shell.execute_reply.started": "2022-12-20T16:34:23.742311Z"
    },
    "tags": []
   },
   "outputs": [],
   "source": [
    "model_url = 'https://tfhub.dev/tensorflow/bert_en_uncased_L-12_H-768_A-12/4'\n",
    "bert_layer = hub.KerasLayer(model_url, trainable=True)"
   ]
  },
  {
   "cell_type": "code",
   "execution_count": 53,
   "id": "e7f7f1bd-1e91-44fc-9106-9d23cb90a304",
   "metadata": {
    "execution": {
     "iopub.execute_input": "2022-12-20T16:34:53.539639Z",
     "iopub.status.busy": "2022-12-20T16:34:53.539639Z",
     "iopub.status.idle": "2022-12-20T16:35:53.788660Z",
     "shell.execute_reply": "2022-12-20T16:35:53.788660Z",
     "shell.execute_reply.started": "2022-12-20T16:34:53.539639Z"
    },
    "tags": []
   },
   "outputs": [
    {
     "name": "stderr",
     "output_type": "stream",
     "text": [
      "loading configuration file config.json from cache at C:\\Users\\Nico/.cache\\huggingface\\hub\\models--bert-base-uncased\\snapshots\\0a6aa9128b6194f4f3c4db429b6cb4891cdb421b\\config.json\n",
      "Model config BertConfig {\n",
      "  \"_name_or_path\": \"bert-base-uncased\",\n",
      "  \"architectures\": [\n",
      "    \"BertForMaskedLM\"\n",
      "  ],\n",
      "  \"attention_probs_dropout_prob\": 0.1,\n",
      "  \"classifier_dropout\": null,\n",
      "  \"gradient_checkpointing\": false,\n",
      "  \"hidden_act\": \"gelu\",\n",
      "  \"hidden_dropout_prob\": 0.1,\n",
      "  \"hidden_size\": 768,\n",
      "  \"initializer_range\": 0.02,\n",
      "  \"intermediate_size\": 3072,\n",
      "  \"layer_norm_eps\": 1e-12,\n",
      "  \"max_position_embeddings\": 512,\n",
      "  \"model_type\": \"bert\",\n",
      "  \"num_attention_heads\": 12,\n",
      "  \"num_hidden_layers\": 12,\n",
      "  \"pad_token_id\": 0,\n",
      "  \"position_embedding_type\": \"absolute\",\n",
      "  \"transformers_version\": \"4.25.1\",\n",
      "  \"type_vocab_size\": 2,\n",
      "  \"use_cache\": true,\n",
      "  \"vocab_size\": 30522\n",
      "}\n",
      "\n",
      "loading file vocab.txt from cache at C:\\Users\\Nico/.cache\\huggingface\\hub\\models--bert-base-uncased\\snapshots\\0a6aa9128b6194f4f3c4db429b6cb4891cdb421b\\vocab.txt\n",
      "loading file tokenizer.json from cache at C:\\Users\\Nico/.cache\\huggingface\\hub\\models--bert-base-uncased\\snapshots\\0a6aa9128b6194f4f3c4db429b6cb4891cdb421b\\tokenizer.json\n",
      "loading file added_tokens.json from cache at None\n",
      "loading file special_tokens_map.json from cache at None\n",
      "loading file tokenizer_config.json from cache at C:\\Users\\Nico/.cache\\huggingface\\hub\\models--bert-base-uncased\\snapshots\\0a6aa9128b6194f4f3c4db429b6cb4891cdb421b\\tokenizer_config.json\n",
      "loading configuration file config.json from cache at C:\\Users\\Nico/.cache\\huggingface\\hub\\models--bert-base-uncased\\snapshots\\0a6aa9128b6194f4f3c4db429b6cb4891cdb421b\\config.json\n",
      "Model config BertConfig {\n",
      "  \"_name_or_path\": \"bert-base-uncased\",\n",
      "  \"architectures\": [\n",
      "    \"BertForMaskedLM\"\n",
      "  ],\n",
      "  \"attention_probs_dropout_prob\": 0.1,\n",
      "  \"classifier_dropout\": null,\n",
      "  \"gradient_checkpointing\": false,\n",
      "  \"hidden_act\": \"gelu\",\n",
      "  \"hidden_dropout_prob\": 0.1,\n",
      "  \"hidden_size\": 768,\n",
      "  \"initializer_range\": 0.02,\n",
      "  \"intermediate_size\": 3072,\n",
      "  \"layer_norm_eps\": 1e-12,\n",
      "  \"max_position_embeddings\": 512,\n",
      "  \"model_type\": \"bert\",\n",
      "  \"num_attention_heads\": 12,\n",
      "  \"num_hidden_layers\": 12,\n",
      "  \"pad_token_id\": 0,\n",
      "  \"position_embedding_type\": \"absolute\",\n",
      "  \"transformers_version\": \"4.25.1\",\n",
      "  \"type_vocab_size\": 2,\n",
      "  \"use_cache\": true,\n",
      "  \"vocab_size\": 30522\n",
      "}\n",
      "\n"
     ]
    }
   ],
   "source": [
    "max_length = 64\n",
    "batch_size = 10\n",
    "model_type = 'bert-base-uncased'\n",
    "model = bert_layer\n",
    "\n",
    "features_bert, last_hidden_states_tot = feature_BERT_fct(model, model_type, sentences, \n",
    "                                                         max_length, batch_size, mode='TFhub')"
   ]
  },
  {
   "cell_type": "code",
   "execution_count": 54,
   "id": "aadecdd7-9d8d-4354-8f66-3a0be33ebc92",
   "metadata": {
    "execution": {
     "iopub.execute_input": "2022-12-20T16:35:53.790637Z",
     "iopub.status.busy": "2022-12-20T16:35:53.789635Z",
     "iopub.status.idle": "2022-12-20T16:35:56.228634Z",
     "shell.execute_reply": "2022-12-20T16:35:56.228634Z",
     "shell.execute_reply.started": "2022-12-20T16:35:53.790637Z"
    },
    "tags": []
   },
   "outputs": [
    {
     "ename": "ValueError",
     "evalue": "Found input variables with inconsistent numbers of samples: [1034, 1030]",
     "output_type": "error",
     "traceback": [
      "\u001b[1;31m---------------------------------------------------------------------------\u001b[0m",
      "\u001b[1;31mValueError\u001b[0m                                Traceback (most recent call last)",
      "Input \u001b[1;32mIn [54]\u001b[0m, in \u001b[0;36m<cell line: 3>\u001b[1;34m()\u001b[0m\n\u001b[0;32m      1\u001b[0m clus\u001b[38;5;241m.\u001b[39mfit(features_bert)\n\u001b[0;32m      2\u001b[0m clus1\u001b[38;5;241m.\u001b[39mfit(features_bert)\n\u001b[1;32m----> 3\u001b[0m ari \u001b[38;5;241m=\u001b[39m \u001b[43mmetrics\u001b[49m\u001b[38;5;241;43m.\u001b[39;49m\u001b[43madjusted_rand_score\u001b[49m\u001b[43m(\u001b[49m\u001b[43mnp\u001b[49m\u001b[38;5;241;43m.\u001b[39;49m\u001b[43marray\u001b[49m\u001b[43m(\u001b[49m\u001b[43mtxt_df\u001b[49m\u001b[43m[\u001b[49m\u001b[38;5;124;43m'\u001b[39;49m\u001b[38;5;124;43mlabels_0\u001b[39;49m\u001b[38;5;124;43m'\u001b[39;49m\u001b[43m]\u001b[49m\u001b[43m)\u001b[49m\u001b[43m,\u001b[49m\n\u001b[0;32m      4\u001b[0m \u001b[43m                                                 \u001b[49m\u001b[43mnp\u001b[49m\u001b[38;5;241;43m.\u001b[39;49m\u001b[43marray\u001b[49m\u001b[43m(\u001b[49m\u001b[43mclus\u001b[49m\u001b[38;5;241;43m.\u001b[39;49m\u001b[43mlabels_\u001b[49m\u001b[43m)\u001b[49m\n\u001b[0;32m      5\u001b[0m \u001b[43m                                                 \u001b[49m\u001b[43m)\u001b[49m\n\u001b[0;32m      6\u001b[0m ari1 \u001b[38;5;241m=\u001b[39m metrics\u001b[38;5;241m.\u001b[39madjusted_rand_score(np\u001b[38;5;241m.\u001b[39marray(txt_df[\u001b[38;5;124m'\u001b[39m\u001b[38;5;124mlabels_1\u001b[39m\u001b[38;5;124m'\u001b[39m]),\n\u001b[0;32m      7\u001b[0m                                                  np\u001b[38;5;241m.\u001b[39marray(clus1\u001b[38;5;241m.\u001b[39mlabels_)\n\u001b[0;32m      8\u001b[0m                                                  )\n\u001b[0;32m      9\u001b[0m \u001b[38;5;28mprint\u001b[39m(\u001b[38;5;124m'\u001b[39m\u001b[38;5;124mThe ari scores are \u001b[39m\u001b[38;5;132;01m{}\u001b[39;00m\u001b[38;5;124m for categorie 0 and \u001b[39m\u001b[38;5;132;01m{}\u001b[39;00m\u001b[38;5;124m for categorie 1.\u001b[39m\u001b[38;5;124m'\u001b[39m\u001b[38;5;241m.\u001b[39mformat(ari, ari1))\n",
      "File \u001b[1;32mE:\\Data_Science\\Anaconda\\lib\\site-packages\\sklearn\\metrics\\cluster\\_supervised.py:391\u001b[0m, in \u001b[0;36madjusted_rand_score\u001b[1;34m(labels_true, labels_pred)\u001b[0m\n\u001b[0;32m    310\u001b[0m \u001b[38;5;28;01mdef\u001b[39;00m \u001b[38;5;21madjusted_rand_score\u001b[39m(labels_true, labels_pred):\n\u001b[0;32m    311\u001b[0m     \u001b[38;5;124;03m\"\"\"Rand index adjusted for chance.\u001b[39;00m\n\u001b[0;32m    312\u001b[0m \n\u001b[0;32m    313\u001b[0m \u001b[38;5;124;03m    The Rand Index computes a similarity measure between two clusterings\u001b[39;00m\n\u001b[1;32m   (...)\u001b[0m\n\u001b[0;32m    389\u001b[0m \u001b[38;5;124;03m    adjusted_mutual_info_score : Adjusted Mutual Information.\u001b[39;00m\n\u001b[0;32m    390\u001b[0m \u001b[38;5;124;03m    \"\"\"\u001b[39;00m\n\u001b[1;32m--> 391\u001b[0m     (tn, fp), (fn, tp) \u001b[38;5;241m=\u001b[39m \u001b[43mpair_confusion_matrix\u001b[49m\u001b[43m(\u001b[49m\u001b[43mlabels_true\u001b[49m\u001b[43m,\u001b[49m\u001b[43m \u001b[49m\u001b[43mlabels_pred\u001b[49m\u001b[43m)\u001b[49m\n\u001b[0;32m    392\u001b[0m     \u001b[38;5;66;03m# convert to Python integer types, to avoid overflow or underflow\u001b[39;00m\n\u001b[0;32m    393\u001b[0m     tn, fp, fn, tp \u001b[38;5;241m=\u001b[39m \u001b[38;5;28mint\u001b[39m(tn), \u001b[38;5;28mint\u001b[39m(fp), \u001b[38;5;28mint\u001b[39m(fn), \u001b[38;5;28mint\u001b[39m(tp)\n",
      "File \u001b[1;32mE:\\Data_Science\\Anaconda\\lib\\site-packages\\sklearn\\metrics\\cluster\\_supervised.py:222\u001b[0m, in \u001b[0;36mpair_confusion_matrix\u001b[1;34m(labels_true, labels_pred)\u001b[0m\n\u001b[0;32m    162\u001b[0m \u001b[38;5;28;01mdef\u001b[39;00m \u001b[38;5;21mpair_confusion_matrix\u001b[39m(labels_true, labels_pred):\n\u001b[0;32m    163\u001b[0m     \u001b[38;5;124;03m\"\"\"Pair confusion matrix arising from two clusterings.\u001b[39;00m\n\u001b[0;32m    164\u001b[0m \n\u001b[0;32m    165\u001b[0m \u001b[38;5;124;03m    The pair confusion matrix :math:`C` computes a 2 by 2 similarity matrix\u001b[39;00m\n\u001b[1;32m   (...)\u001b[0m\n\u001b[0;32m    220\u001b[0m \u001b[38;5;124;03m      https://link.springer.com/article/10.1007%2FBF01908075\u001b[39;00m\n\u001b[0;32m    221\u001b[0m \u001b[38;5;124;03m    \"\"\"\u001b[39;00m\n\u001b[1;32m--> 222\u001b[0m     labels_true, labels_pred \u001b[38;5;241m=\u001b[39m \u001b[43mcheck_clusterings\u001b[49m\u001b[43m(\u001b[49m\u001b[43mlabels_true\u001b[49m\u001b[43m,\u001b[49m\u001b[43m \u001b[49m\u001b[43mlabels_pred\u001b[49m\u001b[43m)\u001b[49m\n\u001b[0;32m    223\u001b[0m     n_samples \u001b[38;5;241m=\u001b[39m np\u001b[38;5;241m.\u001b[39mint64(labels_true\u001b[38;5;241m.\u001b[39mshape[\u001b[38;5;241m0\u001b[39m])\n\u001b[0;32m    225\u001b[0m     \u001b[38;5;66;03m# Computation using the contingency data\u001b[39;00m\n",
      "File \u001b[1;32mE:\\Data_Science\\Anaconda\\lib\\site-packages\\sklearn\\metrics\\cluster\\_supervised.py:72\u001b[0m, in \u001b[0;36mcheck_clusterings\u001b[1;34m(labels_true, labels_pred)\u001b[0m\n\u001b[0;32m     70\u001b[0m \u001b[38;5;28;01mif\u001b[39;00m labels_pred\u001b[38;5;241m.\u001b[39mndim \u001b[38;5;241m!=\u001b[39m \u001b[38;5;241m1\u001b[39m:\n\u001b[0;32m     71\u001b[0m     \u001b[38;5;28;01mraise\u001b[39;00m \u001b[38;5;167;01mValueError\u001b[39;00m(\u001b[38;5;124m\"\u001b[39m\u001b[38;5;124mlabels_pred must be 1D: shape is \u001b[39m\u001b[38;5;132;01m%r\u001b[39;00m\u001b[38;5;124m\"\u001b[39m \u001b[38;5;241m%\u001b[39m (labels_pred\u001b[38;5;241m.\u001b[39mshape,))\n\u001b[1;32m---> 72\u001b[0m \u001b[43mcheck_consistent_length\u001b[49m\u001b[43m(\u001b[49m\u001b[43mlabels_true\u001b[49m\u001b[43m,\u001b[49m\u001b[43m \u001b[49m\u001b[43mlabels_pred\u001b[49m\u001b[43m)\u001b[49m\n\u001b[0;32m     74\u001b[0m \u001b[38;5;28;01mreturn\u001b[39;00m labels_true, labels_pred\n",
      "File \u001b[1;32mE:\\Data_Science\\Anaconda\\lib\\site-packages\\sklearn\\utils\\validation.py:332\u001b[0m, in \u001b[0;36mcheck_consistent_length\u001b[1;34m(*arrays)\u001b[0m\n\u001b[0;32m    330\u001b[0m uniques \u001b[38;5;241m=\u001b[39m np\u001b[38;5;241m.\u001b[39munique(lengths)\n\u001b[0;32m    331\u001b[0m \u001b[38;5;28;01mif\u001b[39;00m \u001b[38;5;28mlen\u001b[39m(uniques) \u001b[38;5;241m>\u001b[39m \u001b[38;5;241m1\u001b[39m:\n\u001b[1;32m--> 332\u001b[0m     \u001b[38;5;28;01mraise\u001b[39;00m \u001b[38;5;167;01mValueError\u001b[39;00m(\n\u001b[0;32m    333\u001b[0m         \u001b[38;5;124m\"\u001b[39m\u001b[38;5;124mFound input variables with inconsistent numbers of samples: \u001b[39m\u001b[38;5;132;01m%r\u001b[39;00m\u001b[38;5;124m\"\u001b[39m\n\u001b[0;32m    334\u001b[0m         \u001b[38;5;241m%\u001b[39m [\u001b[38;5;28mint\u001b[39m(l) \u001b[38;5;28;01mfor\u001b[39;00m l \u001b[38;5;129;01min\u001b[39;00m lengths]\n\u001b[0;32m    335\u001b[0m     )\n",
      "\u001b[1;31mValueError\u001b[0m: Found input variables with inconsistent numbers of samples: [1034, 1030]"
     ]
    }
   ],
   "source": [
    "clus.fit(features_bert)\n",
    "clus1.fit(features_bert)\n",
    "ari = metrics.adjusted_rand_score(np.array(txt_df['labels_0']),\n",
    "                                                 np.array(clus.labels_)\n",
    "                                                 )\n",
    "ari1 = metrics.adjusted_rand_score(np.array(txt_df['labels_1']),\n",
    "                                                 np.array(clus1.labels_)\n",
    "                                                 )\n",
    "print('The ari scores are {} for categorie 0 and {} for categorie 1.'.format(ari, ari1))"
   ]
  },
  {
   "cell_type": "markdown",
   "id": "01ee7ef3-9ef9-401b-a5d2-8b5248882254",
   "metadata": {},
   "source": [
    "### Fine-Tune"
   ]
  },
  {
   "cell_type": "code",
   "execution_count": null,
   "id": "44fd3527-bfe9-4c41-b333-24ff1bede369",
   "metadata": {
    "execution": {
     "iopub.status.busy": "2022-12-20T16:06:48.073040Z",
     "iopub.status.idle": "2022-12-20T16:06:48.073040Z",
     "shell.execute_reply": "2022-12-20T16:06:48.073040Z",
     "shell.execute_reply.started": "2022-12-20T16:06:48.073040Z"
    },
    "tags": []
   },
   "outputs": [],
   "source": [
    "# let's try to fine-tune this\n",
    "from tensorflow.keras.optimizers import Adam\n",
    "#tokenize\n",
    "bert_tokenizer = AutoTokenizer.from_pretrained('bert-base-uncased')\n",
    "max_length = 32\n",
    "doc_token = bert_tokenizer(sentences,max_length=max_length, padding = 'max_length', truncation = True, return_tensors=\"tf\", return_attention_mask = False, return_token_type_ids=False)"
   ]
  },
  {
   "cell_type": "code",
   "execution_count": null,
   "id": "303299c7-fa2b-433b-a496-c1d6d1285ddf",
   "metadata": {
    "execution": {
     "iopub.status.busy": "2022-12-20T16:06:48.074041Z",
     "iopub.status.idle": "2022-12-20T16:06:48.075040Z",
     "shell.execute_reply": "2022-12-20T16:06:48.075040Z",
     "shell.execute_reply.started": "2022-12-20T16:06:48.075040Z"
    },
    "tags": []
   },
   "outputs": [],
   "source": [
    "temp = pd.DataFrame(sentences)\n",
    "def tokenize_dataset(data):\n",
    "    # Keys of the returned dictionary will be added to the dataset as columns\n",
    "    return bert_tokenizer(data[0])\n",
    "\n",
    "\n",
    "temp = temp.apply(tokenize_dataset)"
   ]
  },
  {
   "cell_type": "code",
   "execution_count": null,
   "id": "9fcb1b8e-71b1-405e-982f-9f3f7d75baa1",
   "metadata": {
    "execution": {
     "iopub.status.busy": "2022-12-20T16:06:48.076041Z",
     "iopub.status.idle": "2022-12-20T16:06:48.076041Z",
     "shell.execute_reply": "2022-12-20T16:06:48.076041Z",
     "shell.execute_reply.started": "2022-12-20T16:06:48.076041Z"
    },
    "tags": []
   },
   "outputs": [],
   "source": [
    "model = TFAutoModelForSequenceClassification.from_pretrained(\"bert-base-uncased\", num_labels=63)\n",
    "model.compile(optimizer=Adam(3e-5))\n"
   ]
  },
  {
   "cell_type": "code",
   "execution_count": null,
   "id": "f6e8c1e3-bfb6-4808-957f-ef473c9fb05e",
   "metadata": {
    "execution": {
     "iopub.status.busy": "2022-12-20T16:06:48.077043Z",
     "iopub.status.idle": "2022-12-20T16:06:48.077043Z",
     "shell.execute_reply": "2022-12-20T16:06:48.077043Z",
     "shell.execute_reply.started": "2022-12-20T16:06:48.077043Z"
    },
    "tags": []
   },
   "outputs": [],
   "source": [
    "labels = np.array(txt_df['labels_1'])\n",
    "\n",
    "model.fit(doc_token['input_ids'], labels)"
   ]
  },
  {
   "cell_type": "markdown",
   "id": "81659a3e-c8e6-47d3-985a-9100a8f210d9",
   "metadata": {},
   "source": [
    "## USE"
   ]
  },
  {
   "cell_type": "code",
   "execution_count": null,
   "id": "954b673f-d202-4642-ad0a-fe4b4519d5f5",
   "metadata": {
    "execution": {
     "iopub.status.busy": "2022-12-20T16:06:48.078040Z",
     "iopub.status.idle": "2022-12-20T16:06:48.079041Z",
     "shell.execute_reply": "2022-12-20T16:06:48.078040Z",
     "shell.execute_reply.started": "2022-12-20T16:06:48.078040Z"
    },
    "tags": []
   },
   "outputs": [],
   "source": [
    "embed = hub.load(\"https://tfhub.dev/google/universal-sentence-encoder/4\")"
   ]
  },
  {
   "cell_type": "code",
   "execution_count": null,
   "id": "161c15ca-75c1-4af5-8d9c-e132e0c742c8",
   "metadata": {
    "execution": {
     "iopub.status.busy": "2022-12-20T16:06:48.079041Z",
     "iopub.status.idle": "2022-12-20T16:06:48.080041Z",
     "shell.execute_reply": "2022-12-20T16:06:48.080041Z",
     "shell.execute_reply.started": "2022-12-20T16:06:48.080041Z"
    },
    "tags": []
   },
   "outputs": [],
   "source": [
    "def feature_USE_fct(sentences, b_size) :\n",
    "    batch_size = b_size\n",
    "\n",
    "    for step in range(len(sentences)//batch_size) :\n",
    "        idx = step*batch_size\n",
    "        feat = embed(sentences[idx:idx+batch_size])\n",
    "\n",
    "        if step ==0 :\n",
    "            features = feat\n",
    "        else :\n",
    "            features = np.concatenate((features,feat))\n",
    "\n",
    "    return features"
   ]
  },
  {
   "cell_type": "code",
   "execution_count": null,
   "id": "86fcda42-0daf-4112-8a20-76097b4a040a",
   "metadata": {
    "execution": {
     "iopub.status.busy": "2022-12-20T16:06:48.081040Z",
     "iopub.status.idle": "2022-12-20T16:06:48.081040Z",
     "shell.execute_reply": "2022-12-20T16:06:48.081040Z",
     "shell.execute_reply.started": "2022-12-20T16:06:48.081040Z"
    },
    "tags": []
   },
   "outputs": [],
   "source": [
    "batch_size = 10\n",
    "features_USE = feature_USE_fct(sentences, batch_size)"
   ]
  },
  {
   "cell_type": "code",
   "execution_count": null,
   "id": "e5488931-dc07-4142-8d22-684b52f396a0",
   "metadata": {
    "execution": {
     "iopub.status.busy": "2022-12-20T16:06:48.082054Z",
     "iopub.status.idle": "2022-12-20T16:06:48.082054Z",
     "shell.execute_reply": "2022-12-20T16:06:48.082054Z",
     "shell.execute_reply.started": "2022-12-20T16:06:48.082054Z"
    },
    "tags": []
   },
   "outputs": [],
   "source": [
    "clus.fit(features_USE)\n",
    "clus1.fit(features_USE)\n",
    "ari = metrics.adjusted_rand_score(np.array(txt_df['labels_0']),\n",
    "                                                 np.array(clus.labels_)\n",
    "                                                 )\n",
    "ari1 = metrics.adjusted_rand_score(np.array(txt_df['labels_1']),\n",
    "                                                 np.array(clus1.labels_)\n",
    "                                                 )\n",
    "print('The ari scores are {} for categorie 0 and {} for categorie 1.'.format(ari, ari1))"
   ]
  },
  {
   "cell_type": "markdown",
   "id": "fce8cf77-ce92-4cc1-b37f-5623a8c5c0ca",
   "metadata": {},
   "source": [
    "## LDA"
   ]
  },
  {
   "cell_type": "code",
   "execution_count": null,
   "id": "55a531f6-35b8-43fa-aa51-993551e0dcf2",
   "metadata": {
    "execution": {
     "iopub.status.busy": "2022-12-20T16:06:48.083041Z",
     "iopub.status.idle": "2022-12-20T16:06:48.083041Z",
     "shell.execute_reply": "2022-12-20T16:06:48.083041Z",
     "shell.execute_reply.started": "2022-12-20T16:06:48.083041Z"
    },
    "tags": []
   },
   "outputs": [],
   "source": [
    "from sklearn.decomposition import LatentDirichletAllocation\n",
    "n_topics = 63\n",
    "\n",
    "# Créer le modèle LDA\n",
    "lda = LatentDirichletAllocation(\n",
    "        n_components=n_topics, \n",
    "        max_iter=5,  \n",
    "        learning_offset=50.,\n",
    "        random_state=0)\n",
    "\n",
    "# Fitter sur les données\n",
    "lda.fit(bag_of_words)"
   ]
  },
  {
   "cell_type": "code",
   "execution_count": null,
   "id": "c84a5745-db9c-4908-98e2-b02cb8ce7830",
   "metadata": {
    "execution": {
     "iopub.status.busy": "2022-12-20T16:06:48.084040Z",
     "iopub.status.idle": "2022-12-20T16:06:48.085042Z",
     "shell.execute_reply": "2022-12-20T16:06:48.085042Z",
     "shell.execute_reply.started": "2022-12-20T16:06:48.085042Z"
    },
    "tags": []
   },
   "outputs": [],
   "source": [
    "vectorizer.get_feature_names_out()"
   ]
  },
  {
   "cell_type": "code",
   "execution_count": null,
   "id": "d6eae2cf-2aba-4e56-8371-ad06fdef6176",
   "metadata": {
    "execution": {
     "iopub.status.busy": "2022-12-20T16:06:48.086040Z",
     "iopub.status.idle": "2022-12-20T16:06:48.086040Z",
     "shell.execute_reply": "2022-12-20T16:06:48.086040Z",
     "shell.execute_reply.started": "2022-12-20T16:06:48.086040Z"
    },
    "tags": []
   },
   "outputs": [],
   "source": [
    "def display_topics(model, feature_names, no_top_words):\n",
    "    for topic_idx, topic in enumerate(model.components_):\n",
    "        print(\"Topic {}:\".format(topic_idx))\n",
    "        print(\" \".join([feature_names[i] for i in topic.argsort()[:-no_top_words - 1:-1]]))\n",
    "\n",
    "no_top_words = 5\n",
    "display_topics(lda, vectorizer.get_feature_names_out(), no_top_words)\n"
   ]
  },
  {
   "cell_type": "code",
   "execution_count": null,
   "id": "270ade74-192e-480f-930b-0429b1220df2",
   "metadata": {},
   "outputs": [],
   "source": []
  }
 ],
 "metadata": {
  "kernelspec": {
   "display_name": "Python 3 (ipykernel)",
   "language": "python",
   "name": "python3"
  },
  "language_info": {
   "codemirror_mode": {
    "name": "ipython",
    "version": 3
   },
   "file_extension": ".py",
   "mimetype": "text/x-python",
   "name": "python",
   "nbconvert_exporter": "python",
   "pygments_lexer": "ipython3",
   "version": "3.9.12"
  }
 },
 "nbformat": 4,
 "nbformat_minor": 5
}
