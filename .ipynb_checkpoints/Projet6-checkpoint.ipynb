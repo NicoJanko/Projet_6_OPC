{
 "cells": [
  {
   "cell_type": "code",
   "execution_count": 1,
   "id": "c4dc6bec-7409-4255-902d-718806555ffa",
   "metadata": {
    "tags": []
   },
   "outputs": [],
   "source": [
    "import pandas as pd\n",
    "pd.options.mode.chained_assignment = None  # default='warn'\n",
    "import numpy as np\n",
    "import matplotlib.pyplot as plt\n",
    "import missingno as msno\n",
    "import seaborn as sns\n",
    "import os"
   ]
  },
  {
   "cell_type": "code",
   "execution_count": 2,
   "id": "b3634dbe-0c4d-4110-bea7-1bf2305474e5",
   "metadata": {
    "tags": []
   },
   "outputs": [
    {
     "name": "stdin",
     "output_type": "stream",
     "text": [
      "Laptop ? [y/n] y\n"
     ]
    }
   ],
   "source": [
    "x = input('Laptop ? [y/n]')\n",
    "if x == 'n':\n",
    "    path = 'E:\\\\Data_Science\\\\OpenClassRoom\\\\Projet 6\\\\Flipkart'\n",
    "    df=pd.read_csv(path + '\\\\flipkart_com-ecommerce_sample_1050.csv')\n",
    "else:\n",
    "    path = 'C:\\\\Users\\\\Nico Janko\\\\Documents\\\\Data_Science\\\\OpenClassRoom\\\\Projet 6\\\\Flipkart'\n",
    "    df = pd.read_csv(path + '\\\\flipkart_com-ecommerce_sample_1050.csv')"
   ]
  },
  {
   "cell_type": "code",
   "execution_count": 3,
   "id": "aa488210-0213-4819-b847-5d7f00314b47",
   "metadata": {
    "tags": []
   },
   "outputs": [
    {
     "name": "stdout",
     "output_type": "stream",
     "text": [
      "<class 'pandas.core.frame.DataFrame'>\n",
      "RangeIndex: 1050 entries, 0 to 1049\n",
      "Data columns (total 15 columns):\n",
      " #   Column                   Non-Null Count  Dtype  \n",
      "---  ------                   --------------  -----  \n",
      " 0   uniq_id                  1050 non-null   object \n",
      " 1   crawl_timestamp          1050 non-null   object \n",
      " 2   product_url              1050 non-null   object \n",
      " 3   product_name             1050 non-null   object \n",
      " 4   product_category_tree    1050 non-null   object \n",
      " 5   pid                      1050 non-null   object \n",
      " 6   retail_price             1049 non-null   float64\n",
      " 7   discounted_price         1049 non-null   float64\n",
      " 8   image                    1050 non-null   object \n",
      " 9   is_FK_Advantage_product  1050 non-null   bool   \n",
      " 10  description              1050 non-null   object \n",
      " 11  product_rating           1050 non-null   object \n",
      " 12  overall_rating           1050 non-null   object \n",
      " 13  brand                    712 non-null    object \n",
      " 14  product_specifications   1049 non-null   object \n",
      "dtypes: bool(1), float64(2), object(12)\n",
      "memory usage: 116.0+ KB\n"
     ]
    }
   ],
   "source": [
    "df.info()"
   ]
  },
  {
   "cell_type": "markdown",
   "id": "9ede0db3-7731-4e1b-b45e-fe8b3d533623",
   "metadata": {},
   "source": [
    "# EDA"
   ]
  },
  {
   "cell_type": "code",
   "execution_count": 4,
   "id": "447d7784-7b62-4f21-8a15-e82a4019a858",
   "metadata": {
    "tags": []
   },
   "outputs": [
    {
     "data": {
      "text/plain": [
       "0       Key Features of Elegance Polyester Multicolor ...\n",
       "1       Specifications of Sathiyas Cotton Bath Towel (...\n",
       "2       Key Features of Eurospa Cotton Terry Face Towe...\n",
       "3       Key Features of SANTOSH ROYAL FASHION Cotton P...\n",
       "4       Key Features of Jaipur Print Cotton Floral Kin...\n",
       "                              ...                        \n",
       "1045    Oren Empower Extra Large Self Adhesive Sticker...\n",
       "1046    Wallmantra Large Vinyl Sticker Sticker (Pack o...\n",
       "1047    Buy Uberlyfe Extra Large Pigmented Polyvinyl F...\n",
       "1048    Buy Wallmantra Medium Vinyl Sticker Sticker fo...\n",
       "1049    Buy Uberlyfe Large Vinyl Sticker for Rs.595 on...\n",
       "Name: description, Length: 1050, dtype: object"
      ]
     },
     "execution_count": 4,
     "metadata": {},
     "output_type": "execute_result"
    }
   ],
   "source": [
    "df['description']"
   ]
  },
  {
   "cell_type": "code",
   "execution_count": 5,
   "id": "166e0e25-a1b2-4f89-ab8d-e6b7dc65386b",
   "metadata": {
    "tags": []
   },
   "outputs": [
    {
     "name": "stdout",
     "output_type": "stream",
     "text": [
      "7\n",
      "63\n"
     ]
    }
   ],
   "source": [
    "df['product_category_0'] = df['product_category_tree'].apply(lambda x: x.split('>>')[0])\n",
    "print(df['product_category_0'].unique().shape[0])\n",
    "df['product_category_1'] = df['product_category_tree'].apply(lambda x: x.split('>>')[1])\n",
    "print(df['product_category_1'].unique().shape[0])"
   ]
  },
  {
   "cell_type": "code",
   "execution_count": 6,
   "id": "ffa11e08-a2ed-42ee-83b3-e65dc2358e92",
   "metadata": {
    "tags": []
   },
   "outputs": [
    {
     "name": "stdout",
     "output_type": "stream",
     "text": [
      "7 37\n"
     ]
    }
   ],
   "source": [
    "# select rows from categories with only 1 members\n",
    "idx = list(df.groupby('product_category_1').filter(lambda x: len(x) < 4).index)\n",
    "df = df.drop(index = idx)\n",
    "label_0_unique = df['product_category_0'].unique().shape[0]\n",
    "label_1_unique = df['product_category_1'].unique().shape[0]\n",
    "print(label_0_unique, label_1_unique)"
   ]
  },
  {
   "cell_type": "code",
   "execution_count": 7,
   "id": "70a5fe45-102c-466d-a7ef-9ee832a417f3",
   "metadata": {
    "tags": []
   },
   "outputs": [
    {
     "data": {
      "text/plain": [
       " Wrist Watches                   149\n",
       " Laptop Accessories               87\n",
       " Infant Wear                      84\n",
       " Coffee Mugs                      74\n",
       " Showpieces                       71\n",
       " Bed Linen                        65\n",
       " Fragrances                       65\n",
       " Network Components               49\n",
       " Cookware                         27\n",
       " Table Decor & Handicrafts        27\n",
       " Combos and Kits                  24\n",
       " Wall Decor & Clocks              22\n",
       " Bath Linen                       21\n",
       " Curtains & Accessories           19\n",
       " Makeup                           18\n",
       " Body and Skin Care               15\n",
       " Baby & Kids Gifts                15\n",
       " Baby Bedding                     15\n",
       " Kitchen & Dining Linen           14\n",
       " Baby Bath & Skin                 14\n",
       " Decorative Lighting & Lamps      14\n",
       " Kitchen Tools                    14\n",
       " Cushions, Pillows & Covers       13\n",
       " Containers & Bottles             13\n",
       " Hair Care                         9\n",
       " Bar & Glassware                   8\n",
       " Feeding & Nursing                 8\n",
       " Health Care                       7\n",
       " Lighting                          7\n",
       " Diapering & Potty Training        7\n",
       " Bath and Spa                      7\n",
       " Floor Coverings                   6\n",
       " Showpiece                         5\n",
       " Flowers, Plants & Vases           5\n",
       " Computer Peripherals              4\n",
       " Living                            4\n",
       " Baby Grooming                     4\n",
       "Name: product_category_1, dtype: int64"
      ]
     },
     "execution_count": 7,
     "metadata": {},
     "output_type": "execute_result"
    }
   ],
   "source": [
    "df['product_category_1'].value_counts()"
   ]
  },
  {
   "cell_type": "code",
   "execution_count": 8,
   "id": "004da212-46d2-4905-b62e-f6eede5ee828",
   "metadata": {
    "tags": []
   },
   "outputs": [],
   "source": [
    "from sklearn.preprocessing import LabelEncoder\n",
    "le = LabelEncoder()\n",
    "df['labels_0'] = le.fit_transform(df['product_category_0'])\n",
    "df['labels_1'] = le.fit_transform(df['product_category_1'])"
   ]
  },
  {
   "cell_type": "code",
   "execution_count": 9,
   "id": "262befd2-9286-4721-b59a-479e44e02fbd",
   "metadata": {},
   "outputs": [
    {
     "name": "stdout",
     "output_type": "stream",
     "text": [
      "<class 'pandas.core.frame.DataFrame'>\n",
      "Int64Index: 1010 entries, 0 to 1049\n",
      "Data columns (total 19 columns):\n",
      " #   Column                   Non-Null Count  Dtype  \n",
      "---  ------                   --------------  -----  \n",
      " 0   uniq_id                  1010 non-null   object \n",
      " 1   crawl_timestamp          1010 non-null   object \n",
      " 2   product_url              1010 non-null   object \n",
      " 3   product_name             1010 non-null   object \n",
      " 4   product_category_tree    1010 non-null   object \n",
      " 5   pid                      1010 non-null   object \n",
      " 6   retail_price             1009 non-null   float64\n",
      " 7   discounted_price         1009 non-null   float64\n",
      " 8   image                    1010 non-null   object \n",
      " 9   is_FK_Advantage_product  1010 non-null   bool   \n",
      " 10  description              1010 non-null   object \n",
      " 11  product_rating           1010 non-null   object \n",
      " 12  overall_rating           1010 non-null   object \n",
      " 13  brand                    674 non-null    object \n",
      " 14  product_specifications   1009 non-null   object \n",
      " 15  product_category_0       1010 non-null   object \n",
      " 16  product_category_1       1010 non-null   object \n",
      " 17  labels_0                 1010 non-null   int32  \n",
      " 18  labels_1                 1010 non-null   int32  \n",
      "dtypes: bool(1), float64(2), int32(2), object(14)\n",
      "memory usage: 143.0+ KB\n"
     ]
    }
   ],
   "source": [
    "df.info()"
   ]
  },
  {
   "cell_type": "markdown",
   "id": "bcfd049b-6db3-47b7-b1fd-219e00b91130",
   "metadata": {
    "execution": {
     "iopub.execute_input": "2022-12-13T09:24:53.081513Z",
     "iopub.status.busy": "2022-12-13T09:24:53.081513Z",
     "iopub.status.idle": "2022-12-13T09:24:53.102513Z",
     "shell.execute_reply": "2022-12-13T09:24:53.102513Z",
     "shell.execute_reply.started": "2022-12-13T09:24:53.081513Z"
    },
    "tags": []
   },
   "source": [
    "# Text"
   ]
  },
  {
   "cell_type": "code",
   "execution_count": 66,
   "id": "a8a6f729-e3ab-4028-aaa9-87b82f790788",
   "metadata": {
    "tags": []
   },
   "outputs": [],
   "source": [
    "txt_df = df.iloc[:, [0, 10, 17, 18]]"
   ]
  },
  {
   "cell_type": "code",
   "execution_count": 67,
   "id": "6df0d65c-23c2-42a2-a29c-4eb8a58f0691",
   "metadata": {
    "tags": []
   },
   "outputs": [
    {
     "data": {
      "text/plain": [
       "<AxesSubplot:>"
      ]
     },
     "execution_count": 67,
     "metadata": {},
     "output_type": "execute_result"
    },
    {
     "data": {
      "image/png": "[encoded data removed]",
      "text/plain": [
       "<Figure size 1800x720 with 2 Axes>"
      ]
     },
     "metadata": {
      "needs_background": "light"
     },
     "output_type": "display_data"
    }
   ],
   "source": [
    "msno.matrix(txt_df)"
   ]
  },
  {
   "cell_type": "code",
   "execution_count": 68,
   "id": "53d5b16b-81d8-43cd-a8b9-8005623c5649",
   "metadata": {
    "tags": []
   },
   "outputs": [
    {
     "data": {
      "image/png": "[encoded data removed]",
      "text/plain": [
       "<Figure size 720x720 with 1 Axes>"
      ]
     },
     "metadata": {
      "needs_background": "light"
     },
     "output_type": "display_data"
    }
   ],
   "source": [
    "txt_df['lenght'] = txt_df['description'].apply(lambda x: len(x))\n",
    "txt_df['lenght'].describe()\n",
    "fig, ax = plt.subplots(figsize=(10, 10))\n",
    "sns.boxplot(data = txt_df['lenght'],\n",
    "            ax=ax\n",
    "           )\n",
    "ax.text(0.75,\n",
    "        0.8,\n",
    "        str(txt_df['lenght'].describe()),\n",
    "        transform=ax.transAxes\n",
    "        )\n",
    "plt.show()"
   ]
  },
  {
   "cell_type": "code",
   "execution_count": 69,
   "id": "b9d2d8aa-7546-4fa8-b51c-866a38976846",
   "metadata": {
    "tags": []
   },
   "outputs": [
    {
     "name": "stdout",
     "output_type": "stream",
     "text": [
      "84 8.316831683168317\n"
     ]
    },
    {
     "data": {
      "text/plain": [
       "'Key Features of Sunlast 16 inch Laptop Backpack Laptop Backpack with solar panel Comfortable back panel with air-flow design Adjustable sternum strap Large outer elasticated mesh side pocket and a top carry handle Padded and Adjustable shoulder straps Charge your mobile by solar power Mobile power backup option Long life Easy to use,Sunlast 16 inch Laptop Backpack (Yellow) Price: Rs. 2,348 The Sunlast New Laptop Backpack with Solar Panel ensures complete safety to your laptop with its high-quality built and wide range of built-in features. With the inside of this bag featuring a protective padding, you can be rest assured that the laptop inside it will be well cushioned from any accidental damage caused when you bump into any surface. As it is made of nylon, this laptop backpack can withstand abrasions and is long lasting. This Sunlast Backpack comes with a unique solar panel which allows you to charge your mobile phone anywhere anytime. This Sunlast Laptop backpack with solar panel is a great innovation in the field of mobile charging and other similar applications. This solar panel has USB output pins suitable for mobile phones. This is a great solar charger bag available at the best price. The best feature of this bag is its portability and durability. This solar charger is suitable for all smart phones and charging time depends on battery mAh. With this beautiful product, you can charge your phone in an eco-friendly way with no cost to you or the environment. Along with being durable, nylon also ensures that this backpack can survive rugged outdoor use, thus you can confidently wear this bag while you are out camping. This backpack is also water-resistant and keeps your laptop safe in wet and damp conditions. The Sunlast laptop backpack is perfect for your laptop. This backpack features top loading and can accommodate a large size laptop easily. It is a lightweight and comfortable laptop carry bag and comes with padded straps that distribute the weight evenly on your shoulders without stressing your back and shoulders. You can adjust the cushioned straps for a snug-fit. This Sunlast backpack is water resistant and protects your laptop and other accessories from water. It is made to suit all the styles and can be used by both college-goers and office-goers. It offers enough space for you to carry your essentials along with your laptop and its accessories. It features a zippered compartment that is big enough to hold your laptop. It also features one front pocket with an office organiser. You can use it to store the charger, mouse, pen drive, notepad, pen and other essentials. It features two mesh side pockets, where you can keep your water bottle or any other item for quick access. It is spacious enough to store your belongings on a one-day business trip as well. Buy this Sunlast backpack and carry your laptop and other accessories safely and in style.,Specifications of Sunlast 16 inch Laptop Backpack (Yellow) General Brand Sunlast Trolley No Expandable No Type Laptop Backpack Model Name L003 Yellow solar mobile charger Material Nylon Compatible Laptop Size 16 inch Style Code L003 Yellow Closure Type Zip Color Code Yellow Color Yellow Dimensions Exterior Width 350 mm Weight 820 g Exterior Height 450 mm In the Box Laptop Backpack With Solar Panel Body Features Hip Strap No Secret Security Compartment Yes Waterproof Yes Rain Cover No Shoulder Strap Adjustable Number of Compartments 4'"
      ]
     },
     "execution_count": 69,
     "metadata": {},
     "output_type": "execute_result"
    }
   ],
   "source": [
    "out = []\n",
    "q1 = txt_df['lenght'].quantile(0.25)\n",
    "q3 = txt_df['lenght'].quantile(0.75)\n",
    "interq = q3-q1\n",
    "out = txt_df.loc[(txt_df['lenght'] < (q1-1.5*interq)) | (txt_df['lenght'] > (q3+1.5*interq))]\n",
    "print(out.shape[0], out.shape[0]/txt_df.shape[0]*100)\n",
    "out.sort_values(by='lenght', ascending = False).iloc[1, 1]"
   ]
  },
  {
   "cell_type": "code",
   "execution_count": 50,
   "id": "8da11c3f-6747-4e06-8b90-353672c85870",
   "metadata": {
    "tags": []
   },
   "outputs": [
    {
     "data": {
      "text/plain": [
       "<spacy_language_detection.spacy_language_detector.LanguageDetector at 0x20bab7d1220>"
      ]
     },
     "execution_count": 50,
     "metadata": {},
     "output_type": "execute_result"
    }
   ],
   "source": [
    "# check if all the sentences are english\n",
    "from spacy_language_detection import LanguageDetector\n",
    "from spacy.language import Language\n",
    "import spacy\n",
    "\n",
    "def get_lang_detector(nlp, name):\n",
    "    return LanguageDetector(seed=38)\n",
    "nlp = spacy.load(\"en_core_web_sm\")\n",
    "Language.factory(\"language_detector\", func=get_lang_detector)\n",
    "nlp.add_pipe('language_detector', last=True)"
   ]
  },
  {
   "cell_type": "code",
   "execution_count": 51,
   "id": "a01169b3-293f-4e3e-8a84-8bee1d0f19e6",
   "metadata": {
    "tags": []
   },
   "outputs": [
    {
     "data": {
      "text/plain": [
       "array(['en', 'it'], dtype=object)"
      ]
     },
     "execution_count": 51,
     "metadata": {},
     "output_type": "execute_result"
    }
   ],
   "source": [
    "def lang_detect(x):\n",
    "    results = nlp(x)._.language\n",
    "    return results['language']\n",
    "\n",
    "txt_df['lang'] = txt_df['description'].apply(lambda x: lang_detect(x))\n",
    "txt_df['lang'].unique()"
   ]
  },
  {
   "cell_type": "code",
   "execution_count": 52,
   "id": "9dd3727f-6a84-4055-936d-46f31eccb284",
   "metadata": {
    "tags": []
   },
   "outputs": [],
   "source": [
    "idx = txt_df.loc[txt_df['lang'] == 'it'].index\n",
    "txt_df = txt_df.drop(index = idx)"
   ]
  },
  {
   "cell_type": "markdown",
   "id": "472dfe5c-5a76-4ff3-81eb-8337156bc045",
   "metadata": {},
   "source": [
    "## Preprocessing"
   ]
  },
  {
   "cell_type": "code",
   "execution_count": 53,
   "id": "71b629e0-8929-406f-94f8-331c60def133",
   "metadata": {
    "tags": []
   },
   "outputs": [
    {
     "name": "stderr",
     "output_type": "stream",
     "text": [
      "[nltk_data] Downloading package stopwords to C:\\Users\\Nico\n",
      "[nltk_data]     Janko\\AppData\\Roaming\\nltk_data...\n",
      "[nltk_data]   Package stopwords is already up-to-date!\n",
      "[nltk_data] Downloading package punkt to C:\\Users\\Nico\n",
      "[nltk_data]     Janko\\AppData\\Roaming\\nltk_data...\n",
      "[nltk_data]   Package punkt is already up-to-date!\n",
      "[nltk_data] Downloading package words to C:\\Users\\Nico\n",
      "[nltk_data]     Janko\\AppData\\Roaming\\nltk_data...\n",
      "[nltk_data]   Package words is already up-to-date!\n",
      "[nltk_data] Downloading package wordnet to C:\\Users\\Nico\n",
      "[nltk_data]     Janko\\AppData\\Roaming\\nltk_data...\n",
      "[nltk_data]   Package wordnet is already up-to-date!\n",
      "[nltk_data] Downloading package omw-1.4 to C:\\Users\\Nico\n",
      "[nltk_data]     Janko\\AppData\\Roaming\\nltk_data...\n",
      "[nltk_data]   Package omw-1.4 is already up-to-date!\n"
     ]
    },
    {
     "data": {
      "text/plain": [
       "True"
      ]
     },
     "execution_count": 53,
     "metadata": {},
     "output_type": "execute_result"
    }
   ],
   "source": [
    "import nltk \n",
    "import string\n",
    "nltk.download('stopwords')\n",
    "nltk.download('punkt')\n",
    "nltk.download('words')\n",
    "nltk.download('wordnet')\n",
    "nltk.download('omw-1.4')"
   ]
  },
  {
   "cell_type": "code",
   "execution_count": 54,
   "id": "e90483c0-ff29-49ed-9209-edb7dac1c051",
   "metadata": {
    "tags": []
   },
   "outputs": [],
   "source": [
    "words = set(nltk.corpus.words.words())\n",
    "stopwords = nltk.corpus.stopwords.words('english')\n",
    "lemmatizer = nltk.stem.WordNetLemmatizer()\n",
    "\n",
    "def prepro(x):\n",
    "    prepro_list = []\n",
    "    for sentence in x:\n",
    "        sent_wo_punc = \"\".join([i.lower() for i in sentence if i not in string.punctuation])\n",
    "        sent_wo_num = ''.join([i for i in sent_wo_punc if not i.isdigit()])\n",
    "        sent_token = nltk.tokenize.word_tokenize(sent_wo_num)\n",
    "        sent_token_wo_punc = [i for i in sent_token if i not in string.punctuation]\n",
    "        token_wo_stop = [i for i in sent_token_wo_punc if i not in stopwords]\n",
    "        lem = (lemmatizer.lemmatize(i) for i in token_wo_stop if i not in string.punctuation)\n",
    "        clean = ' '.join(i for i in lem if len(str(i)) > 2)\n",
    "        prepro_list.append(clean)\n",
    "    return prepro_list"
   ]
  },
  {
   "cell_type": "code",
   "execution_count": 55,
   "id": "522ff401-5b7b-453d-8d87-c3035d08d46c",
   "metadata": {
    "tags": []
   },
   "outputs": [],
   "source": [
    "sentence = txt_df['description'].sample()"
   ]
  },
  {
   "cell_type": "code",
   "execution_count": 56,
   "id": "4abe0ef3-80ec-4e6d-a316-70d9f1bb37d9",
   "metadata": {
    "tags": []
   },
   "outputs": [
    {
     "data": {
      "text/plain": [
       "'timewel analog watch woman buy timewel analog watch woman online india flipkart.com great discount genuine product day replacement guarantee free shipping cash delivery'"
      ]
     },
     "execution_count": 56,
     "metadata": {},
     "output_type": "execute_result"
    }
   ],
   "source": [
    "sentence = txt_df['description'].sample()\n",
    "sent_wo_punc = \"\".join([i.lower() for i in sentence if i not in string.punctuation])\n",
    "sent_wo_num = ''.join([i for i in sent_wo_punc if not i.isdigit()])\n",
    "sent_token = nltk.tokenize.word_tokenize(sent_wo_num)\n",
    "sent_token_wo_punc = [i for i in sent_token if i not in string.punctuation]\n",
    "token_wo_stop = [i for i in sent_token_wo_punc if i not in stopwords]\n",
    "lem = (lemmatizer.lemmatize(i) for i in token_wo_stop if i not in string.punctuation)\n",
    "clean = ' '.join(i for i in lem if len(str(i)) > 2)\n",
    "clean"
   ]
  },
  {
   "cell_type": "code",
   "execution_count": 57,
   "id": "96ed4571-c558-443c-90c1-ebfad9f87991",
   "metadata": {
    "tags": []
   },
   "outputs": [
    {
     "data": {
      "image/png": "[encoded data removed]",
      "text/plain": [
       "<Figure size 720x720 with 1 Axes>"
      ]
     },
     "metadata": {
      "needs_background": "light"
     },
     "output_type": "display_data"
    }
   ],
   "source": [
    "txt_df['description_clean'] = prepro(txt_df['description'])\n",
    "txt_df['lenght_clean'] = txt_df['description_clean'].apply(lambda x: len(x))\n",
    "fig, ax = plt.subplots(figsize=(10, 10))\n",
    "sns.boxplot(data = txt_df['lenght_clean'],\n",
    "            ax=ax\n",
    "           )\n",
    "ax.text(0.75,\n",
    "        0.8,\n",
    "        str(txt_df['lenght_clean'].describe()),\n",
    "        transform=ax.transAxes\n",
    "        )\n",
    "plt.show()"
   ]
  },
  {
   "cell_type": "code",
   "execution_count": 58,
   "id": "ccb713fa-90cc-4248-9e87-5043f67deb9f",
   "metadata": {
    "tags": []
   },
   "outputs": [],
   "source": [
    "idx = txt_df.sample().index\n",
    "txt_df = txt_df.drop(index = idx)"
   ]
  },
  {
   "cell_type": "markdown",
   "id": "be433df6-86a4-4d3b-9eb8-14f04fe58f64",
   "metadata": {},
   "source": [
    "## Bag of Words"
   ]
  },
  {
   "cell_type": "code",
   "execution_count": 60,
   "id": "e9ec5649-cd87-45f7-85eb-a869db06a30a",
   "metadata": {
    "tags": []
   },
   "outputs": [],
   "source": [
    "from sklearn.feature_extraction.text import CountVectorizer\n",
    "vectorizer = CountVectorizer(stop_words='english')\n",
    "bag_of_words = vectorizer.fit_transform(txt_df['description_clean'].tolist())"
   ]
  },
  {
   "cell_type": "code",
   "execution_count": 62,
   "id": "581af3ad-f271-4a82-8b7a-dae73f6b3e11",
   "metadata": {
    "tags": []
   },
   "outputs": [
    {
     "name": "stdout",
     "output_type": "stream",
     "text": [
      "The ari scores are 0.07145148201197758 for categorie 0 and 0.14103561158950978 for categorie 1.\n"
     ]
    }
   ],
   "source": [
    "from sklearn import cluster, metrics\n",
    "clus = cluster.KMeans(n_clusters = label_0_unique, random_state = 38)\n",
    "clus1 = cluster.KMeans(n_clusters = label_1_unique, random_state = 38)\n",
    "def ari_score(inputs):\n",
    "    clus.fit(inputs)\n",
    "    clus1.fit(inputs)\n",
    "    ari = metrics.adjusted_rand_score(np.array(txt_df['labels_0']),\n",
    "                                                 np.array(clus.labels_)\n",
    "                                                 )\n",
    "    ari1 = metrics.adjusted_rand_score(np.array(txt_df['labels_1']),\n",
    "                                                 np.array(clus1.labels_)\n",
    "                                                 )\n",
    "    print('The ari scores are {} for categorie 0 and {} for categorie 1.'.format(ari, ari1))\n",
    "ari_score(bag_of_words)"
   ]
  },
  {
   "cell_type": "markdown",
   "id": "67ad03c9-07e5-4f50-b252-7f4b18b6f36e",
   "metadata": {},
   "source": [
    "## Tf-Idf"
   ]
  },
  {
   "cell_type": "code",
   "execution_count": 24,
   "id": "ef9eb59e-0176-4c95-9ed9-975fe7a97b21",
   "metadata": {
    "tags": []
   },
   "outputs": [
    {
     "name": "stdout",
     "output_type": "stream",
     "text": [
      "The ari scores are 0.2695976131987135 for categorie 0 and 0.3809976855005204 for categorie 1.\n"
     ]
    }
   ],
   "source": [
    "from sklearn.feature_extraction.text import TfidfVectorizer\n",
    "tf_idf_vect = TfidfVectorizer(stop_words='english')\n",
    "tf_idf_matrix = tf_idf_vect.fit_transform(txt_df['description_clean'].tolist())\n",
    "clus.fit(tf_idf_matrix)\n",
    "clus1.fit(tf_idf_matrix)\n",
    "ari = metrics.adjusted_rand_score(np.array(txt_df['labels_0']),\n",
    "                                                 np.array(clus.labels_)\n",
    "                                                 )\n",
    "ari1 = metrics.adjusted_rand_score(np.array(txt_df['labels_1']),\n",
    "                                                 np.array(clus1.labels_)\n",
    "                                                 )\n",
    "print('The ari scores are {} for categorie 0 and {} for categorie 1.'.format(ari, ari1))"
   ]
  },
  {
   "cell_type": "markdown",
   "id": "62c6b539-fb4a-4138-bbab-e0391dcb6bc1",
   "metadata": {},
   "source": [
    "### n-gram"
   ]
  },
  {
   "cell_type": "code",
   "execution_count": 25,
   "id": "6d617700-b7ce-4b97-aad2-009835154669",
   "metadata": {
    "tags": []
   },
   "outputs": [
    {
     "name": "stdout",
     "output_type": "stream",
     "text": [
      "The ari scores for the 1-gram are 0.07543578282156842 for categorie 0 and 0.20938262665655935 for categorie 1.\n",
      "The ari scores for the 2-gram are 0.1129453279342453 for categorie 0 and 0.227870086937977 for categorie 1.\n",
      "The ari scores for the 3-gram are 0.08957245767694559 for categorie 0 and 0.14268509278390334 for categorie 1.\n",
      "The ari scores for the 4-gram are 0.17097490491965694 for categorie 0 and 0.11605242885326089 for categorie 1.\n",
      "The ari scores for the 5-gram are 0.15295215425152847 for categorie 0 and 0.11621507502432162 for categorie 1.\n"
     ]
    }
   ],
   "source": [
    "# Bag of words\n",
    "for i in range(1, 6):\n",
    "    vectorizer = CountVectorizer(stop_words='english', ngram_range=(i, i))\n",
    "    bag_of_words = vectorizer.fit_transform(txt_df['description_clean'].tolist())\n",
    "    clus.fit(bag_of_words)\n",
    "    clus1.fit(bag_of_words)\n",
    "    ari = metrics.adjusted_rand_score(np.array(txt_df['labels_0']),\n",
    "                                                 np.array(clus.labels_)\n",
    "                                                 )\n",
    "    ari1 = metrics.adjusted_rand_score(np.array(txt_df['labels_1']),\n",
    "                                                 np.array(clus1.labels_)\n",
    "                                                 )\n",
    "    print('The ari scores for the {}-gram are {} for categorie 0 and {} for categorie 1.'.format(i, ari, ari1))\n"
   ]
  },
  {
   "cell_type": "code",
   "execution_count": 26,
   "id": "25538b04-4d83-409f-a43b-09ade77aeb39",
   "metadata": {
    "tags": []
   },
   "outputs": [
    {
     "name": "stdout",
     "output_type": "stream",
     "text": [
      "The ari scores for the 1-gram are 0.2695976131987135 for categorie 0 and 0.3809976855005204 for categorie 1.\n",
      "The ari scores for the 2-gram are 0.19372352150292302 for categorie 0 and 0.322436781697718 for categorie 1.\n",
      "The ari scores for the 3-gram are 0.23517587190124575 for categorie 0 and 0.23407405624342675 for categorie 1.\n",
      "The ari scores for the 4-gram are 0.15388083462529736 for categorie 0 and 0.22954881677439742 for categorie 1.\n",
      "The ari scores for the 5-gram are 0.16181615435834662 for categorie 0 and 0.1686031826442245 for categorie 1.\n"
     ]
    }
   ],
   "source": [
    "# tf-idf\n",
    "for i in range(1,6):\n",
    "    tf_idf_vect = TfidfVectorizer(stop_words='english', ngram_range=(i, i))\n",
    "    tf_idf_matrix = tf_idf_vect.fit_transform(txt_df['description_clean'].tolist())\n",
    "    clus.fit(tf_idf_matrix)\n",
    "    clus1.fit(tf_idf_matrix)\n",
    "    ari = metrics.adjusted_rand_score(np.array(txt_df['labels_0']),\n",
    "                                                 np.array(clus.labels_)\n",
    "                                                 )\n",
    "    ari1 = metrics.adjusted_rand_score(np.array(txt_df['labels_1']),\n",
    "                                                 np.array(clus1.labels_)\n",
    "                                                 )\n",
    "    print('The ari scores for the {}-gram are {} for categorie 0 and {} for categorie 1.'.format(i, ari, ari1))"
   ]
  },
  {
   "cell_type": "code",
   "execution_count": 27,
   "id": "e49e6985-2acd-41df-aeb5-38bc26033755",
   "metadata": {
    "tags": []
   },
   "outputs": [
    {
     "name": "stdout",
     "output_type": "stream",
     "text": [
      "<class 'pandas.core.frame.DataFrame'>\n",
      "Int64Index: 1008 entries, 0 to 1049\n",
      "Data columns (total 10 columns):\n",
      " #   Column              Non-Null Count  Dtype \n",
      "---  ------              --------------  ----- \n",
      " 0   uniq_id             1008 non-null   object\n",
      " 1   description         1008 non-null   object\n",
      " 2   product_category_0  1008 non-null   object\n",
      " 3   product_category_1  1008 non-null   object\n",
      " 4   lenght              1008 non-null   int64 \n",
      " 5   lang                1008 non-null   object\n",
      " 6   description_clean   1008 non-null   object\n",
      " 7   lenght_clean        1008 non-null   int64 \n",
      " 8   labels_0            1008 non-null   int32 \n",
      " 9   labels_1            1008 non-null   int32 \n",
      "dtypes: int32(2), int64(2), object(6)\n",
      "memory usage: 78.8+ KB\n"
     ]
    }
   ],
   "source": [
    "txt_df.info()"
   ]
  },
  {
   "cell_type": "markdown",
   "id": "712380a0-994c-4294-9300-66a907440b41",
   "metadata": {},
   "source": [
    "## Word2Vec"
   ]
  },
  {
   "cell_type": "code",
   "execution_count": 28,
   "id": "69699740-2937-4b13-945f-480a884e8aeb",
   "metadata": {
    "tags": []
   },
   "outputs": [],
   "source": [
    "txt_df['description_token'] = txt_df['description_clean'].apply(lambda x: nltk.tokenize.word_tokenize(x))"
   ]
  },
  {
   "cell_type": "code",
   "execution_count": 29,
   "id": "c980f75a-8986-4bb5-868b-53f3cf60e66b",
   "metadata": {
    "tags": []
   },
   "outputs": [
    {
     "data": {
      "text/plain": [
       "(1199393, 1719830)"
      ]
     },
     "execution_count": 29,
     "metadata": {},
     "output_type": "execute_result"
    }
   ],
   "source": [
    "from gensim.models import Word2Vec\n",
    "model = Word2Vec(vector_size = 300)\n",
    "model.build_vocab(txt_df['description_token'].tolist())\n",
    "model.train(txt_df['description_token'].tolist(), total_examples=model.corpus_count, epochs=35)"
   ]
  },
  {
   "cell_type": "code",
   "execution_count": 30,
   "id": "b33f5f61-32a6-46d5-ac5b-f97622ead604",
   "metadata": {
    "tags": []
   },
   "outputs": [
    {
     "data": {
      "text/plain": [
       "1008"
      ]
     },
     "execution_count": 30,
     "metadata": {},
     "output_type": "execute_result"
    }
   ],
   "source": [
    "model.corpus_count"
   ]
  },
  {
   "cell_type": "code",
   "execution_count": 31,
   "id": "70179125-d4b8-4b35-922b-939ab3b6028c",
   "metadata": {
    "tags": []
   },
   "outputs": [],
   "source": [
    "vector = model.wv"
   ]
  },
  {
   "cell_type": "code",
   "execution_count": 32,
   "id": "b1f9af17-2021-4dbd-b17b-4aaf720ee438",
   "metadata": {
    "tags": []
   },
   "outputs": [
    {
     "data": {
      "text/plain": [
       "[('vibrantly', 0.8129618167877197),\n",
       " ('smooth', 0.7604848742485046),\n",
       " ('oudh', 0.7465357184410095),\n",
       " ('bathing', 0.7392125725746155),\n",
       " ('arabic', 0.7319154143333435),\n",
       " ('pencil', 0.7271542549133301),\n",
       " ('conditioner', 0.720363974571228),\n",
       " ('infused', 0.7132824659347534),\n",
       " ('lip', 0.7038382887840271),\n",
       " ('shampoo', 0.6975622177124023)]"
      ]
     },
     "execution_count": 32,
     "metadata": {},
     "output_type": "execute_result"
    }
   ],
   "source": [
    "vector.most_similar(\"natural\")"
   ]
  },
  {
   "cell_type": "code",
   "execution_count": 33,
   "id": "73dff19e-748c-485c-adfa-01f82c0425a7",
   "metadata": {
    "tags": []
   },
   "outputs": [
    {
     "data": {
      "text/plain": [
       "[('keyboard', 0.9295527338981628),\n",
       " ('connect', 0.9192733764648438),\n",
       " ('vacuum', 0.9172312617301941),\n",
       " ('cleaner', 0.8817746639251709),\n",
       " ('device', 0.8646655678749084),\n",
       " ('desktop', 0.8591864109039307),\n",
       " ('air', 0.8554844856262207),\n",
       " ('otg', 0.8319423794746399),\n",
       " ('cleaning', 0.830202579498291),\n",
       " ('mobile', 0.8209785223007202)]"
      ]
     },
     "execution_count": 33,
     "metadata": {},
     "output_type": "execute_result"
    }
   ],
   "source": [
    "vector.most_similar('computer')"
   ]
  },
  {
   "cell_type": "code",
   "execution_count": 34,
   "id": "f0e15b3b-1d5f-47cf-ac69-2097754eabf3",
   "metadata": {
    "tags": []
   },
   "outputs": [],
   "source": [
    "def get_mean(vectors, document):\n",
    "    # check if each token is in the vocab (min =5)\n",
    "    doc = [i for i in document if i in vectors.index_to_key]\n",
    "    mean = np.mean(vectors[doc], axis = 0)\n",
    "    return mean"
   ]
  },
  {
   "cell_type": "code",
   "execution_count": 35,
   "id": "2b367baa-2b98-4cb6-9fe5-f3a24e865d31",
   "metadata": {
    "tags": []
   },
   "outputs": [],
   "source": [
    "txt_df['embeded_doc'] = txt_df['description_token'].apply(lambda x: get_mean(vector, x))"
   ]
  },
  {
   "cell_type": "code",
   "execution_count": 36,
   "id": "d7a4bacd-ab8a-4657-822e-f78735f7c0f8",
   "metadata": {
    "tags": []
   },
   "outputs": [
    {
     "name": "stdout",
     "output_type": "stream",
     "text": [
      "The ari scores are 0.25682962185257535 for categorie 0 and 0.4063637504794992 for categorie 1.\n"
     ]
    }
   ],
   "source": [
    "embeded_doc = pd.DataFrame(txt_df['embeded_doc'].tolist())\n",
    "clus.fit(embeded_doc)\n",
    "clus1.fit(embeded_doc)\n",
    "ari = metrics.adjusted_rand_score(np.array(txt_df['labels_0']),\n",
    "                                                 np.array(clus.labels_)\n",
    "                                                 )\n",
    "ari1 = metrics.adjusted_rand_score(np.array(txt_df['labels_1']),\n",
    "                                                 np.array(clus1.labels_)\n",
    "                                                 )\n",
    "print('The ari scores are {} for categorie 0 and {} for categorie 1.'.format(ari, ari1))"
   ]
  },
  {
   "cell_type": "code",
   "execution_count": 37,
   "id": "3ac24100-cb97-4cdd-90d3-822ebe4917ef",
   "metadata": {
    "tags": []
   },
   "outputs": [
    {
     "data": {
      "image/png": "[encoded data removed]",
      "text/plain": [
       "<Figure size 432x288 with 1 Axes>"
      ]
     },
     "metadata": {
      "needs_background": "light"
     },
     "output_type": "display_data"
    }
   ],
   "source": [
    "ari_l = []\n",
    "ari_l1 = []\n",
    "for i in np.arange(5,105,5):\n",
    "    model.train(txt_df['description_token'].tolist(), total_examples=model.corpus_count, epochs=i)\n",
    "    vector = model.wv\n",
    "    temp = txt_df['description_token'].apply(lambda x: get_mean(vector, x))\n",
    "    temp = pd.DataFrame(temp.tolist())\n",
    "    clus.fit(temp)\n",
    "    clus1.fit(temp)\n",
    "    ari_l.append(metrics.adjusted_rand_score(np.array(txt_df['labels_0']),\n",
    "                                                 np.array(clus.labels_)\n",
    "                                                 ))\n",
    "    ari_l1.append(metrics.adjusted_rand_score(np.array(txt_df['labels_1']),\n",
    "                                                 np.array(clus1.labels_)\n",
    "                                                 ))\n",
    "plt.plot(np.arange(5,105,5),ari_l)\n",
    "plt.plot(np.arange(5,105,5),ari_l1)\n",
    "plt.show()    "
   ]
  },
  {
   "cell_type": "markdown",
   "id": "9ac56681-d586-4a75-83ed-48e3d2e07183",
   "metadata": {},
   "source": [
    "### n-gram"
   ]
  },
  {
   "cell_type": "code",
   "execution_count": 38,
   "id": "079fb087-b1a8-413a-9e3f-d1000790c0e0",
   "metadata": {
    "tags": []
   },
   "outputs": [],
   "source": [
    "from gensim.models import phrases"
   ]
  },
  {
   "cell_type": "code",
   "execution_count": 39,
   "id": "6a263c0e-02db-4929-98a5-cd3f141704e8",
   "metadata": {
    "tags": []
   },
   "outputs": [
    {
     "data": {
      "text/plain": [
       "(169221, 245690)"
      ]
     },
     "execution_count": 39,
     "metadata": {},
     "output_type": "execute_result"
    }
   ],
   "source": [
    "bigrams = phrases.Phrases(txt_df['description_token'], threshold=10.0)\n",
    "model2 = Word2Vec(bigrams[txt_df['description_token']], vector_size = 300)\n",
    "model2.train(txt_df['description_token'], total_examples=model2.corpus_count, epochs=model2.epochs)"
   ]
  },
  {
   "cell_type": "code",
   "execution_count": 40,
   "id": "18b7ad40-af35-40a0-ade7-0f8cdb19b036",
   "metadata": {
    "tags": []
   },
   "outputs": [
    {
     "data": {
      "text/plain": [
       "[('apple', 0.9988314509391785),\n",
       " ('right', 0.9986289143562317),\n",
       " ('dvtx', 0.9985470175743103),\n",
       " ('rega', 0.9980234503746033),\n",
       " ('adaptor', 0.997862696647644),\n",
       " ('panel', 0.9978406429290771),\n",
       " ('vacuum', 0.9976813793182373),\n",
       " ('pencil', 0.9971608519554138),\n",
       " ('device', 0.9969457983970642),\n",
       " ('vgncrgl', 0.9968517422676086)]"
      ]
     },
     "execution_count": 40,
     "metadata": {},
     "output_type": "execute_result"
    }
   ],
   "source": [
    "vector2 = model2.wv\n",
    "vector2.most_similar('computer')"
   ]
  },
  {
   "cell_type": "code",
   "execution_count": 41,
   "id": "5bdda3b8-e892-4198-be9b-544f79bb9ab5",
   "metadata": {
    "tags": []
   },
   "outputs": [
    {
     "name": "stdout",
     "output_type": "stream",
     "text": [
      "The ari scores are 0.25654068038880784 for categorie 0 and 0.20492400085552537 for categorie 1.\n"
     ]
    }
   ],
   "source": [
    "temp = txt_df['description_token'].apply(lambda x: get_mean(vector2, x))\n",
    "temp = pd.DataFrame(temp.tolist())\n",
    "clus.fit(temp)\n",
    "clus1.fit(temp)\n",
    "ari = metrics.adjusted_rand_score(np.array(txt_df['labels_0']),\n",
    "                                                 np.array(clus.labels_)\n",
    "                                                 )\n",
    "ari1 = metrics.adjusted_rand_score(np.array(txt_df['labels_1']),\n",
    "                                                 np.array(clus1.labels_)\n",
    "                                                 )\n",
    "print('The ari scores are {} for categorie 0 and {} for categorie 1.'.format(ari, ari1))"
   ]
  },
  {
   "cell_type": "code",
   "execution_count": 42,
   "id": "c7b6390a-4958-4634-b477-28a30d0f9e69",
   "metadata": {
    "tags": []
   },
   "outputs": [
    {
     "data": {
      "text/plain": [
       "0.7905824039653035"
      ]
     },
     "execution_count": 42,
     "metadata": {},
     "output_type": "execute_result"
    }
   ],
   "source": [
    "# test with a classifier \n",
    "import xgboost as xgb\n",
    "from sklearn.model_selection import train_test_split, GridSearchCV\n",
    "\n",
    "xgb_class = xgb.XGBClassifier()\n",
    "class_df = pd.DataFrame({'mean_wv': txt_df['description_token'].apply(lambda x: get_mean(vector2, x))})\n",
    "class_df = pd.DataFrame(class_df['mean_wv'].tolist())\n",
    "xtrain, xtest, ytrain, ytest = train_test_split(class_df, txt_df['labels_0'], test_size = 0.8, stratify = txt_df['labels_0'])\n",
    "\n",
    "xgb_class.fit(xtrain, ytrain)\n",
    "xgb_class.score(xtest, ytest)"
   ]
  },
  {
   "cell_type": "code",
   "execution_count": 43,
   "id": "66372aa5-a21f-4eef-adb0-8ce07c999f4e",
   "metadata": {
    "tags": []
   },
   "outputs": [
    {
     "data": {
      "image/png": "[encoded data removed]",
      "text/plain": [
       "<Figure size 432x288 with 1 Axes>"
      ]
     },
     "metadata": {
      "needs_background": "light"
     },
     "output_type": "display_data"
    }
   ],
   "source": [
    "ari_l = []\n",
    "ari_l1 = []\n",
    "for i in np.arange(5,125,5):\n",
    "    model2.train(txt_df['description_token'].tolist(), total_examples=model2.corpus_count, epochs=i)\n",
    "    vector2 = model2.wv\n",
    "    temp = txt_df['description_token'].apply(lambda x: get_mean(vector2, x))\n",
    "    temp = pd.DataFrame(temp.tolist())\n",
    "    clus.fit(temp)\n",
    "    clus1.fit(temp)\n",
    "    ari_l.append(metrics.adjusted_rand_score(np.array(txt_df['labels_0']),\n",
    "                                                 np.array(clus.labels_)\n",
    "                                                 ))\n",
    "    ari_l1.append(metrics.adjusted_rand_score(np.array(txt_df['labels_1']),\n",
    "                                                 np.array(clus1.labels_)\n",
    "                                                 ))\n",
    "plt.plot(np.arange(5,125,5),ari_l)\n",
    "plt.plot(np.arange(5,125,5),ari_l1)\n",
    "plt.show()   "
   ]
  },
  {
   "cell_type": "code",
   "execution_count": 44,
   "id": "516cf86b-aa0f-41da-a30f-8e47fecfdbfc",
   "metadata": {
    "tags": []
   },
   "outputs": [
    {
     "data": {
      "image/png": "[encoded data removed]",
      "text/plain": [
       "<Figure size 432x288 with 1 Axes>"
      ]
     },
     "metadata": {
      "needs_background": "light"
     },
     "output_type": "display_data"
    }
   ],
   "source": [
    "# test with skipgram instead of cbow\n",
    "model3 = Word2Vec(vector_size = 300,sg =1)\n",
    "model3.build_vocab(txt_df['description_token'].tolist())\n",
    "ari_l = []\n",
    "ari_l1 = []\n",
    "for i in np.arange(5,55,5):\n",
    "    model3.train(txt_df['description_token'].tolist(), total_examples=model2.corpus_count, epochs=i)\n",
    "    vector3 = model2.wv\n",
    "    temp = txt_df['description_token'].apply(lambda x: get_mean(vector3, x))\n",
    "    temp = pd.DataFrame(temp.tolist())\n",
    "    clus.fit(temp)\n",
    "    clus1.fit(temp)\n",
    "    ari_l.append(metrics.adjusted_rand_score(np.array(txt_df['labels_0']),\n",
    "                                                 np.array(clus.labels_)\n",
    "                                                 ))\n",
    "    ari_l1.append(metrics.adjusted_rand_score(np.array(txt_df['labels_1']),\n",
    "                                                 np.array(clus1.labels_)\n",
    "                                                 ))\n",
    "plt.plot(np.arange(5,55,5),ari_l)\n",
    "plt.plot(np.arange(5,55,5),ari_l1)\n",
    "plt.show()"
   ]
  },
  {
   "cell_type": "code",
   "execution_count": 45,
   "id": "a37c421b-a2a4-459a-b53d-152ee3f6d7d5",
   "metadata": {
    "tags": []
   },
   "outputs": [],
   "source": [
    "from gensim.models.doc2vec import Doc2Vec, TaggedDocument"
   ]
  },
  {
   "cell_type": "code",
   "execution_count": 46,
   "id": "9bfa74d9-497e-4937-b285-5eb0ccc8eb4d",
   "metadata": {
    "tags": []
   },
   "outputs": [
    {
     "data": {
      "image/png": "[encoded data removed]",
      "text/plain": [
       "<Figure size 432x288 with 1 Axes>"
      ]
     },
     "metadata": {
      "needs_background": "light"
     },
     "output_type": "display_data"
    }
   ],
   "source": [
    "\n",
    "tagged_txt = [TaggedDocument(d, [i]) for i, d in enumerate(txt_df['description_token'].tolist())]\n",
    "ari_l = []\n",
    "ari_l1 = []\n",
    "for i in np.arange(5,105,5):\n",
    "    model4 = Doc2Vec(tagged_txt, epochs = i, vector_size = 300)\n",
    "    temp = txt_df['description_token'].apply(lambda x: model4.infer_vector(x))\n",
    "    temp = pd.DataFrame(temp.tolist())\n",
    "    clus.fit(temp)\n",
    "    clus1.fit(temp)\n",
    "    ari_l.append(metrics.adjusted_rand_score(np.array(txt_df['labels_0']),\n",
    "                                                 np.array(clus.labels_)\n",
    "                                                 ))\n",
    "    ari_l1.append(metrics.adjusted_rand_score(np.array(txt_df['labels_1']),\n",
    "                                                 np.array(clus1.labels_)\n",
    "                                                 ))\n",
    "plt.plot(np.arange(5,105,5),ari_l)\n",
    "plt.plot(np.arange(5,105,5),ari_l1)\n",
    "plt.show()   "
   ]
  },
  {
   "cell_type": "markdown",
   "id": "4fbc0afa-d606-49a2-974a-1f98fc46d8fa",
   "metadata": {},
   "source": [
    "## BERT"
   ]
  },
  {
   "cell_type": "code",
   "execution_count": 47,
   "id": "37bb1f64-2fd2-48b0-a142-1d3062464c50",
   "metadata": {
    "tags": []
   },
   "outputs": [],
   "source": [
    "import tensorflow as tf\n",
    "import tensorflow_hub as hub\n",
    "import tensorflow_text as text"
   ]
  },
  {
   "cell_type": "code",
   "execution_count": 48,
   "id": "23be3670-70ca-4d37-95e7-88d1863177db",
   "metadata": {
    "tags": []
   },
   "outputs": [
    {
     "name": "stdout",
     "output_type": "stream",
     "text": [
      "WARNING:tensorflow:Please fix your imports. Module tensorflow.python.training.tracking.data_structures has been moved to tensorflow.python.trackable.data_structures. The old module will be deleted in version 2.11.\n"
     ]
    }
   ],
   "source": [
    "bert_preprocess = hub.KerasLayer(\"https://tfhub.dev/tensorflow/bert_en_uncased_preprocess/3\")\n",
    "bert_encoder = hub.KerasLayer(\"https://tfhub.dev/tensorflow/bert_en_uncased_L-12_H-768_A-12/4\")"
   ]
  },
  {
   "cell_type": "code",
   "execution_count": 49,
   "id": "8034056c-e93e-4197-8862-2f1bad39c678",
   "metadata": {
    "tags": []
   },
   "outputs": [],
   "source": [
    "text_input = tf.keras.layers.Input(shape=(), dtype=tf.string, name='text')\n",
    "preprocessed_text = bert_preprocess(text_input)\n",
    "outputs = bert_encoder(preprocessed_text)"
   ]
  },
  {
   "cell_type": "code",
   "execution_count": 50,
   "id": "decf457e-5d1e-4f47-85a0-3056bc6fc47e",
   "metadata": {
    "tags": []
   },
   "outputs": [
    {
     "name": "stderr",
     "output_type": "stream",
     "text": [
      "C:\\Users\\Nico Janko\\Documents\\Data_Science\\Anaconda\\lib\\site-packages\\transformers\\generation_tf_utils.py:24: FutureWarning: Importing `TFGenerationMixin` from `src/transformers/generation_tf_utils.py` is deprecated and will be removed in Transformers v5. Import as `from transformers import TFGenerationMixin` instead.\n",
      "  warnings.warn(\n"
     ]
    }
   ],
   "source": [
    "from tensorflow.keras.preprocessing.text import Tokenizer\n",
    "from tensorflow.keras.preprocessing.sequence import pad_sequences\n",
    "from tensorflow.keras import metrics as kmetrics\n",
    "from tensorflow.keras.layers import *\n",
    "from tensorflow.keras.models import Model\n",
    "import transformers \n",
    "from transformers import *"
   ]
  },
  {
   "cell_type": "code",
   "execution_count": 51,
   "id": "818118fa-3266-4f3d-953a-24650e74834b",
   "metadata": {
    "tags": []
   },
   "outputs": [],
   "source": [
    "# Hugging Face\n",
    "def bert_inp_fct(sentences, bert_tokenizer, max_length) :\n",
    "    input_ids=[]\n",
    "    token_type_ids = []\n",
    "    attention_mask=[]\n",
    "    bert_inp_tot = []\n",
    "\n",
    "    for sent in sentences:\n",
    "        bert_inp = bert_tokenizer.encode_plus(sent,\n",
    "                                              add_special_tokens = True,\n",
    "                                              max_length = max_length,\n",
    "                                              padding='max_length',\n",
    "                                              return_attention_mask = True, \n",
    "                                              return_token_type_ids=True,\n",
    "                                              truncation=True,\n",
    "                                              return_tensors=\"tf\")\n",
    "    \n",
    "        input_ids.append(bert_inp['input_ids'][0])\n",
    "        token_type_ids.append(bert_inp['token_type_ids'][0])\n",
    "        attention_mask.append(bert_inp['attention_mask'][0])\n",
    "        bert_inp_tot.append((bert_inp['input_ids'][0], \n",
    "                             bert_inp['token_type_ids'][0], \n",
    "                             bert_inp['attention_mask'][0]))\n",
    "\n",
    "    input_ids = np.asarray(input_ids)\n",
    "    token_type_ids = np.asarray(token_type_ids)\n",
    "    attention_mask = np.array(attention_mask)\n",
    "    \n",
    "    return input_ids, token_type_ids, attention_mask, bert_inp_tot\n",
    "    \n",
    "\n",
    "# Fonction de création des features\n",
    "def feature_BERT_fct(model, model_type, sentences, max_length, b_size, mode='HF') :\n",
    "    batch_size = b_size\n",
    "    batch_size_pred = b_size\n",
    "    bert_tokenizer = AutoTokenizer.from_pretrained(model_type)\n",
    "\n",
    "    for step in range(len(sentences)//batch_size) :\n",
    "        idx = step*batch_size\n",
    "        input_ids, token_type_ids, attention_mask, bert_inp_tot = bert_inp_fct(sentences[idx:idx+batch_size], \n",
    "                                                                      bert_tokenizer, max_length)\n",
    "        \n",
    "        if mode=='HF' :    # Bert HuggingFace\n",
    "            outputs = model.predict([input_ids, attention_mask, token_type_ids], batch_size=batch_size_pred)\n",
    "            last_hidden_states = outputs.last_hidden_state\n",
    "\n",
    "        if mode=='TFhub' : # Bert Tensorflow Hub\n",
    "            text_preprocessed = {\"input_word_ids\" : input_ids, \n",
    "                                 \"input_mask\" : attention_mask, \n",
    "                                 \"input_type_ids\" : token_type_ids}\n",
    "            outputs = model(text_preprocessed)\n",
    "            last_hidden_states = outputs['sequence_output']\n",
    "        if mode=='Fine_Tune':\n",
    "            outputs = model.predict([input_ids, attention_mask, token_type_ids], batch_size=batch_size_pred)\n",
    "            last_hidden_states = outputs.hidden_states[-1]\n",
    "             \n",
    "        if step ==0 :\n",
    "            last_hidden_states_tot = last_hidden_states\n",
    "            last_hidden_states_tot_0 = last_hidden_states\n",
    "        else :\n",
    "            last_hidden_states_tot = np.concatenate((last_hidden_states_tot,last_hidden_states))\n",
    "    \n",
    "    features_bert = np.array(last_hidden_states_tot).mean(axis=1)\n",
    "    \n",
    "     \n",
    "    return features_bert, last_hidden_states_tot"
   ]
  },
  {
   "cell_type": "code",
   "execution_count": 52,
   "id": "2d924b11-86bd-4de4-aac5-352c2460fc50",
   "metadata": {
    "tags": []
   },
   "outputs": [
    {
     "data": {
      "text/plain": [
       "1008"
      ]
     },
     "execution_count": 52,
     "metadata": {},
     "output_type": "execute_result"
    }
   ],
   "source": [
    "len(txt_df['description_clean'].tolist())"
   ]
  },
  {
   "cell_type": "code",
   "execution_count": 53,
   "id": "cd159d80-aa3e-41e6-9728-450844e28b60",
   "metadata": {
    "tags": []
   },
   "outputs": [
    {
     "data": {
      "application/vnd.jupyter.widget-view+json": {
       "model_id": "f94d5d9e5def4204b7128b4295d12ff9",
       "version_major": 2,
       "version_minor": 0
      },
      "text/plain": [
       "Downloading:   0%|          | 0.00/570 [00:00<?, ?B/s]"
      ]
     },
     "metadata": {},
     "output_type": "display_data"
    },
    {
     "name": "stderr",
     "output_type": "stream",
     "text": [
      "loading configuration file config.json from cache at C:\\Users\\Nico Janko/.cache\\huggingface\\hub\\models--bert-base-uncased\\snapshots\\0a6aa9128b6194f4f3c4db429b6cb4891cdb421b\\config.json\n",
      "Model config BertConfig {\n",
      "  \"_name_or_path\": \"bert-base-uncased\",\n",
      "  \"architectures\": [\n",
      "    \"BertForMaskedLM\"\n",
      "  ],\n",
      "  \"attention_probs_dropout_prob\": 0.1,\n",
      "  \"classifier_dropout\": null,\n",
      "  \"gradient_checkpointing\": false,\n",
      "  \"hidden_act\": \"gelu\",\n",
      "  \"hidden_dropout_prob\": 0.1,\n",
      "  \"hidden_size\": 768,\n",
      "  \"initializer_range\": 0.02,\n",
      "  \"intermediate_size\": 3072,\n",
      "  \"layer_norm_eps\": 1e-12,\n",
      "  \"max_position_embeddings\": 512,\n",
      "  \"model_type\": \"bert\",\n",
      "  \"num_attention_heads\": 12,\n",
      "  \"num_hidden_layers\": 12,\n",
      "  \"pad_token_id\": 0,\n",
      "  \"position_embedding_type\": \"absolute\",\n",
      "  \"transformers_version\": \"4.25.1\",\n",
      "  \"type_vocab_size\": 2,\n",
      "  \"use_cache\": true,\n",
      "  \"vocab_size\": 30522\n",
      "}\n",
      "\n"
     ]
    },
    {
     "data": {
      "application/vnd.jupyter.widget-view+json": {
       "model_id": "c99b610cc86e4c68a038fa57fdb11580",
       "version_major": 2,
       "version_minor": 0
      },
      "text/plain": [
       "Downloading:   0%|          | 0.00/536M [00:00<?, ?B/s]"
      ]
     },
     "metadata": {},
     "output_type": "display_data"
    },
    {
     "name": "stderr",
     "output_type": "stream",
     "text": [
      "loading weights file tf_model.h5 from cache at C:\\Users\\Nico Janko/.cache\\huggingface\\hub\\models--bert-base-uncased\\snapshots\\0a6aa9128b6194f4f3c4db429b6cb4891cdb421b\\tf_model.h5\n",
      "Some layers from the model checkpoint at bert-base-uncased were not used when initializing TFBertModel: ['mlm___cls', 'nsp___cls']\n",
      "- This IS expected if you are initializing TFBertModel from the checkpoint of a model trained on another task or with another architecture (e.g. initializing a BertForSequenceClassification model from a BertForPreTraining model).\n",
      "- This IS NOT expected if you are initializing TFBertModel from the checkpoint of a model that you expect to be exactly identical (initializing a BertForSequenceClassification model from a BertForSequenceClassification model).\n",
      "All the layers of TFBertModel were initialized from the model checkpoint at bert-base-uncased.\n",
      "If your task is similar to the task the model of the checkpoint was trained on, you can already use TFBertModel for predictions without further training.\n"
     ]
    }
   ],
   "source": [
    "max_length = 68\n",
    "batch_size = 8\n",
    "model_type = 'bert-base-uncased'\n",
    "model = TFAutoModel.from_pretrained(model_type)\n",
    "sentences = txt_df['description_clean'].tolist()"
   ]
  },
  {
   "cell_type": "code",
   "execution_count": 54,
   "id": "ee09e677-a687-41fb-af1c-2f47ded8e6c6",
   "metadata": {
    "tags": []
   },
   "outputs": [
    {
     "data": {
      "application/vnd.jupyter.widget-view+json": {
       "model_id": "d17979456520400b86c302ebefaf65e5",
       "version_major": 2,
       "version_minor": 0
      },
      "text/plain": [
       "Downloading:   0%|          | 0.00/28.0 [00:00<?, ?B/s]"
      ]
     },
     "metadata": {},
     "output_type": "display_data"
    },
    {
     "name": "stderr",
     "output_type": "stream",
     "text": [
      "loading configuration file config.json from cache at C:\\Users\\Nico Janko/.cache\\huggingface\\hub\\models--bert-base-uncased\\snapshots\\0a6aa9128b6194f4f3c4db429b6cb4891cdb421b\\config.json\n",
      "Model config BertConfig {\n",
      "  \"_name_or_path\": \"bert-base-uncased\",\n",
      "  \"architectures\": [\n",
      "    \"BertForMaskedLM\"\n",
      "  ],\n",
      "  \"attention_probs_dropout_prob\": 0.1,\n",
      "  \"classifier_dropout\": null,\n",
      "  \"gradient_checkpointing\": false,\n",
      "  \"hidden_act\": \"gelu\",\n",
      "  \"hidden_dropout_prob\": 0.1,\n",
      "  \"hidden_size\": 768,\n",
      "  \"initializer_range\": 0.02,\n",
      "  \"intermediate_size\": 3072,\n",
      "  \"layer_norm_eps\": 1e-12,\n",
      "  \"max_position_embeddings\": 512,\n",
      "  \"model_type\": \"bert\",\n",
      "  \"num_attention_heads\": 12,\n",
      "  \"num_hidden_layers\": 12,\n",
      "  \"pad_token_id\": 0,\n",
      "  \"position_embedding_type\": \"absolute\",\n",
      "  \"transformers_version\": \"4.25.1\",\n",
      "  \"type_vocab_size\": 2,\n",
      "  \"use_cache\": true,\n",
      "  \"vocab_size\": 30522\n",
      "}\n",
      "\n"
     ]
    },
    {
     "data": {
      "application/vnd.jupyter.widget-view+json": {
       "model_id": "acf1ed9db058490888356a32cd97ae04",
       "version_major": 2,
       "version_minor": 0
      },
      "text/plain": [
       "Downloading:   0%|          | 0.00/232k [00:00<?, ?B/s]"
      ]
     },
     "metadata": {},
     "output_type": "display_data"
    },
    {
     "data": {
      "application/vnd.jupyter.widget-view+json": {
       "model_id": "db208c61cde94a08b90777b4a12d0418",
       "version_major": 2,
       "version_minor": 0
      },
      "text/plain": [
       "Downloading:   0%|          | 0.00/466k [00:00<?, ?B/s]"
      ]
     },
     "metadata": {},
     "output_type": "display_data"
    },
    {
     "name": "stderr",
     "output_type": "stream",
     "text": [
      "loading file vocab.txt from cache at C:\\Users\\Nico Janko/.cache\\huggingface\\hub\\models--bert-base-uncased\\snapshots\\0a6aa9128b6194f4f3c4db429b6cb4891cdb421b\\vocab.txt\n",
      "loading file tokenizer.json from cache at C:\\Users\\Nico Janko/.cache\\huggingface\\hub\\models--bert-base-uncased\\snapshots\\0a6aa9128b6194f4f3c4db429b6cb4891cdb421b\\tokenizer.json\n",
      "loading file added_tokens.json from cache at None\n",
      "loading file special_tokens_map.json from cache at None\n",
      "loading file tokenizer_config.json from cache at C:\\Users\\Nico Janko/.cache\\huggingface\\hub\\models--bert-base-uncased\\snapshots\\0a6aa9128b6194f4f3c4db429b6cb4891cdb421b\\tokenizer_config.json\n",
      "loading configuration file config.json from cache at C:\\Users\\Nico Janko/.cache\\huggingface\\hub\\models--bert-base-uncased\\snapshots\\0a6aa9128b6194f4f3c4db429b6cb4891cdb421b\\config.json\n",
      "Model config BertConfig {\n",
      "  \"_name_or_path\": \"bert-base-uncased\",\n",
      "  \"architectures\": [\n",
      "    \"BertForMaskedLM\"\n",
      "  ],\n",
      "  \"attention_probs_dropout_prob\": 0.1,\n",
      "  \"classifier_dropout\": null,\n",
      "  \"gradient_checkpointing\": false,\n",
      "  \"hidden_act\": \"gelu\",\n",
      "  \"hidden_dropout_prob\": 0.1,\n",
      "  \"hidden_size\": 768,\n",
      "  \"initializer_range\": 0.02,\n",
      "  \"intermediate_size\": 3072,\n",
      "  \"layer_norm_eps\": 1e-12,\n",
      "  \"max_position_embeddings\": 512,\n",
      "  \"model_type\": \"bert\",\n",
      "  \"num_attention_heads\": 12,\n",
      "  \"num_hidden_layers\": 12,\n",
      "  \"pad_token_id\": 0,\n",
      "  \"position_embedding_type\": \"absolute\",\n",
      "  \"transformers_version\": \"4.25.1\",\n",
      "  \"type_vocab_size\": 2,\n",
      "  \"use_cache\": true,\n",
      "  \"vocab_size\": 30522\n",
      "}\n",
      "\n"
     ]
    },
    {
     "name": "stdout",
     "output_type": "stream",
     "text": [
      "1/1 [==============================] - 11s 11s/step\n",
      "1/1 [==============================] - 1s 1s/step\n",
      "1/1 [==============================] - 1s 1s/step\n",
      "1/1 [==============================] - 1s 1s/step\n",
      "1/1 [==============================] - 1s 1s/step\n",
      "1/1 [==============================] - 1s 1s/step\n",
      "1/1 [==============================] - 1s 1s/step\n",
      "1/1 [==============================] - 1s 1s/step\n",
      "1/1 [==============================] - 1s 1s/step\n",
      "1/1 [==============================] - 1s 1s/step\n",
      "1/1 [==============================] - 1s 1s/step\n",
      "1/1 [==============================] - 1s 1s/step\n",
      "1/1 [==============================] - 1s 1s/step\n",
      "1/1 [==============================] - 1s 1s/step\n",
      "1/1 [==============================] - 1s 1s/step\n",
      "1/1 [==============================] - 1s 1s/step\n",
      "1/1 [==============================] - 1s 1s/step\n",
      "1/1 [==============================] - 1s 1s/step\n",
      "1/1 [==============================] - 1s 1s/step\n",
      "1/1 [==============================] - 1s 1s/step\n",
      "1/1 [==============================] - 1s 1s/step\n",
      "1/1 [==============================] - 1s 1s/step\n",
      "1/1 [==============================] - 1s 1s/step\n",
      "1/1 [==============================] - 1s 1s/step\n",
      "1/1 [==============================] - 1s 1s/step\n",
      "1/1 [==============================] - 1s 1s/step\n",
      "1/1 [==============================] - 1s 1s/step\n",
      "1/1 [==============================] - 1s 1s/step\n",
      "1/1 [==============================] - 1s 1s/step\n",
      "1/1 [==============================] - 1s 1s/step\n",
      "1/1 [==============================] - 1s 1s/step\n",
      "1/1 [==============================] - 1s 1s/step\n",
      "1/1 [==============================] - 1s 1s/step\n",
      "1/1 [==============================] - 1s 1s/step\n",
      "1/1 [==============================] - 1s 1s/step\n",
      "1/1 [==============================] - 1s 1s/step\n",
      "1/1 [==============================] - 1s 1s/step\n",
      "1/1 [==============================] - 1s 1s/step\n",
      "1/1 [==============================] - 1s 1s/step\n",
      "1/1 [==============================] - 1s 1s/step\n",
      "1/1 [==============================] - 1s 1s/step\n",
      "1/1 [==============================] - 1s 1s/step\n",
      "1/1 [==============================] - 1s 1s/step\n",
      "1/1 [==============================] - 1s 1s/step\n",
      "1/1 [==============================] - 1s 1s/step\n",
      "1/1 [==============================] - 1s 1s/step\n",
      "1/1 [==============================] - 1s 1s/step\n",
      "1/1 [==============================] - 1s 1s/step\n",
      "1/1 [==============================] - 1s 1s/step\n",
      "1/1 [==============================] - 1s 1s/step\n",
      "1/1 [==============================] - 1s 1s/step\n",
      "1/1 [==============================] - 1s 1s/step\n",
      "1/1 [==============================] - 1s 1s/step\n",
      "1/1 [==============================] - 1s 1s/step\n",
      "1/1 [==============================] - 1s 1s/step\n",
      "1/1 [==============================] - 1s 1s/step\n",
      "1/1 [==============================] - 1s 1s/step\n",
      "1/1 [==============================] - 1s 1s/step\n",
      "1/1 [==============================] - 1s 1s/step\n",
      "1/1 [==============================] - 1s 1s/step\n",
      "1/1 [==============================] - 1s 1s/step\n",
      "1/1 [==============================] - 1s 1s/step\n",
      "1/1 [==============================] - 1s 1s/step\n",
      "1/1 [==============================] - 1s 1s/step\n",
      "1/1 [==============================] - 1s 1s/step\n",
      "1/1 [==============================] - 1s 1s/step\n",
      "1/1 [==============================] - 2s 2s/step\n",
      "1/1 [==============================] - 1s 1s/step\n",
      "1/1 [==============================] - 1s 1s/step\n",
      "1/1 [==============================] - 2s 2s/step\n",
      "1/1 [==============================] - 1s 1s/step\n",
      "1/1 [==============================] - 1s 1s/step\n",
      "1/1 [==============================] - 1s 1s/step\n",
      "1/1 [==============================] - 1s 1s/step\n",
      "1/1 [==============================] - 1s 1s/step\n",
      "1/1 [==============================] - 1s 1s/step\n",
      "1/1 [==============================] - 1s 1s/step\n",
      "1/1 [==============================] - 1s 1s/step\n",
      "1/1 [==============================] - 1s 1s/step\n",
      "1/1 [==============================] - 2s 2s/step\n",
      "1/1 [==============================] - 1s 1s/step\n",
      "1/1 [==============================] - 1s 1s/step\n",
      "1/1 [==============================] - 1s 1s/step\n",
      "1/1 [==============================] - 2s 2s/step\n",
      "1/1 [==============================] - 2s 2s/step\n",
      "1/1 [==============================] - 1s 1s/step\n",
      "1/1 [==============================] - 1s 1s/step\n",
      "1/1 [==============================] - 1s 1s/step\n",
      "1/1 [==============================] - 1s 1s/step\n",
      "1/1 [==============================] - 1s 1s/step\n",
      "1/1 [==============================] - 1s 1s/step\n",
      "1/1 [==============================] - 1s 1s/step\n",
      "1/1 [==============================] - 1s 1s/step\n",
      "1/1 [==============================] - 1s 1s/step\n",
      "1/1 [==============================] - 1s 1s/step\n",
      "1/1 [==============================] - 1s 1s/step\n",
      "1/1 [==============================] - 1s 1s/step\n",
      "1/1 [==============================] - 1s 1s/step\n",
      "1/1 [==============================] - 1s 1s/step\n",
      "1/1 [==============================] - 1s 1s/step\n",
      "1/1 [==============================] - 1s 1s/step\n",
      "1/1 [==============================] - 1s 1s/step\n",
      "1/1 [==============================] - 1s 1s/step\n",
      "1/1 [==============================] - 1s 1s/step\n",
      "1/1 [==============================] - 1s 1s/step\n",
      "1/1 [==============================] - 1s 1s/step\n",
      "1/1 [==============================] - 1s 1s/step\n",
      "1/1 [==============================] - 1s 1s/step\n",
      "1/1 [==============================] - 1s 1s/step\n",
      "1/1 [==============================] - 1s 1s/step\n",
      "1/1 [==============================] - 1s 1s/step\n",
      "1/1 [==============================] - 1s 1s/step\n",
      "1/1 [==============================] - 1s 1s/step\n",
      "1/1 [==============================] - 1s 1s/step\n",
      "1/1 [==============================] - 1s 1s/step\n",
      "1/1 [==============================] - 1s 1s/step\n",
      "1/1 [==============================] - 1s 1s/step\n",
      "1/1 [==============================] - 1s 1s/step\n",
      "1/1 [==============================] - 1s 1s/step\n",
      "1/1 [==============================] - 1s 1s/step\n",
      "1/1 [==============================] - 1s 1s/step\n",
      "1/1 [==============================] - 1s 1s/step\n",
      "1/1 [==============================] - 1s 1s/step\n",
      "1/1 [==============================] - 1s 1s/step\n",
      "1/1 [==============================] - 1s 1s/step\n",
      "1/1 [==============================] - 1s 1s/step\n"
     ]
    }
   ],
   "source": [
    "# Création des features\n",
    "\n",
    "features_bert, last_hidden_states_tot = feature_BERT_fct(model, model_type, sentences, \n",
    "                                                         max_length, batch_size, mode='HF')"
   ]
  },
  {
   "cell_type": "code",
   "execution_count": 55,
   "id": "97ab6b51-0114-4514-80b3-ee253fa6331a",
   "metadata": {
    "tags": []
   },
   "outputs": [
    {
     "data": {
      "text/plain": [
       "(1008, 768)"
      ]
     },
     "execution_count": 55,
     "metadata": {},
     "output_type": "execute_result"
    }
   ],
   "source": [
    "features_bert.shape"
   ]
  },
  {
   "cell_type": "code",
   "execution_count": 56,
   "id": "8306e55e-c6bc-41a5-93c6-1dcccd03ecd8",
   "metadata": {
    "tags": []
   },
   "outputs": [
    {
     "name": "stdout",
     "output_type": "stream",
     "text": [
      "The ari scores are 0.2950530762784083 for categorie 0 and 0.3844295022092298 for categorie 1.\n"
     ]
    }
   ],
   "source": [
    "clus.fit(features_bert)\n",
    "clus1.fit(features_bert)\n",
    "ari = metrics.adjusted_rand_score(np.array(txt_df['labels_0']),\n",
    "                                                 np.array(clus.labels_)\n",
    "                                                 )\n",
    "ari1 = metrics.adjusted_rand_score(np.array(txt_df['labels_1']),\n",
    "                                                 np.array(clus1.labels_)\n",
    "                                                 )\n",
    "print('The ari scores are {} for categorie 0 and {} for categorie 1.'.format(ari, ari1))"
   ]
  },
  {
   "cell_type": "code",
   "execution_count": 57,
   "id": "07633a77-6bf9-4c4c-b558-da44e8dd4fcf",
   "metadata": {
    "tags": []
   },
   "outputs": [],
   "source": [
    "model_url = 'https://tfhub.dev/tensorflow/bert_en_uncased_L-12_H-768_A-12/4'\n",
    "bert_layer = hub.KerasLayer(model_url, trainable=True)"
   ]
  },
  {
   "cell_type": "code",
   "execution_count": 58,
   "id": "e7f7f1bd-1e91-44fc-9106-9d23cb90a304",
   "metadata": {
    "tags": []
   },
   "outputs": [
    {
     "name": "stderr",
     "output_type": "stream",
     "text": [
      "loading configuration file config.json from cache at C:\\Users\\Nico Janko/.cache\\huggingface\\hub\\models--bert-base-uncased\\snapshots\\0a6aa9128b6194f4f3c4db429b6cb4891cdb421b\\config.json\n",
      "Model config BertConfig {\n",
      "  \"_name_or_path\": \"bert-base-uncased\",\n",
      "  \"architectures\": [\n",
      "    \"BertForMaskedLM\"\n",
      "  ],\n",
      "  \"attention_probs_dropout_prob\": 0.1,\n",
      "  \"classifier_dropout\": null,\n",
      "  \"gradient_checkpointing\": false,\n",
      "  \"hidden_act\": \"gelu\",\n",
      "  \"hidden_dropout_prob\": 0.1,\n",
      "  \"hidden_size\": 768,\n",
      "  \"initializer_range\": 0.02,\n",
      "  \"intermediate_size\": 3072,\n",
      "  \"layer_norm_eps\": 1e-12,\n",
      "  \"max_position_embeddings\": 512,\n",
      "  \"model_type\": \"bert\",\n",
      "  \"num_attention_heads\": 12,\n",
      "  \"num_hidden_layers\": 12,\n",
      "  \"pad_token_id\": 0,\n",
      "  \"position_embedding_type\": \"absolute\",\n",
      "  \"transformers_version\": \"4.25.1\",\n",
      "  \"type_vocab_size\": 2,\n",
      "  \"use_cache\": true,\n",
      "  \"vocab_size\": 30522\n",
      "}\n",
      "\n",
      "loading file vocab.txt from cache at C:\\Users\\Nico Janko/.cache\\huggingface\\hub\\models--bert-base-uncased\\snapshots\\0a6aa9128b6194f4f3c4db429b6cb4891cdb421b\\vocab.txt\n",
      "loading file tokenizer.json from cache at C:\\Users\\Nico Janko/.cache\\huggingface\\hub\\models--bert-base-uncased\\snapshots\\0a6aa9128b6194f4f3c4db429b6cb4891cdb421b\\tokenizer.json\n",
      "loading file added_tokens.json from cache at None\n",
      "loading file special_tokens_map.json from cache at None\n",
      "loading file tokenizer_config.json from cache at C:\\Users\\Nico Janko/.cache\\huggingface\\hub\\models--bert-base-uncased\\snapshots\\0a6aa9128b6194f4f3c4db429b6cb4891cdb421b\\tokenizer_config.json\n",
      "loading configuration file config.json from cache at C:\\Users\\Nico Janko/.cache\\huggingface\\hub\\models--bert-base-uncased\\snapshots\\0a6aa9128b6194f4f3c4db429b6cb4891cdb421b\\config.json\n",
      "Model config BertConfig {\n",
      "  \"_name_or_path\": \"bert-base-uncased\",\n",
      "  \"architectures\": [\n",
      "    \"BertForMaskedLM\"\n",
      "  ],\n",
      "  \"attention_probs_dropout_prob\": 0.1,\n",
      "  \"classifier_dropout\": null,\n",
      "  \"gradient_checkpointing\": false,\n",
      "  \"hidden_act\": \"gelu\",\n",
      "  \"hidden_dropout_prob\": 0.1,\n",
      "  \"hidden_size\": 768,\n",
      "  \"initializer_range\": 0.02,\n",
      "  \"intermediate_size\": 3072,\n",
      "  \"layer_norm_eps\": 1e-12,\n",
      "  \"max_position_embeddings\": 512,\n",
      "  \"model_type\": \"bert\",\n",
      "  \"num_attention_heads\": 12,\n",
      "  \"num_hidden_layers\": 12,\n",
      "  \"pad_token_id\": 0,\n",
      "  \"position_embedding_type\": \"absolute\",\n",
      "  \"transformers_version\": \"4.25.1\",\n",
      "  \"type_vocab_size\": 2,\n",
      "  \"use_cache\": true,\n",
      "  \"vocab_size\": 30522\n",
      "}\n",
      "\n"
     ]
    }
   ],
   "source": [
    "max_length = 64\n",
    "batch_size = 8\n",
    "model_type = 'bert-base-uncased'\n",
    "model = bert_layer\n",
    "\n",
    "features_bert, last_hidden_states_tot = feature_BERT_fct(model, model_type, sentences, \n",
    "                                                         max_length, batch_size, mode='TFhub')"
   ]
  },
  {
   "cell_type": "code",
   "execution_count": 59,
   "id": "aadecdd7-9d8d-4354-8f66-3a0be33ebc92",
   "metadata": {
    "tags": []
   },
   "outputs": [
    {
     "name": "stdout",
     "output_type": "stream",
     "text": [
      "The ari scores are 0.2968891483159514 for categorie 0 and 0.3137905833157253 for categorie 1.\n"
     ]
    }
   ],
   "source": [
    "clus.fit(features_bert)\n",
    "clus1.fit(features_bert)\n",
    "ari = metrics.adjusted_rand_score(np.array(txt_df['labels_0']),\n",
    "                                                 np.array(clus.labels_)\n",
    "                                                 )\n",
    "ari1 = metrics.adjusted_rand_score(np.array(txt_df['labels_1']),\n",
    "                                                 np.array(clus1.labels_)\n",
    "                                                 )\n",
    "print('The ari scores are {} for categorie 0 and {} for categorie 1.'.format(ari, ari1))"
   ]
  },
  {
   "cell_type": "markdown",
   "id": "01ee7ef3-9ef9-401b-a5d2-8b5248882254",
   "metadata": {},
   "source": [
    "### Fine-Tune"
   ]
  },
  {
   "cell_type": "code",
   "execution_count": 60,
   "id": "44fd3527-bfe9-4c41-b333-24ff1bede369",
   "metadata": {
    "tags": []
   },
   "outputs": [
    {
     "name": "stderr",
     "output_type": "stream",
     "text": [
      "loading configuration file config.json from cache at C:\\Users\\Nico Janko/.cache\\huggingface\\hub\\models--bert-base-uncased\\snapshots\\0a6aa9128b6194f4f3c4db429b6cb4891cdb421b\\config.json\n",
      "Model config BertConfig {\n",
      "  \"_name_or_path\": \"bert-base-uncased\",\n",
      "  \"architectures\": [\n",
      "    \"BertForMaskedLM\"\n",
      "  ],\n",
      "  \"attention_probs_dropout_prob\": 0.1,\n",
      "  \"classifier_dropout\": null,\n",
      "  \"gradient_checkpointing\": false,\n",
      "  \"hidden_act\": \"gelu\",\n",
      "  \"hidden_dropout_prob\": 0.1,\n",
      "  \"hidden_size\": 768,\n",
      "  \"initializer_range\": 0.02,\n",
      "  \"intermediate_size\": 3072,\n",
      "  \"layer_norm_eps\": 1e-12,\n",
      "  \"max_position_embeddings\": 512,\n",
      "  \"model_type\": \"bert\",\n",
      "  \"num_attention_heads\": 12,\n",
      "  \"num_hidden_layers\": 12,\n",
      "  \"pad_token_id\": 0,\n",
      "  \"position_embedding_type\": \"absolute\",\n",
      "  \"transformers_version\": \"4.25.1\",\n",
      "  \"type_vocab_size\": 2,\n",
      "  \"use_cache\": true,\n",
      "  \"vocab_size\": 30522\n",
      "}\n",
      "\n",
      "loading file vocab.txt from cache at C:\\Users\\Nico Janko/.cache\\huggingface\\hub\\models--bert-base-uncased\\snapshots\\0a6aa9128b6194f4f3c4db429b6cb4891cdb421b\\vocab.txt\n",
      "loading file tokenizer.json from cache at C:\\Users\\Nico Janko/.cache\\huggingface\\hub\\models--bert-base-uncased\\snapshots\\0a6aa9128b6194f4f3c4db429b6cb4891cdb421b\\tokenizer.json\n",
      "loading file added_tokens.json from cache at None\n",
      "loading file special_tokens_map.json from cache at None\n",
      "loading file tokenizer_config.json from cache at C:\\Users\\Nico Janko/.cache\\huggingface\\hub\\models--bert-base-uncased\\snapshots\\0a6aa9128b6194f4f3c4db429b6cb4891cdb421b\\tokenizer_config.json\n",
      "loading configuration file config.json from cache at C:\\Users\\Nico Janko/.cache\\huggingface\\hub\\models--bert-base-uncased\\snapshots\\0a6aa9128b6194f4f3c4db429b6cb4891cdb421b\\config.json\n",
      "Model config BertConfig {\n",
      "  \"_name_or_path\": \"bert-base-uncased\",\n",
      "  \"architectures\": [\n",
      "    \"BertForMaskedLM\"\n",
      "  ],\n",
      "  \"attention_probs_dropout_prob\": 0.1,\n",
      "  \"classifier_dropout\": null,\n",
      "  \"gradient_checkpointing\": false,\n",
      "  \"hidden_act\": \"gelu\",\n",
      "  \"hidden_dropout_prob\": 0.1,\n",
      "  \"hidden_size\": 768,\n",
      "  \"initializer_range\": 0.02,\n",
      "  \"intermediate_size\": 3072,\n",
      "  \"layer_norm_eps\": 1e-12,\n",
      "  \"max_position_embeddings\": 512,\n",
      "  \"model_type\": \"bert\",\n",
      "  \"num_attention_heads\": 12,\n",
      "  \"num_hidden_layers\": 12,\n",
      "  \"pad_token_id\": 0,\n",
      "  \"position_embedding_type\": \"absolute\",\n",
      "  \"transformers_version\": \"4.25.1\",\n",
      "  \"type_vocab_size\": 2,\n",
      "  \"use_cache\": true,\n",
      "  \"vocab_size\": 30522\n",
      "}\n",
      "\n"
     ]
    }
   ],
   "source": [
    "# let's try to fine-tune this\n",
    "from tensorflow.keras.optimizers import Adam\n",
    "#tokenize\n",
    "bert_tokenizer = AutoTokenizer.from_pretrained('bert-base-uncased')\n",
    "max_length = 34\n",
    "doc_token = bert_tokenizer(sentences,max_length=max_length, padding = 'max_length', truncation = True, return_tensors=\"tf\", return_attention_mask = False, return_token_type_ids=False)"
   ]
  },
  {
   "cell_type": "code",
   "execution_count": 61,
   "id": "303299c7-fa2b-433b-a496-c1d6d1285ddf",
   "metadata": {
    "tags": []
   },
   "outputs": [],
   "source": [
    "temp = pd.DataFrame(sentences)\n",
    "def tokenize_dataset(data):\n",
    "    # Keys of the returned dictionary will be added to the dataset as columns\n",
    "    return bert_tokenizer(data[0])\n",
    "\n",
    "\n",
    "temp = temp.apply(tokenize_dataset)"
   ]
  },
  {
   "cell_type": "code",
   "execution_count": 62,
   "id": "9fcb1b8e-71b1-405e-982f-9f3f7d75baa1",
   "metadata": {
    "tags": []
   },
   "outputs": [
    {
     "name": "stderr",
     "output_type": "stream",
     "text": [
      "loading configuration file config.json from cache at C:\\Users\\Nico Janko/.cache\\huggingface\\hub\\models--bert-base-uncased\\snapshots\\0a6aa9128b6194f4f3c4db429b6cb4891cdb421b\\config.json\n",
      "Model config BertConfig {\n",
      "  \"_name_or_path\": \"bert-base-uncased\",\n",
      "  \"architectures\": [\n",
      "    \"BertForMaskedLM\"\n",
      "  ],\n",
      "  \"attention_probs_dropout_prob\": 0.1,\n",
      "  \"classifier_dropout\": null,\n",
      "  \"gradient_checkpointing\": false,\n",
      "  \"hidden_act\": \"gelu\",\n",
      "  \"hidden_dropout_prob\": 0.1,\n",
      "  \"hidden_size\": 768,\n",
      "  \"id2label\": {\n",
      "    \"0\": \"LABEL_0\",\n",
      "    \"1\": \"LABEL_1\",\n",
      "    \"2\": \"LABEL_2\",\n",
      "    \"3\": \"LABEL_3\",\n",
      "    \"4\": \"LABEL_4\",\n",
      "    \"5\": \"LABEL_5\",\n",
      "    \"6\": \"LABEL_6\",\n",
      "    \"7\": \"LABEL_7\",\n",
      "    \"8\": \"LABEL_8\",\n",
      "    \"9\": \"LABEL_9\",\n",
      "    \"10\": \"LABEL_10\",\n",
      "    \"11\": \"LABEL_11\",\n",
      "    \"12\": \"LABEL_12\",\n",
      "    \"13\": \"LABEL_13\",\n",
      "    \"14\": \"LABEL_14\",\n",
      "    \"15\": \"LABEL_15\",\n",
      "    \"16\": \"LABEL_16\",\n",
      "    \"17\": \"LABEL_17\",\n",
      "    \"18\": \"LABEL_18\",\n",
      "    \"19\": \"LABEL_19\",\n",
      "    \"20\": \"LABEL_20\",\n",
      "    \"21\": \"LABEL_21\",\n",
      "    \"22\": \"LABEL_22\",\n",
      "    \"23\": \"LABEL_23\",\n",
      "    \"24\": \"LABEL_24\",\n",
      "    \"25\": \"LABEL_25\",\n",
      "    \"26\": \"LABEL_26\",\n",
      "    \"27\": \"LABEL_27\",\n",
      "    \"28\": \"LABEL_28\",\n",
      "    \"29\": \"LABEL_29\",\n",
      "    \"30\": \"LABEL_30\",\n",
      "    \"31\": \"LABEL_31\",\n",
      "    \"32\": \"LABEL_32\",\n",
      "    \"33\": \"LABEL_33\",\n",
      "    \"34\": \"LABEL_34\",\n",
      "    \"35\": \"LABEL_35\",\n",
      "    \"36\": \"LABEL_36\",\n",
      "    \"37\": \"LABEL_37\",\n",
      "    \"38\": \"LABEL_38\",\n",
      "    \"39\": \"LABEL_39\",\n",
      "    \"40\": \"LABEL_40\",\n",
      "    \"41\": \"LABEL_41\",\n",
      "    \"42\": \"LABEL_42\",\n",
      "    \"43\": \"LABEL_43\",\n",
      "    \"44\": \"LABEL_44\",\n",
      "    \"45\": \"LABEL_45\",\n",
      "    \"46\": \"LABEL_46\"\n",
      "  },\n",
      "  \"initializer_range\": 0.02,\n",
      "  \"intermediate_size\": 3072,\n",
      "  \"label2id\": {\n",
      "    \"LABEL_0\": 0,\n",
      "    \"LABEL_1\": 1,\n",
      "    \"LABEL_10\": 10,\n",
      "    \"LABEL_11\": 11,\n",
      "    \"LABEL_12\": 12,\n",
      "    \"LABEL_13\": 13,\n",
      "    \"LABEL_14\": 14,\n",
      "    \"LABEL_15\": 15,\n",
      "    \"LABEL_16\": 16,\n",
      "    \"LABEL_17\": 17,\n",
      "    \"LABEL_18\": 18,\n",
      "    \"LABEL_19\": 19,\n",
      "    \"LABEL_2\": 2,\n",
      "    \"LABEL_20\": 20,\n",
      "    \"LABEL_21\": 21,\n",
      "    \"LABEL_22\": 22,\n",
      "    \"LABEL_23\": 23,\n",
      "    \"LABEL_24\": 24,\n",
      "    \"LABEL_25\": 25,\n",
      "    \"LABEL_26\": 26,\n",
      "    \"LABEL_27\": 27,\n",
      "    \"LABEL_28\": 28,\n",
      "    \"LABEL_29\": 29,\n",
      "    \"LABEL_3\": 3,\n",
      "    \"LABEL_30\": 30,\n",
      "    \"LABEL_31\": 31,\n",
      "    \"LABEL_32\": 32,\n",
      "    \"LABEL_33\": 33,\n",
      "    \"LABEL_34\": 34,\n",
      "    \"LABEL_35\": 35,\n",
      "    \"LABEL_36\": 36,\n",
      "    \"LABEL_37\": 37,\n",
      "    \"LABEL_38\": 38,\n",
      "    \"LABEL_39\": 39,\n",
      "    \"LABEL_4\": 4,\n",
      "    \"LABEL_40\": 40,\n",
      "    \"LABEL_41\": 41,\n",
      "    \"LABEL_42\": 42,\n",
      "    \"LABEL_43\": 43,\n",
      "    \"LABEL_44\": 44,\n",
      "    \"LABEL_45\": 45,\n",
      "    \"LABEL_46\": 46,\n",
      "    \"LABEL_5\": 5,\n",
      "    \"LABEL_6\": 6,\n",
      "    \"LABEL_7\": 7,\n",
      "    \"LABEL_8\": 8,\n",
      "    \"LABEL_9\": 9\n",
      "  },\n",
      "  \"layer_norm_eps\": 1e-12,\n",
      "  \"max_position_embeddings\": 512,\n",
      "  \"model_type\": \"bert\",\n",
      "  \"num_attention_heads\": 12,\n",
      "  \"num_hidden_layers\": 12,\n",
      "  \"output_hidden_states\": true,\n",
      "  \"pad_token_id\": 0,\n",
      "  \"position_embedding_type\": \"absolute\",\n",
      "  \"transformers_version\": \"4.25.1\",\n",
      "  \"type_vocab_size\": 2,\n",
      "  \"use_cache\": true,\n",
      "  \"vocab_size\": 30522\n",
      "}\n",
      "\n",
      "loading weights file tf_model.h5 from cache at C:\\Users\\Nico Janko/.cache\\huggingface\\hub\\models--bert-base-uncased\\snapshots\\0a6aa9128b6194f4f3c4db429b6cb4891cdb421b\\tf_model.h5\n",
      "All model checkpoint layers were used when initializing TFBertForSequenceClassification.\n",
      "\n",
      "Some layers of TFBertForSequenceClassification were not initialized from the model checkpoint at bert-base-uncased and are newly initialized: ['classifier']\n",
      "You should probably TRAIN this model on a down-stream task to be able to use it for predictions and inference.\n",
      "No loss specified in compile() - the model's internal loss computation will be used as the loss. Don't panic - this is a common way to train TensorFlow models in Transformers! To disable this behaviour please pass a loss argument, or explicitly pass `loss=None` if you do not want your model to compute a loss.\n"
     ]
    }
   ],
   "source": [
    "model_ft = TFAutoModelForSequenceClassification.from_pretrained(\"bert-base-uncased\", num_labels=47,output_hidden_states=True)\n",
    "model_ft.compile(optimizer=Adam(3e-5))\n"
   ]
  },
  {
   "cell_type": "code",
   "execution_count": 63,
   "id": "f6e8c1e3-bfb6-4808-957f-ef473c9fb05e",
   "metadata": {
    "tags": []
   },
   "outputs": [
    {
     "name": "stdout",
     "output_type": "stream",
     "text": [
      "32/32 [==============================] - 291s 8s/step - loss: 3.2846\n"
     ]
    },
    {
     "data": {
      "text/plain": [
       "<keras.callbacks.History at 0x1c0ca5b4be0>"
      ]
     },
     "execution_count": 63,
     "metadata": {},
     "output_type": "execute_result"
    }
   ],
   "source": [
    "labels = np.array(txt_df['labels_1'])\n",
    "\n",
    "model_ft.fit(doc_token['input_ids'], labels)"
   ]
  },
  {
   "cell_type": "code",
   "execution_count": 64,
   "id": "40aea810-67b7-413b-bb4e-04a65ba1dd62",
   "metadata": {
    "tags": []
   },
   "outputs": [
    {
     "data": {
      "text/plain": [
       "'key feature elegance polyester multicolor abstract eyelet door curtain floral curtainelegance polyester multicolor abstract eyelet door curtain height pack price curtain enhances look interiorsthis curtain made high quality polyester fabricit feature eyelet style stitch metal ringit make room environment romantic lovingthis curtain ant wrinkle anti shrinkage elegant apparancegive home bright modernistic appeal design surreal attention sure steal heart contemporary eyelet valance curtain slide smoothly draw apart first thing morning welcome bright sun ray want wish good morning whole world draw close evening create special moment joyous beauty given soothing print bring home elegant curtain softly filter light room get right amount sunlightspecifications elegance polyester multicolor abstract eyelet door curtain height pack general brand elegance designed door type eyelet model name abstract polyester door curtain set model duster color multicolor dimension length box number content sale package pack sale package curtain body design material polyester'"
      ]
     },
     "execution_count": 64,
     "metadata": {},
     "output_type": "execute_result"
    }
   ],
   "source": [
    "sentences[0]"
   ]
  },
  {
   "cell_type": "code",
   "execution_count": 65,
   "id": "7edc8c7d-e837-4547-b000-53b0501bb717",
   "metadata": {
    "tags": []
   },
   "outputs": [
    {
     "name": "stderr",
     "output_type": "stream",
     "text": [
      "loading configuration file config.json from cache at C:\\Users\\Nico Janko/.cache\\huggingface\\hub\\models--bert-base-uncased\\snapshots\\0a6aa9128b6194f4f3c4db429b6cb4891cdb421b\\config.json\n",
      "Model config BertConfig {\n",
      "  \"_name_or_path\": \"bert-base-uncased\",\n",
      "  \"architectures\": [\n",
      "    \"BertForMaskedLM\"\n",
      "  ],\n",
      "  \"attention_probs_dropout_prob\": 0.1,\n",
      "  \"classifier_dropout\": null,\n",
      "  \"gradient_checkpointing\": false,\n",
      "  \"hidden_act\": \"gelu\",\n",
      "  \"hidden_dropout_prob\": 0.1,\n",
      "  \"hidden_size\": 768,\n",
      "  \"initializer_range\": 0.02,\n",
      "  \"intermediate_size\": 3072,\n",
      "  \"layer_norm_eps\": 1e-12,\n",
      "  \"max_position_embeddings\": 512,\n",
      "  \"model_type\": \"bert\",\n",
      "  \"num_attention_heads\": 12,\n",
      "  \"num_hidden_layers\": 12,\n",
      "  \"pad_token_id\": 0,\n",
      "  \"position_embedding_type\": \"absolute\",\n",
      "  \"transformers_version\": \"4.25.1\",\n",
      "  \"type_vocab_size\": 2,\n",
      "  \"use_cache\": true,\n",
      "  \"vocab_size\": 30522\n",
      "}\n",
      "\n",
      "loading file vocab.txt from cache at C:\\Users\\Nico Janko/.cache\\huggingface\\hub\\models--bert-base-uncased\\snapshots\\0a6aa9128b6194f4f3c4db429b6cb4891cdb421b\\vocab.txt\n",
      "loading file tokenizer.json from cache at C:\\Users\\Nico Janko/.cache\\huggingface\\hub\\models--bert-base-uncased\\snapshots\\0a6aa9128b6194f4f3c4db429b6cb4891cdb421b\\tokenizer.json\n",
      "loading file added_tokens.json from cache at None\n",
      "loading file special_tokens_map.json from cache at None\n",
      "loading file tokenizer_config.json from cache at C:\\Users\\Nico Janko/.cache\\huggingface\\hub\\models--bert-base-uncased\\snapshots\\0a6aa9128b6194f4f3c4db429b6cb4891cdb421b\\tokenizer_config.json\n",
      "loading configuration file config.json from cache at C:\\Users\\Nico Janko/.cache\\huggingface\\hub\\models--bert-base-uncased\\snapshots\\0a6aa9128b6194f4f3c4db429b6cb4891cdb421b\\config.json\n",
      "Model config BertConfig {\n",
      "  \"_name_or_path\": \"bert-base-uncased\",\n",
      "  \"architectures\": [\n",
      "    \"BertForMaskedLM\"\n",
      "  ],\n",
      "  \"attention_probs_dropout_prob\": 0.1,\n",
      "  \"classifier_dropout\": null,\n",
      "  \"gradient_checkpointing\": false,\n",
      "  \"hidden_act\": \"gelu\",\n",
      "  \"hidden_dropout_prob\": 0.1,\n",
      "  \"hidden_size\": 768,\n",
      "  \"initializer_range\": 0.02,\n",
      "  \"intermediate_size\": 3072,\n",
      "  \"layer_norm_eps\": 1e-12,\n",
      "  \"max_position_embeddings\": 512,\n",
      "  \"model_type\": \"bert\",\n",
      "  \"num_attention_heads\": 12,\n",
      "  \"num_hidden_layers\": 12,\n",
      "  \"pad_token_id\": 0,\n",
      "  \"position_embedding_type\": \"absolute\",\n",
      "  \"transformers_version\": \"4.25.1\",\n",
      "  \"type_vocab_size\": 2,\n",
      "  \"use_cache\": true,\n",
      "  \"vocab_size\": 30522\n",
      "}\n",
      "\n"
     ]
    },
    {
     "name": "stdout",
     "output_type": "stream",
     "text": [
      "134/134 [==============================] - 87s 585ms/step\n"
     ]
    }
   ],
   "source": [
    "bert_tokenizer = AutoTokenizer.from_pretrained(\"bert-base-uncased\")\n",
    "max_length = 34\n",
    "\n",
    "input_ids, token_type_ids, attention_mask, bert_inp_tot = bert_inp_fct(sentences[0], \n",
    "                                                                      bert_tokenizer, max_length)\n",
    "\n",
    "outputs = model_ft.predict([input_ids, attention_mask, token_type_ids], batch_size=8)\n"
   ]
  },
  {
   "cell_type": "code",
   "execution_count": 66,
   "id": "ad5f5099-b82e-4d15-81db-ae67644c40c6",
   "metadata": {
    "tags": []
   },
   "outputs": [
    {
     "data": {
      "text/plain": [
       "(34, 768)"
      ]
     },
     "execution_count": 66,
     "metadata": {},
     "output_type": "execute_result"
    }
   ],
   "source": [
    "outputs.hidden_states[-1][-1].shape"
   ]
  },
  {
   "cell_type": "code",
   "execution_count": 67,
   "id": "df6f69bc-8eb7-4378-9f26-f5421dcbc5fe",
   "metadata": {
    "tags": []
   },
   "outputs": [
    {
     "data": {
      "text/plain": [
       "1066"
      ]
     },
     "execution_count": 67,
     "metadata": {},
     "output_type": "execute_result"
    }
   ],
   "source": [
    "len(sentences[0])"
   ]
  },
  {
   "cell_type": "code",
   "execution_count": 68,
   "id": "8a61203b-07c4-4ab3-8621-6887ab8015c4",
   "metadata": {
    "tags": []
   },
   "outputs": [
    {
     "name": "stderr",
     "output_type": "stream",
     "text": [
      "loading configuration file config.json from cache at C:\\Users\\Nico Janko/.cache\\huggingface\\hub\\models--bert-base-uncased\\snapshots\\0a6aa9128b6194f4f3c4db429b6cb4891cdb421b\\config.json\n",
      "Model config BertConfig {\n",
      "  \"_name_or_path\": \"bert-base-uncased\",\n",
      "  \"architectures\": [\n",
      "    \"BertForMaskedLM\"\n",
      "  ],\n",
      "  \"attention_probs_dropout_prob\": 0.1,\n",
      "  \"classifier_dropout\": null,\n",
      "  \"gradient_checkpointing\": false,\n",
      "  \"hidden_act\": \"gelu\",\n",
      "  \"hidden_dropout_prob\": 0.1,\n",
      "  \"hidden_size\": 768,\n",
      "  \"initializer_range\": 0.02,\n",
      "  \"intermediate_size\": 3072,\n",
      "  \"layer_norm_eps\": 1e-12,\n",
      "  \"max_position_embeddings\": 512,\n",
      "  \"model_type\": \"bert\",\n",
      "  \"num_attention_heads\": 12,\n",
      "  \"num_hidden_layers\": 12,\n",
      "  \"pad_token_id\": 0,\n",
      "  \"position_embedding_type\": \"absolute\",\n",
      "  \"transformers_version\": \"4.25.1\",\n",
      "  \"type_vocab_size\": 2,\n",
      "  \"use_cache\": true,\n",
      "  \"vocab_size\": 30522\n",
      "}\n",
      "\n",
      "loading file vocab.txt from cache at C:\\Users\\Nico Janko/.cache\\huggingface\\hub\\models--bert-base-uncased\\snapshots\\0a6aa9128b6194f4f3c4db429b6cb4891cdb421b\\vocab.txt\n",
      "loading file tokenizer.json from cache at C:\\Users\\Nico Janko/.cache\\huggingface\\hub\\models--bert-base-uncased\\snapshots\\0a6aa9128b6194f4f3c4db429b6cb4891cdb421b\\tokenizer.json\n",
      "loading file added_tokens.json from cache at None\n",
      "loading file special_tokens_map.json from cache at None\n",
      "loading file tokenizer_config.json from cache at C:\\Users\\Nico Janko/.cache\\huggingface\\hub\\models--bert-base-uncased\\snapshots\\0a6aa9128b6194f4f3c4db429b6cb4891cdb421b\\tokenizer_config.json\n",
      "loading configuration file config.json from cache at C:\\Users\\Nico Janko/.cache\\huggingface\\hub\\models--bert-base-uncased\\snapshots\\0a6aa9128b6194f4f3c4db429b6cb4891cdb421b\\config.json\n",
      "Model config BertConfig {\n",
      "  \"_name_or_path\": \"bert-base-uncased\",\n",
      "  \"architectures\": [\n",
      "    \"BertForMaskedLM\"\n",
      "  ],\n",
      "  \"attention_probs_dropout_prob\": 0.1,\n",
      "  \"classifier_dropout\": null,\n",
      "  \"gradient_checkpointing\": false,\n",
      "  \"hidden_act\": \"gelu\",\n",
      "  \"hidden_dropout_prob\": 0.1,\n",
      "  \"hidden_size\": 768,\n",
      "  \"initializer_range\": 0.02,\n",
      "  \"intermediate_size\": 3072,\n",
      "  \"layer_norm_eps\": 1e-12,\n",
      "  \"max_position_embeddings\": 512,\n",
      "  \"model_type\": \"bert\",\n",
      "  \"num_attention_heads\": 12,\n",
      "  \"num_hidden_layers\": 12,\n",
      "  \"pad_token_id\": 0,\n",
      "  \"position_embedding_type\": \"absolute\",\n",
      "  \"transformers_version\": \"4.25.1\",\n",
      "  \"type_vocab_size\": 2,\n",
      "  \"use_cache\": true,\n",
      "  \"vocab_size\": 30522\n",
      "}\n",
      "\n"
     ]
    },
    {
     "name": "stdout",
     "output_type": "stream",
     "text": [
      "1/1 [==============================] - 11s 11s/step\n",
      "1/1 [==============================] - 2s 2s/step\n",
      "1/1 [==============================] - 1s 1s/step\n",
      "1/1 [==============================] - 1s 1s/step\n",
      "1/1 [==============================] - 1s 1s/step\n",
      "1/1 [==============================] - 1s 1s/step\n",
      "1/1 [==============================] - 1s 1s/step\n",
      "1/1 [==============================] - 1s 1s/step\n",
      "1/1 [==============================] - 1s 1s/step\n",
      "1/1 [==============================] - 1s 1s/step\n",
      "1/1 [==============================] - 1s 1s/step\n",
      "1/1 [==============================] - 1s 1s/step\n",
      "1/1 [==============================] - 1s 1s/step\n",
      "1/1 [==============================] - 1s 1s/step\n",
      "1/1 [==============================] - 1s 1s/step\n",
      "1/1 [==============================] - 1s 1s/step\n",
      "1/1 [==============================] - 1s 1s/step\n",
      "1/1 [==============================] - 1s 1s/step\n",
      "1/1 [==============================] - 1s 1s/step\n",
      "1/1 [==============================] - 1s 1s/step\n",
      "1/1 [==============================] - 1s 1s/step\n",
      "1/1 [==============================] - 1s 1s/step\n",
      "1/1 [==============================] - 1s 1s/step\n",
      "1/1 [==============================] - 1s 1s/step\n",
      "1/1 [==============================] - 1s 1s/step\n",
      "1/1 [==============================] - 2s 2s/step\n",
      "1/1 [==============================] - 2s 2s/step\n",
      "1/1 [==============================] - 1s 1s/step\n",
      "1/1 [==============================] - 1s 1s/step\n",
      "1/1 [==============================] - 1s 1s/step\n",
      "1/1 [==============================] - 1s 1s/step\n",
      "1/1 [==============================] - 1s 1s/step\n",
      "1/1 [==============================] - 1s 1s/step\n",
      "1/1 [==============================] - 1s 1s/step\n",
      "1/1 [==============================] - 1s 1s/step\n",
      "1/1 [==============================] - 1s 1s/step\n",
      "1/1 [==============================] - 1s 1s/step\n",
      "1/1 [==============================] - 1s 1s/step\n",
      "1/1 [==============================] - 1s 1s/step\n",
      "1/1 [==============================] - 1s 1s/step\n",
      "1/1 [==============================] - 1s 1s/step\n",
      "1/1 [==============================] - 1s 1s/step\n",
      "1/1 [==============================] - 1s 1s/step\n",
      "1/1 [==============================] - 1s 1s/step\n",
      "1/1 [==============================] - 1s 1s/step\n",
      "1/1 [==============================] - 1s 1s/step\n",
      "1/1 [==============================] - 1s 1s/step\n",
      "1/1 [==============================] - 1s 1s/step\n",
      "1/1 [==============================] - 1s 1s/step\n",
      "1/1 [==============================] - 1s 1s/step\n",
      "1/1 [==============================] - 1s 1s/step\n",
      "1/1 [==============================] - 1s 1s/step\n",
      "1/1 [==============================] - 1s 1s/step\n",
      "1/1 [==============================] - 1s 1s/step\n",
      "1/1 [==============================] - 1s 1s/step\n",
      "1/1 [==============================] - 1s 1s/step\n",
      "1/1 [==============================] - 1s 1s/step\n",
      "1/1 [==============================] - 1s 1s/step\n",
      "1/1 [==============================] - 1s 1s/step\n",
      "1/1 [==============================] - 1s 1s/step\n",
      "1/1 [==============================] - 1s 1s/step\n",
      "1/1 [==============================] - 1s 1s/step\n",
      "1/1 [==============================] - 1s 1s/step\n",
      "1/1 [==============================] - 1s 1s/step\n",
      "1/1 [==============================] - 1s 1s/step\n",
      "1/1 [==============================] - 1s 1s/step\n",
      "1/1 [==============================] - 1s 1s/step\n",
      "1/1 [==============================] - 1s 1s/step\n",
      "1/1 [==============================] - 1s 1s/step\n",
      "1/1 [==============================] - 1s 1s/step\n",
      "1/1 [==============================] - 1s 1s/step\n",
      "1/1 [==============================] - 1s 1s/step\n",
      "1/1 [==============================] - 1s 1s/step\n",
      "1/1 [==============================] - 1s 1s/step\n",
      "1/1 [==============================] - 1s 1s/step\n",
      "1/1 [==============================] - 1s 1s/step\n",
      "1/1 [==============================] - 1s 1s/step\n",
      "1/1 [==============================] - 1s 1s/step\n",
      "1/1 [==============================] - 1s 1s/step\n",
      "1/1 [==============================] - 1s 1s/step\n",
      "1/1 [==============================] - 1s 1000ms/step\n",
      "1/1 [==============================] - 1s 1s/step\n",
      "1/1 [==============================] - 1s 1s/step\n",
      "1/1 [==============================] - 1s 1s/step\n",
      "1/1 [==============================] - 1s 1s/step\n",
      "1/1 [==============================] - 1s 1s/step\n",
      "1/1 [==============================] - 1s 1s/step\n",
      "1/1 [==============================] - 1s 1s/step\n",
      "1/1 [==============================] - 1s 1s/step\n",
      "1/1 [==============================] - 1s 1s/step\n",
      "1/1 [==============================] - 1s 1s/step\n",
      "1/1 [==============================] - 1s 1s/step\n",
      "1/1 [==============================] - 1s 997ms/step\n",
      "1/1 [==============================] - 1s 1s/step\n",
      "1/1 [==============================] - 1s 1s/step\n",
      "1/1 [==============================] - 1s 1s/step\n",
      "1/1 [==============================] - 1s 1s/step\n",
      "1/1 [==============================] - 1s 1s/step\n",
      "1/1 [==============================] - 1s 1s/step\n",
      "1/1 [==============================] - 1s 1s/step\n",
      "1/1 [==============================] - 1s 1s/step\n",
      "1/1 [==============================] - 1s 1s/step\n",
      "1/1 [==============================] - 1s 1s/step\n",
      "1/1 [==============================] - 1s 1s/step\n",
      "1/1 [==============================] - 1s 1s/step\n",
      "1/1 [==============================] - 1s 1s/step\n",
      "1/1 [==============================] - 1s 1s/step\n",
      "1/1 [==============================] - 1s 1s/step\n",
      "1/1 [==============================] - 1s 1s/step\n",
      "1/1 [==============================] - 1s 1s/step\n",
      "1/1 [==============================] - 1s 1s/step\n",
      "1/1 [==============================] - 1s 1s/step\n",
      "1/1 [==============================] - 1s 1s/step\n",
      "1/1 [==============================] - 1s 1s/step\n",
      "1/1 [==============================] - 1s 1s/step\n",
      "1/1 [==============================] - 1s 1s/step\n",
      "1/1 [==============================] - 1s 1s/step\n",
      "1/1 [==============================] - 1s 1s/step\n",
      "1/1 [==============================] - 1s 1s/step\n",
      "1/1 [==============================] - 1s 1s/step\n",
      "1/1 [==============================] - 1s 1s/step\n",
      "1/1 [==============================] - 1s 1s/step\n",
      "1/1 [==============================] - 1s 1s/step\n",
      "1/1 [==============================] - 1s 1s/step\n",
      "1/1 [==============================] - 1s 1s/step\n",
      "1/1 [==============================] - 1s 1s/step\n"
     ]
    }
   ],
   "source": [
    "max_length = 64\n",
    "batch_size = 8\n",
    "model_type = 'bert-base-uncased'\n",
    "model = model_ft\n",
    "\n",
    "features_bert, last_hidden_states_tot = feature_BERT_fct(model, model_type, sentences, \n",
    "                                                         max_length, batch_size, mode='Fine_Tune')"
   ]
  },
  {
   "cell_type": "code",
   "execution_count": 69,
   "id": "1ce9b8df-2365-498d-a2e3-b54e285f33bc",
   "metadata": {
    "tags": []
   },
   "outputs": [
    {
     "name": "stdout",
     "output_type": "stream",
     "text": [
      "The ari scores are 0.41710416434117575 for categorie 0 and 0.4964513847821799 for categorie 1.\n"
     ]
    }
   ],
   "source": [
    "clus.fit(features_bert)\n",
    "clus1.fit(features_bert)\n",
    "ari = metrics.adjusted_rand_score(np.array(txt_df['labels_0']),\n",
    "                                                 np.array(clus.labels_)\n",
    "                                                 )\n",
    "ari1 = metrics.adjusted_rand_score(np.array(txt_df['labels_1']),\n",
    "                                                 np.array(clus1.labels_)\n",
    "                                                 )\n",
    "print('The ari scores are {} for categorie 0 and {} for categorie 1.'.format(ari, ari1))"
   ]
  },
  {
   "cell_type": "markdown",
   "id": "81659a3e-c8e6-47d3-985a-9100a8f210d9",
   "metadata": {},
   "source": [
    "## USE"
   ]
  },
  {
   "cell_type": "code",
   "execution_count": 70,
   "id": "954b673f-d202-4642-ad0a-fe4b4519d5f5",
   "metadata": {
    "tags": []
   },
   "outputs": [],
   "source": [
    "embed = hub.load(\"https://tfhub.dev/google/universal-sentence-encoder/4\")"
   ]
  },
  {
   "cell_type": "code",
   "execution_count": 71,
   "id": "161c15ca-75c1-4af5-8d9c-e132e0c742c8",
   "metadata": {
    "tags": []
   },
   "outputs": [],
   "source": [
    "def feature_USE_fct(sentences, b_size) :\n",
    "    batch_size = b_size\n",
    "\n",
    "    for step in range(len(sentences)//batch_size) :\n",
    "        idx = step*batch_size\n",
    "        feat = embed(sentences[idx:idx+batch_size])\n",
    "\n",
    "        if step ==0 :\n",
    "            features = feat\n",
    "        else :\n",
    "            features = np.concatenate((features,feat))\n",
    "\n",
    "    return features"
   ]
  },
  {
   "cell_type": "code",
   "execution_count": 72,
   "id": "86fcda42-0daf-4112-8a20-76097b4a040a",
   "metadata": {
    "tags": []
   },
   "outputs": [],
   "source": [
    "batch_size = 8\n",
    "features_USE = feature_USE_fct(sentences, batch_size)"
   ]
  },
  {
   "cell_type": "code",
   "execution_count": 73,
   "id": "e5488931-dc07-4142-8d22-684b52f396a0",
   "metadata": {
    "tags": []
   },
   "outputs": [
    {
     "name": "stdout",
     "output_type": "stream",
     "text": [
      "The ari scores are 0.3323283045229392 for categorie 0 and 0.3956824659798824 for categorie 1.\n"
     ]
    }
   ],
   "source": [
    "clus.fit(features_USE)\n",
    "clus1.fit(features_USE)\n",
    "ari = metrics.adjusted_rand_score(np.array(txt_df['labels_0']),\n",
    "                                                 np.array(clus.labels_)\n",
    "                                                 )\n",
    "ari1 = metrics.adjusted_rand_score(np.array(txt_df['labels_1']),\n",
    "                                                 np.array(clus1.labels_)\n",
    "                                                 )\n",
    "print('The ari scores are {} for categorie 0 and {} for categorie 1.'.format(ari, ari1))"
   ]
  },
  {
   "cell_type": "markdown",
   "id": "fce8cf77-ce92-4cc1-b37f-5623a8c5c0ca",
   "metadata": {},
   "source": [
    "## LDA"
   ]
  },
  {
   "cell_type": "code",
   "execution_count": 74,
   "id": "55a531f6-35b8-43fa-aa51-993551e0dcf2",
   "metadata": {
    "tags": []
   },
   "outputs": [
    {
     "data": {
      "text/plain": [
       "LatentDirichletAllocation(learning_offset=50.0, max_iter=5, n_components=7,\n",
       "                          random_state=0)"
      ]
     },
     "execution_count": 74,
     "metadata": {},
     "output_type": "execute_result"
    }
   ],
   "source": [
    "from sklearn.decomposition import LatentDirichletAllocation\n",
    "n_topics = label_1_unique\n",
    "\n",
    "# Créer le modèle LDA\n",
    "lda = LatentDirichletAllocation(\n",
    "        n_components=n_topics, \n",
    "        max_iter=5,  \n",
    "        learning_offset=50.,\n",
    "        random_state=0)\n",
    "\n",
    "# Fitter sur les données\n",
    "lda.fit(bag_of_words)"
   ]
  },
  {
   "cell_type": "code",
   "execution_count": 75,
   "id": "c84a5745-db9c-4908-98e2-b02cb8ce7830",
   "metadata": {
    "tags": []
   },
   "outputs": [
    {
     "data": {
      "text/plain": [
       "array(['aaa battery battery life hour',\n",
       "       'aapno rajasthan lovely jewellery vanity',\n",
       "       'aapno rajasthan marvel marble gold', ...,\n",
       "       'zyxel data card flipkartcom genuine',\n",
       "       'zyxel pla flipkartcom genuine product',\n",
       "       'zyxel vmgba vdsl wireless vdsl'], dtype=object)"
      ]
     },
     "execution_count": 75,
     "metadata": {},
     "output_type": "execute_result"
    }
   ],
   "source": [
    "vectorizer.get_feature_names_out()"
   ]
  },
  {
   "cell_type": "code",
   "execution_count": 76,
   "id": "d6eae2cf-2aba-4e56-8371-ad06fdef6176",
   "metadata": {
    "tags": []
   },
   "outputs": [
    {
     "name": "stdout",
     "output_type": "stream",
     "text": [
      "Topic 0:\n",
      "day replacement guarantee free shipping replacement guarantee free shipping cash guarantee free shipping cash delivery product day replacement guarantee free genuine product day replacement guarantee\n",
      "Topic 1:\n",
      "share mug like make great wide selection cute catchy design like make great gift mug gifting know break mug bring know break mug bring laugh\n",
      "Topic 2:\n",
      "number content sale package pack box number content sale package sale package pack sale package content sale package pack sale type mug mug capacity material\n",
      "Topic 3:\n",
      "laptop skin mouse pad combo skin mouse pad combo set genuine product day replacement guarantee number content sale package pack product day replacement guarantee free\n",
      "Topic 4:\n",
      "cash delivery genuine product day delivery genuine product day replacement free shipping cash delivery genuine shipping cash delivery genuine product price free shipping cash delivery\n",
      "Topic 5:\n",
      "flipkartcom genuine product free shipping product free shipping cash delivery genuine product free shipping cash multicolor flipkartcom genuine product free towel flipkartcom genuine product free\n",
      "Topic 6:\n",
      "creation rockmantra mug feature porcelain crafting ensuring design stay permanent perfect pick gift loved toodishwasher come making perfect pick gift design stay permanent year come\n"
     ]
    }
   ],
   "source": [
    "def display_topics(model, feature_names, no_top_words):\n",
    "    for topic_idx, topic in enumerate(model.components_):\n",
    "        print(\"Topic {}:\".format(topic_idx))\n",
    "        print(\" \".join([feature_names[i] for i in topic.argsort()[:-no_top_words - 1:-1]]))\n",
    "\n",
    "no_top_words = 5\n",
    "display_topics(lda, vectorizer.get_feature_names_out(), no_top_words)\n"
   ]
  },
  {
   "cell_type": "markdown",
   "id": "1b81f06a-583f-420b-81e3-f81e67852089",
   "metadata": {},
   "source": [
    "# Image"
   ]
  },
  {
   "cell_type": "code",
   "execution_count": 10,
   "id": "96d37139-86cc-40ed-9344-510eb1c42b33",
   "metadata": {},
   "outputs": [],
   "source": [
    "from PIL import ImageOps\n",
    "from PIL import Image\n",
    "from PIL import ImageFilter"
   ]
  },
  {
   "cell_type": "code",
   "execution_count": 11,
   "id": "99573aed-3eb1-45d9-938a-a4999836fa3c",
   "metadata": {},
   "outputs": [
    {
     "name": "stdout",
     "output_type": "stream",
     "text": [
      "<class 'pandas.core.frame.DataFrame'>\n",
      "RangeIndex: 1010 entries, 0 to 1009\n",
      "Data columns (total 4 columns):\n",
      " #   Column    Non-Null Count  Dtype \n",
      "---  ------    --------------  ----- \n",
      " 0   uniq_id   1010 non-null   object\n",
      " 1   image     1010 non-null   object\n",
      " 2   labels_0  1010 non-null   int32 \n",
      " 3   labels_1  1010 non-null   int32 \n",
      "dtypes: int32(2), object(2)\n",
      "memory usage: 23.8+ KB\n"
     ]
    }
   ],
   "source": [
    "img_df = df.iloc[:, [0, 8, 17, 18]].reset_index(drop=True)\n",
    "img_df.info()"
   ]
  },
  {
   "cell_type": "code",
   "execution_count": 12,
   "id": "731648c7-2cc7-4df1-924d-e1a20bce9663",
   "metadata": {},
   "outputs": [
    {
     "data": {
      "text/html": [
       "<div>\n",
       "<style scoped>\n",
       "    .dataframe tbody tr th:only-of-type {\n",
       "        vertical-align: middle;\n",
       "    }\n",
       "\n",
       "    .dataframe tbody tr th {\n",
       "        vertical-align: top;\n",
       "    }\n",
       "\n",
       "    .dataframe thead th {\n",
       "        text-align: right;\n",
       "    }\n",
       "</style>\n",
       "<table border=\"1\" class=\"dataframe\">\n",
       "  <thead>\n",
       "    <tr style=\"text-align: right;\">\n",
       "      <th></th>\n",
       "      <th>uniq_id</th>\n",
       "      <th>image</th>\n",
       "      <th>labels_0</th>\n",
       "      <th>labels_1</th>\n",
       "    </tr>\n",
       "  </thead>\n",
       "  <tbody>\n",
       "    <tr>\n",
       "      <th>0</th>\n",
       "      <td>55b85ea15a1536d46b7190ad6fff8ce7</td>\n",
       "      <td>55b85ea15a1536d46b7190ad6fff8ce7.jpg</td>\n",
       "      <td>4</td>\n",
       "      <td>14</td>\n",
       "    </tr>\n",
       "    <tr>\n",
       "      <th>1</th>\n",
       "      <td>7b72c92c2f6c40268628ec5f14c6d590</td>\n",
       "      <td>7b72c92c2f6c40268628ec5f14c6d590.jpg</td>\n",
       "      <td>0</td>\n",
       "      <td>1</td>\n",
       "    </tr>\n",
       "    <tr>\n",
       "      <th>2</th>\n",
       "      <td>64d5d4a258243731dc7bbb1eef49ad74</td>\n",
       "      <td>64d5d4a258243731dc7bbb1eef49ad74.jpg</td>\n",
       "      <td>0</td>\n",
       "      <td>1</td>\n",
       "    </tr>\n",
       "    <tr>\n",
       "      <th>3</th>\n",
       "      <td>d4684dcdc759dd9cdf41504698d737d8</td>\n",
       "      <td>d4684dcdc759dd9cdf41504698d737d8.jpg</td>\n",
       "      <td>4</td>\n",
       "      <td>7</td>\n",
       "    </tr>\n",
       "    <tr>\n",
       "      <th>4</th>\n",
       "      <td>6325b6870c54cd47be6ebfbffa620ec7</td>\n",
       "      <td>6325b6870c54cd47be6ebfbffa620ec7.jpg</td>\n",
       "      <td>4</td>\n",
       "      <td>7</td>\n",
       "    </tr>\n",
       "  </tbody>\n",
       "</table>\n",
       "</div>"
      ],
      "text/plain": [
       "                            uniq_id                                 image  \\\n",
       "0  55b85ea15a1536d46b7190ad6fff8ce7  55b85ea15a1536d46b7190ad6fff8ce7.jpg   \n",
       "1  7b72c92c2f6c40268628ec5f14c6d590  7b72c92c2f6c40268628ec5f14c6d590.jpg   \n",
       "2  64d5d4a258243731dc7bbb1eef49ad74  64d5d4a258243731dc7bbb1eef49ad74.jpg   \n",
       "3  d4684dcdc759dd9cdf41504698d737d8  d4684dcdc759dd9cdf41504698d737d8.jpg   \n",
       "4  6325b6870c54cd47be6ebfbffa620ec7  6325b6870c54cd47be6ebfbffa620ec7.jpg   \n",
       "\n",
       "   labels_0  labels_1  \n",
       "0         4        14  \n",
       "1         0         1  \n",
       "2         0         1  \n",
       "3         4         7  \n",
       "4         4         7  "
      ]
     },
     "execution_count": 12,
     "metadata": {},
     "output_type": "execute_result"
    }
   ],
   "source": [
    "img_df.head()"
   ]
  },
  {
   "cell_type": "code",
   "execution_count": 13,
   "id": "a016e4ad-ada4-46f0-87ab-daef376a382d",
   "metadata": {},
   "outputs": [
    {
     "data": {
      "text/plain": [
       "3"
      ]
     },
     "execution_count": 13,
     "metadata": {},
     "output_type": "execute_result"
    }
   ],
   "source": [
    "test = (3, 4)\n",
    "test[0]"
   ]
  },
  {
   "cell_type": "code",
   "execution_count": 14,
   "id": "c65dcd07-ca0a-4507-93a2-bdd020acf72b",
   "metadata": {},
   "outputs": [
    {
     "name": "stderr",
     "output_type": "stream",
     "text": [
      "C:\\Users\\Nico Janko\\Documents\\Data_Science\\Anaconda\\lib\\site-packages\\PIL\\Image.py:3074: DecompressionBombWarning: Image size (93680328 pixels) exceeds limit of 89478485 pixels, could be decompression bomb DOS attack.\n",
      "  warnings.warn(\n"
     ]
    }
   ],
   "source": [
    "try:\n",
    "    img_lib = pd.read_csv('img_lib.csv')\n",
    "except FileNotFoundError:\n",
    "    img_lib = {'image':[],\n",
    "               'img_array' : [],\n",
    "               'img_mode' : [],\n",
    "               'img_size' : [],\n",
    "               'img_width' : [],\n",
    "               'img_height' : []}\n",
    "    path = 'C:\\\\Users\\\\Nico Janko\\\\Documents\\\\Data_Science\\\\OpenClassRoom\\\\Projet 6\\\\Flipkart\\\\Images\\\\'\n",
    "    for i in img_df['image']:\n",
    "        img = Image.open(path+i)\n",
    "        img_lib['image'].append(i)\n",
    "        img_lib['img_array'].append(np.array(img))\n",
    "        img_lib['img_mode'].append(img.mode)\n",
    "        img_lib['img_width'].append(img.size[0])\n",
    "        img_lib['img_height'].append(img.size[1])\n",
    "        img_lib['img_size'].append(img.size)\n",
    "    img_lib = pd.DataFrame(img_lib)\n",
    "    img_lib.to_csv('img_lib.csv', index = False )\n",
    "    "
   ]
  },
  {
   "cell_type": "code",
   "execution_count": 15,
   "id": "08b57c44-e23a-42e6-80dc-d329c7bc001f",
   "metadata": {},
   "outputs": [],
   "source": [
    "img_df = img_df.join(img_lib, rsuffix = 'image')"
   ]
  },
  {
   "cell_type": "code",
   "execution_count": 16,
   "id": "1ec5b3c9-2fd7-43e5-ba49-dc4b79c7b53a",
   "metadata": {},
   "outputs": [
    {
     "name": "stdout",
     "output_type": "stream",
     "text": [
      "<class 'pandas.core.frame.DataFrame'>\n",
      "RangeIndex: 1010 entries, 0 to 1009\n",
      "Data columns (total 10 columns):\n",
      " #   Column      Non-Null Count  Dtype \n",
      "---  ------      --------------  ----- \n",
      " 0   uniq_id     1010 non-null   object\n",
      " 1   image       1010 non-null   object\n",
      " 2   labels_0    1010 non-null   int32 \n",
      " 3   labels_1    1010 non-null   int32 \n",
      " 4   imageimage  1010 non-null   object\n",
      " 5   img_array   1010 non-null   object\n",
      " 6   img_mode    1010 non-null   object\n",
      " 7   img_size    1010 non-null   object\n",
      " 8   img_width   1010 non-null   int64 \n",
      " 9   img_height  1010 non-null   int64 \n",
      "dtypes: int32(2), int64(2), object(6)\n",
      "memory usage: 71.1+ KB\n"
     ]
    }
   ],
   "source": [
    "img_df.info()"
   ]
  },
  {
   "cell_type": "code",
   "execution_count": 17,
   "id": "8f69f73a-478e-4c39-ae9b-3709670b092b",
   "metadata": {},
   "outputs": [
    {
     "data": {
      "text/html": [
       "<div>\n",
       "<style scoped>\n",
       "    .dataframe tbody tr th:only-of-type {\n",
       "        vertical-align: middle;\n",
       "    }\n",
       "\n",
       "    .dataframe tbody tr th {\n",
       "        vertical-align: top;\n",
       "    }\n",
       "\n",
       "    .dataframe thead th {\n",
       "        text-align: right;\n",
       "    }\n",
       "</style>\n",
       "<table border=\"1\" class=\"dataframe\">\n",
       "  <thead>\n",
       "    <tr style=\"text-align: right;\">\n",
       "      <th></th>\n",
       "      <th>uniq_id</th>\n",
       "      <th>image</th>\n",
       "      <th>labels_0</th>\n",
       "      <th>labels_1</th>\n",
       "      <th>imageimage</th>\n",
       "      <th>img_array</th>\n",
       "      <th>img_mode</th>\n",
       "      <th>img_size</th>\n",
       "      <th>img_width</th>\n",
       "      <th>img_height</th>\n",
       "    </tr>\n",
       "  </thead>\n",
       "  <tbody>\n",
       "    <tr>\n",
       "      <th>194</th>\n",
       "      <td>c109187e7975ee8fdb2b3dfbdd9dce20</td>\n",
       "      <td>c109187e7975ee8fdb2b3dfbdd9dce20.jpg</td>\n",
       "      <td>3</td>\n",
       "      <td>33</td>\n",
       "      <td>c109187e7975ee8fdb2b3dfbdd9dce20.jpg</td>\n",
       "      <td>[[[255, 255, 255], [255, 255, 255], [255, 255,...</td>\n",
       "      <td>RGB</td>\n",
       "      <td>(1100, 503)</td>\n",
       "      <td>1100</td>\n",
       "      <td>503</td>\n",
       "    </tr>\n",
       "  </tbody>\n",
       "</table>\n",
       "</div>"
      ],
      "text/plain": [
       "                              uniq_id                                 image  \\\n",
       "194  c109187e7975ee8fdb2b3dfbdd9dce20  c109187e7975ee8fdb2b3dfbdd9dce20.jpg   \n",
       "\n",
       "     labels_0  labels_1                            imageimage  \\\n",
       "194         3        33  c109187e7975ee8fdb2b3dfbdd9dce20.jpg   \n",
       "\n",
       "                                             img_array img_mode     img_size  \\\n",
       "194  [[[255, 255, 255], [255, 255, 255], [255, 255,...      RGB  (1100, 503)   \n",
       "\n",
       "     img_width  img_height  \n",
       "194       1100         503  "
      ]
     },
     "execution_count": 17,
     "metadata": {},
     "output_type": "execute_result"
    }
   ],
   "source": [
    "img_df.sample(1)"
   ]
  },
  {
   "cell_type": "code",
   "execution_count": 18,
   "id": "07f28ee9-b8fc-47ec-8576-d31d0e0fe8cc",
   "metadata": {},
   "outputs": [
    {
     "name": "stdout",
     "output_type": "stream",
     "text": [
      "['RGB']\n",
      "853\n"
     ]
    }
   ],
   "source": [
    "print(img_df['img_mode'].unique())\n",
    "print(len(img_df['img_size'].unique()))"
   ]
  },
  {
   "cell_type": "code",
   "execution_count": 19,
   "id": "d65929ef-7970-47bb-bcbe-bb73ae7f034a",
   "metadata": {},
   "outputs": [
    {
     "data": {
      "text/plain": [
       "<AxesSubplot:>"
      ]
     },
     "execution_count": 19,
     "metadata": {},
     "output_type": "execute_result"
    },
    {
     "data": {
      "image/png": "[encoded data removed]",
      "text/plain": [
       "<Figure size 1800x720 with 2 Axes>"
      ]
     },
     "metadata": {
      "needs_background": "light"
     },
     "output_type": "display_data"
    }
   ],
   "source": [
    "msno.matrix(img_df)"
   ]
  },
  {
   "cell_type": "code",
   "execution_count": 20,
   "id": "e777471a-badd-46dc-9252-72fd77d951d3",
   "metadata": {},
   "outputs": [],
   "source": [
    "# need to resize the images"
   ]
  },
  {
   "cell_type": "code",
   "execution_count": 21,
   "id": "3ae70443-520a-4315-8c38-afa0ebb99ee2",
   "metadata": {},
   "outputs": [],
   "source": [
    "def img_prepro(x, size = (200,200)):\n",
    "    img = Image.fromarray(x)\n",
    "    img = img.resize(size)\n",
    "    img = ImageOps.autocontrast(img)\n",
    "    img = ImageOps.equalize(img)\n",
    "    img = img.filter(ImageFilter.MedianFilter(3))\n",
    "    x = np.array(img)\n",
    "    return x\n",
    "\n",
    "img_df['new_array'] = img_df['img_array'].apply(lambda x: img_prepro(x))\n"
   ]
  },
  {
   "cell_type": "code",
   "execution_count": 22,
   "id": "54ef3aa9-2544-47f7-a28d-817c936f4f1a",
   "metadata": {},
   "outputs": [],
   "source": [
    "def convert(x, mode = 'L'):\n",
    "    img = Image.fromarray(x)\n",
    "    img = img.convert(mode=mode)\n",
    "    x = np.array(img)\n",
    "    return x\n",
    "\n",
    "img_df['L_array'] = img_df['new_array'].apply(lambda x: convert(x))"
   ]
  },
  {
   "cell_type": "code",
   "execution_count": 23,
   "id": "26482e6f-f2d4-4827-bf9c-d3c2a6387ad8",
   "metadata": {},
   "outputs": [
    {
     "name": "stdout",
     "output_type": "stream",
     "text": [
      "<class 'pandas.core.frame.DataFrame'>\n",
      "RangeIndex: 1010 entries, 0 to 1009\n",
      "Data columns (total 12 columns):\n",
      " #   Column      Non-Null Count  Dtype \n",
      "---  ------      --------------  ----- \n",
      " 0   uniq_id     1010 non-null   object\n",
      " 1   image       1010 non-null   object\n",
      " 2   labels_0    1010 non-null   int32 \n",
      " 3   labels_1    1010 non-null   int32 \n",
      " 4   imageimage  1010 non-null   object\n",
      " 5   img_array   1010 non-null   object\n",
      " 6   img_mode    1010 non-null   object\n",
      " 7   img_size    1010 non-null   object\n",
      " 8   img_width   1010 non-null   int64 \n",
      " 9   img_height  1010 non-null   int64 \n",
      " 10  new_array   1010 non-null   object\n",
      " 11  L_array     1010 non-null   object\n",
      "dtypes: int32(2), int64(2), object(8)\n",
      "memory usage: 86.9+ KB\n"
     ]
    }
   ],
   "source": [
    "img_df.info()"
   ]
  },
  {
   "cell_type": "code",
   "execution_count": 24,
   "id": "1de5099e-e86e-42bb-be87-f2a6d1be19b2",
   "metadata": {},
   "outputs": [],
   "source": [
    "img_df['L_norm'] = img_df['L_array'].apply(lambda x: x/255)"
   ]
  },
  {
   "cell_type": "code",
   "execution_count": 25,
   "id": "1be50c7a-7790-42f1-a532-8cf004ac6738",
   "metadata": {},
   "outputs": [],
   "source": [
    "img_df['L_flatten'] = img_df['L_norm'].apply(lambda x: x.flatten())"
   ]
  },
  {
   "cell_type": "code",
   "execution_count": 29,
   "id": "10194dd2-49a2-4256-9445-4414aa7dd024",
   "metadata": {},
   "outputs": [],
   "source": [
    "from sklearn import cluster, metrics\n",
    "clus = cluster.KMeans(n_clusters = label_0_unique, random_state = 38)\n",
    "clus1 = cluster.KMeans(n_clusters = label_1_unique, random_state = 38)\n",
    "def ari_score(inputs):\n",
    "    clus.fit(inputs)\n",
    "    clus1.fit(inputs)\n",
    "    ari = metrics.adjusted_rand_score(np.array(img_df['labels_0']),\n",
    "                                                 np.array(clus.labels_)\n",
    "                                                 )\n",
    "    ari1 = metrics.adjusted_rand_score(np.array(img_df['labels_1']),\n",
    "                                                 np.array(clus1.labels_)\n",
    "                                                 )\n",
    "    print('The ari scores are {} for categorie 0 and {} for categorie 1.'.format(ari, ari1))\n",
    " "
   ]
  },
  {
   "cell_type": "code",
   "execution_count": 30,
   "id": "d23fdba7-5869-4901-8ee6-e2349d007979",
   "metadata": {},
   "outputs": [
    {
     "data": {
      "image/png": "[encoded data removed]",
      "text/plain": [
       "<PIL.Image.Image image mode=L size=200x200>"
      ]
     },
     "execution_count": 30,
     "metadata": {},
     "output_type": "execute_result"
    }
   ],
   "source": [
    "Image.fromarray(img_df.iloc[38, -3])"
   ]
  },
  {
   "cell_type": "code",
   "execution_count": 31,
   "id": "4884bd90-5d36-4479-bfc7-c2e22fe249d9",
   "metadata": {},
   "outputs": [
    {
     "name": "stdout",
     "output_type": "stream",
     "text": [
      "The ari scores are 0.12350032956345872 for categorie 0 and 0.12767916608204916 for categorie 1.\n"
     ]
    }
   ],
   "source": [
    "ari_score(img_df['L_flatten'].tolist())"
   ]
  },
  {
   "cell_type": "markdown",
   "id": "50e4bb0c-b267-42c2-99c0-93d80586b466",
   "metadata": {},
   "source": [
    "## SIFT"
   ]
  },
  {
   "cell_type": "code",
   "execution_count": 32,
   "id": "a6898ea2-068c-4d70-a8c2-87c3e1129b69",
   "metadata": {},
   "outputs": [],
   "source": [
    "import cv2 as cv"
   ]
  },
  {
   "cell_type": "code",
   "execution_count": 33,
   "id": "bcf6a7b9-81c1-459c-886a-f035196ad7e6",
   "metadata": {},
   "outputs": [
    {
     "data": {
      "image/png": "[encoded data removed]",
      "text/plain": [
       "<Figure size 432x288 with 1 Axes>"
      ]
     },
     "metadata": {
      "needs_background": "light"
     },
     "output_type": "display_data"
    },
    {
     "name": "stdout",
     "output_type": "stream",
     "text": [
      "45\n"
     ]
    }
   ],
   "source": [
    "rand = np.random.randint(1010)\n",
    "sift = cv.SIFT_create(500)\n",
    "test = img_df.iloc[rand, -3]\n",
    "kp, des2 = sift.detectAndCompute(test, None)\n",
    "testkp = cv.drawKeypoints(test, kp, test)\n",
    "plt.imshow(testkp)\n",
    "plt.show()\n",
    "print(des2.shape[0])"
   ]
  },
  {
   "cell_type": "code",
   "execution_count": 248,
   "id": "bf93bc22-5522-48d3-b79e-d245d3b071df",
   "metadata": {},
   "outputs": [
    {
     "name": "stdout",
     "output_type": "stream",
     "text": [
      "(310, 128) (167, 128)\n",
      "(61056,)\n"
     ]
    }
   ],
   "source": [
    "print(des.shape, des2.shape)\n",
    "test = np.append(des, des2, axis = 0)\n",
    "test2 = np.concatenate(test, axis = 0)\n",
    "print(test2.shape)"
   ]
  },
  {
   "cell_type": "code",
   "execution_count": 261,
   "id": "bb980ae0-7c7a-4d60-b140-5f54853d0b51",
   "metadata": {},
   "outputs": [
    {
     "name": "stdout",
     "output_type": "stream",
     "text": [
      "(3, 2)\n",
      "(2, 2)\n",
      "<class 'numpy.ndarray'>\n"
     ]
    }
   ],
   "source": [
    "test = np.array([[0,1], [3,5], [6,7]])\n",
    "print(test.shape)\n",
    "test2 = np.array([[5,6], [8,9]])\n",
    "print(test2.shape)\n",
    "prout = []\n",
    "prout.append(test)\n",
    "prout.append(test2)\n",
    "\n",
    "print(type(np.asarray(prout, dtype=object)))"
   ]
  },
  {
   "cell_type": "code",
   "execution_count": 35,
   "id": "b5025268-31ff-42f7-b70d-f5f1128117fa",
   "metadata": {},
   "outputs": [],
   "source": [
    "# create descriptors for each image\n",
    "def des_img(x, max_feat = 500):\n",
    "    sift = cv.SIFT_create(max_feat)\n",
    "    kp, des = sift.detectAndCompute(x, None)\n",
    "    return des\n",
    "\n",
    "sift_df = pd.DataFrame()\n",
    "sift_df['des'] = img_df['L_array'].apply(lambda x: des_img(x))\n"
   ]
  },
  {
   "cell_type": "code",
   "execution_count": 36,
   "id": "d2453eb8-1e23-498a-940b-f77598a11291",
   "metadata": {},
   "outputs": [
    {
     "name": "stdout",
     "output_type": "stream",
     "text": [
      "(302402, 128)\n"
     ]
    }
   ],
   "source": [
    "#list of descriptors by img\n",
    "sift_img = np.array(sift_df['des'].tolist(), dtype=object)\n",
    "\n",
    "#array of all descriptors\n",
    "sift_img_all = np.concatenate(sift_img, axis=0)\n",
    "print(sift_img_all.shape)"
   ]
  },
  {
   "cell_type": "code",
   "execution_count": 37,
   "id": "7da670a7-bc93-4459-ac97-e950917233f3",
   "metadata": {},
   "outputs": [
    {
     "name": "stdout",
     "output_type": "stream",
     "text": [
      "550\n"
     ]
    },
    {
     "data": {
      "text/plain": [
       "KMeans(n_clusters=550, random_state=38)"
      ]
     },
     "execution_count": 37,
     "metadata": {},
     "output_type": "execute_result"
    }
   ],
   "source": [
    "# clusters the descriptors\n",
    "k = int(round(np.sqrt(len(sift_img_all)),0))\n",
    "print(k)\n",
    "\n",
    "clus_des = cluster.KMeans(n_clusters=k, random_state = 38)\n",
    "clus_des.fit(sift_img_all)"
   ]
  },
  {
   "cell_type": "code",
   "execution_count": 38,
   "id": "29d8b63b-48d8-4634-9d40-6a2185d742b5",
   "metadata": {},
   "outputs": [],
   "source": [
    "from joblib import dump, load"
   ]
  },
  {
   "cell_type": "code",
   "execution_count": 39,
   "id": "dc921f4d-5c4b-495e-a115-edbf50c33cd0",
   "metadata": {},
   "outputs": [
    {
     "data": {
      "text/plain": [
       "['clus_des.joblib']"
      ]
     },
     "execution_count": 39,
     "metadata": {},
     "output_type": "execute_result"
    }
   ],
   "source": [
    "dump(clus_des, 'clus_des.joblib')"
   ]
  },
  {
   "cell_type": "code",
   "execution_count": null,
   "id": "41df1201-0a9d-478b-9e69-18ff4389efb5",
   "metadata": {},
   "outputs": [],
   "source": []
  }
 ],
 "metadata": {
  "kernelspec": {
   "display_name": "Python 3 (ipykernel)",
   "language": "python",
   "name": "python3"
  },
  "language_info": {
   "codemirror_mode": {
    "name": "ipython",
    "version": 3
   },
   "file_extension": ".py",
   "mimetype": "text/x-python",
   "name": "python",
   "nbconvert_exporter": "python",
   "pygments_lexer": "ipython3",
   "version": "3.9.12"
  }
 },
 "nbformat": 4,
 "nbformat_minor": 5
}
