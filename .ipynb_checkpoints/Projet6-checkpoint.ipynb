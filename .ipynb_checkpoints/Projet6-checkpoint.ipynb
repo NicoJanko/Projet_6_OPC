{
 "cells": [
  {
   "cell_type": "code",
   "execution_count": 1,
   "id": "c4dc6bec-7409-4255-902d-718806555ffa",
   "metadata": {
    "execution": {
     "iopub.execute_input": "2023-01-06T17:04:17.126047Z",
     "iopub.status.busy": "2023-01-06T17:04:17.126047Z",
     "iopub.status.idle": "2023-01-06T17:04:18.294054Z",
     "shell.execute_reply": "2023-01-06T17:04:18.294054Z",
     "shell.execute_reply.started": "2023-01-06T17:04:17.126047Z"
    },
    "tags": []
   },
   "outputs": [],
   "source": [
    "import pandas as pd\n",
    "pd.options.mode.chained_assignment = None  # default='warn'\n",
    "import numpy as np\n",
    "import matplotlib.pyplot as plt\n",
    "import missingno as msno\n",
    "import seaborn as sns\n",
    "import os"
   ]
  },
  {
   "cell_type": "code",
   "execution_count": 2,
   "id": "b3634dbe-0c4d-4110-bea7-1bf2305474e5",
   "metadata": {
    "execution": {
     "iopub.execute_input": "2023-01-06T17:04:18.296022Z",
     "iopub.status.busy": "2023-01-06T17:04:18.296022Z",
     "iopub.status.idle": "2023-01-06T17:04:18.343022Z",
     "shell.execute_reply": "2023-01-06T17:04:18.342021Z",
     "shell.execute_reply.started": "2023-01-06T17:04:18.296022Z"
    },
    "tags": []
   },
   "outputs": [],
   "source": [
    "try:\n",
    "    path = 'E:\\\\Data_Science\\\\OpenClassRoom\\\\Projet 6\\\\Flipkart'\n",
    "    df=pd.read_csv(path + '\\\\flipkart_com-ecommerce_sample_1050.csv')\n",
    "except FileNotFoundError:\n",
    "    path = 'C:\\\\Users\\\\Nico Janko\\\\Documents\\\\Data_Science\\\\OpenClassRoom\\\\Projet 6\\\\Flipkart'\n",
    "    df = pd.read_csv(path + '\\\\flipkart_com-ecommerce_sample_1050.csv')"
   ]
  },
  {
   "cell_type": "code",
   "execution_count": 3,
   "id": "aa488210-0213-4819-b847-5d7f00314b47",
   "metadata": {
    "execution": {
     "iopub.execute_input": "2023-01-06T17:04:18.344023Z",
     "iopub.status.busy": "2023-01-06T17:04:18.344023Z",
     "iopub.status.idle": "2023-01-06T17:04:18.359024Z",
     "shell.execute_reply": "2023-01-06T17:04:18.358025Z",
     "shell.execute_reply.started": "2023-01-06T17:04:18.344023Z"
    },
    "tags": []
   },
   "outputs": [
    {
     "name": "stdout",
     "output_type": "stream",
     "text": [
      "<class 'pandas.core.frame.DataFrame'>\n",
      "RangeIndex: 1050 entries, 0 to 1049\n",
      "Data columns (total 15 columns):\n",
      " #   Column                   Non-Null Count  Dtype  \n",
      "---  ------                   --------------  -----  \n",
      " 0   uniq_id                  1050 non-null   object \n",
      " 1   crawl_timestamp          1050 non-null   object \n",
      " 2   product_url              1050 non-null   object \n",
      " 3   product_name             1050 non-null   object \n",
      " 4   product_category_tree    1050 non-null   object \n",
      " 5   pid                      1050 non-null   object \n",
      " 6   retail_price             1049 non-null   float64\n",
      " 7   discounted_price         1049 non-null   float64\n",
      " 8   image                    1050 non-null   object \n",
      " 9   is_FK_Advantage_product  1050 non-null   bool   \n",
      " 10  description              1050 non-null   object \n",
      " 11  product_rating           1050 non-null   object \n",
      " 12  overall_rating           1050 non-null   object \n",
      " 13  brand                    712 non-null    object \n",
      " 14  product_specifications   1049 non-null   object \n",
      "dtypes: bool(1), float64(2), object(12)\n",
      "memory usage: 116.0+ KB\n"
     ]
    }
   ],
   "source": [
    "df.info()"
   ]
  },
  {
   "cell_type": "markdown",
   "id": "9ede0db3-7731-4e1b-b45e-fe8b3d533623",
   "metadata": {},
   "source": [
    "# EDA"
   ]
  },
  {
   "cell_type": "code",
   "execution_count": 4,
   "id": "447d7784-7b62-4f21-8a15-e82a4019a858",
   "metadata": {
    "execution": {
     "iopub.execute_input": "2023-01-06T17:04:18.569023Z",
     "iopub.status.busy": "2023-01-06T17:04:18.569023Z",
     "iopub.status.idle": "2023-01-06T17:04:18.579023Z",
     "shell.execute_reply": "2023-01-06T17:04:18.578022Z",
     "shell.execute_reply.started": "2023-01-06T17:04:18.569023Z"
    },
    "tags": []
   },
   "outputs": [
    {
     "data": {
      "text/plain": [
       "0       Key Features of Elegance Polyester Multicolor ...\n",
       "1       Specifications of Sathiyas Cotton Bath Towel (...\n",
       "2       Key Features of Eurospa Cotton Terry Face Towe...\n",
       "3       Key Features of SANTOSH ROYAL FASHION Cotton P...\n",
       "4       Key Features of Jaipur Print Cotton Floral Kin...\n",
       "                              ...                        \n",
       "1045    Oren Empower Extra Large Self Adhesive Sticker...\n",
       "1046    Wallmantra Large Vinyl Sticker Sticker (Pack o...\n",
       "1047    Buy Uberlyfe Extra Large Pigmented Polyvinyl F...\n",
       "1048    Buy Wallmantra Medium Vinyl Sticker Sticker fo...\n",
       "1049    Buy Uberlyfe Large Vinyl Sticker for Rs.595 on...\n",
       "Name: description, Length: 1050, dtype: object"
      ]
     },
     "execution_count": 4,
     "metadata": {},
     "output_type": "execute_result"
    }
   ],
   "source": [
    "df['description']"
   ]
  },
  {
   "cell_type": "code",
   "execution_count": 5,
   "id": "166e0e25-a1b2-4f89-ab8d-e6b7dc65386b",
   "metadata": {
    "execution": {
     "iopub.execute_input": "2023-01-06T17:04:18.868106Z",
     "iopub.status.busy": "2023-01-06T17:04:18.867088Z",
     "iopub.status.idle": "2023-01-06T17:04:18.876067Z",
     "shell.execute_reply": "2023-01-06T17:04:18.876067Z",
     "shell.execute_reply.started": "2023-01-06T17:04:18.868106Z"
    },
    "tags": []
   },
   "outputs": [
    {
     "name": "stdout",
     "output_type": "stream",
     "text": [
      "7\n",
      "63\n"
     ]
    }
   ],
   "source": [
    "df['product_category_0'] = df['product_category_tree'].apply(lambda x: x.split(' >> ')[0])\n",
    "df['product_category_0'] = df['product_category_0'].apply(lambda x: x.replace('[\"',''))\n",
    "print(df['product_category_0'].unique().shape[0])\n",
    "df['product_category_1'] = df['product_category_tree'].apply(lambda x: x.split(' >> ')[1])\n",
    "print(df['product_category_1'].unique().shape[0])"
   ]
  },
  {
   "cell_type": "code",
   "execution_count": 6,
   "id": "ffa11e08-a2ed-42ee-83b3-e65dc2358e92",
   "metadata": {
    "execution": {
     "iopub.execute_input": "2023-01-06T17:04:20.688229Z",
     "iopub.status.busy": "2023-01-06T17:04:20.688229Z",
     "iopub.status.idle": "2023-01-06T17:04:20.702180Z",
     "shell.execute_reply": "2023-01-06T17:04:20.702180Z",
     "shell.execute_reply.started": "2023-01-06T17:04:20.688229Z"
    },
    "tags": []
   },
   "outputs": [
    {
     "name": "stdout",
     "output_type": "stream",
     "text": [
      "7 37\n"
     ]
    }
   ],
   "source": [
    "# select rows from categories with only 1 members\n",
    "idx = list(df.groupby('product_category_1').filter(lambda x: len(x) < 4).index)\n",
    "df = df.drop(index = idx)\n",
    "label_0_unique = df['product_category_0'].unique().shape[0]\n",
    "label_1_unique = df['product_category_1'].unique().shape[0]\n",
    "print(label_0_unique, label_1_unique)"
   ]
  },
  {
   "cell_type": "code",
   "execution_count": 7,
   "id": "70a5fe45-102c-466d-a7ef-9ee832a417f3",
   "metadata": {
    "execution": {
     "iopub.execute_input": "2023-01-06T17:04:21.002286Z",
     "iopub.status.busy": "2023-01-06T17:04:21.002286Z",
     "iopub.status.idle": "2023-01-06T17:04:21.018283Z",
     "shell.execute_reply": "2023-01-06T17:04:21.018283Z",
     "shell.execute_reply.started": "2023-01-06T17:04:21.002286Z"
    },
    "tags": []
   },
   "outputs": [
    {
     "data": {
      "text/plain": [
       "Wrist Watches                  149\n",
       "Laptop Accessories              87\n",
       "Infant Wear                     84\n",
       "Coffee Mugs                     74\n",
       "Showpieces                      71\n",
       "Bed Linen                       65\n",
       "Fragrances                      65\n",
       "Network Components              49\n",
       "Cookware                        27\n",
       "Table Decor & Handicrafts       27\n",
       "Combos and Kits                 24\n",
       "Wall Decor & Clocks             22\n",
       "Bath Linen                      21\n",
       "Curtains & Accessories          19\n",
       "Makeup                          18\n",
       "Body and Skin Care              15\n",
       "Baby & Kids Gifts               15\n",
       "Baby Bedding                    15\n",
       "Kitchen & Dining Linen          14\n",
       "Baby Bath & Skin                14\n",
       "Decorative Lighting & Lamps     14\n",
       "Kitchen Tools                   14\n",
       "Cushions, Pillows & Covers      13\n",
       "Containers & Bottles            13\n",
       "Hair Care                        9\n",
       "Bar & Glassware                  8\n",
       "Feeding & Nursing                8\n",
       "Health Care                      7\n",
       "Lighting                         7\n",
       "Diapering & Potty Training       7\n",
       "Bath and Spa                     7\n",
       "Floor Coverings                  6\n",
       "Showpiece                        5\n",
       "Flowers, Plants & Vases          5\n",
       "Computer Peripherals             4\n",
       "Living                           4\n",
       "Baby Grooming                    4\n",
       "Name: product_category_1, dtype: int64"
      ]
     },
     "execution_count": 7,
     "metadata": {},
     "output_type": "execute_result"
    }
   ],
   "source": [
    "df['product_category_1'].value_counts()"
   ]
  },
  {
   "cell_type": "code",
   "execution_count": 8,
   "id": "004da212-46d2-4905-b62e-f6eede5ee828",
   "metadata": {
    "execution": {
     "iopub.execute_input": "2023-01-06T17:04:23.387870Z",
     "iopub.status.busy": "2023-01-06T17:04:23.387870Z",
     "iopub.status.idle": "2023-01-06T17:04:23.594837Z",
     "shell.execute_reply": "2023-01-06T17:04:23.594045Z",
     "shell.execute_reply.started": "2023-01-06T17:04:23.387870Z"
    },
    "tags": []
   },
   "outputs": [],
   "source": [
    "from sklearn.preprocessing import LabelEncoder\n",
    "le = LabelEncoder()\n",
    "df['labels_0'] = le.fit_transform(df['product_category_0'])\n",
    "df['labels_1'] = le.fit_transform(df['product_category_1'])"
   ]
  },
  {
   "cell_type": "code",
   "execution_count": 9,
   "id": "262befd2-9286-4721-b59a-479e44e02fbd",
   "metadata": {
    "execution": {
     "iopub.execute_input": "2023-01-06T17:04:23.952552Z",
     "iopub.status.busy": "2023-01-06T17:04:23.951546Z",
     "iopub.status.idle": "2023-01-06T17:04:23.970550Z",
     "shell.execute_reply": "2023-01-06T17:04:23.970550Z",
     "shell.execute_reply.started": "2023-01-06T17:04:23.952552Z"
    },
    "tags": []
   },
   "outputs": [
    {
     "name": "stdout",
     "output_type": "stream",
     "text": [
      "<class 'pandas.core.frame.DataFrame'>\n",
      "Int64Index: 1010 entries, 0 to 1049\n",
      "Data columns (total 19 columns):\n",
      " #   Column                   Non-Null Count  Dtype  \n",
      "---  ------                   --------------  -----  \n",
      " 0   uniq_id                  1010 non-null   object \n",
      " 1   crawl_timestamp          1010 non-null   object \n",
      " 2   product_url              1010 non-null   object \n",
      " 3   product_name             1010 non-null   object \n",
      " 4   product_category_tree    1010 non-null   object \n",
      " 5   pid                      1010 non-null   object \n",
      " 6   retail_price             1009 non-null   float64\n",
      " 7   discounted_price         1009 non-null   float64\n",
      " 8   image                    1010 non-null   object \n",
      " 9   is_FK_Advantage_product  1010 non-null   bool   \n",
      " 10  description              1010 non-null   object \n",
      " 11  product_rating           1010 non-null   object \n",
      " 12  overall_rating           1010 non-null   object \n",
      " 13  brand                    674 non-null    object \n",
      " 14  product_specifications   1009 non-null   object \n",
      " 15  product_category_0       1010 non-null   object \n",
      " 16  product_category_1       1010 non-null   object \n",
      " 17  labels_0                 1010 non-null   int32  \n",
      " 18  labels_1                 1010 non-null   int32  \n",
      "dtypes: bool(1), float64(2), int32(2), object(14)\n",
      "memory usage: 143.0+ KB\n"
     ]
    }
   ],
   "source": [
    "df.info()"
   ]
  },
  {
   "cell_type": "markdown",
   "id": "bcfd049b-6db3-47b7-b1fd-219e00b91130",
   "metadata": {
    "execution": {
     "iopub.execute_input": "2022-12-13T09:24:53.081513Z",
     "iopub.status.busy": "2022-12-13T09:24:53.081513Z",
     "iopub.status.idle": "2022-12-13T09:24:53.102513Z",
     "shell.execute_reply": "2022-12-13T09:24:53.102513Z",
     "shell.execute_reply.started": "2022-12-13T09:24:53.081513Z"
    },
    "tags": []
   },
   "source": [
    "# Text"
   ]
  },
  {
   "cell_type": "code",
   "execution_count": 22,
   "id": "a8a6f729-e3ab-4028-aaa9-87b82f790788",
   "metadata": {
    "execution": {
     "iopub.execute_input": "2023-01-04T13:01:16.803066Z",
     "iopub.status.busy": "2023-01-04T13:01:16.802099Z",
     "iopub.status.idle": "2023-01-04T13:01:16.808097Z",
     "shell.execute_reply": "2023-01-04T13:01:16.808097Z",
     "shell.execute_reply.started": "2023-01-04T13:01:16.803066Z"
    },
    "tags": []
   },
   "outputs": [],
   "source": [
    "txt_df = df.iloc[:, [0, 10, 17, 18]]"
   ]
  },
  {
   "cell_type": "code",
   "execution_count": 25,
   "id": "6df0d65c-23c2-42a2-a29c-4eb8a58f0691",
   "metadata": {
    "execution": {
     "iopub.execute_input": "2023-01-04T13:03:33.110552Z",
     "iopub.status.busy": "2023-01-04T13:03:33.110552Z",
     "iopub.status.idle": "2023-01-04T13:03:33.290628Z",
     "shell.execute_reply": "2023-01-04T13:03:33.290628Z",
     "shell.execute_reply.started": "2023-01-04T13:03:33.110552Z"
    },
    "tags": []
   },
   "outputs": [
    {
     "data": {
      "text/plain": [
       "<AxesSubplot:>"
      ]
     },
     "execution_count": 25,
     "metadata": {},
     "output_type": "execute_result"
    },
    {
     "data": {
      "image/png": "[encoded data removed]",
      "text/plain": [
       "<Figure size 1800x720 with 2 Axes>"
      ]
     },
     "metadata": {
      "needs_background": "light"
     },
     "output_type": "display_data"
    }
   ],
   "source": [
    "msno.matrix(txt_df)"
   ]
  },
  {
   "cell_type": "code",
   "execution_count": 26,
   "id": "53d5b16b-81d8-43cd-a8b9-8005623c5649",
   "metadata": {
    "execution": {
     "iopub.execute_input": "2023-01-04T13:03:33.717235Z",
     "iopub.status.busy": "2023-01-04T13:03:33.717235Z",
     "iopub.status.idle": "2023-01-04T13:03:33.832769Z",
     "shell.execute_reply": "2023-01-04T13:03:33.832769Z",
     "shell.execute_reply.started": "2023-01-04T13:03:33.717235Z"
    },
    "tags": []
   },
   "outputs": [
    {
     "data": {
      "image/png": "[encoded data removed]",
      "text/plain": [
       "<Figure size 720x720 with 1 Axes>"
      ]
     },
     "metadata": {
      "needs_background": "light"
     },
     "output_type": "display_data"
    }
   ],
   "source": [
    "txt_df['lenght'] = txt_df['description'].apply(lambda x: len(x))\n",
    "txt_df['lenght'].describe()\n",
    "fig, ax = plt.subplots(figsize=(10, 10))\n",
    "sns.boxplot(data = txt_df['lenght'],\n",
    "            ax=ax\n",
    "           )\n",
    "ax.text(0.75,\n",
    "        0.8,\n",
    "        str(txt_df['lenght'].describe()),\n",
    "        transform=ax.transAxes\n",
    "        )\n",
    "plt.show()"
   ]
  },
  {
   "cell_type": "code",
   "execution_count": 27,
   "id": "b9d2d8aa-7546-4fa8-b51c-866a38976846",
   "metadata": {
    "execution": {
     "iopub.execute_input": "2023-01-04T13:03:33.913747Z",
     "iopub.status.busy": "2023-01-04T13:03:33.913747Z",
     "iopub.status.idle": "2023-01-04T13:03:33.926776Z",
     "shell.execute_reply": "2023-01-04T13:03:33.926776Z",
     "shell.execute_reply.started": "2023-01-04T13:03:33.913747Z"
    },
    "tags": []
   },
   "outputs": [
    {
     "name": "stdout",
     "output_type": "stream",
     "text": [
      "84 8.316831683168317\n"
     ]
    },
    {
     "data": {
      "text/plain": [
       "'Key Features of Sunlast 16 inch Laptop Backpack Laptop Backpack with solar panel Comfortable back panel with air-flow design Adjustable sternum strap Large outer elasticated mesh side pocket and a top carry handle Padded and Adjustable shoulder straps Charge your mobile by solar power Mobile power backup option Long life Easy to use,Sunlast 16 inch Laptop Backpack (Yellow) Price: Rs. 2,348 The Sunlast New Laptop Backpack with Solar Panel ensures complete safety to your laptop with its high-quality built and wide range of built-in features. With the inside of this bag featuring a protective padding, you can be rest assured that the laptop inside it will be well cushioned from any accidental damage caused when you bump into any surface. As it is made of nylon, this laptop backpack can withstand abrasions and is long lasting. This Sunlast Backpack comes with a unique solar panel which allows you to charge your mobile phone anywhere anytime. This Sunlast Laptop backpack with solar panel is a great innovation in the field of mobile charging and other similar applications. This solar panel has USB output pins suitable for mobile phones. This is a great solar charger bag available at the best price. The best feature of this bag is its portability and durability. This solar charger is suitable for all smart phones and charging time depends on battery mAh. With this beautiful product, you can charge your phone in an eco-friendly way with no cost to you or the environment. Along with being durable, nylon also ensures that this backpack can survive rugged outdoor use, thus you can confidently wear this bag while you are out camping. This backpack is also water-resistant and keeps your laptop safe in wet and damp conditions. The Sunlast laptop backpack is perfect for your laptop. This backpack features top loading and can accommodate a large size laptop easily. It is a lightweight and comfortable laptop carry bag and comes with padded straps that distribute the weight evenly on your shoulders without stressing your back and shoulders. You can adjust the cushioned straps for a snug-fit. This Sunlast backpack is water resistant and protects your laptop and other accessories from water. It is made to suit all the styles and can be used by both college-goers and office-goers. It offers enough space for you to carry your essentials along with your laptop and its accessories. It features a zippered compartment that is big enough to hold your laptop. It also features one front pocket with an office organiser. You can use it to store the charger, mouse, pen drive, notepad, pen and other essentials. It features two mesh side pockets, where you can keep your water bottle or any other item for quick access. It is spacious enough to store your belongings on a one-day business trip as well. Buy this Sunlast backpack and carry your laptop and other accessories safely and in style.,Specifications of Sunlast 16 inch Laptop Backpack (Yellow) General Brand Sunlast Trolley No Expandable No Type Laptop Backpack Model Name L003 Yellow solar mobile charger Material Nylon Compatible Laptop Size 16 inch Style Code L003 Yellow Closure Type Zip Color Code Yellow Color Yellow Dimensions Exterior Width 350 mm Weight 820 g Exterior Height 450 mm In the Box Laptop Backpack With Solar Panel Body Features Hip Strap No Secret Security Compartment Yes Waterproof Yes Rain Cover No Shoulder Strap Adjustable Number of Compartments 4'"
      ]
     },
     "execution_count": 27,
     "metadata": {},
     "output_type": "execute_result"
    }
   ],
   "source": [
    "out = []\n",
    "q1 = txt_df['lenght'].quantile(0.25)\n",
    "q3 = txt_df['lenght'].quantile(0.75)\n",
    "interq = q3-q1\n",
    "out = txt_df.loc[(txt_df['lenght'] < (q1-1.5*interq)) | (txt_df['lenght'] > (q3+1.5*interq))]\n",
    "print(out.shape[0], out.shape[0]/txt_df.shape[0]*100)\n",
    "out.sort_values(by='lenght', ascending = False).iloc[1, 1]"
   ]
  },
  {
   "cell_type": "code",
   "execution_count": 28,
   "id": "8da11c3f-6747-4e06-8b90-353672c85870",
   "metadata": {
    "execution": {
     "iopub.execute_input": "2023-01-04T13:03:34.245041Z",
     "iopub.status.busy": "2023-01-04T13:03:34.245041Z",
     "iopub.status.idle": "2023-01-04T13:03:39.942485Z",
     "shell.execute_reply": "2023-01-04T13:03:39.942485Z",
     "shell.execute_reply.started": "2023-01-04T13:03:34.245041Z"
    },
    "tags": []
   },
   "outputs": [
    {
     "data": {
      "text/plain": [
       "<spacy_language_detection.spacy_language_detector.LanguageDetector at 0x1ed6cb6bd30>"
      ]
     },
     "execution_count": 28,
     "metadata": {},
     "output_type": "execute_result"
    }
   ],
   "source": [
    "# check if all the sentences are english\n",
    "from spacy_language_detection import LanguageDetector\n",
    "import en_core_web_sm\n",
    "from spacy.language import Language\n",
    "import spacy\n",
    "\n",
    "def get_lang_detector(nlp, name):\n",
    "    return LanguageDetector(seed=38)\n",
    "nlp = en_core_web_sm.load()\n",
    "Language.factory(\"language_detector\", func=get_lang_detector)\n",
    "nlp.add_pipe('language_detector', last=True)"
   ]
  },
  {
   "cell_type": "code",
   "execution_count": 29,
   "id": "a01169b3-293f-4e3e-8a84-8bee1d0f19e6",
   "metadata": {
    "execution": {
     "iopub.execute_input": "2023-01-04T13:03:39.943475Z",
     "iopub.status.busy": "2023-01-04T13:03:39.943475Z",
     "iopub.status.idle": "2023-01-04T13:03:58.181320Z",
     "shell.execute_reply": "2023-01-04T13:03:58.181320Z",
     "shell.execute_reply.started": "2023-01-04T13:03:39.943475Z"
    },
    "tags": []
   },
   "outputs": [
    {
     "data": {
      "text/plain": [
       "array(['en', 'it'], dtype=object)"
      ]
     },
     "execution_count": 29,
     "metadata": {},
     "output_type": "execute_result"
    }
   ],
   "source": [
    "def lang_detect(x):\n",
    "    results = nlp(x)._.language\n",
    "    return results['language']\n",
    "\n",
    "txt_df['lang'] = txt_df['description'].apply(lambda x: lang_detect(x))\n",
    "txt_df['lang'].unique()"
   ]
  },
  {
   "cell_type": "code",
   "execution_count": 30,
   "id": "9dd3727f-6a84-4055-936d-46f31eccb284",
   "metadata": {
    "execution": {
     "iopub.execute_input": "2023-01-04T13:03:58.182240Z",
     "iopub.status.busy": "2023-01-04T13:03:58.182240Z",
     "iopub.status.idle": "2023-01-04T13:03:58.197239Z",
     "shell.execute_reply": "2023-01-04T13:03:58.197239Z",
     "shell.execute_reply.started": "2023-01-04T13:03:58.182240Z"
    },
    "tags": []
   },
   "outputs": [],
   "source": [
    "idx = txt_df.loc[txt_df['lang'] == 'it'].index\n",
    "txt_df = txt_df.drop(index = idx)"
   ]
  },
  {
   "cell_type": "markdown",
   "id": "472dfe5c-5a76-4ff3-81eb-8337156bc045",
   "metadata": {},
   "source": [
    "## Preprocessing"
   ]
  },
  {
   "cell_type": "code",
   "execution_count": 31,
   "id": "71b629e0-8929-406f-94f8-331c60def133",
   "metadata": {
    "execution": {
     "iopub.execute_input": "2023-01-04T13:03:58.199241Z",
     "iopub.status.busy": "2023-01-04T13:03:58.199241Z",
     "iopub.status.idle": "2023-01-04T13:03:59.015639Z",
     "shell.execute_reply": "2023-01-04T13:03:59.015639Z",
     "shell.execute_reply.started": "2023-01-04T13:03:58.199241Z"
    },
    "tags": []
   },
   "outputs": [
    {
     "name": "stderr",
     "output_type": "stream",
     "text": [
      "[nltk_data] Downloading package stopwords to\n",
      "[nltk_data]     C:\\Users\\Nico\\AppData\\Roaming\\nltk_data...\n",
      "[nltk_data]   Package stopwords is already up-to-date!\n",
      "[nltk_data] Downloading package punkt to\n",
      "[nltk_data]     C:\\Users\\Nico\\AppData\\Roaming\\nltk_data...\n",
      "[nltk_data]   Package punkt is already up-to-date!\n",
      "[nltk_data] Downloading package words to\n",
      "[nltk_data]     C:\\Users\\Nico\\AppData\\Roaming\\nltk_data...\n",
      "[nltk_data]   Package words is already up-to-date!\n",
      "[nltk_data] Downloading package wordnet to\n",
      "[nltk_data]     C:\\Users\\Nico\\AppData\\Roaming\\nltk_data...\n",
      "[nltk_data]   Package wordnet is already up-to-date!\n",
      "[nltk_data] Downloading package omw-1.4 to\n",
      "[nltk_data]     C:\\Users\\Nico\\AppData\\Roaming\\nltk_data...\n",
      "[nltk_data]   Package omw-1.4 is already up-to-date!\n"
     ]
    },
    {
     "data": {
      "text/plain": [
       "True"
      ]
     },
     "execution_count": 31,
     "metadata": {},
     "output_type": "execute_result"
    }
   ],
   "source": [
    "import nltk \n",
    "import string\n",
    "nltk.download('stopwords')\n",
    "nltk.download('punkt')\n",
    "nltk.download('words')\n",
    "nltk.download('wordnet')\n",
    "nltk.download('omw-1.4')"
   ]
  },
  {
   "cell_type": "code",
   "execution_count": 32,
   "id": "e90483c0-ff29-49ed-9209-edb7dac1c051",
   "metadata": {
    "execution": {
     "iopub.execute_input": "2023-01-04T13:03:59.016604Z",
     "iopub.status.busy": "2023-01-04T13:03:59.016604Z",
     "iopub.status.idle": "2023-01-04T13:03:59.123965Z",
     "shell.execute_reply": "2023-01-04T13:03:59.123965Z",
     "shell.execute_reply.started": "2023-01-04T13:03:59.016604Z"
    },
    "tags": []
   },
   "outputs": [],
   "source": [
    "words = set(nltk.corpus.words.words())\n",
    "stopwords = nltk.corpus.stopwords.words('english')\n",
    "lemmatizer = nltk.stem.WordNetLemmatizer()\n",
    "cust_word = ['buy',\n",
    "             'online',\n",
    "             'flipkat.com',\n",
    "             'discount',\n",
    "             'free',\n",
    "             'shipping',\n",
    "             'delivery',\n",
    "             'shipping',\n",
    "             'cash',\n",
    "             'product',\n",
    "             'replacement',\n",
    "             'guarantee',\n",
    "             'sale',\n",
    "             'genuine',\n",
    "             'content',\n",
    "             'package',\n",
    "             \n",
    "             ]\n",
    "\n",
    "def prepro(x):\n",
    "    prepro_list = []\n",
    "    for sentence in x:\n",
    "        sent_wo_punc = \"\".join([i.lower() for i in sentence if i not in string.punctuation])\n",
    "        sent_wo_num = ''.join([i for i in sent_wo_punc if not i.isdigit()])\n",
    "        sent_token = nltk.tokenize.word_tokenize(sent_wo_num)\n",
    "        sent_token_wo_punc = [i for i in sent_token if i not in string.punctuation]\n",
    "        token_wo_stop = [i for i in sent_token_wo_punc if i not in stopwords]\n",
    "        token_wo_cust = [i for i in token_wo_stop if i not in cust_word]\n",
    "        lem = (lemmatizer.lemmatize(i) for i in token_wo_cust if i not in string.punctuation)\n",
    "        clean = ' '.join(i for i in lem if len(str(i)) > 2)\n",
    "        prepro_list.append(clean)\n",
    "    return prepro_list"
   ]
  },
  {
   "cell_type": "code",
   "execution_count": 33,
   "id": "522ff401-5b7b-453d-8d87-c3035d08d46c",
   "metadata": {
    "execution": {
     "iopub.execute_input": "2023-01-04T13:03:59.124914Z",
     "iopub.status.busy": "2023-01-04T13:03:59.124914Z",
     "iopub.status.idle": "2023-01-04T13:03:59.139884Z",
     "shell.execute_reply": "2023-01-04T13:03:59.139884Z",
     "shell.execute_reply.started": "2023-01-04T13:03:59.124914Z"
    },
    "tags": []
   },
   "outputs": [],
   "source": [
    "sentence = txt_df['description'].sample()"
   ]
  },
  {
   "cell_type": "code",
   "execution_count": 34,
   "id": "4abe0ef3-80ec-4e6d-a316-70d9f1bb37d9",
   "metadata": {
    "execution": {
     "iopub.execute_input": "2023-01-04T13:03:59.140884Z",
     "iopub.status.busy": "2023-01-04T13:03:59.140884Z",
     "iopub.status.idle": "2023-01-04T13:04:00.583942Z",
     "shell.execute_reply": "2023-01-04T13:04:00.580893Z",
     "shell.execute_reply.started": "2023-01-04T13:03:59.140884Z"
    },
    "tags": []
   },
   "outputs": [
    {
     "data": {
      "text/plain": [
       "'flipkart.com yardley red rose lace combo set flipkart.com product day'"
      ]
     },
     "execution_count": 34,
     "metadata": {},
     "output_type": "execute_result"
    }
   ],
   "source": [
    "\n",
    "sentence = txt_df['description'].sample()\n",
    "sent_wo_punc = \"\".join([i.lower() for i in sentence if i not in string.punctuation])\n",
    "sent_wo_num = ''.join([i for i in sent_wo_punc if not i.isdigit()])\n",
    "sent_token = nltk.tokenize.word_tokenize(sent_wo_num)\n",
    "sent_token_wo_punc = [i for i in sent_token if i not in string.punctuation]\n",
    "token_wo_stop = [i for i in sent_token_wo_punc if i not in stopwords]\n",
    "token_wo_cust = [i for i in token_wo_stop if i not in cust_word]\n",
    "lem = (lemmatizer.lemmatize(i) for i in token_wo_cust if i not in string.punctuation)\n",
    "clean = ' '.join(i for i in lem if len(str(i)) > 2)\n",
    "clean"
   ]
  },
  {
   "cell_type": "code",
   "execution_count": 35,
   "id": "96ed4571-c558-443c-90c1-ebfad9f87991",
   "metadata": {
    "execution": {
     "iopub.execute_input": "2023-01-04T13:04:00.586895Z",
     "iopub.status.busy": "2023-01-04T13:04:00.586895Z",
     "iopub.status.idle": "2023-01-04T13:04:01.362109Z",
     "shell.execute_reply": "2023-01-04T13:04:01.362109Z",
     "shell.execute_reply.started": "2023-01-04T13:04:00.586895Z"
    },
    "tags": []
   },
   "outputs": [
    {
     "data": {
      "image/png": "[encoded data removed]",
      "text/plain": [
       "<Figure size 720x720 with 1 Axes>"
      ]
     },
     "metadata": {
      "needs_background": "light"
     },
     "output_type": "display_data"
    }
   ],
   "source": [
    "txt_df['description_clean'] = prepro(txt_df['description'])\n",
    "txt_df['lenght_clean'] = txt_df['description_clean'].apply(lambda x: len(x))\n",
    "fig, ax = plt.subplots(figsize=(10, 10))\n",
    "sns.boxplot(data = txt_df['lenght_clean'],\n",
    "            ax=ax\n",
    "           )\n",
    "ax.text(0.75,\n",
    "        0.8,\n",
    "        str(txt_df['lenght_clean'].describe()),\n",
    "        transform=ax.transAxes\n",
    "        )\n",
    "plt.show()"
   ]
  },
  {
   "cell_type": "code",
   "execution_count": 36,
   "id": "ccb713fa-90cc-4248-9e87-5043f67deb9f",
   "metadata": {
    "execution": {
     "iopub.execute_input": "2023-01-04T13:04:01.363028Z",
     "iopub.status.busy": "2023-01-04T13:04:01.363028Z",
     "iopub.status.idle": "2023-01-04T13:04:01.378054Z",
     "shell.execute_reply": "2023-01-04T13:04:01.378054Z",
     "shell.execute_reply.started": "2023-01-04T13:04:01.363028Z"
    },
    "tags": []
   },
   "outputs": [],
   "source": [
    "idx = txt_df.sample().index\n",
    "txt_df = txt_df.drop(index = idx)"
   ]
  },
  {
   "cell_type": "markdown",
   "id": "be433df6-86a4-4d3b-9eb8-14f04fe58f64",
   "metadata": {},
   "source": [
    "## Bag of Words"
   ]
  },
  {
   "cell_type": "code",
   "execution_count": 37,
   "id": "e9ec5649-cd87-45f7-85eb-a869db06a30a",
   "metadata": {
    "execution": {
     "iopub.execute_input": "2023-01-04T13:04:01.380028Z",
     "iopub.status.busy": "2023-01-04T13:04:01.380028Z",
     "iopub.status.idle": "2023-01-04T13:04:01.425235Z",
     "shell.execute_reply": "2023-01-04T13:04:01.425235Z",
     "shell.execute_reply.started": "2023-01-04T13:04:01.380028Z"
    },
    "tags": []
   },
   "outputs": [],
   "source": [
    "from sklearn.feature_extraction.text import CountVectorizer\n",
    "vectorizer = CountVectorizer(stop_words='english')\n",
    "bag_of_words = vectorizer.fit_transform(txt_df['description_clean'].tolist())"
   ]
  },
  {
   "cell_type": "code",
   "execution_count": 38,
   "id": "581af3ad-f271-4a82-8b7a-dae73f6b3e11",
   "metadata": {
    "execution": {
     "iopub.execute_input": "2023-01-04T13:04:01.426178Z",
     "iopub.status.busy": "2023-01-04T13:04:01.426178Z",
     "iopub.status.idle": "2023-01-04T13:04:01.440154Z",
     "shell.execute_reply": "2023-01-04T13:04:01.440154Z",
     "shell.execute_reply.started": "2023-01-04T13:04:01.426178Z"
    },
    "tags": []
   },
   "outputs": [],
   "source": [
    "from sklearn import cluster, metrics\n",
    "clus = cluster.KMeans(n_clusters = label_0_unique, random_state = 38)\n",
    "clus1 = cluster.KMeans(n_clusters = label_1_unique, random_state = 38)\n",
    "def ari_score(inputs):\n",
    "    clus.fit(inputs)\n",
    "    clus1.fit(inputs)\n",
    "    ari = metrics.adjusted_rand_score(np.array(txt_df['labels_0']),\n",
    "                                                 np.array(clus.labels_)\n",
    "                                                 )\n",
    "    ari1 = metrics.adjusted_rand_score(np.array(txt_df['labels_1']),\n",
    "                                                 np.array(clus1.labels_)\n",
    "                                                 )\n",
    "    print('The ari scores are {} for categorie 0 and {} for categorie 1.'.format(ari, ari1))\n"
   ]
  },
  {
   "cell_type": "code",
   "execution_count": 39,
   "id": "6c49ceda-a38a-4479-aacd-78a3c9023101",
   "metadata": {
    "execution": {
     "iopub.execute_input": "2023-01-04T13:04:01.441187Z",
     "iopub.status.busy": "2023-01-04T13:04:01.441187Z",
     "iopub.status.idle": "2023-01-04T13:04:02.862157Z",
     "shell.execute_reply": "2023-01-04T13:04:02.862157Z",
     "shell.execute_reply.started": "2023-01-04T13:04:01.441187Z"
    }
   },
   "outputs": [
    {
     "name": "stdout",
     "output_type": "stream",
     "text": [
      "The ari scores are 0.11785513983540913 for categorie 0 and 0.11361894048779435 for categorie 1.\n"
     ]
    }
   ],
   "source": [
    "ari_score(bag_of_words)"
   ]
  },
  {
   "cell_type": "markdown",
   "id": "67ad03c9-07e5-4f50-b252-7f4b18b6f36e",
   "metadata": {},
   "source": [
    "## Tf-Idf"
   ]
  },
  {
   "cell_type": "code",
   "execution_count": 25,
   "id": "ef9eb59e-0176-4c95-9ed9-975fe7a97b21",
   "metadata": {
    "execution": {
     "iopub.execute_input": "2023-01-04T10:01:21.600180Z",
     "iopub.status.busy": "2023-01-04T10:01:21.600180Z",
     "iopub.status.idle": "2023-01-04T10:01:24.991181Z",
     "shell.execute_reply": "2023-01-04T10:01:24.991181Z",
     "shell.execute_reply.started": "2023-01-04T10:01:21.600180Z"
    },
    "tags": []
   },
   "outputs": [
    {
     "name": "stdout",
     "output_type": "stream",
     "text": [
      "The ari scores are 0.2552906488226122 for categorie 0 and 0.3653036370784057 for categorie 1.\n"
     ]
    }
   ],
   "source": [
    "from sklearn.feature_extraction.text import TfidfVectorizer\n",
    "tf_idf_vect = TfidfVectorizer(stop_words='english')\n",
    "tf_idf_matrix = tf_idf_vect.fit_transform(txt_df['description_clean'].tolist())\n",
    "clus.fit(tf_idf_matrix)\n",
    "clus1.fit(tf_idf_matrix)\n",
    "ari = metrics.adjusted_rand_score(np.array(txt_df['labels_0']),\n",
    "                                                 np.array(clus.labels_)\n",
    "                                                 )\n",
    "ari1 = metrics.adjusted_rand_score(np.array(txt_df['labels_1']),\n",
    "                                                 np.array(clus1.labels_)\n",
    "                                                 )\n",
    "print('The ari scores are {} for categorie 0 and {} for categorie 1.'.format(ari, ari1))"
   ]
  },
  {
   "cell_type": "markdown",
   "id": "62c6b539-fb4a-4138-bbab-e0391dcb6bc1",
   "metadata": {},
   "source": [
    "### n-gram"
   ]
  },
  {
   "cell_type": "code",
   "execution_count": 26,
   "id": "6d617700-b7ce-4b97-aad2-009835154669",
   "metadata": {
    "execution": {
     "iopub.execute_input": "2023-01-04T10:01:24.992180Z",
     "iopub.status.busy": "2023-01-04T10:01:24.992180Z",
     "iopub.status.idle": "2023-01-04T10:01:32.740586Z",
     "shell.execute_reply": "2023-01-04T10:01:32.740586Z",
     "shell.execute_reply.started": "2023-01-04T10:01:24.992180Z"
    },
    "tags": []
   },
   "outputs": [
    {
     "name": "stdout",
     "output_type": "stream",
     "text": [
      "The ari scores for the 1-gram are 0.18780296667280658 for categorie 0 and 0.1597713663696494 for categorie 1.\n",
      "The ari scores for the 2-gram are 0.002007396872167052 for categorie 0 and 0.1594898915081461 for categorie 1.\n",
      "The ari scores for the 3-gram are 0.004795497498175688 for categorie 0 and 0.09862007267738222 for categorie 1.\n",
      "The ari scores for the 4-gram are 0.004279968646970124 for categorie 0 and 0.029699517512352436 for categorie 1.\n",
      "The ari scores for the 5-gram are 0.0035664862458679603 for categorie 0 and 0.010518012630339697 for categorie 1.\n"
     ]
    }
   ],
   "source": [
    "# Bag of words\n",
    "for i in range(1, 6):\n",
    "    vectorizer = CountVectorizer(stop_words='english', ngram_range=(i, i))\n",
    "    bag_of_words = vectorizer.fit_transform(txt_df['description_clean'].tolist())\n",
    "    clus.fit(bag_of_words)\n",
    "    clus1.fit(bag_of_words)\n",
    "    ari = metrics.adjusted_rand_score(np.array(txt_df['labels_0']),\n",
    "                                                 np.array(clus.labels_)\n",
    "                                                 )\n",
    "    ari1 = metrics.adjusted_rand_score(np.array(txt_df['labels_1']),\n",
    "                                                 np.array(clus1.labels_)\n",
    "                                                 )\n",
    "    print('The ari scores for the {}-gram are {} for categorie 0 and {} for categorie 1.'.format(i, ari, ari1))\n"
   ]
  },
  {
   "cell_type": "code",
   "execution_count": 27,
   "id": "25538b04-4d83-409f-a43b-09ade77aeb39",
   "metadata": {
    "execution": {
     "iopub.execute_input": "2023-01-04T10:01:32.741585Z",
     "iopub.status.busy": "2023-01-04T10:01:32.741585Z",
     "iopub.status.idle": "2023-01-04T10:01:50.220098Z",
     "shell.execute_reply": "2023-01-04T10:01:50.220098Z",
     "shell.execute_reply.started": "2023-01-04T10:01:32.741585Z"
    },
    "tags": []
   },
   "outputs": [
    {
     "name": "stdout",
     "output_type": "stream",
     "text": [
      "The ari scores for the 1-gram are 0.2552906488226122 for categorie 0 and 0.3653036370784057 for categorie 1.\n",
      "The ari scores for the 2-gram are 0.19999371503272612 for categorie 0 and 0.2780650157080974 for categorie 1.\n",
      "The ari scores for the 3-gram are 0.18824325883836945 for categorie 0 and 0.19338314404661922 for categorie 1.\n",
      "The ari scores for the 4-gram are 0.11528589917724935 for categorie 0 and 0.12457914945411439 for categorie 1.\n",
      "The ari scores for the 5-gram are 0.048392074322908096 for categorie 0 and 0.09588898386963923 for categorie 1.\n"
     ]
    }
   ],
   "source": [
    "# tf-idf\n",
    "for i in range(1,6):\n",
    "    tf_idf_vect = TfidfVectorizer(stop_words='english', ngram_range=(i, i))\n",
    "    tf_idf_matrix = tf_idf_vect.fit_transform(txt_df['description_clean'].tolist())\n",
    "    clus.fit(tf_idf_matrix)\n",
    "    clus1.fit(tf_idf_matrix)\n",
    "    ari = metrics.adjusted_rand_score(np.array(txt_df['labels_0']),\n",
    "                                                 np.array(clus.labels_)\n",
    "                                                 )\n",
    "    ari1 = metrics.adjusted_rand_score(np.array(txt_df['labels_1']),\n",
    "                                                 np.array(clus1.labels_)\n",
    "                                                 )\n",
    "    print('The ari scores for the {}-gram are {} for categorie 0 and {} for categorie 1.'.format(i, ari, ari1))"
   ]
  },
  {
   "cell_type": "code",
   "execution_count": 28,
   "id": "e49e6985-2acd-41df-aeb5-38bc26033755",
   "metadata": {
    "execution": {
     "iopub.execute_input": "2023-01-04T10:01:50.221098Z",
     "iopub.status.busy": "2023-01-04T10:01:50.221098Z",
     "iopub.status.idle": "2023-01-04T10:01:50.236097Z",
     "shell.execute_reply": "2023-01-04T10:01:50.236097Z",
     "shell.execute_reply.started": "2023-01-04T10:01:50.221098Z"
    },
    "tags": []
   },
   "outputs": [
    {
     "name": "stdout",
     "output_type": "stream",
     "text": [
      "<class 'pandas.core.frame.DataFrame'>\n",
      "Int64Index: 1008 entries, 0 to 1049\n",
      "Data columns (total 8 columns):\n",
      " #   Column             Non-Null Count  Dtype \n",
      "---  ------             --------------  ----- \n",
      " 0   uniq_id            1008 non-null   object\n",
      " 1   description        1008 non-null   object\n",
      " 2   labels_0           1008 non-null   int32 \n",
      " 3   labels_1           1008 non-null   int32 \n",
      " 4   lenght             1008 non-null   int64 \n",
      " 5   lang               1008 non-null   object\n",
      " 6   description_clean  1008 non-null   object\n",
      " 7   lenght_clean       1008 non-null   int64 \n",
      "dtypes: int32(2), int64(2), object(4)\n",
      "memory usage: 63.0+ KB\n"
     ]
    }
   ],
   "source": [
    "txt_df.info()"
   ]
  },
  {
   "cell_type": "markdown",
   "id": "712380a0-994c-4294-9300-66a907440b41",
   "metadata": {},
   "source": [
    "## Word2Vec"
   ]
  },
  {
   "cell_type": "code",
   "execution_count": 29,
   "id": "69699740-2937-4b13-945f-480a884e8aeb",
   "metadata": {
    "execution": {
     "iopub.execute_input": "2023-01-04T10:01:50.237097Z",
     "iopub.status.busy": "2023-01-04T10:01:50.237097Z",
     "iopub.status.idle": "2023-01-04T10:01:50.411107Z",
     "shell.execute_reply": "2023-01-04T10:01:50.411107Z",
     "shell.execute_reply.started": "2023-01-04T10:01:50.237097Z"
    },
    "tags": []
   },
   "outputs": [],
   "source": [
    "txt_df['description_token'] = txt_df['description_clean'].apply(lambda x: nltk.tokenize.word_tokenize(x))"
   ]
  },
  {
   "cell_type": "code",
   "execution_count": 30,
   "id": "c980f75a-8986-4bb5-868b-53f3cf60e66b",
   "metadata": {
    "execution": {
     "iopub.execute_input": "2023-01-04T10:01:50.412098Z",
     "iopub.status.busy": "2023-01-04T10:01:50.412098Z",
     "iopub.status.idle": "2023-01-04T10:01:52.842582Z",
     "shell.execute_reply": "2023-01-04T10:01:52.842582Z",
     "shell.execute_reply.started": "2023-01-04T10:01:50.412098Z"
    },
    "tags": []
   },
   "outputs": [
    {
     "data": {
      "text/plain": [
       "(1104991, 1536850)"
      ]
     },
     "execution_count": 30,
     "metadata": {},
     "output_type": "execute_result"
    }
   ],
   "source": [
    "from gensim.models import Word2Vec\n",
    "model = Word2Vec(vector_size = 300)\n",
    "model.build_vocab(txt_df['description_token'].tolist())\n",
    "model.train(txt_df['description_token'].tolist(), total_examples=model.corpus_count, epochs=35)"
   ]
  },
  {
   "cell_type": "code",
   "execution_count": 31,
   "id": "b33f5f61-32a6-46d5-ac5b-f97622ead604",
   "metadata": {
    "execution": {
     "iopub.execute_input": "2023-01-04T10:01:52.843577Z",
     "iopub.status.busy": "2023-01-04T10:01:52.843577Z",
     "iopub.status.idle": "2023-01-04T10:01:52.857579Z",
     "shell.execute_reply": "2023-01-04T10:01:52.857579Z",
     "shell.execute_reply.started": "2023-01-04T10:01:52.843577Z"
    },
    "tags": []
   },
   "outputs": [
    {
     "data": {
      "text/plain": [
       "1008"
      ]
     },
     "execution_count": 31,
     "metadata": {},
     "output_type": "execute_result"
    }
   ],
   "source": [
    "model.corpus_count"
   ]
  },
  {
   "cell_type": "code",
   "execution_count": 32,
   "id": "70179125-d4b8-4b35-922b-939ab3b6028c",
   "metadata": {
    "execution": {
     "iopub.execute_input": "2023-01-04T10:01:52.858580Z",
     "iopub.status.busy": "2023-01-04T10:01:52.858580Z",
     "iopub.status.idle": "2023-01-04T10:01:52.873581Z",
     "shell.execute_reply": "2023-01-04T10:01:52.873581Z",
     "shell.execute_reply.started": "2023-01-04T10:01:52.858580Z"
    },
    "tags": []
   },
   "outputs": [],
   "source": [
    "vector = model.wv"
   ]
  },
  {
   "cell_type": "code",
   "execution_count": 33,
   "id": "b1f9af17-2021-4dbd-b17b-4aaf720ee438",
   "metadata": {
    "execution": {
     "iopub.execute_input": "2023-01-04T10:01:52.874551Z",
     "iopub.status.busy": "2023-01-04T10:01:52.874551Z",
     "iopub.status.idle": "2023-01-04T10:01:52.890550Z",
     "shell.execute_reply": "2023-01-04T10:01:52.889551Z",
     "shell.execute_reply.started": "2023-01-04T10:01:52.874551Z"
    },
    "tags": []
   },
   "outputs": [
    {
     "data": {
      "text/plain": [
       "[('vibrantly', 0.7979848980903625),\n",
       " ('conditioner', 0.7756807208061218),\n",
       " ('pencil', 0.7636284828186035),\n",
       " ('lip', 0.756722629070282),\n",
       " ('smooth', 0.7490120530128479),\n",
       " ('oudh', 0.7420098781585693),\n",
       " ('deep', 0.7104801535606384),\n",
       " ('shampoo', 0.7081885933876038),\n",
       " ('arabic', 0.700836181640625),\n",
       " ('liner', 0.700491726398468)]"
      ]
     },
     "execution_count": 33,
     "metadata": {},
     "output_type": "execute_result"
    }
   ],
   "source": [
    "vector.most_similar(\"natural\")"
   ]
  },
  {
   "cell_type": "code",
   "execution_count": 34,
   "id": "73dff19e-748c-485c-adfa-01f82c0425a7",
   "metadata": {
    "execution": {
     "iopub.execute_input": "2023-01-04T10:01:52.891550Z",
     "iopub.status.busy": "2023-01-04T10:01:52.891550Z",
     "iopub.status.idle": "2023-01-04T10:01:52.905574Z",
     "shell.execute_reply": "2023-01-04T10:01:52.905574Z",
     "shell.execute_reply.started": "2023-01-04T10:01:52.891550Z"
    },
    "tags": []
   },
   "outputs": [
    {
     "data": {
      "text/plain": [
       "[('keyboard', 0.9451080560684204),\n",
       " ('vacuum', 0.9339250922203064),\n",
       " ('connect', 0.9111831784248352),\n",
       " ('device', 0.9106087684631348),\n",
       " ('cleaner', 0.9062736630439758),\n",
       " ('desktop', 0.8817386627197266),\n",
       " ('requirement', 0.8751876354217529),\n",
       " ('otg', 0.8735296726226807),\n",
       " ('hdmi', 0.8607248067855835),\n",
       " ('air', 0.8599439859390259)]"
      ]
     },
     "execution_count": 34,
     "metadata": {},
     "output_type": "execute_result"
    }
   ],
   "source": [
    "vector.most_similar('computer')"
   ]
  },
  {
   "cell_type": "code",
   "execution_count": 35,
   "id": "f0e15b3b-1d5f-47cf-ac69-2097754eabf3",
   "metadata": {
    "execution": {
     "iopub.execute_input": "2023-01-04T10:01:52.907552Z",
     "iopub.status.busy": "2023-01-04T10:01:52.906551Z",
     "iopub.status.idle": "2023-01-04T10:01:52.920550Z",
     "shell.execute_reply": "2023-01-04T10:01:52.920550Z",
     "shell.execute_reply.started": "2023-01-04T10:01:52.907552Z"
    },
    "tags": []
   },
   "outputs": [],
   "source": [
    "def get_mean(vectors, document):\n",
    "    # check if each token is in the vocab (min =5)\n",
    "    doc = [i for i in document if i in vectors.index_to_key]\n",
    "    mean = np.mean(vectors[doc], axis = 0)\n",
    "    return mean"
   ]
  },
  {
   "cell_type": "code",
   "execution_count": 36,
   "id": "2b367baa-2b98-4cb6-9fe5-f3a24e865d31",
   "metadata": {
    "execution": {
     "iopub.execute_input": "2023-01-04T10:01:52.921550Z",
     "iopub.status.busy": "2023-01-04T10:01:52.921550Z",
     "iopub.status.idle": "2023-01-04T10:01:53.265608Z",
     "shell.execute_reply": "2023-01-04T10:01:53.263603Z",
     "shell.execute_reply.started": "2023-01-04T10:01:52.921550Z"
    },
    "tags": []
   },
   "outputs": [],
   "source": [
    "txt_df['embeded_doc'] = txt_df['description_token'].apply(lambda x: get_mean(vector, x))"
   ]
  },
  {
   "cell_type": "code",
   "execution_count": 37,
   "id": "d7a4bacd-ab8a-4657-822e-f78735f7c0f8",
   "metadata": {
    "execution": {
     "iopub.execute_input": "2023-01-04T10:01:53.268596Z",
     "iopub.status.busy": "2023-01-04T10:01:53.268596Z",
     "iopub.status.idle": "2023-01-04T10:01:54.027550Z",
     "shell.execute_reply": "2023-01-04T10:01:54.027550Z",
     "shell.execute_reply.started": "2023-01-04T10:01:53.268596Z"
    },
    "tags": []
   },
   "outputs": [
    {
     "name": "stdout",
     "output_type": "stream",
     "text": [
      "The ari scores are 0.378483931536869 for categorie 0 and 0.47750872160401825 for categorie 1.\n"
     ]
    }
   ],
   "source": [
    "embeded_doc = pd.DataFrame(txt_df['embeded_doc'].tolist())\n",
    "clus.fit(embeded_doc)\n",
    "clus1.fit(embeded_doc)\n",
    "ari = metrics.adjusted_rand_score(np.array(txt_df['labels_0']),\n",
    "                                                 np.array(clus.labels_)\n",
    "                                                 )\n",
    "ari1 = metrics.adjusted_rand_score(np.array(txt_df['labels_1']),\n",
    "                                                 np.array(clus1.labels_)\n",
    "                                                 )\n",
    "print('The ari scores are {} for categorie 0 and {} for categorie 1.'.format(ari, ari1))"
   ]
  },
  {
   "cell_type": "code",
   "execution_count": 38,
   "id": "3ac24100-cb97-4cdd-90d3-822ebe4917ef",
   "metadata": {
    "execution": {
     "iopub.execute_input": "2023-01-04T10:01:54.028551Z",
     "iopub.status.busy": "2023-01-04T10:01:54.028551Z",
     "iopub.status.idle": "2023-01-04T10:02:41.359211Z",
     "shell.execute_reply": "2023-01-04T10:02:41.359211Z",
     "shell.execute_reply.started": "2023-01-04T10:01:54.028551Z"
    },
    "tags": []
   },
   "outputs": [
    {
     "data": {
      "image/png": "[encoded data removed]",
      "text/plain": [
       "<Figure size 432x288 with 1 Axes>"
      ]
     },
     "metadata": {
      "needs_background": "light"
     },
     "output_type": "display_data"
    }
   ],
   "source": [
    "ari_l = []\n",
    "ari_l1 = []\n",
    "for i in np.arange(5,105,5):\n",
    "    model.train(txt_df['description_token'].tolist(), total_examples=model.corpus_count, epochs=i)\n",
    "    vector = model.wv\n",
    "    temp = txt_df['description_token'].apply(lambda x: get_mean(vector, x))\n",
    "    temp = pd.DataFrame(temp.tolist())\n",
    "    clus.fit(temp)\n",
    "    clus1.fit(temp)\n",
    "    ari_l.append(metrics.adjusted_rand_score(np.array(txt_df['labels_0']),\n",
    "                                                 np.array(clus.labels_)\n",
    "                                                 ))\n",
    "    ari_l1.append(metrics.adjusted_rand_score(np.array(txt_df['labels_1']),\n",
    "                                                 np.array(clus1.labels_)\n",
    "                                                 ))\n",
    "plt.plot(np.arange(5,105,5),ari_l)\n",
    "plt.plot(np.arange(5,105,5),ari_l1)\n",
    "plt.show()    "
   ]
  },
  {
   "cell_type": "markdown",
   "id": "9ac56681-d586-4a75-83ed-48e3d2e07183",
   "metadata": {},
   "source": [
    "### n-gram"
   ]
  },
  {
   "cell_type": "code",
   "execution_count": 39,
   "id": "079fb087-b1a8-413a-9e3f-d1000790c0e0",
   "metadata": {
    "execution": {
     "iopub.execute_input": "2023-01-04T10:02:41.363214Z",
     "iopub.status.busy": "2023-01-04T10:02:41.363214Z",
     "iopub.status.idle": "2023-01-04T10:02:41.374213Z",
     "shell.execute_reply": "2023-01-04T10:02:41.374213Z",
     "shell.execute_reply.started": "2023-01-04T10:02:41.363214Z"
    },
    "tags": []
   },
   "outputs": [],
   "source": [
    "from gensim.models import phrases"
   ]
  },
  {
   "cell_type": "code",
   "execution_count": 40,
   "id": "6a263c0e-02db-4929-98a5-cd3f141704e8",
   "metadata": {
    "execution": {
     "iopub.execute_input": "2023-01-04T10:02:41.375214Z",
     "iopub.status.busy": "2023-01-04T10:02:41.375214Z",
     "iopub.status.idle": "2023-01-04T10:02:42.017551Z",
     "shell.execute_reply": "2023-01-04T10:02:42.017551Z",
     "shell.execute_reply.started": "2023-01-04T10:02:41.375214Z"
    },
    "tags": []
   },
   "outputs": [
    {
     "data": {
      "text/plain": [
       "(155271, 219550)"
      ]
     },
     "execution_count": 40,
     "metadata": {},
     "output_type": "execute_result"
    }
   ],
   "source": [
    "bigrams = phrases.Phrases(txt_df['description_token'], threshold=10.0)\n",
    "model2 = Word2Vec(bigrams[txt_df['description_token']], vector_size = 300)\n",
    "model2.train(txt_df['description_token'], total_examples=model2.corpus_count, epochs=model2.epochs)"
   ]
  },
  {
   "cell_type": "code",
   "execution_count": 41,
   "id": "18b7ad40-af35-40a0-ade7-0f8cdb19b036",
   "metadata": {
    "execution": {
     "iopub.execute_input": "2023-01-04T10:02:42.018502Z",
     "iopub.status.busy": "2023-01-04T10:02:42.018502Z",
     "iopub.status.idle": "2023-01-04T10:02:42.033467Z",
     "shell.execute_reply": "2023-01-04T10:02:42.033467Z",
     "shell.execute_reply.started": "2023-01-04T10:02:42.018502Z"
    },
    "tags": []
   },
   "outputs": [
    {
     "data": {
      "text/plain": [
       "[('air', 0.9993345737457275),\n",
       " ('keyboard', 0.9993333220481873),\n",
       " ('mobile', 0.9991750717163086),\n",
       " ('vacuum', 0.9991583824157715),\n",
       " ('vgncrer', 0.9991440773010254),\n",
       " ('device', 0.9991117119789124),\n",
       " ('portable', 0.9990770816802979),\n",
       " ('otg', 0.9989989995956421),\n",
       " ('plug', 0.99897301197052),\n",
       " ('may', 0.9989147186279297)]"
      ]
     },
     "execution_count": 41,
     "metadata": {},
     "output_type": "execute_result"
    }
   ],
   "source": [
    "vector2 = model2.wv\n",
    "vector2.most_similar('computer')"
   ]
  },
  {
   "cell_type": "code",
   "execution_count": 42,
   "id": "5bdda3b8-e892-4198-be9b-544f79bb9ab5",
   "metadata": {
    "execution": {
     "iopub.execute_input": "2023-01-04T10:02:42.034469Z",
     "iopub.status.busy": "2023-01-04T10:02:42.034469Z",
     "iopub.status.idle": "2023-01-04T10:02:43.243062Z",
     "shell.execute_reply": "2023-01-04T10:02:43.243062Z",
     "shell.execute_reply.started": "2023-01-04T10:02:42.034469Z"
    },
    "tags": []
   },
   "outputs": [
    {
     "name": "stdout",
     "output_type": "stream",
     "text": [
      "The ari scores are 0.2556696417960678 for categorie 0 and 0.22856296689260697 for categorie 1.\n"
     ]
    }
   ],
   "source": [
    "temp = txt_df['description_token'].apply(lambda x: get_mean(vector2, x))\n",
    "temp = pd.DataFrame(temp.tolist())\n",
    "clus.fit(temp)\n",
    "clus1.fit(temp)\n",
    "ari = metrics.adjusted_rand_score(np.array(txt_df['labels_0']),\n",
    "                                                 np.array(clus.labels_)\n",
    "                                                 )\n",
    "ari1 = metrics.adjusted_rand_score(np.array(txt_df['labels_1']),\n",
    "                                                 np.array(clus1.labels_)\n",
    "                                                 )\n",
    "print('The ari scores are {} for categorie 0 and {} for categorie 1.'.format(ari, ari1))"
   ]
  },
  {
   "cell_type": "code",
   "execution_count": 43,
   "id": "c7b6390a-4958-4634-b477-28a30d0f9e69",
   "metadata": {
    "execution": {
     "iopub.execute_input": "2023-01-04T10:02:43.244064Z",
     "iopub.status.busy": "2023-01-04T10:02:43.244064Z",
     "iopub.status.idle": "2023-01-04T10:02:44.237217Z",
     "shell.execute_reply": "2023-01-04T10:02:44.237217Z",
     "shell.execute_reply.started": "2023-01-04T10:02:43.244064Z"
    },
    "tags": []
   },
   "outputs": [
    {
     "data": {
      "text/plain": [
       "0.7410161090458488"
      ]
     },
     "execution_count": 43,
     "metadata": {},
     "output_type": "execute_result"
    }
   ],
   "source": [
    "# test with a classifier \n",
    "import xgboost as xgb\n",
    "from sklearn.model_selection import train_test_split, GridSearchCV\n",
    "\n",
    "xgb_class = xgb.XGBClassifier()\n",
    "class_df = pd.DataFrame({'mean_wv': txt_df['description_token'].apply(lambda x: get_mean(vector2, x))})\n",
    "class_df = pd.DataFrame(class_df['mean_wv'].tolist())\n",
    "xtrain, xtest, ytrain, ytest = train_test_split(class_df, txt_df['labels_0'], test_size = 0.8, stratify = txt_df['labels_0'])\n",
    "\n",
    "xgb_class.fit(xtrain, ytrain)\n",
    "xgb_class.score(xtest, ytest)"
   ]
  },
  {
   "cell_type": "code",
   "execution_count": 44,
   "id": "66372aa5-a21f-4eef-adb0-8ce07c999f4e",
   "metadata": {
    "execution": {
     "iopub.execute_input": "2023-01-04T10:02:44.238219Z",
     "iopub.status.busy": "2023-01-04T10:02:44.238219Z",
     "iopub.status.idle": "2023-01-04T10:03:48.847820Z",
     "shell.execute_reply": "2023-01-04T10:03:48.847820Z",
     "shell.execute_reply.started": "2023-01-04T10:02:44.238219Z"
    },
    "tags": []
   },
   "outputs": [
    {
     "data": {
      "image/png": "[encoded data removed]",
      "text/plain": [
       "<Figure size 432x288 with 1 Axes>"
      ]
     },
     "metadata": {
      "needs_background": "light"
     },
     "output_type": "display_data"
    }
   ],
   "source": [
    "ari_l = []\n",
    "ari_l1 = []\n",
    "for i in np.arange(5,125,5):\n",
    "    model2.train(txt_df['description_token'].tolist(), total_examples=model2.corpus_count, epochs=i)\n",
    "    vector2 = model2.wv\n",
    "    temp = txt_df['description_token'].apply(lambda x: get_mean(vector2, x))\n",
    "    temp = pd.DataFrame(temp.tolist())\n",
    "    clus.fit(temp)\n",
    "    clus1.fit(temp)\n",
    "    ari_l.append(metrics.adjusted_rand_score(np.array(txt_df['labels_0']),\n",
    "                                                 np.array(clus.labels_)\n",
    "                                                 ))\n",
    "    ari_l1.append(metrics.adjusted_rand_score(np.array(txt_df['labels_1']),\n",
    "                                                 np.array(clus1.labels_)\n",
    "                                                 ))\n",
    "plt.plot(np.arange(5,125,5),ari_l)\n",
    "plt.plot(np.arange(5,125,5),ari_l1)\n",
    "plt.show()   "
   ]
  },
  {
   "cell_type": "code",
   "execution_count": 45,
   "id": "516cf86b-aa0f-41da-a30f-8e47fecfdbfc",
   "metadata": {
    "execution": {
     "iopub.execute_input": "2023-01-04T10:03:48.848820Z",
     "iopub.status.busy": "2023-01-04T10:03:48.848820Z",
     "iopub.status.idle": "2023-01-04T10:04:23.639328Z",
     "shell.execute_reply": "2023-01-04T10:04:23.639328Z",
     "shell.execute_reply.started": "2023-01-04T10:03:48.848820Z"
    },
    "tags": []
   },
   "outputs": [
    {
     "data": {
      "image/png": "[encoded data removed]",
      "text/plain": [
       "<Figure size 432x288 with 1 Axes>"
      ]
     },
     "metadata": {
      "needs_background": "light"
     },
     "output_type": "display_data"
    }
   ],
   "source": [
    "# test with skipgram instead of cbow\n",
    "model3 = Word2Vec(vector_size = 300,sg =1)\n",
    "model3.build_vocab(txt_df['description_token'].tolist())\n",
    "ari_l = []\n",
    "ari_l1 = []\n",
    "for i in np.arange(5,55,5):\n",
    "    model3.train(txt_df['description_token'].tolist(), total_examples=model2.corpus_count, epochs=i)\n",
    "    vector3 = model2.wv\n",
    "    temp = txt_df['description_token'].apply(lambda x: get_mean(vector3, x))\n",
    "    temp = pd.DataFrame(temp.tolist())\n",
    "    clus.fit(temp)\n",
    "    clus1.fit(temp)\n",
    "    ari_l.append(metrics.adjusted_rand_score(np.array(txt_df['labels_0']),\n",
    "                                                 np.array(clus.labels_)\n",
    "                                                 ))\n",
    "    ari_l1.append(metrics.adjusted_rand_score(np.array(txt_df['labels_1']),\n",
    "                                                 np.array(clus1.labels_)\n",
    "                                                 ))\n",
    "plt.plot(np.arange(5,55,5),ari_l)\n",
    "plt.plot(np.arange(5,55,5),ari_l1)\n",
    "plt.show()"
   ]
  },
  {
   "cell_type": "code",
   "execution_count": 46,
   "id": "a37c421b-a2a4-459a-b53d-152ee3f6d7d5",
   "metadata": {
    "execution": {
     "iopub.execute_input": "2023-01-04T10:04:23.640330Z",
     "iopub.status.busy": "2023-01-04T10:04:23.640330Z",
     "iopub.status.idle": "2023-01-04T10:04:23.654329Z",
     "shell.execute_reply": "2023-01-04T10:04:23.654329Z",
     "shell.execute_reply.started": "2023-01-04T10:04:23.640330Z"
    },
    "tags": []
   },
   "outputs": [],
   "source": [
    "from gensim.models.doc2vec import Doc2Vec, TaggedDocument"
   ]
  },
  {
   "cell_type": "code",
   "execution_count": 47,
   "id": "9bfa74d9-497e-4937-b285-5eb0ccc8eb4d",
   "metadata": {
    "execution": {
     "iopub.execute_input": "2023-01-04T10:04:23.655330Z",
     "iopub.status.busy": "2023-01-04T10:04:23.655330Z",
     "iopub.status.idle": "2023-01-04T10:06:54.820661Z",
     "shell.execute_reply": "2023-01-04T10:06:54.820661Z",
     "shell.execute_reply.started": "2023-01-04T10:04:23.655330Z"
    },
    "tags": []
   },
   "outputs": [
    {
     "data": {
      "image/png": "[encoded data removed]",
      "text/plain": [
       "<Figure size 432x288 with 1 Axes>"
      ]
     },
     "metadata": {
      "needs_background": "light"
     },
     "output_type": "display_data"
    }
   ],
   "source": [
    "\n",
    "tagged_txt = [TaggedDocument(d, [i]) for i, d in enumerate(txt_df['description_token'].tolist())]\n",
    "ari_l = []\n",
    "ari_l1 = []\n",
    "for i in np.arange(5,105,5):\n",
    "    model4 = Doc2Vec(tagged_txt, epochs = i, vector_size = 300)\n",
    "    temp = txt_df['description_token'].apply(lambda x: model4.infer_vector(x))\n",
    "    temp = pd.DataFrame(temp.tolist())\n",
    "    clus.fit(temp)\n",
    "    clus1.fit(temp)\n",
    "    ari_l.append(metrics.adjusted_rand_score(np.array(txt_df['labels_0']),\n",
    "                                                 np.array(clus.labels_)\n",
    "                                                 ))\n",
    "    ari_l1.append(metrics.adjusted_rand_score(np.array(txt_df['labels_1']),\n",
    "                                                 np.array(clus1.labels_)\n",
    "                                                 ))\n",
    "plt.plot(np.arange(5,105,5),ari_l)\n",
    "plt.plot(np.arange(5,105,5),ari_l1)\n",
    "plt.show()   "
   ]
  },
  {
   "cell_type": "markdown",
   "id": "4fbc0afa-d606-49a2-974a-1f98fc46d8fa",
   "metadata": {},
   "source": [
    "## BERT"
   ]
  },
  {
   "cell_type": "code",
   "execution_count": 48,
   "id": "37bb1f64-2fd2-48b0-a142-1d3062464c50",
   "metadata": {
    "execution": {
     "iopub.execute_input": "2023-01-04T10:06:54.821663Z",
     "iopub.status.busy": "2023-01-04T10:06:54.821663Z",
     "iopub.status.idle": "2023-01-04T10:06:54.977661Z",
     "shell.execute_reply": "2023-01-04T10:06:54.977661Z",
     "shell.execute_reply.started": "2023-01-04T10:06:54.821663Z"
    },
    "tags": []
   },
   "outputs": [],
   "source": [
    "import tensorflow as tf\n",
    "import tensorflow_hub as hub\n",
    "import tensorflow_text as text"
   ]
  },
  {
   "cell_type": "code",
   "execution_count": 49,
   "id": "23be3670-70ca-4d37-95e7-88d1863177db",
   "metadata": {
    "execution": {
     "iopub.execute_input": "2023-01-04T10:06:54.978664Z",
     "iopub.status.busy": "2023-01-04T10:06:54.978664Z",
     "iopub.status.idle": "2023-01-04T10:07:30.988665Z",
     "shell.execute_reply": "2023-01-04T10:07:30.988665Z",
     "shell.execute_reply.started": "2023-01-04T10:06:54.978664Z"
    },
    "tags": []
   },
   "outputs": [
    {
     "name": "stdout",
     "output_type": "stream",
     "text": [
      "WARNING:tensorflow:Please fix your imports. Module tensorflow.python.training.tracking.data_structures has been moved to tensorflow.python.trackable.data_structures. The old module will be deleted in version 2.11.\n"
     ]
    }
   ],
   "source": [
    "bert_preprocess = hub.KerasLayer(\"https://tfhub.dev/tensorflow/bert_en_uncased_preprocess/3\")\n",
    "bert_encoder = hub.KerasLayer(\"https://tfhub.dev/tensorflow/bert_en_uncased_L-12_H-768_A-12/4\")"
   ]
  },
  {
   "cell_type": "code",
   "execution_count": 50,
   "id": "8034056c-e93e-4197-8862-2f1bad39c678",
   "metadata": {
    "execution": {
     "iopub.execute_input": "2023-01-04T10:07:30.989664Z",
     "iopub.status.busy": "2023-01-04T10:07:30.989664Z",
     "iopub.status.idle": "2023-01-04T10:07:31.732663Z",
     "shell.execute_reply": "2023-01-04T10:07:31.732663Z",
     "shell.execute_reply.started": "2023-01-04T10:07:30.989664Z"
    },
    "tags": []
   },
   "outputs": [],
   "source": [
    "text_input = tf.keras.layers.Input(shape=(), dtype=tf.string, name='text')\n",
    "preprocessed_text = bert_preprocess(text_input)\n",
    "outputs = bert_encoder(preprocessed_text)"
   ]
  },
  {
   "cell_type": "code",
   "execution_count": 51,
   "id": "decf457e-5d1e-4f47-85a0-3056bc6fc47e",
   "metadata": {
    "execution": {
     "iopub.execute_input": "2023-01-04T10:07:31.733663Z",
     "iopub.status.busy": "2023-01-04T10:07:31.733663Z",
     "iopub.status.idle": "2023-01-04T10:07:31.922705Z",
     "shell.execute_reply": "2023-01-04T10:07:31.920710Z",
     "shell.execute_reply.started": "2023-01-04T10:07:31.733663Z"
    },
    "tags": []
   },
   "outputs": [],
   "source": [
    "from tensorflow.keras.preprocessing.text import Tokenizer\n",
    "from tensorflow.keras.preprocessing.sequence import pad_sequences\n",
    "from tensorflow.keras import metrics as kmetrics\n",
    "from tensorflow.keras.layers import *\n",
    "from tensorflow.keras.models import Model\n",
    "import transformers as trans "
   ]
  },
  {
   "cell_type": "code",
   "execution_count": 52,
   "id": "818118fa-3266-4f3d-953a-24650e74834b",
   "metadata": {
    "execution": {
     "iopub.execute_input": "2023-01-04T10:07:31.924668Z",
     "iopub.status.busy": "2023-01-04T10:07:31.924668Z",
     "iopub.status.idle": "2023-01-04T10:07:31.952663Z",
     "shell.execute_reply": "2023-01-04T10:07:31.952663Z",
     "shell.execute_reply.started": "2023-01-04T10:07:31.924668Z"
    },
    "tags": []
   },
   "outputs": [],
   "source": [
    "# Hugging Face\n",
    "def bert_inp_fct(sentences, bert_tokenizer, max_length) :\n",
    "    input_ids=[]\n",
    "    token_type_ids = []\n",
    "    attention_mask=[]\n",
    "    bert_inp_tot = []\n",
    "\n",
    "    for sent in sentences:\n",
    "        bert_inp = bert_tokenizer.encode_plus(sent,\n",
    "                                              add_special_tokens = True,\n",
    "                                              max_length = max_length,\n",
    "                                              padding='max_length',\n",
    "                                              return_attention_mask = True, \n",
    "                                              return_token_type_ids=True,\n",
    "                                              truncation=True,\n",
    "                                              return_tensors=\"tf\")\n",
    "    \n",
    "        input_ids.append(bert_inp['input_ids'][0])\n",
    "        token_type_ids.append(bert_inp['token_type_ids'][0])\n",
    "        attention_mask.append(bert_inp['attention_mask'][0])\n",
    "        bert_inp_tot.append((bert_inp['input_ids'][0], \n",
    "                             bert_inp['token_type_ids'][0], \n",
    "                             bert_inp['attention_mask'][0]))\n",
    "\n",
    "    input_ids = np.asarray(input_ids)\n",
    "    token_type_ids = np.asarray(token_type_ids)\n",
    "    attention_mask = np.array(attention_mask)\n",
    "    \n",
    "    return input_ids, token_type_ids, attention_mask, bert_inp_tot\n",
    "    \n",
    "\n",
    "# Fonction de création des features\n",
    "def feature_BERT_fct(model, model_type, sentences, max_length, b_size, mode='HF') :\n",
    "    batch_size = b_size\n",
    "    batch_size_pred = b_size\n",
    "    bert_tokenizer = trans.AutoTokenizer.from_pretrained(model_type)\n",
    "\n",
    "    for step in range(len(sentences)//batch_size) :\n",
    "        idx = step*batch_size\n",
    "        input_ids, token_type_ids, attention_mask, bert_inp_tot = bert_inp_fct(sentences[idx:idx+batch_size], \n",
    "                                                                      bert_tokenizer, max_length)\n",
    "        \n",
    "        if mode=='HF' :    # Bert HuggingFace\n",
    "            outputs = model.predict([input_ids, attention_mask, token_type_ids], batch_size=batch_size_pred)\n",
    "            last_hidden_states = outputs.last_hidden_state\n",
    "\n",
    "        if mode=='TFhub' : # Bert Tensorflow Hub\n",
    "            text_preprocessed = {\"input_word_ids\" : input_ids, \n",
    "                                 \"input_mask\" : attention_mask, \n",
    "                                 \"input_type_ids\" : token_type_ids}\n",
    "            outputs = model(text_preprocessed)\n",
    "            last_hidden_states = outputs['sequence_output']\n",
    "        if mode=='Fine_Tune':\n",
    "            outputs = model.predict([input_ids, attention_mask, token_type_ids], batch_size=batch_size_pred)\n",
    "            last_hidden_states = outputs.hidden_states[-1]\n",
    "             \n",
    "        if step ==0 :\n",
    "            last_hidden_states_tot = last_hidden_states\n",
    "            last_hidden_states_tot_0 = last_hidden_states\n",
    "        else :\n",
    "            last_hidden_states_tot = np.concatenate((last_hidden_states_tot,last_hidden_states))\n",
    "    \n",
    "    features_bert = np.array(last_hidden_states_tot).mean(axis=1)\n",
    "    \n",
    "     \n",
    "    return features_bert, last_hidden_states_tot"
   ]
  },
  {
   "cell_type": "code",
   "execution_count": 53,
   "id": "2d924b11-86bd-4de4-aac5-352c2460fc50",
   "metadata": {
    "execution": {
     "iopub.execute_input": "2023-01-04T10:07:31.953664Z",
     "iopub.status.busy": "2023-01-04T10:07:31.953664Z",
     "iopub.status.idle": "2023-01-04T10:07:31.967694Z",
     "shell.execute_reply": "2023-01-04T10:07:31.967694Z",
     "shell.execute_reply.started": "2023-01-04T10:07:31.953664Z"
    },
    "tags": []
   },
   "outputs": [
    {
     "data": {
      "text/plain": [
       "1008"
      ]
     },
     "execution_count": 53,
     "metadata": {},
     "output_type": "execute_result"
    }
   ],
   "source": [
    "len(txt_df['description_clean'].tolist())"
   ]
  },
  {
   "cell_type": "code",
   "execution_count": 54,
   "id": "cd159d80-aa3e-41e6-9728-450844e28b60",
   "metadata": {
    "execution": {
     "iopub.execute_input": "2023-01-04T10:07:31.968663Z",
     "iopub.status.busy": "2023-01-04T10:07:31.968663Z",
     "iopub.status.idle": "2023-01-04T10:07:34.811832Z",
     "shell.execute_reply": "2023-01-04T10:07:34.811832Z",
     "shell.execute_reply.started": "2023-01-04T10:07:31.968663Z"
    },
    "tags": []
   },
   "outputs": [
    {
     "name": "stderr",
     "output_type": "stream",
     "text": [
      "Some layers from the model checkpoint at bert-base-uncased were not used when initializing TFBertModel: ['nsp___cls', 'mlm___cls']\n",
      "- This IS expected if you are initializing TFBertModel from the checkpoint of a model trained on another task or with another architecture (e.g. initializing a BertForSequenceClassification model from a BertForPreTraining model).\n",
      "- This IS NOT expected if you are initializing TFBertModel from the checkpoint of a model that you expect to be exactly identical (initializing a BertForSequenceClassification model from a BertForSequenceClassification model).\n",
      "All the layers of TFBertModel were initialized from the model checkpoint at bert-base-uncased.\n",
      "If your task is similar to the task the model of the checkpoint was trained on, you can already use TFBertModel for predictions without further training.\n"
     ]
    }
   ],
   "source": [
    "max_length = 68\n",
    "batch_size = 8\n",
    "model_type = 'bert-base-uncased'\n",
    "model = trans.TFAutoModel.from_pretrained(model_type)\n",
    "sentences = txt_df['description_clean'].tolist()"
   ]
  },
  {
   "cell_type": "code",
   "execution_count": 55,
   "id": "ee09e677-a687-41fb-af1c-2f47ded8e6c6",
   "metadata": {
    "execution": {
     "iopub.execute_input": "2023-01-04T10:07:34.812808Z",
     "iopub.status.busy": "2023-01-04T10:07:34.812808Z",
     "iopub.status.idle": "2023-01-04T10:08:45.628090Z",
     "shell.execute_reply": "2023-01-04T10:08:45.628090Z",
     "shell.execute_reply.started": "2023-01-04T10:07:34.812808Z"
    },
    "tags": []
   },
   "outputs": [
    {
     "name": "stdout",
     "output_type": "stream",
     "text": [
      "1/1 [==============================] - 5s 5s/step\n",
      "1/1 [==============================] - 0s 435ms/step\n",
      "1/1 [==============================] - 0s 420ms/step\n",
      "1/1 [==============================] - 0s 439ms/step\n",
      "1/1 [==============================] - 0s 420ms/step\n",
      "1/1 [==============================] - 0s 428ms/step\n",
      "1/1 [==============================] - 0s 433ms/step\n",
      "1/1 [==============================] - 0s 429ms/step\n",
      "1/1 [==============================] - 0s 440ms/step\n",
      "1/1 [==============================] - 0s 429ms/step\n",
      "1/1 [==============================] - 0s 429ms/step\n",
      "1/1 [==============================] - 0s 426ms/step\n",
      "1/1 [==============================] - 0s 432ms/step\n",
      "1/1 [==============================] - 0s 444ms/step\n",
      "1/1 [==============================] - 0s 467ms/step\n",
      "1/1 [==============================] - 0s 443ms/step\n",
      "1/1 [==============================] - 0s 461ms/step\n",
      "1/1 [==============================] - 0s 452ms/step\n",
      "1/1 [==============================] - 0s 453ms/step\n",
      "1/1 [==============================] - 0s 424ms/step\n",
      "1/1 [==============================] - 0s 423ms/step\n",
      "1/1 [==============================] - 0s 427ms/step\n",
      "1/1 [==============================] - 0s 423ms/step\n",
      "1/1 [==============================] - 0s 442ms/step\n",
      "1/1 [==============================] - 0s 425ms/step\n",
      "1/1 [==============================] - 0s 426ms/step\n",
      "1/1 [==============================] - 0s 426ms/step\n",
      "1/1 [==============================] - 0s 427ms/step\n",
      "1/1 [==============================] - 0s 426ms/step\n",
      "1/1 [==============================] - 0s 426ms/step\n",
      "1/1 [==============================] - 0s 426ms/step\n",
      "1/1 [==============================] - 0s 428ms/step\n",
      "1/1 [==============================] - 0s 422ms/step\n",
      "1/1 [==============================] - 0s 426ms/step\n",
      "1/1 [==============================] - 0s 431ms/step\n",
      "1/1 [==============================] - 0s 430ms/step\n",
      "1/1 [==============================] - 0s 427ms/step\n",
      "1/1 [==============================] - 0s 427ms/step\n",
      "1/1 [==============================] - 0s 429ms/step\n",
      "1/1 [==============================] - 0s 426ms/step\n",
      "1/1 [==============================] - 0s 432ms/step\n",
      "1/1 [==============================] - 0s 433ms/step\n",
      "1/1 [==============================] - 0s 435ms/step\n",
      "1/1 [==============================] - 0s 446ms/step\n",
      "1/1 [==============================] - 0s 418ms/step\n",
      "1/1 [==============================] - 0s 461ms/step\n",
      "1/1 [==============================] - 0s 450ms/step\n",
      "1/1 [==============================] - 0s 450ms/step\n",
      "1/1 [==============================] - 0s 457ms/step\n",
      "1/1 [==============================] - 0s 463ms/step\n",
      "1/1 [==============================] - 0s 418ms/step\n",
      "1/1 [==============================] - 0s 440ms/step\n",
      "1/1 [==============================] - 0s 428ms/step\n",
      "1/1 [==============================] - 0s 437ms/step\n",
      "1/1 [==============================] - 0s 430ms/step\n",
      "1/1 [==============================] - 0s 431ms/step\n",
      "1/1 [==============================] - 0s 424ms/step\n",
      "1/1 [==============================] - 0s 439ms/step\n",
      "1/1 [==============================] - 0s 431ms/step\n",
      "1/1 [==============================] - 0s 426ms/step\n",
      "1/1 [==============================] - 0s 421ms/step\n",
      "1/1 [==============================] - 0s 427ms/step\n",
      "1/1 [==============================] - 0s 436ms/step\n",
      "1/1 [==============================] - 0s 433ms/step\n",
      "1/1 [==============================] - 0s 426ms/step\n",
      "1/1 [==============================] - 0s 434ms/step\n",
      "1/1 [==============================] - 0s 435ms/step\n",
      "1/1 [==============================] - 0s 433ms/step\n",
      "1/1 [==============================] - 0s 427ms/step\n",
      "1/1 [==============================] - 0s 417ms/step\n",
      "1/1 [==============================] - 0s 425ms/step\n",
      "1/1 [==============================] - 0s 420ms/step\n",
      "1/1 [==============================] - 0s 429ms/step\n",
      "1/1 [==============================] - 0s 435ms/step\n",
      "1/1 [==============================] - 0s 431ms/step\n",
      "1/1 [==============================] - 0s 425ms/step\n",
      "1/1 [==============================] - 0s 470ms/step\n",
      "1/1 [==============================] - 0s 445ms/step\n",
      "1/1 [==============================] - 0s 454ms/step\n",
      "1/1 [==============================] - 0s 459ms/step\n",
      "1/1 [==============================] - 0s 462ms/step\n",
      "1/1 [==============================] - 0s 435ms/step\n",
      "1/1 [==============================] - 0s 450ms/step\n",
      "1/1 [==============================] - 0s 429ms/step\n",
      "1/1 [==============================] - 0s 434ms/step\n",
      "1/1 [==============================] - 0s 423ms/step\n",
      "1/1 [==============================] - 0s 426ms/step\n",
      "1/1 [==============================] - 0s 430ms/step\n",
      "1/1 [==============================] - 0s 423ms/step\n",
      "1/1 [==============================] - 0s 443ms/step\n",
      "1/1 [==============================] - 0s 421ms/step\n",
      "1/1 [==============================] - 0s 427ms/step\n",
      "1/1 [==============================] - 0s 427ms/step\n",
      "1/1 [==============================] - 0s 427ms/step\n",
      "1/1 [==============================] - 0s 422ms/step\n",
      "1/1 [==============================] - 0s 431ms/step\n",
      "1/1 [==============================] - 0s 432ms/step\n",
      "1/1 [==============================] - 0s 428ms/step\n",
      "1/1 [==============================] - 0s 430ms/step\n",
      "1/1 [==============================] - 0s 424ms/step\n",
      "1/1 [==============================] - 0s 435ms/step\n",
      "1/1 [==============================] - 0s 455ms/step\n",
      "1/1 [==============================] - 0s 468ms/step\n",
      "1/1 [==============================] - 0s 441ms/step\n",
      "1/1 [==============================] - 0s 448ms/step\n",
      "1/1 [==============================] - 0s 445ms/step\n",
      "1/1 [==============================] - 1s 508ms/step\n",
      "1/1 [==============================] - 0s 457ms/step\n",
      "1/1 [==============================] - 0s 455ms/step\n",
      "1/1 [==============================] - 0s 469ms/step\n",
      "1/1 [==============================] - 0s 438ms/step\n",
      "1/1 [==============================] - 0s 434ms/step\n",
      "1/1 [==============================] - 0s 421ms/step\n",
      "1/1 [==============================] - 0s 426ms/step\n",
      "1/1 [==============================] - 0s 451ms/step\n",
      "1/1 [==============================] - 0s 433ms/step\n",
      "1/1 [==============================] - 0s 436ms/step\n",
      "1/1 [==============================] - 0s 423ms/step\n",
      "1/1 [==============================] - 0s 442ms/step\n",
      "1/1 [==============================] - 0s 426ms/step\n",
      "1/1 [==============================] - 0s 441ms/step\n",
      "1/1 [==============================] - 0s 424ms/step\n",
      "1/1 [==============================] - 0s 431ms/step\n",
      "1/1 [==============================] - 0s 438ms/step\n",
      "1/1 [==============================] - 0s 426ms/step\n",
      "1/1 [==============================] - 0s 428ms/step\n"
     ]
    }
   ],
   "source": [
    "# Création des features\n",
    "\n",
    "features_bert, last_hidden_states_tot = feature_BERT_fct(model, model_type, sentences, \n",
    "                                                         max_length, batch_size, mode='HF')"
   ]
  },
  {
   "cell_type": "code",
   "execution_count": 56,
   "id": "97ab6b51-0114-4514-80b3-ee253fa6331a",
   "metadata": {
    "execution": {
     "iopub.execute_input": "2023-01-04T10:08:45.629084Z",
     "iopub.status.busy": "2023-01-04T10:08:45.629084Z",
     "iopub.status.idle": "2023-01-04T10:08:45.644037Z",
     "shell.execute_reply": "2023-01-04T10:08:45.644037Z",
     "shell.execute_reply.started": "2023-01-04T10:08:45.629084Z"
    },
    "tags": []
   },
   "outputs": [
    {
     "data": {
      "text/plain": [
       "(1008, 768)"
      ]
     },
     "execution_count": 56,
     "metadata": {},
     "output_type": "execute_result"
    }
   ],
   "source": [
    "features_bert.shape"
   ]
  },
  {
   "cell_type": "code",
   "execution_count": 57,
   "id": "8306e55e-c6bc-41a5-93c6-1dcccd03ecd8",
   "metadata": {
    "execution": {
     "iopub.execute_input": "2023-01-04T10:08:45.645071Z",
     "iopub.status.busy": "2023-01-04T10:08:45.645071Z",
     "iopub.status.idle": "2023-01-04T10:08:47.219037Z",
     "shell.execute_reply": "2023-01-04T10:08:47.219037Z",
     "shell.execute_reply.started": "2023-01-04T10:08:45.645071Z"
    },
    "tags": []
   },
   "outputs": [
    {
     "name": "stdout",
     "output_type": "stream",
     "text": [
      "The ari scores are 0.340387754338512 for categorie 0 and 0.3902844332409672 for categorie 1.\n"
     ]
    }
   ],
   "source": [
    "clus.fit(features_bert)\n",
    "clus1.fit(features_bert)\n",
    "ari = metrics.adjusted_rand_score(np.array(txt_df['labels_0']),\n",
    "                                                 np.array(clus.labels_)\n",
    "                                                 )\n",
    "ari1 = metrics.adjusted_rand_score(np.array(txt_df['labels_1']),\n",
    "                                                 np.array(clus1.labels_)\n",
    "                                                 )\n",
    "print('The ari scores are {} for categorie 0 and {} for categorie 1.'.format(ari, ari1))"
   ]
  },
  {
   "cell_type": "code",
   "execution_count": 58,
   "id": "07633a77-6bf9-4c4c-b558-da44e8dd4fcf",
   "metadata": {
    "execution": {
     "iopub.execute_input": "2023-01-04T10:08:47.220037Z",
     "iopub.status.busy": "2023-01-04T10:08:47.220037Z",
     "iopub.status.idle": "2023-01-04T10:09:16.749036Z",
     "shell.execute_reply": "2023-01-04T10:09:16.749036Z",
     "shell.execute_reply.started": "2023-01-04T10:08:47.220037Z"
    },
    "tags": []
   },
   "outputs": [],
   "source": [
    "model_url = 'https://tfhub.dev/tensorflow/bert_en_uncased_L-12_H-768_A-12/4'\n",
    "bert_layer = hub.KerasLayer(model_url, trainable=True)"
   ]
  },
  {
   "cell_type": "code",
   "execution_count": 59,
   "id": "e7f7f1bd-1e91-44fc-9106-9d23cb90a304",
   "metadata": {
    "execution": {
     "iopub.execute_input": "2023-01-04T10:09:16.750038Z",
     "iopub.status.busy": "2023-01-04T10:09:16.750038Z",
     "iopub.status.idle": "2023-01-04T10:10:17.237314Z",
     "shell.execute_reply": "2023-01-04T10:10:17.236313Z",
     "shell.execute_reply.started": "2023-01-04T10:09:16.750038Z"
    },
    "tags": []
   },
   "outputs": [],
   "source": [
    "max_length = 64\n",
    "batch_size = 8\n",
    "model_type = 'bert-base-uncased'\n",
    "model = bert_layer\n",
    "\n",
    "features_bert, last_hidden_states_tot = feature_BERT_fct(model, model_type, sentences, \n",
    "                                                         max_length, batch_size, mode='TFhub')"
   ]
  },
  {
   "cell_type": "code",
   "execution_count": 60,
   "id": "aadecdd7-9d8d-4354-8f66-3a0be33ebc92",
   "metadata": {
    "execution": {
     "iopub.execute_input": "2023-01-04T10:10:17.239313Z",
     "iopub.status.busy": "2023-01-04T10:10:17.238314Z",
     "iopub.status.idle": "2023-01-04T10:10:18.799309Z",
     "shell.execute_reply": "2023-01-04T10:10:18.799309Z",
     "shell.execute_reply.started": "2023-01-04T10:10:17.239313Z"
    },
    "tags": []
   },
   "outputs": [
    {
     "name": "stdout",
     "output_type": "stream",
     "text": [
      "The ari scores are 0.36064435240966813 for categorie 0 and 0.3777706747361607 for categorie 1.\n"
     ]
    }
   ],
   "source": [
    "clus.fit(features_bert)\n",
    "clus1.fit(features_bert)\n",
    "ari = metrics.adjusted_rand_score(np.array(txt_df['labels_0']),\n",
    "                                                 np.array(clus.labels_)\n",
    "                                                 )\n",
    "ari1 = metrics.adjusted_rand_score(np.array(txt_df['labels_1']),\n",
    "                                                 np.array(clus1.labels_)\n",
    "                                                 )\n",
    "print('The ari scores are {} for categorie 0 and {} for categorie 1.'.format(ari, ari1))"
   ]
  },
  {
   "cell_type": "markdown",
   "id": "01ee7ef3-9ef9-401b-a5d2-8b5248882254",
   "metadata": {
    "toc-hr-collapsed": true
   },
   "source": [
    "### Fine-Tune"
   ]
  },
  {
   "cell_type": "code",
   "execution_count": 61,
   "id": "44fd3527-bfe9-4c41-b333-24ff1bede369",
   "metadata": {
    "execution": {
     "iopub.execute_input": "2023-01-04T10:10:18.800310Z",
     "iopub.status.busy": "2023-01-04T10:10:18.800310Z",
     "iopub.status.idle": "2023-01-04T10:10:19.301312Z",
     "shell.execute_reply": "2023-01-04T10:10:19.300310Z",
     "shell.execute_reply.started": "2023-01-04T10:10:18.800310Z"
    },
    "tags": []
   },
   "outputs": [],
   "source": [
    "# let's try to fine-tune this\n",
    "from tensorflow.keras.optimizers import Adam\n",
    "#tokenize\n",
    "bert_tokenizer = trans.AutoTokenizer.from_pretrained('bert-base-uncased')\n",
    "max_length = 34\n",
    "doc_token = bert_tokenizer(sentences,max_length=max_length, padding = 'max_length', truncation = True, return_tensors=\"tf\", return_attention_mask = False, return_token_type_ids=False)"
   ]
  },
  {
   "cell_type": "code",
   "execution_count": 62,
   "id": "303299c7-fa2b-433b-a496-c1d6d1285ddf",
   "metadata": {
    "execution": {
     "iopub.execute_input": "2023-01-04T10:10:19.303314Z",
     "iopub.status.busy": "2023-01-04T10:10:19.303314Z",
     "iopub.status.idle": "2023-01-04T10:10:19.315310Z",
     "shell.execute_reply": "2023-01-04T10:10:19.315310Z",
     "shell.execute_reply.started": "2023-01-04T10:10:19.303314Z"
    },
    "tags": []
   },
   "outputs": [],
   "source": [
    "temp = pd.DataFrame(sentences)\n",
    "def tokenize_dataset(data):\n",
    "    # Keys of the returned dictionary will be added to the dataset as columns\n",
    "    return bert_tokenizer(data[0])\n",
    "\n",
    "\n",
    "temp = temp.apply(tokenize_dataset)"
   ]
  },
  {
   "cell_type": "code",
   "execution_count": 63,
   "id": "9fcb1b8e-71b1-405e-982f-9f3f7d75baa1",
   "metadata": {
    "execution": {
     "iopub.execute_input": "2023-01-04T10:10:19.317312Z",
     "iopub.status.busy": "2023-01-04T10:10:19.316311Z",
     "iopub.status.idle": "2023-01-04T10:10:21.850139Z",
     "shell.execute_reply": "2023-01-04T10:10:21.850139Z",
     "shell.execute_reply.started": "2023-01-04T10:10:19.317312Z"
    },
    "tags": []
   },
   "outputs": [
    {
     "name": "stderr",
     "output_type": "stream",
     "text": [
      "All model checkpoint layers were used when initializing TFBertForSequenceClassification.\n",
      "\n",
      "Some layers of TFBertForSequenceClassification were not initialized from the model checkpoint at bert-base-uncased and are newly initialized: ['classifier']\n",
      "You should probably TRAIN this model on a down-stream task to be able to use it for predictions and inference.\n",
      "No loss specified in compile() - the model's internal loss computation will be used as the loss. Don't panic - this is a common way to train TensorFlow models in Transformers! To disable this behaviour please pass a loss argument, or explicitly pass `loss=None` if you do not want your model to compute a loss.\n"
     ]
    }
   ],
   "source": [
    "model_ft = trans.TFAutoModelForSequenceClassification.from_pretrained(\"bert-base-uncased\", num_labels=37,output_hidden_states=True)\n",
    "model_ft.compile(optimizer=Adam(3e-5))\n"
   ]
  },
  {
   "cell_type": "code",
   "execution_count": 64,
   "id": "f6e8c1e3-bfb6-4808-957f-ef473c9fb05e",
   "metadata": {
    "execution": {
     "iopub.execute_input": "2023-01-04T10:10:21.851114Z",
     "iopub.status.busy": "2023-01-04T10:10:21.851114Z",
     "iopub.status.idle": "2023-01-04T10:12:13.872227Z",
     "shell.execute_reply": "2023-01-04T10:12:13.872227Z",
     "shell.execute_reply.started": "2023-01-04T10:10:21.851114Z"
    },
    "tags": []
   },
   "outputs": [
    {
     "name": "stdout",
     "output_type": "stream",
     "text": [
      "32/32 [==============================] - 112s 3s/step - loss: 3.2136\n"
     ]
    },
    {
     "data": {
      "text/plain": [
       "<keras.callbacks.History at 0x20950c096d0>"
      ]
     },
     "execution_count": 64,
     "metadata": {},
     "output_type": "execute_result"
    }
   ],
   "source": [
    "labels = np.array(txt_df['labels_1'])\n",
    "\n",
    "model_ft.fit(doc_token['input_ids'], labels)"
   ]
  },
  {
   "cell_type": "code",
   "execution_count": 65,
   "id": "40aea810-67b7-413b-bb4e-04a65ba1dd62",
   "metadata": {
    "execution": {
     "iopub.execute_input": "2023-01-04T10:12:13.873227Z",
     "iopub.status.busy": "2023-01-04T10:12:13.873227Z",
     "iopub.status.idle": "2023-01-04T10:12:13.887227Z",
     "shell.execute_reply": "2023-01-04T10:12:13.887227Z",
     "shell.execute_reply.started": "2023-01-04T10:12:13.873227Z"
    },
    "tags": []
   },
   "outputs": [
    {
     "data": {
      "text/plain": [
       "'key feature elegance polyester multicolor abstract eyelet door curtain floral curtainelegance polyester multicolor abstract eyelet door curtain height pack price curtain enhances look interiorsthis curtain made high quality polyester fabricit feature eyelet style stitch metal ringit make room environment romantic lovingthis curtain ant wrinkle anti shrinkage elegant apparancegive home bright modernistic appeal design surreal attention sure steal heart contemporary eyelet valance curtain slide smoothly draw apart first thing morning welcome bright sun ray want wish good morning whole world draw close evening create special moment joyous beauty given soothing print bring home elegant curtain softly filter light room get right amount sunlightspecifications elegance polyester multicolor abstract eyelet door curtain height pack general brand elegance designed door type eyelet model name abstract polyester door curtain set model duster color multicolor dimension length box number content sale pack sale curtain body design material polyester'"
      ]
     },
     "execution_count": 65,
     "metadata": {},
     "output_type": "execute_result"
    }
   ],
   "source": [
    "sentences[0]"
   ]
  },
  {
   "cell_type": "code",
   "execution_count": 66,
   "id": "7edc8c7d-e837-4547-b000-53b0501bb717",
   "metadata": {
    "execution": {
     "iopub.execute_input": "2023-01-04T10:12:13.889228Z",
     "iopub.status.busy": "2023-01-04T10:12:13.888229Z",
     "iopub.status.idle": "2023-01-04T10:13:13.456299Z",
     "shell.execute_reply": "2023-01-04T10:13:13.454299Z",
     "shell.execute_reply.started": "2023-01-04T10:12:13.889228Z"
    },
    "tags": []
   },
   "outputs": [
    {
     "name": "stdout",
     "output_type": "stream",
     "text": [
      "132/132 [==============================] - 51s 350ms/step\n"
     ]
    }
   ],
   "source": [
    "bert_tokenizer = trans.AutoTokenizer.from_pretrained(\"bert-base-uncased\")\n",
    "max_length = 50\n",
    "\n",
    "input_ids, token_type_ids, attention_mask, bert_inp_tot = bert_inp_fct(sentences[0], \n",
    "                                                                      bert_tokenizer, max_length)\n",
    "\n",
    "outputs = model_ft.predict([input_ids, attention_mask, token_type_ids], batch_size=8)\n"
   ]
  },
  {
   "cell_type": "code",
   "execution_count": 67,
   "id": "ad5f5099-b82e-4d15-81db-ae67644c40c6",
   "metadata": {
    "execution": {
     "iopub.execute_input": "2023-01-04T10:13:13.460299Z",
     "iopub.status.busy": "2023-01-04T10:13:13.459299Z",
     "iopub.status.idle": "2023-01-04T10:13:13.485298Z",
     "shell.execute_reply": "2023-01-04T10:13:13.485298Z",
     "shell.execute_reply.started": "2023-01-04T10:13:13.460299Z"
    },
    "tags": []
   },
   "outputs": [
    {
     "data": {
      "text/plain": [
       "(50, 768)"
      ]
     },
     "execution_count": 67,
     "metadata": {},
     "output_type": "execute_result"
    }
   ],
   "source": [
    "outputs.hidden_states[-1][-1].shape"
   ]
  },
  {
   "cell_type": "code",
   "execution_count": 68,
   "id": "c77bf9de-d6fa-40a6-a1c7-adc9d2c76e74",
   "metadata": {
    "execution": {
     "iopub.execute_input": "2023-01-04T10:13:13.486299Z",
     "iopub.status.busy": "2023-01-04T10:13:13.486299Z",
     "iopub.status.idle": "2023-01-04T10:13:13.500298Z",
     "shell.execute_reply": "2023-01-04T10:13:13.500298Z",
     "shell.execute_reply.started": "2023-01-04T10:13:13.486299Z"
    }
   },
   "outputs": [
    {
     "data": {
      "text/plain": [
       "True"
      ]
     },
     "execution_count": 68,
     "metadata": {},
     "output_type": "execute_result"
    }
   ],
   "source": [
    "tf.test.is_built_with_gpu_support()"
   ]
  },
  {
   "cell_type": "code",
   "execution_count": 69,
   "id": "df6f69bc-8eb7-4378-9f26-f5421dcbc5fe",
   "metadata": {
    "execution": {
     "iopub.execute_input": "2023-01-04T10:13:13.501299Z",
     "iopub.status.busy": "2023-01-04T10:13:13.501299Z",
     "iopub.status.idle": "2023-01-04T10:13:13.516298Z",
     "shell.execute_reply": "2023-01-04T10:13:13.516298Z",
     "shell.execute_reply.started": "2023-01-04T10:13:13.501299Z"
    },
    "tags": []
   },
   "outputs": [
    {
     "data": {
      "text/plain": [
       "1050"
      ]
     },
     "execution_count": 69,
     "metadata": {},
     "output_type": "execute_result"
    }
   ],
   "source": [
    "len(sentences[0])"
   ]
  },
  {
   "cell_type": "code",
   "execution_count": 70,
   "id": "8a61203b-07c4-4ab3-8621-6887ab8015c4",
   "metadata": {
    "execution": {
     "iopub.execute_input": "2023-01-04T10:13:13.518299Z",
     "iopub.status.busy": "2023-01-04T10:13:13.517299Z",
     "iopub.status.idle": "2023-01-04T10:14:28.233064Z",
     "shell.execute_reply": "2023-01-04T10:14:28.233064Z",
     "shell.execute_reply.started": "2023-01-04T10:13:13.518299Z"
    },
    "tags": []
   },
   "outputs": [
    {
     "name": "stdout",
     "output_type": "stream",
     "text": [
      "1/1 [==============================] - 4s 4s/step\n",
      "1/1 [==============================] - 0s 415ms/step\n",
      "1/1 [==============================] - 0s 433ms/step\n",
      "1/1 [==============================] - 0s 427ms/step\n",
      "1/1 [==============================] - 0s 428ms/step\n",
      "1/1 [==============================] - 0s 427ms/step\n",
      "1/1 [==============================] - 0s 431ms/step\n",
      "1/1 [==============================] - 0s 440ms/step\n",
      "1/1 [==============================] - 0s 454ms/step\n",
      "1/1 [==============================] - 0s 445ms/step\n",
      "1/1 [==============================] - 0s 453ms/step\n",
      "1/1 [==============================] - 0s 461ms/step\n",
      "1/1 [==============================] - 0s 468ms/step\n",
      "1/1 [==============================] - 0s 463ms/step\n",
      "1/1 [==============================] - 0s 454ms/step\n",
      "1/1 [==============================] - 0s 432ms/step\n",
      "1/1 [==============================] - 0s 419ms/step\n",
      "1/1 [==============================] - 0s 428ms/step\n",
      "1/1 [==============================] - 0s 423ms/step\n",
      "1/1 [==============================] - 0s 421ms/step\n",
      "1/1 [==============================] - 0s 432ms/step\n",
      "1/1 [==============================] - 0s 424ms/step\n",
      "1/1 [==============================] - 0s 413ms/step\n",
      "1/1 [==============================] - 0s 421ms/step\n",
      "1/1 [==============================] - 0s 424ms/step\n",
      "1/1 [==============================] - 0s 424ms/step\n",
      "1/1 [==============================] - 0s 418ms/step\n",
      "1/1 [==============================] - 0s 416ms/step\n",
      "1/1 [==============================] - 0s 448ms/step\n",
      "1/1 [==============================] - 0s 431ms/step\n",
      "1/1 [==============================] - 0s 427ms/step\n",
      "1/1 [==============================] - 0s 423ms/step\n",
      "1/1 [==============================] - 0s 441ms/step\n",
      "1/1 [==============================] - 0s 439ms/step\n",
      "1/1 [==============================] - 0s 428ms/step\n",
      "1/1 [==============================] - 0s 443ms/step\n",
      "1/1 [==============================] - 0s 431ms/step\n",
      "1/1 [==============================] - 0s 432ms/step\n",
      "1/1 [==============================] - 0s 417ms/step\n",
      "1/1 [==============================] - 0s 441ms/step\n",
      "1/1 [==============================] - 0s 468ms/step\n",
      "1/1 [==============================] - 0s 440ms/step\n",
      "1/1 [==============================] - 0s 449ms/step\n",
      "1/1 [==============================] - 0s 444ms/step\n",
      "1/1 [==============================] - 0s 495ms/step\n",
      "1/1 [==============================] - 0s 451ms/step\n",
      "1/1 [==============================] - 0s 441ms/step\n",
      "1/1 [==============================] - 0s 420ms/step\n",
      "1/1 [==============================] - 0s 426ms/step\n",
      "1/1 [==============================] - 0s 411ms/step\n",
      "1/1 [==============================] - 0s 431ms/step\n",
      "1/1 [==============================] - 0s 434ms/step\n",
      "1/1 [==============================] - 0s 429ms/step\n",
      "1/1 [==============================] - 0s 448ms/step\n",
      "1/1 [==============================] - 0s 453ms/step\n",
      "1/1 [==============================] - 0s 485ms/step\n",
      "1/1 [==============================] - 0s 465ms/step\n",
      "1/1 [==============================] - 0s 447ms/step\n",
      "1/1 [==============================] - 0s 465ms/step\n",
      "1/1 [==============================] - 0s 461ms/step\n",
      "1/1 [==============================] - 0s 457ms/step\n",
      "1/1 [==============================] - 0s 458ms/step\n",
      "1/1 [==============================] - 0s 470ms/step\n",
      "1/1 [==============================] - 0s 416ms/step\n",
      "1/1 [==============================] - 0s 461ms/step\n",
      "1/1 [==============================] - 0s 494ms/step\n",
      "1/1 [==============================] - 0s 482ms/step\n",
      "1/1 [==============================] - 0s 478ms/step\n",
      "1/1 [==============================] - 0s 458ms/step\n",
      "1/1 [==============================] - 1s 501ms/step\n",
      "1/1 [==============================] - 1s 502ms/step\n",
      "1/1 [==============================] - 1s 509ms/step\n",
      "1/1 [==============================] - 0s 493ms/step\n",
      "1/1 [==============================] - 1s 507ms/step\n",
      "1/1 [==============================] - 1s 504ms/step\n",
      "1/1 [==============================] - 0s 484ms/step\n",
      "1/1 [==============================] - 1s 506ms/step\n",
      "1/1 [==============================] - 1s 501ms/step\n",
      "1/1 [==============================] - 1s 513ms/step\n",
      "1/1 [==============================] - 0s 495ms/step\n",
      "1/1 [==============================] - 0s 495ms/step\n",
      "1/1 [==============================] - 0s 483ms/step\n",
      "1/1 [==============================] - 0s 459ms/step\n",
      "1/1 [==============================] - 0s 494ms/step\n",
      "1/1 [==============================] - 0s 474ms/step\n",
      "1/1 [==============================] - 0s 466ms/step\n",
      "1/1 [==============================] - 0s 492ms/step\n",
      "1/1 [==============================] - 0s 485ms/step\n",
      "1/1 [==============================] - 0s 465ms/step\n",
      "1/1 [==============================] - 0s 463ms/step\n",
      "1/1 [==============================] - 0s 476ms/step\n",
      "1/1 [==============================] - 0s 464ms/step\n",
      "1/1 [==============================] - 0s 454ms/step\n",
      "1/1 [==============================] - 0s 486ms/step\n",
      "1/1 [==============================] - 0s 462ms/step\n",
      "1/1 [==============================] - 0s 476ms/step\n",
      "1/1 [==============================] - 1s 515ms/step\n",
      "1/1 [==============================] - 0s 468ms/step\n",
      "1/1 [==============================] - 0s 483ms/step\n",
      "1/1 [==============================] - 0s 476ms/step\n",
      "1/1 [==============================] - 1s 508ms/step\n",
      "1/1 [==============================] - 0s 492ms/step\n",
      "1/1 [==============================] - 0s 457ms/step\n",
      "1/1 [==============================] - 0s 471ms/step\n",
      "1/1 [==============================] - 0s 460ms/step\n",
      "1/1 [==============================] - 0s 500ms/step\n",
      "1/1 [==============================] - 0s 465ms/step\n",
      "1/1 [==============================] - 0s 476ms/step\n",
      "1/1 [==============================] - 0s 460ms/step\n",
      "1/1 [==============================] - 0s 469ms/step\n",
      "1/1 [==============================] - 0s 500ms/step\n",
      "1/1 [==============================] - 0s 468ms/step\n",
      "1/1 [==============================] - 0s 470ms/step\n",
      "1/1 [==============================] - 0s 462ms/step\n",
      "1/1 [==============================] - 0s 461ms/step\n",
      "1/1 [==============================] - 0s 481ms/step\n",
      "1/1 [==============================] - 0s 463ms/step\n",
      "1/1 [==============================] - 0s 474ms/step\n",
      "1/1 [==============================] - 0s 464ms/step\n",
      "1/1 [==============================] - 0s 487ms/step\n",
      "1/1 [==============================] - 1s 501ms/step\n",
      "1/1 [==============================] - 0s 458ms/step\n",
      "1/1 [==============================] - 0s 473ms/step\n",
      "1/1 [==============================] - 0s 478ms/step\n",
      "1/1 [==============================] - 0s 484ms/step\n",
      "1/1 [==============================] - 0s 482ms/step\n"
     ]
    }
   ],
   "source": [
    "max_length = 64\n",
    "batch_size = 8\n",
    "model_type = 'bert-base-uncased'\n",
    "model = model_ft\n",
    "\n",
    "features_bert, last_hidden_states_tot = feature_BERT_fct(model, model_type, sentences, \n",
    "                                                         max_length, batch_size, mode='Fine_Tune')"
   ]
  },
  {
   "cell_type": "code",
   "execution_count": 71,
   "id": "1ce9b8df-2365-498d-a2e3-b54e285f33bc",
   "metadata": {
    "execution": {
     "iopub.execute_input": "2023-01-04T10:14:28.266064Z",
     "iopub.status.busy": "2023-01-04T10:14:28.265065Z",
     "iopub.status.idle": "2023-01-04T10:14:30.307067Z",
     "shell.execute_reply": "2023-01-04T10:14:30.307067Z",
     "shell.execute_reply.started": "2023-01-04T10:14:28.265065Z"
    },
    "tags": []
   },
   "outputs": [
    {
     "name": "stdout",
     "output_type": "stream",
     "text": [
      "The ari scores are 0.3834895322830199 for categorie 0 and 0.5823121215605764 for categorie 1.\n"
     ]
    }
   ],
   "source": [
    "clus.fit(features_bert)\n",
    "clus1.fit(features_bert)\n",
    "ari = metrics.adjusted_rand_score(np.array(txt_df['labels_0']),\n",
    "                                                 np.array(clus.labels_)\n",
    "                                                 )\n",
    "ari1 = metrics.adjusted_rand_score(np.array(txt_df['labels_1']),\n",
    "                                                 np.array(clus1.labels_)\n",
    "                                                 )\n",
    "print('The ari scores are {} for categorie 0 and {} for categorie 1.'.format(ari, ari1))"
   ]
  },
  {
   "cell_type": "code",
   "execution_count": 74,
   "id": "eb471c63-fcce-4cf2-8792-e353c75c779e",
   "metadata": {
    "execution": {
     "iopub.execute_input": "2023-01-04T12:39:54.846765Z",
     "iopub.status.busy": "2023-01-04T12:39:54.846765Z",
     "iopub.status.idle": "2023-01-04T12:39:55.517844Z",
     "shell.execute_reply": "2023-01-04T12:39:55.517844Z",
     "shell.execute_reply.started": "2023-01-04T12:39:54.846765Z"
    },
    "tags": []
   },
   "outputs": [],
   "source": [
    "features_bert_df = pd.DataFrame(features_bert)\n",
    "features_bert_df.to_csv('features_bert_df.csv', index = False)"
   ]
  },
  {
   "cell_type": "markdown",
   "id": "81659a3e-c8e6-47d3-985a-9100a8f210d9",
   "metadata": {},
   "source": [
    "## USE"
   ]
  },
  {
   "cell_type": "code",
   "execution_count": 85,
   "id": "954b673f-d202-4642-ad0a-fe4b4519d5f5",
   "metadata": {
    "execution": {
     "iopub.execute_input": "2023-01-02T10:03:58.154534Z",
     "iopub.status.busy": "2023-01-02T10:03:58.153528Z",
     "iopub.status.idle": "2023-01-02T10:08:23.698398Z",
     "shell.execute_reply": "2023-01-02T10:08:23.697487Z",
     "shell.execute_reply.started": "2023-01-02T10:03:58.154534Z"
    },
    "tags": []
   },
   "outputs": [],
   "source": [
    "embed = hub.load(\"https://tfhub.dev/google/universal-sentence-encoder/4\")"
   ]
  },
  {
   "cell_type": "code",
   "execution_count": 86,
   "id": "161c15ca-75c1-4af5-8d9c-e132e0c742c8",
   "metadata": {
    "execution": {
     "iopub.execute_input": "2023-01-02T10:09:41.650463Z",
     "iopub.status.busy": "2023-01-02T10:09:41.650463Z",
     "iopub.status.idle": "2023-01-02T10:09:41.670452Z",
     "shell.execute_reply": "2023-01-02T10:09:41.669450Z",
     "shell.execute_reply.started": "2023-01-02T10:09:41.650463Z"
    },
    "tags": []
   },
   "outputs": [],
   "source": [
    "def feature_USE_fct(sentences, b_size) :\n",
    "    batch_size = b_size\n",
    "\n",
    "    for step in range(len(sentences)//batch_size) :\n",
    "        idx = step*batch_size\n",
    "        feat = embed(sentences[idx:idx+batch_size])\n",
    "\n",
    "        if step ==0 :\n",
    "            features = feat\n",
    "        else :\n",
    "            features = np.concatenate((features,feat))\n",
    "\n",
    "    return features"
   ]
  },
  {
   "cell_type": "code",
   "execution_count": 87,
   "id": "86fcda42-0daf-4112-8a20-76097b4a040a",
   "metadata": {
    "execution": {
     "iopub.execute_input": "2023-01-02T10:09:42.786440Z",
     "iopub.status.busy": "2023-01-02T10:09:42.785431Z",
     "iopub.status.idle": "2023-01-02T10:09:43.605682Z",
     "shell.execute_reply": "2023-01-02T10:09:43.604710Z",
     "shell.execute_reply.started": "2023-01-02T10:09:42.786440Z"
    },
    "tags": []
   },
   "outputs": [
    {
     "ename": "UnknownError",
     "evalue": "Graph execution error:\n\nJIT compilation failed.\n\t [[{{node EncoderDNN/EmbeddingLookup/EmbeddingLookupUnique/embedding_lookup/mod}}]] [Op:__inference_restored_function_body_337312]",
     "output_type": "error",
     "traceback": [
      "\u001b[1;31m---------------------------------------------------------------------------\u001b[0m",
      "\u001b[1;31mUnknownError\u001b[0m                              Traceback (most recent call last)",
      "Cell \u001b[1;32mIn[87], line 2\u001b[0m\n\u001b[0;32m      1\u001b[0m batch_size \u001b[38;5;241m=\u001b[39m \u001b[38;5;241m8\u001b[39m\n\u001b[1;32m----> 2\u001b[0m features_USE \u001b[38;5;241m=\u001b[39m \u001b[43mfeature_USE_fct\u001b[49m\u001b[43m(\u001b[49m\u001b[43msentences\u001b[49m\u001b[43m,\u001b[49m\u001b[43m \u001b[49m\u001b[43mbatch_size\u001b[49m\u001b[43m)\u001b[49m\n",
      "Cell \u001b[1;32mIn[86], line 6\u001b[0m, in \u001b[0;36mfeature_USE_fct\u001b[1;34m(sentences, b_size)\u001b[0m\n\u001b[0;32m      4\u001b[0m \u001b[38;5;28;01mfor\u001b[39;00m step \u001b[38;5;129;01min\u001b[39;00m \u001b[38;5;28mrange\u001b[39m(\u001b[38;5;28mlen\u001b[39m(sentences)\u001b[38;5;241m/\u001b[39m\u001b[38;5;241m/\u001b[39mbatch_size) :\n\u001b[0;32m      5\u001b[0m     idx \u001b[38;5;241m=\u001b[39m step\u001b[38;5;241m*\u001b[39mbatch_size\n\u001b[1;32m----> 6\u001b[0m     feat \u001b[38;5;241m=\u001b[39m \u001b[43membed\u001b[49m\u001b[43m(\u001b[49m\u001b[43msentences\u001b[49m\u001b[43m[\u001b[49m\u001b[43midx\u001b[49m\u001b[43m:\u001b[49m\u001b[43midx\u001b[49m\u001b[38;5;241;43m+\u001b[39;49m\u001b[43mbatch_size\u001b[49m\u001b[43m]\u001b[49m\u001b[43m)\u001b[49m\n\u001b[0;32m      8\u001b[0m     \u001b[38;5;28;01mif\u001b[39;00m step \u001b[38;5;241m==\u001b[39m\u001b[38;5;241m0\u001b[39m :\n\u001b[0;32m      9\u001b[0m         features \u001b[38;5;241m=\u001b[39m feat\n",
      "File \u001b[1;32m~\\AppData\\Roaming\\Python\\Python39\\site-packages\\tensorflow\\python\\saved_model\\load.py:704\u001b[0m, in \u001b[0;36m_call_attribute\u001b[1;34m(instance, *args, **kwargs)\u001b[0m\n\u001b[0;32m    703\u001b[0m \u001b[38;5;28;01mdef\u001b[39;00m \u001b[38;5;21m_call_attribute\u001b[39m(instance, \u001b[38;5;241m*\u001b[39margs, \u001b[38;5;241m*\u001b[39m\u001b[38;5;241m*\u001b[39mkwargs):\n\u001b[1;32m--> 704\u001b[0m   \u001b[38;5;28;01mreturn\u001b[39;00m instance\u001b[38;5;241m.\u001b[39m\u001b[38;5;21m__call__\u001b[39m(\u001b[38;5;241m*\u001b[39margs, \u001b[38;5;241m*\u001b[39m\u001b[38;5;241m*\u001b[39mkwargs)\n",
      "File \u001b[1;32m~\\AppData\\Roaming\\Python\\Python39\\site-packages\\tensorflow\\python\\util\\traceback_utils.py:153\u001b[0m, in \u001b[0;36mfilter_traceback.<locals>.error_handler\u001b[1;34m(*args, **kwargs)\u001b[0m\n\u001b[0;32m    151\u001b[0m \u001b[38;5;28;01mexcept\u001b[39;00m \u001b[38;5;167;01mException\u001b[39;00m \u001b[38;5;28;01mas\u001b[39;00m e:\n\u001b[0;32m    152\u001b[0m   filtered_tb \u001b[38;5;241m=\u001b[39m _process_traceback_frames(e\u001b[38;5;241m.\u001b[39m__traceback__)\n\u001b[1;32m--> 153\u001b[0m   \u001b[38;5;28;01mraise\u001b[39;00m e\u001b[38;5;241m.\u001b[39mwith_traceback(filtered_tb) \u001b[38;5;28;01mfrom\u001b[39;00m \u001b[38;5;28mNone\u001b[39m\n\u001b[0;32m    154\u001b[0m \u001b[38;5;28;01mfinally\u001b[39;00m:\n\u001b[0;32m    155\u001b[0m   \u001b[38;5;28;01mdel\u001b[39;00m filtered_tb\n",
      "File \u001b[1;32m~\\AppData\\Roaming\\Python\\Python39\\site-packages\\tensorflow\\python\\eager\\execute.py:54\u001b[0m, in \u001b[0;36mquick_execute\u001b[1;34m(op_name, num_outputs, inputs, attrs, ctx, name)\u001b[0m\n\u001b[0;32m     52\u001b[0m \u001b[38;5;28;01mtry\u001b[39;00m:\n\u001b[0;32m     53\u001b[0m   ctx\u001b[38;5;241m.\u001b[39mensure_initialized()\n\u001b[1;32m---> 54\u001b[0m   tensors \u001b[38;5;241m=\u001b[39m pywrap_tfe\u001b[38;5;241m.\u001b[39mTFE_Py_Execute(ctx\u001b[38;5;241m.\u001b[39m_handle, device_name, op_name,\n\u001b[0;32m     55\u001b[0m                                       inputs, attrs, num_outputs)\n\u001b[0;32m     56\u001b[0m \u001b[38;5;28;01mexcept\u001b[39;00m core\u001b[38;5;241m.\u001b[39m_NotOkStatusException \u001b[38;5;28;01mas\u001b[39;00m e:\n\u001b[0;32m     57\u001b[0m   \u001b[38;5;28;01mif\u001b[39;00m name \u001b[38;5;129;01mis\u001b[39;00m \u001b[38;5;129;01mnot\u001b[39;00m \u001b[38;5;28;01mNone\u001b[39;00m:\n",
      "\u001b[1;31mUnknownError\u001b[0m: Graph execution error:\n\nJIT compilation failed.\n\t [[{{node EncoderDNN/EmbeddingLookup/EmbeddingLookupUnique/embedding_lookup/mod}}]] [Op:__inference_restored_function_body_337312]"
     ]
    }
   ],
   "source": [
    "batch_size = 8\n",
    "features_USE = feature_USE_fct(sentences, batch_size)"
   ]
  },
  {
   "cell_type": "code",
   "execution_count": 74,
   "id": "e5488931-dc07-4142-8d22-684b52f396a0",
   "metadata": {
    "tags": []
   },
   "outputs": [
    {
     "name": "stdout",
     "output_type": "stream",
     "text": [
      "The ari scores are 0.39333464433483084 for categorie 0 and 0.39638225160331997 for categorie 1.\n"
     ]
    }
   ],
   "source": [
    "clus.fit(features_USE)\n",
    "clus1.fit(features_USE)\n",
    "ari = metrics.adjusted_rand_score(np.array(txt_df['labels_0']),\n",
    "                                                 np.array(clus.labels_)\n",
    "                                                 )\n",
    "ari1 = metrics.adjusted_rand_score(np.array(txt_df['labels_1']),\n",
    "                                                 np.array(clus1.labels_)\n",
    "                                                 )\n",
    "print('The ari scores are {} for categorie 0 and {} for categorie 1.'.format(ari, ari1))"
   ]
  },
  {
   "cell_type": "markdown",
   "id": "fce8cf77-ce92-4cc1-b37f-5623a8c5c0ca",
   "metadata": {},
   "source": [
    "## LDA"
   ]
  },
  {
   "cell_type": "code",
   "execution_count": 92,
   "id": "55a531f6-35b8-43fa-aa51-993551e0dcf2",
   "metadata": {
    "execution": {
     "iopub.execute_input": "2023-01-02T10:14:57.795300Z",
     "iopub.status.busy": "2023-01-02T10:14:57.795300Z",
     "iopub.status.idle": "2023-01-02T10:14:59.014692Z",
     "shell.execute_reply": "2023-01-02T10:14:59.014692Z",
     "shell.execute_reply.started": "2023-01-02T10:14:57.795300Z"
    },
    "tags": []
   },
   "outputs": [
    {
     "data": {
      "text/html": [
       "<style>#sk-container-id-1 {color: black;background-color: white;}#sk-container-id-1 pre{padding: 0;}#sk-container-id-1 div.sk-toggleable {background-color: white;}#sk-container-id-1 label.sk-toggleable__label {cursor: pointer;display: block;width: 100%;margin-bottom: 0;padding: 0.3em;box-sizing: border-box;text-align: center;}#sk-container-id-1 label.sk-toggleable__label-arrow:before {content: \"▸\";float: left;margin-right: 0.25em;color: #696969;}#sk-container-id-1 label.sk-toggleable__label-arrow:hover:before {color: black;}#sk-container-id-1 div.sk-estimator:hover label.sk-toggleable__label-arrow:before {color: black;}#sk-container-id-1 div.sk-toggleable__content {max-height: 0;max-width: 0;overflow: hidden;text-align: left;background-color: #f0f8ff;}#sk-container-id-1 div.sk-toggleable__content pre {margin: 0.2em;color: black;border-radius: 0.25em;background-color: #f0f8ff;}#sk-container-id-1 input.sk-toggleable__control:checked~div.sk-toggleable__content {max-height: 200px;max-width: 100%;overflow: auto;}#sk-container-id-1 input.sk-toggleable__control:checked~label.sk-toggleable__label-arrow:before {content: \"▾\";}#sk-container-id-1 div.sk-estimator input.sk-toggleable__control:checked~label.sk-toggleable__label {background-color: #d4ebff;}#sk-container-id-1 div.sk-label input.sk-toggleable__control:checked~label.sk-toggleable__label {background-color: #d4ebff;}#sk-container-id-1 input.sk-hidden--visually {border: 0;clip: rect(1px 1px 1px 1px);clip: rect(1px, 1px, 1px, 1px);height: 1px;margin: -1px;overflow: hidden;padding: 0;position: absolute;width: 1px;}#sk-container-id-1 div.sk-estimator {font-family: monospace;background-color: #f0f8ff;border: 1px dotted black;border-radius: 0.25em;box-sizing: border-box;margin-bottom: 0.5em;}#sk-container-id-1 div.sk-estimator:hover {background-color: #d4ebff;}#sk-container-id-1 div.sk-parallel-item::after {content: \"\";width: 100%;border-bottom: 1px solid gray;flex-grow: 1;}#sk-container-id-1 div.sk-label:hover label.sk-toggleable__label {background-color: #d4ebff;}#sk-container-id-1 div.sk-serial::before {content: \"\";position: absolute;border-left: 1px solid gray;box-sizing: border-box;top: 0;bottom: 0;left: 50%;z-index: 0;}#sk-container-id-1 div.sk-serial {display: flex;flex-direction: column;align-items: center;background-color: white;padding-right: 0.2em;padding-left: 0.2em;position: relative;}#sk-container-id-1 div.sk-item {position: relative;z-index: 1;}#sk-container-id-1 div.sk-parallel {display: flex;align-items: stretch;justify-content: center;background-color: white;position: relative;}#sk-container-id-1 div.sk-item::before, #sk-container-id-1 div.sk-parallel-item::before {content: \"\";position: absolute;border-left: 1px solid gray;box-sizing: border-box;top: 0;bottom: 0;left: 50%;z-index: -1;}#sk-container-id-1 div.sk-parallel-item {display: flex;flex-direction: column;z-index: 1;position: relative;background-color: white;}#sk-container-id-1 div.sk-parallel-item:first-child::after {align-self: flex-end;width: 50%;}#sk-container-id-1 div.sk-parallel-item:last-child::after {align-self: flex-start;width: 50%;}#sk-container-id-1 div.sk-parallel-item:only-child::after {width: 0;}#sk-container-id-1 div.sk-dashed-wrapped {border: 1px dashed gray;margin: 0 0.4em 0.5em 0.4em;box-sizing: border-box;padding-bottom: 0.4em;background-color: white;}#sk-container-id-1 div.sk-label label {font-family: monospace;font-weight: bold;display: inline-block;line-height: 1.2em;}#sk-container-id-1 div.sk-label-container {text-align: center;}#sk-container-id-1 div.sk-container {/* jupyter's `normalize.less` sets `[hidden] { display: none; }` but bootstrap.min.css set `[hidden] { display: none !important; }` so we also need the `!important` here to be able to override the default hidden behavior on the sphinx rendered scikit-learn.org. See: https://github.com/scikit-learn/scikit-learn/issues/21755 */display: inline-block !important;position: relative;}#sk-container-id-1 div.sk-text-repr-fallback {display: none;}</style><div id=\"sk-container-id-1\" class=\"sk-top-container\"><div class=\"sk-text-repr-fallback\"><pre>LatentDirichletAllocation(learning_offset=50.0, max_iter=5, n_components=37,\n",
       "                          random_state=0)</pre><b>In a Jupyter environment, please rerun this cell to show the HTML representation or trust the notebook. <br />On GitHub, the HTML representation is unable to render, please try loading this page with nbviewer.org.</b></div><div class=\"sk-container\" hidden><div class=\"sk-item\"><div class=\"sk-estimator sk-toggleable\"><input class=\"sk-toggleable__control sk-hidden--visually\" id=\"sk-estimator-id-1\" type=\"checkbox\" checked><label for=\"sk-estimator-id-1\" class=\"sk-toggleable__label sk-toggleable__label-arrow\">LatentDirichletAllocation</label><div class=\"sk-toggleable__content\"><pre>LatentDirichletAllocation(learning_offset=50.0, max_iter=5, n_components=37,\n",
       "                          random_state=0)</pre></div></div></div></div></div>"
      ],
      "text/plain": [
       "LatentDirichletAllocation(learning_offset=50.0, max_iter=5, n_components=37,\n",
       "                          random_state=0)"
      ]
     },
     "execution_count": 92,
     "metadata": {},
     "output_type": "execute_result"
    }
   ],
   "source": [
    "from sklearn.decomposition import LatentDirichletAllocation\n",
    "n_topics = label_1_unique\n",
    "\n",
    "# Créer le modèle LDA\n",
    "lda = LatentDirichletAllocation(\n",
    "        n_components=n_topics, \n",
    "        max_iter=5,  \n",
    "        learning_offset=50.,\n",
    "        random_state=0)\n",
    "\n",
    "# Fitter sur les données\n",
    "lda.fit(bag_of_words)"
   ]
  },
  {
   "cell_type": "code",
   "execution_count": 93,
   "id": "c84a5745-db9c-4908-98e2-b02cb8ce7830",
   "metadata": {
    "execution": {
     "iopub.execute_input": "2023-01-02T10:15:04.094286Z",
     "iopub.status.busy": "2023-01-02T10:15:04.093286Z",
     "iopub.status.idle": "2023-01-02T10:15:04.119280Z",
     "shell.execute_reply": "2023-01-02T10:15:04.119280Z",
     "shell.execute_reply.started": "2023-01-02T10:15:04.093286Z"
    },
    "tags": []
   },
   "outputs": [
    {
     "data": {
      "text/plain": [
       "array(['aaa battery battery life hour',\n",
       "       'aapno rajasthan lovely jewellery vanity',\n",
       "       'aapno rajasthan marvel marble gold', ...,\n",
       "       'zyxel data card flipkartcom product',\n",
       "       'zyxel pla flipkartcom product day',\n",
       "       'zyxel vmgba vdsl wireless vdsl'], dtype=object)"
      ]
     },
     "execution_count": 93,
     "metadata": {},
     "output_type": "execute_result"
    }
   ],
   "source": [
    "vectorizer.get_feature_names_out()"
   ]
  },
  {
   "cell_type": "code",
   "execution_count": 94,
   "id": "d6eae2cf-2aba-4e56-8371-ad06fdef6176",
   "metadata": {
    "execution": {
     "iopub.execute_input": "2023-01-02T10:15:05.335577Z",
     "iopub.status.busy": "2023-01-02T10:15:05.334577Z",
     "iopub.status.idle": "2023-01-02T10:15:05.378608Z",
     "shell.execute_reply": "2023-01-02T10:15:05.378608Z",
     "shell.execute_reply.started": "2023-01-02T10:15:05.335577Z"
    },
    "tags": []
   },
   "outputs": [
    {
     "name": "stdout",
     "output_type": "stream",
     "text": [
      "Topic 0:\n",
      "red bull laptop skin mouse graphic dancer laptop skin mouse dancer laptop skin mouse pad bull laptop skin mouse pad max cartoon laptop skin mouse\n",
      "Topic 1:\n",
      "skin mouse pad combo set laptop skin mouse pad combo mouse pad combo set multicolor box number content sale pack warranty summary warranty box number\n",
      "Topic 2:\n",
      "size light weight convenient use compact size light weight convenient bedsheet double bedsheet pillow cover double bedsheet double bedsheet pillow double bedsheet pillow cover multicolor\n",
      "Topic 3:\n",
      "otg enabled android smart phone smallest mobile powered otg enabled powered otg enabled android smart mobile powered otg enabled android jrb smallest mobile powered otg\n",
      "Topic 4:\n",
      "general type mug mug capacity mug general type mug mug ceramic mug general type mug flipkartcom great discount product day india flipkartcom great discount product\n",
      "Topic 5:\n",
      "decal small self adhesive sticker glass mossiac table lamp multi mossiac table lamp multi color flipkartcom lowest price product day combo set flipkartcom product day\n",
      "Topic 6:\n",
      "got plan baby boy baby baby boy baby girl romper plan baby boy baby girl striker winger contender deodorant spray winger contender deodorant spray men\n",
      "Topic 7:\n",
      "double glass royale ornamental frame solid baby boy blue cargo baby boy blue cargo short kitchen polypropylene multipurpose storage container locklock kitchen polypropylene multipurpose storage\n",
      "Topic 8:\n",
      "beautifully designed quality ink attractive special message holiday cheer love affordable mug perfect gifting know youre sure quote say way great gift mug beautifully designed\n",
      "Topic 9:\n",
      "wherepowered device usb port ultra voltage rated power size use weight durable cover portable multiple usb port ultra bright low port ultra bright low power\n",
      "Topic 10:\n",
      "color diamond ganesh idol pooja beautiful black golden color diamond golden color diamond ganesh idol black golden color diamond ganesh diamond ganesh idol pooja showpiece\n",
      "Topic 11:\n",
      "light portronics battery usb light power bank compact size flexible portronics battery usb light perfect battery usb light perfect used portable usb led light portronics\n",
      "Topic 12:\n",
      "printed seater table cover multicolor prime printed seater table cover seater table cover multicolor pvc combo set flipkartcom product day red heart laptop skin mouse\n",
      "Topic 13:\n",
      "body battery pass necessary authentication testing voltage capacity battery core including size appearance important quality battery high grade cell highest battery core body battery pass\n",
      "Topic 14:\n",
      "pack general brand aroma comfort height pack general brand aroma general brand aroma comfort designed curtain height pack general brand box number content sale pack\n",
      "Topic 15:\n",
      "cell laptop battery flipkartcom product laptop battery flipkartcom product day maximum cmgy gold analog watch cmgy gold analog watch men gold analog watch men cmgy\n",
      "Topic 16:\n",
      "headphone laptop skin mouse pad sony headphone laptop skin mouse shape sony headphone laptop skin shopoj blue paper sky lantern blue paper sky lantern pack\n",
      "Topic 17:\n",
      "add kitchen wardrobe look stylish coffee mug adorable fantastic coffee material perfect add kitchen wardrobe mug casual home perfect gift coffeetea huge mug ceramic material\n",
      "Topic 18:\n",
      "flipkartcom great discount product day india flipkartcom great discount product eye care product beat beauty product beat beauty problem help beauty care product like face\n",
      "Topic 19:\n",
      "come harness hook waterproof sticker bottle reflect style attitude aluminium aluminium water bottle come harness attitude aluminium water bottle come harness hook waterproof sticker wrap\n",
      "Topic 20:\n",
      "kadhai best price product day light best price product day charger vaio series vgncrer adapter option house warming occasion festive shop confidence sit enjoy shopping\n",
      "Topic 21:\n",
      "image indicative actual label vary rohs leaving factory rest assured factory rest assured quality durability assured quality durability performance note necessary authentication certification like rohs\n",
      "Topic 22:\n",
      "light brown pack vol developer diarichesse light brown pack vol loreal diarichesse light brown pack paper print inch inch framed box number content sale sale\n",
      "Topic 23:\n",
      "combo set flipkartcom product day polish black lipstick important combo nail polish black lipstick important rythmx nail polish black lipstick black lipstick important combo set\n",
      "Topic 24:\n",
      "permanent year come making perfect porcelain crafting ensuring design stay microwave safe specification material ceramic come making perfect pick gift rockmantra mug feature porcelain crafting\n",
      "Topic 25:\n",
      "india flipkartcom great discount product flipkartcom great discount product day floral eyelet door curtain height maroon floral eyelet door curtain style polyester maroon floral eyelet\n",
      "Topic 26:\n",
      "boy striped casual blue shirt baby boy striped casual blue paris baby boy striped casual beautifully crafted painted horse bell rajasthan lovely jewellery vanity jewellery\n",
      "Topic 27:\n",
      "wall hanging lord ganesha creative hanging lord ganesha creative leaf combo set flipkartcom product day baby girl dark blue bodysuit ganesha creative leaf showpiece brass\n",
      "Topic 28:\n",
      "perucci decker analog watch men look forward crash bed tiring sapatos crafted provide utmost comfort ensure look forward crash bed crafted provide utmost comfort exquisite\n",
      "Topic 29:\n",
      "india flipkartcom great discount product flipkartcom great discount product day analog watch woman india flipkartcom woman india flipkartcom great discount watch woman india flipkartcom great\n",
      "Topic 30:\n",
      "canvas gloss finish using high maybe tallenge store brings christmas museum quality print come convenient giving awesome spreading holiday cheer hook perfect keeping office desk\n",
      "Topic 31:\n",
      "inner red ceramic ceramic mug navneet inner red ceramic ceramic happy birthday navneet inner red birthday navneet inner red ceramic watch kid year manufacturer warrantydigital\n",
      "Topic 32:\n",
      "great liquid soap body wash cotton kitchen linen set pack loop easy hanging durable long long lasting material great liquid soft sponge comforting relaxing warm\n",
      "Topic 33:\n",
      "showpiece best price product day white dark blue capri short little lamb baby girl gathered printed white dark blue capri baby girl printed white dark\n",
      "Topic 34:\n",
      "magsafe laptop charger apple macbook laptop charger apple macbook pro hako magsafe laptop charger apple skin drying cell renewal rejuvenating stock exchanged variant price prior\n",
      "Topic 35:\n",
      "sulfate smoothing intense smoothing shampoo eversleek sulfate smoothing intense smoothing queen eye liner lip gloss oreal eversleek sulfate smoothing intense eye liner lip gloss eyeliner\n",
      "Topic 36:\n",
      "gold plated ganesh idol showpiece plated ganesh idol showpiece pooja ganesh idol showpiece pooja showpiece junction gold plated ganesh idol baby girl printed green pyjama\n"
     ]
    }
   ],
   "source": [
    "def display_topics(model, feature_names, no_top_words):\n",
    "    for topic_idx, topic in enumerate(model.components_):\n",
    "        print(\"Topic {}:\".format(topic_idx))\n",
    "        print(\" \".join([feature_names[i] for i in topic.argsort()[:-no_top_words - 1:-1]]))\n",
    "\n",
    "no_top_words = 5\n",
    "display_topics(lda, vectorizer.get_feature_names_out(), no_top_words)\n"
   ]
  },
  {
   "cell_type": "markdown",
   "id": "1b81f06a-583f-420b-81e3-f81e67852089",
   "metadata": {},
   "source": [
    "# Image"
   ]
  },
  {
   "cell_type": "code",
   "execution_count": 10,
   "id": "96d37139-86cc-40ed-9344-510eb1c42b33",
   "metadata": {
    "execution": {
     "iopub.execute_input": "2023-01-06T17:04:28.111711Z",
     "iopub.status.busy": "2023-01-06T17:04:28.110647Z",
     "iopub.status.idle": "2023-01-06T17:04:28.116681Z",
     "shell.execute_reply": "2023-01-06T17:04:28.116681Z",
     "shell.execute_reply.started": "2023-01-06T17:04:28.111711Z"
    },
    "tags": []
   },
   "outputs": [],
   "source": [
    "from PIL import ImageOps\n",
    "from PIL import Image\n",
    "from PIL import ImageFilter"
   ]
  },
  {
   "cell_type": "code",
   "execution_count": 11,
   "id": "99573aed-3eb1-45d9-938a-a4999836fa3c",
   "metadata": {
    "execution": {
     "iopub.execute_input": "2023-01-06T17:04:28.336864Z",
     "iopub.status.busy": "2023-01-06T17:04:28.335864Z",
     "iopub.status.idle": "2023-01-06T17:04:28.354888Z",
     "shell.execute_reply": "2023-01-06T17:04:28.354888Z",
     "shell.execute_reply.started": "2023-01-06T17:04:28.336864Z"
    },
    "tags": []
   },
   "outputs": [
    {
     "name": "stdout",
     "output_type": "stream",
     "text": [
      "<class 'pandas.core.frame.DataFrame'>\n",
      "RangeIndex: 1010 entries, 0 to 1009\n",
      "Data columns (total 4 columns):\n",
      " #   Column    Non-Null Count  Dtype \n",
      "---  ------    --------------  ----- \n",
      " 0   uniq_id   1010 non-null   object\n",
      " 1   image     1010 non-null   object\n",
      " 2   labels_0  1010 non-null   int32 \n",
      " 3   labels_1  1010 non-null   int32 \n",
      "dtypes: int32(2), object(2)\n",
      "memory usage: 23.8+ KB\n"
     ]
    }
   ],
   "source": [
    "img_df = df.iloc[:, [0, 8, 17, 18]].reset_index(drop=True)\n",
    "img_df.info()"
   ]
  },
  {
   "cell_type": "code",
   "execution_count": 12,
   "id": "731648c7-2cc7-4df1-924d-e1a20bce9663",
   "metadata": {
    "execution": {
     "iopub.execute_input": "2023-01-06T17:04:29.365790Z",
     "iopub.status.busy": "2023-01-06T17:04:29.364791Z",
     "iopub.status.idle": "2023-01-06T17:04:29.388819Z",
     "shell.execute_reply": "2023-01-06T17:04:29.388819Z",
     "shell.execute_reply.started": "2023-01-06T17:04:29.365790Z"
    },
    "tags": []
   },
   "outputs": [
    {
     "data": {
      "text/html": [
       "<div>\n",
       "<style scoped>\n",
       "    .dataframe tbody tr th:only-of-type {\n",
       "        vertical-align: middle;\n",
       "    }\n",
       "\n",
       "    .dataframe tbody tr th {\n",
       "        vertical-align: top;\n",
       "    }\n",
       "\n",
       "    .dataframe thead th {\n",
       "        text-align: right;\n",
       "    }\n",
       "</style>\n",
       "<table border=\"1\" class=\"dataframe\">\n",
       "  <thead>\n",
       "    <tr style=\"text-align: right;\">\n",
       "      <th></th>\n",
       "      <th>uniq_id</th>\n",
       "      <th>image</th>\n",
       "      <th>labels_0</th>\n",
       "      <th>labels_1</th>\n",
       "    </tr>\n",
       "  </thead>\n",
       "  <tbody>\n",
       "    <tr>\n",
       "      <th>0</th>\n",
       "      <td>55b85ea15a1536d46b7190ad6fff8ce7</td>\n",
       "      <td>55b85ea15a1536d46b7190ad6fff8ce7.jpg</td>\n",
       "      <td>4</td>\n",
       "      <td>14</td>\n",
       "    </tr>\n",
       "    <tr>\n",
       "      <th>1</th>\n",
       "      <td>7b72c92c2f6c40268628ec5f14c6d590</td>\n",
       "      <td>7b72c92c2f6c40268628ec5f14c6d590.jpg</td>\n",
       "      <td>0</td>\n",
       "      <td>1</td>\n",
       "    </tr>\n",
       "    <tr>\n",
       "      <th>2</th>\n",
       "      <td>64d5d4a258243731dc7bbb1eef49ad74</td>\n",
       "      <td>64d5d4a258243731dc7bbb1eef49ad74.jpg</td>\n",
       "      <td>0</td>\n",
       "      <td>1</td>\n",
       "    </tr>\n",
       "    <tr>\n",
       "      <th>3</th>\n",
       "      <td>d4684dcdc759dd9cdf41504698d737d8</td>\n",
       "      <td>d4684dcdc759dd9cdf41504698d737d8.jpg</td>\n",
       "      <td>4</td>\n",
       "      <td>7</td>\n",
       "    </tr>\n",
       "    <tr>\n",
       "      <th>4</th>\n",
       "      <td>6325b6870c54cd47be6ebfbffa620ec7</td>\n",
       "      <td>6325b6870c54cd47be6ebfbffa620ec7.jpg</td>\n",
       "      <td>4</td>\n",
       "      <td>7</td>\n",
       "    </tr>\n",
       "  </tbody>\n",
       "</table>\n",
       "</div>"
      ],
      "text/plain": [
       "                            uniq_id                                 image  \\\n",
       "0  55b85ea15a1536d46b7190ad6fff8ce7  55b85ea15a1536d46b7190ad6fff8ce7.jpg   \n",
       "1  7b72c92c2f6c40268628ec5f14c6d590  7b72c92c2f6c40268628ec5f14c6d590.jpg   \n",
       "2  64d5d4a258243731dc7bbb1eef49ad74  64d5d4a258243731dc7bbb1eef49ad74.jpg   \n",
       "3  d4684dcdc759dd9cdf41504698d737d8  d4684dcdc759dd9cdf41504698d737d8.jpg   \n",
       "4  6325b6870c54cd47be6ebfbffa620ec7  6325b6870c54cd47be6ebfbffa620ec7.jpg   \n",
       "\n",
       "   labels_0  labels_1  \n",
       "0         4        14  \n",
       "1         0         1  \n",
       "2         0         1  \n",
       "3         4         7  \n",
       "4         4         7  "
      ]
     },
     "execution_count": 12,
     "metadata": {},
     "output_type": "execute_result"
    }
   ],
   "source": [
    "img_df.head()"
   ]
  },
  {
   "cell_type": "code",
   "execution_count": 13,
   "id": "c65dcd07-ca0a-4507-93a2-bdd020acf72b",
   "metadata": {
    "execution": {
     "iopub.execute_input": "2023-01-03T08:05:41.307780Z",
     "iopub.status.busy": "2023-01-03T08:05:41.306778Z",
     "iopub.status.idle": "2023-01-03T08:05:59.191309Z",
     "shell.execute_reply": "2023-01-03T08:05:59.191309Z",
     "shell.execute_reply.started": "2023-01-03T08:05:41.306778Z"
    },
    "tags": []
   },
   "outputs": [
    {
     "name": "stderr",
     "output_type": "stream",
     "text": [
      "E:\\Data_Science\\Anaconda\\envs\\tf_gpu\\lib\\site-packages\\PIL\\Image.py:3167: DecompressionBombWarning: Image size (93680328 pixels) exceeds limit of 89478485 pixels, could be decompression bomb DOS attack.\n",
      "  warnings.warn(\n"
     ]
    }
   ],
   "source": [
    "path = 'E:\\\\Data_Science\\\\OpenClassRoom\\\\Projet 6\\\\Flipkart\\\\Images\\\\'\n",
    "img_lib = {'image':[],\n",
    "        'img_array' : [],\n",
    "        'img_mode' : [],\n",
    "        'img_size' : [],\n",
    "        'img_width' : [],\n",
    "        'img_height' : []}\n",
    "\n",
    "for i in img_df['image']:\n",
    "    img = Image.open(path+i)\n",
    "    img_lib['image'].append(i)\n",
    "    img_lib['img_array'].append(np.array(img))\n",
    "    img_lib['img_mode'].append(img.mode)\n",
    "    img_lib['img_width'].append(img.size[0])\n",
    "    img_lib['img_height'].append(img.size[1])\n",
    "    img_lib['img_size'].append(img.size)\n",
    "img_lib = pd.DataFrame(img_lib)\n",
    "\n",
    "    "
   ]
  },
  {
   "cell_type": "code",
   "execution_count": 14,
   "id": "02e42a5f-54ad-4fc5-95de-39c25aefa301",
   "metadata": {
    "execution": {
     "iopub.execute_input": "2023-01-03T08:05:59.193244Z",
     "iopub.status.busy": "2023-01-03T08:05:59.193244Z",
     "iopub.status.idle": "2023-01-03T08:05:59.208229Z",
     "shell.execute_reply": "2023-01-03T08:05:59.207220Z",
     "shell.execute_reply.started": "2023-01-03T08:05:59.193244Z"
    },
    "tags": []
   },
   "outputs": [
    {
     "name": "stdout",
     "output_type": "stream",
     "text": [
      "<class 'pandas.core.frame.DataFrame'>\n",
      "RangeIndex: 1010 entries, 0 to 1009\n",
      "Data columns (total 6 columns):\n",
      " #   Column      Non-Null Count  Dtype \n",
      "---  ------      --------------  ----- \n",
      " 0   image       1010 non-null   object\n",
      " 1   img_array   1010 non-null   object\n",
      " 2   img_mode    1010 non-null   object\n",
      " 3   img_size    1010 non-null   object\n",
      " 4   img_width   1010 non-null   int64 \n",
      " 5   img_height  1010 non-null   int64 \n",
      "dtypes: int64(2), object(4)\n",
      "memory usage: 47.5+ KB\n"
     ]
    }
   ],
   "source": [
    "img_lib.info()"
   ]
  },
  {
   "cell_type": "code",
   "execution_count": 15,
   "id": "b2df1ae3-3042-4bac-831a-7c9597235870",
   "metadata": {
    "execution": {
     "iopub.execute_input": "2023-01-03T08:05:59.209231Z",
     "iopub.status.busy": "2023-01-03T08:05:59.209231Z",
     "iopub.status.idle": "2023-01-03T08:06:01.275221Z",
     "shell.execute_reply": "2023-01-03T08:06:01.275221Z",
     "shell.execute_reply.started": "2023-01-03T08:05:59.209231Z"
    },
    "tags": []
   },
   "outputs": [
    {
     "data": {
      "text/html": [
       "<div>\n",
       "<style scoped>\n",
       "    .dataframe tbody tr th:only-of-type {\n",
       "        vertical-align: middle;\n",
       "    }\n",
       "\n",
       "    .dataframe tbody tr th {\n",
       "        vertical-align: top;\n",
       "    }\n",
       "\n",
       "    .dataframe thead th {\n",
       "        text-align: right;\n",
       "    }\n",
       "</style>\n",
       "<table border=\"1\" class=\"dataframe\">\n",
       "  <thead>\n",
       "    <tr style=\"text-align: right;\">\n",
       "      <th></th>\n",
       "      <th>image</th>\n",
       "      <th>img_array</th>\n",
       "      <th>img_mode</th>\n",
       "      <th>img_size</th>\n",
       "      <th>img_width</th>\n",
       "      <th>img_height</th>\n",
       "    </tr>\n",
       "  </thead>\n",
       "  <tbody>\n",
       "    <tr>\n",
       "      <th>0</th>\n",
       "      <td>55b85ea15a1536d46b7190ad6fff8ce7.jpg</td>\n",
       "      <td>[[[192, 184, 173], [192, 184, 173], [193, 185,...</td>\n",
       "      <td>RGB</td>\n",
       "      <td>(3600, 3600)</td>\n",
       "      <td>3600</td>\n",
       "      <td>3600</td>\n",
       "    </tr>\n",
       "  </tbody>\n",
       "</table>\n",
       "</div>"
      ],
      "text/plain": [
       "                                  image  \\\n",
       "0  55b85ea15a1536d46b7190ad6fff8ce7.jpg   \n",
       "\n",
       "                                           img_array img_mode      img_size  \\\n",
       "0  [[[192, 184, 173], [192, 184, 173], [193, 185,...      RGB  (3600, 3600)   \n",
       "\n",
       "   img_width  img_height  \n",
       "0       3600        3600  "
      ]
     },
     "execution_count": 15,
     "metadata": {},
     "output_type": "execute_result"
    }
   ],
   "source": [
    "img_lib.head(1)"
   ]
  },
  {
   "cell_type": "code",
   "execution_count": 16,
   "id": "08b57c44-e23a-42e6-80dc-d329c7bc001f",
   "metadata": {
    "execution": {
     "iopub.execute_input": "2023-01-03T08:06:01.277252Z",
     "iopub.status.busy": "2023-01-03T08:06:01.277252Z",
     "iopub.status.idle": "2023-01-03T08:06:01.291220Z",
     "shell.execute_reply": "2023-01-03T08:06:01.291220Z",
     "shell.execute_reply.started": "2023-01-03T08:06:01.277252Z"
    },
    "tags": []
   },
   "outputs": [],
   "source": [
    "img_df = img_df.join(img_lib, rsuffix = 'image')"
   ]
  },
  {
   "cell_type": "code",
   "execution_count": 17,
   "id": "1ec5b3c9-2fd7-43e5-ba49-dc4b79c7b53a",
   "metadata": {
    "execution": {
     "iopub.execute_input": "2023-01-03T08:06:01.292220Z",
     "iopub.status.busy": "2023-01-03T08:06:01.292220Z",
     "iopub.status.idle": "2023-01-03T08:06:01.307221Z",
     "shell.execute_reply": "2023-01-03T08:06:01.306221Z",
     "shell.execute_reply.started": "2023-01-03T08:06:01.292220Z"
    },
    "tags": []
   },
   "outputs": [
    {
     "name": "stdout",
     "output_type": "stream",
     "text": [
      "<class 'pandas.core.frame.DataFrame'>\n",
      "RangeIndex: 1010 entries, 0 to 1009\n",
      "Data columns (total 10 columns):\n",
      " #   Column      Non-Null Count  Dtype \n",
      "---  ------      --------------  ----- \n",
      " 0   uniq_id     1010 non-null   object\n",
      " 1   image       1010 non-null   object\n",
      " 2   labels_0    1010 non-null   int32 \n",
      " 3   labels_1    1010 non-null   int32 \n",
      " 4   imageimage  1010 non-null   object\n",
      " 5   img_array   1010 non-null   object\n",
      " 6   img_mode    1010 non-null   object\n",
      " 7   img_size    1010 non-null   object\n",
      " 8   img_width   1010 non-null   int64 \n",
      " 9   img_height  1010 non-null   int64 \n",
      "dtypes: int32(2), int64(2), object(6)\n",
      "memory usage: 71.1+ KB\n"
     ]
    }
   ],
   "source": [
    "img_df.info()"
   ]
  },
  {
   "cell_type": "code",
   "execution_count": 18,
   "id": "8f69f73a-478e-4c39-ae9b-3709670b092b",
   "metadata": {
    "execution": {
     "iopub.execute_input": "2023-01-03T08:06:01.309221Z",
     "iopub.status.busy": "2023-01-03T08:06:01.308221Z",
     "iopub.status.idle": "2023-01-03T08:06:03.356243Z",
     "shell.execute_reply": "2023-01-03T08:06:03.355246Z",
     "shell.execute_reply.started": "2023-01-03T08:06:01.308221Z"
    },
    "tags": []
   },
   "outputs": [
    {
     "data": {
      "text/html": [
       "<div>\n",
       "<style scoped>\n",
       "    .dataframe tbody tr th:only-of-type {\n",
       "        vertical-align: middle;\n",
       "    }\n",
       "\n",
       "    .dataframe tbody tr th {\n",
       "        vertical-align: top;\n",
       "    }\n",
       "\n",
       "    .dataframe thead th {\n",
       "        text-align: right;\n",
       "    }\n",
       "</style>\n",
       "<table border=\"1\" class=\"dataframe\">\n",
       "  <thead>\n",
       "    <tr style=\"text-align: right;\">\n",
       "      <th></th>\n",
       "      <th>uniq_id</th>\n",
       "      <th>image</th>\n",
       "      <th>labels_0</th>\n",
       "      <th>labels_1</th>\n",
       "      <th>imageimage</th>\n",
       "      <th>img_array</th>\n",
       "      <th>img_mode</th>\n",
       "      <th>img_size</th>\n",
       "      <th>img_width</th>\n",
       "      <th>img_height</th>\n",
       "    </tr>\n",
       "  </thead>\n",
       "  <tbody>\n",
       "    <tr>\n",
       "      <th>180</th>\n",
       "      <td>ce2f67c3365846170cb709784d87e45b</td>\n",
       "      <td>ce2f67c3365846170cb709784d87e45b.jpg</td>\n",
       "      <td>5</td>\n",
       "      <td>9</td>\n",
       "      <td>ce2f67c3365846170cb709784d87e45b.jpg</td>\n",
       "      <td>[[[254, 250, 251], [254, 250, 251], [254, 250,...</td>\n",
       "      <td>RGB</td>\n",
       "      <td>(1100, 1048)</td>\n",
       "      <td>1100</td>\n",
       "      <td>1048</td>\n",
       "    </tr>\n",
       "  </tbody>\n",
       "</table>\n",
       "</div>"
      ],
      "text/plain": [
       "                              uniq_id                                 image  \\\n",
       "180  ce2f67c3365846170cb709784d87e45b  ce2f67c3365846170cb709784d87e45b.jpg   \n",
       "\n",
       "     labels_0  labels_1                            imageimage  \\\n",
       "180         5         9  ce2f67c3365846170cb709784d87e45b.jpg   \n",
       "\n",
       "                                             img_array img_mode      img_size  \\\n",
       "180  [[[254, 250, 251], [254, 250, 251], [254, 250,...      RGB  (1100, 1048)   \n",
       "\n",
       "     img_width  img_height  \n",
       "180       1100        1048  "
      ]
     },
     "execution_count": 18,
     "metadata": {},
     "output_type": "execute_result"
    }
   ],
   "source": [
    "img_df.sample(1)"
   ]
  },
  {
   "cell_type": "code",
   "execution_count": 19,
   "id": "07f28ee9-b8fc-47ec-8576-d31d0e0fe8cc",
   "metadata": {
    "execution": {
     "iopub.execute_input": "2023-01-03T08:06:03.357244Z",
     "iopub.status.busy": "2023-01-03T08:06:03.357244Z",
     "iopub.status.idle": "2023-01-03T08:06:03.371250Z",
     "shell.execute_reply": "2023-01-03T08:06:03.371250Z",
     "shell.execute_reply.started": "2023-01-03T08:06:03.357244Z"
    },
    "tags": []
   },
   "outputs": [
    {
     "name": "stdout",
     "output_type": "stream",
     "text": [
      "['RGB']\n",
      "853\n"
     ]
    }
   ],
   "source": [
    "print(img_df['img_mode'].unique())\n",
    "print(len(img_df['img_size'].unique()))"
   ]
  },
  {
   "cell_type": "code",
   "execution_count": 20,
   "id": "d65929ef-7970-47bb-bcbe-bb73ae7f034a",
   "metadata": {
    "execution": {
     "iopub.execute_input": "2023-01-03T08:06:03.372219Z",
     "iopub.status.busy": "2023-01-03T08:06:03.372219Z",
     "iopub.status.idle": "2023-01-03T08:06:03.937374Z",
     "shell.execute_reply": "2023-01-03T08:06:03.936366Z",
     "shell.execute_reply.started": "2023-01-03T08:06:03.372219Z"
    },
    "tags": []
   },
   "outputs": [
    {
     "data": {
      "text/plain": [
       "<AxesSubplot: >"
      ]
     },
     "execution_count": 20,
     "metadata": {},
     "output_type": "execute_result"
    },
    {
     "data": {
      "image/png": "[encoded data removed]",
      "text/plain": [
       "<Figure size 2500x1000 with 2 Axes>"
      ]
     },
     "metadata": {},
     "output_type": "display_data"
    }
   ],
   "source": [
    "msno.matrix(img_df)"
   ]
  },
  {
   "cell_type": "code",
   "execution_count": 21,
   "id": "e777471a-badd-46dc-9252-72fd77d951d3",
   "metadata": {
    "execution": {
     "iopub.execute_input": "2023-01-03T08:06:03.938364Z",
     "iopub.status.busy": "2023-01-03T08:06:03.938364Z",
     "iopub.status.idle": "2023-01-03T08:06:03.953365Z",
     "shell.execute_reply": "2023-01-03T08:06:03.952364Z",
     "shell.execute_reply.started": "2023-01-03T08:06:03.938364Z"
    },
    "tags": []
   },
   "outputs": [],
   "source": [
    "# need to resize the images"
   ]
  },
  {
   "cell_type": "code",
   "execution_count": 22,
   "id": "3ae70443-520a-4315-8c38-afa0ebb99ee2",
   "metadata": {
    "execution": {
     "iopub.execute_input": "2023-01-03T08:06:03.956364Z",
     "iopub.status.busy": "2023-01-03T08:06:03.955365Z",
     "iopub.status.idle": "2023-01-03T08:06:03.969365Z",
     "shell.execute_reply": "2023-01-03T08:06:03.968363Z",
     "shell.execute_reply.started": "2023-01-03T08:06:03.956364Z"
    },
    "tags": []
   },
   "outputs": [],
   "source": [
    "def img_prepro(x, size = (200,200)):\n",
    "    img = Image.fromarray(x)\n",
    "    img = img.resize(size)\n",
    "    img = ImageOps.autocontrast(img)\n",
    "    img = ImageOps.equalize(img)\n",
    "    img = img.filter(ImageFilter.MedianFilter(3))\n",
    "    x = np.array(img)\n",
    "    return x\n",
    "\n",
    "\n"
   ]
  },
  {
   "cell_type": "code",
   "execution_count": null,
   "id": "e585228a-8357-4edd-ab30-54c5795eaf29",
   "metadata": {},
   "outputs": [],
   "source": [
    "img_df['new_array'] = img_df['img_array'].apply(lambda x: img_prepro(x))"
   ]
  },
  {
   "cell_type": "code",
   "execution_count": 118,
   "id": "54ef3aa9-2544-47f7-a28d-817c936f4f1a",
   "metadata": {
    "execution": {
     "iopub.execute_input": "2023-01-02T10:22:25.739284Z",
     "iopub.status.busy": "2023-01-02T10:22:25.739284Z",
     "iopub.status.idle": "2023-01-02T10:22:25.897311Z",
     "shell.execute_reply": "2023-01-02T10:22:25.896362Z",
     "shell.execute_reply.started": "2023-01-02T10:22:25.739284Z"
    },
    "tags": []
   },
   "outputs": [],
   "source": [
    "def convert(x, mode = 'L'):\n",
    "    img = Image.fromarray(x)\n",
    "    img = img.convert(mode=mode)\n",
    "    x = np.array(img)\n",
    "    return x\n",
    "\n"
   ]
  },
  {
   "cell_type": "code",
   "execution_count": null,
   "id": "56ea54be-5c69-4ce2-82f8-6964823ae23e",
   "metadata": {},
   "outputs": [],
   "source": [
    "img_df['L_array'] = img_df['new_array'].apply(lambda x: convert(x))"
   ]
  },
  {
   "cell_type": "code",
   "execution_count": 119,
   "id": "26482e6f-f2d4-4827-bf9c-d3c2a6387ad8",
   "metadata": {
    "execution": {
     "iopub.execute_input": "2023-01-02T10:22:25.897311Z",
     "iopub.status.busy": "2023-01-02T10:22:25.897311Z",
     "iopub.status.idle": "2023-01-02T10:22:25.913282Z",
     "shell.execute_reply": "2023-01-02T10:22:25.912308Z",
     "shell.execute_reply.started": "2023-01-02T10:22:25.897311Z"
    },
    "tags": []
   },
   "outputs": [
    {
     "name": "stdout",
     "output_type": "stream",
     "text": [
      "<class 'pandas.core.frame.DataFrame'>\n",
      "RangeIndex: 1010 entries, 0 to 1009\n",
      "Data columns (total 12 columns):\n",
      " #   Column      Non-Null Count  Dtype \n",
      "---  ------      --------------  ----- \n",
      " 0   uniq_id     1010 non-null   object\n",
      " 1   image       1010 non-null   object\n",
      " 2   labels_0    1010 non-null   int32 \n",
      " 3   labels_1    1010 non-null   int32 \n",
      " 4   imageimage  1010 non-null   object\n",
      " 5   img_array   1010 non-null   object\n",
      " 6   img_mode    1010 non-null   object\n",
      " 7   img_size    1010 non-null   object\n",
      " 8   img_width   1010 non-null   int64 \n",
      " 9   img_height  1010 non-null   int64 \n",
      " 10  new_array   1010 non-null   object\n",
      " 11  L_array     1010 non-null   object\n",
      "dtypes: int32(2), int64(2), object(8)\n",
      "memory usage: 86.9+ KB\n"
     ]
    }
   ],
   "source": [
    "img_df.info()"
   ]
  },
  {
   "cell_type": "code",
   "execution_count": 120,
   "id": "1de5099e-e86e-42bb-be87-f2a6d1be19b2",
   "metadata": {
    "execution": {
     "iopub.execute_input": "2023-01-02T10:22:25.914283Z",
     "iopub.status.busy": "2023-01-02T10:22:25.914283Z",
     "iopub.status.idle": "2023-01-02T10:22:26.102754Z",
     "shell.execute_reply": "2023-01-02T10:22:26.101778Z",
     "shell.execute_reply.started": "2023-01-02T10:22:25.914283Z"
    },
    "tags": []
   },
   "outputs": [],
   "source": [
    "img_df['L_norm'] = img_df['L_array'].apply(lambda x: x/255)"
   ]
  },
  {
   "cell_type": "code",
   "execution_count": 121,
   "id": "1be50c7a-7790-42f1-a532-8cf004ac6738",
   "metadata": {
    "execution": {
     "iopub.execute_input": "2023-01-02T10:22:26.103753Z",
     "iopub.status.busy": "2023-01-02T10:22:26.103753Z",
     "iopub.status.idle": "2023-01-02T10:22:26.292750Z",
     "shell.execute_reply": "2023-01-02T10:22:26.292750Z",
     "shell.execute_reply.started": "2023-01-02T10:22:26.103753Z"
    },
    "tags": []
   },
   "outputs": [],
   "source": [
    "img_df['L_flatten'] = img_df['L_norm'].apply(lambda x: x.flatten())"
   ]
  },
  {
   "cell_type": "code",
   "execution_count": 122,
   "id": "e04255a8-6394-493c-82c3-d43d578a69a0",
   "metadata": {
    "execution": {
     "iopub.execute_input": "2023-01-02T10:22:26.294751Z",
     "iopub.status.busy": "2023-01-02T10:22:26.293751Z",
     "iopub.status.idle": "2023-01-02T10:22:26.309753Z",
     "shell.execute_reply": "2023-01-02T10:22:26.308752Z",
     "shell.execute_reply.started": "2023-01-02T10:22:26.294751Z"
    },
    "tags": []
   },
   "outputs": [
    {
     "data": {
      "text/plain": [
       "37"
      ]
     },
     "execution_count": 122,
     "metadata": {},
     "output_type": "execute_result"
    }
   ],
   "source": [
    "label_1_unique"
   ]
  },
  {
   "cell_type": "code",
   "execution_count": 138,
   "id": "87032c56-70c4-4085-abcf-e912c5183206",
   "metadata": {
    "execution": {
     "iopub.execute_input": "2023-01-03T10:33:11.195470Z",
     "iopub.status.busy": "2023-01-03T10:33:11.194440Z",
     "iopub.status.idle": "2023-01-03T10:33:11.207475Z",
     "shell.execute_reply": "2023-01-03T10:33:11.206464Z",
     "shell.execute_reply.started": "2023-01-03T10:33:11.195470Z"
    },
    "tags": []
   },
   "outputs": [
    {
     "data": {
      "text/plain": [
       "37"
      ]
     },
     "execution_count": 138,
     "metadata": {},
     "output_type": "execute_result"
    }
   ],
   "source": [
    "label_1_unique"
   ]
  },
  {
   "cell_type": "code",
   "execution_count": 13,
   "id": "10194dd2-49a2-4256-9445-4414aa7dd024",
   "metadata": {
    "execution": {
     "iopub.execute_input": "2023-01-06T17:04:36.233564Z",
     "iopub.status.busy": "2023-01-06T17:04:36.232561Z",
     "iopub.status.idle": "2023-01-06T17:04:36.384561Z",
     "shell.execute_reply": "2023-01-06T17:04:36.382577Z",
     "shell.execute_reply.started": "2023-01-06T17:04:36.233564Z"
    },
    "tags": []
   },
   "outputs": [],
   "source": [
    "from sklearn import cluster, metrics\n",
    "clus = cluster.KMeans(n_clusters = label_0_unique, random_state = 38)\n",
    "clus1 = cluster.KMeans(n_clusters = label_1_unique, random_state = 38)\n",
    "def ari_score(inputs):\n",
    "    clus.fit(inputs)\n",
    "    clus1.fit(inputs)\n",
    "    ari = metrics.adjusted_rand_score(np.array(img_df['labels_0']),\n",
    "                                                 np.array(clus.labels_)\n",
    "                                                 )\n",
    "    ari1 = metrics.adjusted_rand_score(np.array(img_df['labels_1']),\n",
    "                                                 np.array(clus1.labels_)\n",
    "                                                 )\n",
    "    print('The ari scores are {} for categorie 0 and {} for categorie 1.'.format(ari, ari1))\n",
    " "
   ]
  },
  {
   "cell_type": "code",
   "execution_count": 124,
   "id": "d23fdba7-5869-4901-8ee6-e2349d007979",
   "metadata": {
    "execution": {
     "iopub.execute_input": "2023-01-02T10:22:26.325750Z",
     "iopub.status.busy": "2023-01-02T10:22:26.324751Z",
     "iopub.status.idle": "2023-01-02T10:22:26.340751Z",
     "shell.execute_reply": "2023-01-02T10:22:26.339750Z",
     "shell.execute_reply.started": "2023-01-02T10:22:26.325750Z"
    },
    "tags": []
   },
   "outputs": [
    {
     "data": {
      "image/png": "[encoded data removed]",
      "text/plain": [
       "<PIL.Image.Image image mode=L size=200x200>"
      ]
     },
     "execution_count": 124,
     "metadata": {},
     "output_type": "execute_result"
    }
   ],
   "source": [
    "Image.fromarray(img_df.iloc[38, -3])"
   ]
  },
  {
   "cell_type": "code",
   "execution_count": 125,
   "id": "4884bd90-5d36-4479-bfc7-c2e22fe249d9",
   "metadata": {
    "execution": {
     "iopub.execute_input": "2023-01-02T10:22:26.341751Z",
     "iopub.status.busy": "2023-01-02T10:22:26.340751Z",
     "iopub.status.idle": "2023-01-02T10:22:49.984753Z",
     "shell.execute_reply": "2023-01-02T10:22:49.984753Z",
     "shell.execute_reply.started": "2023-01-02T10:22:26.341751Z"
    },
    "tags": []
   },
   "outputs": [
    {
     "name": "stderr",
     "output_type": "stream",
     "text": [
      "E:\\Data_Science\\Anaconda\\envs\\tf_gpu\\lib\\site-packages\\sklearn\\cluster\\_kmeans.py:870: FutureWarning: The default value of `n_init` will change from 10 to 'auto' in 1.4. Set the value of `n_init` explicitly to suppress the warning\n",
      "  warnings.warn(\n",
      "E:\\Data_Science\\Anaconda\\envs\\tf_gpu\\lib\\site-packages\\sklearn\\cluster\\_kmeans.py:870: FutureWarning: The default value of `n_init` will change from 10 to 'auto' in 1.4. Set the value of `n_init` explicitly to suppress the warning\n",
      "  warnings.warn(\n"
     ]
    },
    {
     "name": "stdout",
     "output_type": "stream",
     "text": [
      "The ari scores are 0.12350032956345872 for categorie 0 and 0.12767916608204916 for categorie 1.\n"
     ]
    }
   ],
   "source": [
    "ari_score(img_df['L_flatten'].tolist())"
   ]
  },
  {
   "cell_type": "markdown",
   "id": "50e4bb0c-b267-42c2-99c0-93d80586b466",
   "metadata": {},
   "source": [
    "## SIFT"
   ]
  },
  {
   "cell_type": "code",
   "execution_count": 126,
   "id": "a6898ea2-068c-4d70-a8c2-87c3e1129b69",
   "metadata": {
    "execution": {
     "iopub.execute_input": "2023-01-02T10:22:49.988753Z",
     "iopub.status.busy": "2023-01-02T10:22:49.987753Z",
     "iopub.status.idle": "2023-01-02T10:22:50.253410Z",
     "shell.execute_reply": "2023-01-02T10:22:50.252390Z",
     "shell.execute_reply.started": "2023-01-02T10:22:49.987753Z"
    },
    "tags": []
   },
   "outputs": [],
   "source": [
    "import cv2 as cv"
   ]
  },
  {
   "cell_type": "code",
   "execution_count": 127,
   "id": "bcf6a7b9-81c1-459c-886a-f035196ad7e6",
   "metadata": {
    "execution": {
     "iopub.execute_input": "2023-01-02T10:22:50.253410Z",
     "iopub.status.busy": "2023-01-02T10:22:50.253410Z",
     "iopub.status.idle": "2023-01-02T10:22:50.473982Z",
     "shell.execute_reply": "2023-01-02T10:22:50.473007Z",
     "shell.execute_reply.started": "2023-01-02T10:22:50.253410Z"
    },
    "tags": []
   },
   "outputs": [
    {
     "data": {
      "image/png": "[encoded data removed]",
      "text/plain": [
       "<Figure size 640x480 with 1 Axes>"
      ]
     },
     "metadata": {},
     "output_type": "display_data"
    },
    {
     "name": "stdout",
     "output_type": "stream",
     "text": [
      "(255, 128)\n"
     ]
    }
   ],
   "source": [
    "rand = np.random.randint(1010)\n",
    "sift = cv.SIFT_create(500)\n",
    "test = img_df.iloc[rand, -3]\n",
    "kp, des = sift.detectAndCompute(test, None)\n",
    "testkp = cv.drawKeypoints(test, kp, test)\n",
    "plt.imshow(testkp)\n",
    "plt.show()\n",
    "print(des.shape)"
   ]
  },
  {
   "cell_type": "code",
   "execution_count": 128,
   "id": "b5025268-31ff-42f7-b70d-f5f1128117fa",
   "metadata": {
    "execution": {
     "iopub.execute_input": "2023-01-02T10:22:50.475982Z",
     "iopub.status.busy": "2023-01-02T10:22:50.474982Z",
     "iopub.status.idle": "2023-01-02T10:23:02.711992Z",
     "shell.execute_reply": "2023-01-02T10:23:02.708984Z",
     "shell.execute_reply.started": "2023-01-02T10:22:50.475982Z"
    },
    "tags": []
   },
   "outputs": [],
   "source": [
    "# create descriptors for each image\n",
    "def des_img(x, max_feat = 500, detect = 'sift'):\n",
    "    if detect == 'sift':\n",
    "        algo = cv.SIFT_create(max_feat)\n",
    "    elif detect == 'orb':\n",
    "        algo = cv.ORB_create(max_feat, edgeThreshold = 10, patchSize = 10)\n",
    "    kp, des = algo.detectAndCompute(x, None)\n",
    "    return des\n",
    "\n",
    "sift_df = pd.DataFrame()\n",
    "sift_df['des'] = img_df['L_array'].apply(lambda x: des_img(x))\n"
   ]
  },
  {
   "cell_type": "code",
   "execution_count": 129,
   "id": "d2453eb8-1e23-498a-940b-f77598a11291",
   "metadata": {
    "execution": {
     "iopub.execute_input": "2023-01-02T10:23:02.716991Z",
     "iopub.status.busy": "2023-01-02T10:23:02.714993Z",
     "iopub.status.idle": "2023-01-02T10:23:02.771981Z",
     "shell.execute_reply": "2023-01-02T10:23:02.771981Z",
     "shell.execute_reply.started": "2023-01-02T10:23:02.716991Z"
    },
    "tags": []
   },
   "outputs": [
    {
     "name": "stdout",
     "output_type": "stream",
     "text": [
      "(302402, 128)\n"
     ]
    }
   ],
   "source": [
    "#list of descriptors by img\n",
    "sift_img = np.array(sift_df['des'].tolist(), dtype=object)\n",
    "\n",
    "#array of all descriptors\n",
    "sift_img_all = np.concatenate(sift_img, axis=0)\n",
    "print(sift_img_all.shape)"
   ]
  },
  {
   "cell_type": "code",
   "execution_count": 130,
   "id": "3df2ccc1-34df-4303-a15a-35c51ae7c743",
   "metadata": {
    "execution": {
     "iopub.execute_input": "2023-01-02T10:23:02.772982Z",
     "iopub.status.busy": "2023-01-02T10:23:02.772982Z",
     "iopub.status.idle": "2023-01-02T10:23:02.803983Z",
     "shell.execute_reply": "2023-01-02T10:23:02.803012Z",
     "shell.execute_reply.started": "2023-01-02T10:23:02.772982Z"
    }
   },
   "outputs": [
    {
     "ename": "NameError",
     "evalue": "name 'orb_img' is not defined",
     "output_type": "error",
     "traceback": [
      "\u001b[1;31m---------------------------------------------------------------------------\u001b[0m",
      "\u001b[1;31mNameError\u001b[0m                                 Traceback (most recent call last)",
      "Cell \u001b[1;32mIn[130], line 1\u001b[0m\n\u001b[1;32m----> 1\u001b[0m \u001b[43morb_img\u001b[49m[\u001b[38;5;241m315\u001b[39m]\n",
      "\u001b[1;31mNameError\u001b[0m: name 'orb_img' is not defined"
     ]
    }
   ],
   "source": [
    "orb_img[315]"
   ]
  },
  {
   "cell_type": "code",
   "execution_count": 131,
   "id": "7da670a7-bc93-4459-ac97-e950917233f3",
   "metadata": {
    "execution": {
     "iopub.execute_input": "2023-01-02T10:26:29.457740Z",
     "iopub.status.busy": "2023-01-02T10:26:29.456742Z",
     "iopub.status.idle": "2023-01-02T10:26:29.481742Z",
     "shell.execute_reply": "2023-01-02T10:26:29.480741Z",
     "shell.execute_reply.started": "2023-01-02T10:26:29.457740Z"
    },
    "tags": []
   },
   "outputs": [
    {
     "name": "stdout",
     "output_type": "stream",
     "text": [
      "3000\n"
     ]
    },
    {
     "name": "stderr",
     "output_type": "stream",
     "text": [
      "E:\\Data_Science\\Anaconda\\envs\\tf_gpu\\lib\\site-packages\\sklearn\\base.py:288: UserWarning: Trying to unpickle estimator KMeans from version 1.0.2 when using version 1.2.0. This might lead to breaking code or invalid results. Use at your own risk. For more info please refer to:\n",
      "https://scikit-learn.org/stable/model_persistence.html#security-maintainability-limitations\n",
      "  warnings.warn(\n"
     ]
    }
   ],
   "source": [
    "# clusters the descriptors\n",
    "from joblib import dump, load\n",
    "k = 3000\n",
    "print(k)\n",
    "\n",
    "try:\n",
    "    clus_des = load('clus_des.joblib')\n",
    "except FileNotFoundError:\n",
    "    clus_des = cluster.KMeans(n_clusters=k, random_state = 38)\n",
    "    clus_des.fit(sift_img_all)\n",
    "    dump(clus_des, 'clus_des.joblib')"
   ]
  },
  {
   "cell_type": "code",
   "execution_count": 132,
   "id": "1844954e-f583-40db-ab0a-0c1afcacbbb2",
   "metadata": {
    "execution": {
     "iopub.execute_input": "2023-01-02T10:26:35.551340Z",
     "iopub.status.busy": "2023-01-02T10:26:35.551340Z",
     "iopub.status.idle": "2023-01-02T10:26:35.560367Z",
     "shell.execute_reply": "2023-01-02T10:26:35.559369Z",
     "shell.execute_reply.started": "2023-01-02T10:26:35.551340Z"
    },
    "tags": []
   },
   "outputs": [],
   "source": [
    "# build histogrammes for each images\n",
    "def hist(x, model):\n",
    "    res = model.predict(x)\n",
    "    hist = np.zeros(len(model.cluster_centers_))\n",
    "    nb_des=len(x)\n",
    "    if nb_des==0 : print(\"Error no descriptors  : \", x.index)\n",
    "    for i in res:\n",
    "        hist[i] += 1.0/nb_des\n",
    "    return hist\n",
    "\n"
   ]
  },
  {
   "cell_type": "code",
   "execution_count": 133,
   "id": "a9e2317c-7066-4ec0-b87e-65860b770a37",
   "metadata": {
    "execution": {
     "iopub.execute_input": "2023-01-02T10:26:38.203464Z",
     "iopub.status.busy": "2023-01-02T10:26:38.202464Z",
     "iopub.status.idle": "2023-01-02T10:26:41.987544Z",
     "shell.execute_reply": "2023-01-02T10:26:41.987544Z",
     "shell.execute_reply.started": "2023-01-02T10:26:38.203464Z"
    },
    "tags": []
   },
   "outputs": [],
   "source": [
    "sift_df['hist'] = sift_df['des'].apply(lambda x: hist(x, model=clus_des))"
   ]
  },
  {
   "cell_type": "code",
   "execution_count": 134,
   "id": "6d4648e2-4bdb-4f3e-83b8-8104269d15f1",
   "metadata": {
    "execution": {
     "iopub.execute_input": "2023-01-02T10:26:42.890092Z",
     "iopub.status.busy": "2023-01-02T10:26:42.890092Z",
     "iopub.status.idle": "2023-01-02T10:26:44.493092Z",
     "shell.execute_reply": "2023-01-02T10:26:44.493092Z",
     "shell.execute_reply.started": "2023-01-02T10:26:42.890092Z"
    },
    "tags": []
   },
   "outputs": [
    {
     "name": "stderr",
     "output_type": "stream",
     "text": [
      "E:\\Data_Science\\Anaconda\\envs\\tf_gpu\\lib\\site-packages\\sklearn\\cluster\\_kmeans.py:870: FutureWarning: The default value of `n_init` will change from 10 to 'auto' in 1.4. Set the value of `n_init` explicitly to suppress the warning\n",
      "  warnings.warn(\n",
      "E:\\Data_Science\\Anaconda\\envs\\tf_gpu\\lib\\site-packages\\sklearn\\cluster\\_kmeans.py:870: FutureWarning: The default value of `n_init` will change from 10 to 'auto' in 1.4. Set the value of `n_init` explicitly to suppress the warning\n",
      "  warnings.warn(\n"
     ]
    },
    {
     "name": "stdout",
     "output_type": "stream",
     "text": [
      "The ari scores are 0.006940871762848374 for categorie 0 and 0.014671117294801216 for categorie 1.\n"
     ]
    }
   ],
   "source": [
    "ari_score(sift_df['hist'].tolist())"
   ]
  },
  {
   "cell_type": "code",
   "execution_count": 135,
   "id": "2adb9a3b-4cdf-400a-a6f7-c4dbcb6cf424",
   "metadata": {
    "execution": {
     "iopub.execute_input": "2023-01-02T10:26:49.531340Z",
     "iopub.status.busy": "2023-01-02T10:26:49.530322Z",
     "iopub.status.idle": "2023-01-02T10:26:49.543295Z",
     "shell.execute_reply": "2023-01-02T10:26:49.542295Z",
     "shell.execute_reply.started": "2023-01-02T10:26:49.531340Z"
    },
    "tags": []
   },
   "outputs": [
    {
     "data": {
      "text/plain": [
       "array([0., 0., 0., ..., 0., 0., 0.])"
      ]
     },
     "execution_count": 135,
     "metadata": {},
     "output_type": "execute_result"
    }
   ],
   "source": [
    "sift_df.iloc[85, -1]"
   ]
  },
  {
   "cell_type": "code",
   "execution_count": 136,
   "id": "28f877bd-e280-4b9a-8a70-9dcb3b47f088",
   "metadata": {
    "execution": {
     "iopub.execute_input": "2023-01-02T10:26:50.939311Z",
     "iopub.status.busy": "2023-01-02T10:26:50.939311Z",
     "iopub.status.idle": "2023-01-02T10:26:50.963312Z",
     "shell.execute_reply": "2023-01-02T10:26:50.962341Z",
     "shell.execute_reply.started": "2023-01-02T10:26:50.939311Z"
    },
    "tags": []
   },
   "outputs": [
    {
     "name": "stdout",
     "output_type": "stream",
     "text": [
      "<class 'pandas.core.frame.DataFrame'>\n",
      "RangeIndex: 1010 entries, 0 to 1009\n",
      "Data columns (total 14 columns):\n",
      " #   Column      Non-Null Count  Dtype \n",
      "---  ------      --------------  ----- \n",
      " 0   uniq_id     1010 non-null   object\n",
      " 1   image       1010 non-null   object\n",
      " 2   labels_0    1010 non-null   int32 \n",
      " 3   labels_1    1010 non-null   int32 \n",
      " 4   imageimage  1010 non-null   object\n",
      " 5   img_array   1010 non-null   object\n",
      " 6   img_mode    1010 non-null   object\n",
      " 7   img_size    1010 non-null   object\n",
      " 8   img_width   1010 non-null   int64 \n",
      " 9   img_height  1010 non-null   int64 \n",
      " 10  new_array   1010 non-null   object\n",
      " 11  L_array     1010 non-null   object\n",
      " 12  L_norm      1010 non-null   object\n",
      " 13  L_flatten   1010 non-null   object\n",
      "dtypes: int32(2), int64(2), object(10)\n",
      "memory usage: 102.7+ KB\n"
     ]
    }
   ],
   "source": [
    "img_df.info()"
   ]
  },
  {
   "cell_type": "code",
   "execution_count": 137,
   "id": "b5bc1d61-8baf-497d-84d4-b74a074490ed",
   "metadata": {
    "execution": {
     "iopub.execute_input": "2023-01-02T10:26:53.218730Z",
     "iopub.status.busy": "2023-01-02T10:26:53.217726Z",
     "iopub.status.idle": "2023-01-02T10:26:53.236730Z",
     "shell.execute_reply": "2023-01-02T10:26:53.235701Z",
     "shell.execute_reply.started": "2023-01-02T10:26:53.218730Z"
    },
    "tags": []
   },
   "outputs": [],
   "source": [
    "sift_df = sift_df.join(img_df.iloc[:,2:4])"
   ]
  },
  {
   "cell_type": "code",
   "execution_count": 138,
   "id": "ebab04c9-d3d7-4a55-acaa-9d0dfc2b80ec",
   "metadata": {
    "execution": {
     "iopub.execute_input": "2023-01-02T10:26:53.749662Z",
     "iopub.status.busy": "2023-01-02T10:26:53.749662Z",
     "iopub.status.idle": "2023-01-02T10:26:53.765633Z",
     "shell.execute_reply": "2023-01-02T10:26:53.764662Z",
     "shell.execute_reply.started": "2023-01-02T10:26:53.749662Z"
    },
    "tags": []
   },
   "outputs": [
    {
     "name": "stdout",
     "output_type": "stream",
     "text": [
      "<class 'pandas.core.frame.DataFrame'>\n",
      "RangeIndex: 1010 entries, 0 to 1009\n",
      "Data columns (total 4 columns):\n",
      " #   Column    Non-Null Count  Dtype \n",
      "---  ------    --------------  ----- \n",
      " 0   des       1010 non-null   object\n",
      " 1   hist      1010 non-null   object\n",
      " 2   labels_0  1010 non-null   int32 \n",
      " 3   labels_1  1010 non-null   int32 \n",
      "dtypes: int32(2), object(2)\n",
      "memory usage: 23.8+ KB\n"
     ]
    }
   ],
   "source": [
    "sift_df.info()"
   ]
  },
  {
   "cell_type": "code",
   "execution_count": 139,
   "id": "c5d6fa74-1c95-464c-8b48-e45c29fe2bcc",
   "metadata": {
    "execution": {
     "iopub.execute_input": "2023-01-02T10:26:54.537269Z",
     "iopub.status.busy": "2023-01-02T10:26:54.537269Z",
     "iopub.status.idle": "2023-01-02T10:27:30.927108Z",
     "shell.execute_reply": "2023-01-02T10:27:30.926108Z",
     "shell.execute_reply.started": "2023-01-02T10:26:54.537269Z"
    },
    "tags": []
   },
   "outputs": [
    {
     "data": {
      "text/plain": [
       "0.3180693069306931"
      ]
     },
     "execution_count": 139,
     "metadata": {},
     "output_type": "execute_result"
    }
   ],
   "source": [
    "# test with a classifier \n",
    "import xgboost as xgb\n",
    "from sklearn.model_selection import train_test_split, GridSearchCV\n",
    "\n",
    "xgb_class = xgb.XGBClassifier(n_estimators = 2000)\n",
    "temp = pd.DataFrame(sift_df['hist'].tolist())\n",
    "xtrain, xtest, ytrain0, ytest0 = train_test_split(temp, sift_df['labels_0'], test_size = 0.8, stratify = sift_df['labels_0'], random_state=38)\n",
    "\n",
    "xgb_class.fit(xtrain, ytrain0)\n",
    "xgb_class.score(xtest, ytest0)"
   ]
  },
  {
   "cell_type": "code",
   "execution_count": 140,
   "id": "1fc86e8c-2e25-456c-bc95-a8e75de7cfe0",
   "metadata": {
    "execution": {
     "iopub.execute_input": "2023-01-02T10:27:30.929108Z",
     "iopub.status.busy": "2023-01-02T10:27:30.928109Z",
     "iopub.status.idle": "2023-01-02T10:28:05.570109Z",
     "shell.execute_reply": "2023-01-02T10:28:05.570109Z",
     "shell.execute_reply.started": "2023-01-02T10:27:30.929108Z"
    },
    "tags": []
   },
   "outputs": [
    {
     "data": {
      "text/plain": [
       "0.1707920792079208"
      ]
     },
     "execution_count": 140,
     "metadata": {},
     "output_type": "execute_result"
    }
   ],
   "source": [
    "xtrain, xtest, ytrain1, ytest1 = train_test_split(temp, sift_df['labels_1'], test_size = 0.8, stratify = sift_df['labels_1'], random_state=38)\n",
    "\n",
    "xgb_class.fit(xtrain, ytrain0)\n",
    "xgb_class.score(xtest, ytest0)"
   ]
  },
  {
   "cell_type": "markdown",
   "id": "bac96dfb-a99f-4021-8d5b-11387081a407",
   "metadata": {},
   "source": [
    "### ORB"
   ]
  },
  {
   "cell_type": "code",
   "execution_count": 141,
   "id": "d79236fc-16c9-4938-8be0-0ef46d93e5f2",
   "metadata": {
    "execution": {
     "iopub.execute_input": "2023-01-02T10:28:05.572111Z",
     "iopub.status.busy": "2023-01-02T10:28:05.572111Z",
     "iopub.status.idle": "2023-01-02T10:28:06.277901Z",
     "shell.execute_reply": "2023-01-02T10:28:06.277901Z",
     "shell.execute_reply.started": "2023-01-02T10:28:05.572111Z"
    },
    "tags": []
   },
   "outputs": [
    {
     "data": {
      "image/png": "[encoded data removed]",
      "text/plain": [
       "<Figure size 640x480 with 1 Axes>"
      ]
     },
     "metadata": {},
     "output_type": "display_data"
    },
    {
     "name": "stdout",
     "output_type": "stream",
     "text": [
      "(54, 32)\n"
     ]
    }
   ],
   "source": [
    "orb = cv.ORB_create(500,edgeThreshold = 10, patchSize = 10)\n",
    "test = img_df.iloc[315, -3]\n",
    "kp, des = orb.detectAndCompute(test, None)\n",
    "testkp = cv.drawKeypoints(test, kp, test)\n",
    "plt.imshow(testkp)\n",
    "plt.show()\n",
    "print(des.shape)"
   ]
  },
  {
   "cell_type": "code",
   "execution_count": 142,
   "id": "bc5199b8-4bad-4e70-ba6f-7e14d01c0096",
   "metadata": {
    "execution": {
     "iopub.execute_input": "2023-01-02T10:28:06.279877Z",
     "iopub.status.busy": "2023-01-02T10:28:06.279877Z",
     "iopub.status.idle": "2023-01-02T10:28:10.043876Z",
     "shell.execute_reply": "2023-01-02T10:28:10.043876Z",
     "shell.execute_reply.started": "2023-01-02T10:28:06.279877Z"
    },
    "tags": []
   },
   "outputs": [
    {
     "name": "stdout",
     "output_type": "stream",
     "text": [
      "(477110, 32)\n",
      "691\n"
     ]
    },
    {
     "name": "stderr",
     "output_type": "stream",
     "text": [
      "E:\\Data_Science\\Anaconda\\envs\\tf_gpu\\lib\\site-packages\\sklearn\\base.py:288: UserWarning: Trying to unpickle estimator KMeans from version 1.0.2 when using version 1.2.0. This might lead to breaking code or invalid results. Use at your own risk. For more info please refer to:\n",
      "https://scikit-learn.org/stable/model_persistence.html#security-maintainability-limitations\n",
      "  warnings.warn(\n",
      "E:\\Data_Science\\Anaconda\\envs\\tf_gpu\\lib\\site-packages\\sklearn\\cluster\\_kmeans.py:870: FutureWarning: The default value of `n_init` will change from 10 to 'auto' in 1.4. Set the value of `n_init` explicitly to suppress the warning\n",
      "  warnings.warn(\n",
      "E:\\Data_Science\\Anaconda\\envs\\tf_gpu\\lib\\site-packages\\sklearn\\cluster\\_kmeans.py:870: FutureWarning: The default value of `n_init` will change from 10 to 'auto' in 1.4. Set the value of `n_init` explicitly to suppress the warning\n",
      "  warnings.warn(\n"
     ]
    },
    {
     "name": "stdout",
     "output_type": "stream",
     "text": [
      "The ari scores are 0.020634473911105768 for categorie 0 and 0.027193950539775035 for categorie 1.\n"
     ]
    }
   ],
   "source": [
    "orb_df = pd.DataFrame()\n",
    "orb_df['des'] = img_df['L_array'].apply(lambda x: des_img(x, detect='orb'))\n",
    "orb_img = np.array(orb_df['des'].tolist(), dtype=object)\n",
    "orb_img_all = np.concatenate(orb_img, axis=0)\n",
    "print(orb_img_all.shape)\n",
    "k = int(round(np.sqrt(len(orb_img_all)),0))\n",
    "print(k)\n",
    "try:\n",
    "    clus_orb = load('clus_orb.joblib')\n",
    "except FileNotFoundError:\n",
    "    clus_orb = cluster.KMeans(n_clusters=k, random_state = 38)\n",
    "    clus_orb.fit(orb_img_all)\n",
    "    dump(clus_orb, 'clus_orb.joblib')\n",
    "    \n",
    "orb_df['hist'] = orb_df['des'].apply(lambda x: hist(x, model=clus_orb))\n",
    "\n",
    "ari_score(orb_df['hist'].tolist())"
   ]
  },
  {
   "cell_type": "markdown",
   "id": "4a205eb8-f824-4248-8a92-2aa02e15cc5e",
   "metadata": {},
   "source": [
    "## VGG16"
   ]
  },
  {
   "cell_type": "code",
   "execution_count": 14,
   "id": "5af82322-4a60-48e9-8662-697fcd15d400",
   "metadata": {
    "execution": {
     "iopub.execute_input": "2023-01-06T17:04:39.949332Z",
     "iopub.status.busy": "2023-01-06T17:04:39.949332Z",
     "iopub.status.idle": "2023-01-06T17:04:41.715680Z",
     "shell.execute_reply": "2023-01-06T17:04:41.714679Z",
     "shell.execute_reply.started": "2023-01-06T17:04:39.949332Z"
    },
    "tags": []
   },
   "outputs": [
    {
     "name": "stdin",
     "output_type": "stream",
     "text": [
      "Do you want to launch sorting ? [y/n] n\n"
     ]
    }
   ],
   "source": [
    "#sort the images to build the dataset\n",
    "import shutil\n",
    "def sort_images(path):\n",
    "    rename = df.iloc[:, [8,15]]\n",
    "    #create folders\n",
    "    for i in rename['product_category_0'].unique():\n",
    "        os.makedirs(os.path.join(path, i))\n",
    "    #move images\n",
    "    for i in rename['product_category_0'].unique():\n",
    "        for x in list(rename[rename['product_category_0'] == i]['image']):\n",
    "                get_image = os.path.join(path,x)\n",
    "                move_image = shutil.move(get_image, os.path.join(path, i))\n",
    "    return\n",
    "\n",
    "x = input('Do you want to launch sorting ? [y/n]')\n",
    "if x == 'y': \n",
    "    x = input('What category do you want to launch? [0/1]')\n",
    "    if x == '0':\n",
    "        path = 'E:\\\\Data_Science\\\\OpenClassRoom\\\\Projet 6\\\\Flipkart\\\\Images_sort2'\n",
    "        sort_images(path)\n",
    "    if x == '1':\n",
    "        path = 'E:\\\\Data_Science\\\\OpenClassRoom\\\\Projet 6\\\\Flipkart\\\\Images_sort'\n",
    "        sort_images(path)\n",
    "    \n",
    "    \n",
    "    "
   ]
  },
  {
   "cell_type": "code",
   "execution_count": 15,
   "id": "2e01e6c9-2527-44e4-a2da-3fbc22922503",
   "metadata": {
    "execution": {
     "iopub.execute_input": "2023-01-06T17:04:44.158987Z",
     "iopub.status.busy": "2023-01-06T17:04:44.158987Z",
     "iopub.status.idle": "2023-01-06T17:04:48.645736Z",
     "shell.execute_reply": "2023-01-06T17:04:48.644760Z",
     "shell.execute_reply.started": "2023-01-06T17:04:44.158987Z"
    },
    "tags": []
   },
   "outputs": [
    {
     "name": "stdin",
     "output_type": "stream",
     "text": [
      "What classes do you want to classify? [0/1] 1\n"
     ]
    },
    {
     "name": "stdout",
     "output_type": "stream",
     "text": [
      "Found 1010 files belonging to 37 classes.\n",
      "Using 909 files for training.\n",
      "Using 101 files for validation.\n",
      "Found 1010 files belonging to 37 classes.\n"
     ]
    }
   ],
   "source": [
    "import tensorflow as tf\n",
    "#load data with keras\n",
    "x = input('What classes do you want to classify? [0/1]')\n",
    "def create_dataset(path):\n",
    "    data = tf.keras.utils.image_dataset_from_directory(path,\n",
    "                                                       labels='inferred',\n",
    "                                                       label_mode='categorical',\n",
    "                                                       image_size=(224,224),\n",
    "                                                       batch_size=8,\n",
    "                                                       subset = 'both',\n",
    "                                                       validation_split=0.10,\n",
    "                                                       seed = 38\n",
    "                                                      )\n",
    "    full_data = tf.keras.utils.image_dataset_from_directory(path,\n",
    "                                                       labels='inferred',\n",
    "                                                       label_mode='categorical',\n",
    "                                                       image_size=(224,224),\n",
    "                                                       batch_size=8,\n",
    "                                                      )\n",
    "                  \n",
    "    norm = tf.keras.layers.Rescaling(1./255)\n",
    "    for i in data:\n",
    "        i = i.map(lambda x, y: (norm(x), y))\n",
    "    full_data = full_data.map(lambda x, y: (norm(x), y))\n",
    "    return data, full_data\n",
    "\n",
    "if x =='0':\n",
    "    path = 'E:\\\\Data_Science\\\\OpenClassRoom\\\\Projet 6\\\\Flipkart\\\\Images_sort2'\n",
    "    data, full_data = create_dataset(path)\n",
    "else: \n",
    "    path = 'E:\\\\Data_Science\\\\OpenClassRoom\\\\Projet 6\\\\Flipkart\\\\Images_sort'\n",
    "    data, full_data = create_dataset(path)\n"
   ]
  },
  {
   "cell_type": "markdown",
   "id": "38d0289a-4fe1-4762-a293-ae34a8d5a76c",
   "metadata": {},
   "source": [
    "### Fine-Tune FC Layers"
   ]
  },
  {
   "cell_type": "code",
   "execution_count": 23,
   "id": "f8f08aae-5369-4251-9211-8f083d4f884d",
   "metadata": {
    "execution": {
     "iopub.execute_input": "2023-01-06T17:14:58.348069Z",
     "iopub.status.busy": "2023-01-06T17:14:58.347069Z",
     "iopub.status.idle": "2023-01-06T17:15:11.670725Z",
     "shell.execute_reply": "2023-01-06T17:15:11.669679Z",
     "shell.execute_reply.started": "2023-01-06T17:14:58.348069Z"
    },
    "tags": []
   },
   "outputs": [
    {
     "name": "stdout",
     "output_type": "stream",
     "text": [
      "WARNING:tensorflow:Using a while_loop for converting RngReadAndSkip cause there is no registered converter for this op.\n",
      "WARNING:tensorflow:Using a while_loop for converting Bitcast cause there is no registered converter for this op.\n",
      "WARNING:tensorflow:Using a while_loop for converting Bitcast cause there is no registered converter for this op.\n",
      "WARNING:tensorflow:Using a while_loop for converting StatelessRandomUniformV2 cause there is no registered converter for this op.\n",
      "WARNING:tensorflow:Using a while_loop for converting ImageProjectiveTransformV3 cause there is no registered converter for this op.\n",
      "WARNING:tensorflow:Using a while_loop for converting RngReadAndSkip cause there is no registered converter for this op.\n",
      "WARNING:tensorflow:Using a while_loop for converting Bitcast cause there is no registered converter for this op.\n",
      "WARNING:tensorflow:Using a while_loop for converting Bitcast cause there is no registered converter for this op.\n",
      "WARNING:tensorflow:Using a while_loop for converting StatelessRandomUniformV2 cause there is no registered converter for this op.\n",
      "WARNING:tensorflow:Using a while_loop for converting ImageProjectiveTransformV3 cause there is no registered converter for this op.\n",
      "WARNING:tensorflow:Using a while_loop for converting RngReadAndSkip cause there is no registered converter for this op.\n",
      "WARNING:tensorflow:Using a while_loop for converting Bitcast cause there is no registered converter for this op.\n",
      "WARNING:tensorflow:Using a while_loop for converting Bitcast cause there is no registered converter for this op.\n",
      "WARNING:tensorflow:Using a while_loop for converting StatelessRandomUniformV2 cause there is no registered converter for this op.\n",
      "WARNING:tensorflow:Using a while_loop for converting ImageProjectiveTransformV3 cause there is no registered converter for this op.\n",
      "WARNING:tensorflow:Using a while_loop for converting RngReadAndSkip cause there is no registered converter for this op.\n",
      "WARNING:tensorflow:Using a while_loop for converting Bitcast cause there is no registered converter for this op.\n",
      "WARNING:tensorflow:Using a while_loop for converting Bitcast cause there is no registered converter for this op.\n",
      "WARNING:tensorflow:Using a while_loop for converting StatelessRandomUniformV2 cause there is no registered converter for this op.\n",
      "WARNING:tensorflow:Using a while_loop for converting ImageProjectiveTransformV3 cause there is no registered converter for this op.\n"
     ]
    },
    {
     "ename": "ResourceExhaustedError",
     "evalue": "{{function_node __wrapped__Mul_device_/job:localhost/replica:0/task:0/device:GPU:0}} failed to allocate memory [Op:Mul]",
     "output_type": "error",
     "traceback": [
      "\u001b[1;31m---------------------------------------------------------------------------\u001b[0m",
      "\u001b[1;31mResourceExhaustedError\u001b[0m                    Traceback (most recent call last)",
      "Cell \u001b[1;32mIn[23], line 34\u001b[0m\n\u001b[0;32m     32\u001b[0m model\u001b[38;5;241m.\u001b[39madd(vgg)\n\u001b[0;32m     33\u001b[0m model\u001b[38;5;241m.\u001b[39madd(layers\u001b[38;5;241m.\u001b[39mFlatten())\n\u001b[1;32m---> 34\u001b[0m \u001b[43mmodel\u001b[49m\u001b[38;5;241;43m.\u001b[39;49m\u001b[43madd\u001b[49m\u001b[43m(\u001b[49m\u001b[43mlayers\u001b[49m\u001b[38;5;241;43m.\u001b[39;49m\u001b[43mDense\u001b[49m\u001b[43m(\u001b[49m\u001b[38;5;241;43m4096\u001b[39;49m\u001b[43m,\u001b[49m\n\u001b[0;32m     35\u001b[0m \u001b[43m                       \u001b[49m\u001b[43mactivation\u001b[49m\u001b[38;5;241;43m=\u001b[39;49m\u001b[38;5;124;43m'\u001b[39;49m\u001b[38;5;124;43mrelu\u001b[39;49m\u001b[38;5;124;43m'\u001b[39;49m\n\u001b[0;32m     36\u001b[0m \u001b[43m                      \u001b[49m\u001b[43m)\u001b[49m\u001b[43m)\u001b[49m\n\u001b[0;32m     37\u001b[0m model\u001b[38;5;241m.\u001b[39madd(layers\u001b[38;5;241m.\u001b[39mDense(\u001b[38;5;241m4096\u001b[39m,\n\u001b[0;32m     38\u001b[0m                        activation\u001b[38;5;241m=\u001b[39m\u001b[38;5;124m'\u001b[39m\u001b[38;5;124mrelu\u001b[39m\u001b[38;5;124m'\u001b[39m,\n\u001b[0;32m     39\u001b[0m                        name \u001b[38;5;241m=\u001b[39m \u001b[38;5;124m'\u001b[39m\u001b[38;5;124mfeatures\u001b[39m\u001b[38;5;124m'\u001b[39m))\n\u001b[0;32m     40\u001b[0m model\u001b[38;5;241m.\u001b[39madd(layers\u001b[38;5;241m.\u001b[39mDense(n_classes,\n\u001b[0;32m     41\u001b[0m                        activation\u001b[38;5;241m=\u001b[39m\u001b[38;5;124m'\u001b[39m\u001b[38;5;124msoftmax\u001b[39m\u001b[38;5;124m'\u001b[39m))\n",
      "File \u001b[1;32m~\\AppData\\Roaming\\Python\\Python39\\site-packages\\tensorflow\\python\\trackable\\base.py:205\u001b[0m, in \u001b[0;36mno_automatic_dependency_tracking.<locals>._method_wrapper\u001b[1;34m(self, *args, **kwargs)\u001b[0m\n\u001b[0;32m    203\u001b[0m \u001b[38;5;28mself\u001b[39m\u001b[38;5;241m.\u001b[39m_self_setattr_tracking \u001b[38;5;241m=\u001b[39m \u001b[38;5;28;01mFalse\u001b[39;00m  \u001b[38;5;66;03m# pylint: disable=protected-access\u001b[39;00m\n\u001b[0;32m    204\u001b[0m \u001b[38;5;28;01mtry\u001b[39;00m:\n\u001b[1;32m--> 205\u001b[0m   result \u001b[38;5;241m=\u001b[39m method(\u001b[38;5;28mself\u001b[39m, \u001b[38;5;241m*\u001b[39margs, \u001b[38;5;241m*\u001b[39m\u001b[38;5;241m*\u001b[39mkwargs)\n\u001b[0;32m    206\u001b[0m \u001b[38;5;28;01mfinally\u001b[39;00m:\n\u001b[0;32m    207\u001b[0m   \u001b[38;5;28mself\u001b[39m\u001b[38;5;241m.\u001b[39m_self_setattr_tracking \u001b[38;5;241m=\u001b[39m previous_value  \u001b[38;5;66;03m# pylint: disable=protected-access\u001b[39;00m\n",
      "File \u001b[1;32m~\\AppData\\Roaming\\Python\\Python39\\site-packages\\keras\\utils\\traceback_utils.py:70\u001b[0m, in \u001b[0;36mfilter_traceback.<locals>.error_handler\u001b[1;34m(*args, **kwargs)\u001b[0m\n\u001b[0;32m     67\u001b[0m     filtered_tb \u001b[38;5;241m=\u001b[39m _process_traceback_frames(e\u001b[38;5;241m.\u001b[39m__traceback__)\n\u001b[0;32m     68\u001b[0m     \u001b[38;5;66;03m# To get the full stack trace, call:\u001b[39;00m\n\u001b[0;32m     69\u001b[0m     \u001b[38;5;66;03m# `tf.debugging.disable_traceback_filtering()`\u001b[39;00m\n\u001b[1;32m---> 70\u001b[0m     \u001b[38;5;28;01mraise\u001b[39;00m e\u001b[38;5;241m.\u001b[39mwith_traceback(filtered_tb) \u001b[38;5;28;01mfrom\u001b[39;00m \u001b[38;5;28mNone\u001b[39m\n\u001b[0;32m     71\u001b[0m \u001b[38;5;28;01mfinally\u001b[39;00m:\n\u001b[0;32m     72\u001b[0m     \u001b[38;5;28;01mdel\u001b[39;00m filtered_tb\n",
      "File \u001b[1;32m~\\AppData\\Roaming\\Python\\Python39\\site-packages\\keras\\backend.py:2100\u001b[0m, in \u001b[0;36mRandomGenerator.random_uniform\u001b[1;34m(self, shape, minval, maxval, dtype, nonce)\u001b[0m\n\u001b[0;32m   2098\u001b[0m     \u001b[38;5;28;01mif\u001b[39;00m nonce:\n\u001b[0;32m   2099\u001b[0m         seed \u001b[38;5;241m=\u001b[39m tf\u001b[38;5;241m.\u001b[39mrandom\u001b[38;5;241m.\u001b[39mexperimental\u001b[38;5;241m.\u001b[39mstateless_fold_in(seed, nonce)\n\u001b[1;32m-> 2100\u001b[0m     \u001b[38;5;28;01mreturn\u001b[39;00m \u001b[43mtf\u001b[49m\u001b[38;5;241;43m.\u001b[39;49m\u001b[43mrandom\u001b[49m\u001b[38;5;241;43m.\u001b[39;49m\u001b[43mstateless_uniform\u001b[49m\u001b[43m(\u001b[49m\n\u001b[0;32m   2101\u001b[0m \u001b[43m        \u001b[49m\u001b[43mshape\u001b[49m\u001b[38;5;241;43m=\u001b[39;49m\u001b[43mshape\u001b[49m\u001b[43m,\u001b[49m\n\u001b[0;32m   2102\u001b[0m \u001b[43m        \u001b[49m\u001b[43mminval\u001b[49m\u001b[38;5;241;43m=\u001b[39;49m\u001b[43mminval\u001b[49m\u001b[43m,\u001b[49m\n\u001b[0;32m   2103\u001b[0m \u001b[43m        \u001b[49m\u001b[43mmaxval\u001b[49m\u001b[38;5;241;43m=\u001b[39;49m\u001b[43mmaxval\u001b[49m\u001b[43m,\u001b[49m\n\u001b[0;32m   2104\u001b[0m \u001b[43m        \u001b[49m\u001b[43mdtype\u001b[49m\u001b[38;5;241;43m=\u001b[39;49m\u001b[43mdtype\u001b[49m\u001b[43m,\u001b[49m\n\u001b[0;32m   2105\u001b[0m \u001b[43m        \u001b[49m\u001b[43mseed\u001b[49m\u001b[38;5;241;43m=\u001b[39;49m\u001b[43mseed\u001b[49m\u001b[43m,\u001b[49m\n\u001b[0;32m   2106\u001b[0m \u001b[43m    \u001b[49m\u001b[43m)\u001b[49m\n\u001b[0;32m   2107\u001b[0m \u001b[38;5;28;01mreturn\u001b[39;00m tf\u001b[38;5;241m.\u001b[39mrandom\u001b[38;5;241m.\u001b[39muniform(\n\u001b[0;32m   2108\u001b[0m     shape\u001b[38;5;241m=\u001b[39mshape,\n\u001b[0;32m   2109\u001b[0m     minval\u001b[38;5;241m=\u001b[39mminval,\n\u001b[1;32m   (...)\u001b[0m\n\u001b[0;32m   2112\u001b[0m     seed\u001b[38;5;241m=\u001b[39m\u001b[38;5;28mself\u001b[39m\u001b[38;5;241m.\u001b[39mmake_legacy_seed(),\n\u001b[0;32m   2113\u001b[0m )\n",
      "\u001b[1;31mResourceExhaustedError\u001b[0m: {{function_node __wrapped__Mul_device_/job:localhost/replica:0/task:0/device:GPU:0}} failed to allocate memory [Op:Mul]"
     ]
    }
   ],
   "source": [
    "if tf.config.list_physical_devices('GPU'):\n",
    "    \n",
    "    from tensorflow.keras import Sequential, Model\n",
    "    from keras.applications import vgg16\n",
    "    from tensorflow.keras import layers\n",
    "    if x == '0':\n",
    "        n_classes = 7\n",
    "    else: n_classes = 37\n",
    "    #build the augmentations layers\n",
    "    augment = Sequential(name = 'data_augment')\n",
    "    augment.add(layers.RandomFlip('horizontal',\n",
    "                                  input_shape = (224,\n",
    "                                                224,\n",
    "                                                3)))\n",
    "    augment.add(layers.RandomRotation(0.1))\n",
    "    augment.add(layers.RandomZoom(0.1))\n",
    "\n",
    "    #build the pre-trained vgg16\n",
    "    vgg = vgg16.VGG16(weights=\"imagenet\",\n",
    "                      include_top=False,\n",
    "                      input_shape=(224, 224, 3)\n",
    "                     )\n",
    "\n",
    "    for layer in vgg.layers[:]:\n",
    "        layer.trainable = False\n",
    "\n",
    "\n",
    "    #compile the two models and two fcc layers\n",
    "    model = Sequential(name = 'Finetune_VGG16')\n",
    "\n",
    "    model.add(augment)\n",
    "    model.add(vgg)\n",
    "    model.add(layers.Flatten())\n",
    "    model.add(layers.Dense(4096,\n",
    "                           activation='relu'\n",
    "                          ))\n",
    "    model.add(layers.Dense(4096,\n",
    "                           activation='relu',\n",
    "                           name = 'features'))\n",
    "    model.add(layers.Dense(n_classes,\n",
    "                           activation='softmax'))\n",
    "\n",
    "    # compile model\n",
    "    model.compile(loss=\"categorical_crossentropy\",\n",
    "                  optimizer='Adam',\n",
    "                  metrics=[\"accuracy\"])\n",
    "\n",
    "    model.summary()\n",
    "    \n",
    "\n",
    "    batch_size = 8\n",
    "\n",
    "    epochs = 10\n",
    "    # train the model\n",
    "    history = model.fit(data[0],\n",
    "                        validation_data = data[1],\n",
    "                        epochs=epochs,\n",
    "                        batch_size=batch_size,\n",
    "                        verbose=2\n",
    "                       )\n",
    "\n",
    "    extractor = Model(inputs = model.input, outputs = model.get_layer('features').output)\n",
    "    vgg_feat = extractor.predict(full_data)\n",
    "    vgg_feat.shape"
   ]
  },
  {
   "cell_type": "code",
   "execution_count": 18,
   "id": "08837cbf-7372-4e56-a182-c5ddf7875e74",
   "metadata": {
    "execution": {
     "iopub.execute_input": "2023-01-06T17:11:45.241927Z",
     "iopub.status.busy": "2023-01-06T17:11:45.241927Z",
     "iopub.status.idle": "2023-01-06T17:11:46.940486Z",
     "shell.execute_reply": "2023-01-06T17:11:46.940486Z",
     "shell.execute_reply.started": "2023-01-06T17:11:45.241927Z"
    },
    "tags": []
   },
   "outputs": [],
   "source": [
    "if x == '0':\n",
    "    try:\n",
    "        vgg_feat_df0 = pd.DataFrame(vgg_feat)   \n",
    "        vgg_feat_df0.to_csv('vgg_feat_df0.csv', index = False)\n",
    "    except NameError:\n",
    "        vgg_feat = pd.read_csv('vgg_feat_df0.csv')\n",
    "else:\n",
    "    try: \n",
    "        vgg_feat_df1 = pd.DataFrame(vgg_feat)\n",
    "        vgg_feat_df1.to_csv('vgg_feat_df1.csv', index = False)\n",
    "    except NameError:\n",
    "        vgg_feat = pd.read_csv('vgg_feat_df1.csv')"
   ]
  },
  {
   "cell_type": "code",
   "execution_count": 19,
   "id": "dcbe3972-d0df-407d-860d-f45c5cc6e89e",
   "metadata": {
    "execution": {
     "iopub.execute_input": "2023-01-06T17:11:48.587577Z",
     "iopub.status.busy": "2023-01-06T17:11:48.586578Z",
     "iopub.status.idle": "2023-01-06T17:11:56.192876Z",
     "shell.execute_reply": "2023-01-06T17:11:56.192876Z",
     "shell.execute_reply.started": "2023-01-06T17:11:48.586578Z"
    },
    "tags": []
   },
   "outputs": [
    {
     "name": "stderr",
     "output_type": "stream",
     "text": [
      "E:\\Data_Science\\Anaconda\\envs\\tf_gpu\\lib\\site-packages\\sklearn\\cluster\\_kmeans.py:870: FutureWarning: The default value of `n_init` will change from 10 to 'auto' in 1.4. Set the value of `n_init` explicitly to suppress the warning\n",
      "  warnings.warn(\n",
      "E:\\Data_Science\\Anaconda\\envs\\tf_gpu\\lib\\site-packages\\sklearn\\cluster\\_kmeans.py:870: FutureWarning: The default value of `n_init` will change from 10 to 'auto' in 1.4. Set the value of `n_init` explicitly to suppress the warning\n",
      "  warnings.warn(\n"
     ]
    },
    {
     "name": "stdout",
     "output_type": "stream",
     "text": [
      "The ari scores are -0.0003505797013035054 for categorie 0 and -0.002230918430969212 for categorie 1.\n"
     ]
    }
   ],
   "source": [
    "ari_score(vgg_feat)"
   ]
  },
  {
   "cell_type": "code",
   "execution_count": 20,
   "id": "259bf783-2a29-485a-ab6f-04ba15edb903",
   "metadata": {
    "execution": {
     "iopub.execute_input": "2023-01-06T17:12:08.203854Z",
     "iopub.status.busy": "2023-01-06T17:12:08.203854Z",
     "iopub.status.idle": "2023-01-06T17:12:11.980334Z",
     "shell.execute_reply": "2023-01-06T17:12:11.980334Z",
     "shell.execute_reply.started": "2023-01-06T17:12:08.203854Z"
    },
    "tags": []
   },
   "outputs": [
    {
     "name": "stdout",
     "output_type": "stream",
     "text": [
      "(1010, 86)\n",
      "The ari scores are -0.000565106165009664 for categorie 0 and 0.0011011539317291165 for categorie 1.\n"
     ]
    },
    {
     "name": "stderr",
     "output_type": "stream",
     "text": [
      "E:\\Data_Science\\Anaconda\\envs\\tf_gpu\\lib\\site-packages\\sklearn\\cluster\\_kmeans.py:870: FutureWarning: The default value of `n_init` will change from 10 to 'auto' in 1.4. Set the value of `n_init` explicitly to suppress the warning\n",
      "  warnings.warn(\n",
      "E:\\Data_Science\\Anaconda\\envs\\tf_gpu\\lib\\site-packages\\sklearn\\cluster\\_kmeans.py:870: FutureWarning: The default value of `n_init` will change from 10 to 'auto' in 1.4. Set the value of `n_init` explicitly to suppress the warning\n",
      "  warnings.warn(\n"
     ]
    },
    {
     "name": "stdout",
     "output_type": "stream",
     "text": [
      "The ari scores are -0.0013448376942966625 for categorie 0 and -0.0019492472214096162 for categorie 1.\n"
     ]
    },
    {
     "name": "stderr",
     "output_type": "stream",
     "text": [
      "E:\\Data_Science\\Anaconda\\envs\\tf_gpu\\lib\\site-packages\\sklearn\\cluster\\_kmeans.py:870: FutureWarning: The default value of `n_init` will change from 10 to 'auto' in 1.4. Set the value of `n_init` explicitly to suppress the warning\n",
      "  warnings.warn(\n",
      "E:\\Data_Science\\Anaconda\\envs\\tf_gpu\\lib\\site-packages\\sklearn\\cluster\\_kmeans.py:870: FutureWarning: The default value of `n_init` will change from 10 to 'auto' in 1.4. Set the value of `n_init` explicitly to suppress the warning\n",
      "  warnings.warn(\n"
     ]
    }
   ],
   "source": [
    "#let's try to reduce the dimension\n",
    "from sklearn.decomposition import PCA\n",
    "from sklearn.manifold import TSNE\n",
    "#simple linear pca\n",
    "pca = PCA(n_components = 0.99)\n",
    "x_trans = pca.fit_transform(vgg_feat)\n",
    "print(x_trans.shape)\n",
    "ari_score(x_trans)\n",
    "\n",
    "#3d tsne\n",
    "tsne = TSNE(n_components = 2)\n",
    "x_trans2 = tsne.fit_transform(vgg_feat)\n",
    "ari_score(x_trans2)"
   ]
  },
  {
   "cell_type": "code",
   "execution_count": 21,
   "id": "55b88f79-cca5-4c4b-b170-919e0218ab80",
   "metadata": {
    "execution": {
     "iopub.execute_input": "2023-01-06T17:12:16.710317Z",
     "iopub.status.busy": "2023-01-06T17:12:16.709318Z",
     "iopub.status.idle": "2023-01-06T17:12:17.606152Z",
     "shell.execute_reply": "2023-01-06T17:12:17.605145Z",
     "shell.execute_reply.started": "2023-01-06T17:12:16.710317Z"
    },
    "tags": []
   },
   "outputs": [
    {
     "data": {
      "image/png": "[encoded data removed]",
      "text/plain": [
       "<Figure size 2000x2000 with 1 Axes>"
      ]
     },
     "metadata": {},
     "output_type": "display_data"
    }
   ],
   "source": [
    "temp = pd.DataFrame(img_df['labels_1'])\n",
    "temp = temp.join(pd.DataFrame(x_trans2))\n",
    "fig, ax = plt.subplots(figsize=(20, 20))\n",
    "for i in temp['labels_1'].unique():\n",
    "    ax.scatter(temp[0].loc[temp['labels_1'] == i],\n",
    "               temp[1].loc[temp['labels_1'] == i],\n",
    "               label=i\n",
    "               )\n",
    "plt.legend()\n",
    "plt.show()"
   ]
  },
  {
   "cell_type": "markdown",
   "id": "83b61c5f-8178-4b39-9563-774a8ce1daea",
   "metadata": {},
   "source": [
    "## Combining Bert and VGG16"
   ]
  },
  {
   "cell_type": "code",
   "execution_count": 27,
   "id": "3315eb5e-d3db-4e58-a2ae-e2302838cd40",
   "metadata": {
    "execution": {
     "iopub.execute_input": "2023-01-06T15:47:00.005652Z",
     "iopub.status.busy": "2023-01-06T15:47:00.004648Z",
     "iopub.status.idle": "2023-01-06T15:47:00.810222Z",
     "shell.execute_reply": "2023-01-06T15:47:00.810222Z",
     "shell.execute_reply.started": "2023-01-06T15:47:00.005652Z"
    },
    "tags": []
   },
   "outputs": [],
   "source": [
    "vgg_feat_df = pd.read_csv('vgg_feat_df.csv')\n",
    "bert_feat_df = pd.read_csv('features_bert_df.csv')\n"
   ]
  },
  {
   "cell_type": "code",
   "execution_count": 13,
   "id": "b6e16670-fe9d-45bc-855c-7bc0ecd84688",
   "metadata": {
    "execution": {
     "iopub.execute_input": "2023-01-04T12:58:38.790727Z",
     "iopub.status.busy": "2023-01-04T12:58:38.790727Z",
     "iopub.status.idle": "2023-01-04T12:58:38.825725Z",
     "shell.execute_reply": "2023-01-04T12:58:38.825725Z",
     "shell.execute_reply.started": "2023-01-04T12:58:38.790727Z"
    }
   },
   "outputs": [
    {
     "name": "stdout",
     "output_type": "stream",
     "text": [
      "<class 'pandas.core.frame.DataFrame'>\n",
      "RangeIndex: 1010 entries, 0 to 1009\n",
      "Columns: 512 entries, 0 to 511\n",
      "dtypes: float64(512)\n",
      "memory usage: 3.9 MB\n"
     ]
    }
   ],
   "source": [
    "vgg_feat_df.info()"
   ]
  },
  {
   "cell_type": "code",
   "execution_count": 14,
   "id": "d27d1bbb-fd21-40a6-ab92-8ae120a41690",
   "metadata": {
    "execution": {
     "iopub.execute_input": "2023-01-04T12:58:56.677838Z",
     "iopub.status.busy": "2023-01-04T12:58:56.676839Z",
     "iopub.status.idle": "2023-01-04T12:58:56.709863Z",
     "shell.execute_reply": "2023-01-04T12:58:56.709863Z",
     "shell.execute_reply.started": "2023-01-04T12:58:56.677838Z"
    }
   },
   "outputs": [
    {
     "name": "stdout",
     "output_type": "stream",
     "text": [
      "<class 'pandas.core.frame.DataFrame'>\n",
      "RangeIndex: 1008 entries, 0 to 1007\n",
      "Columns: 768 entries, 0 to 767\n",
      "dtypes: float64(768)\n",
      "memory usage: 5.9 MB\n"
     ]
    }
   ],
   "source": [
    "bert_feat_df.info()"
   ]
  },
  {
   "cell_type": "code",
   "execution_count": 30,
   "id": "18e458d4-c929-457b-80d6-677008c06979",
   "metadata": {
    "execution": {
     "iopub.execute_input": "2023-01-06T15:47:20.396548Z",
     "iopub.status.busy": "2023-01-06T15:47:20.395557Z",
     "iopub.status.idle": "2023-01-06T15:47:20.434533Z",
     "shell.execute_reply": "2023-01-06T15:47:20.433532Z",
     "shell.execute_reply.started": "2023-01-06T15:47:20.396548Z"
    },
    "tags": []
   },
   "outputs": [],
   "source": [
    "combine_df = bert_feat_df.join(vgg_feat_df, how = 'left', lsuffix ='Index')"
   ]
  },
  {
   "cell_type": "code",
   "execution_count": 24,
   "id": "2729f8d8-f2ae-43d0-a4f8-d2f53ed3a19c",
   "metadata": {
    "execution": {
     "iopub.execute_input": "2023-01-04T13:01:37.907923Z",
     "iopub.status.busy": "2023-01-04T13:01:37.907923Z",
     "iopub.status.idle": "2023-01-04T13:01:37.950925Z",
     "shell.execute_reply": "2023-01-04T13:01:37.949953Z",
     "shell.execute_reply.started": "2023-01-04T13:01:37.907923Z"
    }
   },
   "outputs": [
    {
     "name": "stdout",
     "output_type": "stream",
     "text": [
      "<class 'pandas.core.frame.DataFrame'>\n",
      "RangeIndex: 1008 entries, 0 to 1007\n",
      "Columns: 1280 entries, 0Index to 511\n",
      "dtypes: float64(1280)\n",
      "memory usage: 9.8 MB\n"
     ]
    }
   ],
   "source": [
    "combine_df.info()"
   ]
  },
  {
   "cell_type": "code",
   "execution_count": 31,
   "id": "3f9dc132-ec8b-4555-a122-724116596b01",
   "metadata": {
    "execution": {
     "iopub.execute_input": "2023-01-06T15:47:22.757890Z",
     "iopub.status.busy": "2023-01-06T15:47:22.756875Z",
     "iopub.status.idle": "2023-01-06T15:47:25.596888Z",
     "shell.execute_reply": "2023-01-06T15:47:25.596888Z",
     "shell.execute_reply.started": "2023-01-06T15:47:22.757890Z"
    },
    "tags": []
   },
   "outputs": [
    {
     "name": "stderr",
     "output_type": "stream",
     "text": [
      "E:\\Data_Science\\Anaconda\\envs\\tf_gpu\\lib\\site-packages\\sklearn\\cluster\\_kmeans.py:870: FutureWarning: The default value of `n_init` will change from 10 to 'auto' in 1.4. Set the value of `n_init` explicitly to suppress the warning\n",
      "  warnings.warn(\n",
      "E:\\Data_Science\\Anaconda\\envs\\tf_gpu\\lib\\site-packages\\sklearn\\cluster\\_kmeans.py:870: FutureWarning: The default value of `n_init` will change from 10 to 'auto' in 1.4. Set the value of `n_init` explicitly to suppress the warning\n",
      "  warnings.warn(\n"
     ]
    },
    {
     "ename": "ValueError",
     "evalue": "Found input variables with inconsistent numbers of samples: [1010, 1008]",
     "output_type": "error",
     "traceback": [
      "\u001b[1;31m---------------------------------------------------------------------------\u001b[0m",
      "\u001b[1;31mValueError\u001b[0m                                Traceback (most recent call last)",
      "Cell \u001b[1;32mIn[31], line 1\u001b[0m\n\u001b[1;32m----> 1\u001b[0m \u001b[43mari_score\u001b[49m\u001b[43m(\u001b[49m\u001b[43mcombine_df\u001b[49m\u001b[43m)\u001b[49m\n",
      "Cell \u001b[1;32mIn[25], line 7\u001b[0m, in \u001b[0;36mari_score\u001b[1;34m(inputs)\u001b[0m\n\u001b[0;32m      5\u001b[0m clus\u001b[38;5;241m.\u001b[39mfit(inputs)\n\u001b[0;32m      6\u001b[0m clus1\u001b[38;5;241m.\u001b[39mfit(inputs)\n\u001b[1;32m----> 7\u001b[0m ari \u001b[38;5;241m=\u001b[39m \u001b[43mmetrics\u001b[49m\u001b[38;5;241;43m.\u001b[39;49m\u001b[43madjusted_rand_score\u001b[49m\u001b[43m(\u001b[49m\u001b[43mnp\u001b[49m\u001b[38;5;241;43m.\u001b[39;49m\u001b[43marray\u001b[49m\u001b[43m(\u001b[49m\u001b[43mimg_df\u001b[49m\u001b[43m[\u001b[49m\u001b[38;5;124;43m'\u001b[39;49m\u001b[38;5;124;43mlabels_0\u001b[39;49m\u001b[38;5;124;43m'\u001b[39;49m\u001b[43m]\u001b[49m\u001b[43m)\u001b[49m\u001b[43m,\u001b[49m\n\u001b[0;32m      8\u001b[0m \u001b[43m                                             \u001b[49m\u001b[43mnp\u001b[49m\u001b[38;5;241;43m.\u001b[39;49m\u001b[43marray\u001b[49m\u001b[43m(\u001b[49m\u001b[43mclus\u001b[49m\u001b[38;5;241;43m.\u001b[39;49m\u001b[43mlabels_\u001b[49m\u001b[43m)\u001b[49m\n\u001b[0;32m      9\u001b[0m \u001b[43m                                             \u001b[49m\u001b[43m)\u001b[49m\n\u001b[0;32m     10\u001b[0m ari1 \u001b[38;5;241m=\u001b[39m metrics\u001b[38;5;241m.\u001b[39madjusted_rand_score(np\u001b[38;5;241m.\u001b[39marray(img_df[\u001b[38;5;124m'\u001b[39m\u001b[38;5;124mlabels_1\u001b[39m\u001b[38;5;124m'\u001b[39m]),\n\u001b[0;32m     11\u001b[0m                                              np\u001b[38;5;241m.\u001b[39marray(clus1\u001b[38;5;241m.\u001b[39mlabels_)\n\u001b[0;32m     12\u001b[0m                                              )\n\u001b[0;32m     13\u001b[0m \u001b[38;5;28mprint\u001b[39m(\u001b[38;5;124m'\u001b[39m\u001b[38;5;124mThe ari scores are \u001b[39m\u001b[38;5;132;01m{}\u001b[39;00m\u001b[38;5;124m for categorie 0 and \u001b[39m\u001b[38;5;132;01m{}\u001b[39;00m\u001b[38;5;124m for categorie 1.\u001b[39m\u001b[38;5;124m'\u001b[39m\u001b[38;5;241m.\u001b[39mformat(ari, ari1))\n",
      "File \u001b[1;32mE:\\Data_Science\\Anaconda\\envs\\tf_gpu\\lib\\site-packages\\sklearn\\metrics\\cluster\\_supervised.py:401\u001b[0m, in \u001b[0;36madjusted_rand_score\u001b[1;34m(labels_true, labels_pred)\u001b[0m\n\u001b[0;32m    310\u001b[0m \u001b[38;5;28;01mdef\u001b[39;00m \u001b[38;5;21madjusted_rand_score\u001b[39m(labels_true, labels_pred):\n\u001b[0;32m    311\u001b[0m     \u001b[38;5;124;03m\"\"\"Rand index adjusted for chance.\u001b[39;00m\n\u001b[0;32m    312\u001b[0m \n\u001b[0;32m    313\u001b[0m \u001b[38;5;124;03m    The Rand Index computes a similarity measure between two clusterings\u001b[39;00m\n\u001b[1;32m   (...)\u001b[0m\n\u001b[0;32m    399\u001b[0m \u001b[38;5;124;03m      -0.5\u001b[39;00m\n\u001b[0;32m    400\u001b[0m \u001b[38;5;124;03m    \"\"\"\u001b[39;00m\n\u001b[1;32m--> 401\u001b[0m     (tn, fp), (fn, tp) \u001b[38;5;241m=\u001b[39m \u001b[43mpair_confusion_matrix\u001b[49m\u001b[43m(\u001b[49m\u001b[43mlabels_true\u001b[49m\u001b[43m,\u001b[49m\u001b[43m \u001b[49m\u001b[43mlabels_pred\u001b[49m\u001b[43m)\u001b[49m\n\u001b[0;32m    402\u001b[0m     \u001b[38;5;66;03m# convert to Python integer types, to avoid overflow or underflow\u001b[39;00m\n\u001b[0;32m    403\u001b[0m     tn, fp, fn, tp \u001b[38;5;241m=\u001b[39m \u001b[38;5;28mint\u001b[39m(tn), \u001b[38;5;28mint\u001b[39m(fp), \u001b[38;5;28mint\u001b[39m(fn), \u001b[38;5;28mint\u001b[39m(tp)\n",
      "File \u001b[1;32mE:\\Data_Science\\Anaconda\\envs\\tf_gpu\\lib\\site-packages\\sklearn\\metrics\\cluster\\_supervised.py:221\u001b[0m, in \u001b[0;36mpair_confusion_matrix\u001b[1;34m(labels_true, labels_pred)\u001b[0m\n\u001b[0;32m    161\u001b[0m \u001b[38;5;28;01mdef\u001b[39;00m \u001b[38;5;21mpair_confusion_matrix\u001b[39m(labels_true, labels_pred):\n\u001b[0;32m    162\u001b[0m     \u001b[38;5;124;03m\"\"\"Pair confusion matrix arising from two clusterings [1]_.\u001b[39;00m\n\u001b[0;32m    163\u001b[0m \n\u001b[0;32m    164\u001b[0m \u001b[38;5;124;03m    The pair confusion matrix :math:`C` computes a 2 by 2 similarity matrix\u001b[39;00m\n\u001b[1;32m   (...)\u001b[0m\n\u001b[0;32m    219\u001b[0m \u001b[38;5;124;03m    Note that the matrix is not symmetric.\u001b[39;00m\n\u001b[0;32m    220\u001b[0m \u001b[38;5;124;03m    \"\"\"\u001b[39;00m\n\u001b[1;32m--> 221\u001b[0m     labels_true, labels_pred \u001b[38;5;241m=\u001b[39m \u001b[43mcheck_clusterings\u001b[49m\u001b[43m(\u001b[49m\u001b[43mlabels_true\u001b[49m\u001b[43m,\u001b[49m\u001b[43m \u001b[49m\u001b[43mlabels_pred\u001b[49m\u001b[43m)\u001b[49m\n\u001b[0;32m    222\u001b[0m     n_samples \u001b[38;5;241m=\u001b[39m np\u001b[38;5;241m.\u001b[39mint64(labels_true\u001b[38;5;241m.\u001b[39mshape[\u001b[38;5;241m0\u001b[39m])\n\u001b[0;32m    224\u001b[0m     \u001b[38;5;66;03m# Computation using the contingency data\u001b[39;00m\n",
      "File \u001b[1;32mE:\\Data_Science\\Anaconda\\envs\\tf_gpu\\lib\\site-packages\\sklearn\\metrics\\cluster\\_supervised.py:71\u001b[0m, in \u001b[0;36mcheck_clusterings\u001b[1;34m(labels_true, labels_pred)\u001b[0m\n\u001b[0;32m     69\u001b[0m \u001b[38;5;28;01mif\u001b[39;00m labels_pred\u001b[38;5;241m.\u001b[39mndim \u001b[38;5;241m!=\u001b[39m \u001b[38;5;241m1\u001b[39m:\n\u001b[0;32m     70\u001b[0m     \u001b[38;5;28;01mraise\u001b[39;00m \u001b[38;5;167;01mValueError\u001b[39;00m(\u001b[38;5;124m\"\u001b[39m\u001b[38;5;124mlabels_pred must be 1D: shape is \u001b[39m\u001b[38;5;132;01m%r\u001b[39;00m\u001b[38;5;124m\"\u001b[39m \u001b[38;5;241m%\u001b[39m (labels_pred\u001b[38;5;241m.\u001b[39mshape,))\n\u001b[1;32m---> 71\u001b[0m \u001b[43mcheck_consistent_length\u001b[49m\u001b[43m(\u001b[49m\u001b[43mlabels_true\u001b[49m\u001b[43m,\u001b[49m\u001b[43m \u001b[49m\u001b[43mlabels_pred\u001b[49m\u001b[43m)\u001b[49m\n\u001b[0;32m     73\u001b[0m \u001b[38;5;28;01mreturn\u001b[39;00m labels_true, labels_pred\n",
      "File \u001b[1;32mE:\\Data_Science\\Anaconda\\envs\\tf_gpu\\lib\\site-packages\\sklearn\\utils\\validation.py:397\u001b[0m, in \u001b[0;36mcheck_consistent_length\u001b[1;34m(*arrays)\u001b[0m\n\u001b[0;32m    395\u001b[0m uniques \u001b[38;5;241m=\u001b[39m np\u001b[38;5;241m.\u001b[39munique(lengths)\n\u001b[0;32m    396\u001b[0m \u001b[38;5;28;01mif\u001b[39;00m \u001b[38;5;28mlen\u001b[39m(uniques) \u001b[38;5;241m>\u001b[39m \u001b[38;5;241m1\u001b[39m:\n\u001b[1;32m--> 397\u001b[0m     \u001b[38;5;28;01mraise\u001b[39;00m \u001b[38;5;167;01mValueError\u001b[39;00m(\n\u001b[0;32m    398\u001b[0m         \u001b[38;5;124m\"\u001b[39m\u001b[38;5;124mFound input variables with inconsistent numbers of samples: \u001b[39m\u001b[38;5;132;01m%r\u001b[39;00m\u001b[38;5;124m\"\u001b[39m\n\u001b[0;32m    399\u001b[0m         \u001b[38;5;241m%\u001b[39m [\u001b[38;5;28mint\u001b[39m(l) \u001b[38;5;28;01mfor\u001b[39;00m l \u001b[38;5;129;01min\u001b[39;00m lengths]\n\u001b[0;32m    400\u001b[0m     )\n",
      "\u001b[1;31mValueError\u001b[0m: Found input variables with inconsistent numbers of samples: [1010, 1008]"
     ]
    }
   ],
   "source": [
    "ari_score(combine_df)"
   ]
  },
  {
   "cell_type": "code",
   "execution_count": 42,
   "id": "7a4d622c-2824-400e-9841-2d2e4bca0ba9",
   "metadata": {
    "execution": {
     "iopub.execute_input": "2023-01-04T13:07:16.939828Z",
     "iopub.status.busy": "2023-01-04T13:07:16.939828Z",
     "iopub.status.idle": "2023-01-04T13:07:17.253210Z",
     "shell.execute_reply": "2023-01-04T13:07:17.253210Z",
     "shell.execute_reply.started": "2023-01-04T13:07:16.939828Z"
    },
    "tags": []
   },
   "outputs": [],
   "source": [
    "from sklearn.decomposition import PCA\n",
    "pca = PCA(n_components = 0.98)\n",
    "x_trans = pca.fit_transform(combine_df)"
   ]
  },
  {
   "cell_type": "code",
   "execution_count": 48,
   "id": "b2ce3bd5-8f6a-4dfc-81cb-19cde4c7f2a0",
   "metadata": {
    "execution": {
     "iopub.execute_input": "2023-01-04T13:10:10.109551Z",
     "iopub.status.busy": "2023-01-04T13:10:10.109551Z",
     "iopub.status.idle": "2023-01-04T13:10:15.573548Z",
     "shell.execute_reply": "2023-01-04T13:10:15.573548Z",
     "shell.execute_reply.started": "2023-01-04T13:10:10.109551Z"
    },
    "tags": []
   },
   "outputs": [
    {
     "name": "stderr",
     "output_type": "stream",
     "text": [
      "E:\\Data_Science\\Anaconda\\lib\\site-packages\\sklearn\\manifold\\_t_sne.py:780: FutureWarning: The default initialization in TSNE will change from 'random' to 'pca' in 1.2.\n",
      "  warnings.warn(\n",
      "E:\\Data_Science\\Anaconda\\lib\\site-packages\\sklearn\\manifold\\_t_sne.py:790: FutureWarning: The default learning rate in TSNE will change from 200.0 to 'auto' in 1.2.\n",
      "  warnings.warn(\n"
     ]
    }
   ],
   "source": [
    "from sklearn.manifold import TSNE\n",
    "tsne = TSNE(n_components = 3)\n",
    "x_trans2 = tsne.fit_transform(combine_df)"
   ]
  },
  {
   "cell_type": "code",
   "execution_count": 49,
   "id": "3ee05706-1e30-4de4-b038-e86cad2eecc2",
   "metadata": {
    "execution": {
     "iopub.execute_input": "2023-01-04T13:10:26.962768Z",
     "iopub.status.busy": "2023-01-04T13:10:26.962768Z",
     "iopub.status.idle": "2023-01-04T13:10:27.166763Z",
     "shell.execute_reply": "2023-01-04T13:10:27.166763Z",
     "shell.execute_reply.started": "2023-01-04T13:10:26.962768Z"
    },
    "tags": []
   },
   "outputs": [
    {
     "name": "stdout",
     "output_type": "stream",
     "text": [
      "The ari scores are -0.00046439316942516255 for categorie 0 and 0.00045234319704557437 for categorie 1.\n"
     ]
    }
   ],
   "source": [
    "ari_score(x_trans2)"
   ]
  },
  {
   "cell_type": "code",
   "execution_count": 50,
   "id": "fe80bdba-6ba6-48eb-abab-40eafc903988",
   "metadata": {
    "execution": {
     "iopub.execute_input": "2023-01-04T13:10:33.333601Z",
     "iopub.status.busy": "2023-01-04T13:10:33.333601Z",
     "iopub.status.idle": "2023-01-04T13:10:33.341596Z",
     "shell.execute_reply": "2023-01-04T13:10:33.341596Z",
     "shell.execute_reply.started": "2023-01-04T13:10:33.333601Z"
    },
    "tags": []
   },
   "outputs": [
    {
     "data": {
      "text/plain": [
       "(1008, 3)"
      ]
     },
     "execution_count": 50,
     "metadata": {},
     "output_type": "execute_result"
    }
   ],
   "source": [
    "x_trans2.shape"
   ]
  },
  {
   "cell_type": "code",
   "execution_count": null,
   "id": "bc1dd7a7-7ece-45d3-8156-18130e8cff17",
   "metadata": {},
   "outputs": [],
   "source": []
  }
 ],
 "metadata": {
  "kernelspec": {
   "display_name": "Python 3 (ipykernel)",
   "language": "python",
   "name": "python3"
  },
  "language_info": {
   "codemirror_mode": {
    "name": "ipython",
    "version": 3
   },
   "file_extension": ".py",
   "mimetype": "text/x-python",
   "name": "python",
   "nbconvert_exporter": "python",
   "pygments_lexer": "ipython3",
   "version": "3.9.15"
  }
 },
 "nbformat": 4,
 "nbformat_minor": 5
}
