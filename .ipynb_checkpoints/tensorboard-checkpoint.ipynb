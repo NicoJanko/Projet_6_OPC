{
 "cells": [
  {
   "cell_type": "code",
   "execution_count": 1,
   "id": "af962ee3-92ec-4cb8-af22-f9bc8bf3824e",
   "metadata": {
    "execution": {
     "iopub.execute_input": "2023-01-07T10:33:30.767873Z",
     "iopub.status.busy": "2023-01-07T10:33:30.767873Z",
     "iopub.status.idle": "2023-01-07T10:33:37.335954Z",
     "shell.execute_reply": "2023-01-07T10:33:37.331947Z",
     "shell.execute_reply.started": "2023-01-07T10:33:30.767873Z"
    },
    "tags": []
   },
   "outputs": [],
   "source": [
    "import tensorflow as tf"
   ]
  },
  {
   "cell_type": "code",
   "execution_count": 2,
   "id": "56902866-b88a-46a4-b59c-5e84a7e620fa",
   "metadata": {
    "execution": {
     "iopub.execute_input": "2023-01-07T10:33:38.845570Z",
     "iopub.status.busy": "2023-01-07T10:33:38.844570Z",
     "iopub.status.idle": "2023-01-07T10:33:38.871571Z",
     "shell.execute_reply": "2023-01-07T10:33:38.871571Z",
     "shell.execute_reply.started": "2023-01-07T10:33:38.844570Z"
    },
    "tags": []
   },
   "outputs": [],
   "source": [
    "%load_ext tensorboard"
   ]
  },
  {
   "cell_type": "code",
   "execution_count": 13,
   "id": "e7683363-5a66-4741-8613-d9654e47c4e2",
   "metadata": {
    "execution": {
     "iopub.execute_input": "2023-01-07T10:42:38.717850Z",
     "iopub.status.busy": "2023-01-07T10:42:38.717850Z",
     "iopub.status.idle": "2023-01-07T10:42:38.733875Z",
     "shell.execute_reply": "2023-01-07T10:42:38.733875Z",
     "shell.execute_reply.started": "2023-01-07T10:42:38.717850Z"
    },
    "tags": []
   },
   "outputs": [],
   "source": [
    "path = 'E:/Data_Science/OpenClassRoom/Projet 6/Projet_6/model_logs/train'"
   ]
  },
  {
   "cell_type": "code",
   "execution_count": 18,
   "id": "188c55ad-8e6b-4cc6-982f-a35097b8a9d1",
   "metadata": {
    "execution": {
     "iopub.execute_input": "2023-01-07T10:45:31.695667Z",
     "iopub.status.busy": "2023-01-07T10:45:31.694668Z",
     "iopub.status.idle": "2023-01-07T10:45:36.309146Z",
     "shell.execute_reply": "2023-01-07T10:45:36.308144Z",
     "shell.execute_reply.started": "2023-01-07T10:45:31.695667Z"
    },
    "tags": []
   },
   "outputs": [
    {
     "data": {
      "text/plain": [
       "ERROR: Failed to launch TensorBoard (exited with 0).\n",
       "Contents of stdout:\n",
       "======================================================================\n",
       "Processing event files... (this can take a few minutes)\n",
       "======================================================================\n",
       "\n",
       "Found event files in:\n",
       "model_logs/train\n",
       "\n",
       "These tags are in model_logs/train:\n",
       "audio -\n",
       "histograms -\n",
       "images -\n",
       "scalars -\n",
       "tensor\n",
       "   block1_conv1/bias_0/histogram\n",
       "   block1_conv1/kernel_0/histogram\n",
       "   block1_conv2/bias_0/histogram\n",
       "   block1_conv2/kernel_0/histogram\n",
       "   block2_conv1/bias_0/histogram\n",
       "   block2_conv1/kernel_0/histogram\n",
       "   block2_conv2/bias_0/histogram\n",
       "   block2_conv2/kernel_0/histogram\n",
       "   block3_conv1/bias_0/histogram\n",
       "   block3_conv1/kernel_0/histogram\n",
       "   block3_conv2/bias_0/histogram\n",
       "   block3_conv2/kernel_0/histogram\n",
       "   block3_conv3/bias_0/histogram\n",
       "   block3_conv3/kernel_0/histogram\n",
       "   block4_conv1/bias_0/histogram\n",
       "   block4_conv1/kernel_0/histogram\n",
       "   block4_conv2/bias_0/histogram\n",
       "   block4_conv2/kernel_0/histogram\n",
       "   block4_conv3/bias_0/histogram\n",
       "   block4_conv3/kernel_0/histogram\n",
       "   block5_conv1/bias_0/histogram\n",
       "   block5_conv1/kernel_0/histogram\n",
       "   block5_conv2/bias_0/histogram\n",
       "   block5_conv2/kernel_0/histogram\n",
       "   block5_conv3/bias_0/histogram\n",
       "   block5_conv3/kernel_0/histogram\n",
       "   dense/bias_0/histogram\n",
       "   dense/kernel_0/histogram\n",
       "   dense_1/bias_0/histogram\n",
       "   dense_1/kernel_0/histogram\n",
       "   epoch_accuracy\n",
       "   epoch_loss\n",
       "   features/bias_0/histogram\n",
       "   features/kernel_0/histogram\n",
       "   keras\n",
       "======================================================================\n",
       "\n",
       "Event statistics for model_logs/train:\n",
       "audio -\n",
       "graph -\n",
       "histograms -\n",
       "images -\n",
       "scalars -\n",
       "sessionlog:checkpoint -\n",
       "sessionlog:start -\n",
       "sessionlog:stop -\n",
       "tensor\n",
       "   first_step           0\n",
       "   last_step            9\n",
       "   max_step             9\n",
       "   min_step             0\n",
       "   num_steps            10\n",
       "   outoforder_steps     []\n",
       "======================================================================"
      ]
     },
     "metadata": {},
     "output_type": "display_data"
    }
   ],
   "source": [
    "tensorboard --inspect --logdir model_logs/train"
   ]
  },
  {
   "cell_type": "code",
   "execution_count": 19,
   "id": "05e7e66b-1357-4572-a85f-224cce7a1f36",
   "metadata": {
    "execution": {
     "iopub.execute_input": "2023-01-07T10:45:55.457009Z",
     "iopub.status.busy": "2023-01-07T10:45:55.457009Z",
     "iopub.status.idle": "2023-01-07T10:46:00.058735Z",
     "shell.execute_reply": "2023-01-07T10:46:00.057772Z",
     "shell.execute_reply.started": "2023-01-07T10:45:55.457009Z"
    },
    "tags": []
   },
   "outputs": [
    {
     "data": {
      "text/html": [
       "\n",
       "      <iframe id=\"tensorboard-frame-edae89b4be4ec69f\" width=\"100%\" height=\"800\" frameborder=\"0\">\n",
       "      </iframe>\n",
       "      <script>\n",
       "        (function() {\n",
       "          const frame = document.getElementById(\"tensorboard-frame-edae89b4be4ec69f\");\n",
       "          const url = new URL(\"/\", window.location);\n",
       "          const port = 6006;\n",
       "          if (port) {\n",
       "            url.port = port;\n",
       "          }\n",
       "          frame.src = url;\n",
       "        })();\n",
       "      </script>\n",
       "    "
      ],
      "text/plain": [
       "<IPython.core.display.HTML object>"
      ]
     },
     "metadata": {},
     "output_type": "display_data"
    }
   ],
   "source": [
    "%tensorboard --logdir model_logs/train --host localhost"
   ]
  },
  {
   "cell_type": "code",
   "execution_count": null,
   "id": "b744cc53-548a-414f-9b9c-056fb9b63c47",
   "metadata": {},
   "outputs": [],
   "source": []
  }
 ],
 "metadata": {
  "kernelspec": {
   "display_name": "Python 3 (ipykernel)",
   "language": "python",
   "name": "python3"
  },
  "language_info": {
   "codemirror_mode": {
    "name": "ipython",
    "version": 3
   },
   "file_extension": ".py",
   "mimetype": "text/x-python",
   "name": "python",
   "nbconvert_exporter": "python",
   "pygments_lexer": "ipython3",
   "version": "3.9.15"
  }
 },
 "nbformat": 4,
 "nbformat_minor": 5
}
