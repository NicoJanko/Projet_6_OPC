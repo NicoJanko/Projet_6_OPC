{
 "cells": [
  {
   "cell_type": "code",
   "execution_count": 7,
   "id": "e642e6a0-4a79-4269-9e28-87a512638d74",
   "metadata": {
    "execution": {
     "iopub.execute_input": "2023-01-03T09:03:12.700086Z",
     "iopub.status.busy": "2023-01-03T09:03:12.699090Z",
     "iopub.status.idle": "2023-01-03T09:05:52.414120Z",
     "shell.execute_reply": "2023-01-03T09:05:52.412153Z",
     "shell.execute_reply.started": "2023-01-03T09:03:12.700086Z"
    },
    "tags": []
   },
   "outputs": [
    {
     "name": "stdout",
     "output_type": "stream",
     "text": [
      "Downloading data from https://storage.googleapis.com/tensorflow/keras-applications/vgg19/vgg19_weights_tf_dim_ordering_tf_kernels.h5\n",
      "574710816/574710816 [==============================] - 157s 0us/step\n",
      "1/1 [==============================] - 0s 194ms/step\n"
     ]
    }
   ],
   "source": [
    "import tensorflow as tf\n",
    "from keras.applications.vgg19 import preprocess_input\n",
    "from keras.applications.vgg19 import VGG19\n",
    "from keras.applications.vgg19 import decode_predictions\n",
    "import os\n",
    "\n",
    "model = VGG19(weights = )\n",
    "path = 'E:\\\\Data_Science\\\\OpenClassRoom\\\\Projet 6\\\\Flipkart\\\\Images'\n",
    "image = '17611e6e94d73ef376834e5c6ee03dde.jpg'\n",
    "img = tf.keras.utils.load_img(os.path.join(path, image), target_size=(224, 224))  \n",
    "img = tf.keras.utils.img_to_array(img)  \n",
    "img = img.reshape((1, img.shape[0], img.shape[1], img.shape[2]))  \n",
    "img = preprocess_input(img)\n",
    "\n",
    "y = model.predict(img)\n",
    "\n",
    "\n"
   ]
  },
  {
   "cell_type": "code",
   "execution_count": 9,
   "id": "5e9d31a3-d354-40ca-95a6-e1d05900b9a2",
   "metadata": {
    "execution": {
     "iopub.execute_input": "2023-01-03T09:06:45.592462Z",
     "iopub.status.busy": "2023-01-03T09:06:45.592462Z",
     "iopub.status.idle": "2023-01-03T09:06:45.610463Z",
     "shell.execute_reply": "2023-01-03T09:06:45.609462Z",
     "shell.execute_reply.started": "2023-01-03T09:06:45.592462Z"
    },
    "tags": []
   },
   "outputs": [
    {
     "name": "stdout",
     "output_type": "stream",
     "text": [
      "Top 3 : [('n04141975', 'scale', 0.22316529), ('n03916031', 'perfume', 0.16879027), ('n03602883', 'joystick', 0.068885855)]\n"
     ]
    }
   ],
   "source": [
    "print('Top 3 :', decode_predictions(y, top=3)[0])"
   ]
  },
  {
   "cell_type": "code",
   "execution_count": null,
   "id": "93939e53-3095-4bed-b778-7a1357f0f692",
   "metadata": {},
   "outputs": [],
   "source": []
  }
 ],
 "metadata": {
  "kernelspec": {
   "display_name": "Python 3 (ipykernel)",
   "language": "python",
   "name": "python3"
  },
  "language_info": {
   "codemirror_mode": {
    "name": "ipython",
    "version": 3
   },
   "file_extension": ".py",
   "mimetype": "text/x-python",
   "name": "python",
   "nbconvert_exporter": "python",
   "pygments_lexer": "ipython3",
   "version": "3.9.15"
  }
 },
 "nbformat": 4,
 "nbformat_minor": 5
}
